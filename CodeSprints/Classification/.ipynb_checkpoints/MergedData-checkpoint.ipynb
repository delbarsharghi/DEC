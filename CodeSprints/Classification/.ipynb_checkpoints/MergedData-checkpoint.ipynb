{
 "cells": [
  {
   "cell_type": "code",
   "execution_count": 41,
   "id": "e761e8da",
   "metadata": {},
   "outputs": [],
   "source": [
    "import pandas as pd\n",
    "import numpy as np"
   ]
  },
  {
   "cell_type": "code",
   "execution_count": 42,
   "id": "e815c109",
   "metadata": {},
   "outputs": [
    {
     "data": {
      "text/plain": [
       "'C:\\\\Users\\\\SarShel\\\\DEC\\\\Classification'"
      ]
     },
     "execution_count": 42,
     "metadata": {},
     "output_type": "execute_result"
    }
   ],
   "source": [
    "import os\n",
    "os.getcwd()"
   ]
  },
  {
   "cell_type": "code",
   "execution_count": 43,
   "id": "e9178b07",
   "metadata": {},
   "outputs": [
    {
     "data": {
      "text/plain": [
       "'C:\\\\Users\\\\SarShel\\\\DEC\\\\Classification'"
      ]
     },
     "execution_count": 43,
     "metadata": {},
     "output_type": "execute_result"
    }
   ],
   "source": [
    "os.chdir('C:\\\\Users\\\\SarShel\\\\DEC\\\\Classification')\n",
    "os.getcwd()"
   ]
  },
  {
   "cell_type": "code",
   "execution_count": 44,
   "id": "4ac3f4c4",
   "metadata": {},
   "outputs": [
    {
     "name": "stdout",
     "output_type": "stream",
     "text": [
      "             Lake Name          Y          X       Date  Year  Month  Day  \\\n",
      "0     Little Long Pond  40.977600 -72.296204   6/4/2016  2016      6    4   \n",
      "1       Cossayuna Lake  43.200600 -73.423401   6/3/2016  2016      6    3   \n",
      "2           Hatch Lake  42.834598 -75.677803   6/5/2016  2016      6    5   \n",
      "3      Montgomery Lake  41.525299 -74.917297   6/4/2016  2016      6    4   \n",
      "4        Lake Devenoge  41.521000 -74.839401   6/4/2016  2016      6    4   \n",
      "...                ...        ...        ...        ...   ...    ...  ...   \n",
      "6070         Long Pond  40.975102 -72.290802  7/26/2020  2020      7   26   \n",
      "6071         Long Pond  40.975102 -72.290802   8/9/2020  2020      8    9   \n",
      "6072         Long Pond  40.975102 -72.290802  8/23/2020  2020      8   23   \n",
      "6073         Long Pond  40.975102 -72.290802   9/7/2020  2020      9    7   \n",
      "6074         Long Pond  40.975102 -72.290802  9/20/2020  2020      9   20   \n",
      "\n",
      "      Chl-a(ug/l)  \n",
      "0           1.200  \n",
      "1           0.600  \n",
      "2           2.900  \n",
      "3           2.900  \n",
      "4           1.300  \n",
      "...           ...  \n",
      "6070        8.168  \n",
      "6071        9.048  \n",
      "6072       13.088  \n",
      "6073        7.778  \n",
      "6074       11.076  \n",
      "\n",
      "[6037 rows x 8 columns]\n"
     ]
    }
   ],
   "source": [
    "# Read chl dataset \n",
    "Data_chl0 = pd.read_csv('data_raw/chl.csv')\n",
    "\n",
    "# Remove none values\n",
    "Data_chl = Data_chl0.dropna()\n",
    "\n",
    "# Display the first few rows of our DataFrame\n",
    "print(Data_chl)"
   ]
  },
  {
   "cell_type": "code",
   "execution_count": 45,
   "id": "f6f7a2bb",
   "metadata": {},
   "outputs": [
    {
     "name": "stdout",
     "output_type": "stream",
     "text": [
      "             Lake Name          Y          X       Date    Year  Month   Day  \\\n",
      "0     Little Long Pond  40.977600 -72.296204   6/4/2016  2016.0    6.0   4.0   \n",
      "1       Cossayuna Lake  43.200600 -73.423401   6/3/2016  2016.0    6.0   3.0   \n",
      "2           Hatch Lake  42.834598 -75.677803   6/5/2016  2016.0    6.0   5.0   \n",
      "3      Montgomery Lake  41.525299 -74.917297   6/4/2016  2016.0    6.0   4.0   \n",
      "4        Lake Devenoge  41.521000 -74.839401   6/4/2016  2016.0    6.0   4.0   \n",
      "...                ...        ...        ...        ...     ...    ...   ...   \n",
      "4883         Long Pond  40.975102 -72.290802  7/26/2020  2020.0    7.0  26.0   \n",
      "4884         Long Pond  40.975102 -72.290802   8/9/2020  2020.0    8.0   9.0   \n",
      "4885         Long Pond  40.975102 -72.290802  8/23/2020  2020.0    8.0  23.0   \n",
      "4886         Long Pond  40.975102 -72.290802   9/7/2020  2020.0    9.0   7.0   \n",
      "4887         Long Pond  40.975102 -72.290802  9/20/2020  2020.0    9.0  20.0   \n",
      "\n",
      "     Phos (mg/l)  \n",
      "0         0.0132  \n",
      "1         0.0092  \n",
      "2         0.0109  \n",
      "3         0.0092  \n",
      "4         0.0086  \n",
      "...          ...  \n",
      "4883      0.0243  \n",
      "4884      0.0266  \n",
      "4885     0.00585  \n",
      "4886      0.0298  \n",
      "4887      0.0288  \n",
      "\n",
      "[4828 rows x 8 columns]\n"
     ]
    }
   ],
   "source": [
    "# Read phos dataset \n",
    "Data_phos0 = pd.read_csv('data_raw/phos.csv')\n",
    "\n",
    "# Remove none values\n",
    "Data_phos = Data_phos0.dropna()\n",
    "\n",
    "# Display the first few rows of our DataFrame\n",
    "Data_phos.head()\n",
    "print(Data_phos)"
   ]
  },
  {
   "cell_type": "code",
   "execution_count": 46,
   "id": "9ad0dac1",
   "metadata": {},
   "outputs": [
    {
     "name": "stdout",
     "output_type": "stream",
     "text": [
      "             Lake Name          Y          X       Date  Year  Month  Day  \\\n",
      "0     Little Long Pond  40.977600 -72.296204   6/4/2016  2016      6    4   \n",
      "1           Hatch Lake  42.834598 -75.677803   6/5/2016  2016      6    5   \n",
      "2      Montgomery Lake  41.525299 -74.917297   6/4/2016  2016      6    4   \n",
      "3            Dean Pond  42.447700 -76.003403   6/4/2016  2016      6    4   \n",
      "4      Chautauqua Lake  42.219885 -79.455423   6/5/2016  2016      6    5   \n",
      "...                ...        ...        ...        ...   ...    ...  ...   \n",
      "6014         Long Pond  40.975102 -72.290802  7/12/2020  2020      7   12   \n",
      "6015         Long Pond  40.975102 -72.290802  7/26/2020  2020      7   26   \n",
      "6016         Long Pond  40.975102 -72.290802   8/9/2020  2020      8    9   \n",
      "6017         Long Pond  40.975102 -72.290802  8/23/2020  2020      8   23   \n",
      "6018         Long Pond  40.975102 -72.290802   9/7/2020  2020      9    7   \n",
      "\n",
      "      SDD (m)  \n",
      "0        2.90  \n",
      "1        8.05  \n",
      "2        3.80  \n",
      "3        1.00  \n",
      "4        2.00  \n",
      "...       ...  \n",
      "6014     1.20  \n",
      "6015     1.40  \n",
      "6016     1.15  \n",
      "6017     1.35  \n",
      "6018     1.10  \n",
      "\n",
      "[6018 rows x 8 columns]\n"
     ]
    }
   ],
   "source": [
    "# Read SDD dataset \n",
    "Data_sdd0 = pd.read_csv('data_raw/sdd.csv')\n",
    "\n",
    "# Remove none values\n",
    "Data_sdd = Data_sdd0.dropna()\n",
    "\n",
    "# Display the first few rows of our DataFrame\n",
    "Data_sdd.head()\n",
    "print(Data_sdd)"
   ]
  },
  {
   "cell_type": "code",
   "execution_count": 47,
   "id": "51958282",
   "metadata": {},
   "outputs": [
    {
     "name": "stdout",
     "output_type": "stream",
     "text": [
      "             Lake Name          Y          X       Date  Year  Month  Day  \\\n",
      "0     Little Long Pond  40.977600 -72.296204   6/4/2016  2016      6    4   \n",
      "1           Hatch Lake  42.834598 -75.677803   6/5/2016  2016      6    5   \n",
      "2      Montgomery Lake  41.525299 -74.917297   6/4/2016  2016      6    4   \n",
      "3            Dean Pond  42.447700 -76.003403   6/4/2016  2016      6    4   \n",
      "4      Chautauqua Lake  42.219885 -79.455423   6/5/2016  2016      6    5   \n",
      "...                ...        ...        ...        ...   ...    ...  ...   \n",
      "5895         Long Pond  40.975102 -72.290802  7/12/2020  2020      7   12   \n",
      "5896         Long Pond  40.975102 -72.290802  7/26/2020  2020      7   26   \n",
      "5897         Long Pond  40.975102 -72.290802   8/9/2020  2020      8    9   \n",
      "5898         Long Pond  40.975102 -72.290802  8/23/2020  2020      8   23   \n",
      "5899         Long Pond  40.975102 -72.290802   9/7/2020  2020      9    7   \n",
      "\n",
      "      Chl-a(ug/l)  SDD (m)  \n",
      "0           1.200     2.90  \n",
      "1           2.900     8.05  \n",
      "2           2.900     3.80  \n",
      "3          16.600     1.00  \n",
      "4           2.000     2.00  \n",
      "...           ...      ...  \n",
      "5895        5.248     1.20  \n",
      "5896        8.168     1.40  \n",
      "5897        9.048     1.15  \n",
      "5898       13.088     1.35  \n",
      "5899        7.778     1.10  \n",
      "\n",
      "[5900 rows x 9 columns]\n"
     ]
    }
   ],
   "source": [
    "Merged_chl_sdd = pd.merge(Data_chl, Data_sdd, on=['Y', 'X', 'Year', 'Month', 'Day','Lake Name', 'Date'], how='inner')\n",
    "Merged_chl_sdd.to_csv('data_output/Merged_chl_sdd.csv')\n",
    "\n",
    "# displaying result\n",
    "print(Merged_chl_sdd)"
   ]
  },
  {
   "cell_type": "code",
   "execution_count": 48,
   "id": "5fd22c60",
   "metadata": {},
   "outputs": [
    {
     "name": "stdout",
     "output_type": "stream",
     "text": [
      "             Lake Name          Y          X       Date  Year  Month  Day  \\\n",
      "0     Little Long Pond  40.977600 -72.296204   6/4/2016  2016      6    4   \n",
      "1           Hatch Lake  42.834598 -75.677803   6/5/2016  2016      6    5   \n",
      "2      Montgomery Lake  41.525299 -74.917297   6/4/2016  2016      6    4   \n",
      "3            Dean Pond  42.447700 -76.003403   6/4/2016  2016      6    4   \n",
      "4      Chautauqua Lake  42.219885 -79.455423   6/5/2016  2016      6    5   \n",
      "...                ...        ...        ...        ...   ...    ...  ...   \n",
      "4599         Long Pond  40.975102 -72.290802  7/12/2020  2020      7   12   \n",
      "4600         Long Pond  40.975102 -72.290802  7/26/2020  2020      7   26   \n",
      "4601         Long Pond  40.975102 -72.290802   8/9/2020  2020      8    9   \n",
      "4602         Long Pond  40.975102 -72.290802  8/23/2020  2020      8   23   \n",
      "4603         Long Pond  40.975102 -72.290802   9/7/2020  2020      9    7   \n",
      "\n",
      "      Chl-a(ug/l)  SDD (m) Phos (mg/l)  \n",
      "0           1.200     2.90      0.0132  \n",
      "1           2.900     8.05      0.0109  \n",
      "2           2.900     3.80      0.0092  \n",
      "3          16.600     1.00      0.0446  \n",
      "4           2.000     2.00      0.0278  \n",
      "...           ...      ...         ...  \n",
      "4599        5.248     1.20      0.0183  \n",
      "4600        8.168     1.40      0.0243  \n",
      "4601        9.048     1.15      0.0266  \n",
      "4602       13.088     1.35     0.00585  \n",
      "4603        7.778     1.10      0.0298  \n",
      "\n",
      "[4604 rows x 10 columns]\n"
     ]
    }
   ],
   "source": [
    "Merged_Field_Data = pd.merge(Merged_chl_sdd, Data_phos, on=['Y', 'X', 'Year', 'Month', 'Day', 'Lake Name', 'Date'], how='inner')\n",
    "Merged_Field_Data.to_csv('data_output/Merged_Field_Data.csv')\n",
    "\n",
    "# displaying result\n",
    "print(Merged_Field_Data)"
   ]
  },
  {
   "cell_type": "code",
   "execution_count": null,
   "id": "41474424",
   "metadata": {},
   "outputs": [],
   "source": []
  },
  {
   "cell_type": "code",
   "execution_count": null,
   "id": "091b86d1",
   "metadata": {},
   "outputs": [],
   "source": []
  }
 ],
 "metadata": {
  "kernelspec": {
   "display_name": "Python 3 (ipykernel)",
   "language": "python",
   "name": "python3"
  },
  "language_info": {
   "codemirror_mode": {
    "name": "ipython",
    "version": 3
   },
   "file_extension": ".py",
   "mimetype": "text/x-python",
   "name": "python",
   "nbconvert_exporter": "python",
   "pygments_lexer": "ipython3",
   "version": "3.7.11"
  }
 },
 "nbformat": 4,
 "nbformat_minor": 5
}
