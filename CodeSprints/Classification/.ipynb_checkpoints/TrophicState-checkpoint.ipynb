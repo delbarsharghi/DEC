{
 "cells": [
  {
   "cell_type": "code",
   "execution_count": 53,
   "id": "e761e8da",
   "metadata": {},
   "outputs": [],
   "source": [
    "import pandas as pd\n",
    "import numpy as np"
   ]
  },
  {
   "cell_type": "code",
   "execution_count": 54,
   "id": "e815c109",
   "metadata": {},
   "outputs": [
    {
     "data": {
      "text/plain": [
       "'C:\\\\Users\\\\SarShel\\\\DEC\\\\Classification'"
      ]
     },
     "execution_count": 54,
     "metadata": {},
     "output_type": "execute_result"
    }
   ],
   "source": [
    "import os\n",
    "os.getcwd()"
   ]
  },
  {
   "cell_type": "code",
   "execution_count": 55,
   "id": "e9178b07",
   "metadata": {},
   "outputs": [
    {
     "data": {
      "text/plain": [
       "'C:\\\\Users\\\\SarShel\\\\DEC\\\\Classification'"
      ]
     },
     "execution_count": 55,
     "metadata": {},
     "output_type": "execute_result"
    }
   ],
   "source": [
    "os.chdir('C:\\\\Users\\\\SarShel\\\\DEC\\\\Classification')\n",
    "os.getcwd()"
   ]
  },
  {
   "cell_type": "code",
   "execution_count": 56,
   "id": "4ac3f4c4",
   "metadata": {},
   "outputs": [
    {
     "name": "stdout",
     "output_type": "stream",
     "text": [
      "             Lake Name          Y          X       Date  Year  Month  Day  \\\n",
      "0     Little Long Pond  40.977600 -72.296204   6/4/2016  2016      6    4   \n",
      "1       Cossayuna Lake  43.200600 -73.423401   6/3/2016  2016      6    3   \n",
      "2           Hatch Lake  42.834598 -75.677803   6/5/2016  2016      6    5   \n",
      "3      Montgomery Lake  41.525299 -74.917297   6/4/2016  2016      6    4   \n",
      "4        Lake Devenoge  41.521000 -74.839401   6/4/2016  2016      6    4   \n",
      "...                ...        ...        ...        ...   ...    ...  ...   \n",
      "6070         Long Pond  40.975102 -72.290802  7/26/2020  2020      7   26   \n",
      "6071         Long Pond  40.975102 -72.290802   8/9/2020  2020      8    9   \n",
      "6072         Long Pond  40.975102 -72.290802  8/23/2020  2020      8   23   \n",
      "6073         Long Pond  40.975102 -72.290802   9/7/2020  2020      9    7   \n",
      "6074         Long Pond  40.975102 -72.290802  9/20/2020  2020      9   20   \n",
      "\n",
      "      Chl-a(ug/l)  \n",
      "0           1.200  \n",
      "1           0.600  \n",
      "2           2.900  \n",
      "3           2.900  \n",
      "4           1.300  \n",
      "...           ...  \n",
      "6070        8.168  \n",
      "6071        9.048  \n",
      "6072       13.088  \n",
      "6073        7.778  \n",
      "6074       11.076  \n",
      "\n",
      "[6037 rows x 8 columns]\n"
     ]
    }
   ],
   "source": [
    "# Read chl dataset \n",
    "Data_chl0 = pd.read_csv('data_raw/chl.csv')\n",
    "\n",
    "# Remove none values\n",
    "Data_chl = Data_chl0.dropna()\n",
    "\n",
    "# Display the first few rows of our DataFrame\n",
    "print(Data_chl)"
   ]
  },
  {
   "cell_type": "code",
   "execution_count": 57,
   "id": "f6f7a2bb",
   "metadata": {},
   "outputs": [
    {
     "name": "stdout",
     "output_type": "stream",
     "text": [
      "             Lake Name          Y          X       Date    Year  Month   Day  \\\n",
      "0     Little Long Pond  40.977600 -72.296204   6/4/2016  2016.0    6.0   4.0   \n",
      "1       Cossayuna Lake  43.200600 -73.423401   6/3/2016  2016.0    6.0   3.0   \n",
      "2           Hatch Lake  42.834598 -75.677803   6/5/2016  2016.0    6.0   5.0   \n",
      "3      Montgomery Lake  41.525299 -74.917297   6/4/2016  2016.0    6.0   4.0   \n",
      "4        Lake Devenoge  41.521000 -74.839401   6/4/2016  2016.0    6.0   4.0   \n",
      "...                ...        ...        ...        ...     ...    ...   ...   \n",
      "4883         Long Pond  40.975102 -72.290802  7/26/2020  2020.0    7.0  26.0   \n",
      "4884         Long Pond  40.975102 -72.290802   8/9/2020  2020.0    8.0   9.0   \n",
      "4885         Long Pond  40.975102 -72.290802  8/23/2020  2020.0    8.0  23.0   \n",
      "4886         Long Pond  40.975102 -72.290802   9/7/2020  2020.0    9.0   7.0   \n",
      "4887         Long Pond  40.975102 -72.290802  9/20/2020  2020.0    9.0  20.0   \n",
      "\n",
      "     Phos (mg/l)  \n",
      "0         0.0132  \n",
      "1         0.0092  \n",
      "2         0.0109  \n",
      "3         0.0092  \n",
      "4         0.0086  \n",
      "...          ...  \n",
      "4883      0.0243  \n",
      "4884      0.0266  \n",
      "4885     0.00585  \n",
      "4886      0.0298  \n",
      "4887      0.0288  \n",
      "\n",
      "[4828 rows x 8 columns]\n"
     ]
    }
   ],
   "source": [
    "# Read phos dataset \n",
    "Data_phos0 = pd.read_csv('data_raw/phos.csv')\n",
    "\n",
    "# Remove none values\n",
    "Data_phos = Data_phos0.dropna()\n",
    "\n",
    "# Display the first few rows of our DataFrame\n",
    "Data_phos.head()\n",
    "print(Data_phos)"
   ]
  },
  {
   "cell_type": "code",
   "execution_count": 58,
   "id": "9ad0dac1",
   "metadata": {},
   "outputs": [
    {
     "name": "stdout",
     "output_type": "stream",
     "text": [
      "             Lake Name          Y          X       Date  Year  Month  Day  \\\n",
      "0     Little Long Pond  40.977600 -72.296204   6/4/2016  2016      6    4   \n",
      "1           Hatch Lake  42.834598 -75.677803   6/5/2016  2016      6    5   \n",
      "2      Montgomery Lake  41.525299 -74.917297   6/4/2016  2016      6    4   \n",
      "3            Dean Pond  42.447700 -76.003403   6/4/2016  2016      6    4   \n",
      "4      Chautauqua Lake  42.219885 -79.455423   6/5/2016  2016      6    5   \n",
      "...                ...        ...        ...        ...   ...    ...  ...   \n",
      "6014         Long Pond  40.975102 -72.290802  7/12/2020  2020      7   12   \n",
      "6015         Long Pond  40.975102 -72.290802  7/26/2020  2020      7   26   \n",
      "6016         Long Pond  40.975102 -72.290802   8/9/2020  2020      8    9   \n",
      "6017         Long Pond  40.975102 -72.290802  8/23/2020  2020      8   23   \n",
      "6018         Long Pond  40.975102 -72.290802   9/7/2020  2020      9    7   \n",
      "\n",
      "      SDD (m)  \n",
      "0        2.90  \n",
      "1        8.05  \n",
      "2        3.80  \n",
      "3        1.00  \n",
      "4        2.00  \n",
      "...       ...  \n",
      "6014     1.20  \n",
      "6015     1.40  \n",
      "6016     1.15  \n",
      "6017     1.35  \n",
      "6018     1.10  \n",
      "\n",
      "[6018 rows x 8 columns]\n"
     ]
    }
   ],
   "source": [
    "# Read SDD dataset \n",
    "Data_sdd0 = pd.read_csv('data_raw/sdd.csv')\n",
    "\n",
    "# Remove none values\n",
    "Data_sdd = Data_sdd0.dropna()\n",
    "\n",
    "# Display the first few rows of our DataFrame\n",
    "Data_sdd.head()\n",
    "print(Data_sdd)"
   ]
  },
  {
   "cell_type": "code",
   "execution_count": 59,
   "id": "51958282",
   "metadata": {},
   "outputs": [
    {
     "name": "stdout",
     "output_type": "stream",
     "text": [
      "             Lake Name          Y          X       Date  Year  Month  Day  \\\n",
      "0     Little Long Pond  40.977600 -72.296204   6/4/2016  2016      6    4   \n",
      "1           Hatch Lake  42.834598 -75.677803   6/5/2016  2016      6    5   \n",
      "2      Montgomery Lake  41.525299 -74.917297   6/4/2016  2016      6    4   \n",
      "3            Dean Pond  42.447700 -76.003403   6/4/2016  2016      6    4   \n",
      "4      Chautauqua Lake  42.219885 -79.455423   6/5/2016  2016      6    5   \n",
      "...                ...        ...        ...        ...   ...    ...  ...   \n",
      "5895         Long Pond  40.975102 -72.290802  7/12/2020  2020      7   12   \n",
      "5896         Long Pond  40.975102 -72.290802  7/26/2020  2020      7   26   \n",
      "5897         Long Pond  40.975102 -72.290802   8/9/2020  2020      8    9   \n",
      "5898         Long Pond  40.975102 -72.290802  8/23/2020  2020      8   23   \n",
      "5899         Long Pond  40.975102 -72.290802   9/7/2020  2020      9    7   \n",
      "\n",
      "      Chl-a(ug/l)  SDD (m)  \n",
      "0           1.200     2.90  \n",
      "1           2.900     8.05  \n",
      "2           2.900     3.80  \n",
      "3          16.600     1.00  \n",
      "4           2.000     2.00  \n",
      "...           ...      ...  \n",
      "5895        5.248     1.20  \n",
      "5896        8.168     1.40  \n",
      "5897        9.048     1.15  \n",
      "5898       13.088     1.35  \n",
      "5899        7.778     1.10  \n",
      "\n",
      "[5900 rows x 9 columns]\n"
     ]
    }
   ],
   "source": [
    "Merged_chl_sdd = pd.merge(Data_chl, Data_sdd, on=['Y', 'X', 'Year', 'Month', 'Day','Lake Name', 'Date'], how='inner')\n",
    "Merged_chl_sdd.to_csv('data_output/Merged_chl_sdd.csv')\n",
    "\n",
    "# displaying result\n",
    "print(Merged_chl_sdd)"
   ]
  },
  {
   "cell_type": "code",
   "execution_count": 60,
   "id": "a3c4a1e8",
   "metadata": {},
   "outputs": [
    {
     "name": "stdout",
     "output_type": "stream",
     "text": [
      "             Lake Name          Y          X       Date  Year  Month  Day  \\\n",
      "0     Little Long Pond  40.977600 -72.296204   6/4/2016  2016      6    4   \n",
      "1           Hatch Lake  42.834598 -75.677803   6/5/2016  2016      6    5   \n",
      "2      Montgomery Lake  41.525299 -74.917297   6/4/2016  2016      6    4   \n",
      "3            Dean Pond  42.447700 -76.003403   6/4/2016  2016      6    4   \n",
      "4      Chautauqua Lake  42.219885 -79.455423   6/5/2016  2016      6    5   \n",
      "...                ...        ...        ...        ...   ...    ...  ...   \n",
      "4599         Long Pond  40.975102 -72.290802  7/12/2020  2020      7   12   \n",
      "4600         Long Pond  40.975102 -72.290802  7/26/2020  2020      7   26   \n",
      "4601         Long Pond  40.975102 -72.290802   8/9/2020  2020      8    9   \n",
      "4602         Long Pond  40.975102 -72.290802  8/23/2020  2020      8   23   \n",
      "4603         Long Pond  40.975102 -72.290802   9/7/2020  2020      9    7   \n",
      "\n",
      "      Chl-a(ug/l)  SDD (m) Phos (mg/l)  \n",
      "0           1.200     2.90      0.0132  \n",
      "1           2.900     8.05      0.0109  \n",
      "2           2.900     3.80      0.0092  \n",
      "3          16.600     1.00      0.0446  \n",
      "4           2.000     2.00      0.0278  \n",
      "...           ...      ...         ...  \n",
      "4599        5.248     1.20      0.0183  \n",
      "4600        8.168     1.40      0.0243  \n",
      "4601        9.048     1.15      0.0266  \n",
      "4602       13.088     1.35     0.00585  \n",
      "4603        7.778     1.10      0.0298  \n",
      "\n",
      "[4604 rows x 10 columns]\n"
     ]
    }
   ],
   "source": [
    "FieldData = pd.merge(Merged_chl_sdd, Data_phos, on=['Y', 'X', 'Year', 'Month', 'Day', 'Lake Name', 'Date'], how='inner')\n",
    "FieldData.to_csv('data_output/FieldData.csv')\n",
    "\n",
    "# displaying result\n",
    "print(FieldData)"
   ]
  },
  {
   "cell_type": "code",
   "execution_count": 61,
   "id": "312838c4",
   "metadata": {},
   "outputs": [
    {
     "name": "stdout",
     "output_type": "stream",
     "text": [
      "<class 'pandas.core.series.Series'>\n",
      "<class 'pandas.core.series.Series'>\n",
      "<class 'pandas.core.series.Series'>\n"
     ]
    }
   ],
   "source": [
    "print(type(FieldData['Chl-a(ug/l)']))\n",
    "print(type(FieldData['Phos (mg/l)']))\n",
    "print(type(FieldData['SDD (m)']))"
   ]
  },
  {
   "cell_type": "code",
   "execution_count": 62,
   "id": "4a16ae92",
   "metadata": {},
   "outputs": [
    {
     "name": "stdout",
     "output_type": "stream",
     "text": [
      "             Lake Name          Y          X       Date  Year  Month  Day  \\\n",
      "0     Little Long Pond  40.977600 -72.296204   6/4/2016  2016      6    4   \n",
      "1           Hatch Lake  42.834598 -75.677803   6/5/2016  2016      6    5   \n",
      "2      Montgomery Lake  41.525299 -74.917297   6/4/2016  2016      6    4   \n",
      "3            Dean Pond  42.447700 -76.003403   6/4/2016  2016      6    4   \n",
      "4      Chautauqua Lake  42.219885 -79.455423   6/5/2016  2016      6    5   \n",
      "...                ...        ...        ...        ...   ...    ...  ...   \n",
      "4599         Long Pond  40.975102 -72.290802  7/12/2020  2020      7   12   \n",
      "4600         Long Pond  40.975102 -72.290802  7/26/2020  2020      7   26   \n",
      "4601         Long Pond  40.975102 -72.290802   8/9/2020  2020      8    9   \n",
      "4602         Long Pond  40.975102 -72.290802  8/23/2020  2020      8   23   \n",
      "4603         Long Pond  40.975102 -72.290802   9/7/2020  2020      9    7   \n",
      "\n",
      "      Chl-a(ug/l)  SDD (m) Phos (mg/l)  Chl score  \n",
      "0           1.200     2.90      0.0132        3.0  \n",
      "1           2.900     8.05      0.0109        2.0  \n",
      "2           2.900     3.80      0.0092        2.0  \n",
      "3          16.600     1.00      0.0446        1.0  \n",
      "4           2.000     2.00      0.0278        2.0  \n",
      "...           ...      ...         ...        ...  \n",
      "4599        5.248     1.20      0.0183        2.0  \n",
      "4600        8.168     1.40      0.0243        1.0  \n",
      "4601        9.048     1.15      0.0266        1.0  \n",
      "4602       13.088     1.35     0.00585        1.0  \n",
      "4603        7.778     1.10      0.0298        2.0  \n",
      "\n",
      "[4604 rows x 11 columns]\n"
     ]
    }
   ],
   "source": [
    "# Scoring Chl-a \n",
    "FieldData.loc[(FieldData['Chl-a(ug/l)'] > 8) , 'Chl score'] = 1\n",
    "FieldData.loc[(FieldData['Chl-a(ug/l)'] >= 2) & (FieldData['Chl-a(ug/l)'] <= 8) , 'Chl score'] = 2\n",
    "FieldData.loc[(FieldData['Chl-a(ug/l)'] < 2) , 'Chl score'] = 3\n",
    "print(FieldData)"
   ]
  },
  {
   "cell_type": "code",
   "execution_count": 63,
   "id": "2ebb75f3",
   "metadata": {},
   "outputs": [
    {
     "name": "stdout",
     "output_type": "stream",
     "text": [
      "             Lake Name          Y          X       Date  Year  Month  Day  \\\n",
      "0     Little Long Pond  40.977600 -72.296204   6/4/2016  2016      6    4   \n",
      "1           Hatch Lake  42.834598 -75.677803   6/5/2016  2016      6    5   \n",
      "2      Montgomery Lake  41.525299 -74.917297   6/4/2016  2016      6    4   \n",
      "3            Dean Pond  42.447700 -76.003403   6/4/2016  2016      6    4   \n",
      "4      Chautauqua Lake  42.219885 -79.455423   6/5/2016  2016      6    5   \n",
      "...                ...        ...        ...        ...   ...    ...  ...   \n",
      "4599         Long Pond  40.975102 -72.290802  7/12/2020  2020      7   12   \n",
      "4600         Long Pond  40.975102 -72.290802  7/26/2020  2020      7   26   \n",
      "4601         Long Pond  40.975102 -72.290802   8/9/2020  2020      8    9   \n",
      "4602         Long Pond  40.975102 -72.290802  8/23/2020  2020      8   23   \n",
      "4603         Long Pond  40.975102 -72.290802   9/7/2020  2020      9    7   \n",
      "\n",
      "      Chl-a(ug/l)  SDD (m) Phos (mg/l)  Chl score  SDD score  \n",
      "0           1.200     2.90      0.0132        3.0        2.0  \n",
      "1           2.900     8.05      0.0109        2.0        1.0  \n",
      "2           2.900     3.80      0.0092        2.0        2.0  \n",
      "3          16.600     1.00      0.0446        1.0        3.0  \n",
      "4           2.000     2.00      0.0278        2.0        2.0  \n",
      "...           ...      ...         ...        ...        ...  \n",
      "4599        5.248     1.20      0.0183        2.0        3.0  \n",
      "4600        8.168     1.40      0.0243        1.0        3.0  \n",
      "4601        9.048     1.15      0.0266        1.0        3.0  \n",
      "4602       13.088     1.35     0.00585        1.0        3.0  \n",
      "4603        7.778     1.10      0.0298        2.0        3.0  \n",
      "\n",
      "[4604 rows x 12 columns]\n"
     ]
    }
   ],
   "source": [
    "#Scoring SDD\n",
    "FieldData.loc[(FieldData['SDD (m)'] > 5) , 'SDD score'] = 1\n",
    "FieldData.loc[(FieldData['SDD (m)'] >= 2) & (FieldData['SDD (m)'] <= 5) , 'SDD score'] = 2\n",
    "FieldData.loc[(FieldData['SDD (m)'] < 2) , 'SDD score'] = 3\n",
    "print(FieldData)"
   ]
  },
  {
   "cell_type": "code",
   "execution_count": 64,
   "id": "5b666615",
   "metadata": {},
   "outputs": [],
   "source": [
    "FieldData['Phos (mg/l)'] = pd.to_numeric(FieldData['Phos (mg/l)'], errors='coerce')\n",
    "\n",
    "#FieldData['Phos (mg/l)'] = FieldData['Phos (mg/l)'].astype(float)\n",
    "\n",
    "#FieldData = float(FieldData['Phos (mg/l)'])\n",
    "\n",
    "#type(FieldData['Phos (mg/l)'])"
   ]
  },
  {
   "cell_type": "code",
   "execution_count": 65,
   "id": "77016fa7",
   "metadata": {},
   "outputs": [
    {
     "name": "stdout",
     "output_type": "stream",
     "text": [
      "             Lake Name          Y          X       Date  Year  Month  Day  \\\n",
      "0     Little Long Pond  40.977600 -72.296204   6/4/2016  2016      6    4   \n",
      "1           Hatch Lake  42.834598 -75.677803   6/5/2016  2016      6    5   \n",
      "2      Montgomery Lake  41.525299 -74.917297   6/4/2016  2016      6    4   \n",
      "3            Dean Pond  42.447700 -76.003403   6/4/2016  2016      6    4   \n",
      "4      Chautauqua Lake  42.219885 -79.455423   6/5/2016  2016      6    5   \n",
      "...                ...        ...        ...        ...   ...    ...  ...   \n",
      "4599         Long Pond  40.975102 -72.290802  7/12/2020  2020      7   12   \n",
      "4600         Long Pond  40.975102 -72.290802  7/26/2020  2020      7   26   \n",
      "4601         Long Pond  40.975102 -72.290802   8/9/2020  2020      8    9   \n",
      "4602         Long Pond  40.975102 -72.290802  8/23/2020  2020      8   23   \n",
      "4603         Long Pond  40.975102 -72.290802   9/7/2020  2020      9    7   \n",
      "\n",
      "      Chl-a(ug/l)  SDD (m)  Phos (mg/l)  Chl score  SDD score  Phos score  \n",
      "0           1.200     2.90      0.01320        3.0        2.0         2.0  \n",
      "1           2.900     8.05      0.01090        2.0        1.0         2.0  \n",
      "2           2.900     3.80      0.00920        2.0        2.0         3.0  \n",
      "3          16.600     1.00      0.04460        1.0        3.0         1.0  \n",
      "4           2.000     2.00      0.02780        2.0        2.0         1.0  \n",
      "...           ...      ...          ...        ...        ...         ...  \n",
      "4599        5.248     1.20      0.01830        2.0        3.0         2.0  \n",
      "4600        8.168     1.40      0.02430        1.0        3.0         1.0  \n",
      "4601        9.048     1.15      0.02660        1.0        3.0         1.0  \n",
      "4602       13.088     1.35      0.00585        1.0        3.0         3.0  \n",
      "4603        7.778     1.10      0.02980        2.0        3.0         1.0  \n",
      "\n",
      "[4604 rows x 13 columns]\n"
     ]
    }
   ],
   "source": [
    "#Scoring Phosphorous\n",
    "FieldData.loc[(FieldData['Phos (mg/l)'] > 0.02) , 'Phos score'] = 1\n",
    "FieldData.loc[(FieldData['Phos (mg/l)'] >= 0.01) & (FieldData['Phos (mg/l)'] <= 0.02) , 'Phos score'] = 2\n",
    "FieldData.loc[(FieldData['Phos (mg/l)'] < 0.01) , 'Phos score'] = 3\n",
    "print(FieldData)"
   ]
  },
  {
   "cell_type": "code",
   "execution_count": 67,
   "id": "7a2b4ad1",
   "metadata": {},
   "outputs": [
    {
     "name": "stdout",
     "output_type": "stream",
     "text": [
      "             Lake Name          Y          X       Date  Year  Month  Day  \\\n",
      "0     Little Long Pond  40.977600 -72.296204   6/4/2016  2016      6    4   \n",
      "1           Hatch Lake  42.834598 -75.677803   6/5/2016  2016      6    5   \n",
      "2      Montgomery Lake  41.525299 -74.917297   6/4/2016  2016      6    4   \n",
      "3            Dean Pond  42.447700 -76.003403   6/4/2016  2016      6    4   \n",
      "4      Chautauqua Lake  42.219885 -79.455423   6/5/2016  2016      6    5   \n",
      "...                ...        ...        ...        ...   ...    ...  ...   \n",
      "4599         Long Pond  40.975102 -72.290802  7/12/2020  2020      7   12   \n",
      "4600         Long Pond  40.975102 -72.290802  7/26/2020  2020      7   26   \n",
      "4601         Long Pond  40.975102 -72.290802   8/9/2020  2020      8    9   \n",
      "4602         Long Pond  40.975102 -72.290802  8/23/2020  2020      8   23   \n",
      "4603         Long Pond  40.975102 -72.290802   9/7/2020  2020      9    7   \n",
      "\n",
      "      Chl-a(ug/l)  SDD (m)  Phos (mg/l)  Chl score  SDD score  Phos score  \\\n",
      "0           1.200     2.90      0.01320        3.0        2.0         2.0   \n",
      "1           2.900     8.05      0.01090        2.0        1.0         2.0   \n",
      "2           2.900     3.80      0.00920        2.0        2.0         3.0   \n",
      "3          16.600     1.00      0.04460        1.0        3.0         1.0   \n",
      "4           2.000     2.00      0.02780        2.0        2.0         1.0   \n",
      "...           ...      ...          ...        ...        ...         ...   \n",
      "4599        5.248     1.20      0.01830        2.0        3.0         2.0   \n",
      "4600        8.168     1.40      0.02430        1.0        3.0         1.0   \n",
      "4601        9.048     1.15      0.02660        1.0        3.0         1.0   \n",
      "4602       13.088     1.35      0.00585        1.0        3.0         3.0   \n",
      "4603        7.778     1.10      0.02980        2.0        3.0         1.0   \n",
      "\n",
      "      Sum of score  \n",
      "0              7.0  \n",
      "1              5.0  \n",
      "2              7.0  \n",
      "3              5.0  \n",
      "4              5.0  \n",
      "...            ...  \n",
      "4599           7.0  \n",
      "4600           5.0  \n",
      "4601           5.0  \n",
      "4602           7.0  \n",
      "4603           6.0  \n",
      "\n",
      "[4604 rows x 14 columns]\n"
     ]
    }
   ],
   "source": [
    "FieldData['Sum of score'] = FieldData['Chl score'] + FieldData['SDD score'] + FieldData['Phos score']\n",
    "print(FieldData)"
   ]
  },
  {
   "cell_type": "code",
   "execution_count": 69,
   "id": "70740b81",
   "metadata": {},
   "outputs": [
    {
     "name": "stdout",
     "output_type": "stream",
     "text": [
      "             Lake Name          Y          X       Date  Year  Month  Day  \\\n",
      "0     Little Long Pond  40.977600 -72.296204   6/4/2016  2016      6    4   \n",
      "1           Hatch Lake  42.834598 -75.677803   6/5/2016  2016      6    5   \n",
      "2      Montgomery Lake  41.525299 -74.917297   6/4/2016  2016      6    4   \n",
      "3            Dean Pond  42.447700 -76.003403   6/4/2016  2016      6    4   \n",
      "4      Chautauqua Lake  42.219885 -79.455423   6/5/2016  2016      6    5   \n",
      "...                ...        ...        ...        ...   ...    ...  ...   \n",
      "4599         Long Pond  40.975102 -72.290802  7/12/2020  2020      7   12   \n",
      "4600         Long Pond  40.975102 -72.290802  7/26/2020  2020      7   26   \n",
      "4601         Long Pond  40.975102 -72.290802   8/9/2020  2020      8    9   \n",
      "4602         Long Pond  40.975102 -72.290802  8/23/2020  2020      8   23   \n",
      "4603         Long Pond  40.975102 -72.290802   9/7/2020  2020      9    7   \n",
      "\n",
      "      Chl-a(ug/l)  SDD (m)  Phos (mg/l)  Chl score  SDD score  Phos score  \\\n",
      "0           1.200     2.90      0.01320        3.0        2.0         2.0   \n",
      "1           2.900     8.05      0.01090        2.0        1.0         2.0   \n",
      "2           2.900     3.80      0.00920        2.0        2.0         3.0   \n",
      "3          16.600     1.00      0.04460        1.0        3.0         1.0   \n",
      "4           2.000     2.00      0.02780        2.0        2.0         1.0   \n",
      "...           ...      ...          ...        ...        ...         ...   \n",
      "4599        5.248     1.20      0.01830        2.0        3.0         2.0   \n",
      "4600        8.168     1.40      0.02430        1.0        3.0         1.0   \n",
      "4601        9.048     1.15      0.02660        1.0        3.0         1.0   \n",
      "4602       13.088     1.35      0.00585        1.0        3.0         3.0   \n",
      "4603        7.778     1.10      0.02980        2.0        3.0         1.0   \n",
      "\n",
      "      Sum of score     Tropic state  \n",
      "0              7.0  Mesoligotrophic  \n",
      "1              5.0    Mesoeutrophic  \n",
      "2              7.0  Mesoligotrophic  \n",
      "3              5.0    Mesoeutrophic  \n",
      "4              5.0    Mesoeutrophic  \n",
      "...            ...              ...  \n",
      "4599           7.0  Mesoligotrophic  \n",
      "4600           5.0    Mesoeutrophic  \n",
      "4601           5.0    Mesoeutrophic  \n",
      "4602           7.0  Mesoligotrophic  \n",
      "4603           6.0      Mesotrophic  \n",
      "\n",
      "[4604 rows x 15 columns]\n"
     ]
    }
   ],
   "source": [
    "# Trophic states of Lakes\n",
    "FieldData.loc[(FieldData['Sum of score'] == 3) , 'Tropic state'] = 'Eutrophic'\n",
    "FieldData.loc[(FieldData['Sum of score'] == 4) | (FieldData['Sum of score'] == 5) , 'Tropic state'] = 'Mesoeutrophic'\n",
    "FieldData.loc[(FieldData['Sum of score'] == 6) , 'Tropic state'] = 'Mesotrophic'\n",
    "FieldData.loc[(FieldData['Sum of score'] == 7) | (FieldData['Sum of score'] == 8), 'Tropic state'] = 'Mesoligotrophic'\n",
    "FieldData.loc[(FieldData['Sum of score'] == 9) , 'Tropic state'] = 'Oligotrophic'\n",
    "print(FieldData)"
   ]
  },
  {
   "cell_type": "code",
   "execution_count": 70,
   "id": "4ffedc83",
   "metadata": {},
   "outputs": [],
   "source": [
    "FieldData.to_csv('data_output/LakeClassification.csv')"
   ]
  },
  {
   "cell_type": "code",
   "execution_count": 71,
   "id": "44c9b69f",
   "metadata": {},
   "outputs": [
    {
     "data": {
      "text/plain": [
       "(1, 15)"
      ]
     },
     "execution_count": 71,
     "metadata": {},
     "output_type": "execute_result"
    }
   ],
   "source": [
    "Eutrophic_Lakes = FieldData.loc[(FieldData['Tropic state'] == 'Eutrophic')]\n",
    "Eutrophic_Lakes.shape"
   ]
  },
  {
   "cell_type": "code",
   "execution_count": 72,
   "id": "f548a26b",
   "metadata": {},
   "outputs": [
    {
     "data": {
      "text/plain": [
       "(1342, 15)"
      ]
     },
     "execution_count": 72,
     "metadata": {},
     "output_type": "execute_result"
    }
   ],
   "source": [
    "Mesoeutrophic_Lakes = FieldData.loc[(FieldData['Tropic state'] == 'Mesoeutrophic')]\n",
    "Mesoeutrophic_Lakes.shape"
   ]
  },
  {
   "cell_type": "code",
   "execution_count": 73,
   "id": "8c2254bc",
   "metadata": {},
   "outputs": [
    {
     "data": {
      "text/plain": [
       "(1332, 15)"
      ]
     },
     "execution_count": 73,
     "metadata": {},
     "output_type": "execute_result"
    }
   ],
   "source": [
    "Mesotrophic_Lakes = FieldData.loc[(FieldData['Tropic state'] == 'Mesotrophic')]\n",
    "Mesotrophic_Lakes.shape"
   ]
  },
  {
   "cell_type": "code",
   "execution_count": 74,
   "id": "3b604a5d",
   "metadata": {},
   "outputs": [
    {
     "data": {
      "text/plain": [
       "(1918, 15)"
      ]
     },
     "execution_count": 74,
     "metadata": {},
     "output_type": "execute_result"
    }
   ],
   "source": [
    "Mesoligotrophic_Lakes = FieldData.loc[(FieldData['Tropic state'] == 'Mesoligotrophic')]\n",
    "Mesoligotrophic_Lakes.shape"
   ]
  },
  {
   "cell_type": "code",
   "execution_count": 75,
   "id": "cf6752a8",
   "metadata": {},
   "outputs": [
    {
     "data": {
      "text/plain": [
       "(7, 15)"
      ]
     },
     "execution_count": 75,
     "metadata": {},
     "output_type": "execute_result"
    }
   ],
   "source": [
    "Oligotrophic_Lakes = FieldData.loc[(FieldData['Tropic state'] == 'Oligotrophic')]\n",
    "Oligotrophic_Lakes.shape"
   ]
  },
  {
   "cell_type": "code",
   "execution_count": null,
   "id": "a60fb902",
   "metadata": {},
   "outputs": [],
   "source": []
  }
 ],
 "metadata": {
  "kernelspec": {
   "display_name": "Python 3",
   "language": "python",
   "name": "python3"
  },
  "language_info": {
   "codemirror_mode": {
    "name": "ipython",
    "version": 3
   },
   "file_extension": ".py",
   "mimetype": "text/x-python",
   "name": "python",
   "nbconvert_exporter": "python",
   "pygments_lexer": "ipython3",
   "version": "3.8.8"
  }
 },
 "nbformat": 4,
 "nbformat_minor": 5
}
