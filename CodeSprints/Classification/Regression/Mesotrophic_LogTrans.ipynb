{
 "cells": [
  {
   "cell_type": "code",
   "execution_count": 1,
   "id": "e761e8da",
   "metadata": {},
   "outputs": [],
   "source": [
    "import pandas as pd\n",
    "import numpy as np\n",
    "import matplotlib.pyplot as plt\n",
    "import statsmodels.api as sm\n",
    "import seaborn as sns\n",
    "\n",
    "from statsmodels.stats.outliers_influence import variance_inflation_factor\n",
    "from statsmodels.api import OLS\n",
    "from statsmodels.api import add_constant\n",
    "\n",
    "from sklearn.linear_model import LinearRegression\n",
    "from sklearn.model_selection import train_test_split\n",
    "from sklearn.metrics import mean_squared_error, r2_score, mean_absolute_error"
   ]
  },
  {
   "cell_type": "code",
   "execution_count": 2,
   "id": "e815c109",
   "metadata": {},
   "outputs": [
    {
     "data": {
      "text/plain": [
       "'C:\\\\Users\\\\SarShel\\\\DEC\\\\CodeSprints\\\\Classification\\\\Regression'"
      ]
     },
     "execution_count": 2,
     "metadata": {},
     "output_type": "execute_result"
    }
   ],
   "source": [
    "import os\n",
    "os.getcwd()"
   ]
  },
  {
   "cell_type": "code",
   "execution_count": 3,
   "id": "e9178b07",
   "metadata": {},
   "outputs": [
    {
     "data": {
      "text/plain": [
       "'C:\\\\Users\\\\SarShel\\\\DEC\\\\Regression'"
      ]
     },
     "execution_count": 3,
     "metadata": {},
     "output_type": "execute_result"
    }
   ],
   "source": [
    "os.chdir('C:\\\\Users\\\\SarShel\\\\DEC\\\\Regression')\n",
    "os.getcwd()"
   ]
  },
  {
   "cell_type": "code",
   "execution_count": 4,
   "id": "4ac3f4c4",
   "metadata": {},
   "outputs": [
    {
     "name": "stdout",
     "output_type": "stream",
     "text": [
      "      Unnamed: 0         Lake Name          Y          X       Date  Year  \\\n",
      "0              0  Little Long Pond  40.977600 -72.296204   6/4/2016  2016   \n",
      "1              1        Hatch Lake  42.834598 -75.677803   6/5/2016  2016   \n",
      "2              2   Montgomery Lake  41.525299 -74.917297   6/4/2016  2016   \n",
      "3              3         Dean Pond  42.447700 -76.003403   6/4/2016  2016   \n",
      "4              4   Chautauqua Lake  42.219885 -79.455423   6/5/2016  2016   \n",
      "...          ...               ...        ...        ...        ...   ...   \n",
      "4599        4599         Long Pond  40.975102 -72.290802  7/12/2020  2020   \n",
      "4600        4600         Long Pond  40.975102 -72.290802  7/26/2020  2020   \n",
      "4601        4601         Long Pond  40.975102 -72.290802   8/9/2020  2020   \n",
      "4602        4602         Long Pond  40.975102 -72.290802  8/23/2020  2020   \n",
      "4603        4603         Long Pond  40.975102 -72.290802   9/7/2020  2020   \n",
      "\n",
      "      Month  Day  Chl-a(ug/l)  SDD (m)  Phos (mg/l)  Chl score  SDD score  \\\n",
      "0         6    4        1.200     2.90      0.01320        3.0        2.0   \n",
      "1         6    5        2.900     8.05      0.01090        2.0        1.0   \n",
      "2         6    4        2.900     3.80      0.00920        2.0        2.0   \n",
      "3         6    4       16.600     1.00      0.04460        1.0        3.0   \n",
      "4         6    5        2.000     2.00      0.02780        2.0        2.0   \n",
      "...     ...  ...          ...      ...          ...        ...        ...   \n",
      "4599      7   12        5.248     1.20      0.01830        2.0        3.0   \n",
      "4600      7   26        8.168     1.40      0.02430        1.0        3.0   \n",
      "4601      8    9        9.048     1.15      0.02660        1.0        3.0   \n",
      "4602      8   23       13.088     1.35      0.00585        1.0        3.0   \n",
      "4603      9    7        7.778     1.10      0.02980        2.0        3.0   \n",
      "\n",
      "      Phos score  Sum of score     Tropic state  \n",
      "0            2.0           7.0  Mesoligotrophic  \n",
      "1            2.0           5.0    Mesoeutrophic  \n",
      "2            3.0           7.0  Mesoligotrophic  \n",
      "3            1.0           5.0    Mesoeutrophic  \n",
      "4            1.0           5.0    Mesoeutrophic  \n",
      "...          ...           ...              ...  \n",
      "4599         2.0           7.0  Mesoligotrophic  \n",
      "4600         1.0           5.0    Mesoeutrophic  \n",
      "4601         1.0           5.0    Mesoeutrophic  \n",
      "4602         3.0           7.0  Mesoligotrophic  \n",
      "4603         1.0           6.0      Mesotrophic  \n",
      "\n",
      "[4600 rows x 16 columns]\n"
     ]
    }
   ],
   "source": [
    "# Read Classified field dataset \n",
    "FieldData0 = pd.read_csv('data_raw/ClassifiedData/FieldData_class.csv')\n",
    "\n",
    "# Remove none values\n",
    "FieldData = FieldData0.dropna()\n",
    "\n",
    "# Display DataFrame\n",
    "print(FieldData)"
   ]
  },
  {
   "cell_type": "code",
   "execution_count": 5,
   "id": "9ad0dac1",
   "metadata": {},
   "outputs": [
    {
     "name": "stdout",
     "output_type": "stream",
     "text": [
      "       Year  Month  Day      2BDA      3BDA      NDCI        B1       B10  \\\n",
      "0      2016      5    7  0.956819 -0.044095 -0.022067  0.117900  0.002955   \n",
      "1      2016      5    7  0.956897 -0.043909 -0.022026  0.117907  0.002955   \n",
      "2      2016      5    7  1.015060  0.016807  0.007474  0.147959  0.008728   \n",
      "3      2016      5    7  0.991619 -0.009014 -0.004208  0.142645  0.007528   \n",
      "4      2016      5    7  0.881187 -0.110047 -0.063158  0.116655  0.002038   \n",
      "...     ...    ...  ...       ...       ...       ...       ...       ...   \n",
      "35028  2020     10   30  0.853926 -0.129055 -0.078792  0.152807  0.001676   \n",
      "35029  2020     10   30  1.077396  0.061427  0.037256  0.126659  0.001469   \n",
      "35030  2020     10   30  0.945077 -0.051659 -0.028237  0.134852  0.007321   \n",
      "35031  2020     10   30  0.961857 -0.039219 -0.019442  0.132445  0.007393   \n",
      "35032  2020     10   30  0.959639 -0.039047 -0.020596  0.126638  0.006003   \n",
      "\n",
      "            B11       B12  ...        B3        B4        B5        B6  \\\n",
      "0      0.016390  0.011321  ...  0.066817  0.042403  0.040572  0.041431   \n",
      "1      0.016390  0.011321  ...  0.066817  0.042400  0.040572  0.041331   \n",
      "2      0.053441  0.041969  ...  0.098893  0.080366  0.081576  0.091038   \n",
      "3      0.047441  0.035914  ...  0.095421  0.073648  0.073031  0.078548   \n",
      "4      0.007586  0.005145  ...  0.066907  0.038455  0.033886  0.031386   \n",
      "...         ...       ...  ...       ...       ...       ...       ...   \n",
      "35028  0.008662  0.005803  ...  0.070890  0.044710  0.038179  0.033731   \n",
      "35029  0.014217  0.008186  ...  0.071028  0.040410  0.043538  0.034555   \n",
      "35030  0.018221  0.015945  ...  0.070283  0.047528  0.044917  0.042248   \n",
      "35031  0.022983  0.016369  ...  0.067686  0.047010  0.045217  0.046493   \n",
      "35032  0.016324  0.011272  ...  0.062962  0.040838  0.039190  0.037914   \n",
      "\n",
      "             B7        B8       B8A        B9          X          Y  \n",
      "0      0.040707  0.035441  0.036210  0.016803 -79.726196  42.101898  \n",
      "1      0.040714  0.035441  0.036172  0.016969 -79.726196  42.101898  \n",
      "2      0.094266  0.090610  0.094869  0.046917 -79.455423  42.219885  \n",
      "3      0.079997  0.077869  0.077197  0.034931 -79.430702  42.180951  \n",
      "4      0.030362  0.024534  0.025524  0.011448 -79.363881  42.123269  \n",
      "...         ...       ...       ...       ...        ...        ...  \n",
      "35028  0.030021  0.027724  0.024259  0.012969 -76.958078  43.248531  \n",
      "35029  0.034010  0.027786  0.029086  0.020831 -76.222702  43.235401  \n",
      "35030  0.041645  0.041476  0.038621  0.031514 -75.775200  44.316502  \n",
      "35031  0.044748  0.044814  0.042314  0.030562 -75.775002  44.279800  \n",
      "35032  0.036766  0.037372  0.033231  0.022614 -75.767502  44.292198  \n",
      "\n",
      "[35033 rows x 21 columns]\n"
     ]
    }
   ],
   "source": [
    "# Read S2 dataset \n",
    "S2Data0 = pd.read_csv('data_raw/ClassifiedData/S2Data.csv')\n",
    "\n",
    "# Remove none values\n",
    "S2Data = S2Data0.dropna()\n",
    "\n",
    "# Display DataFrame\n",
    "print(S2Data)"
   ]
  },
  {
   "cell_type": "code",
   "execution_count": 6,
   "id": "51958282",
   "metadata": {},
   "outputs": [
    {
     "name": "stdout",
     "output_type": "stream",
     "text": [
      "      Unnamed: 0          Lake Name          Y          X       Date  Year  \\\n",
      "0             36          Kirk Lake  41.385601 -73.749802  6/27/2016  2016   \n",
      "1             36          Kirk Lake  41.385601 -73.749802  6/27/2016  2016   \n",
      "2             36          Kirk Lake  41.385601 -73.749802  6/27/2016  2016   \n",
      "3             39     Cazenovia Lake  42.948200 -75.872002  6/23/2016  2016   \n",
      "4             39     Cazenovia Lake  42.948200 -75.872002  6/23/2016  2016   \n",
      "...          ...                ...        ...        ...        ...   ...   \n",
      "1088        4587  Little Fresh Pond  40.918201 -72.408501  8/30/2020  2020   \n",
      "1089        4592   Little Long Pond  40.977600 -72.296204  7/26/2020  2020   \n",
      "1090        4592   Little Long Pond  40.977600 -72.296204  7/26/2020  2020   \n",
      "1091        4600          Long Pond  40.975102 -72.290802  7/26/2020  2020   \n",
      "1092        4600          Long Pond  40.975102 -72.290802  7/26/2020  2020   \n",
      "\n",
      "      Month  Day  Chl-a(ug/l)  SDD (m)  ...       B12        B2        B3  \\\n",
      "0         6   27        1.000     2.40  ...  0.010024  0.090128  0.069817   \n",
      "1         6   27        1.000     2.40  ...  0.010024  0.090128  0.069817   \n",
      "2         6   27        1.000     2.40  ...  0.010024  0.090128  0.069817   \n",
      "3         6   23        1.500     4.85  ...  0.059628  0.136434  0.114286   \n",
      "4         6   23        1.500     4.85  ...  0.059628  0.136434  0.114286   \n",
      "...     ...  ...          ...      ...  ...       ...       ...       ...   \n",
      "1088      8   30        2.836     1.40  ...  0.141214  0.168424  0.150407   \n",
      "1089      7   26        2.622     2.85  ...  0.043166  0.105979  0.086414   \n",
      "1090      7   26        2.622     2.85  ...  0.043076  0.106431  0.088262   \n",
      "1091      7   26        8.168     1.40  ...  0.045714  0.125934  0.102697   \n",
      "1092      7   26        8.168     1.40  ...  0.043914  0.127021  0.103686   \n",
      "\n",
      "            B4        B5        B6        B7        B8       B8A        B9  \n",
      "0     0.042407  0.039348  0.048121  0.050697  0.043262  0.044607  0.010859  \n",
      "1     0.042407  0.039348  0.048121  0.050697  0.043262  0.044607  0.010859  \n",
      "2     0.042407  0.039348  0.048121  0.050693  0.043262  0.044607  0.010859  \n",
      "3     0.098217  0.094638  0.100941  0.102466  0.101697  0.097193  0.028014  \n",
      "4     0.098217  0.094638  0.100941  0.102466  0.101697  0.097193  0.028014  \n",
      "...        ...       ...       ...       ...       ...       ...       ...  \n",
      "1088  0.136007  0.150055  0.227241  0.265983  0.265224  0.293317  0.094345  \n",
      "1089  0.063159  0.079669  0.139783  0.167700  0.129279  0.176355  0.040662  \n",
      "1090  0.064634  0.082555  0.145114  0.172072  0.134097  0.179403  0.041586  \n",
      "1091  0.076810  0.088400  0.144431  0.168379  0.178252  0.175324  0.038690  \n",
      "1092  0.077014  0.087110  0.141569  0.163848  0.181493  0.169276  0.036676  \n",
      "\n",
      "[1093 rows x 32 columns]\n"
     ]
    }
   ],
   "source": [
    "# Merge classified FieldData and S2Data; \n",
    "Data_class = pd.merge(FieldData, S2Data, on=['Y', 'X', 'Year', 'Month', 'Day'], how='inner')\n",
    "Data_class.to_csv('data_output/ClassifiedData/Data_class.csv')\n",
    "\n",
    "# displaying result\n",
    "print(Data_class)"
   ]
  },
  {
   "cell_type": "code",
   "execution_count": 7,
   "id": "8c15439d",
   "metadata": {},
   "outputs": [
    {
     "name": "stdout",
     "output_type": "stream",
     "text": [
      "      Unnamed: 0          Lake Name          Y          X       Date  Year  \\\n",
      "0             36          Kirk Lake  41.385601 -73.749802  6/27/2016  2016   \n",
      "1             36          Kirk Lake  41.385601 -73.749802  6/27/2016  2016   \n",
      "2             36          Kirk Lake  41.385601 -73.749802  6/27/2016  2016   \n",
      "3             39     Cazenovia Lake  42.948200 -75.872002  6/23/2016  2016   \n",
      "4             39     Cazenovia Lake  42.948200 -75.872002  6/23/2016  2016   \n",
      "...          ...                ...        ...        ...        ...   ...   \n",
      "1088        4587  Little Fresh Pond  40.918201 -72.408501  8/30/2020  2020   \n",
      "1089        4592   Little Long Pond  40.977600 -72.296204  7/26/2020  2020   \n",
      "1090        4592   Little Long Pond  40.977600 -72.296204  7/26/2020  2020   \n",
      "1091        4600          Long Pond  40.975102 -72.290802  7/26/2020  2020   \n",
      "1092        4600          Long Pond  40.975102 -72.290802  7/26/2020  2020   \n",
      "\n",
      "      Month  Day  Chl-a(ug/l)  SDD (m)  ...        B2        B3        B4  \\\n",
      "0         6   27        1.000     2.40  ...  0.090128  0.069817  0.042407   \n",
      "1         6   27        1.000     2.40  ...  0.090128  0.069817  0.042407   \n",
      "2         6   27        1.000     2.40  ...  0.090128  0.069817  0.042407   \n",
      "3         6   23        1.500     4.85  ...  0.136434  0.114286  0.098217   \n",
      "4         6   23        1.500     4.85  ...  0.136434  0.114286  0.098217   \n",
      "...     ...  ...          ...      ...  ...       ...       ...       ...   \n",
      "1088      8   30        2.836     1.40  ...  0.168424  0.150407  0.136007   \n",
      "1089      7   26        2.622     2.85  ...  0.105979  0.086414  0.063159   \n",
      "1090      7   26        2.622     2.85  ...  0.106431  0.088262  0.064634   \n",
      "1091      7   26        8.168     1.40  ...  0.125934  0.102697  0.076810   \n",
      "1092      7   26        8.168     1.40  ...  0.127021  0.103686  0.077014   \n",
      "\n",
      "            B5        B6        B7        B8       B8A        B9   LnChl-a  \n",
      "0     0.039348  0.048121  0.050697  0.043262  0.044607  0.010859  0.000000  \n",
      "1     0.039348  0.048121  0.050697  0.043262  0.044607  0.010859  0.000000  \n",
      "2     0.039348  0.048121  0.050693  0.043262  0.044607  0.010859  0.000000  \n",
      "3     0.094638  0.100941  0.102466  0.101697  0.097193  0.028014  0.405465  \n",
      "4     0.094638  0.100941  0.102466  0.101697  0.097193  0.028014  0.405465  \n",
      "...        ...       ...       ...       ...       ...       ...       ...  \n",
      "1088  0.150055  0.227241  0.265983  0.265224  0.293317  0.094345  1.042395  \n",
      "1089  0.079669  0.139783  0.167700  0.129279  0.176355  0.040662  0.963937  \n",
      "1090  0.082555  0.145114  0.172072  0.134097  0.179403  0.041586  0.963937  \n",
      "1091  0.088400  0.144431  0.168379  0.178252  0.175324  0.038690  2.100224  \n",
      "1092  0.087110  0.141569  0.163848  0.181493  0.169276  0.036676  2.100224  \n",
      "\n",
      "[1093 rows x 33 columns]\n"
     ]
    }
   ],
   "source": [
    "# Return the natural logarithm of Chl-a (Y)\n",
    "Data_class['LnChl-a']=np.log(Data_class['Chl-a(ug/l)'])\n",
    "print(Data_class)"
   ]
  },
  {
   "cell_type": "code",
   "execution_count": 10,
   "id": "f548a26b",
   "metadata": {},
   "outputs": [
    {
     "data": {
      "text/plain": [
       "(322, 33)"
      ]
     },
     "execution_count": 10,
     "metadata": {},
     "output_type": "execute_result"
    }
   ],
   "source": [
    "# Select Mesotrophic Data \n",
    "Mesotrophic_data = Data_class.loc[(Data_class ['Tropic state'] == 'Mesotrophic')]\n",
    "Mesotrophic_data.shape"
   ]
  },
  {
   "cell_type": "code",
   "execution_count": 11,
   "id": "a60fb902",
   "metadata": {},
   "outputs": [
    {
     "data": {
      "text/html": [
       "<div>\n",
       "<style scoped>\n",
       "    .dataframe tbody tr th:only-of-type {\n",
       "        vertical-align: middle;\n",
       "    }\n",
       "\n",
       "    .dataframe tbody tr th {\n",
       "        vertical-align: top;\n",
       "    }\n",
       "\n",
       "    .dataframe thead th {\n",
       "        text-align: right;\n",
       "    }\n",
       "</style>\n",
       "<table border=\"1\" class=\"dataframe\">\n",
       "  <thead>\n",
       "    <tr style=\"text-align: right;\">\n",
       "      <th></th>\n",
       "      <th>2BDA</th>\n",
       "      <th>3BDA</th>\n",
       "      <th>NDCI</th>\n",
       "      <th>LnChl-a</th>\n",
       "    </tr>\n",
       "  </thead>\n",
       "  <tbody>\n",
       "    <tr>\n",
       "      <th>count</th>\n",
       "      <td>322.000000</td>\n",
       "      <td>322.000000</td>\n",
       "      <td>322.000000</td>\n",
       "      <td>322.000000</td>\n",
       "    </tr>\n",
       "    <tr>\n",
       "      <th>mean</th>\n",
       "      <td>0.982029</td>\n",
       "      <td>-0.006932</td>\n",
       "      <td>-0.011797</td>\n",
       "      <td>1.303196</td>\n",
       "    </tr>\n",
       "    <tr>\n",
       "      <th>std</th>\n",
       "      <td>0.107768</td>\n",
       "      <td>0.157077</td>\n",
       "      <td>0.050627</td>\n",
       "      <td>0.734080</td>\n",
       "    </tr>\n",
       "    <tr>\n",
       "      <th>min</th>\n",
       "      <td>0.806335</td>\n",
       "      <td>-0.181678</td>\n",
       "      <td>-0.107215</td>\n",
       "      <td>-2.995732</td>\n",
       "    </tr>\n",
       "    <tr>\n",
       "      <th>25%</th>\n",
       "      <td>0.907109</td>\n",
       "      <td>-0.102104</td>\n",
       "      <td>-0.048708</td>\n",
       "      <td>0.964509</td>\n",
       "    </tr>\n",
       "    <tr>\n",
       "      <th>50%</th>\n",
       "      <td>0.958751</td>\n",
       "      <td>-0.048501</td>\n",
       "      <td>-0.021059</td>\n",
       "      <td>1.368863</td>\n",
       "    </tr>\n",
       "    <tr>\n",
       "      <th>75%</th>\n",
       "      <td>1.037415</td>\n",
       "      <td>0.047345</td>\n",
       "      <td>0.018363</td>\n",
       "      <td>1.772054</td>\n",
       "    </tr>\n",
       "    <tr>\n",
       "      <th>max</th>\n",
       "      <td>1.612425</td>\n",
       "      <td>1.130994</td>\n",
       "      <td>0.234428</td>\n",
       "      <td>3.288402</td>\n",
       "    </tr>\n",
       "    <tr>\n",
       "      <th>+3_std</th>\n",
       "      <td>1.305331</td>\n",
       "      <td>0.464300</td>\n",
       "      <td>0.140084</td>\n",
       "      <td>3.505437</td>\n",
       "    </tr>\n",
       "    <tr>\n",
       "      <th>-3_std</th>\n",
       "      <td>0.658726</td>\n",
       "      <td>-0.478163</td>\n",
       "      <td>-0.163678</td>\n",
       "      <td>-0.899045</td>\n",
       "    </tr>\n",
       "  </tbody>\n",
       "</table>\n",
       "</div>"
      ],
      "text/plain": [
       "              2BDA        3BDA        NDCI     LnChl-a\n",
       "count   322.000000  322.000000  322.000000  322.000000\n",
       "mean      0.982029   -0.006932   -0.011797    1.303196\n",
       "std       0.107768    0.157077    0.050627    0.734080\n",
       "min       0.806335   -0.181678   -0.107215   -2.995732\n",
       "25%       0.907109   -0.102104   -0.048708    0.964509\n",
       "50%       0.958751   -0.048501   -0.021059    1.368863\n",
       "75%       1.037415    0.047345    0.018363    1.772054\n",
       "max       1.612425    1.130994    0.234428    3.288402\n",
       "+3_std    1.305331    0.464300    0.140084    3.505437\n",
       "-3_std    0.658726   -0.478163   -0.163678   -0.899045"
      ]
     },
     "execution_count": 11,
     "metadata": {},
     "output_type": "execute_result"
    }
   ],
   "source": [
    "# Descriptive statistics of all variables\n",
    "list = ['2BDA', '3BDA', 'NDCI', 'LnChl-a']\n",
    "\n",
    "# get the summary for Mesotrophic Lakes\n",
    "desc_Mesotrophic = Mesotrophic_data [list].describe()\n",
    "\n",
    "# add the standard deviation metric\n",
    "desc_Mesotrophic.loc['+3_std'] = desc_Mesotrophic.loc['mean'] + (desc_Mesotrophic.loc['std'] * 3)\n",
    "desc_Mesotrophic.loc['-3_std'] = desc_Mesotrophic.loc['mean'] - (desc_Mesotrophic.loc['std'] * 3)\n",
    "\n",
    "# display it\n",
    "desc_Mesotrophic"
   ]
  },
  {
   "cell_type": "code",
   "execution_count": 12,
   "id": "69538980",
   "metadata": {},
   "outputs": [
    {
     "data": {
      "text/html": [
       "<div>\n",
       "<style scoped>\n",
       "    .dataframe tbody tr th:only-of-type {\n",
       "        vertical-align: middle;\n",
       "    }\n",
       "\n",
       "    .dataframe tbody tr th {\n",
       "        vertical-align: top;\n",
       "    }\n",
       "\n",
       "    .dataframe thead th {\n",
       "        text-align: right;\n",
       "    }\n",
       "</style>\n",
       "<table border=\"1\" class=\"dataframe\">\n",
       "  <thead>\n",
       "    <tr style=\"text-align: right;\">\n",
       "      <th></th>\n",
       "      <th>2BDA</th>\n",
       "      <th>3BDA</th>\n",
       "      <th>NDCI</th>\n",
       "      <th>LnChl-a</th>\n",
       "    </tr>\n",
       "  </thead>\n",
       "  <tbody>\n",
       "    <tr>\n",
       "      <th>2BDA</th>\n",
       "      <td>1.000000</td>\n",
       "      <td>0.971951</td>\n",
       "      <td>0.994673</td>\n",
       "      <td>-0.097919</td>\n",
       "    </tr>\n",
       "    <tr>\n",
       "      <th>3BDA</th>\n",
       "      <td>0.971951</td>\n",
       "      <td>1.000000</td>\n",
       "      <td>0.946667</td>\n",
       "      <td>-0.106385</td>\n",
       "    </tr>\n",
       "    <tr>\n",
       "      <th>NDCI</th>\n",
       "      <td>0.994673</td>\n",
       "      <td>0.946667</td>\n",
       "      <td>1.000000</td>\n",
       "      <td>-0.097216</td>\n",
       "    </tr>\n",
       "    <tr>\n",
       "      <th>LnChl-a</th>\n",
       "      <td>-0.097919</td>\n",
       "      <td>-0.106385</td>\n",
       "      <td>-0.097216</td>\n",
       "      <td>1.000000</td>\n",
       "    </tr>\n",
       "  </tbody>\n",
       "</table>\n",
       "</div>"
      ],
      "text/plain": [
       "             2BDA      3BDA      NDCI   LnChl-a\n",
       "2BDA     1.000000  0.971951  0.994673 -0.097919\n",
       "3BDA     0.971951  1.000000  0.946667 -0.106385\n",
       "NDCI     0.994673  0.946667  1.000000 -0.097216\n",
       "LnChl-a -0.097919 -0.106385 -0.097216  1.000000"
      ]
     },
     "metadata": {},
     "output_type": "display_data"
    }
   ],
   "source": [
    "# Pearson Coefficient \n",
    "corr = Mesotrophic_data[list].corr(method='pearson')\n",
    "\n",
    "# display the correlation matrix\n",
    "display(corr)"
   ]
  },
  {
   "cell_type": "code",
   "execution_count": 13,
   "id": "b6531409",
   "metadata": {},
   "outputs": [
    {
     "data": {
      "text/plain": [
       "<seaborn.axisgrid.PairGrid at 0x210853f9d30>"
      ]
     },
     "execution_count": 13,
     "metadata": {},
     "output_type": "execute_result"
    },
    {
     "data": {
      "image/png": "[encoded data removed]",
      "text/plain": [
       "<Figure size 720x720 with 20 Axes>"
      ]
     },
     "metadata": {
      "needs_background": "light"
     },
     "output_type": "display_data"
    }
   ],
   "source": [
    "# Scatter plot for each variable in our dataset against another variable\n",
    "sns.pairplot(Mesotrophic_data[list])"
   ]
  },
  {
   "cell_type": "code",
   "execution_count": 14,
   "id": "e8833ef0",
   "metadata": {},
   "outputs": [],
   "source": [
    "# Getting column names\n",
    "X_columns = [\"2BDA\", \"3BDA\", \"NDCI\"]\n",
    "Y = Mesotrophic_data[\"LnChl-a\"]"
   ]
  },
  {
   "cell_type": "code",
   "execution_count": 15,
   "id": "030fa743",
   "metadata": {},
   "outputs": [
    {
     "data": {
      "text/html": [
       "<div>\n",
       "<style scoped>\n",
       "    .dataframe tbody tr th:only-of-type {\n",
       "        vertical-align: middle;\n",
       "    }\n",
       "\n",
       "    .dataframe tbody tr th {\n",
       "        vertical-align: top;\n",
       "    }\n",
       "\n",
       "    .dataframe thead th {\n",
       "        text-align: right;\n",
       "    }\n",
       "</style>\n",
       "<table border=\"1\" class=\"dataframe\">\n",
       "  <thead>\n",
       "    <tr style=\"text-align: right;\">\n",
       "      <th></th>\n",
       "      <th>VIF Factor</th>\n",
       "      <th>features</th>\n",
       "    </tr>\n",
       "  </thead>\n",
       "  <tbody>\n",
       "    <tr>\n",
       "      <th>0</th>\n",
       "      <td>1.0</td>\n",
       "      <td>2BDA</td>\n",
       "    </tr>\n",
       "    <tr>\n",
       "      <th>1</th>\n",
       "      <td>10.0</td>\n",
       "      <td>3BDA</td>\n",
       "    </tr>\n",
       "    <tr>\n",
       "      <th>2</th>\n",
       "      <td>10.0</td>\n",
       "      <td>NDCI</td>\n",
       "    </tr>\n",
       "  </tbody>\n",
       "</table>\n",
       "</div>"
      ],
      "text/plain": [
       "   VIF Factor features\n",
       "0         1.0     2BDA\n",
       "1        10.0     3BDA\n",
       "2        10.0     NDCI"
      ]
     },
     "execution_count": 15,
     "metadata": {},
     "output_type": "execute_result"
    }
   ],
   "source": [
    "#Calculate VIFs on our dataset\n",
    "vif = pd.DataFrame()\n",
    "vif[\"VIF Factor\"] = [variance_inflation_factor(Mesotrophic_data[X_columns[0:3]].values, i) for i in range(Mesotrophic_data[X_columns[0:3]].shape[1])]\n",
    "vif[\"features\"] = Mesotrophic_data[X_columns[0:3]].columns\n",
    "\n",
    "# display VIF\n",
    "vif.round()"
   ]
  },
  {
   "cell_type": "code",
   "execution_count": 16,
   "id": "4547f82d",
   "metadata": {},
   "outputs": [
    {
     "name": "stdout",
     "output_type": "stream",
     "text": [
      "                            OLS Regression Results                            \n",
      "==============================================================================\n",
      "Dep. Variable:                LnChl-a   R-squared:                       0.024\n",
      "Model:                            OLS   Adj. R-squared:                  0.011\n",
      "Method:                 Least Squares   F-statistic:                     1.839\n",
      "Date:                Mon, 07 Mar 2022   Prob (F-statistic):              0.141\n",
      "Time:                        15:49:46   Log-Likelihood:                -241.51\n",
      "No. Observations:                 225   AIC:                             491.0\n",
      "Df Residuals:                     221   BIC:                             504.7\n",
      "Df Model:                           3                                         \n",
      "Covariance Type:            nonrobust                                         \n",
      "==============================================================================\n",
      "                 coef    std err          t      P>|t|      [0.025      0.975]\n",
      "------------------------------------------------------------------------------\n",
      "const        -13.5710      9.627     -1.410      0.160     -32.544       5.402\n",
      "2BDA          14.8462      9.608      1.545      0.124      -4.090      33.782\n",
      "3BDA          -3.9472      2.100     -1.880      0.061      -8.086       0.192\n",
      "NDCI         -21.0986     15.063     -1.401      0.163     -50.784       8.587\n",
      "==============================================================================\n",
      "Omnibus:                       85.796   Durbin-Watson:                   2.011\n",
      "Prob(Omnibus):                  0.000   Jarque-Bera (JB):              355.415\n",
      "Skew:                          -1.498   Prob(JB):                     6.65e-78\n",
      "Kurtosis:                       8.379   Cond. No.                         599.\n",
      "==============================================================================\n",
      "\n",
      "Notes:\n",
      "[1] Standard Errors assume that the covariance matrix of the errors is correctly specified.\n"
     ]
    }
   ],
   "source": [
    "# Extract independent variables (X) & dependent variable (Y)\n",
    "X = Mesotrophic_data[X_columns]\n",
    "X = add_constant(X)\n",
    "Y = Mesotrophic_data['LnChl-a']\n",
    "\n",
    "# Split X and Y into train and test \n",
    "X_train, X_test, Y_train, Y_test = train_test_split(X, Y, test_size=0.30, random_state=1)\n",
    "\n",
    "# Create a Linear Regression model object\n",
    "regression_model = OLS(Y_train,X_train)\n",
    "result = OLS(Y_train,X_train).fit()\n",
    "print(result.summary())"
   ]
  },
  {
   "cell_type": "code",
   "execution_count": 17,
   "id": "88050564",
   "metadata": {},
   "outputs": [
    {
     "name": "stdout",
     "output_type": "stream",
     "text": [
      "predicted Y: 857    1.255008\n",
      "609    1.346556\n",
      "577    1.327175\n",
      "788    1.298256\n",
      "550    1.332390\n",
      "         ...   \n",
      "192    1.298133\n",
      "393    1.316369\n",
      "580    1.275017\n",
      "851    1.282017\n",
      "473    1.302693\n",
      "Length: 97, dtype: float64\n"
     ]
    }
   ],
   "source": [
    "# Get predictions\n",
    "LnY_predict = result.predict(X_test)\n",
    "print('predicted Y:', LnY_predict)"
   ]
  },
  {
   "cell_type": "code",
   "execution_count": 18,
   "id": "874e9534",
   "metadata": {},
   "outputs": [
    {
     "name": "stdout",
     "output_type": "stream",
     "text": [
      "MSE 5.74\n",
      "MAE 2.26\n",
      "RMSE 2.4\n"
     ]
    }
   ],
   "source": [
    "import math\n",
    "\n",
    "Y_predict = np.exp(LnY_predict)\n",
    "\n",
    "# Calculate the mean squared error\n",
    "model_mse = mean_squared_error(Y_test, Y_predict)\n",
    "\n",
    "# Calculate the mean absolute error\n",
    "model_mae = mean_absolute_error(Y_test, Y_predict)\n",
    "\n",
    "# Calulcate the root mean squared error\n",
    "model_rmse =  math.sqrt(model_mse)\n",
    "\n",
    "# Display the output\n",
    "print(\"MSE {:.3}\".format(model_mse))\n",
    "print(\"MAE {:.3}\".format(model_mae))\n",
    "print(\"RMSE {:.3}\".format(model_rmse))"
   ]
  },
  {
   "cell_type": "code",
   "execution_count": 19,
   "id": "121ccae3",
   "metadata": {},
   "outputs": [],
   "source": [
    "# 2 variables model (2BDA & 3BDA)"
   ]
  },
  {
   "cell_type": "code",
   "execution_count": 21,
   "id": "84dfce9a",
   "metadata": {},
   "outputs": [
    {
     "data": {
      "text/html": [
       "<div>\n",
       "<style scoped>\n",
       "    .dataframe tbody tr th:only-of-type {\n",
       "        vertical-align: middle;\n",
       "    }\n",
       "\n",
       "    .dataframe tbody tr th {\n",
       "        vertical-align: top;\n",
       "    }\n",
       "\n",
       "    .dataframe thead th {\n",
       "        text-align: right;\n",
       "    }\n",
       "</style>\n",
       "<table border=\"1\" class=\"dataframe\">\n",
       "  <thead>\n",
       "    <tr style=\"text-align: right;\">\n",
       "      <th></th>\n",
       "      <th>2BDA</th>\n",
       "      <th>3BDA</th>\n",
       "      <th>LnChl-a</th>\n",
       "    </tr>\n",
       "  </thead>\n",
       "  <tbody>\n",
       "    <tr>\n",
       "      <th>count</th>\n",
       "      <td>322.000000</td>\n",
       "      <td>322.000000</td>\n",
       "      <td>322.000000</td>\n",
       "    </tr>\n",
       "    <tr>\n",
       "      <th>mean</th>\n",
       "      <td>0.982029</td>\n",
       "      <td>-0.006932</td>\n",
       "      <td>1.303196</td>\n",
       "    </tr>\n",
       "    <tr>\n",
       "      <th>std</th>\n",
       "      <td>0.107768</td>\n",
       "      <td>0.157077</td>\n",
       "      <td>0.734080</td>\n",
       "    </tr>\n",
       "    <tr>\n",
       "      <th>min</th>\n",
       "      <td>0.806335</td>\n",
       "      <td>-0.181678</td>\n",
       "      <td>-2.995732</td>\n",
       "    </tr>\n",
       "    <tr>\n",
       "      <th>25%</th>\n",
       "      <td>0.907109</td>\n",
       "      <td>-0.102104</td>\n",
       "      <td>0.964509</td>\n",
       "    </tr>\n",
       "    <tr>\n",
       "      <th>50%</th>\n",
       "      <td>0.958751</td>\n",
       "      <td>-0.048501</td>\n",
       "      <td>1.368863</td>\n",
       "    </tr>\n",
       "    <tr>\n",
       "      <th>75%</th>\n",
       "      <td>1.037415</td>\n",
       "      <td>0.047345</td>\n",
       "      <td>1.772054</td>\n",
       "    </tr>\n",
       "    <tr>\n",
       "      <th>max</th>\n",
       "      <td>1.612425</td>\n",
       "      <td>1.130994</td>\n",
       "      <td>3.288402</td>\n",
       "    </tr>\n",
       "    <tr>\n",
       "      <th>+3_std</th>\n",
       "      <td>1.305331</td>\n",
       "      <td>0.464300</td>\n",
       "      <td>3.505437</td>\n",
       "    </tr>\n",
       "    <tr>\n",
       "      <th>-3_std</th>\n",
       "      <td>0.658726</td>\n",
       "      <td>-0.478163</td>\n",
       "      <td>-0.899045</td>\n",
       "    </tr>\n",
       "  </tbody>\n",
       "</table>\n",
       "</div>"
      ],
      "text/plain": [
       "              2BDA        3BDA     LnChl-a\n",
       "count   322.000000  322.000000  322.000000\n",
       "mean      0.982029   -0.006932    1.303196\n",
       "std       0.107768    0.157077    0.734080\n",
       "min       0.806335   -0.181678   -2.995732\n",
       "25%       0.907109   -0.102104    0.964509\n",
       "50%       0.958751   -0.048501    1.368863\n",
       "75%       1.037415    0.047345    1.772054\n",
       "max       1.612425    1.130994    3.288402\n",
       "+3_std    1.305331    0.464300    3.505437\n",
       "-3_std    0.658726   -0.478163   -0.899045"
      ]
     },
     "execution_count": 21,
     "metadata": {},
     "output_type": "execute_result"
    }
   ],
   "source": [
    "list1 = ['2BDA', '3BDA', 'LnChl-a']\n",
    "\n",
    "# get the summary for Mesotrophic Lakes\n",
    "desc_Mesotrophic = Mesotrophic_data [list1].describe()\n",
    "\n",
    "# add the standard deviation metric\n",
    "desc_Mesotrophic.loc['+3_std'] = desc_Mesotrophic.loc['mean'] + (desc_Mesotrophic.loc['std'] * 3)\n",
    "desc_Mesotrophic.loc['-3_std'] = desc_Mesotrophic.loc['mean'] - (desc_Mesotrophic.loc['std'] * 3)\n",
    "\n",
    "# display it\n",
    "desc_Mesotrophic"
   ]
  },
  {
   "cell_type": "code",
   "execution_count": 22,
   "id": "5490e80e",
   "metadata": {},
   "outputs": [
    {
     "data": {
      "text/html": [
       "<div>\n",
       "<style scoped>\n",
       "    .dataframe tbody tr th:only-of-type {\n",
       "        vertical-align: middle;\n",
       "    }\n",
       "\n",
       "    .dataframe tbody tr th {\n",
       "        vertical-align: top;\n",
       "    }\n",
       "\n",
       "    .dataframe thead th {\n",
       "        text-align: right;\n",
       "    }\n",
       "</style>\n",
       "<table border=\"1\" class=\"dataframe\">\n",
       "  <thead>\n",
       "    <tr style=\"text-align: right;\">\n",
       "      <th></th>\n",
       "      <th>2BDA</th>\n",
       "      <th>3BDA</th>\n",
       "      <th>LnChl-a</th>\n",
       "    </tr>\n",
       "  </thead>\n",
       "  <tbody>\n",
       "    <tr>\n",
       "      <th>2BDA</th>\n",
       "      <td>1.000000</td>\n",
       "      <td>0.971951</td>\n",
       "      <td>-0.097919</td>\n",
       "    </tr>\n",
       "    <tr>\n",
       "      <th>3BDA</th>\n",
       "      <td>0.971951</td>\n",
       "      <td>1.000000</td>\n",
       "      <td>-0.106385</td>\n",
       "    </tr>\n",
       "    <tr>\n",
       "      <th>LnChl-a</th>\n",
       "      <td>-0.097919</td>\n",
       "      <td>-0.106385</td>\n",
       "      <td>1.000000</td>\n",
       "    </tr>\n",
       "  </tbody>\n",
       "</table>\n",
       "</div>"
      ],
      "text/plain": [
       "             2BDA      3BDA   LnChl-a\n",
       "2BDA     1.000000  0.971951 -0.097919\n",
       "3BDA     0.971951  1.000000 -0.106385\n",
       "LnChl-a -0.097919 -0.106385  1.000000"
      ]
     },
     "metadata": {},
     "output_type": "display_data"
    }
   ],
   "source": [
    "# Pearson Coefficient \n",
    "corr = Mesotrophic_data[list1].corr(method='pearson')\n",
    "\n",
    "# display the correlation matrix\n",
    "display(corr)"
   ]
  },
  {
   "cell_type": "code",
   "execution_count": 23,
   "id": "1e0e0365",
   "metadata": {},
   "outputs": [
    {
     "data": {
      "text/plain": [
       "<seaborn.axisgrid.PairGrid at 0x210866998e0>"
      ]
     },
     "execution_count": 23,
     "metadata": {},
     "output_type": "execute_result"
    },
    {
     "data": {
      "image/png": "[encoded data removed]",
      "text/plain": [
       "<Figure size 540x540 with 12 Axes>"
      ]
     },
     "metadata": {
      "needs_background": "light"
     },
     "output_type": "display_data"
    }
   ],
   "source": [
    "# Scatter plot for each variable in our dataset against another variable\n",
    "sns.pairplot(Mesotrophic_data[list1])"
   ]
  },
  {
   "cell_type": "code",
   "execution_count": 24,
   "id": "76764cad",
   "metadata": {},
   "outputs": [],
   "source": [
    "# Getting column names\n",
    "X_columns1 = [\"2BDA\", \"3BDA\"]\n",
    "Y = Mesotrophic_data[\"LnChl-a\"]"
   ]
  },
  {
   "cell_type": "code",
   "execution_count": 25,
   "id": "c076a25d",
   "metadata": {},
   "outputs": [
    {
     "data": {
      "text/html": [
       "<div>\n",
       "<style scoped>\n",
       "    .dataframe tbody tr th:only-of-type {\n",
       "        vertical-align: middle;\n",
       "    }\n",
       "\n",
       "    .dataframe tbody tr th {\n",
       "        vertical-align: top;\n",
       "    }\n",
       "\n",
       "    .dataframe thead th {\n",
       "        text-align: right;\n",
       "    }\n",
       "</style>\n",
       "<table border=\"1\" class=\"dataframe\">\n",
       "  <thead>\n",
       "    <tr style=\"text-align: right;\">\n",
       "      <th></th>\n",
       "      <th>VIF Factor</th>\n",
       "      <th>features</th>\n",
       "    </tr>\n",
       "  </thead>\n",
       "  <tbody>\n",
       "    <tr>\n",
       "      <th>0</th>\n",
       "      <td>1.0</td>\n",
       "      <td>2BDA</td>\n",
       "    </tr>\n",
       "    <tr>\n",
       "      <th>1</th>\n",
       "      <td>1.0</td>\n",
       "      <td>3BDA</td>\n",
       "    </tr>\n",
       "  </tbody>\n",
       "</table>\n",
       "</div>"
      ],
      "text/plain": [
       "   VIF Factor features\n",
       "0         1.0     2BDA\n",
       "1         1.0     3BDA"
      ]
     },
     "execution_count": 25,
     "metadata": {},
     "output_type": "execute_result"
    }
   ],
   "source": [
    "#Calculate VIFs on our dataset\n",
    "vif = pd.DataFrame()\n",
    "vif[\"VIF Factor\"] = [variance_inflation_factor(Mesotrophic_data[X_columns1[0:2]].values, i) for i in range(Mesotrophic_data[X_columns1[0:2]].shape[1])]\n",
    "vif[\"features\"] = Mesotrophic_data[X_columns1[0:2]].columns\n",
    "\n",
    "# display VIF\n",
    "vif.round()"
   ]
  },
  {
   "cell_type": "code",
   "execution_count": 26,
   "id": "7815cd62",
   "metadata": {},
   "outputs": [
    {
     "name": "stdout",
     "output_type": "stream",
     "text": [
      "                            OLS Regression Results                            \n",
      "==============================================================================\n",
      "Dep. Variable:                LnChl-a   R-squared:                       0.016\n",
      "Model:                            OLS   Adj. R-squared:                  0.007\n",
      "Method:                 Least Squares   F-statistic:                     1.770\n",
      "Date:                Mon, 07 Mar 2022   Prob (F-statistic):              0.173\n",
      "Time:                        15:50:19   Log-Likelihood:                -242.51\n",
      "No. Observations:                 225   AIC:                             491.0\n",
      "Df Residuals:                     222   BIC:                             501.3\n",
      "Df Model:                           2                                         \n",
      "Covariance Type:            nonrobust                                         \n",
      "==============================================================================\n",
      "                 coef    std err          t      P>|t|      [0.025      0.975]\n",
      "------------------------------------------------------------------------------\n",
      "const         -0.3053      1.732     -0.176      0.860      -3.719       3.109\n",
      "2BDA           1.6132      1.755      0.919      0.359      -1.845       5.072\n",
      "3BDA          -1.5065      1.175     -1.282      0.201      -3.822       0.809\n",
      "==============================================================================\n",
      "Omnibus:                       94.457   Durbin-Watson:                   2.008\n",
      "Prob(Omnibus):                  0.000   Jarque-Bera (JB):              435.842\n",
      "Skew:                          -1.628   Prob(JB):                     2.28e-95\n",
      "Kurtosis:                       8.990   Cond. No.                         80.1\n",
      "==============================================================================\n",
      "\n",
      "Notes:\n",
      "[1] Standard Errors assume that the covariance matrix of the errors is correctly specified.\n"
     ]
    }
   ],
   "source": [
    "# Extract independent variables (X) & dependent variable (Y)\n",
    "X = Mesotrophic_data[X_columns1]\n",
    "X = add_constant(X)\n",
    "Y = Mesotrophic_data['LnChl-a']\n",
    "\n",
    "# Split X and Y into train and test \n",
    "X_train, X_test, Y_train, Y_test = train_test_split(X, Y, test_size=0.30, random_state=1)\n",
    "\n",
    "# Create a Linear Regression model object\n",
    "regression_model = OLS(Y_train,X_train)\n",
    "result = OLS(Y_train,X_train).fit()\n",
    "print(result.summary())"
   ]
  },
  {
   "cell_type": "code",
   "execution_count": 27,
   "id": "514f8049",
   "metadata": {},
   "outputs": [],
   "source": [
    "# 2 variables model (2BDA & NDCI)"
   ]
  },
  {
   "cell_type": "code",
   "execution_count": 29,
   "id": "76e30dd3",
   "metadata": {},
   "outputs": [
    {
     "data": {
      "text/html": [
       "<div>\n",
       "<style scoped>\n",
       "    .dataframe tbody tr th:only-of-type {\n",
       "        vertical-align: middle;\n",
       "    }\n",
       "\n",
       "    .dataframe tbody tr th {\n",
       "        vertical-align: top;\n",
       "    }\n",
       "\n",
       "    .dataframe thead th {\n",
       "        text-align: right;\n",
       "    }\n",
       "</style>\n",
       "<table border=\"1\" class=\"dataframe\">\n",
       "  <thead>\n",
       "    <tr style=\"text-align: right;\">\n",
       "      <th></th>\n",
       "      <th>2BDA</th>\n",
       "      <th>NDCI</th>\n",
       "      <th>LnChl-a</th>\n",
       "    </tr>\n",
       "  </thead>\n",
       "  <tbody>\n",
       "    <tr>\n",
       "      <th>count</th>\n",
       "      <td>322.000000</td>\n",
       "      <td>322.000000</td>\n",
       "      <td>322.000000</td>\n",
       "    </tr>\n",
       "    <tr>\n",
       "      <th>mean</th>\n",
       "      <td>0.982029</td>\n",
       "      <td>-0.011797</td>\n",
       "      <td>1.303196</td>\n",
       "    </tr>\n",
       "    <tr>\n",
       "      <th>std</th>\n",
       "      <td>0.107768</td>\n",
       "      <td>0.050627</td>\n",
       "      <td>0.734080</td>\n",
       "    </tr>\n",
       "    <tr>\n",
       "      <th>min</th>\n",
       "      <td>0.806335</td>\n",
       "      <td>-0.107215</td>\n",
       "      <td>-2.995732</td>\n",
       "    </tr>\n",
       "    <tr>\n",
       "      <th>25%</th>\n",
       "      <td>0.907109</td>\n",
       "      <td>-0.048708</td>\n",
       "      <td>0.964509</td>\n",
       "    </tr>\n",
       "    <tr>\n",
       "      <th>50%</th>\n",
       "      <td>0.958751</td>\n",
       "      <td>-0.021059</td>\n",
       "      <td>1.368863</td>\n",
       "    </tr>\n",
       "    <tr>\n",
       "      <th>75%</th>\n",
       "      <td>1.037415</td>\n",
       "      <td>0.018363</td>\n",
       "      <td>1.772054</td>\n",
       "    </tr>\n",
       "    <tr>\n",
       "      <th>max</th>\n",
       "      <td>1.612425</td>\n",
       "      <td>0.234428</td>\n",
       "      <td>3.288402</td>\n",
       "    </tr>\n",
       "    <tr>\n",
       "      <th>+3_std</th>\n",
       "      <td>1.305331</td>\n",
       "      <td>0.140084</td>\n",
       "      <td>3.505437</td>\n",
       "    </tr>\n",
       "    <tr>\n",
       "      <th>-3_std</th>\n",
       "      <td>0.658726</td>\n",
       "      <td>-0.163678</td>\n",
       "      <td>-0.899045</td>\n",
       "    </tr>\n",
       "  </tbody>\n",
       "</table>\n",
       "</div>"
      ],
      "text/plain": [
       "              2BDA        NDCI     LnChl-a\n",
       "count   322.000000  322.000000  322.000000\n",
       "mean      0.982029   -0.011797    1.303196\n",
       "std       0.107768    0.050627    0.734080\n",
       "min       0.806335   -0.107215   -2.995732\n",
       "25%       0.907109   -0.048708    0.964509\n",
       "50%       0.958751   -0.021059    1.368863\n",
       "75%       1.037415    0.018363    1.772054\n",
       "max       1.612425    0.234428    3.288402\n",
       "+3_std    1.305331    0.140084    3.505437\n",
       "-3_std    0.658726   -0.163678   -0.899045"
      ]
     },
     "execution_count": 29,
     "metadata": {},
     "output_type": "execute_result"
    }
   ],
   "source": [
    "list2 = ['2BDA', 'NDCI', 'LnChl-a']\n",
    "\n",
    "# get the summary for Mesotrophic Lakes\n",
    "desc_Mesotrophic = Mesotrophic_data [list2].describe()\n",
    "\n",
    "# add the standard deviation metric\n",
    "desc_Mesotrophic.loc['+3_std'] = desc_Mesotrophic.loc['mean'] + (desc_Mesotrophic.loc['std'] * 3)\n",
    "desc_Mesotrophic.loc['-3_std'] = desc_Mesotrophic.loc['mean'] - (desc_Mesotrophic.loc['std'] * 3)\n",
    "\n",
    "# display it\n",
    "desc_Mesotrophic"
   ]
  },
  {
   "cell_type": "code",
   "execution_count": 30,
   "id": "1ae300a5",
   "metadata": {},
   "outputs": [
    {
     "data": {
      "text/html": [
       "<div>\n",
       "<style scoped>\n",
       "    .dataframe tbody tr th:only-of-type {\n",
       "        vertical-align: middle;\n",
       "    }\n",
       "\n",
       "    .dataframe tbody tr th {\n",
       "        vertical-align: top;\n",
       "    }\n",
       "\n",
       "    .dataframe thead th {\n",
       "        text-align: right;\n",
       "    }\n",
       "</style>\n",
       "<table border=\"1\" class=\"dataframe\">\n",
       "  <thead>\n",
       "    <tr style=\"text-align: right;\">\n",
       "      <th></th>\n",
       "      <th>2BDA</th>\n",
       "      <th>NDCI</th>\n",
       "      <th>LnChl-a</th>\n",
       "    </tr>\n",
       "  </thead>\n",
       "  <tbody>\n",
       "    <tr>\n",
       "      <th>2BDA</th>\n",
       "      <td>1.000000</td>\n",
       "      <td>0.994673</td>\n",
       "      <td>-0.097919</td>\n",
       "    </tr>\n",
       "    <tr>\n",
       "      <th>NDCI</th>\n",
       "      <td>0.994673</td>\n",
       "      <td>1.000000</td>\n",
       "      <td>-0.097216</td>\n",
       "    </tr>\n",
       "    <tr>\n",
       "      <th>LnChl-a</th>\n",
       "      <td>-0.097919</td>\n",
       "      <td>-0.097216</td>\n",
       "      <td>1.000000</td>\n",
       "    </tr>\n",
       "  </tbody>\n",
       "</table>\n",
       "</div>"
      ],
      "text/plain": [
       "             2BDA      NDCI   LnChl-a\n",
       "2BDA     1.000000  0.994673 -0.097919\n",
       "NDCI     0.994673  1.000000 -0.097216\n",
       "LnChl-a -0.097919 -0.097216  1.000000"
      ]
     },
     "metadata": {},
     "output_type": "display_data"
    }
   ],
   "source": [
    "# Pearson Coefficient \n",
    "corr = Mesotrophic_data[list2].corr(method='pearson')\n",
    "\n",
    "# display the correlation matrix\n",
    "display(corr)"
   ]
  },
  {
   "cell_type": "code",
   "execution_count": 31,
   "id": "8246e893",
   "metadata": {},
   "outputs": [],
   "source": [
    "# Getting column names\n",
    "X_columns2 = [\"2BDA\", \"NDCI\"]\n",
    "Y = Mesotrophic_data[\"LnChl-a\"]"
   ]
  },
  {
   "cell_type": "code",
   "execution_count": 32,
   "id": "d0bca717",
   "metadata": {},
   "outputs": [
    {
     "name": "stdout",
     "output_type": "stream",
     "text": [
      "                            OLS Regression Results                            \n",
      "==============================================================================\n",
      "Dep. Variable:                LnChl-a   R-squared:                       0.009\n",
      "Model:                            OLS   Adj. R-squared:                 -0.000\n",
      "Method:                 Least Squares   F-statistic:                    0.9808\n",
      "Date:                Mon, 07 Mar 2022   Prob (F-statistic):              0.377\n",
      "Time:                        15:50:40   Log-Likelihood:                -243.30\n",
      "No. Observations:                 225   AIC:                             492.6\n",
      "Df Residuals:                     222   BIC:                             502.8\n",
      "Df Model:                           2                                         \n",
      "Covariance Type:            nonrobust                                         \n",
      "==============================================================================\n",
      "                 coef    std err          t      P>|t|      [0.025      0.975]\n",
      "------------------------------------------------------------------------------\n",
      "const          2.9601      3.937      0.752      0.453      -4.800      10.720\n",
      "2BDA          -1.6717      3.906     -0.428      0.669      -9.370       6.027\n",
      "NDCI           2.3919      8.456      0.283      0.778     -14.272      19.056\n",
      "==============================================================================\n",
      "Omnibus:                      101.767   Durbin-Watson:                   2.007\n",
      "Prob(Omnibus):                  0.000   Jarque-Bera (JB):              527.787\n",
      "Skew:                          -1.729   Prob(JB):                    2.47e-115\n",
      "Kurtosis:                       9.659   Cond. No.                         296.\n",
      "==============================================================================\n",
      "\n",
      "Notes:\n",
      "[1] Standard Errors assume that the covariance matrix of the errors is correctly specified.\n"
     ]
    }
   ],
   "source": [
    "# Extract independent variables (X) & dependent variable (Y)\n",
    "X = Mesotrophic_data[X_columns2]\n",
    "X = add_constant(X)\n",
    "Y = Mesotrophic_data['LnChl-a']\n",
    "\n",
    "# Split X and Y into train and test \n",
    "X_train, X_test, Y_train, Y_test = train_test_split(X, Y, test_size=0.30, random_state=1)\n",
    "\n",
    "# Create a Linear Regression model object\n",
    "regression_model = OLS(Y_train,X_train)\n",
    "result = OLS(Y_train,X_train).fit()\n",
    "print(result.summary())"
   ]
  },
  {
   "cell_type": "code",
   "execution_count": null,
   "id": "71ff36e8",
   "metadata": {},
   "outputs": [],
   "source": []
  }
 ],
 "metadata": {
  "kernelspec": {
   "display_name": "Python 3",
   "language": "python",
   "name": "python3"
  },
  "language_info": {
   "codemirror_mode": {
    "name": "ipython",
    "version": 3
   },
   "file_extension": ".py",
   "mimetype": "text/x-python",
   "name": "python",
   "nbconvert_exporter": "python",
   "pygments_lexer": "ipython3",
   "version": "3.8.8"
  }
 },
 "nbformat": 4,
 "nbformat_minor": 5
}
