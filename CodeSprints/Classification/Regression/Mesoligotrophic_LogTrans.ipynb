{
 "cells": [
  {
   "cell_type": "code",
   "execution_count": 33,
   "id": "e761e8da",
   "metadata": {},
   "outputs": [],
   "source": [
    "import pandas as pd\n",
    "import numpy as np\n",
    "import matplotlib.pyplot as plt\n",
    "import statsmodels.api as sm\n",
    "import seaborn as sns\n",
    "\n",
    "from statsmodels.stats.outliers_influence import variance_inflation_factor\n",
    "from statsmodels.api import OLS\n",
    "from statsmodels.api import add_constant\n",
    "\n",
    "from sklearn.linear_model import LinearRegression\n",
    "from sklearn.model_selection import train_test_split\n",
    "from sklearn.metrics import mean_squared_error, r2_score, mean_absolute_error"
   ]
  },
  {
   "cell_type": "code",
   "execution_count": 34,
   "id": "e815c109",
   "metadata": {},
   "outputs": [
    {
     "data": {
      "text/plain": [
       "'C:\\\\Users\\\\SarShel\\\\DEC\\\\Regression'"
      ]
     },
     "execution_count": 34,
     "metadata": {},
     "output_type": "execute_result"
    }
   ],
   "source": [
    "import os\n",
    "os.getcwd()"
   ]
  },
  {
   "cell_type": "code",
   "execution_count": 35,
   "id": "e9178b07",
   "metadata": {},
   "outputs": [
    {
     "data": {
      "text/plain": [
       "'C:\\\\Users\\\\SarShel\\\\DEC\\\\Regression'"
      ]
     },
     "execution_count": 35,
     "metadata": {},
     "output_type": "execute_result"
    }
   ],
   "source": [
    "os.chdir('C:\\\\Users\\\\SarShel\\\\DEC\\\\Regression')\n",
    "os.getcwd()"
   ]
  },
  {
   "cell_type": "code",
   "execution_count": 36,
   "id": "4ac3f4c4",
   "metadata": {},
   "outputs": [
    {
     "name": "stdout",
     "output_type": "stream",
     "text": [
      "      Unnamed: 0         Lake Name          Y          X       Date  Year  \\\n",
      "0              0  Little Long Pond  40.977600 -72.296204   6/4/2016  2016   \n",
      "1              1        Hatch Lake  42.834598 -75.677803   6/5/2016  2016   \n",
      "2              2   Montgomery Lake  41.525299 -74.917297   6/4/2016  2016   \n",
      "3              3         Dean Pond  42.447700 -76.003403   6/4/2016  2016   \n",
      "4              4   Chautauqua Lake  42.219885 -79.455423   6/5/2016  2016   \n",
      "...          ...               ...        ...        ...        ...   ...   \n",
      "4599        4599         Long Pond  40.975102 -72.290802  7/12/2020  2020   \n",
      "4600        4600         Long Pond  40.975102 -72.290802  7/26/2020  2020   \n",
      "4601        4601         Long Pond  40.975102 -72.290802   8/9/2020  2020   \n",
      "4602        4602         Long Pond  40.975102 -72.290802  8/23/2020  2020   \n",
      "4603        4603         Long Pond  40.975102 -72.290802   9/7/2020  2020   \n",
      "\n",
      "      Month  Day  Chl-a(ug/l)  SDD (m)  Phos (mg/l)  Chl score  SDD score  \\\n",
      "0         6    4        1.200     2.90      0.01320        3.0        2.0   \n",
      "1         6    5        2.900     8.05      0.01090        2.0        1.0   \n",
      "2         6    4        2.900     3.80      0.00920        2.0        2.0   \n",
      "3         6    4       16.600     1.00      0.04460        1.0        3.0   \n",
      "4         6    5        2.000     2.00      0.02780        2.0        2.0   \n",
      "...     ...  ...          ...      ...          ...        ...        ...   \n",
      "4599      7   12        5.248     1.20      0.01830        2.0        3.0   \n",
      "4600      7   26        8.168     1.40      0.02430        1.0        3.0   \n",
      "4601      8    9        9.048     1.15      0.02660        1.0        3.0   \n",
      "4602      8   23       13.088     1.35      0.00585        1.0        3.0   \n",
      "4603      9    7        7.778     1.10      0.02980        2.0        3.0   \n",
      "\n",
      "      Phos score  Sum of score     Tropic state  \n",
      "0            2.0           7.0  Mesoligotrophic  \n",
      "1            2.0           5.0    Mesoeutrophic  \n",
      "2            3.0           7.0  Mesoligotrophic  \n",
      "3            1.0           5.0    Mesoeutrophic  \n",
      "4            1.0           5.0    Mesoeutrophic  \n",
      "...          ...           ...              ...  \n",
      "4599         2.0           7.0  Mesoligotrophic  \n",
      "4600         1.0           5.0    Mesoeutrophic  \n",
      "4601         1.0           5.0    Mesoeutrophic  \n",
      "4602         3.0           7.0  Mesoligotrophic  \n",
      "4603         1.0           6.0      Mesotrophic  \n",
      "\n",
      "[4600 rows x 16 columns]\n"
     ]
    }
   ],
   "source": [
    "# Read Classified field dataset \n",
    "FieldData0 = pd.read_csv('data_raw/ClassifiedData/FieldData_class.csv')\n",
    "\n",
    "# Remove none values\n",
    "FieldData = FieldData0.dropna()\n",
    "\n",
    "# Display DataFrame\n",
    "print(FieldData)"
   ]
  },
  {
   "cell_type": "code",
   "execution_count": 37,
   "id": "9ad0dac1",
   "metadata": {},
   "outputs": [
    {
     "name": "stdout",
     "output_type": "stream",
     "text": [
      "       Year  Month  Day      2BDA      3BDA      NDCI        B1       B10  \\\n",
      "0      2016      5    7  0.956819 -0.044095 -0.022067  0.117900  0.002955   \n",
      "1      2016      5    7  0.956897 -0.043909 -0.022026  0.117907  0.002955   \n",
      "2      2016      5    7  1.015060  0.016807  0.007474  0.147959  0.008728   \n",
      "3      2016      5    7  0.991619 -0.009014 -0.004208  0.142645  0.007528   \n",
      "4      2016      5    7  0.881187 -0.110047 -0.063158  0.116655  0.002038   \n",
      "...     ...    ...  ...       ...       ...       ...       ...       ...   \n",
      "35028  2020     10   30  0.853926 -0.129055 -0.078792  0.152807  0.001676   \n",
      "35029  2020     10   30  1.077396  0.061427  0.037256  0.126659  0.001469   \n",
      "35030  2020     10   30  0.945077 -0.051659 -0.028237  0.134852  0.007321   \n",
      "35031  2020     10   30  0.961857 -0.039219 -0.019442  0.132445  0.007393   \n",
      "35032  2020     10   30  0.959639 -0.039047 -0.020596  0.126638  0.006003   \n",
      "\n",
      "            B11       B12  ...        B3        B4        B5        B6  \\\n",
      "0      0.016390  0.011321  ...  0.066817  0.042403  0.040572  0.041431   \n",
      "1      0.016390  0.011321  ...  0.066817  0.042400  0.040572  0.041331   \n",
      "2      0.053441  0.041969  ...  0.098893  0.080366  0.081576  0.091038   \n",
      "3      0.047441  0.035914  ...  0.095421  0.073648  0.073031  0.078548   \n",
      "4      0.007586  0.005145  ...  0.066907  0.038455  0.033886  0.031386   \n",
      "...         ...       ...  ...       ...       ...       ...       ...   \n",
      "35028  0.008662  0.005803  ...  0.070890  0.044710  0.038179  0.033731   \n",
      "35029  0.014217  0.008186  ...  0.071028  0.040410  0.043538  0.034555   \n",
      "35030  0.018221  0.015945  ...  0.070283  0.047528  0.044917  0.042248   \n",
      "35031  0.022983  0.016369  ...  0.067686  0.047010  0.045217  0.046493   \n",
      "35032  0.016324  0.011272  ...  0.062962  0.040838  0.039190  0.037914   \n",
      "\n",
      "             B7        B8       B8A        B9          X          Y  \n",
      "0      0.040707  0.035441  0.036210  0.016803 -79.726196  42.101898  \n",
      "1      0.040714  0.035441  0.036172  0.016969 -79.726196  42.101898  \n",
      "2      0.094266  0.090610  0.094869  0.046917 -79.455423  42.219885  \n",
      "3      0.079997  0.077869  0.077197  0.034931 -79.430702  42.180951  \n",
      "4      0.030362  0.024534  0.025524  0.011448 -79.363881  42.123269  \n",
      "...         ...       ...       ...       ...        ...        ...  \n",
      "35028  0.030021  0.027724  0.024259  0.012969 -76.958078  43.248531  \n",
      "35029  0.034010  0.027786  0.029086  0.020831 -76.222702  43.235401  \n",
      "35030  0.041645  0.041476  0.038621  0.031514 -75.775200  44.316502  \n",
      "35031  0.044748  0.044814  0.042314  0.030562 -75.775002  44.279800  \n",
      "35032  0.036766  0.037372  0.033231  0.022614 -75.767502  44.292198  \n",
      "\n",
      "[35033 rows x 21 columns]\n"
     ]
    }
   ],
   "source": [
    "# Read S2 dataset \n",
    "S2Data0 = pd.read_csv('data_raw/ClassifiedData/S2Data.csv')\n",
    "\n",
    "# Remove none values\n",
    "S2Data = S2Data0.dropna()\n",
    "\n",
    "# Display DataFrame\n",
    "print(S2Data)"
   ]
  },
  {
   "cell_type": "code",
   "execution_count": 38,
   "id": "51958282",
   "metadata": {},
   "outputs": [
    {
     "name": "stdout",
     "output_type": "stream",
     "text": [
      "      Unnamed: 0          Lake Name          Y          X       Date  Year  \\\n",
      "0             36          Kirk Lake  41.385601 -73.749802  6/27/2016  2016   \n",
      "1             36          Kirk Lake  41.385601 -73.749802  6/27/2016  2016   \n",
      "2             36          Kirk Lake  41.385601 -73.749802  6/27/2016  2016   \n",
      "3             39     Cazenovia Lake  42.948200 -75.872002  6/23/2016  2016   \n",
      "4             39     Cazenovia Lake  42.948200 -75.872002  6/23/2016  2016   \n",
      "...          ...                ...        ...        ...        ...   ...   \n",
      "1088        4587  Little Fresh Pond  40.918201 -72.408501  8/30/2020  2020   \n",
      "1089        4592   Little Long Pond  40.977600 -72.296204  7/26/2020  2020   \n",
      "1090        4592   Little Long Pond  40.977600 -72.296204  7/26/2020  2020   \n",
      "1091        4600          Long Pond  40.975102 -72.290802  7/26/2020  2020   \n",
      "1092        4600          Long Pond  40.975102 -72.290802  7/26/2020  2020   \n",
      "\n",
      "      Month  Day  Chl-a(ug/l)  SDD (m)  ...       B12        B2        B3  \\\n",
      "0         6   27        1.000     2.40  ...  0.010024  0.090128  0.069817   \n",
      "1         6   27        1.000     2.40  ...  0.010024  0.090128  0.069817   \n",
      "2         6   27        1.000     2.40  ...  0.010024  0.090128  0.069817   \n",
      "3         6   23        1.500     4.85  ...  0.059628  0.136434  0.114286   \n",
      "4         6   23        1.500     4.85  ...  0.059628  0.136434  0.114286   \n",
      "...     ...  ...          ...      ...  ...       ...       ...       ...   \n",
      "1088      8   30        2.836     1.40  ...  0.141214  0.168424  0.150407   \n",
      "1089      7   26        2.622     2.85  ...  0.043166  0.105979  0.086414   \n",
      "1090      7   26        2.622     2.85  ...  0.043076  0.106431  0.088262   \n",
      "1091      7   26        8.168     1.40  ...  0.045714  0.125934  0.102697   \n",
      "1092      7   26        8.168     1.40  ...  0.043914  0.127021  0.103686   \n",
      "\n",
      "            B4        B5        B6        B7        B8       B8A        B9  \n",
      "0     0.042407  0.039348  0.048121  0.050697  0.043262  0.044607  0.010859  \n",
      "1     0.042407  0.039348  0.048121  0.050697  0.043262  0.044607  0.010859  \n",
      "2     0.042407  0.039348  0.048121  0.050693  0.043262  0.044607  0.010859  \n",
      "3     0.098217  0.094638  0.100941  0.102466  0.101697  0.097193  0.028014  \n",
      "4     0.098217  0.094638  0.100941  0.102466  0.101697  0.097193  0.028014  \n",
      "...        ...       ...       ...       ...       ...       ...       ...  \n",
      "1088  0.136007  0.150055  0.227241  0.265983  0.265224  0.293317  0.094345  \n",
      "1089  0.063159  0.079669  0.139783  0.167700  0.129279  0.176355  0.040662  \n",
      "1090  0.064634  0.082555  0.145114  0.172072  0.134097  0.179403  0.041586  \n",
      "1091  0.076810  0.088400  0.144431  0.168379  0.178252  0.175324  0.038690  \n",
      "1092  0.077014  0.087110  0.141569  0.163848  0.181493  0.169276  0.036676  \n",
      "\n",
      "[1093 rows x 32 columns]\n"
     ]
    }
   ],
   "source": [
    "# Merge classified FieldData and S2Data; \n",
    "Data_class = pd.merge(FieldData, S2Data, on=['Y', 'X', 'Year', 'Month', 'Day'], how='inner')\n",
    "Data_class.to_csv('data_output/ClassifiedData/Data_class.csv')\n",
    "\n",
    "# displaying result\n",
    "print(Data_class)"
   ]
  },
  {
   "cell_type": "code",
   "execution_count": 39,
   "id": "01e7117a",
   "metadata": {},
   "outputs": [
    {
     "name": "stdout",
     "output_type": "stream",
     "text": [
      "      Unnamed: 0          Lake Name          Y          X       Date  Year  \\\n",
      "0             36          Kirk Lake  41.385601 -73.749802  6/27/2016  2016   \n",
      "1             36          Kirk Lake  41.385601 -73.749802  6/27/2016  2016   \n",
      "2             36          Kirk Lake  41.385601 -73.749802  6/27/2016  2016   \n",
      "3             39     Cazenovia Lake  42.948200 -75.872002  6/23/2016  2016   \n",
      "4             39     Cazenovia Lake  42.948200 -75.872002  6/23/2016  2016   \n",
      "...          ...                ...        ...        ...        ...   ...   \n",
      "1088        4587  Little Fresh Pond  40.918201 -72.408501  8/30/2020  2020   \n",
      "1089        4592   Little Long Pond  40.977600 -72.296204  7/26/2020  2020   \n",
      "1090        4592   Little Long Pond  40.977600 -72.296204  7/26/2020  2020   \n",
      "1091        4600          Long Pond  40.975102 -72.290802  7/26/2020  2020   \n",
      "1092        4600          Long Pond  40.975102 -72.290802  7/26/2020  2020   \n",
      "\n",
      "      Month  Day  Chl-a(ug/l)  SDD (m)  ...        B2        B3        B4  \\\n",
      "0         6   27        1.000     2.40  ...  0.090128  0.069817  0.042407   \n",
      "1         6   27        1.000     2.40  ...  0.090128  0.069817  0.042407   \n",
      "2         6   27        1.000     2.40  ...  0.090128  0.069817  0.042407   \n",
      "3         6   23        1.500     4.85  ...  0.136434  0.114286  0.098217   \n",
      "4         6   23        1.500     4.85  ...  0.136434  0.114286  0.098217   \n",
      "...     ...  ...          ...      ...  ...       ...       ...       ...   \n",
      "1088      8   30        2.836     1.40  ...  0.168424  0.150407  0.136007   \n",
      "1089      7   26        2.622     2.85  ...  0.105979  0.086414  0.063159   \n",
      "1090      7   26        2.622     2.85  ...  0.106431  0.088262  0.064634   \n",
      "1091      7   26        8.168     1.40  ...  0.125934  0.102697  0.076810   \n",
      "1092      7   26        8.168     1.40  ...  0.127021  0.103686  0.077014   \n",
      "\n",
      "            B5        B6        B7        B8       B8A        B9   LnChl-a  \n",
      "0     0.039348  0.048121  0.050697  0.043262  0.044607  0.010859  0.000000  \n",
      "1     0.039348  0.048121  0.050697  0.043262  0.044607  0.010859  0.000000  \n",
      "2     0.039348  0.048121  0.050693  0.043262  0.044607  0.010859  0.000000  \n",
      "3     0.094638  0.100941  0.102466  0.101697  0.097193  0.028014  0.405465  \n",
      "4     0.094638  0.100941  0.102466  0.101697  0.097193  0.028014  0.405465  \n",
      "...        ...       ...       ...       ...       ...       ...       ...  \n",
      "1088  0.150055  0.227241  0.265983  0.265224  0.293317  0.094345  1.042395  \n",
      "1089  0.079669  0.139783  0.167700  0.129279  0.176355  0.040662  0.963937  \n",
      "1090  0.082555  0.145114  0.172072  0.134097  0.179403  0.041586  0.963937  \n",
      "1091  0.088400  0.144431  0.168379  0.178252  0.175324  0.038690  2.100224  \n",
      "1092  0.087110  0.141569  0.163848  0.181493  0.169276  0.036676  2.100224  \n",
      "\n",
      "[1093 rows x 33 columns]\n"
     ]
    }
   ],
   "source": [
    "# Return the natural logarithm of Chl-a (Y)\n",
    "Data_class['LnChl-a']=np.log(Data_class['Chl-a(ug/l)'])\n",
    "print(Data_class)"
   ]
  },
  {
   "cell_type": "code",
   "execution_count": 40,
   "id": "f548a26b",
   "metadata": {},
   "outputs": [
    {
     "data": {
      "text/plain": [
       "(457, 33)"
      ]
     },
     "execution_count": 40,
     "metadata": {},
     "output_type": "execute_result"
    }
   ],
   "source": [
    "# Select Mesoligotrophi Data \n",
    "Mesoligotrophic_data = Data_class.loc[(Data_class ['Tropic state'] == 'Mesoligotrophic')]\n",
    "Mesoligotrophic_data.shape"
   ]
  },
  {
   "cell_type": "code",
   "execution_count": 42,
   "id": "a60fb902",
   "metadata": {},
   "outputs": [
    {
     "data": {
      "text/html": [
       "<div>\n",
       "<style scoped>\n",
       "    .dataframe tbody tr th:only-of-type {\n",
       "        vertical-align: middle;\n",
       "    }\n",
       "\n",
       "    .dataframe tbody tr th {\n",
       "        vertical-align: top;\n",
       "    }\n",
       "\n",
       "    .dataframe thead th {\n",
       "        text-align: right;\n",
       "    }\n",
       "</style>\n",
       "<table border=\"1\" class=\"dataframe\">\n",
       "  <thead>\n",
       "    <tr style=\"text-align: right;\">\n",
       "      <th></th>\n",
       "      <th>2BDA</th>\n",
       "      <th>3BDA</th>\n",
       "      <th>NDCI</th>\n",
       "      <th>LnChl-a</th>\n",
       "    </tr>\n",
       "  </thead>\n",
       "  <tbody>\n",
       "    <tr>\n",
       "      <th>count</th>\n",
       "      <td>457.000000</td>\n",
       "      <td>457.000000</td>\n",
       "      <td>457.000000</td>\n",
       "      <td>457.000000</td>\n",
       "    </tr>\n",
       "    <tr>\n",
       "      <th>mean</th>\n",
       "      <td>0.965409</td>\n",
       "      <td>-0.026599</td>\n",
       "      <td>-0.019971</td>\n",
       "      <td>0.514121</td>\n",
       "    </tr>\n",
       "    <tr>\n",
       "      <th>std</th>\n",
       "      <td>0.099171</td>\n",
       "      <td>0.156121</td>\n",
       "      <td>0.047261</td>\n",
       "      <td>0.794778</td>\n",
       "    </tr>\n",
       "    <tr>\n",
       "      <th>min</th>\n",
       "      <td>0.814778</td>\n",
       "      <td>-0.183291</td>\n",
       "      <td>-0.102063</td>\n",
       "      <td>-2.995732</td>\n",
       "    </tr>\n",
       "    <tr>\n",
       "      <th>25%</th>\n",
       "      <td>0.902130</td>\n",
       "      <td>-0.112101</td>\n",
       "      <td>-0.051453</td>\n",
       "      <td>0.134706</td>\n",
       "    </tr>\n",
       "    <tr>\n",
       "      <th>50%</th>\n",
       "      <td>0.940206</td>\n",
       "      <td>-0.072467</td>\n",
       "      <td>-0.030818</td>\n",
       "      <td>0.530628</td>\n",
       "    </tr>\n",
       "    <tr>\n",
       "      <th>75%</th>\n",
       "      <td>0.992336</td>\n",
       "      <td>-0.010604</td>\n",
       "      <td>-0.003847</td>\n",
       "      <td>1.029619</td>\n",
       "    </tr>\n",
       "    <tr>\n",
       "      <th>max</th>\n",
       "      <td>1.425754</td>\n",
       "      <td>0.923198</td>\n",
       "      <td>0.175514</td>\n",
       "      <td>2.492544</td>\n",
       "    </tr>\n",
       "    <tr>\n",
       "      <th>+3_std</th>\n",
       "      <td>1.262920</td>\n",
       "      <td>0.441764</td>\n",
       "      <td>0.121812</td>\n",
       "      <td>2.898455</td>\n",
       "    </tr>\n",
       "    <tr>\n",
       "      <th>-3_std</th>\n",
       "      <td>0.667897</td>\n",
       "      <td>-0.494963</td>\n",
       "      <td>-0.161754</td>\n",
       "      <td>-1.870214</td>\n",
       "    </tr>\n",
       "  </tbody>\n",
       "</table>\n",
       "</div>"
      ],
      "text/plain": [
       "              2BDA        3BDA        NDCI     LnChl-a\n",
       "count   457.000000  457.000000  457.000000  457.000000\n",
       "mean      0.965409   -0.026599   -0.019971    0.514121\n",
       "std       0.099171    0.156121    0.047261    0.794778\n",
       "min       0.814778   -0.183291   -0.102063   -2.995732\n",
       "25%       0.902130   -0.112101   -0.051453    0.134706\n",
       "50%       0.940206   -0.072467   -0.030818    0.530628\n",
       "75%       0.992336   -0.010604   -0.003847    1.029619\n",
       "max       1.425754    0.923198    0.175514    2.492544\n",
       "+3_std    1.262920    0.441764    0.121812    2.898455\n",
       "-3_std    0.667897   -0.494963   -0.161754   -1.870214"
      ]
     },
     "execution_count": 42,
     "metadata": {},
     "output_type": "execute_result"
    }
   ],
   "source": [
    "# Descriptive statistics of all variables\n",
    "list = ['2BDA', '3BDA', 'NDCI', 'LnChl-a']\n",
    "\n",
    "# get the summary for Mesoligotrophi Lakes\n",
    "desc_Mesoligotrophic = Mesoligotrophic_data [list].describe()\n",
    "\n",
    "# add the standard deviation metric\n",
    "desc_Mesoligotrophic.loc['+3_std'] = desc_Mesoligotrophic.loc['mean'] + (desc_Mesoligotrophic.loc['std'] * 3)\n",
    "desc_Mesoligotrophic.loc['-3_std'] = desc_Mesoligotrophic.loc['mean'] - (desc_Mesoligotrophic.loc['std'] * 3)\n",
    "\n",
    "# display it\n",
    "desc_Mesoligotrophic"
   ]
  },
  {
   "cell_type": "code",
   "execution_count": 43,
   "id": "69538980",
   "metadata": {},
   "outputs": [
    {
     "data": {
      "text/html": [
       "<div>\n",
       "<style scoped>\n",
       "    .dataframe tbody tr th:only-of-type {\n",
       "        vertical-align: middle;\n",
       "    }\n",
       "\n",
       "    .dataframe tbody tr th {\n",
       "        vertical-align: top;\n",
       "    }\n",
       "\n",
       "    .dataframe thead th {\n",
       "        text-align: right;\n",
       "    }\n",
       "</style>\n",
       "<table border=\"1\" class=\"dataframe\">\n",
       "  <thead>\n",
       "    <tr style=\"text-align: right;\">\n",
       "      <th></th>\n",
       "      <th>2BDA</th>\n",
       "      <th>3BDA</th>\n",
       "      <th>NDCI</th>\n",
       "      <th>LnChl-a</th>\n",
       "    </tr>\n",
       "  </thead>\n",
       "  <tbody>\n",
       "    <tr>\n",
       "      <th>2BDA</th>\n",
       "      <td>1.000000</td>\n",
       "      <td>0.972043</td>\n",
       "      <td>0.996426</td>\n",
       "      <td>-0.080560</td>\n",
       "    </tr>\n",
       "    <tr>\n",
       "      <th>3BDA</th>\n",
       "      <td>0.972043</td>\n",
       "      <td>1.000000</td>\n",
       "      <td>0.950684</td>\n",
       "      <td>-0.098573</td>\n",
       "    </tr>\n",
       "    <tr>\n",
       "      <th>NDCI</th>\n",
       "      <td>0.996426</td>\n",
       "      <td>0.950684</td>\n",
       "      <td>1.000000</td>\n",
       "      <td>-0.072871</td>\n",
       "    </tr>\n",
       "    <tr>\n",
       "      <th>LnChl-a</th>\n",
       "      <td>-0.080560</td>\n",
       "      <td>-0.098573</td>\n",
       "      <td>-0.072871</td>\n",
       "      <td>1.000000</td>\n",
       "    </tr>\n",
       "  </tbody>\n",
       "</table>\n",
       "</div>"
      ],
      "text/plain": [
       "             2BDA      3BDA      NDCI   LnChl-a\n",
       "2BDA     1.000000  0.972043  0.996426 -0.080560\n",
       "3BDA     0.972043  1.000000  0.950684 -0.098573\n",
       "NDCI     0.996426  0.950684  1.000000 -0.072871\n",
       "LnChl-a -0.080560 -0.098573 -0.072871  1.000000"
      ]
     },
     "metadata": {},
     "output_type": "display_data"
    }
   ],
   "source": [
    "# Pearson Coefficient \n",
    "corr = Mesoligotrophic_data[list].corr(method='pearson')\n",
    "\n",
    "# display the correlation matrix\n",
    "display(corr)"
   ]
  },
  {
   "cell_type": "code",
   "execution_count": 44,
   "id": "b6531409",
   "metadata": {},
   "outputs": [
    {
     "data": {
      "text/plain": [
       "<seaborn.axisgrid.PairGrid at 0x21086699910>"
      ]
     },
     "execution_count": 44,
     "metadata": {},
     "output_type": "execute_result"
    },
    {
     "data": {
      "image/png": "[encoded data removed]",
      "text/plain": [
       "<Figure size 720x720 with 20 Axes>"
      ]
     },
     "metadata": {
      "needs_background": "light"
     },
     "output_type": "display_data"
    }
   ],
   "source": [
    "# Scatter plot for each variable in our dataset against another variable\n",
    "sns.pairplot(Mesoligotrophic_data[list])"
   ]
  },
  {
   "cell_type": "code",
   "execution_count": 45,
   "id": "e8833ef0",
   "metadata": {},
   "outputs": [],
   "source": [
    "# Getting column names\n",
    "X_columns = [\"2BDA\", \"3BDA\", \"NDCI\"]\n",
    "Y = Mesoligotrophic_data[\"LnChl-a\"]"
   ]
  },
  {
   "cell_type": "code",
   "execution_count": 46,
   "id": "030fa743",
   "metadata": {},
   "outputs": [
    {
     "data": {
      "text/html": [
       "<div>\n",
       "<style scoped>\n",
       "    .dataframe tbody tr th:only-of-type {\n",
       "        vertical-align: middle;\n",
       "    }\n",
       "\n",
       "    .dataframe tbody tr th {\n",
       "        vertical-align: top;\n",
       "    }\n",
       "\n",
       "    .dataframe thead th {\n",
       "        text-align: right;\n",
       "    }\n",
       "</style>\n",
       "<table border=\"1\" class=\"dataframe\">\n",
       "  <thead>\n",
       "    <tr style=\"text-align: right;\">\n",
       "      <th></th>\n",
       "      <th>VIF Factor</th>\n",
       "      <th>features</th>\n",
       "    </tr>\n",
       "  </thead>\n",
       "  <tbody>\n",
       "    <tr>\n",
       "      <th>0</th>\n",
       "      <td>2.0</td>\n",
       "      <td>2BDA</td>\n",
       "    </tr>\n",
       "    <tr>\n",
       "      <th>1</th>\n",
       "      <td>11.0</td>\n",
       "      <td>3BDA</td>\n",
       "    </tr>\n",
       "    <tr>\n",
       "      <th>2</th>\n",
       "      <td>12.0</td>\n",
       "      <td>NDCI</td>\n",
       "    </tr>\n",
       "  </tbody>\n",
       "</table>\n",
       "</div>"
      ],
      "text/plain": [
       "   VIF Factor features\n",
       "0         2.0     2BDA\n",
       "1        11.0     3BDA\n",
       "2        12.0     NDCI"
      ]
     },
     "execution_count": 46,
     "metadata": {},
     "output_type": "execute_result"
    }
   ],
   "source": [
    "#Calculate VIFs on our dataset\n",
    "vif = pd.DataFrame()\n",
    "vif[\"VIF Factor\"] = [variance_inflation_factor(Mesoligotrophic_data[X_columns[0:3]].values, i) for i in range(Mesoligotrophic_data[X_columns[0:3]].shape[1])]\n",
    "vif[\"features\"] = Mesoligotrophic_data[X_columns[0:3]].columns\n",
    "\n",
    "# display VIF\n",
    "vif.round()"
   ]
  },
  {
   "cell_type": "code",
   "execution_count": 47,
   "id": "4547f82d",
   "metadata": {},
   "outputs": [
    {
     "name": "stdout",
     "output_type": "stream",
     "text": [
      "                            OLS Regression Results                            \n",
      "==============================================================================\n",
      "Dep. Variable:                LnChl-a   R-squared:                       0.022\n",
      "Model:                            OLS   Adj. R-squared:                  0.013\n",
      "Method:                 Least Squares   F-statistic:                     2.411\n",
      "Date:                Mon, 07 Mar 2022   Prob (F-statistic):             0.0669\n",
      "Time:                        16:01:44   Log-Likelihood:                -385.03\n",
      "No. Observations:                 319   AIC:                             778.1\n",
      "Df Residuals:                     315   BIC:                             793.1\n",
      "Df Model:                           3                                         \n",
      "Covariance Type:            nonrobust                                         \n",
      "==============================================================================\n",
      "                 coef    std err          t      P>|t|      [0.025      0.975]\n",
      "------------------------------------------------------------------------------\n",
      "const         13.1603     15.505      0.849      0.397     -17.347      43.667\n",
      "2BDA         -12.6196     15.487     -0.815      0.416     -43.091      17.852\n",
      "3BDA           0.6336      2.711      0.234      0.815      -4.700       5.967\n",
      "NDCI          22.7526     24.528      0.928      0.354     -25.507      71.012\n",
      "==============================================================================\n",
      "Omnibus:                       64.879   Durbin-Watson:                   1.833\n",
      "Prob(Omnibus):                  0.000   Jarque-Bera (JB):              144.617\n",
      "Skew:                          -1.012   Prob(JB):                     3.95e-32\n",
      "Kurtosis:                       5.605   Cond. No.                     1.01e+03\n",
      "==============================================================================\n",
      "\n",
      "Notes:\n",
      "[1] Standard Errors assume that the covariance matrix of the errors is correctly specified.\n",
      "[2] The condition number is large, 1.01e+03. This might indicate that there are\n",
      "strong multicollinearity or other numerical problems.\n"
     ]
    }
   ],
   "source": [
    "# Extract independent variables (X) & dependent variable (Y)\n",
    "X = Mesoligotrophic_data[X_columns]\n",
    "X = add_constant(X)\n",
    "Y = Mesoligotrophic_data['LnChl-a']\n",
    "\n",
    "# Split X and Y into train and test \n",
    "X_train, X_test, Y_train, Y_test = train_test_split(X, Y, test_size=0.30, random_state=1)\n",
    "\n",
    "# Create a Linear Regression model object\n",
    "regression_model = OLS(Y_train,X_train)\n",
    "result = OLS(Y_train,X_train).fit()\n",
    "print(result.summary())"
   ]
  },
  {
   "cell_type": "code",
   "execution_count": 48,
   "id": "88050564",
   "metadata": {},
   "outputs": [
    {
     "name": "stdout",
     "output_type": "stream",
     "text": [
      "predicted Y: 125    0.495146\n",
      "344   -0.047904\n",
      "782    0.531775\n",
      "570    0.544989\n",
      "518    0.513037\n",
      "         ...   \n",
      "663    0.549146\n",
      "79     0.508236\n",
      "457    0.548684\n",
      "674    0.542149\n",
      "378    0.526114\n",
      "Length: 138, dtype: float64\n"
     ]
    }
   ],
   "source": [
    "# Get predictions\n",
    "LnY_predict = result.predict(X_test)\n",
    "print('predicted Y:', LnY_predict)"
   ]
  },
  {
   "cell_type": "code",
   "execution_count": 49,
   "id": "874e9534",
   "metadata": {},
   "outputs": [
    {
     "name": "stdout",
     "output_type": "stream",
     "text": [
      "MSE 1.84\n",
      "MAE 1.15\n",
      "RMSE 1.36\n"
     ]
    }
   ],
   "source": [
    "import math\n",
    "\n",
    "Y_predict = np.exp(LnY_predict)\n",
    "\n",
    "# Calculate the mean squared error\n",
    "model_mse = mean_squared_error(Y_test, Y_predict)\n",
    "\n",
    "# Calculate the mean absolute error\n",
    "model_mae = mean_absolute_error(Y_test, Y_predict)\n",
    "\n",
    "# Calulcate the root mean squared error\n",
    "model_rmse =  math.sqrt(model_mse)\n",
    "\n",
    "# Display the output\n",
    "print(\"MSE {:.3}\".format(model_mse))\n",
    "print(\"MAE {:.3}\".format(model_mae))\n",
    "print(\"RMSE {:.3}\".format(model_rmse))"
   ]
  },
  {
   "cell_type": "code",
   "execution_count": 50,
   "id": "121ccae3",
   "metadata": {},
   "outputs": [],
   "source": [
    "# 2 variables model (2BDA & 3BDA)"
   ]
  },
  {
   "cell_type": "code",
   "execution_count": 52,
   "id": "84dfce9a",
   "metadata": {},
   "outputs": [
    {
     "data": {
      "text/html": [
       "<div>\n",
       "<style scoped>\n",
       "    .dataframe tbody tr th:only-of-type {\n",
       "        vertical-align: middle;\n",
       "    }\n",
       "\n",
       "    .dataframe tbody tr th {\n",
       "        vertical-align: top;\n",
       "    }\n",
       "\n",
       "    .dataframe thead th {\n",
       "        text-align: right;\n",
       "    }\n",
       "</style>\n",
       "<table border=\"1\" class=\"dataframe\">\n",
       "  <thead>\n",
       "    <tr style=\"text-align: right;\">\n",
       "      <th></th>\n",
       "      <th>2BDA</th>\n",
       "      <th>3BDA</th>\n",
       "      <th>LnChl-a</th>\n",
       "    </tr>\n",
       "  </thead>\n",
       "  <tbody>\n",
       "    <tr>\n",
       "      <th>count</th>\n",
       "      <td>457.000000</td>\n",
       "      <td>457.000000</td>\n",
       "      <td>457.000000</td>\n",
       "    </tr>\n",
       "    <tr>\n",
       "      <th>mean</th>\n",
       "      <td>0.965409</td>\n",
       "      <td>-0.026599</td>\n",
       "      <td>0.514121</td>\n",
       "    </tr>\n",
       "    <tr>\n",
       "      <th>std</th>\n",
       "      <td>0.099171</td>\n",
       "      <td>0.156121</td>\n",
       "      <td>0.794778</td>\n",
       "    </tr>\n",
       "    <tr>\n",
       "      <th>min</th>\n",
       "      <td>0.814778</td>\n",
       "      <td>-0.183291</td>\n",
       "      <td>-2.995732</td>\n",
       "    </tr>\n",
       "    <tr>\n",
       "      <th>25%</th>\n",
       "      <td>0.902130</td>\n",
       "      <td>-0.112101</td>\n",
       "      <td>0.134706</td>\n",
       "    </tr>\n",
       "    <tr>\n",
       "      <th>50%</th>\n",
       "      <td>0.940206</td>\n",
       "      <td>-0.072467</td>\n",
       "      <td>0.530628</td>\n",
       "    </tr>\n",
       "    <tr>\n",
       "      <th>75%</th>\n",
       "      <td>0.992336</td>\n",
       "      <td>-0.010604</td>\n",
       "      <td>1.029619</td>\n",
       "    </tr>\n",
       "    <tr>\n",
       "      <th>max</th>\n",
       "      <td>1.425754</td>\n",
       "      <td>0.923198</td>\n",
       "      <td>2.492544</td>\n",
       "    </tr>\n",
       "    <tr>\n",
       "      <th>+3_std</th>\n",
       "      <td>1.262920</td>\n",
       "      <td>0.441764</td>\n",
       "      <td>2.898455</td>\n",
       "    </tr>\n",
       "    <tr>\n",
       "      <th>-3_std</th>\n",
       "      <td>0.667897</td>\n",
       "      <td>-0.494963</td>\n",
       "      <td>-1.870214</td>\n",
       "    </tr>\n",
       "  </tbody>\n",
       "</table>\n",
       "</div>"
      ],
      "text/plain": [
       "              2BDA        3BDA     LnChl-a\n",
       "count   457.000000  457.000000  457.000000\n",
       "mean      0.965409   -0.026599    0.514121\n",
       "std       0.099171    0.156121    0.794778\n",
       "min       0.814778   -0.183291   -2.995732\n",
       "25%       0.902130   -0.112101    0.134706\n",
       "50%       0.940206   -0.072467    0.530628\n",
       "75%       0.992336   -0.010604    1.029619\n",
       "max       1.425754    0.923198    2.492544\n",
       "+3_std    1.262920    0.441764    2.898455\n",
       "-3_std    0.667897   -0.494963   -1.870214"
      ]
     },
     "execution_count": 52,
     "metadata": {},
     "output_type": "execute_result"
    }
   ],
   "source": [
    "list1 = ['2BDA', '3BDA', 'LnChl-a']\n",
    "\n",
    "# get the summary for Mesoligotrophi Lakes\n",
    "desc_Mesoligotrophic = Mesoligotrophic_data [list1].describe()\n",
    "\n",
    "# add the standard deviation metric\n",
    "desc_Mesoligotrophic.loc['+3_std'] = desc_Mesoligotrophic.loc['mean'] + (desc_Mesoligotrophic.loc['std'] * 3)\n",
    "desc_Mesoligotrophic.loc['-3_std'] = desc_Mesoligotrophic.loc['mean'] - (desc_Mesoligotrophic.loc['std'] * 3)\n",
    "\n",
    "# display it\n",
    "desc_Mesoligotrophic"
   ]
  },
  {
   "cell_type": "code",
   "execution_count": 53,
   "id": "5490e80e",
   "metadata": {},
   "outputs": [
    {
     "data": {
      "text/html": [
       "<div>\n",
       "<style scoped>\n",
       "    .dataframe tbody tr th:only-of-type {\n",
       "        vertical-align: middle;\n",
       "    }\n",
       "\n",
       "    .dataframe tbody tr th {\n",
       "        vertical-align: top;\n",
       "    }\n",
       "\n",
       "    .dataframe thead th {\n",
       "        text-align: right;\n",
       "    }\n",
       "</style>\n",
       "<table border=\"1\" class=\"dataframe\">\n",
       "  <thead>\n",
       "    <tr style=\"text-align: right;\">\n",
       "      <th></th>\n",
       "      <th>2BDA</th>\n",
       "      <th>3BDA</th>\n",
       "      <th>LnChl-a</th>\n",
       "    </tr>\n",
       "  </thead>\n",
       "  <tbody>\n",
       "    <tr>\n",
       "      <th>2BDA</th>\n",
       "      <td>1.000000</td>\n",
       "      <td>0.972043</td>\n",
       "      <td>-0.080560</td>\n",
       "    </tr>\n",
       "    <tr>\n",
       "      <th>3BDA</th>\n",
       "      <td>0.972043</td>\n",
       "      <td>1.000000</td>\n",
       "      <td>-0.098573</td>\n",
       "    </tr>\n",
       "    <tr>\n",
       "      <th>LnChl-a</th>\n",
       "      <td>-0.080560</td>\n",
       "      <td>-0.098573</td>\n",
       "      <td>1.000000</td>\n",
       "    </tr>\n",
       "  </tbody>\n",
       "</table>\n",
       "</div>"
      ],
      "text/plain": [
       "             2BDA      3BDA   LnChl-a\n",
       "2BDA     1.000000  0.972043 -0.080560\n",
       "3BDA     0.972043  1.000000 -0.098573\n",
       "LnChl-a -0.080560 -0.098573  1.000000"
      ]
     },
     "metadata": {},
     "output_type": "display_data"
    }
   ],
   "source": [
    "# Pearson Coefficient \n",
    "corr = Mesoligotrophic_data[list1].corr(method='pearson')\n",
    "\n",
    "# display the correlation matrix\n",
    "display(corr)"
   ]
  },
  {
   "cell_type": "code",
   "execution_count": 54,
   "id": "1e0e0365",
   "metadata": {},
   "outputs": [
    {
     "data": {
      "text/plain": [
       "<seaborn.axisgrid.PairGrid at 0x210862ede80>"
      ]
     },
     "execution_count": 54,
     "metadata": {},
     "output_type": "execute_result"
    },
    {
     "data": {
      "image/png": "[encoded data removed]",
      "text/plain": [
       "<Figure size 540x540 with 12 Axes>"
      ]
     },
     "metadata": {
      "needs_background": "light"
     },
     "output_type": "display_data"
    }
   ],
   "source": [
    "# Scatter plot for each variable in our dataset against another variable\n",
    "sns.pairplot(Mesoligotrophic_data[list1])"
   ]
  },
  {
   "cell_type": "code",
   "execution_count": 55,
   "id": "76764cad",
   "metadata": {},
   "outputs": [],
   "source": [
    "# Getting column names\n",
    "X_columns1 = [\"2BDA\", \"3BDA\"]\n",
    "Y = Mesoligotrophic_data[\"LnChl-a\"]"
   ]
  },
  {
   "cell_type": "code",
   "execution_count": 56,
   "id": "c076a25d",
   "metadata": {},
   "outputs": [
    {
     "data": {
      "text/html": [
       "<div>\n",
       "<style scoped>\n",
       "    .dataframe tbody tr th:only-of-type {\n",
       "        vertical-align: middle;\n",
       "    }\n",
       "\n",
       "    .dataframe tbody tr th {\n",
       "        vertical-align: top;\n",
       "    }\n",
       "\n",
       "    .dataframe thead th {\n",
       "        text-align: right;\n",
       "    }\n",
       "</style>\n",
       "<table border=\"1\" class=\"dataframe\">\n",
       "  <thead>\n",
       "    <tr style=\"text-align: right;\">\n",
       "      <th></th>\n",
       "      <th>VIF Factor</th>\n",
       "      <th>features</th>\n",
       "    </tr>\n",
       "  </thead>\n",
       "  <tbody>\n",
       "    <tr>\n",
       "      <th>0</th>\n",
       "      <td>1.0</td>\n",
       "      <td>2BDA</td>\n",
       "    </tr>\n",
       "    <tr>\n",
       "      <th>1</th>\n",
       "      <td>1.0</td>\n",
       "      <td>3BDA</td>\n",
       "    </tr>\n",
       "  </tbody>\n",
       "</table>\n",
       "</div>"
      ],
      "text/plain": [
       "   VIF Factor features\n",
       "0         1.0     2BDA\n",
       "1         1.0     3BDA"
      ]
     },
     "execution_count": 56,
     "metadata": {},
     "output_type": "execute_result"
    }
   ],
   "source": [
    "#Calculate VIFs on our dataset\n",
    "vif = pd.DataFrame()\n",
    "vif[\"VIF Factor\"] = [variance_inflation_factor(Mesoligotrophic_data[X_columns1[0:2]].values, i) for i in range(Mesoligotrophic_data[X_columns1[0:2]].shape[1])]\n",
    "vif[\"features\"] = Mesoligotrophic_data[X_columns1[0:2]].columns\n",
    "\n",
    "# display VIF\n",
    "vif.round()"
   ]
  },
  {
   "cell_type": "code",
   "execution_count": 57,
   "id": "7815cd62",
   "metadata": {},
   "outputs": [
    {
     "name": "stdout",
     "output_type": "stream",
     "text": [
      "                            OLS Regression Results                            \n",
      "==============================================================================\n",
      "Dep. Variable:                LnChl-a   R-squared:                       0.020\n",
      "Model:                            OLS   Adj. R-squared:                  0.014\n",
      "Method:                 Least Squares   F-statistic:                     3.188\n",
      "Date:                Mon, 07 Mar 2022   Prob (F-statistic):             0.0426\n",
      "Time:                        16:03:18   Log-Likelihood:                -385.46\n",
      "No. Observations:                 319   AIC:                             776.9\n",
      "Df Residuals:                     316   BIC:                             788.2\n",
      "Df Model:                           2                                         \n",
      "Covariance Type:            nonrobust                                         \n",
      "==============================================================================\n",
      "                 coef    std err          t      P>|t|      [0.025      0.975]\n",
      "------------------------------------------------------------------------------\n",
      "const         -1.1205      1.845     -0.607      0.544      -4.750       2.509\n",
      "2BDA           1.6404      1.879      0.873      0.383      -2.057       5.338\n",
      "3BDA          -1.6355      1.168     -1.400      0.162      -3.933       0.662\n",
      "==============================================================================\n",
      "Omnibus:                       65.625   Durbin-Watson:                   1.833\n",
      "Prob(Omnibus):                  0.000   Jarque-Bera (JB):              148.153\n",
      "Skew:                          -1.018   Prob(JB):                     6.75e-33\n",
      "Kurtosis:                       5.647   Cond. No.                         87.9\n",
      "==============================================================================\n",
      "\n",
      "Notes:\n",
      "[1] Standard Errors assume that the covariance matrix of the errors is correctly specified.\n"
     ]
    }
   ],
   "source": [
    "# Extract independent variables (X) & dependent variable (Y)\n",
    "X = Mesoligotrophic_data[X_columns1]\n",
    "X = add_constant(X)\n",
    "Y = Mesoligotrophic_data['LnChl-a']\n",
    "\n",
    "# Split X and Y into train and test \n",
    "X_train, X_test, Y_train, Y_test = train_test_split(X, Y, test_size=0.30, random_state=1)\n",
    "\n",
    "# Create a Linear Regression model object\n",
    "regression_model = OLS(Y_train,X_train)\n",
    "result = OLS(Y_train,X_train).fit()\n",
    "print(result.summary())"
   ]
  },
  {
   "cell_type": "code",
   "execution_count": 58,
   "id": "514f8049",
   "metadata": {},
   "outputs": [],
   "source": [
    "# 2 variables model (2BDA & NDCI)"
   ]
  },
  {
   "cell_type": "code",
   "execution_count": 60,
   "id": "76e30dd3",
   "metadata": {},
   "outputs": [
    {
     "data": {
      "text/html": [
       "<div>\n",
       "<style scoped>\n",
       "    .dataframe tbody tr th:only-of-type {\n",
       "        vertical-align: middle;\n",
       "    }\n",
       "\n",
       "    .dataframe tbody tr th {\n",
       "        vertical-align: top;\n",
       "    }\n",
       "\n",
       "    .dataframe thead th {\n",
       "        text-align: right;\n",
       "    }\n",
       "</style>\n",
       "<table border=\"1\" class=\"dataframe\">\n",
       "  <thead>\n",
       "    <tr style=\"text-align: right;\">\n",
       "      <th></th>\n",
       "      <th>2BDA</th>\n",
       "      <th>NDCI</th>\n",
       "      <th>LnChl-a</th>\n",
       "    </tr>\n",
       "  </thead>\n",
       "  <tbody>\n",
       "    <tr>\n",
       "      <th>count</th>\n",
       "      <td>457.000000</td>\n",
       "      <td>457.000000</td>\n",
       "      <td>457.000000</td>\n",
       "    </tr>\n",
       "    <tr>\n",
       "      <th>mean</th>\n",
       "      <td>0.965409</td>\n",
       "      <td>-0.019971</td>\n",
       "      <td>0.514121</td>\n",
       "    </tr>\n",
       "    <tr>\n",
       "      <th>std</th>\n",
       "      <td>0.099171</td>\n",
       "      <td>0.047261</td>\n",
       "      <td>0.794778</td>\n",
       "    </tr>\n",
       "    <tr>\n",
       "      <th>min</th>\n",
       "      <td>0.814778</td>\n",
       "      <td>-0.102063</td>\n",
       "      <td>-2.995732</td>\n",
       "    </tr>\n",
       "    <tr>\n",
       "      <th>25%</th>\n",
       "      <td>0.902130</td>\n",
       "      <td>-0.051453</td>\n",
       "      <td>0.134706</td>\n",
       "    </tr>\n",
       "    <tr>\n",
       "      <th>50%</th>\n",
       "      <td>0.940206</td>\n",
       "      <td>-0.030818</td>\n",
       "      <td>0.530628</td>\n",
       "    </tr>\n",
       "    <tr>\n",
       "      <th>75%</th>\n",
       "      <td>0.992336</td>\n",
       "      <td>-0.003847</td>\n",
       "      <td>1.029619</td>\n",
       "    </tr>\n",
       "    <tr>\n",
       "      <th>max</th>\n",
       "      <td>1.425754</td>\n",
       "      <td>0.175514</td>\n",
       "      <td>2.492544</td>\n",
       "    </tr>\n",
       "    <tr>\n",
       "      <th>+3_std</th>\n",
       "      <td>1.262920</td>\n",
       "      <td>0.121812</td>\n",
       "      <td>2.898455</td>\n",
       "    </tr>\n",
       "    <tr>\n",
       "      <th>-3_std</th>\n",
       "      <td>0.667897</td>\n",
       "      <td>-0.161754</td>\n",
       "      <td>-1.870214</td>\n",
       "    </tr>\n",
       "  </tbody>\n",
       "</table>\n",
       "</div>"
      ],
      "text/plain": [
       "              2BDA        NDCI     LnChl-a\n",
       "count   457.000000  457.000000  457.000000\n",
       "mean      0.965409   -0.019971    0.514121\n",
       "std       0.099171    0.047261    0.794778\n",
       "min       0.814778   -0.102063   -2.995732\n",
       "25%       0.902130   -0.051453    0.134706\n",
       "50%       0.940206   -0.030818    0.530628\n",
       "75%       0.992336   -0.003847    1.029619\n",
       "max       1.425754    0.175514    2.492544\n",
       "+3_std    1.262920    0.121812    2.898455\n",
       "-3_std    0.667897   -0.161754   -1.870214"
      ]
     },
     "execution_count": 60,
     "metadata": {},
     "output_type": "execute_result"
    }
   ],
   "source": [
    "list2 = ['2BDA', 'NDCI', 'LnChl-a']\n",
    "\n",
    "# get the summary for Mesoligotrophi Lakes\n",
    "desc_Mesoligotrophic = Mesoligotrophic_data [list2].describe()\n",
    "\n",
    "# add the standard deviation metric\n",
    "desc_Mesoligotrophic.loc['+3_std'] = desc_Mesoligotrophic.loc['mean'] + (desc_Mesoligotrophic.loc['std'] * 3)\n",
    "desc_Mesoligotrophic.loc['-3_std'] = desc_Mesoligotrophic.loc['mean'] - (desc_Mesoligotrophic.loc['std'] * 3)\n",
    "\n",
    "# display it\n",
    "desc_Mesoligotrophic"
   ]
  },
  {
   "cell_type": "code",
   "execution_count": 61,
   "id": "1ae300a5",
   "metadata": {},
   "outputs": [
    {
     "data": {
      "text/html": [
       "<div>\n",
       "<style scoped>\n",
       "    .dataframe tbody tr th:only-of-type {\n",
       "        vertical-align: middle;\n",
       "    }\n",
       "\n",
       "    .dataframe tbody tr th {\n",
       "        vertical-align: top;\n",
       "    }\n",
       "\n",
       "    .dataframe thead th {\n",
       "        text-align: right;\n",
       "    }\n",
       "</style>\n",
       "<table border=\"1\" class=\"dataframe\">\n",
       "  <thead>\n",
       "    <tr style=\"text-align: right;\">\n",
       "      <th></th>\n",
       "      <th>2BDA</th>\n",
       "      <th>NDCI</th>\n",
       "      <th>LnChl-a</th>\n",
       "    </tr>\n",
       "  </thead>\n",
       "  <tbody>\n",
       "    <tr>\n",
       "      <th>2BDA</th>\n",
       "      <td>1.000000</td>\n",
       "      <td>0.996426</td>\n",
       "      <td>-0.080560</td>\n",
       "    </tr>\n",
       "    <tr>\n",
       "      <th>NDCI</th>\n",
       "      <td>0.996426</td>\n",
       "      <td>1.000000</td>\n",
       "      <td>-0.072871</td>\n",
       "    </tr>\n",
       "    <tr>\n",
       "      <th>LnChl-a</th>\n",
       "      <td>-0.080560</td>\n",
       "      <td>-0.072871</td>\n",
       "      <td>1.000000</td>\n",
       "    </tr>\n",
       "  </tbody>\n",
       "</table>\n",
       "</div>"
      ],
      "text/plain": [
       "             2BDA      NDCI   LnChl-a\n",
       "2BDA     1.000000  0.996426 -0.080560\n",
       "NDCI     0.996426  1.000000 -0.072871\n",
       "LnChl-a -0.080560 -0.072871  1.000000"
      ]
     },
     "metadata": {},
     "output_type": "display_data"
    }
   ],
   "source": [
    "# Pearson Coefficient \n",
    "corr = Mesoligotrophic_data[list2].corr(method='pearson')\n",
    "\n",
    "# display the correlation matrix\n",
    "display(corr)"
   ]
  },
  {
   "cell_type": "code",
   "execution_count": 62,
   "id": "8246e893",
   "metadata": {},
   "outputs": [],
   "source": [
    "# Getting column names\n",
    "X_columns2 = [\"2BDA\", \"NDCI\"]\n",
    "Y = Mesoligotrophic_data[\"LnChl-a\"]"
   ]
  },
  {
   "cell_type": "code",
   "execution_count": 63,
   "id": "d0bca717",
   "metadata": {},
   "outputs": [
    {
     "name": "stdout",
     "output_type": "stream",
     "text": [
      "                            OLS Regression Results                            \n",
      "==============================================================================\n",
      "Dep. Variable:                LnChl-a   R-squared:                       0.022\n",
      "Model:                            OLS   Adj. R-squared:                  0.016\n",
      "Method:                 Least Squares   F-statistic:                     3.600\n",
      "Date:                Mon, 07 Mar 2022   Prob (F-statistic):             0.0284\n",
      "Time:                        16:04:35   Log-Likelihood:                -385.05\n",
      "No. Observations:                 319   AIC:                             776.1\n",
      "Df Residuals:                     316   BIC:                             787.4\n",
      "Df Model:                           2                                         \n",
      "Covariance Type:            nonrobust                                         \n",
      "==============================================================================\n",
      "                 coef    std err          t      P>|t|      [0.025      0.975]\n",
      "------------------------------------------------------------------------------\n",
      "const          9.7323      5.025      1.937      0.054      -0.155      19.619\n",
      "2BDA          -9.1931      4.987     -1.843      0.066     -19.005       0.619\n",
      "NDCI          17.5792     10.555      1.666      0.097      -3.187      38.345\n",
      "==============================================================================\n",
      "Omnibus:                       65.116   Durbin-Watson:                   1.832\n",
      "Prob(Omnibus):                  0.000   Jarque-Bera (JB):              145.598\n",
      "Skew:                          -1.014   Prob(JB):                     2.42e-32\n",
      "Kurtosis:                       5.616   Cond. No.                         389.\n",
      "==============================================================================\n",
      "\n",
      "Notes:\n",
      "[1] Standard Errors assume that the covariance matrix of the errors is correctly specified.\n"
     ]
    }
   ],
   "source": [
    "# Extract independent variables (X) & dependent variable (Y)\n",
    "X = Mesoligotrophic_data[X_columns2]\n",
    "X = add_constant(X)\n",
    "Y = Mesoligotrophic_data['LnChl-a']\n",
    "\n",
    "# Split X and Y into train and test \n",
    "X_train, X_test, Y_train, Y_test = train_test_split(X, Y, test_size=0.30, random_state=1)\n",
    "\n",
    "# Create a Linear Regression model object\n",
    "regression_model = OLS(Y_train,X_train)\n",
    "result = OLS(Y_train,X_train).fit()\n",
    "print(result.summary())"
   ]
  },
  {
   "cell_type": "code",
   "execution_count": null,
   "id": "71ff36e8",
   "metadata": {},
   "outputs": [],
   "source": []
  }
 ],
 "metadata": {
  "kernelspec": {
   "display_name": "Python 3",
   "language": "python",
   "name": "python3"
  },
  "language_info": {
   "codemirror_mode": {
    "name": "ipython",
    "version": 3
   },
   "file_extension": ".py",
   "mimetype": "text/x-python",
   "name": "python",
   "nbconvert_exporter": "python",
   "pygments_lexer": "ipython3",
   "version": "3.8.8"
  }
 },
 "nbformat": 4,
 "nbformat_minor": 5
}
