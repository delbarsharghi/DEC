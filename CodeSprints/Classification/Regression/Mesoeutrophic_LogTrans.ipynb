{
 "cells": [
  {
   "cell_type": "code",
   "execution_count": 75,
   "id": "e761e8da",
   "metadata": {},
   "outputs": [],
   "source": [
    "import pandas as pd\n",
    "import numpy as np\n",
    "import matplotlib.pyplot as plt\n",
    "import statsmodels.api as sm\n",
    "import seaborn as sns\n",
    "\n",
    "from statsmodels.stats.outliers_influence import variance_inflation_factor\n",
    "from statsmodels.api import OLS\n",
    "from statsmodels.api import add_constant\n",
    "\n",
    "from sklearn.linear_model import LinearRegression\n",
    "from sklearn.model_selection import train_test_split\n",
    "from sklearn.metrics import mean_squared_error, r2_score, mean_absolute_error"
   ]
  },
  {
   "cell_type": "code",
   "execution_count": 76,
   "id": "e815c109",
   "metadata": {},
   "outputs": [
    {
     "data": {
      "text/plain": [
       "'C:\\\\Users\\\\SarShel\\\\DEC\\\\Regression'"
      ]
     },
     "execution_count": 76,
     "metadata": {},
     "output_type": "execute_result"
    }
   ],
   "source": [
    "import os\n",
    "os.getcwd()"
   ]
  },
  {
   "cell_type": "code",
   "execution_count": 77,
   "id": "e9178b07",
   "metadata": {},
   "outputs": [
    {
     "data": {
      "text/plain": [
       "'C:\\\\Users\\\\SarShel\\\\DEC\\\\Regression'"
      ]
     },
     "execution_count": 77,
     "metadata": {},
     "output_type": "execute_result"
    }
   ],
   "source": [
    "os.chdir('C:\\\\Users\\\\SarShel\\\\DEC\\\\Regression')\n",
    "os.getcwd()"
   ]
  },
  {
   "cell_type": "code",
   "execution_count": 78,
   "id": "4ac3f4c4",
   "metadata": {},
   "outputs": [
    {
     "name": "stdout",
     "output_type": "stream",
     "text": [
      "      Unnamed: 0         Lake Name          Y          X       Date  Year  \\\n",
      "0              0  Little Long Pond  40.977600 -72.296204   6/4/2016  2016   \n",
      "1              1        Hatch Lake  42.834598 -75.677803   6/5/2016  2016   \n",
      "2              2   Montgomery Lake  41.525299 -74.917297   6/4/2016  2016   \n",
      "3              3         Dean Pond  42.447700 -76.003403   6/4/2016  2016   \n",
      "4              4   Chautauqua Lake  42.219885 -79.455423   6/5/2016  2016   \n",
      "...          ...               ...        ...        ...        ...   ...   \n",
      "4599        4599         Long Pond  40.975102 -72.290802  7/12/2020  2020   \n",
      "4600        4600         Long Pond  40.975102 -72.290802  7/26/2020  2020   \n",
      "4601        4601         Long Pond  40.975102 -72.290802   8/9/2020  2020   \n",
      "4602        4602         Long Pond  40.975102 -72.290802  8/23/2020  2020   \n",
      "4603        4603         Long Pond  40.975102 -72.290802   9/7/2020  2020   \n",
      "\n",
      "      Month  Day  Chl-a(ug/l)  SDD (m)  Phos (mg/l)  Chl score  SDD score  \\\n",
      "0         6    4        1.200     2.90      0.01320        3.0        2.0   \n",
      "1         6    5        2.900     8.05      0.01090        2.0        1.0   \n",
      "2         6    4        2.900     3.80      0.00920        2.0        2.0   \n",
      "3         6    4       16.600     1.00      0.04460        1.0        3.0   \n",
      "4         6    5        2.000     2.00      0.02780        2.0        2.0   \n",
      "...     ...  ...          ...      ...          ...        ...        ...   \n",
      "4599      7   12        5.248     1.20      0.01830        2.0        3.0   \n",
      "4600      7   26        8.168     1.40      0.02430        1.0        3.0   \n",
      "4601      8    9        9.048     1.15      0.02660        1.0        3.0   \n",
      "4602      8   23       13.088     1.35      0.00585        1.0        3.0   \n",
      "4603      9    7        7.778     1.10      0.02980        2.0        3.0   \n",
      "\n",
      "      Phos score  Sum of score     Tropic state  \n",
      "0            2.0           7.0  Mesoligotrophic  \n",
      "1            2.0           5.0    Mesoeutrophic  \n",
      "2            3.0           7.0  Mesoligotrophic  \n",
      "3            1.0           5.0    Mesoeutrophic  \n",
      "4            1.0           5.0    Mesoeutrophic  \n",
      "...          ...           ...              ...  \n",
      "4599         2.0           7.0  Mesoligotrophic  \n",
      "4600         1.0           5.0    Mesoeutrophic  \n",
      "4601         1.0           5.0    Mesoeutrophic  \n",
      "4602         3.0           7.0  Mesoligotrophic  \n",
      "4603         1.0           6.0      Mesotrophic  \n",
      "\n",
      "[4600 rows x 16 columns]\n"
     ]
    }
   ],
   "source": [
    "# Read Classified field dataset \n",
    "FieldData0 = pd.read_csv('data_raw/ClassifiedData/FieldData_class.csv')\n",
    "\n",
    "# Remove none values\n",
    "FieldData = FieldData0.dropna()\n",
    "\n",
    "# Display DataFrame\n",
    "print(FieldData)"
   ]
  },
  {
   "cell_type": "code",
   "execution_count": 79,
   "id": "9ad0dac1",
   "metadata": {},
   "outputs": [
    {
     "name": "stdout",
     "output_type": "stream",
     "text": [
      "       Year  Month  Day      2BDA      3BDA      NDCI        B1       B10  \\\n",
      "0      2016      5    7  0.956819 -0.044095 -0.022067  0.117900  0.002955   \n",
      "1      2016      5    7  0.956897 -0.043909 -0.022026  0.117907  0.002955   \n",
      "2      2016      5    7  1.015060  0.016807  0.007474  0.147959  0.008728   \n",
      "3      2016      5    7  0.991619 -0.009014 -0.004208  0.142645  0.007528   \n",
      "4      2016      5    7  0.881187 -0.110047 -0.063158  0.116655  0.002038   \n",
      "...     ...    ...  ...       ...       ...       ...       ...       ...   \n",
      "35028  2020     10   30  0.853926 -0.129055 -0.078792  0.152807  0.001676   \n",
      "35029  2020     10   30  1.077396  0.061427  0.037256  0.126659  0.001469   \n",
      "35030  2020     10   30  0.945077 -0.051659 -0.028237  0.134852  0.007321   \n",
      "35031  2020     10   30  0.961857 -0.039219 -0.019442  0.132445  0.007393   \n",
      "35032  2020     10   30  0.959639 -0.039047 -0.020596  0.126638  0.006003   \n",
      "\n",
      "            B11       B12  ...        B3        B4        B5        B6  \\\n",
      "0      0.016390  0.011321  ...  0.066817  0.042403  0.040572  0.041431   \n",
      "1      0.016390  0.011321  ...  0.066817  0.042400  0.040572  0.041331   \n",
      "2      0.053441  0.041969  ...  0.098893  0.080366  0.081576  0.091038   \n",
      "3      0.047441  0.035914  ...  0.095421  0.073648  0.073031  0.078548   \n",
      "4      0.007586  0.005145  ...  0.066907  0.038455  0.033886  0.031386   \n",
      "...         ...       ...  ...       ...       ...       ...       ...   \n",
      "35028  0.008662  0.005803  ...  0.070890  0.044710  0.038179  0.033731   \n",
      "35029  0.014217  0.008186  ...  0.071028  0.040410  0.043538  0.034555   \n",
      "35030  0.018221  0.015945  ...  0.070283  0.047528  0.044917  0.042248   \n",
      "35031  0.022983  0.016369  ...  0.067686  0.047010  0.045217  0.046493   \n",
      "35032  0.016324  0.011272  ...  0.062962  0.040838  0.039190  0.037914   \n",
      "\n",
      "             B7        B8       B8A        B9          X          Y  \n",
      "0      0.040707  0.035441  0.036210  0.016803 -79.726196  42.101898  \n",
      "1      0.040714  0.035441  0.036172  0.016969 -79.726196  42.101898  \n",
      "2      0.094266  0.090610  0.094869  0.046917 -79.455423  42.219885  \n",
      "3      0.079997  0.077869  0.077197  0.034931 -79.430702  42.180951  \n",
      "4      0.030362  0.024534  0.025524  0.011448 -79.363881  42.123269  \n",
      "...         ...       ...       ...       ...        ...        ...  \n",
      "35028  0.030021  0.027724  0.024259  0.012969 -76.958078  43.248531  \n",
      "35029  0.034010  0.027786  0.029086  0.020831 -76.222702  43.235401  \n",
      "35030  0.041645  0.041476  0.038621  0.031514 -75.775200  44.316502  \n",
      "35031  0.044748  0.044814  0.042314  0.030562 -75.775002  44.279800  \n",
      "35032  0.036766  0.037372  0.033231  0.022614 -75.767502  44.292198  \n",
      "\n",
      "[35033 rows x 21 columns]\n"
     ]
    }
   ],
   "source": [
    "# Read S2 dataset \n",
    "S2Data0 = pd.read_csv('data_raw/ClassifiedData/S2Data.csv')\n",
    "\n",
    "# Remove none values\n",
    "S2Data = S2Data0.dropna()\n",
    "\n",
    "# Display DataFrame\n",
    "print(S2Data)"
   ]
  },
  {
   "cell_type": "code",
   "execution_count": 80,
   "id": "51958282",
   "metadata": {},
   "outputs": [
    {
     "name": "stdout",
     "output_type": "stream",
     "text": [
      "      Unnamed: 0          Lake Name          Y          X       Date  Year  \\\n",
      "0             36          Kirk Lake  41.385601 -73.749802  6/27/2016  2016   \n",
      "1             36          Kirk Lake  41.385601 -73.749802  6/27/2016  2016   \n",
      "2             36          Kirk Lake  41.385601 -73.749802  6/27/2016  2016   \n",
      "3             39     Cazenovia Lake  42.948200 -75.872002  6/23/2016  2016   \n",
      "4             39     Cazenovia Lake  42.948200 -75.872002  6/23/2016  2016   \n",
      "...          ...                ...        ...        ...        ...   ...   \n",
      "1088        4587  Little Fresh Pond  40.918201 -72.408501  8/30/2020  2020   \n",
      "1089        4592   Little Long Pond  40.977600 -72.296204  7/26/2020  2020   \n",
      "1090        4592   Little Long Pond  40.977600 -72.296204  7/26/2020  2020   \n",
      "1091        4600          Long Pond  40.975102 -72.290802  7/26/2020  2020   \n",
      "1092        4600          Long Pond  40.975102 -72.290802  7/26/2020  2020   \n",
      "\n",
      "      Month  Day  Chl-a(ug/l)  SDD (m)  ...       B12        B2        B3  \\\n",
      "0         6   27        1.000     2.40  ...  0.010024  0.090128  0.069817   \n",
      "1         6   27        1.000     2.40  ...  0.010024  0.090128  0.069817   \n",
      "2         6   27        1.000     2.40  ...  0.010024  0.090128  0.069817   \n",
      "3         6   23        1.500     4.85  ...  0.059628  0.136434  0.114286   \n",
      "4         6   23        1.500     4.85  ...  0.059628  0.136434  0.114286   \n",
      "...     ...  ...          ...      ...  ...       ...       ...       ...   \n",
      "1088      8   30        2.836     1.40  ...  0.141214  0.168424  0.150407   \n",
      "1089      7   26        2.622     2.85  ...  0.043166  0.105979  0.086414   \n",
      "1090      7   26        2.622     2.85  ...  0.043076  0.106431  0.088262   \n",
      "1091      7   26        8.168     1.40  ...  0.045714  0.125934  0.102697   \n",
      "1092      7   26        8.168     1.40  ...  0.043914  0.127021  0.103686   \n",
      "\n",
      "            B4        B5        B6        B7        B8       B8A        B9  \n",
      "0     0.042407  0.039348  0.048121  0.050697  0.043262  0.044607  0.010859  \n",
      "1     0.042407  0.039348  0.048121  0.050697  0.043262  0.044607  0.010859  \n",
      "2     0.042407  0.039348  0.048121  0.050693  0.043262  0.044607  0.010859  \n",
      "3     0.098217  0.094638  0.100941  0.102466  0.101697  0.097193  0.028014  \n",
      "4     0.098217  0.094638  0.100941  0.102466  0.101697  0.097193  0.028014  \n",
      "...        ...       ...       ...       ...       ...       ...       ...  \n",
      "1088  0.136007  0.150055  0.227241  0.265983  0.265224  0.293317  0.094345  \n",
      "1089  0.063159  0.079669  0.139783  0.167700  0.129279  0.176355  0.040662  \n",
      "1090  0.064634  0.082555  0.145114  0.172072  0.134097  0.179403  0.041586  \n",
      "1091  0.076810  0.088400  0.144431  0.168379  0.178252  0.175324  0.038690  \n",
      "1092  0.077014  0.087110  0.141569  0.163848  0.181493  0.169276  0.036676  \n",
      "\n",
      "[1093 rows x 32 columns]\n"
     ]
    }
   ],
   "source": [
    "# Merge classified FieldData and S2Data; \n",
    "Data_class = pd.merge(FieldData, S2Data, on=['Y', 'X', 'Year', 'Month', 'Day'], how='inner')\n",
    "Data_class.to_csv('data_output/ClassifiedData/Data_class.csv')\n",
    "\n",
    "# displaying result\n",
    "print(Data_class)"
   ]
  },
  {
   "cell_type": "code",
   "execution_count": 82,
   "id": "ce34194b",
   "metadata": {},
   "outputs": [
    {
     "name": "stdout",
     "output_type": "stream",
     "text": [
      "      Unnamed: 0          Lake Name          Y          X       Date  Year  \\\n",
      "0             36          Kirk Lake  41.385601 -73.749802  6/27/2016  2016   \n",
      "1             36          Kirk Lake  41.385601 -73.749802  6/27/2016  2016   \n",
      "2             36          Kirk Lake  41.385601 -73.749802  6/27/2016  2016   \n",
      "3             39     Cazenovia Lake  42.948200 -75.872002  6/23/2016  2016   \n",
      "4             39     Cazenovia Lake  42.948200 -75.872002  6/23/2016  2016   \n",
      "...          ...                ...        ...        ...        ...   ...   \n",
      "1088        4587  Little Fresh Pond  40.918201 -72.408501  8/30/2020  2020   \n",
      "1089        4592   Little Long Pond  40.977600 -72.296204  7/26/2020  2020   \n",
      "1090        4592   Little Long Pond  40.977600 -72.296204  7/26/2020  2020   \n",
      "1091        4600          Long Pond  40.975102 -72.290802  7/26/2020  2020   \n",
      "1092        4600          Long Pond  40.975102 -72.290802  7/26/2020  2020   \n",
      "\n",
      "      Month  Day  Chl-a(ug/l)  SDD (m)  ...        B2        B3        B4  \\\n",
      "0         6   27        1.000     2.40  ...  0.090128  0.069817  0.042407   \n",
      "1         6   27        1.000     2.40  ...  0.090128  0.069817  0.042407   \n",
      "2         6   27        1.000     2.40  ...  0.090128  0.069817  0.042407   \n",
      "3         6   23        1.500     4.85  ...  0.136434  0.114286  0.098217   \n",
      "4         6   23        1.500     4.85  ...  0.136434  0.114286  0.098217   \n",
      "...     ...  ...          ...      ...  ...       ...       ...       ...   \n",
      "1088      8   30        2.836     1.40  ...  0.168424  0.150407  0.136007   \n",
      "1089      7   26        2.622     2.85  ...  0.105979  0.086414  0.063159   \n",
      "1090      7   26        2.622     2.85  ...  0.106431  0.088262  0.064634   \n",
      "1091      7   26        8.168     1.40  ...  0.125934  0.102697  0.076810   \n",
      "1092      7   26        8.168     1.40  ...  0.127021  0.103686  0.077014   \n",
      "\n",
      "            B5        B6        B7        B8       B8A        B9   LnChl-a  \n",
      "0     0.039348  0.048121  0.050697  0.043262  0.044607  0.010859  0.000000  \n",
      "1     0.039348  0.048121  0.050697  0.043262  0.044607  0.010859  0.000000  \n",
      "2     0.039348  0.048121  0.050693  0.043262  0.044607  0.010859  0.000000  \n",
      "3     0.094638  0.100941  0.102466  0.101697  0.097193  0.028014  0.405465  \n",
      "4     0.094638  0.100941  0.102466  0.101697  0.097193  0.028014  0.405465  \n",
      "...        ...       ...       ...       ...       ...       ...       ...  \n",
      "1088  0.150055  0.227241  0.265983  0.265224  0.293317  0.094345  1.042395  \n",
      "1089  0.079669  0.139783  0.167700  0.129279  0.176355  0.040662  0.963937  \n",
      "1090  0.082555  0.145114  0.172072  0.134097  0.179403  0.041586  0.963937  \n",
      "1091  0.088400  0.144431  0.168379  0.178252  0.175324  0.038690  2.100224  \n",
      "1092  0.087110  0.141569  0.163848  0.181493  0.169276  0.036676  2.100224  \n",
      "\n",
      "[1093 rows x 33 columns]\n"
     ]
    }
   ],
   "source": [
    "# Return the natural logarithm of Chl-a (Y)\n",
    "Data_class['LnChl-a']=np.log(Data_class['Chl-a(ug/l)'])\n",
    "print(Data_class)"
   ]
  },
  {
   "cell_type": "code",
   "execution_count": 83,
   "id": "f548a26b",
   "metadata": {},
   "outputs": [
    {
     "data": {
      "text/plain": [
       "(313, 33)"
      ]
     },
     "execution_count": 83,
     "metadata": {},
     "output_type": "execute_result"
    }
   ],
   "source": [
    "# Select Mesoeutrophic Data \n",
    "Mesoeutrophic_data = Data_class.loc[(Data_class['Tropic state'] == 'Mesoeutrophic')]\n",
    "Mesoeutrophic_data.shape"
   ]
  },
  {
   "cell_type": "code",
   "execution_count": 84,
   "id": "a60fb902",
   "metadata": {},
   "outputs": [
    {
     "data": {
      "text/html": [
       "<div>\n",
       "<style scoped>\n",
       "    .dataframe tbody tr th:only-of-type {\n",
       "        vertical-align: middle;\n",
       "    }\n",
       "\n",
       "    .dataframe tbody tr th {\n",
       "        vertical-align: top;\n",
       "    }\n",
       "\n",
       "    .dataframe thead th {\n",
       "        text-align: right;\n",
       "    }\n",
       "</style>\n",
       "<table border=\"1\" class=\"dataframe\">\n",
       "  <thead>\n",
       "    <tr style=\"text-align: right;\">\n",
       "      <th></th>\n",
       "      <th>2BDA</th>\n",
       "      <th>3BDA</th>\n",
       "      <th>NDCI</th>\n",
       "      <th>LnChl-a</th>\n",
       "    </tr>\n",
       "  </thead>\n",
       "  <tbody>\n",
       "    <tr>\n",
       "      <th>count</th>\n",
       "      <td>313.000000</td>\n",
       "      <td>313.000000</td>\n",
       "      <td>313.000000</td>\n",
       "      <td>313.000000</td>\n",
       "    </tr>\n",
       "    <tr>\n",
       "      <th>mean</th>\n",
       "      <td>1.053717</td>\n",
       "      <td>0.071768</td>\n",
       "      <td>0.020797</td>\n",
       "      <td>2.868730</td>\n",
       "    </tr>\n",
       "    <tr>\n",
       "      <th>std</th>\n",
       "      <td>0.166798</td>\n",
       "      <td>0.230351</td>\n",
       "      <td>0.066948</td>\n",
       "      <td>0.996909</td>\n",
       "    </tr>\n",
       "    <tr>\n",
       "      <th>min</th>\n",
       "      <td>0.843826</td>\n",
       "      <td>-0.141562</td>\n",
       "      <td>-0.084701</td>\n",
       "      <td>-2.302585</td>\n",
       "    </tr>\n",
       "    <tr>\n",
       "      <th>25%</th>\n",
       "      <td>0.950351</td>\n",
       "      <td>-0.053652</td>\n",
       "      <td>-0.025456</td>\n",
       "      <td>2.322388</td>\n",
       "    </tr>\n",
       "    <tr>\n",
       "      <th>50%</th>\n",
       "      <td>1.004335</td>\n",
       "      <td>0.005915</td>\n",
       "      <td>0.002163</td>\n",
       "      <td>2.862201</td>\n",
       "    </tr>\n",
       "    <tr>\n",
       "      <th>75%</th>\n",
       "      <td>1.095331</td>\n",
       "      <td>0.116589</td>\n",
       "      <td>0.045497</td>\n",
       "      <td>3.526361</td>\n",
       "    </tr>\n",
       "    <tr>\n",
       "      <th>max</th>\n",
       "      <td>2.165359</td>\n",
       "      <td>1.995223</td>\n",
       "      <td>0.368160</td>\n",
       "      <td>5.113793</td>\n",
       "    </tr>\n",
       "    <tr>\n",
       "      <th>+3_std</th>\n",
       "      <td>1.554112</td>\n",
       "      <td>0.762821</td>\n",
       "      <td>0.221642</td>\n",
       "      <td>5.859455</td>\n",
       "    </tr>\n",
       "    <tr>\n",
       "      <th>-3_std</th>\n",
       "      <td>0.553322</td>\n",
       "      <td>-0.619286</td>\n",
       "      <td>-0.180048</td>\n",
       "      <td>-0.121996</td>\n",
       "    </tr>\n",
       "  </tbody>\n",
       "</table>\n",
       "</div>"
      ],
      "text/plain": [
       "              2BDA        3BDA        NDCI     LnChl-a\n",
       "count   313.000000  313.000000  313.000000  313.000000\n",
       "mean      1.053717    0.071768    0.020797    2.868730\n",
       "std       0.166798    0.230351    0.066948    0.996909\n",
       "min       0.843826   -0.141562   -0.084701   -2.302585\n",
       "25%       0.950351   -0.053652   -0.025456    2.322388\n",
       "50%       1.004335    0.005915    0.002163    2.862201\n",
       "75%       1.095331    0.116589    0.045497    3.526361\n",
       "max       2.165359    1.995223    0.368160    5.113793\n",
       "+3_std    1.554112    0.762821    0.221642    5.859455\n",
       "-3_std    0.553322   -0.619286   -0.180048   -0.121996"
      ]
     },
     "execution_count": 84,
     "metadata": {},
     "output_type": "execute_result"
    }
   ],
   "source": [
    "# Descriptive statistics of all variables\n",
    "list = ['2BDA', '3BDA', 'NDCI', 'LnChl-a']\n",
    "\n",
    "# get the summary for Mesoeutrophic Lakes\n",
    "desc_Mesoeutrophic = Mesoeutrophic_data [list].describe()\n",
    "\n",
    "# add the standard deviation metric\n",
    "desc_Mesoeutrophic.loc['+3_std'] = desc_Mesoeutrophic.loc['mean'] + (desc_Mesoeutrophic.loc['std'] * 3)\n",
    "desc_Mesoeutrophic.loc['-3_std'] = desc_Mesoeutrophic.loc['mean'] - (desc_Mesoeutrophic.loc['std'] * 3)\n",
    "\n",
    "# display it\n",
    "desc_Mesoeutrophic"
   ]
  },
  {
   "cell_type": "code",
   "execution_count": 85,
   "id": "69538980",
   "metadata": {},
   "outputs": [
    {
     "data": {
      "text/html": [
       "<div>\n",
       "<style scoped>\n",
       "    .dataframe tbody tr th:only-of-type {\n",
       "        vertical-align: middle;\n",
       "    }\n",
       "\n",
       "    .dataframe tbody tr th {\n",
       "        vertical-align: top;\n",
       "    }\n",
       "\n",
       "    .dataframe thead th {\n",
       "        text-align: right;\n",
       "    }\n",
       "</style>\n",
       "<table border=\"1\" class=\"dataframe\">\n",
       "  <thead>\n",
       "    <tr style=\"text-align: right;\">\n",
       "      <th></th>\n",
       "      <th>2BDA</th>\n",
       "      <th>3BDA</th>\n",
       "      <th>NDCI</th>\n",
       "      <th>LnChl-a</th>\n",
       "    </tr>\n",
       "  </thead>\n",
       "  <tbody>\n",
       "    <tr>\n",
       "      <th>2BDA</th>\n",
       "      <td>1.000000</td>\n",
       "      <td>0.913397</td>\n",
       "      <td>0.988645</td>\n",
       "      <td>0.412482</td>\n",
       "    </tr>\n",
       "    <tr>\n",
       "      <th>3BDA</th>\n",
       "      <td>0.913397</td>\n",
       "      <td>1.000000</td>\n",
       "      <td>0.902230</td>\n",
       "      <td>0.291992</td>\n",
       "    </tr>\n",
       "    <tr>\n",
       "      <th>NDCI</th>\n",
       "      <td>0.988645</td>\n",
       "      <td>0.902230</td>\n",
       "      <td>1.000000</td>\n",
       "      <td>0.441549</td>\n",
       "    </tr>\n",
       "    <tr>\n",
       "      <th>LnChl-a</th>\n",
       "      <td>0.412482</td>\n",
       "      <td>0.291992</td>\n",
       "      <td>0.441549</td>\n",
       "      <td>1.000000</td>\n",
       "    </tr>\n",
       "  </tbody>\n",
       "</table>\n",
       "</div>"
      ],
      "text/plain": [
       "             2BDA      3BDA      NDCI   LnChl-a\n",
       "2BDA     1.000000  0.913397  0.988645  0.412482\n",
       "3BDA     0.913397  1.000000  0.902230  0.291992\n",
       "NDCI     0.988645  0.902230  1.000000  0.441549\n",
       "LnChl-a  0.412482  0.291992  0.441549  1.000000"
      ]
     },
     "metadata": {},
     "output_type": "display_data"
    }
   ],
   "source": [
    "# Pearson Coefficient \n",
    "corr = Mesoeutrophic_data[list].corr(method='pearson')\n",
    "\n",
    "# display the correlation matrix\n",
    "display(corr)"
   ]
  },
  {
   "cell_type": "code",
   "execution_count": 86,
   "id": "b6531409",
   "metadata": {},
   "outputs": [
    {
     "data": {
      "text/plain": [
       "<seaborn.axisgrid.PairGrid at 0x290afbeca30>"
      ]
     },
     "execution_count": 86,
     "metadata": {},
     "output_type": "execute_result"
    },
    {
     "data": {
      "image/png": "[encoded data removed]",
      "text/plain": [
       "<Figure size 720x720 with 20 Axes>"
      ]
     },
     "metadata": {
      "needs_background": "light"
     },
     "output_type": "display_data"
    }
   ],
   "source": [
    "# Scatter plot for each variable in our dataset against another variable\n",
    "sns.pairplot(Mesoeutrophic_data[list])"
   ]
  },
  {
   "cell_type": "code",
   "execution_count": 87,
   "id": "e8833ef0",
   "metadata": {},
   "outputs": [],
   "source": [
    "# Getting column names\n",
    "X_columns = [\"2BDA\", \"3BDA\", \"NDCI\"]\n",
    "Y = Mesoeutrophic_data[\"LnChl-a\"]"
   ]
  },
  {
   "cell_type": "code",
   "execution_count": 88,
   "id": "030fa743",
   "metadata": {},
   "outputs": [
    {
     "data": {
      "text/html": [
       "<div>\n",
       "<style scoped>\n",
       "    .dataframe tbody tr th:only-of-type {\n",
       "        vertical-align: middle;\n",
       "    }\n",
       "\n",
       "    .dataframe tbody tr th {\n",
       "        vertical-align: top;\n",
       "    }\n",
       "\n",
       "    .dataframe thead th {\n",
       "        text-align: right;\n",
       "    }\n",
       "</style>\n",
       "<table border=\"1\" class=\"dataframe\">\n",
       "  <thead>\n",
       "    <tr style=\"text-align: right;\">\n",
       "      <th></th>\n",
       "      <th>VIF Factor</th>\n",
       "      <th>features</th>\n",
       "    </tr>\n",
       "  </thead>\n",
       "  <tbody>\n",
       "    <tr>\n",
       "      <th>0</th>\n",
       "      <td>1.0</td>\n",
       "      <td>2BDA</td>\n",
       "    </tr>\n",
       "    <tr>\n",
       "      <th>1</th>\n",
       "      <td>6.0</td>\n",
       "      <td>3BDA</td>\n",
       "    </tr>\n",
       "    <tr>\n",
       "      <th>2</th>\n",
       "      <td>6.0</td>\n",
       "      <td>NDCI</td>\n",
       "    </tr>\n",
       "  </tbody>\n",
       "</table>\n",
       "</div>"
      ],
      "text/plain": [
       "   VIF Factor features\n",
       "0         1.0     2BDA\n",
       "1         6.0     3BDA\n",
       "2         6.0     NDCI"
      ]
     },
     "execution_count": 88,
     "metadata": {},
     "output_type": "execute_result"
    }
   ],
   "source": [
    "#Calculate VIFs on our dataset\n",
    "vif = pd.DataFrame()\n",
    "vif[\"VIF Factor\"] = [variance_inflation_factor(Mesoeutrophic_data[X_columns[0:3]].values, i) for i in range(Mesoeutrophic_data[X_columns[0:3]].shape[1])]\n",
    "vif[\"features\"] = Mesoeutrophic_data[X_columns[0:3]].columns\n",
    "\n",
    "# display VIF\n",
    "vif.round()"
   ]
  },
  {
   "cell_type": "code",
   "execution_count": 89,
   "id": "4547f82d",
   "metadata": {},
   "outputs": [
    {
     "name": "stdout",
     "output_type": "stream",
     "text": [
      "                            OLS Regression Results                            \n",
      "==============================================================================\n",
      "Dep. Variable:                LnChl-a   R-squared:                       0.311\n",
      "Model:                            OLS   Adj. R-squared:                  0.302\n",
      "Method:                 Least Squares   F-statistic:                     32.37\n",
      "Date:                Mon, 07 Mar 2022   Prob (F-statistic):           2.63e-17\n",
      "Time:                        14:34:14   Log-Likelihood:                -247.33\n",
      "No. Observations:                 219   AIC:                             502.7\n",
      "Df Residuals:                     215   BIC:                             516.2\n",
      "Df Model:                           3                                         \n",
      "Covariance Type:            nonrobust                                         \n",
      "==============================================================================\n",
      "                 coef    std err          t      P>|t|      [0.025      0.975]\n",
      "------------------------------------------------------------------------------\n",
      "const          7.1359      1.961      3.639      0.000       3.270      11.001\n",
      "2BDA          -4.3038      1.955     -2.201      0.029      -8.158      -0.450\n",
      "3BDA          -2.9460      0.646     -4.563      0.000      -4.218      -1.674\n",
      "NDCI          25.5819      5.016      5.100      0.000      15.695      35.469\n",
      "==============================================================================\n",
      "Omnibus:                       15.347   Durbin-Watson:                   2.236\n",
      "Prob(Omnibus):                  0.000   Jarque-Bera (JB):               16.461\n",
      "Skew:                          -0.640   Prob(JB):                     0.000266\n",
      "Kurtosis:                       3.407   Cond. No.                         161.\n",
      "==============================================================================\n",
      "\n",
      "Notes:\n",
      "[1] Standard Errors assume that the covariance matrix of the errors is correctly specified.\n"
     ]
    }
   ],
   "source": [
    "# Extract independent variables (X) & dependent variable (Y)\n",
    "X = Mesoeutrophic_data[X_columns]\n",
    "X = add_constant(X)\n",
    "Y = Mesoeutrophic_data['LnChl-a']\n",
    "\n",
    "# Split X and Y into train and test \n",
    "X_train, X_test, Y_train, Y_test = train_test_split(X, Y, test_size=0.30, random_state=1)\n",
    "\n",
    "# Create a Linear Regression model object\n",
    "regression_model = OLS(Y_train,X_train)\n",
    "result = OLS(Y_train,X_train).fit()\n",
    "print(result.summary())"
   ]
  },
  {
   "cell_type": "code",
   "execution_count": 90,
   "id": "88050564",
   "metadata": {},
   "outputs": [
    {
     "name": "stdout",
     "output_type": "stream",
     "text": [
      "predicted Y: 273     4.499683\n",
      "986     3.010148\n",
      "1076    3.578557\n",
      "642     3.463191\n",
      "364     2.756964\n",
      "          ...   \n",
      "571     2.760795\n",
      "745     3.223366\n",
      "14      3.093867\n",
      "980     4.063221\n",
      "146     2.527830\n",
      "Length: 94, dtype: float64\n"
     ]
    }
   ],
   "source": [
    "# Get predictions\n",
    "LnY_predict = result.predict(X_test)\n",
    "print('predicted Y:', LnY_predict)"
   ]
  },
  {
   "cell_type": "code",
   "execution_count": 91,
   "id": "874e9534",
   "metadata": {},
   "outputs": [
    {
     "name": "stdout",
     "output_type": "stream",
     "text": [
      "MSE 6.36e+02\n",
      "MAE 20.0\n",
      "RMSE 25.2\n"
     ]
    }
   ],
   "source": [
    "import math\n",
    "\n",
    "Y_predict = np.exp(LnY_predict)\n",
    "\n",
    "# Calculate the mean squared error\n",
    "model_mse = mean_squared_error(Y_test, Y_predict)\n",
    "\n",
    "# Calculate the mean absolute error\n",
    "model_mae = mean_absolute_error(Y_test, Y_predict)\n",
    "\n",
    "# Calulcate the root mean squared error\n",
    "model_rmse =  math.sqrt(model_mse)\n",
    "\n",
    "# Display the output\n",
    "print(\"MSE {:.3}\".format(model_mse))\n",
    "print(\"MAE {:.3}\".format(model_mae))\n",
    "print(\"RMSE {:.3}\".format(model_rmse))"
   ]
  },
  {
   "cell_type": "code",
   "execution_count": 92,
   "id": "a1ebf0a1",
   "metadata": {},
   "outputs": [],
   "source": [
    "# 2 variables model (2BDA & 3BDA)"
   ]
  },
  {
   "cell_type": "code",
   "execution_count": 93,
   "id": "4117437d",
   "metadata": {},
   "outputs": [
    {
     "data": {
      "text/html": [
       "<div>\n",
       "<style scoped>\n",
       "    .dataframe tbody tr th:only-of-type {\n",
       "        vertical-align: middle;\n",
       "    }\n",
       "\n",
       "    .dataframe tbody tr th {\n",
       "        vertical-align: top;\n",
       "    }\n",
       "\n",
       "    .dataframe thead th {\n",
       "        text-align: right;\n",
       "    }\n",
       "</style>\n",
       "<table border=\"1\" class=\"dataframe\">\n",
       "  <thead>\n",
       "    <tr style=\"text-align: right;\">\n",
       "      <th></th>\n",
       "      <th>2BDA</th>\n",
       "      <th>3BDA</th>\n",
       "      <th>LnChl-a</th>\n",
       "    </tr>\n",
       "  </thead>\n",
       "  <tbody>\n",
       "    <tr>\n",
       "      <th>count</th>\n",
       "      <td>313.000000</td>\n",
       "      <td>313.000000</td>\n",
       "      <td>313.000000</td>\n",
       "    </tr>\n",
       "    <tr>\n",
       "      <th>mean</th>\n",
       "      <td>1.053717</td>\n",
       "      <td>0.071768</td>\n",
       "      <td>2.868730</td>\n",
       "    </tr>\n",
       "    <tr>\n",
       "      <th>std</th>\n",
       "      <td>0.166798</td>\n",
       "      <td>0.230351</td>\n",
       "      <td>0.996909</td>\n",
       "    </tr>\n",
       "    <tr>\n",
       "      <th>min</th>\n",
       "      <td>0.843826</td>\n",
       "      <td>-0.141562</td>\n",
       "      <td>-2.302585</td>\n",
       "    </tr>\n",
       "    <tr>\n",
       "      <th>25%</th>\n",
       "      <td>0.950351</td>\n",
       "      <td>-0.053652</td>\n",
       "      <td>2.322388</td>\n",
       "    </tr>\n",
       "    <tr>\n",
       "      <th>50%</th>\n",
       "      <td>1.004335</td>\n",
       "      <td>0.005915</td>\n",
       "      <td>2.862201</td>\n",
       "    </tr>\n",
       "    <tr>\n",
       "      <th>75%</th>\n",
       "      <td>1.095331</td>\n",
       "      <td>0.116589</td>\n",
       "      <td>3.526361</td>\n",
       "    </tr>\n",
       "    <tr>\n",
       "      <th>max</th>\n",
       "      <td>2.165359</td>\n",
       "      <td>1.995223</td>\n",
       "      <td>5.113793</td>\n",
       "    </tr>\n",
       "    <tr>\n",
       "      <th>+3_std</th>\n",
       "      <td>1.554112</td>\n",
       "      <td>0.762821</td>\n",
       "      <td>5.859455</td>\n",
       "    </tr>\n",
       "    <tr>\n",
       "      <th>-3_std</th>\n",
       "      <td>0.553322</td>\n",
       "      <td>-0.619286</td>\n",
       "      <td>-0.121996</td>\n",
       "    </tr>\n",
       "  </tbody>\n",
       "</table>\n",
       "</div>"
      ],
      "text/plain": [
       "              2BDA        3BDA     LnChl-a\n",
       "count   313.000000  313.000000  313.000000\n",
       "mean      1.053717    0.071768    2.868730\n",
       "std       0.166798    0.230351    0.996909\n",
       "min       0.843826   -0.141562   -2.302585\n",
       "25%       0.950351   -0.053652    2.322388\n",
       "50%       1.004335    0.005915    2.862201\n",
       "75%       1.095331    0.116589    3.526361\n",
       "max       2.165359    1.995223    5.113793\n",
       "+3_std    1.554112    0.762821    5.859455\n",
       "-3_std    0.553322   -0.619286   -0.121996"
      ]
     },
     "execution_count": 93,
     "metadata": {},
     "output_type": "execute_result"
    }
   ],
   "source": [
    "list1 = ['2BDA', '3BDA', 'LnChl-a']\n",
    "\n",
    "# get the summary for Mesoeutrophic Lakes\n",
    "desc_Mesoeutrophic = Mesoeutrophic_data [list1].describe()\n",
    "\n",
    "# add the standard deviation metric\n",
    "desc_Mesoeutrophic.loc['+3_std'] = desc_Mesoeutrophic.loc['mean'] + (desc_Mesoeutrophic.loc['std'] * 3)\n",
    "desc_Mesoeutrophic.loc['-3_std'] = desc_Mesoeutrophic.loc['mean'] - (desc_Mesoeutrophic.loc['std'] * 3)\n",
    "\n",
    "# display it\n",
    "desc_Mesoeutrophic"
   ]
  },
  {
   "cell_type": "code",
   "execution_count": 94,
   "id": "aa454c29",
   "metadata": {},
   "outputs": [
    {
     "data": {
      "text/html": [
       "<div>\n",
       "<style scoped>\n",
       "    .dataframe tbody tr th:only-of-type {\n",
       "        vertical-align: middle;\n",
       "    }\n",
       "\n",
       "    .dataframe tbody tr th {\n",
       "        vertical-align: top;\n",
       "    }\n",
       "\n",
       "    .dataframe thead th {\n",
       "        text-align: right;\n",
       "    }\n",
       "</style>\n",
       "<table border=\"1\" class=\"dataframe\">\n",
       "  <thead>\n",
       "    <tr style=\"text-align: right;\">\n",
       "      <th></th>\n",
       "      <th>2BDA</th>\n",
       "      <th>3BDA</th>\n",
       "      <th>LnChl-a</th>\n",
       "    </tr>\n",
       "  </thead>\n",
       "  <tbody>\n",
       "    <tr>\n",
       "      <th>2BDA</th>\n",
       "      <td>1.000000</td>\n",
       "      <td>0.913397</td>\n",
       "      <td>0.412482</td>\n",
       "    </tr>\n",
       "    <tr>\n",
       "      <th>3BDA</th>\n",
       "      <td>0.913397</td>\n",
       "      <td>1.000000</td>\n",
       "      <td>0.291992</td>\n",
       "    </tr>\n",
       "    <tr>\n",
       "      <th>LnChl-a</th>\n",
       "      <td>0.412482</td>\n",
       "      <td>0.291992</td>\n",
       "      <td>1.000000</td>\n",
       "    </tr>\n",
       "  </tbody>\n",
       "</table>\n",
       "</div>"
      ],
      "text/plain": [
       "             2BDA      3BDA   LnChl-a\n",
       "2BDA     1.000000  0.913397  0.412482\n",
       "3BDA     0.913397  1.000000  0.291992\n",
       "LnChl-a  0.412482  0.291992  1.000000"
      ]
     },
     "metadata": {},
     "output_type": "display_data"
    }
   ],
   "source": [
    "# Pearson Coefficient \n",
    "corr = Mesoeutrophic_data[list1].corr(method='pearson')\n",
    "\n",
    "# display the correlation matrix\n",
    "display(corr)"
   ]
  },
  {
   "cell_type": "code",
   "execution_count": 95,
   "id": "33c90056",
   "metadata": {},
   "outputs": [
    {
     "data": {
      "text/plain": [
       "<seaborn.axisgrid.PairGrid at 0x290afbecf10>"
      ]
     },
     "execution_count": 95,
     "metadata": {},
     "output_type": "execute_result"
    },
    {
     "data": {
      "image/png": "[encoded data removed]",
      "text/plain": [
       "<Figure size 540x540 with 12 Axes>"
      ]
     },
     "metadata": {
      "needs_background": "light"
     },
     "output_type": "display_data"
    }
   ],
   "source": [
    "# Scatter plot for each variable in our dataset against another variable\n",
    "sns.pairplot(Mesoeutrophic_data[list1])"
   ]
  },
  {
   "cell_type": "code",
   "execution_count": 96,
   "id": "5d639f89",
   "metadata": {},
   "outputs": [],
   "source": [
    "# Getting column names\n",
    "X_columns1 = [\"2BDA\", \"3BDA\"]\n",
    "Y = Mesoeutrophic_data[\"LnChl-a\"]"
   ]
  },
  {
   "cell_type": "code",
   "execution_count": 97,
   "id": "a50ecf9d",
   "metadata": {},
   "outputs": [
    {
     "data": {
      "text/html": [
       "<div>\n",
       "<style scoped>\n",
       "    .dataframe tbody tr th:only-of-type {\n",
       "        vertical-align: middle;\n",
       "    }\n",
       "\n",
       "    .dataframe tbody tr th {\n",
       "        vertical-align: top;\n",
       "    }\n",
       "\n",
       "    .dataframe thead th {\n",
       "        text-align: right;\n",
       "    }\n",
       "</style>\n",
       "<table border=\"1\" class=\"dataframe\">\n",
       "  <thead>\n",
       "    <tr style=\"text-align: right;\">\n",
       "      <th></th>\n",
       "      <th>VIF Factor</th>\n",
       "      <th>features</th>\n",
       "    </tr>\n",
       "  </thead>\n",
       "  <tbody>\n",
       "    <tr>\n",
       "      <th>0</th>\n",
       "      <td>1.0</td>\n",
       "      <td>2BDA</td>\n",
       "    </tr>\n",
       "    <tr>\n",
       "      <th>1</th>\n",
       "      <td>1.0</td>\n",
       "      <td>3BDA</td>\n",
       "    </tr>\n",
       "  </tbody>\n",
       "</table>\n",
       "</div>"
      ],
      "text/plain": [
       "   VIF Factor features\n",
       "0         1.0     2BDA\n",
       "1         1.0     3BDA"
      ]
     },
     "execution_count": 97,
     "metadata": {},
     "output_type": "execute_result"
    }
   ],
   "source": [
    "#Calculate VIFs on our dataset\n",
    "vif = pd.DataFrame()\n",
    "vif[\"VIF Factor\"] = [variance_inflation_factor(Mesoeutrophic_data[X_columns1[0:2]].values, i) for i in range(Mesoeutrophic_data[X_columns1[0:2]].shape[1])]\n",
    "vif[\"features\"] = Mesoeutrophic_data[X_columns1[0:2]].columns\n",
    "\n",
    "# display VIF\n",
    "vif.round()"
   ]
  },
  {
   "cell_type": "code",
   "execution_count": 98,
   "id": "281ffa14",
   "metadata": {},
   "outputs": [
    {
     "name": "stdout",
     "output_type": "stream",
     "text": [
      "                            OLS Regression Results                            \n",
      "==============================================================================\n",
      "Dep. Variable:                LnChl-a   R-squared:                       0.228\n",
      "Model:                            OLS   Adj. R-squared:                  0.221\n",
      "Method:                 Least Squares   F-statistic:                     31.86\n",
      "Date:                Mon, 07 Mar 2022   Prob (F-statistic):           7.48e-13\n",
      "Time:                        14:34:39   Log-Likelihood:                -259.83\n",
      "No. Observations:                 219   AIC:                             525.7\n",
      "Df Residuals:                     216   BIC:                             535.8\n",
      "Df Model:                           2                                         \n",
      "Covariance Type:            nonrobust                                         \n",
      "==============================================================================\n",
      "                 coef    std err          t      P>|t|      [0.025      0.975]\n",
      "------------------------------------------------------------------------------\n",
      "const         -2.0154      0.836     -2.411      0.017      -3.663      -0.368\n",
      "2BDA           4.8213      0.832      5.792      0.000       3.180       6.462\n",
      "3BDA          -2.1678      0.663     -3.272      0.001      -3.474      -0.862\n",
      "==============================================================================\n",
      "Omnibus:                       10.176   Durbin-Watson:                   2.264\n",
      "Prob(Omnibus):                  0.006   Jarque-Bera (JB):               10.813\n",
      "Skew:                          -0.543   Prob(JB):                      0.00449\n",
      "Kurtosis:                       2.913   Cond. No.                         36.0\n",
      "==============================================================================\n",
      "\n",
      "Notes:\n",
      "[1] Standard Errors assume that the covariance matrix of the errors is correctly specified.\n"
     ]
    }
   ],
   "source": [
    "# Extract independent variables (X) & dependent variable (Y)\n",
    "X = Mesoeutrophic_data[X_columns1]\n",
    "X = add_constant(X)\n",
    "Y = Mesoeutrophic_data['LnChl-a']\n",
    "\n",
    "# Split X and Y into train and test \n",
    "X_train, X_test, Y_train, Y_test = train_test_split(X, Y, test_size=0.30, random_state=1)\n",
    "\n",
    "# Create a Linear Regression model object\n",
    "regression_model = OLS(Y_train,X_train)\n",
    "result = OLS(Y_train,X_train).fit()\n",
    "print(result.summary())"
   ]
  },
  {
   "cell_type": "code",
   "execution_count": 99,
   "id": "35eb90a4",
   "metadata": {},
   "outputs": [],
   "source": [
    "# 2 variables model (2BDA & NDCI)"
   ]
  },
  {
   "cell_type": "code",
   "execution_count": 100,
   "id": "84319f78",
   "metadata": {},
   "outputs": [
    {
     "data": {
      "text/html": [
       "<div>\n",
       "<style scoped>\n",
       "    .dataframe tbody tr th:only-of-type {\n",
       "        vertical-align: middle;\n",
       "    }\n",
       "\n",
       "    .dataframe tbody tr th {\n",
       "        vertical-align: top;\n",
       "    }\n",
       "\n",
       "    .dataframe thead th {\n",
       "        text-align: right;\n",
       "    }\n",
       "</style>\n",
       "<table border=\"1\" class=\"dataframe\">\n",
       "  <thead>\n",
       "    <tr style=\"text-align: right;\">\n",
       "      <th></th>\n",
       "      <th>2BDA</th>\n",
       "      <th>NDCI</th>\n",
       "      <th>LnChl-a</th>\n",
       "    </tr>\n",
       "  </thead>\n",
       "  <tbody>\n",
       "    <tr>\n",
       "      <th>count</th>\n",
       "      <td>313.000000</td>\n",
       "      <td>313.000000</td>\n",
       "      <td>313.000000</td>\n",
       "    </tr>\n",
       "    <tr>\n",
       "      <th>mean</th>\n",
       "      <td>1.053717</td>\n",
       "      <td>0.020797</td>\n",
       "      <td>2.868730</td>\n",
       "    </tr>\n",
       "    <tr>\n",
       "      <th>std</th>\n",
       "      <td>0.166798</td>\n",
       "      <td>0.066948</td>\n",
       "      <td>0.996909</td>\n",
       "    </tr>\n",
       "    <tr>\n",
       "      <th>min</th>\n",
       "      <td>0.843826</td>\n",
       "      <td>-0.084701</td>\n",
       "      <td>-2.302585</td>\n",
       "    </tr>\n",
       "    <tr>\n",
       "      <th>25%</th>\n",
       "      <td>0.950351</td>\n",
       "      <td>-0.025456</td>\n",
       "      <td>2.322388</td>\n",
       "    </tr>\n",
       "    <tr>\n",
       "      <th>50%</th>\n",
       "      <td>1.004335</td>\n",
       "      <td>0.002163</td>\n",
       "      <td>2.862201</td>\n",
       "    </tr>\n",
       "    <tr>\n",
       "      <th>75%</th>\n",
       "      <td>1.095331</td>\n",
       "      <td>0.045497</td>\n",
       "      <td>3.526361</td>\n",
       "    </tr>\n",
       "    <tr>\n",
       "      <th>max</th>\n",
       "      <td>2.165359</td>\n",
       "      <td>0.368160</td>\n",
       "      <td>5.113793</td>\n",
       "    </tr>\n",
       "    <tr>\n",
       "      <th>+3_std</th>\n",
       "      <td>1.554112</td>\n",
       "      <td>0.221642</td>\n",
       "      <td>5.859455</td>\n",
       "    </tr>\n",
       "    <tr>\n",
       "      <th>-3_std</th>\n",
       "      <td>0.553322</td>\n",
       "      <td>-0.180048</td>\n",
       "      <td>-0.121996</td>\n",
       "    </tr>\n",
       "  </tbody>\n",
       "</table>\n",
       "</div>"
      ],
      "text/plain": [
       "              2BDA        NDCI     LnChl-a\n",
       "count   313.000000  313.000000  313.000000\n",
       "mean      1.053717    0.020797    2.868730\n",
       "std       0.166798    0.066948    0.996909\n",
       "min       0.843826   -0.084701   -2.302585\n",
       "25%       0.950351   -0.025456    2.322388\n",
       "50%       1.004335    0.002163    2.862201\n",
       "75%       1.095331    0.045497    3.526361\n",
       "max       2.165359    0.368160    5.113793\n",
       "+3_std    1.554112    0.221642    5.859455\n",
       "-3_std    0.553322   -0.180048   -0.121996"
      ]
     },
     "execution_count": 100,
     "metadata": {},
     "output_type": "execute_result"
    }
   ],
   "source": [
    "list2 = ['2BDA', 'NDCI', 'LnChl-a']\n",
    "\n",
    "# get the summary for Mesoeutrophic Lakes\n",
    "desc_Mesoeutrophic = Mesoeutrophic_data [list2].describe()\n",
    "\n",
    "# add the standard deviation metric\n",
    "desc_Mesoeutrophic.loc['+3_std'] = desc_Mesoeutrophic.loc['mean'] + (desc_Mesoeutrophic.loc['std'] * 3)\n",
    "desc_Mesoeutrophic.loc['-3_std'] = desc_Mesoeutrophic.loc['mean'] - (desc_Mesoeutrophic.loc['std'] * 3)\n",
    "\n",
    "# display it\n",
    "desc_Mesoeutrophic"
   ]
  },
  {
   "cell_type": "code",
   "execution_count": 101,
   "id": "b68959d1",
   "metadata": {},
   "outputs": [
    {
     "data": {
      "text/html": [
       "<div>\n",
       "<style scoped>\n",
       "    .dataframe tbody tr th:only-of-type {\n",
       "        vertical-align: middle;\n",
       "    }\n",
       "\n",
       "    .dataframe tbody tr th {\n",
       "        vertical-align: top;\n",
       "    }\n",
       "\n",
       "    .dataframe thead th {\n",
       "        text-align: right;\n",
       "    }\n",
       "</style>\n",
       "<table border=\"1\" class=\"dataframe\">\n",
       "  <thead>\n",
       "    <tr style=\"text-align: right;\">\n",
       "      <th></th>\n",
       "      <th>2BDA</th>\n",
       "      <th>NDCI</th>\n",
       "      <th>LnChl-a</th>\n",
       "    </tr>\n",
       "  </thead>\n",
       "  <tbody>\n",
       "    <tr>\n",
       "      <th>2BDA</th>\n",
       "      <td>1.000000</td>\n",
       "      <td>0.988645</td>\n",
       "      <td>0.412482</td>\n",
       "    </tr>\n",
       "    <tr>\n",
       "      <th>NDCI</th>\n",
       "      <td>0.988645</td>\n",
       "      <td>1.000000</td>\n",
       "      <td>0.441549</td>\n",
       "    </tr>\n",
       "    <tr>\n",
       "      <th>LnChl-a</th>\n",
       "      <td>0.412482</td>\n",
       "      <td>0.441549</td>\n",
       "      <td>1.000000</td>\n",
       "    </tr>\n",
       "  </tbody>\n",
       "</table>\n",
       "</div>"
      ],
      "text/plain": [
       "             2BDA      NDCI   LnChl-a\n",
       "2BDA     1.000000  0.988645  0.412482\n",
       "NDCI     0.988645  1.000000  0.441549\n",
       "LnChl-a  0.412482  0.441549  1.000000"
      ]
     },
     "metadata": {},
     "output_type": "display_data"
    }
   ],
   "source": [
    "# Pearson Coefficient \n",
    "corr = Mesoeutrophic_data[list2].corr(method='pearson')\n",
    "\n",
    "# display the correlation matrix\n",
    "display(corr)"
   ]
  },
  {
   "cell_type": "code",
   "execution_count": 102,
   "id": "79e9a4e8",
   "metadata": {},
   "outputs": [],
   "source": [
    "# Getting column names\n",
    "X_columns2 = [\"2BDA\", \"NDCI\"]\n",
    "Y = Mesoeutrophic_data[\"LnChl-a\"]"
   ]
  },
  {
   "cell_type": "code",
   "execution_count": 103,
   "id": "0c123a2f",
   "metadata": {},
   "outputs": [
    {
     "name": "stdout",
     "output_type": "stream",
     "text": [
      "                            OLS Regression Results                            \n",
      "==============================================================================\n",
      "Dep. Variable:                LnChl-a   R-squared:                       0.244\n",
      "Model:                            OLS   Adj. R-squared:                  0.237\n",
      "Method:                 Least Squares   F-statistic:                     34.94\n",
      "Date:                Mon, 07 Mar 2022   Prob (F-statistic):           7.14e-14\n",
      "Time:                        14:34:56   Log-Likelihood:                -257.45\n",
      "No. Observations:                 219   AIC:                             520.9\n",
      "Df Residuals:                     216   BIC:                             531.1\n",
      "Df Model:                           2                                         \n",
      "Covariance Type:            nonrobust                                         \n",
      "==============================================================================\n",
      "                 coef    std err          t      P>|t|      [0.025      0.975]\n",
      "------------------------------------------------------------------------------\n",
      "const          8.4124      2.028      4.148      0.000       4.415      12.410\n",
      "2BDA          -5.6066      2.021     -2.774      0.006      -9.590      -1.623\n",
      "NDCI          20.1713      5.093      3.961      0.000      10.133      30.209\n",
      "==============================================================================\n",
      "Omnibus:                       26.637   Durbin-Watson:                   2.213\n",
      "Prob(Omnibus):                  0.000   Jarque-Bera (JB):               32.788\n",
      "Skew:                          -0.854   Prob(JB):                     7.59e-08\n",
      "Kurtosis:                       3.824   Cond. No.                         159.\n",
      "==============================================================================\n",
      "\n",
      "Notes:\n",
      "[1] Standard Errors assume that the covariance matrix of the errors is correctly specified.\n"
     ]
    }
   ],
   "source": [
    "# Extract independent variables (X) & dependent variable (Y)\n",
    "X = Mesoeutrophic_data[X_columns2]\n",
    "X = add_constant(X)\n",
    "Y = Mesoeutrophic_data['LnChl-a']\n",
    "\n",
    "# Split X and Y into train and test \n",
    "X_train, X_test, Y_train, Y_test = train_test_split(X, Y, test_size=0.30, random_state=1)\n",
    "\n",
    "# Create a Linear Regression model object\n",
    "regression_model = OLS(Y_train,X_train)\n",
    "result = OLS(Y_train,X_train).fit()\n",
    "print(result.summary())"
   ]
  },
  {
   "cell_type": "code",
   "execution_count": null,
   "id": "3b6fc24c",
   "metadata": {},
   "outputs": [],
   "source": []
  }
 ],
 "metadata": {
  "kernelspec": {
   "display_name": "Python 3",
   "language": "python",
   "name": "python3"
  },
  "language_info": {
   "codemirror_mode": {
    "name": "ipython",
    "version": 3
   },
   "file_extension": ".py",
   "mimetype": "text/x-python",
   "name": "python",
   "nbconvert_exporter": "python",
   "pygments_lexer": "ipython3",
   "version": "3.8.8"
  }
 },
 "nbformat": 4,
 "nbformat_minor": 5
}
