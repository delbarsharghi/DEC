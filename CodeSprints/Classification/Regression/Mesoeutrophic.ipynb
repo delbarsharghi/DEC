{
 "cells": [
  {
   "cell_type": "code",
   "execution_count": 47,
   "id": "e761e8da",
   "metadata": {},
   "outputs": [],
   "source": [
    "import pandas as pd\n",
    "import numpy as np\n",
    "import matplotlib.pyplot as plt\n",
    "import statsmodels.api as sm\n",
    "import seaborn as sns\n",
    "\n",
    "from statsmodels.stats.outliers_influence import variance_inflation_factor\n",
    "from statsmodels.api import OLS\n",
    "from statsmodels.api import add_constant\n",
    "\n",
    "from sklearn.linear_model import LinearRegression\n",
    "from sklearn.model_selection import train_test_split\n",
    "from sklearn.metrics import mean_squared_error, r2_score, mean_absolute_error"
   ]
  },
  {
   "cell_type": "code",
   "execution_count": 48,
   "id": "e815c109",
   "metadata": {},
   "outputs": [
    {
     "data": {
      "text/plain": [
       "'C:\\\\Users\\\\SarShel\\\\DEC\\\\Regression'"
      ]
     },
     "execution_count": 48,
     "metadata": {},
     "output_type": "execute_result"
    }
   ],
   "source": [
    "import os\n",
    "os.getcwd()"
   ]
  },
  {
   "cell_type": "code",
   "execution_count": 49,
   "id": "e9178b07",
   "metadata": {},
   "outputs": [
    {
     "data": {
      "text/plain": [
       "'C:\\\\Users\\\\SarShel\\\\DEC\\\\Regression'"
      ]
     },
     "execution_count": 49,
     "metadata": {},
     "output_type": "execute_result"
    }
   ],
   "source": [
    "os.chdir('C:\\\\Users\\\\SarShel\\\\DEC\\\\Regression')\n",
    "os.getcwd()"
   ]
  },
  {
   "cell_type": "code",
   "execution_count": 50,
   "id": "4ac3f4c4",
   "metadata": {},
   "outputs": [
    {
     "name": "stdout",
     "output_type": "stream",
     "text": [
      "      Unnamed: 0         Lake Name          Y          X       Date  Year  \\\n",
      "0              0  Little Long Pond  40.977600 -72.296204   6/4/2016  2016   \n",
      "1              1        Hatch Lake  42.834598 -75.677803   6/5/2016  2016   \n",
      "2              2   Montgomery Lake  41.525299 -74.917297   6/4/2016  2016   \n",
      "3              3         Dean Pond  42.447700 -76.003403   6/4/2016  2016   \n",
      "4              4   Chautauqua Lake  42.219885 -79.455423   6/5/2016  2016   \n",
      "...          ...               ...        ...        ...        ...   ...   \n",
      "4599        4599         Long Pond  40.975102 -72.290802  7/12/2020  2020   \n",
      "4600        4600         Long Pond  40.975102 -72.290802  7/26/2020  2020   \n",
      "4601        4601         Long Pond  40.975102 -72.290802   8/9/2020  2020   \n",
      "4602        4602         Long Pond  40.975102 -72.290802  8/23/2020  2020   \n",
      "4603        4603         Long Pond  40.975102 -72.290802   9/7/2020  2020   \n",
      "\n",
      "      Month  Day  Chl-a(ug/l)  SDD (m)  Phos (mg/l)  Chl score  SDD score  \\\n",
      "0         6    4        1.200     2.90      0.01320        3.0        2.0   \n",
      "1         6    5        2.900     8.05      0.01090        2.0        1.0   \n",
      "2         6    4        2.900     3.80      0.00920        2.0        2.0   \n",
      "3         6    4       16.600     1.00      0.04460        1.0        3.0   \n",
      "4         6    5        2.000     2.00      0.02780        2.0        2.0   \n",
      "...     ...  ...          ...      ...          ...        ...        ...   \n",
      "4599      7   12        5.248     1.20      0.01830        2.0        3.0   \n",
      "4600      7   26        8.168     1.40      0.02430        1.0        3.0   \n",
      "4601      8    9        9.048     1.15      0.02660        1.0        3.0   \n",
      "4602      8   23       13.088     1.35      0.00585        1.0        3.0   \n",
      "4603      9    7        7.778     1.10      0.02980        2.0        3.0   \n",
      "\n",
      "      Phos score  Sum of score     Tropic state  \n",
      "0            2.0           7.0  Mesoligotrophic  \n",
      "1            2.0           5.0    Mesoeutrophic  \n",
      "2            3.0           7.0  Mesoligotrophic  \n",
      "3            1.0           5.0    Mesoeutrophic  \n",
      "4            1.0           5.0    Mesoeutrophic  \n",
      "...          ...           ...              ...  \n",
      "4599         2.0           7.0  Mesoligotrophic  \n",
      "4600         1.0           5.0    Mesoeutrophic  \n",
      "4601         1.0           5.0    Mesoeutrophic  \n",
      "4602         3.0           7.0  Mesoligotrophic  \n",
      "4603         1.0           6.0      Mesotrophic  \n",
      "\n",
      "[4600 rows x 16 columns]\n"
     ]
    }
   ],
   "source": [
    "# Read Classified field dataset \n",
    "FieldData0 = pd.read_csv('data_raw/ClassifiedData/FieldData_class.csv')\n",
    "\n",
    "# Remove none values\n",
    "FieldData = FieldData0.dropna()\n",
    "\n",
    "# Display DataFrame\n",
    "print(FieldData)"
   ]
  },
  {
   "cell_type": "code",
   "execution_count": 51,
   "id": "9ad0dac1",
   "metadata": {},
   "outputs": [
    {
     "name": "stdout",
     "output_type": "stream",
     "text": [
      "       Year  Month  Day      2BDA      3BDA      NDCI        B1       B10  \\\n",
      "0      2016      5    7  0.956819 -0.044095 -0.022067  0.117900  0.002955   \n",
      "1      2016      5    7  0.956897 -0.043909 -0.022026  0.117907  0.002955   \n",
      "2      2016      5    7  1.015060  0.016807  0.007474  0.147959  0.008728   \n",
      "3      2016      5    7  0.991619 -0.009014 -0.004208  0.142645  0.007528   \n",
      "4      2016      5    7  0.881187 -0.110047 -0.063158  0.116655  0.002038   \n",
      "...     ...    ...  ...       ...       ...       ...       ...       ...   \n",
      "35028  2020     10   30  0.853926 -0.129055 -0.078792  0.152807  0.001676   \n",
      "35029  2020     10   30  1.077396  0.061427  0.037256  0.126659  0.001469   \n",
      "35030  2020     10   30  0.945077 -0.051659 -0.028237  0.134852  0.007321   \n",
      "35031  2020     10   30  0.961857 -0.039219 -0.019442  0.132445  0.007393   \n",
      "35032  2020     10   30  0.959639 -0.039047 -0.020596  0.126638  0.006003   \n",
      "\n",
      "            B11       B12  ...        B3        B4        B5        B6  \\\n",
      "0      0.016390  0.011321  ...  0.066817  0.042403  0.040572  0.041431   \n",
      "1      0.016390  0.011321  ...  0.066817  0.042400  0.040572  0.041331   \n",
      "2      0.053441  0.041969  ...  0.098893  0.080366  0.081576  0.091038   \n",
      "3      0.047441  0.035914  ...  0.095421  0.073648  0.073031  0.078548   \n",
      "4      0.007586  0.005145  ...  0.066907  0.038455  0.033886  0.031386   \n",
      "...         ...       ...  ...       ...       ...       ...       ...   \n",
      "35028  0.008662  0.005803  ...  0.070890  0.044710  0.038179  0.033731   \n",
      "35029  0.014217  0.008186  ...  0.071028  0.040410  0.043538  0.034555   \n",
      "35030  0.018221  0.015945  ...  0.070283  0.047528  0.044917  0.042248   \n",
      "35031  0.022983  0.016369  ...  0.067686  0.047010  0.045217  0.046493   \n",
      "35032  0.016324  0.011272  ...  0.062962  0.040838  0.039190  0.037914   \n",
      "\n",
      "             B7        B8       B8A        B9          X          Y  \n",
      "0      0.040707  0.035441  0.036210  0.016803 -79.726196  42.101898  \n",
      "1      0.040714  0.035441  0.036172  0.016969 -79.726196  42.101898  \n",
      "2      0.094266  0.090610  0.094869  0.046917 -79.455423  42.219885  \n",
      "3      0.079997  0.077869  0.077197  0.034931 -79.430702  42.180951  \n",
      "4      0.030362  0.024534  0.025524  0.011448 -79.363881  42.123269  \n",
      "...         ...       ...       ...       ...        ...        ...  \n",
      "35028  0.030021  0.027724  0.024259  0.012969 -76.958078  43.248531  \n",
      "35029  0.034010  0.027786  0.029086  0.020831 -76.222702  43.235401  \n",
      "35030  0.041645  0.041476  0.038621  0.031514 -75.775200  44.316502  \n",
      "35031  0.044748  0.044814  0.042314  0.030562 -75.775002  44.279800  \n",
      "35032  0.036766  0.037372  0.033231  0.022614 -75.767502  44.292198  \n",
      "\n",
      "[35033 rows x 21 columns]\n"
     ]
    }
   ],
   "source": [
    "# Read S2 dataset \n",
    "S2Data0 = pd.read_csv('data_raw/ClassifiedData/S2Data.csv')\n",
    "\n",
    "# Remove none values\n",
    "S2Data = S2Data0.dropna()\n",
    "\n",
    "# Display DataFrame\n",
    "print(S2Data)"
   ]
  },
  {
   "cell_type": "code",
   "execution_count": 52,
   "id": "51958282",
   "metadata": {},
   "outputs": [
    {
     "name": "stdout",
     "output_type": "stream",
     "text": [
      "      Unnamed: 0          Lake Name          Y          X       Date  Year  \\\n",
      "0             36          Kirk Lake  41.385601 -73.749802  6/27/2016  2016   \n",
      "1             36          Kirk Lake  41.385601 -73.749802  6/27/2016  2016   \n",
      "2             36          Kirk Lake  41.385601 -73.749802  6/27/2016  2016   \n",
      "3             39     Cazenovia Lake  42.948200 -75.872002  6/23/2016  2016   \n",
      "4             39     Cazenovia Lake  42.948200 -75.872002  6/23/2016  2016   \n",
      "...          ...                ...        ...        ...        ...   ...   \n",
      "1088        4587  Little Fresh Pond  40.918201 -72.408501  8/30/2020  2020   \n",
      "1089        4592   Little Long Pond  40.977600 -72.296204  7/26/2020  2020   \n",
      "1090        4592   Little Long Pond  40.977600 -72.296204  7/26/2020  2020   \n",
      "1091        4600          Long Pond  40.975102 -72.290802  7/26/2020  2020   \n",
      "1092        4600          Long Pond  40.975102 -72.290802  7/26/2020  2020   \n",
      "\n",
      "      Month  Day  Chl-a(ug/l)  SDD (m)  ...       B12        B2        B3  \\\n",
      "0         6   27        1.000     2.40  ...  0.010024  0.090128  0.069817   \n",
      "1         6   27        1.000     2.40  ...  0.010024  0.090128  0.069817   \n",
      "2         6   27        1.000     2.40  ...  0.010024  0.090128  0.069817   \n",
      "3         6   23        1.500     4.85  ...  0.059628  0.136434  0.114286   \n",
      "4         6   23        1.500     4.85  ...  0.059628  0.136434  0.114286   \n",
      "...     ...  ...          ...      ...  ...       ...       ...       ...   \n",
      "1088      8   30        2.836     1.40  ...  0.141214  0.168424  0.150407   \n",
      "1089      7   26        2.622     2.85  ...  0.043166  0.105979  0.086414   \n",
      "1090      7   26        2.622     2.85  ...  0.043076  0.106431  0.088262   \n",
      "1091      7   26        8.168     1.40  ...  0.045714  0.125934  0.102697   \n",
      "1092      7   26        8.168     1.40  ...  0.043914  0.127021  0.103686   \n",
      "\n",
      "            B4        B5        B6        B7        B8       B8A        B9  \n",
      "0     0.042407  0.039348  0.048121  0.050697  0.043262  0.044607  0.010859  \n",
      "1     0.042407  0.039348  0.048121  0.050697  0.043262  0.044607  0.010859  \n",
      "2     0.042407  0.039348  0.048121  0.050693  0.043262  0.044607  0.010859  \n",
      "3     0.098217  0.094638  0.100941  0.102466  0.101697  0.097193  0.028014  \n",
      "4     0.098217  0.094638  0.100941  0.102466  0.101697  0.097193  0.028014  \n",
      "...        ...       ...       ...       ...       ...       ...       ...  \n",
      "1088  0.136007  0.150055  0.227241  0.265983  0.265224  0.293317  0.094345  \n",
      "1089  0.063159  0.079669  0.139783  0.167700  0.129279  0.176355  0.040662  \n",
      "1090  0.064634  0.082555  0.145114  0.172072  0.134097  0.179403  0.041586  \n",
      "1091  0.076810  0.088400  0.144431  0.168379  0.178252  0.175324  0.038690  \n",
      "1092  0.077014  0.087110  0.141569  0.163848  0.181493  0.169276  0.036676  \n",
      "\n",
      "[1093 rows x 32 columns]\n"
     ]
    }
   ],
   "source": [
    "# Merge classified FieldData and S2Data; \n",
    "Data_class = pd.merge(FieldData, S2Data, on=['Y', 'X', 'Year', 'Month', 'Day'], how='inner')\n",
    "Data_class.to_csv('data_output/ClassifiedData/Data_class.csv')\n",
    "\n",
    "# displaying result\n",
    "print(Data_class)"
   ]
  },
  {
   "cell_type": "code",
   "execution_count": 53,
   "id": "f548a26b",
   "metadata": {},
   "outputs": [
    {
     "data": {
      "text/plain": [
       "(313, 32)"
      ]
     },
     "execution_count": 53,
     "metadata": {},
     "output_type": "execute_result"
    }
   ],
   "source": [
    "# Select Mesoeutrophic Data \n",
    "Mesoeutrophic_data = Data_class.loc[(Data_class['Tropic state'] == 'Mesoeutrophic')]\n",
    "Mesoeutrophic_data.shape"
   ]
  },
  {
   "cell_type": "code",
   "execution_count": 54,
   "id": "a60fb902",
   "metadata": {},
   "outputs": [
    {
     "data": {
      "text/html": [
       "<div>\n",
       "<style scoped>\n",
       "    .dataframe tbody tr th:only-of-type {\n",
       "        vertical-align: middle;\n",
       "    }\n",
       "\n",
       "    .dataframe tbody tr th {\n",
       "        vertical-align: top;\n",
       "    }\n",
       "\n",
       "    .dataframe thead th {\n",
       "        text-align: right;\n",
       "    }\n",
       "</style>\n",
       "<table border=\"1\" class=\"dataframe\">\n",
       "  <thead>\n",
       "    <tr style=\"text-align: right;\">\n",
       "      <th></th>\n",
       "      <th>2BDA</th>\n",
       "      <th>3BDA</th>\n",
       "      <th>NDCI</th>\n",
       "      <th>Chl-a(ug/l)</th>\n",
       "    </tr>\n",
       "  </thead>\n",
       "  <tbody>\n",
       "    <tr>\n",
       "      <th>count</th>\n",
       "      <td>313.000000</td>\n",
       "      <td>313.000000</td>\n",
       "      <td>313.000000</td>\n",
       "      <td>313.000000</td>\n",
       "    </tr>\n",
       "    <tr>\n",
       "      <th>mean</th>\n",
       "      <td>1.053717</td>\n",
       "      <td>0.071768</td>\n",
       "      <td>0.020797</td>\n",
       "      <td>26.609406</td>\n",
       "    </tr>\n",
       "    <tr>\n",
       "      <th>std</th>\n",
       "      <td>0.166798</td>\n",
       "      <td>0.230351</td>\n",
       "      <td>0.066948</td>\n",
       "      <td>25.498756</td>\n",
       "    </tr>\n",
       "    <tr>\n",
       "      <th>min</th>\n",
       "      <td>0.843826</td>\n",
       "      <td>-0.141562</td>\n",
       "      <td>-0.084701</td>\n",
       "      <td>0.100000</td>\n",
       "    </tr>\n",
       "    <tr>\n",
       "      <th>25%</th>\n",
       "      <td>0.950351</td>\n",
       "      <td>-0.053652</td>\n",
       "      <td>-0.025456</td>\n",
       "      <td>10.200000</td>\n",
       "    </tr>\n",
       "    <tr>\n",
       "      <th>50%</th>\n",
       "      <td>1.004335</td>\n",
       "      <td>0.005915</td>\n",
       "      <td>0.002163</td>\n",
       "      <td>17.500000</td>\n",
       "    </tr>\n",
       "    <tr>\n",
       "      <th>75%</th>\n",
       "      <td>1.095331</td>\n",
       "      <td>0.116589</td>\n",
       "      <td>0.045497</td>\n",
       "      <td>34.000000</td>\n",
       "    </tr>\n",
       "    <tr>\n",
       "      <th>max</th>\n",
       "      <td>2.165359</td>\n",
       "      <td>1.995223</td>\n",
       "      <td>0.368160</td>\n",
       "      <td>166.300000</td>\n",
       "    </tr>\n",
       "    <tr>\n",
       "      <th>+3_std</th>\n",
       "      <td>1.554112</td>\n",
       "      <td>0.762821</td>\n",
       "      <td>0.221642</td>\n",
       "      <td>103.105672</td>\n",
       "    </tr>\n",
       "    <tr>\n",
       "      <th>-3_std</th>\n",
       "      <td>0.553322</td>\n",
       "      <td>-0.619286</td>\n",
       "      <td>-0.180048</td>\n",
       "      <td>-49.886861</td>\n",
       "    </tr>\n",
       "  </tbody>\n",
       "</table>\n",
       "</div>"
      ],
      "text/plain": [
       "              2BDA        3BDA        NDCI  Chl-a(ug/l)\n",
       "count   313.000000  313.000000  313.000000   313.000000\n",
       "mean      1.053717    0.071768    0.020797    26.609406\n",
       "std       0.166798    0.230351    0.066948    25.498756\n",
       "min       0.843826   -0.141562   -0.084701     0.100000\n",
       "25%       0.950351   -0.053652   -0.025456    10.200000\n",
       "50%       1.004335    0.005915    0.002163    17.500000\n",
       "75%       1.095331    0.116589    0.045497    34.000000\n",
       "max       2.165359    1.995223    0.368160   166.300000\n",
       "+3_std    1.554112    0.762821    0.221642   103.105672\n",
       "-3_std    0.553322   -0.619286   -0.180048   -49.886861"
      ]
     },
     "execution_count": 54,
     "metadata": {},
     "output_type": "execute_result"
    }
   ],
   "source": [
    "# Descriptive statistics of all variables\n",
    "list = ['2BDA', '3BDA', 'NDCI', 'Chl-a(ug/l)']\n",
    "\n",
    "# get the summary for Mesoeutrophic Lakes\n",
    "desc_Mesoeutrophic = Mesoeutrophic_data [list].describe()\n",
    "\n",
    "# add the standard deviation metric\n",
    "desc_Mesoeutrophic.loc['+3_std'] = desc_Mesoeutrophic.loc['mean'] + (desc_Mesoeutrophic.loc['std'] * 3)\n",
    "desc_Mesoeutrophic.loc['-3_std'] = desc_Mesoeutrophic.loc['mean'] - (desc_Mesoeutrophic.loc['std'] * 3)\n",
    "\n",
    "# display it\n",
    "desc_Mesoeutrophic"
   ]
  },
  {
   "cell_type": "code",
   "execution_count": 55,
   "id": "69538980",
   "metadata": {},
   "outputs": [
    {
     "data": {
      "text/html": [
       "<div>\n",
       "<style scoped>\n",
       "    .dataframe tbody tr th:only-of-type {\n",
       "        vertical-align: middle;\n",
       "    }\n",
       "\n",
       "    .dataframe tbody tr th {\n",
       "        vertical-align: top;\n",
       "    }\n",
       "\n",
       "    .dataframe thead th {\n",
       "        text-align: right;\n",
       "    }\n",
       "</style>\n",
       "<table border=\"1\" class=\"dataframe\">\n",
       "  <thead>\n",
       "    <tr style=\"text-align: right;\">\n",
       "      <th></th>\n",
       "      <th>2BDA</th>\n",
       "      <th>3BDA</th>\n",
       "      <th>NDCI</th>\n",
       "      <th>Chl-a(ug/l)</th>\n",
       "    </tr>\n",
       "  </thead>\n",
       "  <tbody>\n",
       "    <tr>\n",
       "      <th>2BDA</th>\n",
       "      <td>1.000000</td>\n",
       "      <td>0.913397</td>\n",
       "      <td>0.988645</td>\n",
       "      <td>0.522209</td>\n",
       "    </tr>\n",
       "    <tr>\n",
       "      <th>3BDA</th>\n",
       "      <td>0.913397</td>\n",
       "      <td>1.000000</td>\n",
       "      <td>0.902230</td>\n",
       "      <td>0.354314</td>\n",
       "    </tr>\n",
       "    <tr>\n",
       "      <th>NDCI</th>\n",
       "      <td>0.988645</td>\n",
       "      <td>0.902230</td>\n",
       "      <td>1.000000</td>\n",
       "      <td>0.547113</td>\n",
       "    </tr>\n",
       "    <tr>\n",
       "      <th>Chl-a(ug/l)</th>\n",
       "      <td>0.522209</td>\n",
       "      <td>0.354314</td>\n",
       "      <td>0.547113</td>\n",
       "      <td>1.000000</td>\n",
       "    </tr>\n",
       "  </tbody>\n",
       "</table>\n",
       "</div>"
      ],
      "text/plain": [
       "                 2BDA      3BDA      NDCI  Chl-a(ug/l)\n",
       "2BDA         1.000000  0.913397  0.988645     0.522209\n",
       "3BDA         0.913397  1.000000  0.902230     0.354314\n",
       "NDCI         0.988645  0.902230  1.000000     0.547113\n",
       "Chl-a(ug/l)  0.522209  0.354314  0.547113     1.000000"
      ]
     },
     "metadata": {},
     "output_type": "display_data"
    }
   ],
   "source": [
    "# Pearson Coefficient \n",
    "corr = Mesoeutrophic_data[list].corr(method='pearson')\n",
    "\n",
    "# display the correlation matrix\n",
    "display(corr)"
   ]
  },
  {
   "cell_type": "code",
   "execution_count": 56,
   "id": "b6531409",
   "metadata": {},
   "outputs": [
    {
     "data": {
      "text/plain": [
       "<seaborn.axisgrid.PairGrid at 0x290ae948eb0>"
      ]
     },
     "execution_count": 56,
     "metadata": {},
     "output_type": "execute_result"
    },
    {
     "data": {
      "image/png": "[encoded data removed]",
      "text/plain": [
       "<Figure size 720x720 with 20 Axes>"
      ]
     },
     "metadata": {
      "needs_background": "light"
     },
     "output_type": "display_data"
    }
   ],
   "source": [
    "# Scatter plot for each variable in our dataset against another variable\n",
    "sns.pairplot(Mesoeutrophic_data[list])"
   ]
  },
  {
   "cell_type": "code",
   "execution_count": 57,
   "id": "e8833ef0",
   "metadata": {},
   "outputs": [],
   "source": [
    "# Getting column names\n",
    "X_columns = [\"2BDA\", \"3BDA\", \"NDCI\"]\n",
    "Y = Mesoeutrophic_data[\"Chl-a(ug/l)\"]"
   ]
  },
  {
   "cell_type": "code",
   "execution_count": 58,
   "id": "030fa743",
   "metadata": {},
   "outputs": [
    {
     "data": {
      "text/html": [
       "<div>\n",
       "<style scoped>\n",
       "    .dataframe tbody tr th:only-of-type {\n",
       "        vertical-align: middle;\n",
       "    }\n",
       "\n",
       "    .dataframe tbody tr th {\n",
       "        vertical-align: top;\n",
       "    }\n",
       "\n",
       "    .dataframe thead th {\n",
       "        text-align: right;\n",
       "    }\n",
       "</style>\n",
       "<table border=\"1\" class=\"dataframe\">\n",
       "  <thead>\n",
       "    <tr style=\"text-align: right;\">\n",
       "      <th></th>\n",
       "      <th>VIF Factor</th>\n",
       "      <th>features</th>\n",
       "    </tr>\n",
       "  </thead>\n",
       "  <tbody>\n",
       "    <tr>\n",
       "      <th>0</th>\n",
       "      <td>1.0</td>\n",
       "      <td>2BDA</td>\n",
       "    </tr>\n",
       "    <tr>\n",
       "      <th>1</th>\n",
       "      <td>6.0</td>\n",
       "      <td>3BDA</td>\n",
       "    </tr>\n",
       "    <tr>\n",
       "      <th>2</th>\n",
       "      <td>6.0</td>\n",
       "      <td>NDCI</td>\n",
       "    </tr>\n",
       "  </tbody>\n",
       "</table>\n",
       "</div>"
      ],
      "text/plain": [
       "   VIF Factor features\n",
       "0         1.0     2BDA\n",
       "1         6.0     3BDA\n",
       "2         6.0     NDCI"
      ]
     },
     "execution_count": 58,
     "metadata": {},
     "output_type": "execute_result"
    }
   ],
   "source": [
    "#Calculate VIFs on our dataset\n",
    "vif = pd.DataFrame()\n",
    "vif[\"VIF Factor\"] = [variance_inflation_factor(Mesoeutrophic_data[X_columns[0:3]].values, i) for i in range(Mesoeutrophic_data[X_columns[0:3]].shape[1])]\n",
    "vif[\"features\"] = Mesoeutrophic_data[X_columns[0:3]].columns\n",
    "\n",
    "# display VIF\n",
    "vif.round()"
   ]
  },
  {
   "cell_type": "code",
   "execution_count": 60,
   "id": "4547f82d",
   "metadata": {},
   "outputs": [
    {
     "name": "stdout",
     "output_type": "stream",
     "text": [
      "                            OLS Regression Results                            \n",
      "==============================================================================\n",
      "Dep. Variable:            Chl-a(ug/l)   R-squared:                       0.402\n",
      "Model:                            OLS   Adj. R-squared:                  0.394\n",
      "Method:                 Least Squares   F-statistic:                     48.16\n",
      "Date:                Mon, 07 Mar 2022   Prob (F-statistic):           7.51e-24\n",
      "Time:                        14:25:02   Log-Likelihood:                -957.75\n",
      "No. Observations:                 219   AIC:                             1924.\n",
      "Df Residuals:                     215   BIC:                             1937.\n",
      "Df Model:                           3                                         \n",
      "Covariance Type:            nonrobust                                         \n",
      "==============================================================================\n",
      "                 coef    std err          t      P>|t|      [0.025      0.975]\n",
      "------------------------------------------------------------------------------\n",
      "const         74.1851     50.272      1.476      0.141     -24.905     173.275\n",
      "2BDA         -50.3317     50.120     -1.004      0.316    -149.121      48.457\n",
      "3BDA         -90.8230     16.549     -5.488      0.000    -123.442     -58.204\n",
      "NDCI         595.7983    128.588      4.633      0.000     342.344     849.252\n",
      "==============================================================================\n",
      "Omnibus:                       95.697   Durbin-Watson:                   2.248\n",
      "Prob(Omnibus):                  0.000   Jarque-Bera (JB):              430.631\n",
      "Skew:                           1.710   Prob(JB):                     3.09e-94\n",
      "Kurtosis:                       8.958   Cond. No.                         161.\n",
      "==============================================================================\n",
      "\n",
      "Notes:\n",
      "[1] Standard Errors assume that the covariance matrix of the errors is correctly specified.\n"
     ]
    }
   ],
   "source": [
    "# Extract independent variables (X) & dependent variable (Y)\n",
    "X = Mesoeutrophic_data[X_columns]\n",
    "X = add_constant(X)\n",
    "Y = Mesoeutrophic_data['Chl-a(ug/l)']\n",
    "\n",
    "# Split X and Y into train and test \n",
    "X_train, X_test, Y_train, Y_test = train_test_split(X, Y, test_size=0.30, random_state=1)\n",
    "\n",
    "# Create a Linear Regression model object\n",
    "regression_model = OLS(Y_train,X_train)\n",
    "result = OLS(Y_train,X_train).fit()\n",
    "print(result.summary())"
   ]
  },
  {
   "cell_type": "code",
   "execution_count": 61,
   "id": "88050564",
   "metadata": {},
   "outputs": [
    {
     "name": "stdout",
     "output_type": "stream",
     "text": [
      "predicted Y: 273     78.045277\n",
      "986     28.909538\n",
      "1076    45.756397\n",
      "642     42.309491\n",
      "364     21.738832\n",
      "          ...    \n",
      "571     21.846127\n",
      "745     34.944301\n",
      "14      31.208731\n",
      "980     60.998350\n",
      "146     15.330243\n",
      "Length: 94, dtype: float64\n"
     ]
    }
   ],
   "source": [
    "# Get predictions\n",
    "Y_predict = result.predict(X_test)\n",
    "print('predicted Y:', Y_predict)"
   ]
  },
  {
   "cell_type": "code",
   "execution_count": 62,
   "id": "874e9534",
   "metadata": {},
   "outputs": [
    {
     "name": "stdout",
     "output_type": "stream",
     "text": [
      "MSE 4.4e+02\n",
      "MAE 15.0\n",
      "RMSE 21.0\n"
     ]
    }
   ],
   "source": [
    "import math\n",
    "\n",
    "# Calculate the mean squared error\n",
    "model_mse = mean_squared_error(Y_test, Y_predict)\n",
    "\n",
    "# Calculate the mean absolute error\n",
    "model_mae = mean_absolute_error(Y_test, Y_predict)\n",
    "\n",
    "# Calulcate the root mean squared error\n",
    "model_rmse =  math.sqrt(model_mse)\n",
    "\n",
    "# Display the output\n",
    "print(\"MSE {:.3}\".format(model_mse))\n",
    "print(\"MAE {:.3}\".format(model_mae))\n",
    "print(\"RMSE {:.3}\".format(model_rmse))"
   ]
  },
  {
   "cell_type": "code",
   "execution_count": 63,
   "id": "121ccae3",
   "metadata": {},
   "outputs": [],
   "source": [
    "# 2 variables model (2BDA & 3BDA)"
   ]
  },
  {
   "cell_type": "code",
   "execution_count": 64,
   "id": "84dfce9a",
   "metadata": {},
   "outputs": [
    {
     "data": {
      "text/html": [
       "<div>\n",
       "<style scoped>\n",
       "    .dataframe tbody tr th:only-of-type {\n",
       "        vertical-align: middle;\n",
       "    }\n",
       "\n",
       "    .dataframe tbody tr th {\n",
       "        vertical-align: top;\n",
       "    }\n",
       "\n",
       "    .dataframe thead th {\n",
       "        text-align: right;\n",
       "    }\n",
       "</style>\n",
       "<table border=\"1\" class=\"dataframe\">\n",
       "  <thead>\n",
       "    <tr style=\"text-align: right;\">\n",
       "      <th></th>\n",
       "      <th>2BDA</th>\n",
       "      <th>3BDA</th>\n",
       "      <th>Chl-a(ug/l)</th>\n",
       "    </tr>\n",
       "  </thead>\n",
       "  <tbody>\n",
       "    <tr>\n",
       "      <th>count</th>\n",
       "      <td>313.000000</td>\n",
       "      <td>313.000000</td>\n",
       "      <td>313.000000</td>\n",
       "    </tr>\n",
       "    <tr>\n",
       "      <th>mean</th>\n",
       "      <td>1.053717</td>\n",
       "      <td>0.071768</td>\n",
       "      <td>26.609406</td>\n",
       "    </tr>\n",
       "    <tr>\n",
       "      <th>std</th>\n",
       "      <td>0.166798</td>\n",
       "      <td>0.230351</td>\n",
       "      <td>25.498756</td>\n",
       "    </tr>\n",
       "    <tr>\n",
       "      <th>min</th>\n",
       "      <td>0.843826</td>\n",
       "      <td>-0.141562</td>\n",
       "      <td>0.100000</td>\n",
       "    </tr>\n",
       "    <tr>\n",
       "      <th>25%</th>\n",
       "      <td>0.950351</td>\n",
       "      <td>-0.053652</td>\n",
       "      <td>10.200000</td>\n",
       "    </tr>\n",
       "    <tr>\n",
       "      <th>50%</th>\n",
       "      <td>1.004335</td>\n",
       "      <td>0.005915</td>\n",
       "      <td>17.500000</td>\n",
       "    </tr>\n",
       "    <tr>\n",
       "      <th>75%</th>\n",
       "      <td>1.095331</td>\n",
       "      <td>0.116589</td>\n",
       "      <td>34.000000</td>\n",
       "    </tr>\n",
       "    <tr>\n",
       "      <th>max</th>\n",
       "      <td>2.165359</td>\n",
       "      <td>1.995223</td>\n",
       "      <td>166.300000</td>\n",
       "    </tr>\n",
       "    <tr>\n",
       "      <th>+3_std</th>\n",
       "      <td>1.554112</td>\n",
       "      <td>0.762821</td>\n",
       "      <td>103.105672</td>\n",
       "    </tr>\n",
       "    <tr>\n",
       "      <th>-3_std</th>\n",
       "      <td>0.553322</td>\n",
       "      <td>-0.619286</td>\n",
       "      <td>-49.886861</td>\n",
       "    </tr>\n",
       "  </tbody>\n",
       "</table>\n",
       "</div>"
      ],
      "text/plain": [
       "              2BDA        3BDA  Chl-a(ug/l)\n",
       "count   313.000000  313.000000   313.000000\n",
       "mean      1.053717    0.071768    26.609406\n",
       "std       0.166798    0.230351    25.498756\n",
       "min       0.843826   -0.141562     0.100000\n",
       "25%       0.950351   -0.053652    10.200000\n",
       "50%       1.004335    0.005915    17.500000\n",
       "75%       1.095331    0.116589    34.000000\n",
       "max       2.165359    1.995223   166.300000\n",
       "+3_std    1.554112    0.762821   103.105672\n",
       "-3_std    0.553322   -0.619286   -49.886861"
      ]
     },
     "execution_count": 64,
     "metadata": {},
     "output_type": "execute_result"
    }
   ],
   "source": [
    "list1 = ['2BDA', '3BDA', 'Chl-a(ug/l)']\n",
    "\n",
    "# get the summary for Mesoeutrophic Lakes\n",
    "desc_Mesoeutrophic = Mesoeutrophic_data [list1].describe()\n",
    "\n",
    "# add the standard deviation metric\n",
    "desc_Mesoeutrophic.loc['+3_std'] = desc_Mesoeutrophic.loc['mean'] + (desc_Mesoeutrophic.loc['std'] * 3)\n",
    "desc_Mesoeutrophic.loc['-3_std'] = desc_Mesoeutrophic.loc['mean'] - (desc_Mesoeutrophic.loc['std'] * 3)\n",
    "\n",
    "# display it\n",
    "desc_Mesoeutrophic"
   ]
  },
  {
   "cell_type": "code",
   "execution_count": 65,
   "id": "5490e80e",
   "metadata": {},
   "outputs": [
    {
     "data": {
      "text/html": [
       "<div>\n",
       "<style scoped>\n",
       "    .dataframe tbody tr th:only-of-type {\n",
       "        vertical-align: middle;\n",
       "    }\n",
       "\n",
       "    .dataframe tbody tr th {\n",
       "        vertical-align: top;\n",
       "    }\n",
       "\n",
       "    .dataframe thead th {\n",
       "        text-align: right;\n",
       "    }\n",
       "</style>\n",
       "<table border=\"1\" class=\"dataframe\">\n",
       "  <thead>\n",
       "    <tr style=\"text-align: right;\">\n",
       "      <th></th>\n",
       "      <th>2BDA</th>\n",
       "      <th>3BDA</th>\n",
       "      <th>Chl-a(ug/l)</th>\n",
       "    </tr>\n",
       "  </thead>\n",
       "  <tbody>\n",
       "    <tr>\n",
       "      <th>2BDA</th>\n",
       "      <td>1.000000</td>\n",
       "      <td>0.913397</td>\n",
       "      <td>0.522209</td>\n",
       "    </tr>\n",
       "    <tr>\n",
       "      <th>3BDA</th>\n",
       "      <td>0.913397</td>\n",
       "      <td>1.000000</td>\n",
       "      <td>0.354314</td>\n",
       "    </tr>\n",
       "    <tr>\n",
       "      <th>Chl-a(ug/l)</th>\n",
       "      <td>0.522209</td>\n",
       "      <td>0.354314</td>\n",
       "      <td>1.000000</td>\n",
       "    </tr>\n",
       "  </tbody>\n",
       "</table>\n",
       "</div>"
      ],
      "text/plain": [
       "                 2BDA      3BDA  Chl-a(ug/l)\n",
       "2BDA         1.000000  0.913397     0.522209\n",
       "3BDA         0.913397  1.000000     0.354314\n",
       "Chl-a(ug/l)  0.522209  0.354314     1.000000"
      ]
     },
     "metadata": {},
     "output_type": "display_data"
    }
   ],
   "source": [
    "# Pearson Coefficient \n",
    "corr = Mesoeutrophic_data[list1].corr(method='pearson')\n",
    "\n",
    "# display the correlation matrix\n",
    "display(corr)"
   ]
  },
  {
   "cell_type": "code",
   "execution_count": 66,
   "id": "1e0e0365",
   "metadata": {},
   "outputs": [
    {
     "data": {
      "text/plain": [
       "<seaborn.axisgrid.PairGrid at 0x290ae78f0d0>"
      ]
     },
     "execution_count": 66,
     "metadata": {},
     "output_type": "execute_result"
    },
    {
     "data": {
      "image/png": "[encoded data removed]",
      "text/plain": [
       "<Figure size 540x540 with 12 Axes>"
      ]
     },
     "metadata": {
      "needs_background": "light"
     },
     "output_type": "display_data"
    }
   ],
   "source": [
    "# Scatter plot for each variable in our dataset against another variable\n",
    "sns.pairplot(Mesoeutrophic_data[list1])"
   ]
  },
  {
   "cell_type": "code",
   "execution_count": 67,
   "id": "76764cad",
   "metadata": {},
   "outputs": [],
   "source": [
    "# Getting column names\n",
    "X_columns1 = [\"2BDA\", \"3BDA\"]\n",
    "Y = Mesoeutrophic_data[\"Chl-a(ug/l)\"]"
   ]
  },
  {
   "cell_type": "code",
   "execution_count": 68,
   "id": "c076a25d",
   "metadata": {},
   "outputs": [
    {
     "data": {
      "text/html": [
       "<div>\n",
       "<style scoped>\n",
       "    .dataframe tbody tr th:only-of-type {\n",
       "        vertical-align: middle;\n",
       "    }\n",
       "\n",
       "    .dataframe tbody tr th {\n",
       "        vertical-align: top;\n",
       "    }\n",
       "\n",
       "    .dataframe thead th {\n",
       "        text-align: right;\n",
       "    }\n",
       "</style>\n",
       "<table border=\"1\" class=\"dataframe\">\n",
       "  <thead>\n",
       "    <tr style=\"text-align: right;\">\n",
       "      <th></th>\n",
       "      <th>VIF Factor</th>\n",
       "      <th>features</th>\n",
       "    </tr>\n",
       "  </thead>\n",
       "  <tbody>\n",
       "    <tr>\n",
       "      <th>0</th>\n",
       "      <td>1.0</td>\n",
       "      <td>2BDA</td>\n",
       "    </tr>\n",
       "    <tr>\n",
       "      <th>1</th>\n",
       "      <td>1.0</td>\n",
       "      <td>3BDA</td>\n",
       "    </tr>\n",
       "  </tbody>\n",
       "</table>\n",
       "</div>"
      ],
      "text/plain": [
       "   VIF Factor features\n",
       "0         1.0     2BDA\n",
       "1         1.0     3BDA"
      ]
     },
     "execution_count": 68,
     "metadata": {},
     "output_type": "execute_result"
    }
   ],
   "source": [
    "#Calculate VIFs on our dataset\n",
    "vif = pd.DataFrame()\n",
    "vif[\"VIF Factor\"] = [variance_inflation_factor(Mesoeutrophic_data[X_columns1[0:2]].values, i) for i in range(Mesoeutrophic_data[X_columns1[0:2]].shape[1])]\n",
    "vif[\"features\"] = Mesoeutrophic_data[X_columns1[0:2]].columns\n",
    "\n",
    "# display VIF\n",
    "vif.round()"
   ]
  },
  {
   "cell_type": "code",
   "execution_count": 69,
   "id": "7815cd62",
   "metadata": {},
   "outputs": [
    {
     "name": "stdout",
     "output_type": "stream",
     "text": [
      "                            OLS Regression Results                            \n",
      "==============================================================================\n",
      "Dep. Variable:            Chl-a(ug/l)   R-squared:                       0.342\n",
      "Model:                            OLS   Adj. R-squared:                  0.336\n",
      "Method:                 Least Squares   F-statistic:                     56.19\n",
      "Date:                Mon, 07 Mar 2022   Prob (F-statistic):           2.26e-20\n",
      "Time:                        14:26:01   Log-Likelihood:                -968.17\n",
      "No. Observations:                 219   AIC:                             1942.\n",
      "Df Residuals:                     216   BIC:                             1953.\n",
      "Df Model:                           2                                         \n",
      "Covariance Type:            nonrobust                                         \n",
      "==============================================================================\n",
      "                 coef    std err          t      P>|t|      [0.025      0.975]\n",
      "------------------------------------------------------------------------------\n",
      "const       -138.9468     21.222     -6.547      0.000    -180.776     -97.117\n",
      "2BDA         162.1910     21.138      7.673      0.000     120.527     203.855\n",
      "3BDA         -72.6987     16.825     -4.321      0.000    -105.861     -39.537\n",
      "==============================================================================\n",
      "Omnibus:                      100.046   Durbin-Watson:                   2.228\n",
      "Prob(Omnibus):                  0.000   Jarque-Bera (JB):              460.291\n",
      "Skew:                           1.794   Prob(JB):                    1.12e-100\n",
      "Kurtosis:                       9.129   Cond. No.                         36.0\n",
      "==============================================================================\n",
      "\n",
      "Notes:\n",
      "[1] Standard Errors assume that the covariance matrix of the errors is correctly specified.\n"
     ]
    }
   ],
   "source": [
    "# Extract independent variables (X) & dependent variable (Y)\n",
    "X = Mesoeutrophic_data[X_columns1]\n",
    "X = add_constant(X)\n",
    "Y = Mesoeutrophic_data['Chl-a(ug/l)']\n",
    "\n",
    "# Split X and Y into train and test \n",
    "X_train, X_test, Y_train, Y_test = train_test_split(X, Y, test_size=0.30, random_state=1)\n",
    "\n",
    "# Create a Linear Regression model object\n",
    "regression_model = OLS(Y_train,X_train)\n",
    "result = OLS(Y_train,X_train).fit()\n",
    "print(result.summary())"
   ]
  },
  {
   "cell_type": "code",
   "execution_count": 70,
   "id": "514f8049",
   "metadata": {},
   "outputs": [],
   "source": [
    "# 2 variables model (2BDA & NDCI)"
   ]
  },
  {
   "cell_type": "code",
   "execution_count": 71,
   "id": "76e30dd3",
   "metadata": {},
   "outputs": [
    {
     "data": {
      "text/html": [
       "<div>\n",
       "<style scoped>\n",
       "    .dataframe tbody tr th:only-of-type {\n",
       "        vertical-align: middle;\n",
       "    }\n",
       "\n",
       "    .dataframe tbody tr th {\n",
       "        vertical-align: top;\n",
       "    }\n",
       "\n",
       "    .dataframe thead th {\n",
       "        text-align: right;\n",
       "    }\n",
       "</style>\n",
       "<table border=\"1\" class=\"dataframe\">\n",
       "  <thead>\n",
       "    <tr style=\"text-align: right;\">\n",
       "      <th></th>\n",
       "      <th>2BDA</th>\n",
       "      <th>NDCI</th>\n",
       "      <th>Chl-a(ug/l)</th>\n",
       "    </tr>\n",
       "  </thead>\n",
       "  <tbody>\n",
       "    <tr>\n",
       "      <th>count</th>\n",
       "      <td>313.000000</td>\n",
       "      <td>313.000000</td>\n",
       "      <td>313.000000</td>\n",
       "    </tr>\n",
       "    <tr>\n",
       "      <th>mean</th>\n",
       "      <td>1.053717</td>\n",
       "      <td>0.020797</td>\n",
       "      <td>26.609406</td>\n",
       "    </tr>\n",
       "    <tr>\n",
       "      <th>std</th>\n",
       "      <td>0.166798</td>\n",
       "      <td>0.066948</td>\n",
       "      <td>25.498756</td>\n",
       "    </tr>\n",
       "    <tr>\n",
       "      <th>min</th>\n",
       "      <td>0.843826</td>\n",
       "      <td>-0.084701</td>\n",
       "      <td>0.100000</td>\n",
       "    </tr>\n",
       "    <tr>\n",
       "      <th>25%</th>\n",
       "      <td>0.950351</td>\n",
       "      <td>-0.025456</td>\n",
       "      <td>10.200000</td>\n",
       "    </tr>\n",
       "    <tr>\n",
       "      <th>50%</th>\n",
       "      <td>1.004335</td>\n",
       "      <td>0.002163</td>\n",
       "      <td>17.500000</td>\n",
       "    </tr>\n",
       "    <tr>\n",
       "      <th>75%</th>\n",
       "      <td>1.095331</td>\n",
       "      <td>0.045497</td>\n",
       "      <td>34.000000</td>\n",
       "    </tr>\n",
       "    <tr>\n",
       "      <th>max</th>\n",
       "      <td>2.165359</td>\n",
       "      <td>0.368160</td>\n",
       "      <td>166.300000</td>\n",
       "    </tr>\n",
       "    <tr>\n",
       "      <th>+3_std</th>\n",
       "      <td>1.554112</td>\n",
       "      <td>0.221642</td>\n",
       "      <td>103.105672</td>\n",
       "    </tr>\n",
       "    <tr>\n",
       "      <th>-3_std</th>\n",
       "      <td>0.553322</td>\n",
       "      <td>-0.180048</td>\n",
       "      <td>-49.886861</td>\n",
       "    </tr>\n",
       "  </tbody>\n",
       "</table>\n",
       "</div>"
      ],
      "text/plain": [
       "              2BDA        NDCI  Chl-a(ug/l)\n",
       "count   313.000000  313.000000   313.000000\n",
       "mean      1.053717    0.020797    26.609406\n",
       "std       0.166798    0.066948    25.498756\n",
       "min       0.843826   -0.084701     0.100000\n",
       "25%       0.950351   -0.025456    10.200000\n",
       "50%       1.004335    0.002163    17.500000\n",
       "75%       1.095331    0.045497    34.000000\n",
       "max       2.165359    0.368160   166.300000\n",
       "+3_std    1.554112    0.221642   103.105672\n",
       "-3_std    0.553322   -0.180048   -49.886861"
      ]
     },
     "execution_count": 71,
     "metadata": {},
     "output_type": "execute_result"
    }
   ],
   "source": [
    "list2 = ['2BDA', 'NDCI', 'Chl-a(ug/l)']\n",
    "\n",
    "# get the summary for Mesoeutrophic Lakes\n",
    "desc_Mesoeutrophic = Mesoeutrophic_data [list2].describe()\n",
    "\n",
    "# add the standard deviation metric\n",
    "desc_Mesoeutrophic.loc['+3_std'] = desc_Mesoeutrophic.loc['mean'] + (desc_Mesoeutrophic.loc['std'] * 3)\n",
    "desc_Mesoeutrophic.loc['-3_std'] = desc_Mesoeutrophic.loc['mean'] - (desc_Mesoeutrophic.loc['std'] * 3)\n",
    "\n",
    "# display it\n",
    "desc_Mesoeutrophic"
   ]
  },
  {
   "cell_type": "code",
   "execution_count": 72,
   "id": "1ae300a5",
   "metadata": {},
   "outputs": [
    {
     "data": {
      "text/html": [
       "<div>\n",
       "<style scoped>\n",
       "    .dataframe tbody tr th:only-of-type {\n",
       "        vertical-align: middle;\n",
       "    }\n",
       "\n",
       "    .dataframe tbody tr th {\n",
       "        vertical-align: top;\n",
       "    }\n",
       "\n",
       "    .dataframe thead th {\n",
       "        text-align: right;\n",
       "    }\n",
       "</style>\n",
       "<table border=\"1\" class=\"dataframe\">\n",
       "  <thead>\n",
       "    <tr style=\"text-align: right;\">\n",
       "      <th></th>\n",
       "      <th>2BDA</th>\n",
       "      <th>NDCI</th>\n",
       "      <th>Chl-a(ug/l)</th>\n",
       "    </tr>\n",
       "  </thead>\n",
       "  <tbody>\n",
       "    <tr>\n",
       "      <th>2BDA</th>\n",
       "      <td>1.000000</td>\n",
       "      <td>0.988645</td>\n",
       "      <td>0.522209</td>\n",
       "    </tr>\n",
       "    <tr>\n",
       "      <th>NDCI</th>\n",
       "      <td>0.988645</td>\n",
       "      <td>1.000000</td>\n",
       "      <td>0.547113</td>\n",
       "    </tr>\n",
       "    <tr>\n",
       "      <th>Chl-a(ug/l)</th>\n",
       "      <td>0.522209</td>\n",
       "      <td>0.547113</td>\n",
       "      <td>1.000000</td>\n",
       "    </tr>\n",
       "  </tbody>\n",
       "</table>\n",
       "</div>"
      ],
      "text/plain": [
       "                 2BDA      NDCI  Chl-a(ug/l)\n",
       "2BDA         1.000000  0.988645     0.522209\n",
       "NDCI         0.988645  1.000000     0.547113\n",
       "Chl-a(ug/l)  0.522209  0.547113     1.000000"
      ]
     },
     "metadata": {},
     "output_type": "display_data"
    }
   ],
   "source": [
    "# Pearson Coefficient \n",
    "corr = Mesoeutrophic_data[list2].corr(method='pearson')\n",
    "\n",
    "# display the correlation matrix\n",
    "display(corr)"
   ]
  },
  {
   "cell_type": "code",
   "execution_count": 73,
   "id": "8246e893",
   "metadata": {},
   "outputs": [],
   "source": [
    "# Getting column names\n",
    "X_columns2 = [\"2BDA\", \"NDCI\"]\n",
    "Y = Mesoeutrophic_data[\"Chl-a(ug/l)\"]"
   ]
  },
  {
   "cell_type": "code",
   "execution_count": 74,
   "id": "d0bca717",
   "metadata": {},
   "outputs": [
    {
     "name": "stdout",
     "output_type": "stream",
     "text": [
      "                            OLS Regression Results                            \n",
      "==============================================================================\n",
      "Dep. Variable:            Chl-a(ug/l)   R-squared:                       0.318\n",
      "Model:                            OLS   Adj. R-squared:                  0.312\n",
      "Method:                 Least Squares   F-statistic:                     50.39\n",
      "Date:                Mon, 07 Mar 2022   Prob (F-statistic):           1.09e-18\n",
      "Time:                        14:26:28   Log-Likelihood:                -972.11\n",
      "No. Observations:                 219   AIC:                             1950.\n",
      "Df Residuals:                     216   BIC:                             1960.\n",
      "Df Model:                           2                                         \n",
      "Covariance Type:            nonrobust                                         \n",
      "==============================================================================\n",
      "                 coef    std err          t      P>|t|      [0.025      0.975]\n",
      "------------------------------------------------------------------------------\n",
      "const        113.5397     53.006      2.142      0.033       9.064     218.015\n",
      "2BDA         -90.4962     52.819     -1.713      0.088    -194.603      13.610\n",
      "NDCI         428.9952    133.100      3.223      0.001     166.655     691.335\n",
      "==============================================================================\n",
      "Omnibus:                       92.150   Durbin-Watson:                   2.209\n",
      "Prob(Omnibus):                  0.000   Jarque-Bera (JB):              497.646\n",
      "Skew:                           1.557   Prob(JB):                    8.66e-109\n",
      "Kurtosis:                       9.697   Cond. No.                         159.\n",
      "==============================================================================\n",
      "\n",
      "Notes:\n",
      "[1] Standard Errors assume that the covariance matrix of the errors is correctly specified.\n"
     ]
    }
   ],
   "source": [
    "# Extract independent variables (X) & dependent variable (Y)\n",
    "X = Mesoeutrophic_data[X_columns2]\n",
    "X = add_constant(X)\n",
    "Y = Mesoeutrophic_data['Chl-a(ug/l)']\n",
    "\n",
    "# Split X and Y into train and test \n",
    "X_train, X_test, Y_train, Y_test = train_test_split(X, Y, test_size=0.30, random_state=1)\n",
    "\n",
    "# Create a Linear Regression model object\n",
    "regression_model = OLS(Y_train,X_train)\n",
    "result = OLS(Y_train,X_train).fit()\n",
    "print(result.summary())"
   ]
  },
  {
   "cell_type": "code",
   "execution_count": null,
   "id": "71ff36e8",
   "metadata": {},
   "outputs": [],
   "source": []
  }
 ],
 "metadata": {
  "kernelspec": {
   "display_name": "Python 3",
   "language": "python",
   "name": "python3"
  },
  "language_info": {
   "codemirror_mode": {
    "name": "ipython",
    "version": 3
   },
   "file_extension": ".py",
   "mimetype": "text/x-python",
   "name": "python",
   "nbconvert_exporter": "python",
   "pygments_lexer": "ipython3",
   "version": "3.8.8"
  }
 },
 "nbformat": 4,
 "nbformat_minor": 5
}
