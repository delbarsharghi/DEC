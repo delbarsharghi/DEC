{
 "cells": [
  {
   "cell_type": "code",
   "execution_count": 183,
   "id": "c2f02e92",
   "metadata": {},
   "outputs": [],
   "source": [
    "import pandas as pd\n",
    "import numpy as np\n",
    "import matplotlib.pyplot as plt\n",
    "import statsmodels.api as sm\n",
    "import seaborn as sns\n",
    "from statsmodels.stats.outliers_influence import variance_inflation_factor\n",
    "from sklearn.model_selection import cross_val_score\n",
    "import sklearn.metrics as metrics\n",
    "from numpy import mean\n",
    "from numpy import std\n",
    "from numpy import absolute\n",
    "from libpysal.weights.contiguity import Queen\n",
    "import libpysal\n",
    "from statsmodels.api import OLS\n",
    "sns.set_style('white')"
   ]
  },
  {
   "cell_type": "code",
   "execution_count": 184,
   "id": "ed385746",
   "metadata": {},
   "outputs": [
    {
     "data": {
      "text/plain": [
       "'C:\\\\Users\\\\SarShel\\\\DEC\\\\Regression'"
      ]
     },
     "execution_count": 184,
     "metadata": {},
     "output_type": "execute_result"
    }
   ],
   "source": [
    "import os\n",
    "os.getcwd()"
   ]
  },
  {
   "cell_type": "code",
   "execution_count": 185,
   "id": "ed603740",
   "metadata": {},
   "outputs": [
    {
     "data": {
      "text/plain": [
       "'C:\\\\Users\\\\SarShel\\\\DEC\\\\Regression'"
      ]
     },
     "execution_count": 185,
     "metadata": {},
     "output_type": "execute_result"
    }
   ],
   "source": [
    "os.chdir('C:\\\\Users\\\\SarShel\\\\DEC\\\\Regression')\n",
    "os.getcwd()"
   ]
  },
  {
   "cell_type": "code",
   "execution_count": 186,
   "id": "ab10eeb2",
   "metadata": {},
   "outputs": [
    {
     "name": "stdout",
     "output_type": "stream",
     "text": [
      "       Year  Month  Day      2BDA      3BDA      NDCI        B1       B10  \\\n",
      "0      2016      5    7  0.956879 -0.044137 -0.022070  0.117900  0.002955   \n",
      "1      2016      5    7  0.956959 -0.043948 -0.022029  0.117907  0.002955   \n",
      "2      2016      5    7  1.015101  0.016830  0.007469  0.147959  0.008728   \n",
      "3      2016      5    7  0.991688 -0.008969 -0.004225  0.142645  0.007528   \n",
      "4      2016      5    7  0.881265 -0.110070 -0.063161  0.116655  0.002038   \n",
      "...     ...    ...  ...       ...       ...       ...       ...       ...   \n",
      "35028  2020     10   30  0.854190 -0.129064 -0.078726  0.152807  0.001676   \n",
      "35029  2020     10   30  1.077379  0.065607  0.035775  0.126659  0.001469   \n",
      "35030  2020     10   30  0.946243 -0.050380 -0.027911  0.134852  0.007321   \n",
      "35031  2020     10   30  0.962221 -0.039201 -0.019493  0.132445  0.007393   \n",
      "35032  2020     10   30  0.960195 -0.038782 -0.020508  0.126638  0.006003   \n",
      "\n",
      "            B11       B12  ...        B3        B4        B5        B6  \\\n",
      "0      0.016390  0.011321  ...  0.066817  0.042403  0.040572  0.041431   \n",
      "1      0.016390  0.011321  ...  0.066817  0.042400  0.040572  0.041331   \n",
      "2      0.053441  0.041969  ...  0.098893  0.080366  0.081576  0.091038   \n",
      "3      0.047441  0.035914  ...  0.095421  0.073648  0.073031  0.078548   \n",
      "4      0.007586  0.005145  ...  0.066907  0.038455  0.033886  0.031386   \n",
      "...         ...       ...  ...       ...       ...       ...       ...   \n",
      "35028  0.008662  0.005803  ...  0.070890  0.044710  0.038179  0.033731   \n",
      "35029  0.014217  0.008186  ...  0.071028  0.040410  0.043538  0.034555   \n",
      "35030  0.018221  0.015945  ...  0.070283  0.047528  0.044917  0.042248   \n",
      "35031  0.022983  0.016369  ...  0.067686  0.047010  0.045217  0.046493   \n",
      "35032  0.016324  0.011272  ...  0.062962  0.040838  0.039190  0.037914   \n",
      "\n",
      "             B7        B8       B8A        B9          X          Y  \n",
      "0      0.040707  0.035441  0.036210  0.016803 -79.726196  42.101898  \n",
      "1      0.040714  0.035441  0.036172  0.016969 -79.726196  42.101898  \n",
      "2      0.094266  0.090610  0.094869  0.046917 -79.455423  42.219885  \n",
      "3      0.079997  0.077869  0.077197  0.034931 -79.430702  42.180951  \n",
      "4      0.030362  0.024534  0.025524  0.011448 -79.363881  42.123269  \n",
      "...         ...       ...       ...       ...        ...        ...  \n",
      "35028  0.030021  0.027724  0.024259  0.012969 -76.958078  43.248531  \n",
      "35029  0.034010  0.027786  0.029086  0.020831 -76.222702  43.235401  \n",
      "35030  0.041645  0.041476  0.038621  0.031514 -75.775200  44.316502  \n",
      "35031  0.044748  0.044814  0.042314  0.030562 -75.775002  44.279800  \n",
      "35032  0.036766  0.037372  0.033231  0.022614 -75.767502  44.292198  \n",
      "\n",
      "[35033 rows x 21 columns]\n"
     ]
    }
   ],
   "source": [
    "# Read S2 dataset \n",
    "Data1 = pd.read_csv('data_raw/Indices/S2Data.csv')\n",
    "\n",
    "# Remove none values\n",
    "S2Data = Data1.dropna()\n",
    "\n",
    "# Display the first few rows of our DataFrame\n",
    "S2Data.head()\n",
    "print(S2Data)"
   ]
  },
  {
   "cell_type": "code",
   "execution_count": 187,
   "id": "d80ab313",
   "metadata": {},
   "outputs": [
    {
     "name": "stdout",
     "output_type": "stream",
     "text": [
      "             Lake Name          Y          X       Date  Year  Month  Day  \\\n",
      "0     Little Long Pond  40.977600 -72.296204   6/4/2016  2016      6    4   \n",
      "1       Cossayuna Lake  43.200600 -73.423401   6/3/2016  2016      6    3   \n",
      "2           Hatch Lake  42.834598 -75.677803   6/5/2016  2016      6    5   \n",
      "3      Montgomery Lake  41.525299 -74.917297   6/4/2016  2016      6    4   \n",
      "4        Lake Devenoge  41.521000 -74.839401   6/4/2016  2016      6    4   \n",
      "...                ...        ...        ...        ...   ...    ...  ...   \n",
      "6070         Long Pond  40.975102 -72.290802  7/26/2020  2020      7   26   \n",
      "6071         Long Pond  40.975102 -72.290802   8/9/2020  2020      8    9   \n",
      "6072         Long Pond  40.975102 -72.290802  8/23/2020  2020      8   23   \n",
      "6073         Long Pond  40.975102 -72.290802   9/7/2020  2020      9    7   \n",
      "6074         Long Pond  40.975102 -72.290802  9/20/2020  2020      9   20   \n",
      "\n",
      "       Chl-a  \n",
      "0      1.200  \n",
      "1      0.600  \n",
      "2      2.900  \n",
      "3      2.900  \n",
      "4      1.300  \n",
      "...      ...  \n",
      "6070   8.168  \n",
      "6071   9.048  \n",
      "6072  13.088  \n",
      "6073   7.778  \n",
      "6074  11.076  \n",
      "\n",
      "[6037 rows x 8 columns]\n"
     ]
    }
   ],
   "source": [
    "# Read Field dataset \n",
    "Data2 = pd.read_csv('data_raw/Indices/FieldData.csv')\n",
    "\n",
    "# Remove none values\n",
    "FieldData = Data2.dropna()\n",
    "\n",
    "# Display the first few rows of our DataFrame\n",
    "#FieldData.head()\n",
    "print(FieldData)"
   ]
  },
  {
   "cell_type": "code",
   "execution_count": 188,
   "id": "e6de0fcb",
   "metadata": {},
   "outputs": [
    {
     "name": "stdout",
     "output_type": "stream",
     "text": [
      "      Year  Month  Day      2BDA      3BDA      NDCI        B1       B10  \\\n",
      "0     2016      6    7  0.951738 -0.048882 -0.024856  0.119966  0.000776   \n",
      "1     2016      6    7  0.951738 -0.048882 -0.024856  0.119966  0.000776   \n",
      "2     2016      6    7  0.954945 -0.070901 -0.023265  0.111821  0.001138   \n",
      "3     2016      6    7  0.954945 -0.070901 -0.023265  0.111821  0.001138   \n",
      "4     2016      6   10  0.975644 -0.026771 -0.012388  0.116193  0.001103   \n",
      "...    ...    ...  ...       ...       ...       ...       ...       ...   \n",
      "1482  2020      9   24  1.006182  0.007508  0.003046  0.136534  0.007655   \n",
      "1483  2020      9   27  0.985506 -0.017302 -0.007349  0.160810  0.001697   \n",
      "1484  2020      9   27  0.948135 -0.054520 -0.026673  0.270976  0.003162   \n",
      "1485  2020      9   30  0.906324 -0.089171 -0.049167  0.135859  0.001359   \n",
      "1486  2020      9   30  1.060907  0.070528  0.027154  0.190724  0.001834   \n",
      "\n",
      "           B11       B12  ...        B6        B7        B8       B8A  \\\n",
      "0     0.012669  0.008090  ...  0.038324  0.040445  0.033017  0.032786   \n",
      "1     0.012669  0.008090  ...  0.038324  0.040445  0.033017  0.032786   \n",
      "2     0.016321  0.007734  ...  0.042097  0.045834  0.039707  0.042538   \n",
      "3     0.016321  0.007734  ...  0.042097  0.045834  0.039707  0.042538   \n",
      "4     0.033817  0.025400  ...  0.054503  0.055210  0.050200  0.051345   \n",
      "...        ...       ...  ...       ...       ...       ...       ...   \n",
      "1482  0.020848  0.013324  ...  0.058293  0.062021  0.057755  0.060052   \n",
      "1483  0.012845  0.005197  ...  0.073683  0.073900  0.063172  0.064207   \n",
      "1484  0.039348  0.017483  ...  0.167121  0.164455  0.149934  0.143662   \n",
      "1485  0.013124  0.009559  ...  0.037286  0.037245  0.031593  0.031531   \n",
      "1486  0.167897  0.131503  ...  0.169790  0.176121  0.210217  0.179107   \n",
      "\n",
      "            B9          X          Y            Lake Name       Date   Chl-a  \n",
      "0     0.010493 -74.115898  41.442001     Beaver Dam Lake    6/7/2016  8.1000  \n",
      "1     0.010493 -74.115898  41.442001     Beaver Dam Lake    6/7/2016  8.1000  \n",
      "2     0.012207 -73.887703  41.373100          Indian Lake   6/7/2016  0.7000  \n",
      "3     0.012207 -73.887703  41.373100          Indian Lake   6/7/2016  0.7000  \n",
      "4     0.022500 -75.774803  42.517300     Geneganslet Lake  6/10/2016  4.0000  \n",
      "...        ...        ...        ...                  ...        ...     ...  \n",
      "1482  0.020524 -73.755524  43.830651         Schroon Lake  9/24/2020  0.2898  \n",
      "1483  0.019121 -76.515000  42.470000          Cayuga Lake  9/27/2020  2.8560  \n",
      "1484  0.043379 -75.522201  42.850201         Lake Moraine  9/27/2020  7.3620  \n",
      "1485  0.012603 -77.566902  42.492599            Loon Lake  9/30/2020  3.4640  \n",
      "1486  0.065355 -75.888603  42.810699  De Ruyter Reservoir  9/30/2020  3.2140  \n",
      "\n",
      "[1487 rows x 24 columns]\n"
     ]
    }
   ],
   "source": [
    "# Using merge function by setting how='inner'\n",
    "MergedData = pd.merge(S2Data, FieldData, on=['Y', 'X', 'Year', 'Month', 'Day'], how='inner')\n",
    "MergedData.to_csv('data_output/2bda&ndciModel/MergedData.csv')\n",
    "  \n",
    "# displaying result\n",
    "print(MergedData)"
   ]
  },
  {
   "cell_type": "code",
   "execution_count": 189,
   "id": "7a84bf9a",
   "metadata": {},
   "outputs": [
    {
     "data": {
      "text/html": [
       "<div>\n",
       "<style scoped>\n",
       "    .dataframe tbody tr th:only-of-type {\n",
       "        vertical-align: middle;\n",
       "    }\n",
       "\n",
       "    .dataframe tbody tr th {\n",
       "        vertical-align: top;\n",
       "    }\n",
       "\n",
       "    .dataframe thead th {\n",
       "        text-align: right;\n",
       "    }\n",
       "</style>\n",
       "<table border=\"1\" class=\"dataframe\">\n",
       "  <thead>\n",
       "    <tr style=\"text-align: right;\">\n",
       "      <th></th>\n",
       "      <th>2BDA</th>\n",
       "      <th>NDCI</th>\n",
       "      <th>Chl-a</th>\n",
       "    </tr>\n",
       "  </thead>\n",
       "  <tbody>\n",
       "    <tr>\n",
       "      <th>count</th>\n",
       "      <td>1487.000000</td>\n",
       "      <td>1487.000000</td>\n",
       "      <td>1487.000000</td>\n",
       "    </tr>\n",
       "    <tr>\n",
       "      <th>mean</th>\n",
       "      <td>0.995474</td>\n",
       "      <td>-0.005038</td>\n",
       "      <td>10.526351</td>\n",
       "    </tr>\n",
       "    <tr>\n",
       "      <th>std</th>\n",
       "      <td>0.132150</td>\n",
       "      <td>0.054806</td>\n",
       "      <td>18.258538</td>\n",
       "    </tr>\n",
       "    <tr>\n",
       "      <th>min</th>\n",
       "      <td>0.406412</td>\n",
       "      <td>-0.113502</td>\n",
       "      <td>0.050000</td>\n",
       "    </tr>\n",
       "    <tr>\n",
       "      <th>25%</th>\n",
       "      <td>0.916918</td>\n",
       "      <td>-0.042380</td>\n",
       "      <td>1.900000</td>\n",
       "    </tr>\n",
       "    <tr>\n",
       "      <th>50%</th>\n",
       "      <td>0.966684</td>\n",
       "      <td>-0.016578</td>\n",
       "      <td>3.900000</td>\n",
       "    </tr>\n",
       "    <tr>\n",
       "      <th>75%</th>\n",
       "      <td>1.048701</td>\n",
       "      <td>0.023032</td>\n",
       "      <td>9.992000</td>\n",
       "    </tr>\n",
       "    <tr>\n",
       "      <th>max</th>\n",
       "      <td>2.165665</td>\n",
       "      <td>0.368135</td>\n",
       "      <td>166.300000</td>\n",
       "    </tr>\n",
       "  </tbody>\n",
       "</table>\n",
       "</div>"
      ],
      "text/plain": [
       "              2BDA         NDCI        Chl-a\n",
       "count  1487.000000  1487.000000  1487.000000\n",
       "mean      0.995474    -0.005038    10.526351\n",
       "std       0.132150     0.054806    18.258538\n",
       "min       0.406412    -0.113502     0.050000\n",
       "25%       0.916918    -0.042380     1.900000\n",
       "50%       0.966684    -0.016578     3.900000\n",
       "75%       1.048701     0.023032     9.992000\n",
       "max       2.165665     0.368135   166.300000"
      ]
     },
     "execution_count": 189,
     "metadata": {},
     "output_type": "execute_result"
    }
   ],
   "source": [
    "# Descriptive statistics of all variables\n",
    "list = ['2BDA', 'NDCI', 'Chl-a']\n",
    "MergedData [list].describe()"
   ]
  },
  {
   "cell_type": "code",
   "execution_count": 190,
   "id": "c9ae0769",
   "metadata": {},
   "outputs": [
    {
     "name": "stderr",
     "output_type": "stream",
     "text": [
      "C:\\Users\\SarShel\\anaconda3\\envs\\geostats_env\\lib\\site-packages\\pandas\\plotting\\_matplotlib\\tools.py:331: MatplotlibDeprecationWarning: \n",
      "The is_first_col function was deprecated in Matplotlib 3.4 and will be removed two minor releases later. Use ax.get_subplotspec().is_first_col() instead.\n",
      "  if ax.is_first_col():\n"
     ]
    },
    {
     "data": {
      "image/png": "[encoded data removed]",
      "text/plain": [
       "<Figure size 892.8x288 with 3 Axes>"
      ]
     },
     "metadata": {},
     "output_type": "display_data"
    },
    {
     "name": "stdout",
     "output_type": "stream",
     "text": [
      "0.4000614611071748 0.28917515561718177 0.44219761482571174\n"
     ]
    }
   ],
   "source": [
    "# Scatterplot for Chl-a vs all variables\n",
    "\n",
    "f,ax = plt.subplots(1,3, figsize=(4*3.1,4))\n",
    "MergedData[['2BDA','Chl-a']].plot.scatter('2BDA','Chl-a', ax=ax[0])\n",
    "ax[0].set_xlabel('Two Band Ratio')\n",
    "ax[0].set_ylabel('Chl-a Concentration')\n",
    "r1 = np.corrcoef(MergedData['2BDA'].values, MergedData['Chl-a'].values)[0,1]\n",
    "\n",
    "MergedData[['3BDA','Chl-a']].plot.scatter('3BDA','Chl-a', ax=ax[1])\n",
    "ax[1].set_xlabel('Three Band Ratio')\n",
    "ax[1].set_ylabel('Chl-a Concentration')\n",
    "r2 = np.corrcoef(MergedData['3BDA'].values, MergedData['Chl-a'].values)[0,1]\n",
    "\n",
    "MergedData[['NDCI','Chl-a']].plot.scatter('NDCI','Chl-a', ax=ax[2])\n",
    "ax[2].set_xlabel('NDCI')\n",
    "ax[2].set_ylabel('Chl-a Concentration')\n",
    "r3 = np.corrcoef(MergedData['NDCI'].values, MergedData['Chl-a'].values)[0,1]\n",
    "\n",
    "f.tight_layout()\n",
    "plt.show()\n",
    "print(r1,r2,r3)"
   ]
  },
  {
   "cell_type": "code",
   "execution_count": 191,
   "id": "24e53f3f",
   "metadata": {},
   "outputs": [
    {
     "name": "stdout",
     "output_type": "stream",
     "text": [
      "      Year  Month  Day      2BDA      3BDA      NDCI        B1       B10  \\\n",
      "0     2016      6    7  0.951738 -0.048882 -0.024856  0.119966  0.000776   \n",
      "1     2016      6    7  0.951738 -0.048882 -0.024856  0.119966  0.000776   \n",
      "2     2016      6    7  0.954945 -0.070901 -0.023265  0.111821  0.001138   \n",
      "3     2016      6    7  0.954945 -0.070901 -0.023265  0.111821  0.001138   \n",
      "4     2016      6   10  0.975644 -0.026771 -0.012388  0.116193  0.001103   \n",
      "...    ...    ...  ...       ...       ...       ...       ...       ...   \n",
      "1482  2020      9   24  1.006182  0.007508  0.003046  0.136534  0.007655   \n",
      "1483  2020      9   27  0.985506 -0.017302 -0.007349  0.160810  0.001697   \n",
      "1484  2020      9   27  0.948135 -0.054520 -0.026673  0.270976  0.003162   \n",
      "1485  2020      9   30  0.906324 -0.089171 -0.049167  0.135859  0.001359   \n",
      "1486  2020      9   30  1.060907  0.070528  0.027154  0.190724  0.001834   \n",
      "\n",
      "           B11       B12  ...        B9          X          Y  \\\n",
      "0     0.012669  0.008090  ...  0.010493 -74.115898  41.442001   \n",
      "1     0.012669  0.008090  ...  0.010493 -74.115898  41.442001   \n",
      "2     0.016321  0.007734  ...  0.012207 -73.887703  41.373100   \n",
      "3     0.016321  0.007734  ...  0.012207 -73.887703  41.373100   \n",
      "4     0.033817  0.025400  ...  0.022500 -75.774803  42.517300   \n",
      "...        ...       ...  ...       ...        ...        ...   \n",
      "1482  0.020848  0.013324  ...  0.020524 -73.755524  43.830651   \n",
      "1483  0.012845  0.005197  ...  0.019121 -76.515000  42.470000   \n",
      "1484  0.039348  0.017483  ...  0.043379 -75.522201  42.850201   \n",
      "1485  0.013124  0.009559  ...  0.012603 -77.566902  42.492599   \n",
      "1486  0.167897  0.131503  ...  0.065355 -75.888603  42.810699   \n",
      "\n",
      "                Lake Name       Date   Chl-a   LnChl-a    Ln2BDA    Ln3BDA  \\\n",
      "0        Beaver Dam Lake    6/7/2016  8.1000  2.091864 -0.049466       NaN   \n",
      "1        Beaver Dam Lake    6/7/2016  8.1000  2.091864 -0.049466       NaN   \n",
      "2             Indian Lake   6/7/2016  0.7000 -0.356675 -0.046102       NaN   \n",
      "3             Indian Lake   6/7/2016  0.7000 -0.356675 -0.046102       NaN   \n",
      "4        Geneganslet Lake  6/10/2016  4.0000  1.386294 -0.024658       NaN   \n",
      "...                   ...        ...     ...       ...       ...       ...   \n",
      "1482         Schroon Lake  9/24/2020  0.2898 -1.238564  0.006163 -4.891732   \n",
      "1483          Cayuga Lake  9/27/2020  2.8560  1.049422 -0.014600       NaN   \n",
      "1484         Lake Moraine  9/27/2020  7.3620  1.996332 -0.053258       NaN   \n",
      "1485            Loon Lake  9/30/2020  3.4640  1.242424 -0.098358       NaN   \n",
      "1486  De Ruyter Reservoir  9/30/2020  3.2140  1.167516  0.059125 -2.651751   \n",
      "\n",
      "        LnNDCI  \n",
      "0          NaN  \n",
      "1          NaN  \n",
      "2          NaN  \n",
      "3          NaN  \n",
      "4          NaN  \n",
      "...        ...  \n",
      "1482 -5.794059  \n",
      "1483       NaN  \n",
      "1484       NaN  \n",
      "1485       NaN  \n",
      "1486 -3.606233  \n",
      "\n",
      "[1487 rows x 28 columns]\n"
     ]
    },
    {
     "name": "stderr",
     "output_type": "stream",
     "text": [
      "C:\\Users\\SarShel\\anaconda3\\envs\\geostats_env\\lib\\site-packages\\pandas\\core\\series.py:679: RuntimeWarning: invalid value encountered in log\n",
      "  result = getattr(ufunc, method)(*inputs, **kwargs)\n"
     ]
    }
   ],
   "source": [
    "# Return the natural logarithm of Chl-a (Y), 2BDA, 3BDA, NDCI\n",
    "MergedData['LnChl-a']=np.log(MergedData['Chl-a'])\n",
    "MergedData['Ln2BDA']=np.log(MergedData['2BDA'])\n",
    "MergedData['Ln3BDA']=np.log(MergedData['3BDA'])\n",
    "MergedData['LnNDCI']=np.log(MergedData['NDCI'])\n",
    "print(MergedData)"
   ]
  },
  {
   "cell_type": "code",
   "execution_count": 192,
   "id": "3612c96d",
   "metadata": {},
   "outputs": [
    {
     "name": "stderr",
     "output_type": "stream",
     "text": [
      "C:\\Users\\SarShel\\anaconda3\\envs\\geostats_env\\lib\\site-packages\\pandas\\plotting\\_matplotlib\\tools.py:331: MatplotlibDeprecationWarning: \n",
      "The is_first_col function was deprecated in Matplotlib 3.4 and will be removed two minor releases later. Use ax.get_subplotspec().is_first_col() instead.\n",
      "  if ax.is_first_col():\n"
     ]
    },
    {
     "data": {
      "image/png": "[encoded data removed]",
      "text/plain": [
       "<Figure size 892.8x288 with 3 Axes>"
      ]
     },
     "metadata": {},
     "output_type": "display_data"
    },
    {
     "name": "stdout",
     "output_type": "stream",
     "text": [
      "0.26047067970293347 0.18344928162498023 0.2959374649473165\n"
     ]
    }
   ],
   "source": [
    "# Scatterplot for Chl-a vs all variables\n",
    "\n",
    "f,ax = plt.subplots(1,3, figsize=(4*3.1,4))\n",
    "MergedData[['2BDA','LnChl-a']].plot.scatter('2BDA','LnChl-a', ax=ax[0])\n",
    "ax[0].set_xlabel('Two Band Ratio')\n",
    "ax[0].set_ylabel('Natural logarithm of Chl-a Concentration')\n",
    "r1 = np.corrcoef(MergedData['2BDA'].values, MergedData['LnChl-a'].values)[0,1]\n",
    "\n",
    "MergedData[['3BDA','LnChl-a']].plot.scatter('3BDA','LnChl-a', ax=ax[1])\n",
    "ax[1].set_xlabel('Three Band Ratio')\n",
    "ax[1].set_ylabel('Natural logarithm of Chl-a Concentration')\n",
    "r2 = np.corrcoef(MergedData['3BDA'].values, MergedData['LnChl-a'].values)[0,1]\n",
    "\n",
    "MergedData[['NDCI','LnChl-a']].plot.scatter('NDCI','LnChl-a', ax=ax[2])\n",
    "ax[2].set_xlabel('NDCI')\n",
    "ax[2].set_ylabel('Natural logarithm of Chl-a Concentration')\n",
    "r3 = np.corrcoef(MergedData['NDCI'].values, MergedData['LnChl-a'].values)[0,1]\n",
    "\n",
    "f.tight_layout()\n",
    "plt.show()\n",
    "print(r1,r2,r3)"
   ]
  },
  {
   "cell_type": "code",
   "execution_count": 193,
   "id": "b7cf066e",
   "metadata": {},
   "outputs": [
    {
     "data": {
      "image/png": "[encoded data removed]",
      "text/plain": [
       "<Figure size 892.8x288 with 3 Axes>"
      ]
     },
     "metadata": {},
     "output_type": "display_data"
    },
    {
     "name": "stdout",
     "output_type": "stream",
     "text": [
      "0.24616481209420393 nan nan\n"
     ]
    }
   ],
   "source": [
    "f,ax = plt.subplots(1,3, figsize=(4*3.1,4))\n",
    "MergedData[['Ln2BDA','LnChl-a']].plot.scatter('Ln2BDA','LnChl-a', ax=ax[0])\n",
    "ax[0].set_xlabel('Natural logarithm of Two Band Ratio')\n",
    "ax[0].set_ylabel('Natural logarithm of Chl-a Concentration')\n",
    "r1 = np.corrcoef(MergedData['Ln2BDA'].values, MergedData['LnChl-a'].values)[0,1]\n",
    "\n",
    "MergedData[['Ln3BDA','LnChl-a']].plot.scatter('Ln3BDA','LnChl-a', ax=ax[1])\n",
    "ax[1].set_xlabel('Natural logarithm of Three Band Ratio')\n",
    "ax[1].set_ylabel('Natural logarithm of Chl-a Concentration')\n",
    "r2 = np.corrcoef(MergedData['Ln3BDA'].values, MergedData['LnChl-a'].values)[0,1]\n",
    "\n",
    "MergedData[['LnNDCI','LnChl-a']].plot.scatter('LnNDCI','LnChl-a', ax=ax[2])\n",
    "ax[2].set_xlabel('Natural logarithm of NDCI')\n",
    "ax[2].set_ylabel('Natural logarithm of Chl-a Concentration')\n",
    "r3 = np.corrcoef(MergedData['LnNDCI'].values, MergedData['LnChl-a'].values)[0,1]\n",
    "\n",
    "f.tight_layout()\n",
    "plt.show()\n",
    "print(r1,r2,r3)"
   ]
  },
  {
   "cell_type": "code",
   "execution_count": 194,
   "id": "68b57b6b",
   "metadata": {},
   "outputs": [
    {
     "data": {
      "text/html": [
       "<div>\n",
       "<style scoped>\n",
       "    .dataframe tbody tr th:only-of-type {\n",
       "        vertical-align: middle;\n",
       "    }\n",
       "\n",
       "    .dataframe tbody tr th {\n",
       "        vertical-align: top;\n",
       "    }\n",
       "\n",
       "    .dataframe thead th {\n",
       "        text-align: right;\n",
       "    }\n",
       "</style>\n",
       "<table border=\"1\" class=\"dataframe\">\n",
       "  <thead>\n",
       "    <tr style=\"text-align: right;\">\n",
       "      <th></th>\n",
       "      <th>2BDA</th>\n",
       "      <th>NDCI</th>\n",
       "      <th>LnChl-a</th>\n",
       "    </tr>\n",
       "  </thead>\n",
       "  <tbody>\n",
       "    <tr>\n",
       "      <th>count</th>\n",
       "      <td>1487.000000</td>\n",
       "      <td>1487.000000</td>\n",
       "      <td>1487.000000</td>\n",
       "    </tr>\n",
       "    <tr>\n",
       "      <th>mean</th>\n",
       "      <td>0.995474</td>\n",
       "      <td>-0.005038</td>\n",
       "      <td>1.502210</td>\n",
       "    </tr>\n",
       "    <tr>\n",
       "      <th>std</th>\n",
       "      <td>0.132150</td>\n",
       "      <td>0.054806</td>\n",
       "      <td>1.279814</td>\n",
       "    </tr>\n",
       "    <tr>\n",
       "      <th>min</th>\n",
       "      <td>0.406412</td>\n",
       "      <td>-0.113502</td>\n",
       "      <td>-2.995732</td>\n",
       "    </tr>\n",
       "    <tr>\n",
       "      <th>25%</th>\n",
       "      <td>0.916918</td>\n",
       "      <td>-0.042380</td>\n",
       "      <td>0.641854</td>\n",
       "    </tr>\n",
       "    <tr>\n",
       "      <th>50%</th>\n",
       "      <td>0.966684</td>\n",
       "      <td>-0.016578</td>\n",
       "      <td>1.360977</td>\n",
       "    </tr>\n",
       "    <tr>\n",
       "      <th>75%</th>\n",
       "      <td>1.048701</td>\n",
       "      <td>0.023032</td>\n",
       "      <td>2.301784</td>\n",
       "    </tr>\n",
       "    <tr>\n",
       "      <th>max</th>\n",
       "      <td>2.165665</td>\n",
       "      <td>0.368135</td>\n",
       "      <td>5.113793</td>\n",
       "    </tr>\n",
       "  </tbody>\n",
       "</table>\n",
       "</div>"
      ],
      "text/plain": [
       "              2BDA         NDCI      LnChl-a\n",
       "count  1487.000000  1487.000000  1487.000000\n",
       "mean      0.995474    -0.005038     1.502210\n",
       "std       0.132150     0.054806     1.279814\n",
       "min       0.406412    -0.113502    -2.995732\n",
       "25%       0.916918    -0.042380     0.641854\n",
       "50%       0.966684    -0.016578     1.360977\n",
       "75%       1.048701     0.023032     2.301784\n",
       "max       2.165665     0.368135     5.113793"
      ]
     },
     "execution_count": 194,
     "metadata": {},
     "output_type": "execute_result"
    }
   ],
   "source": [
    "# Descriptive statistics of all variables (logTransformation Chl-a)\n",
    "list = ['2BDA', 'NDCI', 'LnChl-a']\n",
    "MergedData [list].describe()"
   ]
  },
  {
   "cell_type": "code",
   "execution_count": 195,
   "id": "161454a8",
   "metadata": {},
   "outputs": [
    {
     "data": {
      "text/html": [
       "<div>\n",
       "<style scoped>\n",
       "    .dataframe tbody tr th:only-of-type {\n",
       "        vertical-align: middle;\n",
       "    }\n",
       "\n",
       "    .dataframe tbody tr th {\n",
       "        vertical-align: top;\n",
       "    }\n",
       "\n",
       "    .dataframe thead th {\n",
       "        text-align: right;\n",
       "    }\n",
       "</style>\n",
       "<table border=\"1\" class=\"dataframe\">\n",
       "  <thead>\n",
       "    <tr style=\"text-align: right;\">\n",
       "      <th></th>\n",
       "      <th>2BDA</th>\n",
       "      <th>NDCI</th>\n",
       "      <th>LnChl-a</th>\n",
       "    </tr>\n",
       "  </thead>\n",
       "  <tbody>\n",
       "    <tr>\n",
       "      <th>2BDA</th>\n",
       "      <td>1.000000</td>\n",
       "      <td>0.947186</td>\n",
       "      <td>0.260471</td>\n",
       "    </tr>\n",
       "    <tr>\n",
       "      <th>NDCI</th>\n",
       "      <td>0.947186</td>\n",
       "      <td>1.000000</td>\n",
       "      <td>0.295937</td>\n",
       "    </tr>\n",
       "    <tr>\n",
       "      <th>LnChl-a</th>\n",
       "      <td>0.260471</td>\n",
       "      <td>0.295937</td>\n",
       "      <td>1.000000</td>\n",
       "    </tr>\n",
       "  </tbody>\n",
       "</table>\n",
       "</div>"
      ],
      "text/plain": [
       "             2BDA      NDCI   LnChl-a\n",
       "2BDA     1.000000  0.947186  0.260471\n",
       "NDCI     0.947186  1.000000  0.295937\n",
       "LnChl-a  0.260471  0.295937  1.000000"
      ]
     },
     "execution_count": 195,
     "metadata": {},
     "output_type": "execute_result"
    }
   ],
   "source": [
    "# Pearson Coefficient (logTransformation Chl-a)\n",
    "MergedData[['2BDA', 'NDCI', 'LnChl-a']].corr(method='pearson')"
   ]
  },
  {
   "cell_type": "code",
   "execution_count": 196,
   "id": "4ffa9f11",
   "metadata": {},
   "outputs": [],
   "source": [
    "# Getting column names (logTransformation Chl-a)\n",
    "X_columns = [\"2BDA\", \"NDCI\"]\n",
    "Y = MergedData[\"LnChl-a\"]"
   ]
  },
  {
   "cell_type": "code",
   "execution_count": 197,
   "id": "26e4406e",
   "metadata": {},
   "outputs": [
    {
     "name": "stdout",
     "output_type": "stream",
     "text": [
      "                                 OLS Regression Results                                \n",
      "=======================================================================================\n",
      "Dep. Variable:                LnChl-a   R-squared (uncentered):                   0.613\n",
      "Model:                            OLS   Adj. R-squared (uncentered):              0.612\n",
      "Method:                 Least Squares   F-statistic:                              1175.\n",
      "Date:                Tue, 22 Feb 2022   Prob (F-statistic):                   1.28e-306\n",
      "Time:                        16:33:50   Log-Likelihood:                         -2415.3\n",
      "No. Observations:                1487   AIC:                                      4835.\n",
      "Df Residuals:                    1485   BIC:                                      4845.\n",
      "Df Model:                           2                                                  \n",
      "Covariance Type:            nonrobust                                                  \n",
      "==============================================================================\n",
      "                 coef    std err          t      P>|t|      [0.025      0.975]\n",
      "------------------------------------------------------------------------------\n",
      "2BDA           1.5203      0.032     47.885      0.000       1.458       1.583\n",
      "NDCI           3.4283      0.579      5.916      0.000       2.292       4.565\n",
      "==============================================================================\n",
      "Omnibus:                       16.806   Durbin-Watson:                   1.276\n",
      "Prob(Omnibus):                  0.000   Jarque-Bera (JB):               19.310\n",
      "Skew:                          -0.192   Prob(JB):                     6.41e-05\n",
      "Kurtosis:                       3.406   Cond. No.                         18.3\n",
      "==============================================================================\n",
      "\n",
      "Notes:\n",
      "[1] R² is computed without centering (uncentered) since the model does not contain a constant.\n",
      "[2] Standard Errors assume that the covariance matrix of the errors is correctly specified.\n"
     ]
    }
   ],
   "source": [
    "#OLS model based on Three predictors (2BDA,3BDA,NDCI) for (logTransformation Chl-a)\n",
    "# Extract independent variables (predictors) \n",
    "X = MergedData[X_columns]\n",
    "\n",
    "# Extract dependent variable (prediction)\n",
    "Y = MergedData['LnChl-a']\n",
    "\n",
    "model = OLS(Y,X)\n",
    "results = OLS(Y,X).fit()\n",
    "print(results.summary())"
   ]
  },
  {
   "cell_type": "code",
   "execution_count": 198,
   "id": "4a097bd0",
   "metadata": {},
   "outputs": [
    {
     "name": "stdout",
     "output_type": "stream",
     "text": [
      "predicted Y: 0       1.361736\n",
      "1       1.361736\n",
      "2       1.372066\n",
      "3       1.372066\n",
      "4       1.440824\n",
      "          ...   \n",
      "1482    1.540164\n",
      "1483    1.473094\n",
      "1484    1.350030\n",
      "1485    1.209346\n",
      "1486    1.706013\n",
      "Name: Yhat1, Length: 1487, dtype: float64\n",
      "original Y: 0       2.091864\n",
      "1       2.091864\n",
      "2      -0.356675\n",
      "3      -0.356675\n",
      "4       1.386294\n",
      "          ...   \n",
      "1482   -1.238564\n",
      "1483    1.049422\n",
      "1484    1.996332\n",
      "1485    1.242424\n",
      "1486    1.167516\n",
      "Name: LnChl-a, Length: 1487, dtype: float64\n"
     ]
    }
   ],
   "source": [
    "X = MergedData[X_columns]\n",
    "Y = MergedData['LnChl-a']\n",
    "\n",
    "model = OLS(Y, X)\n",
    "results = OLS(Y, X).fit()\n",
    "\n",
    "# prediction\n",
    "MergedData['Yhat1'] = results.predict(X)\n",
    "print('predicted Y:', MergedData['Yhat1'])\n",
    "print('original Y:', Y)"
   ]
  },
  {
   "cell_type": "code",
   "execution_count": 199,
   "id": "14099693",
   "metadata": {},
   "outputs": [
    {
     "name": "stdout",
     "output_type": "stream",
     "text": [
      "MAE: 0.9801595652301884\n"
     ]
    }
   ],
   "source": [
    "mae = metrics.mean_absolute_error(Y, MergedData['Yhat1'])\n",
    "print(\"MAE:\",mae)"
   ]
  },
  {
   "cell_type": "code",
   "execution_count": 200,
   "id": "3c0bc2c7",
   "metadata": {},
   "outputs": [
    {
     "data": {
      "text/plain": [
       "(1270, 29)"
      ]
     },
     "execution_count": 200,
     "metadata": {},
     "output_type": "execute_result"
    }
   ],
   "source": [
    "# MergedData: Threshold Chl-a=2\n",
    "MergedData2 = MergedData.loc[(MergedData[\"LnChl-a\"] > 0.30103)]\n",
    "MergedData2.shape"
   ]
  },
  {
   "cell_type": "code",
   "execution_count": 201,
   "id": "3ee3b68c",
   "metadata": {},
   "outputs": [
    {
     "data": {
      "text/html": [
       "<div>\n",
       "<style scoped>\n",
       "    .dataframe tbody tr th:only-of-type {\n",
       "        vertical-align: middle;\n",
       "    }\n",
       "\n",
       "    .dataframe tbody tr th {\n",
       "        vertical-align: top;\n",
       "    }\n",
       "\n",
       "    .dataframe thead th {\n",
       "        text-align: right;\n",
       "    }\n",
       "</style>\n",
       "<table border=\"1\" class=\"dataframe\">\n",
       "  <thead>\n",
       "    <tr style=\"text-align: right;\">\n",
       "      <th></th>\n",
       "      <th>2BDA</th>\n",
       "      <th>NDCI</th>\n",
       "      <th>LnChl-a</th>\n",
       "    </tr>\n",
       "  </thead>\n",
       "  <tbody>\n",
       "    <tr>\n",
       "      <th>count</th>\n",
       "      <td>1270.000000</td>\n",
       "      <td>1270.000000</td>\n",
       "      <td>1270.000000</td>\n",
       "    </tr>\n",
       "    <tr>\n",
       "      <th>mean</th>\n",
       "      <td>0.998089</td>\n",
       "      <td>-0.004027</td>\n",
       "      <td>1.816260</td>\n",
       "    </tr>\n",
       "    <tr>\n",
       "      <th>std</th>\n",
       "      <td>0.132449</td>\n",
       "      <td>0.055060</td>\n",
       "      <td>1.073750</td>\n",
       "    </tr>\n",
       "    <tr>\n",
       "      <th>min</th>\n",
       "      <td>0.406412</td>\n",
       "      <td>-0.113502</td>\n",
       "      <td>0.302472</td>\n",
       "    </tr>\n",
       "    <tr>\n",
       "      <th>25%</th>\n",
       "      <td>0.917081</td>\n",
       "      <td>-0.041783</td>\n",
       "      <td>0.946238</td>\n",
       "    </tr>\n",
       "    <tr>\n",
       "      <th>50%</th>\n",
       "      <td>0.971714</td>\n",
       "      <td>-0.014468</td>\n",
       "      <td>1.606031</td>\n",
       "    </tr>\n",
       "    <tr>\n",
       "      <th>75%</th>\n",
       "      <td>1.054672</td>\n",
       "      <td>0.025499</td>\n",
       "      <td>2.483189</td>\n",
       "    </tr>\n",
       "    <tr>\n",
       "      <th>max</th>\n",
       "      <td>2.165665</td>\n",
       "      <td>0.368135</td>\n",
       "      <td>5.113793</td>\n",
       "    </tr>\n",
       "  </tbody>\n",
       "</table>\n",
       "</div>"
      ],
      "text/plain": [
       "              2BDA         NDCI      LnChl-a\n",
       "count  1270.000000  1270.000000  1270.000000\n",
       "mean      0.998089    -0.004027     1.816260\n",
       "std       0.132449     0.055060     1.073750\n",
       "min       0.406412    -0.113502     0.302472\n",
       "25%       0.917081    -0.041783     0.946238\n",
       "50%       0.971714    -0.014468     1.606031\n",
       "75%       1.054672     0.025499     2.483189\n",
       "max       2.165665     0.368135     5.113793"
      ]
     },
     "execution_count": 201,
     "metadata": {},
     "output_type": "execute_result"
    }
   ],
   "source": [
    "# Descriptive statistics of all variables: Threshold Chl-a=2\n",
    "list = ['2BDA', 'NDCI', 'LnChl-a']\n",
    "MergedData2 [list].describe()"
   ]
  },
  {
   "cell_type": "code",
   "execution_count": 202,
   "id": "4844ffef",
   "metadata": {},
   "outputs": [
    {
     "name": "stderr",
     "output_type": "stream",
     "text": [
      "C:\\Users\\SarShel\\anaconda3\\envs\\geostats_env\\lib\\site-packages\\pandas\\plotting\\_matplotlib\\tools.py:331: MatplotlibDeprecationWarning: \n",
      "The is_first_col function was deprecated in Matplotlib 3.4 and will be removed two minor releases later. Use ax.get_subplotspec().is_first_col() instead.\n",
      "  if ax.is_first_col():\n"
     ]
    },
    {
     "data": {
      "image/png": "[encoded data removed]",
      "text/plain": [
       "<Figure size 892.8x288 with 3 Axes>"
      ]
     },
     "metadata": {},
     "output_type": "display_data"
    },
    {
     "name": "stdout",
     "output_type": "stream",
     "text": [
      "0.3323064075694879 0.3290543440114825 0.37810312468145296\n"
     ]
    }
   ],
   "source": [
    "# Scatterplot for Chl-a vs all variables:Threshold Chl-a=2\n",
    "\n",
    "f,ax = plt.subplots(1,3, figsize=(4*3.1,4))\n",
    "MergedData2[['2BDA','LnChl-a']].plot.scatter('2BDA','LnChl-a', ax=ax[0])\n",
    "ax[0].set_xlabel('Two Band Ratio')\n",
    "ax[0].set_ylabel('Natural logarithm of Chl-a Concentration')\n",
    "r1 = np.corrcoef(MergedData2['2BDA'].values, MergedData2['LnChl-a'].values)[0,1]\n",
    "\n",
    "MergedData2[['3BDA','LnChl-a']].plot.scatter('3BDA','LnChl-a', ax=ax[1])\n",
    "ax[1].set_xlabel('Three Band Ratio')\n",
    "ax[1].set_ylabel('Natural logarithm of Chl-a Concentration')\n",
    "r2 = np.corrcoef(MergedData2['3BDA'].values, MergedData2['Chl-a'].values)[0,1]\n",
    "\n",
    "MergedData2[['NDCI','LnChl-a']].plot.scatter('NDCI','LnChl-a', ax=ax[2])\n",
    "ax[2].set_xlabel('NDCI')\n",
    "ax[2].set_ylabel('Natural logarithm of Chl-a Concentration')\n",
    "r3 = np.corrcoef(MergedData2['NDCI'].values, MergedData2['LnChl-a'].values)[0,1]\n",
    "\n",
    "f.tight_layout()\n",
    "plt.show()\n",
    "print(r1,r2,r3)"
   ]
  },
  {
   "cell_type": "code",
   "execution_count": 203,
   "id": "e306761d",
   "metadata": {},
   "outputs": [
    {
     "data": {
      "text/html": [
       "<div>\n",
       "<style scoped>\n",
       "    .dataframe tbody tr th:only-of-type {\n",
       "        vertical-align: middle;\n",
       "    }\n",
       "\n",
       "    .dataframe tbody tr th {\n",
       "        vertical-align: top;\n",
       "    }\n",
       "\n",
       "    .dataframe thead th {\n",
       "        text-align: right;\n",
       "    }\n",
       "</style>\n",
       "<table border=\"1\" class=\"dataframe\">\n",
       "  <thead>\n",
       "    <tr style=\"text-align: right;\">\n",
       "      <th></th>\n",
       "      <th>2BDA</th>\n",
       "      <th>NDCI</th>\n",
       "      <th>LnChl-a</th>\n",
       "    </tr>\n",
       "  </thead>\n",
       "  <tbody>\n",
       "    <tr>\n",
       "      <th>2BDA</th>\n",
       "      <td>1.000000</td>\n",
       "      <td>0.953742</td>\n",
       "      <td>0.332306</td>\n",
       "    </tr>\n",
       "    <tr>\n",
       "      <th>NDCI</th>\n",
       "      <td>0.953742</td>\n",
       "      <td>1.000000</td>\n",
       "      <td>0.378103</td>\n",
       "    </tr>\n",
       "    <tr>\n",
       "      <th>LnChl-a</th>\n",
       "      <td>0.332306</td>\n",
       "      <td>0.378103</td>\n",
       "      <td>1.000000</td>\n",
       "    </tr>\n",
       "  </tbody>\n",
       "</table>\n",
       "</div>"
      ],
      "text/plain": [
       "             2BDA      NDCI   LnChl-a\n",
       "2BDA     1.000000  0.953742  0.332306\n",
       "NDCI     0.953742  1.000000  0.378103\n",
       "LnChl-a  0.332306  0.378103  1.000000"
      ]
     },
     "execution_count": 203,
     "metadata": {},
     "output_type": "execute_result"
    }
   ],
   "source": [
    "# Pearson Coefficient \n",
    "MergedData2[['2BDA', 'NDCI', 'LnChl-a']].corr(method='pearson')"
   ]
  },
  {
   "cell_type": "code",
   "execution_count": 215,
   "id": "fc6f70ae",
   "metadata": {},
   "outputs": [],
   "source": [
    "# Getting column names\n",
    "X_columns = [\"2BDA\", \"NDCI\"]\n",
    "Y = MergedData2[\"LnChl-a\"]"
   ]
  },
  {
   "cell_type": "code",
   "execution_count": 216,
   "id": "d574e354",
   "metadata": {},
   "outputs": [
    {
     "data": {
      "text/plain": [
       "<seaborn.axisgrid.PairGrid at 0x2b16db75f88>"
      ]
     },
     "execution_count": 216,
     "metadata": {},
     "output_type": "execute_result"
    },
    {
     "data": {
      "image/png": "[encoded data removed]",
      "text/plain": [
       "<Figure size 360x360 with 6 Axes>"
      ]
     },
     "metadata": {},
     "output_type": "display_data"
    }
   ],
   "source": [
    "# Use seaborn.pairplot to plot a scatterplot matrix of independent variables (X)\n",
    "sns.pairplot(MergedData2[X_columns])"
   ]
  },
  {
   "cell_type": "code",
   "execution_count": 217,
   "id": "9c199fe8",
   "metadata": {},
   "outputs": [],
   "source": [
    "?variance_inflation_factor"
   ]
  },
  {
   "cell_type": "code",
   "execution_count": 218,
   "id": "4cba24cf",
   "metadata": {},
   "outputs": [
    {
     "data": {
      "text/html": [
       "<div>\n",
       "<style scoped>\n",
       "    .dataframe tbody tr th:only-of-type {\n",
       "        vertical-align: middle;\n",
       "    }\n",
       "\n",
       "    .dataframe tbody tr th {\n",
       "        vertical-align: top;\n",
       "    }\n",
       "\n",
       "    .dataframe thead th {\n",
       "        text-align: right;\n",
       "    }\n",
       "</style>\n",
       "<table border=\"1\" class=\"dataframe\">\n",
       "  <thead>\n",
       "    <tr style=\"text-align: right;\">\n",
       "      <th></th>\n",
       "      <th>VIF Factor</th>\n",
       "      <th>features</th>\n",
       "    </tr>\n",
       "  </thead>\n",
       "  <tbody>\n",
       "    <tr>\n",
       "      <th>0</th>\n",
       "      <td>1.0</td>\n",
       "      <td>2BDA</td>\n",
       "    </tr>\n",
       "    <tr>\n",
       "      <th>1</th>\n",
       "      <td>1.0</td>\n",
       "      <td>NDCI</td>\n",
       "    </tr>\n",
       "  </tbody>\n",
       "</table>\n",
       "</div>"
      ],
      "text/plain": [
       "   VIF Factor features\n",
       "0         1.0     2BDA\n",
       "1         1.0     NDCI"
      ]
     },
     "execution_count": 218,
     "metadata": {},
     "output_type": "execute_result"
    }
   ],
   "source": [
    "#Calculate VIFs on our dataset\n",
    "vif = pd.DataFrame()\n",
    "vif[\"VIF Factor\"] = [variance_inflation_factor(MergedData[X_columns[0:2]].values, i) for i in range(MergedData[X_columns[0:2]].shape[1])]\n",
    "vif[\"features\"] = MergedData[X_columns[0:2]].columns\n",
    "vif.round()"
   ]
  },
  {
   "cell_type": "code",
   "execution_count": 219,
   "id": "8b608f3f",
   "metadata": {},
   "outputs": [
    {
     "name": "stdout",
     "output_type": "stream",
     "text": [
      "                                 OLS Regression Results                                \n",
      "=======================================================================================\n",
      "Dep. Variable:                LnChl-a   R-squared (uncentered):                   0.774\n",
      "Model:                            OLS   Adj. R-squared (uncentered):              0.773\n",
      "Method:                 Least Squares   F-statistic:                              2167.\n",
      "Date:                Tue, 22 Feb 2022   Prob (F-statistic):                        0.00\n",
      "Time:                        16:36:14   Log-Likelihood:                         -1806.7\n",
      "No. Observations:                1270   AIC:                                      3617.\n",
      "Df Residuals:                    1268   BIC:                                      3628.\n",
      "Df Model:                           2                                                  \n",
      "Covariance Type:            nonrobust                                                  \n",
      "==============================================================================\n",
      "                 coef    std err          t      P>|t|      [0.025      0.975]\n",
      "------------------------------------------------------------------------------\n",
      "2BDA           1.8257      0.028     65.125      0.000       1.771       1.881\n",
      "NDCI           3.1758      0.511      6.209      0.000       2.172       4.179\n",
      "==============================================================================\n",
      "Omnibus:                       47.464   Durbin-Watson:                   1.211\n",
      "Prob(Omnibus):                  0.000   Jarque-Bera (JB):               41.137\n",
      "Skew:                           0.374   Prob(JB):                     1.17e-09\n",
      "Kurtosis:                       2.533   Cond. No.                         18.3\n",
      "==============================================================================\n",
      "\n",
      "Notes:\n",
      "[1] R² is computed without centering (uncentered) since the model does not contain a constant.\n",
      "[2] Standard Errors assume that the covariance matrix of the errors is correctly specified.\n"
     ]
    }
   ],
   "source": [
    "#OLS model based on Three predictors (2BDA,3BDA,NDCI)/Threshold = 2\n",
    "# Extract independent variables (predictors) \n",
    "X = MergedData2[X_columns]\n",
    "\n",
    "# Extract dependent variable (prediction)\n",
    "Y = MergedData2['LnChl-a']\n",
    "\n",
    "model = OLS(Y,X)\n",
    "results = OLS(Y,X).fit()\n",
    "print(results.summary())"
   ]
  },
  {
   "cell_type": "code",
   "execution_count": 209,
   "id": "a8c4615a",
   "metadata": {},
   "outputs": [
    {
     "name": "stdout",
     "output_type": "stream",
     "text": [
      "predicted Y: 0       1.658625\n",
      "1       1.658625\n",
      "4       1.741865\n",
      "5       1.741865\n",
      "6       1.726150\n",
      "          ...   \n",
      "1480    2.110642\n",
      "1483    1.775874\n",
      "1484    1.646278\n",
      "1485    1.498505\n",
      "1486    2.023108\n",
      "Name: Yhat, Length: 1270, dtype: float64\n",
      "original Y: 0       2.091864\n",
      "1       2.091864\n",
      "4       1.386294\n",
      "5       1.386294\n",
      "6       0.405465\n",
      "          ...   \n",
      "1480    3.559340\n",
      "1483    1.049422\n",
      "1484    1.996332\n",
      "1485    1.242424\n",
      "1486    1.167516\n",
      "Name: LnChl-a, Length: 1270, dtype: float64\n"
     ]
    },
    {
     "name": "stderr",
     "output_type": "stream",
     "text": [
      "C:\\Users\\SarShel\\anaconda3\\envs\\geostats_env\\lib\\site-packages\\ipykernel_launcher.py:8: SettingWithCopyWarning: \n",
      "A value is trying to be set on a copy of a slice from a DataFrame.\n",
      "Try using .loc[row_indexer,col_indexer] = value instead\n",
      "\n",
      "See the caveats in the documentation: https://pandas.pydata.org/pandas-docs/stable/user_guide/indexing.html#returning-a-view-versus-a-copy\n",
      "  \n"
     ]
    }
   ],
   "source": [
    "X = MergedData2[X_columns]\n",
    "Y = MergedData2['LnChl-a']\n",
    "\n",
    "model = OLS(Y, X)\n",
    "results = OLS(Y, X).fit()\n",
    "\n",
    "# prediction\n",
    "MergedData2['Yhat'] = results.predict(X)\n",
    "print('predicted Y:', MergedData2['Yhat'])\n",
    "print('original Y:', Y)"
   ]
  },
  {
   "cell_type": "code",
   "execution_count": 210,
   "id": "00accc81",
   "metadata": {},
   "outputs": [
    {
     "name": "stdout",
     "output_type": "stream",
     "text": [
      "MAE: 0.8333544491313273\n"
     ]
    }
   ],
   "source": [
    "mae = metrics.mean_absolute_error(Y, MergedData2['Yhat'])\n",
    "print(\"MAE:\",mae)"
   ]
  },
  {
   "cell_type": "code",
   "execution_count": 211,
   "id": "8492f021",
   "metadata": {},
   "outputs": [
    {
     "data": {
      "text/plain": [
       "(985, 29)"
      ]
     },
     "execution_count": 211,
     "metadata": {},
     "output_type": "execute_result"
    }
   ],
   "source": [
    "# MergedData: Threshold Chl-a=8\n",
    "MergedData3 = MergedData.loc[(MergedData[\"LnChl-a\"] > 0.9031)]\n",
    "MergedData3.shape"
   ]
  },
  {
   "cell_type": "code",
   "execution_count": 212,
   "id": "5edbff19",
   "metadata": {},
   "outputs": [
    {
     "data": {
      "text/html": [
       "<div>\n",
       "<style scoped>\n",
       "    .dataframe tbody tr th:only-of-type {\n",
       "        vertical-align: middle;\n",
       "    }\n",
       "\n",
       "    .dataframe tbody tr th {\n",
       "        vertical-align: top;\n",
       "    }\n",
       "\n",
       "    .dataframe thead th {\n",
       "        text-align: right;\n",
       "    }\n",
       "</style>\n",
       "<table border=\"1\" class=\"dataframe\">\n",
       "  <thead>\n",
       "    <tr style=\"text-align: right;\">\n",
       "      <th></th>\n",
       "      <th>2BDA</th>\n",
       "      <th>NDCI</th>\n",
       "      <th>LnChl-a</th>\n",
       "    </tr>\n",
       "  </thead>\n",
       "  <tbody>\n",
       "    <tr>\n",
       "      <th>count</th>\n",
       "      <td>985.000000</td>\n",
       "      <td>985.000000</td>\n",
       "      <td>985.000000</td>\n",
       "    </tr>\n",
       "    <tr>\n",
       "      <th>mean</th>\n",
       "      <td>1.007633</td>\n",
       "      <td>0.000499</td>\n",
       "      <td>2.165318</td>\n",
       "    </tr>\n",
       "    <tr>\n",
       "      <th>std</th>\n",
       "      <td>0.140114</td>\n",
       "      <td>0.057232</td>\n",
       "      <td>0.966410</td>\n",
       "    </tr>\n",
       "    <tr>\n",
       "      <th>min</th>\n",
       "      <td>0.406412</td>\n",
       "      <td>-0.113502</td>\n",
       "      <td>0.904218</td>\n",
       "    </tr>\n",
       "    <tr>\n",
       "      <th>25%</th>\n",
       "      <td>0.922727</td>\n",
       "      <td>-0.038583</td>\n",
       "      <td>1.373716</td>\n",
       "    </tr>\n",
       "    <tr>\n",
       "      <th>50%</th>\n",
       "      <td>0.980122</td>\n",
       "      <td>-0.009990</td>\n",
       "      <td>1.931521</td>\n",
       "    </tr>\n",
       "    <tr>\n",
       "      <th>75%</th>\n",
       "      <td>1.062574</td>\n",
       "      <td>0.029666</td>\n",
       "      <td>2.788462</td>\n",
       "    </tr>\n",
       "    <tr>\n",
       "      <th>max</th>\n",
       "      <td>2.165665</td>\n",
       "      <td>0.368135</td>\n",
       "      <td>5.113793</td>\n",
       "    </tr>\n",
       "  </tbody>\n",
       "</table>\n",
       "</div>"
      ],
      "text/plain": [
       "             2BDA        NDCI     LnChl-a\n",
       "count  985.000000  985.000000  985.000000\n",
       "mean     1.007633    0.000499    2.165318\n",
       "std      0.140114    0.057232    0.966410\n",
       "min      0.406412   -0.113502    0.904218\n",
       "25%      0.922727   -0.038583    1.373716\n",
       "50%      0.980122   -0.009990    1.931521\n",
       "75%      1.062574    0.029666    2.788462\n",
       "max      2.165665    0.368135    5.113793"
      ]
     },
     "execution_count": 212,
     "metadata": {},
     "output_type": "execute_result"
    }
   ],
   "source": [
    "# Descriptive statistics of all variables: Threshold Chl-a=8\n",
    "list = ['2BDA', 'NDCI', 'LnChl-a']\n",
    "MergedData3 [list].describe()"
   ]
  },
  {
   "cell_type": "code",
   "execution_count": 213,
   "id": "11e42b50",
   "metadata": {},
   "outputs": [
    {
     "name": "stderr",
     "output_type": "stream",
     "text": [
      "C:\\Users\\SarShel\\anaconda3\\envs\\geostats_env\\lib\\site-packages\\pandas\\plotting\\_matplotlib\\tools.py:331: MatplotlibDeprecationWarning: \n",
      "The is_first_col function was deprecated in Matplotlib 3.4 and will be removed two minor releases later. Use ax.get_subplotspec().is_first_col() instead.\n",
      "  if ax.is_first_col():\n"
     ]
    },
    {
     "data": {
      "image/png": "[encoded data removed]",
      "text/plain": [
       "<Figure size 892.8x288 with 3 Axes>"
      ]
     },
     "metadata": {},
     "output_type": "display_data"
    },
    {
     "name": "stdout",
     "output_type": "stream",
     "text": [
      "0.3410866072806363 0.3379850394259149 0.3936834429720397\n"
     ]
    }
   ],
   "source": [
    "# Scatterplot for Chl-a vs all variables:Threshold Chl-a=8\n",
    "\n",
    "f,ax = plt.subplots(1,3, figsize=(4*3.1,4))\n",
    "MergedData3[['2BDA','LnChl-a']].plot.scatter('2BDA','LnChl-a', ax=ax[0])\n",
    "ax[0].set_xlabel('Two Band Ratio')\n",
    "ax[0].set_ylabel('Natural logarithm of Chl-a Concentration')\n",
    "r1 = np.corrcoef(MergedData3['2BDA'].values, MergedData3['LnChl-a'].values)[0,1]\n",
    "\n",
    "MergedData3[['3BDA','LnChl-a']].plot.scatter('3BDA','LnChl-a', ax=ax[1])\n",
    "ax[1].set_xlabel('Three Band Ratio')\n",
    "ax[1].set_ylabel('Natural logarithm of Chl-a Concentration')\n",
    "r2 = np.corrcoef(MergedData3['3BDA'].values, MergedData3['Chl-a'].values)[0,1]\n",
    "\n",
    "MergedData3[['NDCI','LnChl-a']].plot.scatter('NDCI','LnChl-a', ax=ax[2])\n",
    "ax[2].set_xlabel('NDCI')\n",
    "ax[2].set_ylabel('Natural logarithm of Chl-a Concentration')\n",
    "r3 = np.corrcoef(MergedData3['NDCI'].values, MergedData3['LnChl-a'].values)[0,1]\n",
    "\n",
    "f.tight_layout()\n",
    "plt.show()\n",
    "print(r1,r2,r3)"
   ]
  },
  {
   "cell_type": "code",
   "execution_count": 214,
   "id": "5447bff0",
   "metadata": {},
   "outputs": [
    {
     "data": {
      "text/html": [
       "<div>\n",
       "<style scoped>\n",
       "    .dataframe tbody tr th:only-of-type {\n",
       "        vertical-align: middle;\n",
       "    }\n",
       "\n",
       "    .dataframe tbody tr th {\n",
       "        vertical-align: top;\n",
       "    }\n",
       "\n",
       "    .dataframe thead th {\n",
       "        text-align: right;\n",
       "    }\n",
       "</style>\n",
       "<table border=\"1\" class=\"dataframe\">\n",
       "  <thead>\n",
       "    <tr style=\"text-align: right;\">\n",
       "      <th></th>\n",
       "      <th>2BDA</th>\n",
       "      <th>3BDA</th>\n",
       "      <th>LnChl-a</th>\n",
       "    </tr>\n",
       "  </thead>\n",
       "  <tbody>\n",
       "    <tr>\n",
       "      <th>2BDA</th>\n",
       "      <td>1.000000</td>\n",
       "      <td>0.902470</td>\n",
       "      <td>0.341087</td>\n",
       "    </tr>\n",
       "    <tr>\n",
       "      <th>3BDA</th>\n",
       "      <td>0.902470</td>\n",
       "      <td>1.000000</td>\n",
       "      <td>0.271112</td>\n",
       "    </tr>\n",
       "    <tr>\n",
       "      <th>LnChl-a</th>\n",
       "      <td>0.341087</td>\n",
       "      <td>0.271112</td>\n",
       "      <td>1.000000</td>\n",
       "    </tr>\n",
       "  </tbody>\n",
       "</table>\n",
       "</div>"
      ],
      "text/plain": [
       "             2BDA      3BDA   LnChl-a\n",
       "2BDA     1.000000  0.902470  0.341087\n",
       "3BDA     0.902470  1.000000  0.271112\n",
       "LnChl-a  0.341087  0.271112  1.000000"
      ]
     },
     "execution_count": 214,
     "metadata": {},
     "output_type": "execute_result"
    }
   ],
   "source": [
    "# Pearson Coefficient \n",
    "MergedData3[['2BDA', '3BDA', 'LnChl-a']].corr(method='pearson')"
   ]
  },
  {
   "cell_type": "code",
   "execution_count": 180,
   "id": "36bdc59c",
   "metadata": {},
   "outputs": [
    {
     "name": "stdout",
     "output_type": "stream",
     "text": [
      "                                 OLS Regression Results                                \n",
      "=======================================================================================\n",
      "Dep. Variable:                LnChl-a   R-squared (uncentered):                   0.853\n",
      "Model:                            OLS   Adj. R-squared (uncentered):              0.853\n",
      "Method:                 Least Squares   F-statistic:                              2857.\n",
      "Date:                Tue, 22 Feb 2022   Prob (F-statistic):                        0.00\n",
      "Time:                        16:29:34   Log-Likelihood:                         -1303.0\n",
      "No. Observations:                 985   AIC:                                      2610.\n",
      "Df Residuals:                     983   BIC:                                      2620.\n",
      "Df Model:                           2                                                  \n",
      "Covariance Type:            nonrobust                                                  \n",
      "==============================================================================\n",
      "                 coef    std err          t      P>|t|      [0.025      0.975]\n",
      "------------------------------------------------------------------------------\n",
      "2BDA           2.1557      0.029     73.117      0.000       2.098       2.214\n",
      "3BDA          -0.0582      0.153     -0.380      0.704      -0.358       0.242\n",
      "==============================================================================\n",
      "Omnibus:                       44.626   Durbin-Watson:                   1.321\n",
      "Prob(Omnibus):                  0.000   Jarque-Bera (JB):               48.179\n",
      "Skew:                           0.523   Prob(JB):                     3.45e-11\n",
      "Kurtosis:                       2.715   Cond. No.                         5.38\n",
      "==============================================================================\n",
      "\n",
      "Notes:\n",
      "[1] R² is computed without centering (uncentered) since the model does not contain a constant.\n",
      "[2] Standard Errors assume that the covariance matrix of the errors is correctly specified.\n"
     ]
    }
   ],
   "source": [
    "#OLS model based on Three predictors (2BDA,3BDA)/Threshold = 8\n",
    "# Extract independent variables (predictors) \n",
    "X = MergedData3[X_columns]\n",
    "\n",
    "# Extract dependent variable (prediction)\n",
    "Y = MergedData3['LnChl-a']\n",
    "\n",
    "model = OLS(Y,X)\n",
    "results = OLS(Y,X).fit()\n",
    "print(results.summary())"
   ]
  },
  {
   "cell_type": "code",
   "execution_count": 181,
   "id": "db278497",
   "metadata": {},
   "outputs": [
    {
     "name": "stdout",
     "output_type": "stream",
     "text": [
      "predicted Y: 0       1.991466\n",
      "1       1.991466\n",
      "4       2.107897\n",
      "5       2.107897\n",
      "8       1.813751\n",
      "          ...   \n",
      "1480    2.502529\n",
      "1483    2.153932\n",
      "1484    1.980897\n",
      "1485    1.759303\n",
      "1486    2.423143\n",
      "Name: Yhat, Length: 985, dtype: float64\n",
      "original Y: 0       2.091864\n",
      "1       2.091864\n",
      "4       1.386294\n",
      "5       1.386294\n",
      "8       1.029619\n",
      "          ...   \n",
      "1480    3.559340\n",
      "1483    1.049422\n",
      "1484    1.996332\n",
      "1485    1.242424\n",
      "1486    1.167516\n",
      "Name: LnChl-a, Length: 985, dtype: float64\n"
     ]
    },
    {
     "name": "stderr",
     "output_type": "stream",
     "text": [
      "C:\\Users\\SarShel\\anaconda3\\envs\\geostats_env\\lib\\site-packages\\ipykernel_launcher.py:8: SettingWithCopyWarning: \n",
      "A value is trying to be set on a copy of a slice from a DataFrame.\n",
      "Try using .loc[row_indexer,col_indexer] = value instead\n",
      "\n",
      "See the caveats in the documentation: https://pandas.pydata.org/pandas-docs/stable/user_guide/indexing.html#returning-a-view-versus-a-copy\n",
      "  \n"
     ]
    }
   ],
   "source": [
    "X = MergedData3[X_columns]\n",
    "Y = MergedData3['LnChl-a']\n",
    "\n",
    "model = OLS(Y, X)\n",
    "results = OLS(Y, X).fit()\n",
    "\n",
    "# prediction\n",
    "MergedData3['Yhat'] = results.predict(X)\n",
    "print('predicted Y:', MergedData4['Yhat'])\n",
    "print('original Y:', Y)"
   ]
  },
  {
   "cell_type": "code",
   "execution_count": 182,
   "id": "b80b0dee",
   "metadata": {},
   "outputs": [
    {
     "name": "stdout",
     "output_type": "stream",
     "text": [
      "MAE: 0.7481151953745719\n"
     ]
    }
   ],
   "source": [
    "mae = metrics.mean_absolute_error(Y, MergedData3['Yhat'])\n",
    "print(\"MAE:\",mae)"
   ]
  },
  {
   "cell_type": "code",
   "execution_count": null,
   "id": "4fa73623",
   "metadata": {},
   "outputs": [],
   "source": [
    "# Model with 2 predicters (2BDA & 3BDA)"
   ]
  },
  {
   "cell_type": "code",
   "execution_count": 134,
   "id": "96930388",
   "metadata": {},
   "outputs": [
    {
     "name": "stdout",
     "output_type": "stream",
     "text": [
      "                                 OLS Regression Results                                \n",
      "=======================================================================================\n",
      "Dep. Variable:                LnChl-a   R-squared (uncentered):                   0.604\n",
      "Model:                            OLS   Adj. R-squared (uncentered):              0.604\n",
      "Method:                 Least Squares   F-statistic:                              1134.\n",
      "Date:                Tue, 22 Feb 2022   Prob (F-statistic):                   1.11e-299\n",
      "Time:                        15:28:59   Log-Likelihood:                         -2431.3\n",
      "No. Observations:                1487   AIC:                                      4867.\n",
      "Df Residuals:                    1485   BIC:                                      4877.\n",
      "Df Model:                           2                                                  \n",
      "Covariance Type:            nonrobust                                                  \n",
      "==============================================================================\n",
      "                 coef    std err          t      P>|t|      [0.025      0.975]\n",
      "------------------------------------------------------------------------------\n",
      "2BDA           1.5161      0.033     46.341      0.000       1.452       1.580\n",
      "3BDA           0.2774      0.171      1.625      0.104      -0.057       0.612\n",
      "==============================================================================\n",
      "Omnibus:                        6.893   Durbin-Watson:                   1.265\n",
      "Prob(Omnibus):                  0.032   Jarque-Bera (JB):                8.376\n",
      "Skew:                          -0.057   Prob(JB):                       0.0152\n",
      "Kurtosis:                       3.350   Cond. No.                         5.33\n",
      "==============================================================================\n",
      "\n",
      "Notes:\n",
      "[1] R² is computed without centering (uncentered) since the model does not contain a constant.\n",
      "[2] Standard Errors assume that the covariance matrix of the errors is correctly specified.\n"
     ]
    }
   ],
   "source": [
    "#OLS model based on two predictors (2BDA,3BDA) for (logTransformation Chl-a)\n",
    "# Extract independent variables (predictors) \n",
    "X = MergedData[[ '2BDA' , '3BDA']]\n",
    "\n",
    "# Extract dependent variable (prediction)\n",
    "Y = MergedData['LnChl-a']\n",
    "\n",
    "model = OLS(Y,X)\n",
    "results = OLS(Y,X).fit()\n",
    "print(results.summary())"
   ]
  },
  {
   "cell_type": "code",
   "execution_count": 135,
   "id": "5f2c2683",
   "metadata": {},
   "outputs": [
    {
     "name": "stdout",
     "output_type": "stream",
     "text": [
      "                                 OLS Regression Results                                \n",
      "=======================================================================================\n",
      "Dep. Variable:                LnChl-a   R-squared (uncentered):                   0.768\n",
      "Model:                            OLS   Adj. R-squared (uncentered):              0.767\n",
      "Method:                 Least Squares   F-statistic:                              2095.\n",
      "Date:                Tue, 22 Feb 2022   Prob (F-statistic):                        0.00\n",
      "Time:                        15:29:46   Log-Likelihood:                         -1823.3\n",
      "No. Observations:                1270   AIC:                                      3651.\n",
      "Df Residuals:                    1268   BIC:                                      3661.\n",
      "Df Model:                           2                                                  \n",
      "Covariance Type:            nonrobust                                                  \n",
      "==============================================================================\n",
      "                 coef    std err          t      P>|t|      [0.025      0.975]\n",
      "------------------------------------------------------------------------------\n",
      "2BDA           1.8219      0.029     62.933      0.000       1.765       1.879\n",
      "3BDA           0.3457      0.156      2.221      0.026       0.040       0.651\n",
      "==============================================================================\n",
      "Omnibus:                       64.589   Durbin-Watson:                   1.206\n",
      "Prob(Omnibus):                  0.000   Jarque-Bera (JB):               64.750\n",
      "Skew:                           0.512   Prob(JB):                     8.70e-15\n",
      "Kurtosis:                       2.581   Cond. No.                         5.49\n",
      "==============================================================================\n",
      "\n",
      "Notes:\n",
      "[1] R² is computed without centering (uncentered) since the model does not contain a constant.\n",
      "[2] Standard Errors assume that the covariance matrix of the errors is correctly specified.\n"
     ]
    }
   ],
   "source": [
    "#OLS model based on two predictors (2BDA,3BDA) for (logTransformation Chl-a)/ threshold chl-a > 2\n",
    "# Extract independent variables (predictors) \n",
    "X = MergedData2[[ '2BDA' , '3BDA']]\n",
    "\n",
    "# Extract dependent variable (prediction)\n",
    "Y = MergedData2['LnChl-a']\n",
    "\n",
    "model = OLS(Y,X)\n",
    "results = OLS(Y,X).fit()\n",
    "print(results.summary())"
   ]
  },
  {
   "cell_type": "code",
   "execution_count": 136,
   "id": "24db9b4c",
   "metadata": {},
   "outputs": [
    {
     "name": "stdout",
     "output_type": "stream",
     "text": [
      "                                 OLS Regression Results                                \n",
      "=======================================================================================\n",
      "Dep. Variable:                LnChl-a   R-squared (uncentered):                   0.853\n",
      "Model:                            OLS   Adj. R-squared (uncentered):              0.853\n",
      "Method:                 Least Squares   F-statistic:                              2857.\n",
      "Date:                Tue, 22 Feb 2022   Prob (F-statistic):                        0.00\n",
      "Time:                        15:30:03   Log-Likelihood:                         -1303.0\n",
      "No. Observations:                 985   AIC:                                      2610.\n",
      "Df Residuals:                     983   BIC:                                      2620.\n",
      "Df Model:                           2                                                  \n",
      "Covariance Type:            nonrobust                                                  \n",
      "==============================================================================\n",
      "                 coef    std err          t      P>|t|      [0.025      0.975]\n",
      "------------------------------------------------------------------------------\n",
      "2BDA           2.1557      0.029     73.117      0.000       2.098       2.214\n",
      "3BDA          -0.0582      0.153     -0.380      0.704      -0.358       0.242\n",
      "==============================================================================\n",
      "Omnibus:                       44.626   Durbin-Watson:                   1.321\n",
      "Prob(Omnibus):                  0.000   Jarque-Bera (JB):               48.179\n",
      "Skew:                           0.523   Prob(JB):                     3.45e-11\n",
      "Kurtosis:                       2.715   Cond. No.                         5.38\n",
      "==============================================================================\n",
      "\n",
      "Notes:\n",
      "[1] R² is computed without centering (uncentered) since the model does not contain a constant.\n",
      "[2] Standard Errors assume that the covariance matrix of the errors is correctly specified.\n"
     ]
    }
   ],
   "source": [
    "#OLS model based on two predictors (2BDA,3BDA) for (logTransformation Chl-a)/ threshold chl-a > 8\n",
    "# Extract independent variables (predictors) \n",
    "X = MergedData4[[ '2BDA' , '3BDA']]\n",
    "\n",
    "# Extract dependent variable (prediction)\n",
    "Y = MergedData4['LnChl-a']\n",
    "\n",
    "model = OLS(Y,X)\n",
    "results = OLS(Y,X).fit()\n",
    "print(results.summary())"
   ]
  },
  {
   "cell_type": "code",
   "execution_count": null,
   "id": "dd91f0e2",
   "metadata": {},
   "outputs": [],
   "source": [
    "# Model with 2 predicters (2BDA & NDCI)"
   ]
  },
  {
   "cell_type": "code",
   "execution_count": 137,
   "id": "404baf09",
   "metadata": {},
   "outputs": [
    {
     "name": "stdout",
     "output_type": "stream",
     "text": [
      "                                 OLS Regression Results                                \n",
      "=======================================================================================\n",
      "Dep. Variable:                LnChl-a   R-squared (uncentered):                   0.613\n",
      "Model:                            OLS   Adj. R-squared (uncentered):              0.612\n",
      "Method:                 Least Squares   F-statistic:                              1175.\n",
      "Date:                Tue, 22 Feb 2022   Prob (F-statistic):                   1.28e-306\n",
      "Time:                        15:33:44   Log-Likelihood:                         -2415.3\n",
      "No. Observations:                1487   AIC:                                      4835.\n",
      "Df Residuals:                    1485   BIC:                                      4845.\n",
      "Df Model:                           2                                                  \n",
      "Covariance Type:            nonrobust                                                  \n",
      "==============================================================================\n",
      "                 coef    std err          t      P>|t|      [0.025      0.975]\n",
      "------------------------------------------------------------------------------\n",
      "2BDA           1.5203      0.032     47.885      0.000       1.458       1.583\n",
      "NDCI           3.4283      0.579      5.916      0.000       2.292       4.565\n",
      "==============================================================================\n",
      "Omnibus:                       16.806   Durbin-Watson:                   1.276\n",
      "Prob(Omnibus):                  0.000   Jarque-Bera (JB):               19.310\n",
      "Skew:                          -0.192   Prob(JB):                     6.41e-05\n",
      "Kurtosis:                       3.406   Cond. No.                         18.3\n",
      "==============================================================================\n",
      "\n",
      "Notes:\n",
      "[1] R² is computed without centering (uncentered) since the model does not contain a constant.\n",
      "[2] Standard Errors assume that the covariance matrix of the errors is correctly specified.\n"
     ]
    }
   ],
   "source": [
    "#OLS model based on two predictors (2BDA,NDCI) for (logTransformation Chl-a)\n",
    "# Extract independent variables (predictors) \n",
    "X = MergedData[[ '2BDA' , 'NDCI']]\n",
    "\n",
    "# Extract dependent variable (prediction)\n",
    "Y = MergedData['LnChl-a']\n",
    "\n",
    "model = OLS(Y,X)\n",
    "results = OLS(Y,X).fit()\n",
    "print(results.summary())"
   ]
  },
  {
   "cell_type": "code",
   "execution_count": 138,
   "id": "ba5d94be",
   "metadata": {},
   "outputs": [
    {
     "name": "stdout",
     "output_type": "stream",
     "text": [
      "                                 OLS Regression Results                                \n",
      "=======================================================================================\n",
      "Dep. Variable:                LnChl-a   R-squared (uncentered):                   0.774\n",
      "Model:                            OLS   Adj. R-squared (uncentered):              0.773\n",
      "Method:                 Least Squares   F-statistic:                              2167.\n",
      "Date:                Tue, 22 Feb 2022   Prob (F-statistic):                        0.00\n",
      "Time:                        15:35:12   Log-Likelihood:                         -1806.7\n",
      "No. Observations:                1270   AIC:                                      3617.\n",
      "Df Residuals:                    1268   BIC:                                      3628.\n",
      "Df Model:                           2                                                  \n",
      "Covariance Type:            nonrobust                                                  \n",
      "==============================================================================\n",
      "                 coef    std err          t      P>|t|      [0.025      0.975]\n",
      "------------------------------------------------------------------------------\n",
      "2BDA           1.8257      0.028     65.125      0.000       1.771       1.881\n",
      "NDCI           3.1758      0.511      6.209      0.000       2.172       4.179\n",
      "==============================================================================\n",
      "Omnibus:                       47.464   Durbin-Watson:                   1.211\n",
      "Prob(Omnibus):                  0.000   Jarque-Bera (JB):               41.137\n",
      "Skew:                           0.374   Prob(JB):                     1.17e-09\n",
      "Kurtosis:                       2.533   Cond. No.                         18.3\n",
      "==============================================================================\n",
      "\n",
      "Notes:\n",
      "[1] R² is computed without centering (uncentered) since the model does not contain a constant.\n",
      "[2] Standard Errors assume that the covariance matrix of the errors is correctly specified.\n"
     ]
    }
   ],
   "source": [
    "#OLS model based on two predictors (2BDA,NDCI) for (logTransformation Chl-a)/ threshold chl-a > 2\n",
    "# Extract independent variables (predictors) \n",
    "X = MergedData2[[ '2BDA' , 'NDCI']]\n",
    "\n",
    "# Extract dependent variable (prediction)\n",
    "Y = MergedData2['LnChl-a']\n",
    "\n",
    "model = OLS(Y,X)\n",
    "results = OLS(Y,X).fit()\n",
    "print(results.summary())"
   ]
  },
  {
   "cell_type": "code",
   "execution_count": 139,
   "id": "a12abaef",
   "metadata": {},
   "outputs": [
    {
     "name": "stdout",
     "output_type": "stream",
     "text": [
      "                                 OLS Regression Results                                \n",
      "=======================================================================================\n",
      "Dep. Variable:                LnChl-a   R-squared (uncentered):                   0.855\n",
      "Model:                            OLS   Adj. R-squared (uncentered):              0.854\n",
      "Method:                 Least Squares   F-statistic:                              2893.\n",
      "Date:                Tue, 22 Feb 2022   Prob (F-statistic):                        0.00\n",
      "Time:                        15:35:17   Log-Likelihood:                         -1297.8\n",
      "No. Observations:                 985   AIC:                                      2600.\n",
      "Df Residuals:                     983   BIC:                                      2609.\n",
      "Df Model:                           2                                                  \n",
      "Covariance Type:            nonrobust                                                  \n",
      "==============================================================================\n",
      "                 coef    std err          t      P>|t|      [0.025      0.975]\n",
      "------------------------------------------------------------------------------\n",
      "2BDA           2.1398      0.029     74.789      0.000       2.084       2.196\n",
      "NDCI           1.6544      0.509      3.251      0.001       0.656       2.653\n",
      "==============================================================================\n",
      "Omnibus:                       23.962   Durbin-Watson:                   1.315\n",
      "Prob(Omnibus):                  0.000   Jarque-Bera (JB):               24.509\n",
      "Skew:                           0.366   Prob(JB):                     4.76e-06\n",
      "Kurtosis:                       2.750   Cond. No.                         18.0\n",
      "==============================================================================\n",
      "\n",
      "Notes:\n",
      "[1] R² is computed without centering (uncentered) since the model does not contain a constant.\n",
      "[2] Standard Errors assume that the covariance matrix of the errors is correctly specified.\n"
     ]
    }
   ],
   "source": [
    "#OLS model based on two predictors (2BDA,NDCI) for (logTransformation Chl-a)/ threshold chl-a > 8\n",
    "# Extract independent variables (predictors) \n",
    "X = MergedData4[[ '2BDA' , 'NDCI']]\n",
    "\n",
    "# Extract dependent variable (prediction)\n",
    "Y = MergedData4['LnChl-a']\n",
    "\n",
    "model = OLS(Y,X)\n",
    "results = OLS(Y,X).fit()\n",
    "print(results.summary())"
   ]
  },
  {
   "cell_type": "code",
   "execution_count": null,
   "id": "e1dd1743",
   "metadata": {},
   "outputs": [],
   "source": [
    "# Model with 2 predicters (3BDA & NDCI) ---- very bad ----"
   ]
  },
  {
   "cell_type": "code",
   "execution_count": 140,
   "id": "9fb92ad8",
   "metadata": {},
   "outputs": [
    {
     "name": "stdout",
     "output_type": "stream",
     "text": [
      "                                 OLS Regression Results                                \n",
      "=======================================================================================\n",
      "Dep. Variable:                LnChl-a   R-squared (uncentered):                   0.040\n",
      "Model:                            OLS   Adj. R-squared (uncentered):              0.039\n",
      "Method:                 Least Squares   F-statistic:                              31.08\n",
      "Date:                Tue, 22 Feb 2022   Prob (F-statistic):                    5.99e-14\n",
      "Time:                        16:03:11   Log-Likelihood:                         -3090.1\n",
      "No. Observations:                1487   AIC:                                      6184.\n",
      "Df Residuals:                    1485   BIC:                                      6195.\n",
      "Df Model:                           2                                                  \n",
      "Covariance Type:            nonrobust                                                  \n",
      "==============================================================================\n",
      "                 coef    std err          t      P>|t|      [0.025      0.975]\n",
      "------------------------------------------------------------------------------\n",
      "3BDA           3.7247      0.594      6.275      0.000       2.560       4.889\n",
      "NDCI          -7.3535      2.077     -3.541      0.000     -11.427      -3.280\n",
      "==============================================================================\n",
      "Omnibus:                       17.624   Durbin-Watson:                   0.585\n",
      "Prob(Omnibus):                  0.000   Jarque-Bera (JB):               27.602\n",
      "Skew:                          -0.069   Prob(JB):                     1.01e-06\n",
      "Kurtosis:                       3.653   Cond. No.                         8.50\n",
      "==============================================================================\n",
      "\n",
      "Notes:\n",
      "[1] R² is computed without centering (uncentered) since the model does not contain a constant.\n",
      "[2] Standard Errors assume that the covariance matrix of the errors is correctly specified.\n"
     ]
    }
   ],
   "source": [
    "#OLS model based on two predictors (3BDA,NDCI) for (logTransformation Chl-a)\n",
    "# Extract independent variables (predictors) \n",
    "X = MergedData[[ '3BDA' , 'NDCI']]\n",
    "\n",
    "# Extract dependent variable (prediction)\n",
    "Y = MergedData['LnChl-a']\n",
    "\n",
    "model = OLS(Y,X)\n",
    "results = OLS(Y,X).fit()\n",
    "print(results.summary())"
   ]
  },
  {
   "cell_type": "code",
   "execution_count": 141,
   "id": "91dc46be",
   "metadata": {},
   "outputs": [
    {
     "name": "stdout",
     "output_type": "stream",
     "text": [
      "                                 OLS Regression Results                                \n",
      "=======================================================================================\n",
      "Dep. Variable:                LnChl-a   R-squared (uncentered):                   0.058\n",
      "Model:                            OLS   Adj. R-squared (uncentered):              0.057\n",
      "Method:                 Least Squares   F-statistic:                              39.08\n",
      "Date:                Tue, 22 Feb 2022   Prob (F-statistic):                    3.40e-17\n",
      "Time:                        16:03:17   Log-Likelihood:                         -2712.2\n",
      "No. Observations:                1270   AIC:                                      5428.\n",
      "Df Residuals:                    1268   BIC:                                      5439.\n",
      "Df Model:                           2                                                  \n",
      "Covariance Type:            nonrobust                                                  \n",
      "==============================================================================\n",
      "                 coef    std err          t      P>|t|      [0.025      0.975]\n",
      "------------------------------------------------------------------------------\n",
      "3BDA           5.2272      0.700      7.466      0.000       3.854       6.601\n",
      "NDCI         -11.0130      2.376     -4.635      0.000     -15.675      -6.351\n",
      "==============================================================================\n",
      "Omnibus:                       41.553   Durbin-Watson:                   0.378\n",
      "Prob(Omnibus):                  0.000   Jarque-Bera (JB):               80.548\n",
      "Skew:                           0.214   Prob(JB):                     3.23e-18\n",
      "Kurtosis:                       4.157   Cond. No.                         8.29\n",
      "==============================================================================\n",
      "\n",
      "Notes:\n",
      "[1] R² is computed without centering (uncentered) since the model does not contain a constant.\n",
      "[2] Standard Errors assume that the covariance matrix of the errors is correctly specified.\n"
     ]
    }
   ],
   "source": [
    "#OLS model based on two predictors (3BDA,NDCI) for (logTransformation Chl-a)/ threshold chl-a > 2\n",
    "# Extract independent variables (predictors) \n",
    "X = MergedData2[[ '3BDA' , 'NDCI']]\n",
    "\n",
    "# Extract dependent variable (prediction)\n",
    "Y = MergedData2['LnChl-a']\n",
    "\n",
    "model = OLS(Y,X)\n",
    "results = OLS(Y,X).fit()\n",
    "print(results.summary())"
   ]
  },
  {
   "cell_type": "code",
   "execution_count": 142,
   "id": "69918d3e",
   "metadata": {},
   "outputs": [
    {
     "name": "stdout",
     "output_type": "stream",
     "text": [
      "                                 OLS Regression Results                                \n",
      "=======================================================================================\n",
      "Dep. Variable:                LnChl-a   R-squared (uncentered):                   0.065\n",
      "Model:                            OLS   Adj. R-squared (uncentered):              0.063\n",
      "Method:                 Least Squares   F-statistic:                              33.97\n",
      "Date:                Tue, 22 Feb 2022   Prob (F-statistic):                    5.41e-15\n",
      "Time:                        16:03:23   Log-Likelihood:                         -2215.1\n",
      "No. Observations:                 985   AIC:                                      4434.\n",
      "Df Residuals:                     983   BIC:                                      4444.\n",
      "Df Model:                           2                                                  \n",
      "Covariance Type:            nonrobust                                                  \n",
      "==============================================================================\n",
      "                 coef    std err          t      P>|t|      [0.025      0.975]\n",
      "------------------------------------------------------------------------------\n",
      "3BDA           5.2995      0.858      6.177      0.000       3.616       6.983\n",
      "NDCI          -9.3845      2.941     -3.191      0.001     -15.156      -3.613\n",
      "==============================================================================\n",
      "Omnibus:                       93.651   Durbin-Watson:                   0.279\n",
      "Prob(Omnibus):                  0.000   Jarque-Bera (JB):              390.664\n",
      "Skew:                          -0.347   Prob(JB):                     1.47e-85\n",
      "Kurtosis:                       6.006   Cond. No.                         8.44\n",
      "==============================================================================\n",
      "\n",
      "Notes:\n",
      "[1] R² is computed without centering (uncentered) since the model does not contain a constant.\n",
      "[2] Standard Errors assume that the covariance matrix of the errors is correctly specified.\n"
     ]
    }
   ],
   "source": [
    "#OLS model based on two predictors (3BDA,NDCI) for (logTransformation Chl-a)/ threshold chl-a > 8\n",
    "# Extract independent variables (predictors) \n",
    "X = MergedData4[[ '3BDA' , 'NDCI']]\n",
    "\n",
    "# Extract dependent variable (prediction)\n",
    "Y = MergedData4['LnChl-a']\n",
    "\n",
    "model = OLS(Y,X)\n",
    "results = OLS(Y,X).fit()\n",
    "print(results.summary())"
   ]
  },
  {
   "cell_type": "code",
   "execution_count": null,
   "id": "af01b2ea",
   "metadata": {},
   "outputs": [],
   "source": []
  }
 ],
 "metadata": {
  "kernelspec": {
   "display_name": "Python 3 (ipykernel)",
   "language": "python",
   "name": "python3"
  },
  "language_info": {
   "codemirror_mode": {
    "name": "ipython",
    "version": 3
   },
   "file_extension": ".py",
   "mimetype": "text/x-python",
   "name": "python",
   "nbconvert_exporter": "python",
   "pygments_lexer": "ipython3",
   "version": "3.7.11"
  }
 },
 "nbformat": 4,
 "nbformat_minor": 5
}
