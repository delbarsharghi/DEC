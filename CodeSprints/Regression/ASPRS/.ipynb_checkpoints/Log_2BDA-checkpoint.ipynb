{
 "cells": [
  {
   "cell_type": "code",
   "execution_count": 69,
   "id": "3cecfed9",
   "metadata": {},
   "outputs": [],
   "source": [
    "import pandas as pd\n",
    "import numpy as np\n",
    "import matplotlib.pyplot as plt\n",
    "import statsmodels.api as sm\n",
    "import seaborn as sns\n",
    "\n",
    "from statsmodels.stats.outliers_influence import variance_inflation_factor\n",
    "from statsmodels.api import OLS\n",
    "\n",
    "from sklearn.linear_model import LinearRegression\n",
    "from sklearn.model_selection import train_test_split\n",
    "from sklearn.metrics import mean_squared_error, r2_score, mean_absolute_error"
   ]
  },
  {
   "cell_type": "code",
   "execution_count": 70,
   "id": "61c99100",
   "metadata": {},
   "outputs": [
    {
     "data": {
      "text/plain": [
       "'C:\\\\Users\\\\SarShel\\\\DEC\\\\Regression'"
      ]
     },
     "execution_count": 70,
     "metadata": {},
     "output_type": "execute_result"
    }
   ],
   "source": [
    "import os\n",
    "os.getcwd()"
   ]
  },
  {
   "cell_type": "code",
   "execution_count": 71,
   "id": "b94d0b17",
   "metadata": {},
   "outputs": [
    {
     "data": {
      "text/plain": [
       "'C:\\\\Users\\\\SarShel\\\\DEC\\\\Regression'"
      ]
     },
     "execution_count": 71,
     "metadata": {},
     "output_type": "execute_result"
    }
   ],
   "source": [
    "os.chdir('C:\\\\Users\\\\SarShel\\\\DEC\\\\Regression')\n",
    "os.getcwd()"
   ]
  },
  {
   "cell_type": "code",
   "execution_count": 72,
   "id": "fed793c1",
   "metadata": {},
   "outputs": [
    {
     "name": "stdout",
     "output_type": "stream",
     "text": [
      "       Year  Month  Day      2BDA      3BDA      NDCI        B1       B10  \\\n",
      "0      2016      5    7  0.956879 -0.044137 -0.022070  0.117900  0.002955   \n",
      "1      2016      5    7  0.956959 -0.043948 -0.022029  0.117907  0.002955   \n",
      "2      2016      5    7  1.015101  0.016830  0.007469  0.147959  0.008728   \n",
      "3      2016      5    7  0.991688 -0.008969 -0.004225  0.142645  0.007528   \n",
      "4      2016      5    7  0.881265 -0.110070 -0.063161  0.116655  0.002038   \n",
      "...     ...    ...  ...       ...       ...       ...       ...       ...   \n",
      "35028  2020     10   30  0.854190 -0.129064 -0.078726  0.152807  0.001676   \n",
      "35029  2020     10   30  1.077379  0.065607  0.035775  0.126659  0.001469   \n",
      "35030  2020     10   30  0.946243 -0.050380 -0.027911  0.134852  0.007321   \n",
      "35031  2020     10   30  0.962221 -0.039201 -0.019493  0.132445  0.007393   \n",
      "35032  2020     10   30  0.960195 -0.038782 -0.020508  0.126638  0.006003   \n",
      "\n",
      "            B11       B12  ...        B3        B4        B5        B6  \\\n",
      "0      0.016390  0.011321  ...  0.066817  0.042403  0.040572  0.041431   \n",
      "1      0.016390  0.011321  ...  0.066817  0.042400  0.040572  0.041331   \n",
      "2      0.053441  0.041969  ...  0.098893  0.080366  0.081576  0.091038   \n",
      "3      0.047441  0.035914  ...  0.095421  0.073648  0.073031  0.078548   \n",
      "4      0.007586  0.005145  ...  0.066907  0.038455  0.033886  0.031386   \n",
      "...         ...       ...  ...       ...       ...       ...       ...   \n",
      "35028  0.008662  0.005803  ...  0.070890  0.044710  0.038179  0.033731   \n",
      "35029  0.014217  0.008186  ...  0.071028  0.040410  0.043538  0.034555   \n",
      "35030  0.018221  0.015945  ...  0.070283  0.047528  0.044917  0.042248   \n",
      "35031  0.022983  0.016369  ...  0.067686  0.047010  0.045217  0.046493   \n",
      "35032  0.016324  0.011272  ...  0.062962  0.040838  0.039190  0.037914   \n",
      "\n",
      "             B7        B8       B8A        B9          X          Y  \n",
      "0      0.040707  0.035441  0.036210  0.016803 -79.726196  42.101898  \n",
      "1      0.040714  0.035441  0.036172  0.016969 -79.726196  42.101898  \n",
      "2      0.094266  0.090610  0.094869  0.046917 -79.455423  42.219885  \n",
      "3      0.079997  0.077869  0.077197  0.034931 -79.430702  42.180951  \n",
      "4      0.030362  0.024534  0.025524  0.011448 -79.363881  42.123269  \n",
      "...         ...       ...       ...       ...        ...        ...  \n",
      "35028  0.030021  0.027724  0.024259  0.012969 -76.958078  43.248531  \n",
      "35029  0.034010  0.027786  0.029086  0.020831 -76.222702  43.235401  \n",
      "35030  0.041645  0.041476  0.038621  0.031514 -75.775200  44.316502  \n",
      "35031  0.044748  0.044814  0.042314  0.030562 -75.775002  44.279800  \n",
      "35032  0.036766  0.037372  0.033231  0.022614 -75.767502  44.292198  \n",
      "\n",
      "[35033 rows x 21 columns]\n"
     ]
    }
   ],
   "source": [
    "# Read S2 dataset \n",
    "Data1 = pd.read_csv('data_raw/Indices/S2Data.csv')\n",
    "\n",
    "# Remove none values\n",
    "S2Data = Data1.dropna()\n",
    "\n",
    "# Display the first few rows of our DataFrame\n",
    "S2Data.head()\n",
    "print(S2Data)"
   ]
  },
  {
   "cell_type": "code",
   "execution_count": 73,
   "id": "4bc9ce19",
   "metadata": {},
   "outputs": [
    {
     "name": "stdout",
     "output_type": "stream",
     "text": [
      "             Lake Name          Y          X       Date  Year  Month  Day  \\\n",
      "0     Little Long Pond  40.977600 -72.296204   6/4/2016  2016      6    4   \n",
      "1       Cossayuna Lake  43.200600 -73.423401   6/3/2016  2016      6    3   \n",
      "2           Hatch Lake  42.834598 -75.677803   6/5/2016  2016      6    5   \n",
      "3      Montgomery Lake  41.525299 -74.917297   6/4/2016  2016      6    4   \n",
      "4        Lake Devenoge  41.521000 -74.839401   6/4/2016  2016      6    4   \n",
      "...                ...        ...        ...        ...   ...    ...  ...   \n",
      "6070         Long Pond  40.975102 -72.290802  7/26/2020  2020      7   26   \n",
      "6071         Long Pond  40.975102 -72.290802   8/9/2020  2020      8    9   \n",
      "6072         Long Pond  40.975102 -72.290802  8/23/2020  2020      8   23   \n",
      "6073         Long Pond  40.975102 -72.290802   9/7/2020  2020      9    7   \n",
      "6074         Long Pond  40.975102 -72.290802  9/20/2020  2020      9   20   \n",
      "\n",
      "       Chl-a  \n",
      "0      1.200  \n",
      "1      0.600  \n",
      "2      2.900  \n",
      "3      2.900  \n",
      "4      1.300  \n",
      "...      ...  \n",
      "6070   8.168  \n",
      "6071   9.048  \n",
      "6072  13.088  \n",
      "6073   7.778  \n",
      "6074  11.076  \n",
      "\n",
      "[6037 rows x 8 columns]\n"
     ]
    }
   ],
   "source": [
    "# Read Field dataset \n",
    "Data2 = pd.read_csv('data_raw/Indices/FieldData.csv')\n",
    "\n",
    "# Remove none values\n",
    "FieldData = Data2.dropna()\n",
    "\n",
    "# Display the first few rows of our DataFrame\n",
    "#FieldData.head()\n",
    "print(FieldData)"
   ]
  },
  {
   "cell_type": "code",
   "execution_count": 74,
   "id": "6d951956",
   "metadata": {},
   "outputs": [
    {
     "name": "stdout",
     "output_type": "stream",
     "text": [
      "      Year  Month  Day      2BDA      3BDA      NDCI        B1       B10  \\\n",
      "0     2016      6    7  0.951738 -0.048882 -0.024856  0.119966  0.000776   \n",
      "1     2016      6    7  0.951738 -0.048882 -0.024856  0.119966  0.000776   \n",
      "2     2016      6    7  0.954945 -0.070901 -0.023265  0.111821  0.001138   \n",
      "3     2016      6    7  0.954945 -0.070901 -0.023265  0.111821  0.001138   \n",
      "4     2016      6   10  0.975644 -0.026771 -0.012388  0.116193  0.001103   \n",
      "...    ...    ...  ...       ...       ...       ...       ...       ...   \n",
      "1482  2020      9   24  1.006182  0.007508  0.003046  0.136534  0.007655   \n",
      "1483  2020      9   27  0.985506 -0.017302 -0.007349  0.160810  0.001697   \n",
      "1484  2020      9   27  0.948135 -0.054520 -0.026673  0.270976  0.003162   \n",
      "1485  2020      9   30  0.906324 -0.089171 -0.049167  0.135859  0.001359   \n",
      "1486  2020      9   30  1.060907  0.070528  0.027154  0.190724  0.001834   \n",
      "\n",
      "           B11       B12  ...        B6        B7        B8       B8A  \\\n",
      "0     0.012669  0.008090  ...  0.038324  0.040445  0.033017  0.032786   \n",
      "1     0.012669  0.008090  ...  0.038324  0.040445  0.033017  0.032786   \n",
      "2     0.016321  0.007734  ...  0.042097  0.045834  0.039707  0.042538   \n",
      "3     0.016321  0.007734  ...  0.042097  0.045834  0.039707  0.042538   \n",
      "4     0.033817  0.025400  ...  0.054503  0.055210  0.050200  0.051345   \n",
      "...        ...       ...  ...       ...       ...       ...       ...   \n",
      "1482  0.020848  0.013324  ...  0.058293  0.062021  0.057755  0.060052   \n",
      "1483  0.012845  0.005197  ...  0.073683  0.073900  0.063172  0.064207   \n",
      "1484  0.039348  0.017483  ...  0.167121  0.164455  0.149934  0.143662   \n",
      "1485  0.013124  0.009559  ...  0.037286  0.037245  0.031593  0.031531   \n",
      "1486  0.167897  0.131503  ...  0.169790  0.176121  0.210217  0.179107   \n",
      "\n",
      "            B9          X          Y            Lake Name       Date   Chl-a  \n",
      "0     0.010493 -74.115898  41.442001     Beaver Dam Lake    6/7/2016  8.1000  \n",
      "1     0.010493 -74.115898  41.442001     Beaver Dam Lake    6/7/2016  8.1000  \n",
      "2     0.012207 -73.887703  41.373100          Indian Lake   6/7/2016  0.7000  \n",
      "3     0.012207 -73.887703  41.373100          Indian Lake   6/7/2016  0.7000  \n",
      "4     0.022500 -75.774803  42.517300     Geneganslet Lake  6/10/2016  4.0000  \n",
      "...        ...        ...        ...                  ...        ...     ...  \n",
      "1482  0.020524 -73.755524  43.830651         Schroon Lake  9/24/2020  0.2898  \n",
      "1483  0.019121 -76.515000  42.470000          Cayuga Lake  9/27/2020  2.8560  \n",
      "1484  0.043379 -75.522201  42.850201         Lake Moraine  9/27/2020  7.3620  \n",
      "1485  0.012603 -77.566902  42.492599            Loon Lake  9/30/2020  3.4640  \n",
      "1486  0.065355 -75.888603  42.810699  De Ruyter Reservoir  9/30/2020  3.2140  \n",
      "\n",
      "[1487 rows x 24 columns]\n"
     ]
    }
   ],
   "source": [
    "# Using merge function by setting how='inner'\n",
    "MergedData = pd.merge(S2Data, FieldData, on=['Y', 'X', 'Year', 'Month', 'Day'], how='inner')\n",
    "MergedData.to_csv('data_output/Log2bdaModel/MergedData.csv')\n",
    "  \n",
    "# displaying result\n",
    "print(MergedData)"
   ]
  },
  {
   "cell_type": "code",
   "execution_count": 75,
   "id": "87820ab2",
   "metadata": {},
   "outputs": [
    {
     "name": "stdout",
     "output_type": "stream",
     "text": [
      "      Year  Month  Day      2BDA      3BDA      NDCI        B1       B10  \\\n",
      "0     2016      6    7  0.951738 -0.048882 -0.024856  0.119966  0.000776   \n",
      "1     2016      6    7  0.951738 -0.048882 -0.024856  0.119966  0.000776   \n",
      "2     2016      6    7  0.954945 -0.070901 -0.023265  0.111821  0.001138   \n",
      "3     2016      6    7  0.954945 -0.070901 -0.023265  0.111821  0.001138   \n",
      "4     2016      6   10  0.975644 -0.026771 -0.012388  0.116193  0.001103   \n",
      "...    ...    ...  ...       ...       ...       ...       ...       ...   \n",
      "1482  2020      9   24  1.006182  0.007508  0.003046  0.136534  0.007655   \n",
      "1483  2020      9   27  0.985506 -0.017302 -0.007349  0.160810  0.001697   \n",
      "1484  2020      9   27  0.948135 -0.054520 -0.026673  0.270976  0.003162   \n",
      "1485  2020      9   30  0.906324 -0.089171 -0.049167  0.135859  0.001359   \n",
      "1486  2020      9   30  1.060907  0.070528  0.027154  0.190724  0.001834   \n",
      "\n",
      "           B11       B12  ...        B7        B8       B8A        B9  \\\n",
      "0     0.012669  0.008090  ...  0.040445  0.033017  0.032786  0.010493   \n",
      "1     0.012669  0.008090  ...  0.040445  0.033017  0.032786  0.010493   \n",
      "2     0.016321  0.007734  ...  0.045834  0.039707  0.042538  0.012207   \n",
      "3     0.016321  0.007734  ...  0.045834  0.039707  0.042538  0.012207   \n",
      "4     0.033817  0.025400  ...  0.055210  0.050200  0.051345  0.022500   \n",
      "...        ...       ...  ...       ...       ...       ...       ...   \n",
      "1482  0.020848  0.013324  ...  0.062021  0.057755  0.060052  0.020524   \n",
      "1483  0.012845  0.005197  ...  0.073900  0.063172  0.064207  0.019121   \n",
      "1484  0.039348  0.017483  ...  0.164455  0.149934  0.143662  0.043379   \n",
      "1485  0.013124  0.009559  ...  0.037245  0.031593  0.031531  0.012603   \n",
      "1486  0.167897  0.131503  ...  0.176121  0.210217  0.179107  0.065355   \n",
      "\n",
      "              X          Y            Lake Name       Date   Chl-a   LnChl-a  \n",
      "0    -74.115898  41.442001     Beaver Dam Lake    6/7/2016  8.1000  2.091864  \n",
      "1    -74.115898  41.442001     Beaver Dam Lake    6/7/2016  8.1000  2.091864  \n",
      "2    -73.887703  41.373100          Indian Lake   6/7/2016  0.7000 -0.356675  \n",
      "3    -73.887703  41.373100          Indian Lake   6/7/2016  0.7000 -0.356675  \n",
      "4    -75.774803  42.517300     Geneganslet Lake  6/10/2016  4.0000  1.386294  \n",
      "...         ...        ...                  ...        ...     ...       ...  \n",
      "1482 -73.755524  43.830651         Schroon Lake  9/24/2020  0.2898 -1.238564  \n",
      "1483 -76.515000  42.470000          Cayuga Lake  9/27/2020  2.8560  1.049422  \n",
      "1484 -75.522201  42.850201         Lake Moraine  9/27/2020  7.3620  1.996332  \n",
      "1485 -77.566902  42.492599            Loon Lake  9/30/2020  3.4640  1.242424  \n",
      "1486 -75.888603  42.810699  De Ruyter Reservoir  9/30/2020  3.2140  1.167516  \n",
      "\n",
      "[1487 rows x 25 columns]\n"
     ]
    }
   ],
   "source": [
    "# Return the natural logarithm of Chl-a (Y)\n",
    "MergedData['LnChl-a']=np.log(MergedData['Chl-a'])\n",
    "print(MergedData)"
   ]
  },
  {
   "cell_type": "code",
   "execution_count": 76,
   "id": "f68dfb6b",
   "metadata": {},
   "outputs": [
    {
     "data": {
      "text/html": [
       "<div>\n",
       "<style scoped>\n",
       "    .dataframe tbody tr th:only-of-type {\n",
       "        vertical-align: middle;\n",
       "    }\n",
       "\n",
       "    .dataframe tbody tr th {\n",
       "        vertical-align: top;\n",
       "    }\n",
       "\n",
       "    .dataframe thead th {\n",
       "        text-align: right;\n",
       "    }\n",
       "</style>\n",
       "<table border=\"1\" class=\"dataframe\">\n",
       "  <thead>\n",
       "    <tr style=\"text-align: right;\">\n",
       "      <th></th>\n",
       "      <th>2BDA</th>\n",
       "      <th>LnChl-a</th>\n",
       "    </tr>\n",
       "  </thead>\n",
       "  <tbody>\n",
       "    <tr>\n",
       "      <th>count</th>\n",
       "      <td>1487.000000</td>\n",
       "      <td>1487.000000</td>\n",
       "    </tr>\n",
       "    <tr>\n",
       "      <th>mean</th>\n",
       "      <td>0.995474</td>\n",
       "      <td>1.502210</td>\n",
       "    </tr>\n",
       "    <tr>\n",
       "      <th>std</th>\n",
       "      <td>0.132150</td>\n",
       "      <td>1.279814</td>\n",
       "    </tr>\n",
       "    <tr>\n",
       "      <th>min</th>\n",
       "      <td>0.406412</td>\n",
       "      <td>-2.995732</td>\n",
       "    </tr>\n",
       "    <tr>\n",
       "      <th>25%</th>\n",
       "      <td>0.916918</td>\n",
       "      <td>0.641854</td>\n",
       "    </tr>\n",
       "    <tr>\n",
       "      <th>50%</th>\n",
       "      <td>0.966684</td>\n",
       "      <td>1.360977</td>\n",
       "    </tr>\n",
       "    <tr>\n",
       "      <th>75%</th>\n",
       "      <td>1.048701</td>\n",
       "      <td>2.301784</td>\n",
       "    </tr>\n",
       "    <tr>\n",
       "      <th>max</th>\n",
       "      <td>2.165665</td>\n",
       "      <td>5.113793</td>\n",
       "    </tr>\n",
       "    <tr>\n",
       "      <th>+3_std</th>\n",
       "      <td>1.391925</td>\n",
       "      <td>5.341652</td>\n",
       "    </tr>\n",
       "    <tr>\n",
       "      <th>-3_std</th>\n",
       "      <td>0.599024</td>\n",
       "      <td>-2.337232</td>\n",
       "    </tr>\n",
       "  </tbody>\n",
       "</table>\n",
       "</div>"
      ],
      "text/plain": [
       "               2BDA      LnChl-a\n",
       "count   1487.000000  1487.000000\n",
       "mean       0.995474     1.502210\n",
       "std        0.132150     1.279814\n",
       "min        0.406412    -2.995732\n",
       "25%        0.916918     0.641854\n",
       "50%        0.966684     1.360977\n",
       "75%        1.048701     2.301784\n",
       "max        2.165665     5.113793\n",
       "+3_std     1.391925     5.341652\n",
       "-3_std     0.599024    -2.337232"
      ]
     },
     "execution_count": 76,
     "metadata": {},
     "output_type": "execute_result"
    }
   ],
   "source": [
    "# Descriptive statistics of all variables\n",
    "list = ['2BDA', 'LnChl-a']\n",
    "\n",
    "# get the summary\n",
    "desc_mergeddata = MergedData [list].describe()\n",
    "\n",
    "# add the standard deviation metric\n",
    "desc_mergeddata.loc['+3_std'] = desc_mergeddata.loc['mean'] + (desc_mergeddata.loc['std'] * 3)\n",
    "desc_mergeddata.loc['-3_std'] = desc_mergeddata.loc['mean'] - (desc_mergeddata.loc['std'] * 3)\n",
    "\n",
    "# display it\n",
    "desc_mergeddata"
   ]
  },
  {
   "cell_type": "code",
   "execution_count": 77,
   "id": "ba28fba8",
   "metadata": {},
   "outputs": [
    {
     "data": {
      "text/html": [
       "<div>\n",
       "<style scoped>\n",
       "    .dataframe tbody tr th:only-of-type {\n",
       "        vertical-align: middle;\n",
       "    }\n",
       "\n",
       "    .dataframe tbody tr th {\n",
       "        vertical-align: top;\n",
       "    }\n",
       "\n",
       "    .dataframe thead th {\n",
       "        text-align: right;\n",
       "    }\n",
       "</style>\n",
       "<table border=\"1\" class=\"dataframe\">\n",
       "  <thead>\n",
       "    <tr style=\"text-align: right;\">\n",
       "      <th></th>\n",
       "      <th>2BDA</th>\n",
       "      <th>LnChl-a</th>\n",
       "    </tr>\n",
       "  </thead>\n",
       "  <tbody>\n",
       "    <tr>\n",
       "      <th>2BDA</th>\n",
       "      <td>1.000000</td>\n",
       "      <td>0.260471</td>\n",
       "    </tr>\n",
       "    <tr>\n",
       "      <th>LnChl-a</th>\n",
       "      <td>0.260471</td>\n",
       "      <td>1.000000</td>\n",
       "    </tr>\n",
       "  </tbody>\n",
       "</table>\n",
       "</div>"
      ],
      "text/plain": [
       "             2BDA   LnChl-a\n",
       "2BDA     1.000000  0.260471\n",
       "LnChl-a  0.260471  1.000000"
      ]
     },
     "metadata": {},
     "output_type": "display_data"
    }
   ],
   "source": [
    "# Pearson Coefficient \n",
    "corr = MergedData[list].corr(method='pearson')\n",
    "\n",
    "# display the correlation matrix\n",
    "display(corr)"
   ]
  },
  {
   "cell_type": "code",
   "execution_count": 78,
   "id": "9957fdaf",
   "metadata": {},
   "outputs": [
    {
     "data": {
      "text/plain": [
       "<seaborn.axisgrid.PairGrid at 0x2004e650348>"
      ]
     },
     "execution_count": 78,
     "metadata": {},
     "output_type": "execute_result"
    },
    {
     "data": {
      "image/png": "[encoded data removed]",
      "text/plain": [
       "<Figure size 360x360 with 6 Axes>"
      ]
     },
     "metadata": {
      "needs_background": "light"
     },
     "output_type": "display_data"
    }
   ],
   "source": [
    "# Scatter plot for each variable in our dataset against another variable\n",
    "sns.pairplot(MergedData[list])"
   ]
  },
  {
   "cell_type": "code",
   "execution_count": 79,
   "id": "3dd70ce5",
   "metadata": {},
   "outputs": [
    {
     "name": "stdout",
     "output_type": "stream",
     "text": [
      "                                 OLS Regression Results                                \n",
      "=======================================================================================\n",
      "Dep. Variable:                LnChl-a   R-squared (uncentered):                   0.605\n",
      "Model:                            OLS   Adj. R-squared (uncentered):              0.604\n",
      "Method:                 Least Squares   F-statistic:                              1590.\n",
      "Date:                Fri, 25 Feb 2022   Prob (F-statistic):                   1.05e-211\n",
      "Time:                        12:52:29   Log-Likelihood:                         -1707.6\n",
      "No. Observations:                1040   AIC:                                      3417.\n",
      "Df Residuals:                    1039   BIC:                                      3422.\n",
      "Df Model:                           1                                                  \n",
      "Covariance Type:            nonrobust                                                  \n",
      "==============================================================================\n",
      "                 coef    std err          t      P>|t|      [0.025      0.975]\n",
      "------------------------------------------------------------------------------\n",
      "2BDA           1.5322      0.038     39.879      0.000       1.457       1.608\n",
      "==============================================================================\n",
      "Omnibus:                        7.261   Durbin-Watson:                   1.938\n",
      "Prob(Omnibus):                  0.026   Jarque-Bera (JB):                9.484\n",
      "Skew:                          -0.051   Prob(JB):                      0.00872\n",
      "Kurtosis:                       3.456   Cond. No.                         1.00\n",
      "==============================================================================\n",
      "\n",
      "Notes:\n",
      "[1] R² is computed without centering (uncentered) since the model does not contain a constant.\n",
      "[2] Standard Errors assume that the covariance matrix of the errors is correctly specified.\n"
     ]
    }
   ],
   "source": [
    "X_columns = [\"2BDA\"]\n",
    "\n",
    "# Extract independent variables (X) & dependent variable (Y)\n",
    "X = MergedData[X_columns]\n",
    "Y = MergedData['LnChl-a']\n",
    "\n",
    "# Split X and Y into train and test \n",
    "X_train, X_test, Y_train, Y_test = train_test_split(X, Y, test_size=0.30, random_state=1)\n",
    "\n",
    "# Create a Linear Regression model object\n",
    "regression_model = OLS(Y_train,X_train)\n",
    "result = OLS(Y_train,X_train).fit()\n",
    "print(result.summary())"
   ]
  },
  {
   "cell_type": "code",
   "execution_count": 80,
   "id": "0390256f",
   "metadata": {},
   "outputs": [
    {
     "name": "stdout",
     "output_type": "stream",
     "text": [
      "Natural logarithm of predicted Y: 91      1.365006\n",
      "1102    1.253376\n",
      "1237    1.426037\n",
      "683     1.525390\n",
      "561     1.469511\n",
      "          ...   \n",
      "154     1.844800\n",
      "639     1.696643\n",
      "768     1.472618\n",
      "821     1.378345\n",
      "1006    2.054440\n",
      "Length: 447, dtype: float64\n"
     ]
    }
   ],
   "source": [
    "# Get predictions\n",
    "LnY_predict = result.predict(X_test)\n",
    "print('Natural logarithm of predicted Y:', LnY_predict)"
   ]
  },
  {
   "cell_type": "code",
   "execution_count": 81,
   "id": "1b5a544d",
   "metadata": {},
   "outputs": [
    {
     "name": "stdout",
     "output_type": "stream",
     "text": [
      "MSE 11.9\n",
      "MAE 3.15\n",
      "RMSE 3.45\n"
     ]
    }
   ],
   "source": [
    "import math\n",
    "\n",
    "Y_predict = np.exp(LnY_predict)\n",
    "\n",
    "# Calculate the mean squared error\n",
    "model_mse = mean_squared_error(Y_test, Y_predict)\n",
    "\n",
    "# Calculate the mean absolute error\n",
    "model_mae = mean_absolute_error(Y_test, Y_predict)\n",
    "\n",
    "# Calulcate the root mean squared error\n",
    "model_rmse =  math.sqrt(model_mse)\n",
    "\n",
    "# Display the output\n",
    "print(\"MSE {:.3}\".format(model_mse))\n",
    "print(\"MAE {:.3}\".format(model_mae))\n",
    "print(\"RMSE {:.3}\".format(model_rmse))"
   ]
  },
  {
   "cell_type": "code",
   "execution_count": 82,
   "id": "09febd2e",
   "metadata": {},
   "outputs": [
    {
     "data": {
      "image/png": "[encoded data removed]",
      "text/plain": [
       "<Figure size 432x288 with 1 Axes>"
      ]
     },
     "metadata": {
      "needs_background": "light"
     },
     "output_type": "display_data"
    },
    {
     "name": "stdout",
     "output_type": "stream",
     "text": [
      "The mean of the residuals is -0.01385\n"
     ]
    }
   ],
   "source": [
    "import pylab\n",
    "\n",
    "# check for the normality of the residuals\n",
    "sm.qqplot(result.resid, line='s')\n",
    "pylab.show()\n",
    "\n",
    "# also check that the mean of the residuals is approx. 0.\n",
    "mean_residuals = sum(result.resid)/ len(result.resid)\n",
    "print(\"The mean of the residuals is {:.4}\".format(mean_residuals))"
   ]
  },
  {
   "cell_type": "code",
   "execution_count": 83,
   "id": "a177e806",
   "metadata": {},
   "outputs": [
    {
     "data": {
      "text/plain": [
       "(1270, 25)"
      ]
     },
     "execution_count": 83,
     "metadata": {},
     "output_type": "execute_result"
    }
   ],
   "source": [
    "# MergedData: Threshold  Chl-a < 2\n",
    "MergedData1 = MergedData.loc[(MergedData[\"LnChl-a\"] > 0.30103)]\n",
    "MergedData1.shape"
   ]
  },
  {
   "cell_type": "code",
   "execution_count": 84,
   "id": "5bdbfed2",
   "metadata": {},
   "outputs": [
    {
     "data": {
      "text/html": [
       "<div>\n",
       "<style scoped>\n",
       "    .dataframe tbody tr th:only-of-type {\n",
       "        vertical-align: middle;\n",
       "    }\n",
       "\n",
       "    .dataframe tbody tr th {\n",
       "        vertical-align: top;\n",
       "    }\n",
       "\n",
       "    .dataframe thead th {\n",
       "        text-align: right;\n",
       "    }\n",
       "</style>\n",
       "<table border=\"1\" class=\"dataframe\">\n",
       "  <thead>\n",
       "    <tr style=\"text-align: right;\">\n",
       "      <th></th>\n",
       "      <th>2BDA</th>\n",
       "      <th>LnChl-a</th>\n",
       "    </tr>\n",
       "  </thead>\n",
       "  <tbody>\n",
       "    <tr>\n",
       "      <th>count</th>\n",
       "      <td>1270.000000</td>\n",
       "      <td>1270.000000</td>\n",
       "    </tr>\n",
       "    <tr>\n",
       "      <th>mean</th>\n",
       "      <td>0.998089</td>\n",
       "      <td>1.816260</td>\n",
       "    </tr>\n",
       "    <tr>\n",
       "      <th>std</th>\n",
       "      <td>0.132449</td>\n",
       "      <td>1.073750</td>\n",
       "    </tr>\n",
       "    <tr>\n",
       "      <th>min</th>\n",
       "      <td>0.406412</td>\n",
       "      <td>0.302472</td>\n",
       "    </tr>\n",
       "    <tr>\n",
       "      <th>25%</th>\n",
       "      <td>0.917081</td>\n",
       "      <td>0.946238</td>\n",
       "    </tr>\n",
       "    <tr>\n",
       "      <th>50%</th>\n",
       "      <td>0.971714</td>\n",
       "      <td>1.606031</td>\n",
       "    </tr>\n",
       "    <tr>\n",
       "      <th>75%</th>\n",
       "      <td>1.054672</td>\n",
       "      <td>2.483189</td>\n",
       "    </tr>\n",
       "    <tr>\n",
       "      <th>max</th>\n",
       "      <td>2.165665</td>\n",
       "      <td>5.113793</td>\n",
       "    </tr>\n",
       "    <tr>\n",
       "      <th>+3_std</th>\n",
       "      <td>1.395436</td>\n",
       "      <td>5.037510</td>\n",
       "    </tr>\n",
       "    <tr>\n",
       "      <th>-3_std</th>\n",
       "      <td>0.600742</td>\n",
       "      <td>-1.404990</td>\n",
       "    </tr>\n",
       "  </tbody>\n",
       "</table>\n",
       "</div>"
      ],
      "text/plain": [
       "               2BDA      LnChl-a\n",
       "count   1270.000000  1270.000000\n",
       "mean       0.998089     1.816260\n",
       "std        0.132449     1.073750\n",
       "min        0.406412     0.302472\n",
       "25%        0.917081     0.946238\n",
       "50%        0.971714     1.606031\n",
       "75%        1.054672     2.483189\n",
       "max        2.165665     5.113793\n",
       "+3_std     1.395436     5.037510\n",
       "-3_std     0.600742    -1.404990"
      ]
     },
     "execution_count": 84,
     "metadata": {},
     "output_type": "execute_result"
    }
   ],
   "source": [
    "# get the summary\n",
    "desc_mergeddata1 = MergedData1 [list].describe()\n",
    "\n",
    "# add the standard deviation metric\n",
    "desc_mergeddata1.loc['+3_std'] = desc_mergeddata1.loc['mean'] + (desc_mergeddata1.loc['std'] * 3)\n",
    "desc_mergeddata1.loc['-3_std'] = desc_mergeddata1.loc['mean'] - (desc_mergeddata1.loc['std'] * 3)\n",
    "\n",
    "# display it\n",
    "desc_mergeddata1"
   ]
  },
  {
   "cell_type": "code",
   "execution_count": 85,
   "id": "4118bad4",
   "metadata": {},
   "outputs": [
    {
     "data": {
      "text/html": [
       "<div>\n",
       "<style scoped>\n",
       "    .dataframe tbody tr th:only-of-type {\n",
       "        vertical-align: middle;\n",
       "    }\n",
       "\n",
       "    .dataframe tbody tr th {\n",
       "        vertical-align: top;\n",
       "    }\n",
       "\n",
       "    .dataframe thead th {\n",
       "        text-align: right;\n",
       "    }\n",
       "</style>\n",
       "<table border=\"1\" class=\"dataframe\">\n",
       "  <thead>\n",
       "    <tr style=\"text-align: right;\">\n",
       "      <th></th>\n",
       "      <th>2BDA</th>\n",
       "      <th>LnChl-a</th>\n",
       "    </tr>\n",
       "  </thead>\n",
       "  <tbody>\n",
       "    <tr>\n",
       "      <th>2BDA</th>\n",
       "      <td>1.000000</td>\n",
       "      <td>0.332306</td>\n",
       "    </tr>\n",
       "    <tr>\n",
       "      <th>LnChl-a</th>\n",
       "      <td>0.332306</td>\n",
       "      <td>1.000000</td>\n",
       "    </tr>\n",
       "  </tbody>\n",
       "</table>\n",
       "</div>"
      ],
      "text/plain": [
       "             2BDA   LnChl-a\n",
       "2BDA     1.000000  0.332306\n",
       "LnChl-a  0.332306  1.000000"
      ]
     },
     "metadata": {},
     "output_type": "display_data"
    }
   ],
   "source": [
    "# Pearson Coefficient \n",
    "corr1 = MergedData1[list].corr(method='pearson')\n",
    "\n",
    "# display the correlation matrix\n",
    "display(corr1)"
   ]
  },
  {
   "cell_type": "code",
   "execution_count": 86,
   "id": "ba1128fc",
   "metadata": {},
   "outputs": [
    {
     "data": {
      "text/plain": [
       "<seaborn.axisgrid.PairGrid at 0x2004d2c6808>"
      ]
     },
     "execution_count": 86,
     "metadata": {},
     "output_type": "execute_result"
    },
    {
     "data": {
      "image/png": "[encoded data removed]",
      "text/plain": [
       "<Figure size 360x360 with 6 Axes>"
      ]
     },
     "metadata": {
      "needs_background": "light"
     },
     "output_type": "display_data"
    }
   ],
   "source": [
    "# Scatter plot for each variable in our dataset against another variable\n",
    "sns.pairplot(MergedData1[list])"
   ]
  },
  {
   "cell_type": "code",
   "execution_count": 87,
   "id": "465097b2",
   "metadata": {},
   "outputs": [
    {
     "name": "stdout",
     "output_type": "stream",
     "text": [
      "                                 OLS Regression Results                                \n",
      "=======================================================================================\n",
      "Dep. Variable:                LnChl-a   R-squared (uncentered):                   0.765\n",
      "Model:                            OLS   Adj. R-squared (uncentered):              0.765\n",
      "Method:                 Least Squares   F-statistic:                              2896.\n",
      "Date:                Fri, 25 Feb 2022   Prob (F-statistic):                   8.94e-282\n",
      "Time:                        12:53:09   Log-Likelihood:                         -1288.2\n",
      "No. Observations:                 889   AIC:                                      2578.\n",
      "Df Residuals:                     888   BIC:                                      2583.\n",
      "Df Model:                           1                                                  \n",
      "Covariance Type:            nonrobust                                                  \n",
      "==============================================================================\n",
      "                 coef    std err          t      P>|t|      [0.025      0.975]\n",
      "------------------------------------------------------------------------------\n",
      "2BDA           1.8512      0.034     53.818      0.000       1.784       1.919\n",
      "==============================================================================\n",
      "Omnibus:                       49.442   Durbin-Watson:                   2.013\n",
      "Prob(Omnibus):                  0.000   Jarque-Bera (JB):               53.777\n",
      "Skew:                           0.579   Prob(JB):                     2.10e-12\n",
      "Kurtosis:                       2.664   Cond. No.                         1.00\n",
      "==============================================================================\n",
      "\n",
      "Notes:\n",
      "[1] R² is computed without centering (uncentered) since the model does not contain a constant.\n",
      "[2] Standard Errors assume that the covariance matrix of the errors is correctly specified.\n"
     ]
    }
   ],
   "source": [
    "# Extract independent variables (X) & dependent variable (Y)\n",
    "X = MergedData1[X_columns]\n",
    "Y = MergedData1['LnChl-a']\n",
    "\n",
    "# Split X and Y into train and test \n",
    "X_train, X_test, Y_train, Y_test = train_test_split(X, Y, test_size=0.30, random_state=1)\n",
    "\n",
    "# Create a Linear Regression model object\n",
    "regression_model = OLS(Y_train,X_train)\n",
    "result = OLS(Y_train,X_train).fit()\n",
    "print(result.summary())"
   ]
  },
  {
   "cell_type": "code",
   "execution_count": 88,
   "id": "4daa683f",
   "metadata": {},
   "outputs": [
    {
     "name": "stdout",
     "output_type": "stream",
     "text": [
      "Natural logarithm of predicted Y: 1178    1.780049\n",
      "257     1.782973\n",
      "712     1.789557\n",
      "469     1.871883\n",
      "1234    2.069158\n",
      "          ...   \n",
      "346     2.110333\n",
      "773     1.639467\n",
      "433     1.648193\n",
      "946     1.734565\n",
      "1297    1.674739\n",
      "Length: 381, dtype: float64\n"
     ]
    }
   ],
   "source": [
    "# Get predictions\n",
    "LnY_predict = result.predict(X_test)\n",
    "print('Natural logarithm of predicted Y:', LnY_predict)"
   ]
  },
  {
   "cell_type": "code",
   "execution_count": 89,
   "id": "4db08a53",
   "metadata": {},
   "outputs": [
    {
     "name": "stdout",
     "output_type": "stream",
     "text": [
      "MSE 29.6\n",
      "MAE 4.87\n",
      "RMSE 5.44\n"
     ]
    }
   ],
   "source": [
    "import math\n",
    "\n",
    "Y_predict = np.exp(LnY_predict)\n",
    "\n",
    "# Calculate the mean squared error\n",
    "model_mse = mean_squared_error(Y_test, Y_predict)\n",
    "\n",
    "# Calculate the mean absolute error\n",
    "model_mae = mean_absolute_error(Y_test, Y_predict)\n",
    "\n",
    "# Calulcate the root mean squared error\n",
    "model_rmse =  math.sqrt(model_mse)\n",
    "\n",
    "# Display the output\n",
    "print(\"MSE {:.3}\".format(model_mse))\n",
    "print(\"MAE {:.3}\".format(model_mae))\n",
    "print(\"RMSE {:.3}\".format(model_rmse))"
   ]
  },
  {
   "cell_type": "code",
   "execution_count": 90,
   "id": "0c922d3b",
   "metadata": {},
   "outputs": [
    {
     "data": {
      "image/png": "[encoded data removed]",
      "text/plain": [
       "<Figure size 432x288 with 1 Axes>"
      ]
     },
     "metadata": {
      "needs_background": "light"
     },
     "output_type": "display_data"
    },
    {
     "name": "stdout",
     "output_type": "stream",
     "text": [
      "The mean of the residuals is -0.01289\n"
     ]
    }
   ],
   "source": [
    "import pylab\n",
    "\n",
    "# check for the normality of the residuals\n",
    "sm.qqplot(result.resid, line='s')\n",
    "pylab.show()\n",
    "\n",
    "# also check that the mean of the residuals is approx. 0.\n",
    "mean_residuals = sum(result.resid)/ len(result.resid)\n",
    "print(\"The mean of the residuals is {:.4}\".format(mean_residuals))"
   ]
  },
  {
   "cell_type": "code",
   "execution_count": 91,
   "id": "73212e38",
   "metadata": {},
   "outputs": [
    {
     "data": {
      "text/plain": [
       "(985, 25)"
      ]
     },
     "execution_count": 91,
     "metadata": {},
     "output_type": "execute_result"
    }
   ],
   "source": [
    "# MergedData: Threshold  Chl-a > 8\n",
    "MergedData2 = MergedData.loc[(MergedData[\"LnChl-a\"] > 0.9031)]\n",
    "MergedData2.shape"
   ]
  },
  {
   "cell_type": "code",
   "execution_count": 92,
   "id": "8fb9b066",
   "metadata": {},
   "outputs": [
    {
     "data": {
      "text/html": [
       "<div>\n",
       "<style scoped>\n",
       "    .dataframe tbody tr th:only-of-type {\n",
       "        vertical-align: middle;\n",
       "    }\n",
       "\n",
       "    .dataframe tbody tr th {\n",
       "        vertical-align: top;\n",
       "    }\n",
       "\n",
       "    .dataframe thead th {\n",
       "        text-align: right;\n",
       "    }\n",
       "</style>\n",
       "<table border=\"1\" class=\"dataframe\">\n",
       "  <thead>\n",
       "    <tr style=\"text-align: right;\">\n",
       "      <th></th>\n",
       "      <th>2BDA</th>\n",
       "      <th>LnChl-a</th>\n",
       "    </tr>\n",
       "  </thead>\n",
       "  <tbody>\n",
       "    <tr>\n",
       "      <th>count</th>\n",
       "      <td>985.000000</td>\n",
       "      <td>985.000000</td>\n",
       "    </tr>\n",
       "    <tr>\n",
       "      <th>mean</th>\n",
       "      <td>1.007633</td>\n",
       "      <td>2.165318</td>\n",
       "    </tr>\n",
       "    <tr>\n",
       "      <th>std</th>\n",
       "      <td>0.140114</td>\n",
       "      <td>0.966410</td>\n",
       "    </tr>\n",
       "    <tr>\n",
       "      <th>min</th>\n",
       "      <td>0.406412</td>\n",
       "      <td>0.904218</td>\n",
       "    </tr>\n",
       "    <tr>\n",
       "      <th>25%</th>\n",
       "      <td>0.922727</td>\n",
       "      <td>1.373716</td>\n",
       "    </tr>\n",
       "    <tr>\n",
       "      <th>50%</th>\n",
       "      <td>0.980122</td>\n",
       "      <td>1.931521</td>\n",
       "    </tr>\n",
       "    <tr>\n",
       "      <th>75%</th>\n",
       "      <td>1.062574</td>\n",
       "      <td>2.788462</td>\n",
       "    </tr>\n",
       "    <tr>\n",
       "      <th>max</th>\n",
       "      <td>2.165665</td>\n",
       "      <td>5.113793</td>\n",
       "    </tr>\n",
       "    <tr>\n",
       "      <th>+3_std</th>\n",
       "      <td>1.427975</td>\n",
       "      <td>5.064548</td>\n",
       "    </tr>\n",
       "    <tr>\n",
       "      <th>-3_std</th>\n",
       "      <td>0.587291</td>\n",
       "      <td>-0.733912</td>\n",
       "    </tr>\n",
       "  </tbody>\n",
       "</table>\n",
       "</div>"
      ],
      "text/plain": [
       "              2BDA     LnChl-a\n",
       "count   985.000000  985.000000\n",
       "mean      1.007633    2.165318\n",
       "std       0.140114    0.966410\n",
       "min       0.406412    0.904218\n",
       "25%       0.922727    1.373716\n",
       "50%       0.980122    1.931521\n",
       "75%       1.062574    2.788462\n",
       "max       2.165665    5.113793\n",
       "+3_std    1.427975    5.064548\n",
       "-3_std    0.587291   -0.733912"
      ]
     },
     "execution_count": 92,
     "metadata": {},
     "output_type": "execute_result"
    }
   ],
   "source": [
    "# get the summary\n",
    "desc_mergeddata2 = MergedData2 [list].describe()\n",
    "\n",
    "# add the standard deviation metric\n",
    "desc_mergeddata2.loc['+3_std'] = desc_mergeddata2.loc['mean'] + (desc_mergeddata2.loc['std'] * 3)\n",
    "desc_mergeddata2.loc['-3_std'] = desc_mergeddata2.loc['mean'] - (desc_mergeddata2.loc['std'] * 3)\n",
    "\n",
    "# display it\n",
    "desc_mergeddata2"
   ]
  },
  {
   "cell_type": "code",
   "execution_count": 93,
   "id": "343d062b",
   "metadata": {},
   "outputs": [
    {
     "data": {
      "text/html": [
       "<div>\n",
       "<style scoped>\n",
       "    .dataframe tbody tr th:only-of-type {\n",
       "        vertical-align: middle;\n",
       "    }\n",
       "\n",
       "    .dataframe tbody tr th {\n",
       "        vertical-align: top;\n",
       "    }\n",
       "\n",
       "    .dataframe thead th {\n",
       "        text-align: right;\n",
       "    }\n",
       "</style>\n",
       "<table border=\"1\" class=\"dataframe\">\n",
       "  <thead>\n",
       "    <tr style=\"text-align: right;\">\n",
       "      <th></th>\n",
       "      <th>2BDA</th>\n",
       "      <th>LnChl-a</th>\n",
       "    </tr>\n",
       "  </thead>\n",
       "  <tbody>\n",
       "    <tr>\n",
       "      <th>2BDA</th>\n",
       "      <td>1.000000</td>\n",
       "      <td>0.341087</td>\n",
       "    </tr>\n",
       "    <tr>\n",
       "      <th>LnChl-a</th>\n",
       "      <td>0.341087</td>\n",
       "      <td>1.000000</td>\n",
       "    </tr>\n",
       "  </tbody>\n",
       "</table>\n",
       "</div>"
      ],
      "text/plain": [
       "             2BDA   LnChl-a\n",
       "2BDA     1.000000  0.341087\n",
       "LnChl-a  0.341087  1.000000"
      ]
     },
     "metadata": {},
     "output_type": "display_data"
    }
   ],
   "source": [
    "# Pearson Coefficient \n",
    "corr2 = MergedData2[list].corr(method='pearson')\n",
    "\n",
    "# display the correlation matrix\n",
    "display(corr2)"
   ]
  },
  {
   "cell_type": "code",
   "execution_count": 94,
   "id": "c2bd25e0",
   "metadata": {},
   "outputs": [
    {
     "data": {
      "text/plain": [
       "<seaborn.axisgrid.PairGrid at 0x2004bccbe88>"
      ]
     },
     "execution_count": 94,
     "metadata": {},
     "output_type": "execute_result"
    },
    {
     "data": {
      "image/png": "[encoded data removed]",
      "text/plain": [
       "<Figure size 360x360 with 6 Axes>"
      ]
     },
     "metadata": {
      "needs_background": "light"
     },
     "output_type": "display_data"
    }
   ],
   "source": [
    "# Scatter plot for each variable in our dataset against another variable\n",
    "sns.pairplot(MergedData2[list])"
   ]
  },
  {
   "cell_type": "code",
   "execution_count": 100,
   "id": "5c778788",
   "metadata": {},
   "outputs": [
    {
     "name": "stdout",
     "output_type": "stream",
     "text": [
      "                                 OLS Regression Results                                \n",
      "=======================================================================================\n",
      "Dep. Variable:                LnChl-a   R-squared (uncentered):                   0.857\n",
      "Model:                            OLS   Adj. R-squared (uncentered):              0.857\n",
      "Method:                 Least Squares   F-statistic:                              4125.\n",
      "Date:                Fri, 25 Feb 2022   Prob (F-statistic):                   7.78e-293\n",
      "Time:                        12:54:41   Log-Likelihood:                         -890.61\n",
      "No. Observations:                 689   AIC:                                      1783.\n",
      "Df Residuals:                     688   BIC:                                      1788.\n",
      "Df Model:                           1                                                  \n",
      "Covariance Type:            nonrobust                                                  \n",
      "==============================================================================\n",
      "                 coef    std err          t      P>|t|      [0.025      0.975]\n",
      "------------------------------------------------------------------------------\n",
      "2BDA           2.1477      0.033     64.227      0.000       2.082       2.213\n",
      "==============================================================================\n",
      "Omnibus:                       32.540   Durbin-Watson:                   2.058\n",
      "Prob(Omnibus):                  0.000   Jarque-Bera (JB):               36.416\n",
      "Skew:                           0.563   Prob(JB):                     1.24e-08\n",
      "Kurtosis:                       2.957   Cond. No.                         1.00\n",
      "==============================================================================\n",
      "\n",
      "Notes:\n",
      "[1] R² is computed without centering (uncentered) since the model does not contain a constant.\n",
      "[2] Standard Errors assume that the covariance matrix of the errors is correctly specified.\n"
     ]
    }
   ],
   "source": [
    "# Extract independent variables (X) & dependent variable (Y)\n",
    "X = MergedData2[X_columns]\n",
    "Y = MergedData2['LnChl-a']\n",
    "\n",
    "# Split X and Y into train and test \n",
    "X_train, X_test, Y_train, Y_test = train_test_split(X, Y, test_size=0.30, random_state=1)\n",
    "\n",
    "# Create a Linear Regression model object\n",
    "regression_model = OLS(Y_train,X_train)\n",
    "result = OLS(Y_train,X_train).fit()\n",
    "print(result.summary())"
   ]
  },
  {
   "cell_type": "code",
   "execution_count": 101,
   "id": "8d55e6ee",
   "metadata": {},
   "outputs": [
    {
     "name": "stdout",
     "output_type": "stream",
     "text": [
      "Natural logarithm of predicted Y: 1446    2.101031\n",
      "404     2.055947\n",
      "750     1.921902\n",
      "1236    2.017295\n",
      "1108    2.103930\n",
      "          ...   \n",
      "688     2.205576\n",
      "651     1.772822\n",
      "121     3.925631\n",
      "634     2.272326\n",
      "1179    2.043168\n",
      "Length: 296, dtype: float64\n"
     ]
    }
   ],
   "source": [
    "# Get predictions\n",
    "LnY_predict = result.predict(X_test)\n",
    "print('Natural logarithm of predicted Y:', LnY_predict)"
   ]
  },
  {
   "cell_type": "code",
   "execution_count": 102,
   "id": "03c274a9",
   "metadata": {},
   "outputs": [
    {
     "name": "stdout",
     "output_type": "stream",
     "text": [
      "MSE 1.16e+02\n",
      "MAE 7.88\n",
      "RMSE 10.8\n"
     ]
    }
   ],
   "source": [
    "import math\n",
    "\n",
    "Y_predict = np.exp(LnY_predict)\n",
    "\n",
    "# Calculate the mean squared error\n",
    "model_mse = mean_squared_error(Y_test, Y_predict)\n",
    "\n",
    "# Calculate the mean absolute error\n",
    "model_mae = mean_absolute_error(Y_test, Y_predict)\n",
    "\n",
    "# Calulcate the root mean squared error\n",
    "model_rmse =  math.sqrt(model_mse)\n",
    "\n",
    "# Display the output\n",
    "print(\"MSE {:.3}\".format(model_mse))\n",
    "print(\"MAE {:.3}\".format(model_mae))\n",
    "print(\"RMSE {:.3}\".format(model_rmse))"
   ]
  },
  {
   "cell_type": "code",
   "execution_count": 103,
   "id": "ba8a9ffa",
   "metadata": {},
   "outputs": [
    {
     "data": {
      "image/png": "[encoded data removed]",
      "text/plain": [
       "<Figure size 432x288 with 1 Axes>"
      ]
     },
     "metadata": {
      "needs_background": "light"
     },
     "output_type": "display_data"
    },
    {
     "name": "stdout",
     "output_type": "stream",
     "text": [
      "The mean of the residuals is -0.001897\n"
     ]
    }
   ],
   "source": [
    "import pylab\n",
    "\n",
    "# check for the normality of the residuals\n",
    "sm.qqplot(result.resid, line='s')\n",
    "pylab.show()\n",
    "\n",
    "# also check that the mean of the residuals is approx. 0.\n",
    "mean_residuals = sum(result.resid)/ len(result.resid)\n",
    "print(\"The mean of the residuals is {:.4}\".format(mean_residuals))"
   ]
  },
  {
   "cell_type": "code",
   "execution_count": null,
   "id": "5071f3eb",
   "metadata": {},
   "outputs": [],
   "source": []
  }
 ],
 "metadata": {
  "kernelspec": {
   "display_name": "Python 3 (ipykernel)",
   "language": "python",
   "name": "python3"
  },
  "language_info": {
   "codemirror_mode": {
    "name": "ipython",
    "version": 3
   },
   "file_extension": ".py",
   "mimetype": "text/x-python",
   "name": "python",
   "nbconvert_exporter": "python",
   "pygments_lexer": "ipython3",
   "version": "3.7.11"
  }
 },
 "nbformat": 4,
 "nbformat_minor": 5
}
