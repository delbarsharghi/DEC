{
 "cells": [
  {
   "cell_type": "code",
   "execution_count": 127,
   "id": "70ad6b97",
   "metadata": {},
   "outputs": [],
   "source": [
    "import pandas as pd\n",
    "import numpy as np\n",
    "import matplotlib.pyplot as plt\n",
    "import statsmodels.api as sm\n",
    "import seaborn as sns\n",
    "\n",
    "from statsmodels.stats.outliers_influence import variance_inflation_factor\n",
    "from statsmodels.api import OLS\n",
    "\n",
    "from sklearn.linear_model import LinearRegression\n",
    "from sklearn.model_selection import train_test_split\n",
    "from sklearn.metrics import mean_squared_error, r2_score, mean_absolute_error"
   ]
  },
  {
   "cell_type": "code",
   "execution_count": 128,
   "id": "ba12fed5",
   "metadata": {},
   "outputs": [
    {
     "data": {
      "text/plain": [
       "'C:\\\\Users\\\\SarShel\\\\DEC\\\\Regression'"
      ]
     },
     "execution_count": 128,
     "metadata": {},
     "output_type": "execute_result"
    }
   ],
   "source": [
    "import os\n",
    "os.getcwd()"
   ]
  },
  {
   "cell_type": "code",
   "execution_count": 129,
   "id": "578b467a",
   "metadata": {},
   "outputs": [
    {
     "data": {
      "text/plain": [
       "'C:\\\\Users\\\\SarShel\\\\DEC\\\\Regression'"
      ]
     },
     "execution_count": 129,
     "metadata": {},
     "output_type": "execute_result"
    }
   ],
   "source": [
    "os.chdir('C:\\\\Users\\\\SarShel\\\\DEC\\\\Regression')\n",
    "os.getcwd()"
   ]
  },
  {
   "cell_type": "code",
   "execution_count": 130,
   "id": "d1d4384b",
   "metadata": {},
   "outputs": [
    {
     "name": "stdout",
     "output_type": "stream",
     "text": [
      "       Year  Month  Day      2BDA      3BDA      NDCI        B1       B10  \\\n",
      "0      2016      5    7  0.956879 -0.044137 -0.022070  0.117900  0.002955   \n",
      "1      2016      5    7  0.956959 -0.043948 -0.022029  0.117907  0.002955   \n",
      "2      2016      5    7  1.015101  0.016830  0.007469  0.147959  0.008728   \n",
      "3      2016      5    7  0.991688 -0.008969 -0.004225  0.142645  0.007528   \n",
      "4      2016      5    7  0.881265 -0.110070 -0.063161  0.116655  0.002038   \n",
      "...     ...    ...  ...       ...       ...       ...       ...       ...   \n",
      "35028  2020     10   30  0.854190 -0.129064 -0.078726  0.152807  0.001676   \n",
      "35029  2020     10   30  1.077379  0.065607  0.035775  0.126659  0.001469   \n",
      "35030  2020     10   30  0.946243 -0.050380 -0.027911  0.134852  0.007321   \n",
      "35031  2020     10   30  0.962221 -0.039201 -0.019493  0.132445  0.007393   \n",
      "35032  2020     10   30  0.960195 -0.038782 -0.020508  0.126638  0.006003   \n",
      "\n",
      "            B11       B12  ...        B3        B4        B5        B6  \\\n",
      "0      0.016390  0.011321  ...  0.066817  0.042403  0.040572  0.041431   \n",
      "1      0.016390  0.011321  ...  0.066817  0.042400  0.040572  0.041331   \n",
      "2      0.053441  0.041969  ...  0.098893  0.080366  0.081576  0.091038   \n",
      "3      0.047441  0.035914  ...  0.095421  0.073648  0.073031  0.078548   \n",
      "4      0.007586  0.005145  ...  0.066907  0.038455  0.033886  0.031386   \n",
      "...         ...       ...  ...       ...       ...       ...       ...   \n",
      "35028  0.008662  0.005803  ...  0.070890  0.044710  0.038179  0.033731   \n",
      "35029  0.014217  0.008186  ...  0.071028  0.040410  0.043538  0.034555   \n",
      "35030  0.018221  0.015945  ...  0.070283  0.047528  0.044917  0.042248   \n",
      "35031  0.022983  0.016369  ...  0.067686  0.047010  0.045217  0.046493   \n",
      "35032  0.016324  0.011272  ...  0.062962  0.040838  0.039190  0.037914   \n",
      "\n",
      "             B7        B8       B8A        B9          X          Y  \n",
      "0      0.040707  0.035441  0.036210  0.016803 -79.726196  42.101898  \n",
      "1      0.040714  0.035441  0.036172  0.016969 -79.726196  42.101898  \n",
      "2      0.094266  0.090610  0.094869  0.046917 -79.455423  42.219885  \n",
      "3      0.079997  0.077869  0.077197  0.034931 -79.430702  42.180951  \n",
      "4      0.030362  0.024534  0.025524  0.011448 -79.363881  42.123269  \n",
      "...         ...       ...       ...       ...        ...        ...  \n",
      "35028  0.030021  0.027724  0.024259  0.012969 -76.958078  43.248531  \n",
      "35029  0.034010  0.027786  0.029086  0.020831 -76.222702  43.235401  \n",
      "35030  0.041645  0.041476  0.038621  0.031514 -75.775200  44.316502  \n",
      "35031  0.044748  0.044814  0.042314  0.030562 -75.775002  44.279800  \n",
      "35032  0.036766  0.037372  0.033231  0.022614 -75.767502  44.292198  \n",
      "\n",
      "[35033 rows x 21 columns]\n"
     ]
    }
   ],
   "source": [
    "# Read S2 dataset \n",
    "Data1 = pd.read_csv('data_raw/Indices/S2Data.csv')\n",
    "\n",
    "# Remove none values\n",
    "S2Data = Data1.dropna()\n",
    "\n",
    "# Display the first few rows of our DataFrame\n",
    "S2Data.head()\n",
    "print(S2Data)"
   ]
  },
  {
   "cell_type": "code",
   "execution_count": 131,
   "id": "766120bb",
   "metadata": {},
   "outputs": [
    {
     "name": "stdout",
     "output_type": "stream",
     "text": [
      "             Lake Name          Y          X       Date  Year  Month  Day  \\\n",
      "0     Little Long Pond  40.977600 -72.296204   6/4/2016  2016      6    4   \n",
      "1       Cossayuna Lake  43.200600 -73.423401   6/3/2016  2016      6    3   \n",
      "2           Hatch Lake  42.834598 -75.677803   6/5/2016  2016      6    5   \n",
      "3      Montgomery Lake  41.525299 -74.917297   6/4/2016  2016      6    4   \n",
      "4        Lake Devenoge  41.521000 -74.839401   6/4/2016  2016      6    4   \n",
      "...                ...        ...        ...        ...   ...    ...  ...   \n",
      "6070         Long Pond  40.975102 -72.290802  7/26/2020  2020      7   26   \n",
      "6071         Long Pond  40.975102 -72.290802   8/9/2020  2020      8    9   \n",
      "6072         Long Pond  40.975102 -72.290802  8/23/2020  2020      8   23   \n",
      "6073         Long Pond  40.975102 -72.290802   9/7/2020  2020      9    7   \n",
      "6074         Long Pond  40.975102 -72.290802  9/20/2020  2020      9   20   \n",
      "\n",
      "       Chl-a  \n",
      "0      1.200  \n",
      "1      0.600  \n",
      "2      2.900  \n",
      "3      2.900  \n",
      "4      1.300  \n",
      "...      ...  \n",
      "6070   8.168  \n",
      "6071   9.048  \n",
      "6072  13.088  \n",
      "6073   7.778  \n",
      "6074  11.076  \n",
      "\n",
      "[6037 rows x 8 columns]\n"
     ]
    }
   ],
   "source": [
    "# Read Field dataset \n",
    "Data2 = pd.read_csv('data_raw/Indices/FieldData.csv')\n",
    "\n",
    "# Remove none values\n",
    "FieldData = Data2.dropna()\n",
    "\n",
    "# Display the first few rows of our DataFrame\n",
    "#FieldData.head()\n",
    "print(FieldData)"
   ]
  },
  {
   "cell_type": "code",
   "execution_count": 132,
   "id": "dc2495c1",
   "metadata": {},
   "outputs": [
    {
     "name": "stdout",
     "output_type": "stream",
     "text": [
      "      Year  Month  Day      2BDA      3BDA      NDCI        B1       B10  \\\n",
      "0     2016      6    7  0.951738 -0.048882 -0.024856  0.119966  0.000776   \n",
      "1     2016      6    7  0.951738 -0.048882 -0.024856  0.119966  0.000776   \n",
      "2     2016      6    7  0.954945 -0.070901 -0.023265  0.111821  0.001138   \n",
      "3     2016      6    7  0.954945 -0.070901 -0.023265  0.111821  0.001138   \n",
      "4     2016      6   10  0.975644 -0.026771 -0.012388  0.116193  0.001103   \n",
      "...    ...    ...  ...       ...       ...       ...       ...       ...   \n",
      "1482  2020      9   24  1.006182  0.007508  0.003046  0.136534  0.007655   \n",
      "1483  2020      9   27  0.985506 -0.017302 -0.007349  0.160810  0.001697   \n",
      "1484  2020      9   27  0.948135 -0.054520 -0.026673  0.270976  0.003162   \n",
      "1485  2020      9   30  0.906324 -0.089171 -0.049167  0.135859  0.001359   \n",
      "1486  2020      9   30  1.060907  0.070528  0.027154  0.190724  0.001834   \n",
      "\n",
      "           B11       B12  ...        B6        B7        B8       B8A  \\\n",
      "0     0.012669  0.008090  ...  0.038324  0.040445  0.033017  0.032786   \n",
      "1     0.012669  0.008090  ...  0.038324  0.040445  0.033017  0.032786   \n",
      "2     0.016321  0.007734  ...  0.042097  0.045834  0.039707  0.042538   \n",
      "3     0.016321  0.007734  ...  0.042097  0.045834  0.039707  0.042538   \n",
      "4     0.033817  0.025400  ...  0.054503  0.055210  0.050200  0.051345   \n",
      "...        ...       ...  ...       ...       ...       ...       ...   \n",
      "1482  0.020848  0.013324  ...  0.058293  0.062021  0.057755  0.060052   \n",
      "1483  0.012845  0.005197  ...  0.073683  0.073900  0.063172  0.064207   \n",
      "1484  0.039348  0.017483  ...  0.167121  0.164455  0.149934  0.143662   \n",
      "1485  0.013124  0.009559  ...  0.037286  0.037245  0.031593  0.031531   \n",
      "1486  0.167897  0.131503  ...  0.169790  0.176121  0.210217  0.179107   \n",
      "\n",
      "            B9          X          Y            Lake Name       Date   Chl-a  \n",
      "0     0.010493 -74.115898  41.442001     Beaver Dam Lake    6/7/2016  8.1000  \n",
      "1     0.010493 -74.115898  41.442001     Beaver Dam Lake    6/7/2016  8.1000  \n",
      "2     0.012207 -73.887703  41.373100          Indian Lake   6/7/2016  0.7000  \n",
      "3     0.012207 -73.887703  41.373100          Indian Lake   6/7/2016  0.7000  \n",
      "4     0.022500 -75.774803  42.517300     Geneganslet Lake  6/10/2016  4.0000  \n",
      "...        ...        ...        ...                  ...        ...     ...  \n",
      "1482  0.020524 -73.755524  43.830651         Schroon Lake  9/24/2020  0.2898  \n",
      "1483  0.019121 -76.515000  42.470000          Cayuga Lake  9/27/2020  2.8560  \n",
      "1484  0.043379 -75.522201  42.850201         Lake Moraine  9/27/2020  7.3620  \n",
      "1485  0.012603 -77.566902  42.492599            Loon Lake  9/30/2020  3.4640  \n",
      "1486  0.065355 -75.888603  42.810699  De Ruyter Reservoir  9/30/2020  3.2140  \n",
      "\n",
      "[1487 rows x 24 columns]\n"
     ]
    }
   ],
   "source": [
    "# Using merge function by setting how='inner'\n",
    "MergedData = pd.merge(S2Data, FieldData, on=['Y', 'X', 'Year', 'Month', 'Day'], how='inner')\n",
    "MergedData.to_csv('data_output/3bda&ndciModel/MergedData.csv')\n",
    "  \n",
    "# displaying result\n",
    "print(MergedData)"
   ]
  },
  {
   "cell_type": "code",
   "execution_count": 134,
   "id": "c56fcfb5",
   "metadata": {},
   "outputs": [
    {
     "data": {
      "text/html": [
       "<div>\n",
       "<style scoped>\n",
       "    .dataframe tbody tr th:only-of-type {\n",
       "        vertical-align: middle;\n",
       "    }\n",
       "\n",
       "    .dataframe tbody tr th {\n",
       "        vertical-align: top;\n",
       "    }\n",
       "\n",
       "    .dataframe thead th {\n",
       "        text-align: right;\n",
       "    }\n",
       "</style>\n",
       "<table border=\"1\" class=\"dataframe\">\n",
       "  <thead>\n",
       "    <tr style=\"text-align: right;\">\n",
       "      <th></th>\n",
       "      <th>3BDA</th>\n",
       "      <th>NDCI</th>\n",
       "      <th>Chl-a</th>\n",
       "    </tr>\n",
       "  </thead>\n",
       "  <tbody>\n",
       "    <tr>\n",
       "      <th>count</th>\n",
       "      <td>1487.000000</td>\n",
       "      <td>1487.000000</td>\n",
       "      <td>1487.000000</td>\n",
       "    </tr>\n",
       "    <tr>\n",
       "      <th>mean</th>\n",
       "      <td>0.015297</td>\n",
       "      <td>-0.005038</td>\n",
       "      <td>10.526351</td>\n",
       "    </tr>\n",
       "    <tr>\n",
       "      <th>std</th>\n",
       "      <td>0.191915</td>\n",
       "      <td>0.054806</td>\n",
       "      <td>18.258538</td>\n",
       "    </tr>\n",
       "    <tr>\n",
       "      <th>min</th>\n",
       "      <td>-0.183174</td>\n",
       "      <td>-0.113502</td>\n",
       "      <td>0.050000</td>\n",
       "    </tr>\n",
       "    <tr>\n",
       "      <th>25%</th>\n",
       "      <td>-0.093031</td>\n",
       "      <td>-0.042380</td>\n",
       "      <td>1.900000</td>\n",
       "    </tr>\n",
       "    <tr>\n",
       "      <th>50%</th>\n",
       "      <td>-0.035932</td>\n",
       "      <td>-0.016578</td>\n",
       "      <td>3.900000</td>\n",
       "    </tr>\n",
       "    <tr>\n",
       "      <th>75%</th>\n",
       "      <td>0.067505</td>\n",
       "      <td>0.023032</td>\n",
       "      <td>9.992000</td>\n",
       "    </tr>\n",
       "    <tr>\n",
       "      <th>max</th>\n",
       "      <td>2.150818</td>\n",
       "      <td>0.368135</td>\n",
       "      <td>166.300000</td>\n",
       "    </tr>\n",
       "    <tr>\n",
       "      <th>+3_std</th>\n",
       "      <td>0.591042</td>\n",
       "      <td>0.159379</td>\n",
       "      <td>65.301966</td>\n",
       "    </tr>\n",
       "    <tr>\n",
       "      <th>-3_std</th>\n",
       "      <td>-0.560448</td>\n",
       "      <td>-0.169455</td>\n",
       "      <td>-44.249264</td>\n",
       "    </tr>\n",
       "  </tbody>\n",
       "</table>\n",
       "</div>"
      ],
      "text/plain": [
       "               3BDA         NDCI        Chl-a\n",
       "count   1487.000000  1487.000000  1487.000000\n",
       "mean       0.015297    -0.005038    10.526351\n",
       "std        0.191915     0.054806    18.258538\n",
       "min       -0.183174    -0.113502     0.050000\n",
       "25%       -0.093031    -0.042380     1.900000\n",
       "50%       -0.035932    -0.016578     3.900000\n",
       "75%        0.067505     0.023032     9.992000\n",
       "max        2.150818     0.368135   166.300000\n",
       "+3_std     0.591042     0.159379    65.301966\n",
       "-3_std    -0.560448    -0.169455   -44.249264"
      ]
     },
     "execution_count": 134,
     "metadata": {},
     "output_type": "execute_result"
    }
   ],
   "source": [
    "# Descriptive statistics of all variables\n",
    "list = ['3BDA', 'NDCI', 'Chl-a']\n",
    "\n",
    "# get the summary\n",
    "desc_mergeddata = MergedData [list].describe()\n",
    "\n",
    "# add the standard deviation metric\n",
    "desc_mergeddata.loc['+3_std'] = desc_mergeddata.loc['mean'] + (desc_mergeddata.loc['std'] * 3)\n",
    "desc_mergeddata.loc['-3_std'] = desc_mergeddata.loc['mean'] - (desc_mergeddata.loc['std'] * 3)\n",
    "\n",
    "# display it\n",
    "desc_mergeddata"
   ]
  },
  {
   "cell_type": "code",
   "execution_count": 135,
   "id": "db800006",
   "metadata": {},
   "outputs": [
    {
     "data": {
      "text/html": [
       "<div>\n",
       "<style scoped>\n",
       "    .dataframe tbody tr th:only-of-type {\n",
       "        vertical-align: middle;\n",
       "    }\n",
       "\n",
       "    .dataframe tbody tr th {\n",
       "        vertical-align: top;\n",
       "    }\n",
       "\n",
       "    .dataframe thead th {\n",
       "        text-align: right;\n",
       "    }\n",
       "</style>\n",
       "<table border=\"1\" class=\"dataframe\">\n",
       "  <thead>\n",
       "    <tr style=\"text-align: right;\">\n",
       "      <th></th>\n",
       "      <th>3BDA</th>\n",
       "      <th>NDCI</th>\n",
       "      <th>Chl-a</th>\n",
       "    </tr>\n",
       "  </thead>\n",
       "  <tbody>\n",
       "    <tr>\n",
       "      <th>3BDA</th>\n",
       "      <td>1.000000</td>\n",
       "      <td>0.912430</td>\n",
       "      <td>0.289175</td>\n",
       "    </tr>\n",
       "    <tr>\n",
       "      <th>NDCI</th>\n",
       "      <td>0.912430</td>\n",
       "      <td>1.000000</td>\n",
       "      <td>0.442198</td>\n",
       "    </tr>\n",
       "    <tr>\n",
       "      <th>Chl-a</th>\n",
       "      <td>0.289175</td>\n",
       "      <td>0.442198</td>\n",
       "      <td>1.000000</td>\n",
       "    </tr>\n",
       "  </tbody>\n",
       "</table>\n",
       "</div>"
      ],
      "text/plain": [
       "           3BDA      NDCI     Chl-a\n",
       "3BDA   1.000000  0.912430  0.289175\n",
       "NDCI   0.912430  1.000000  0.442198\n",
       "Chl-a  0.289175  0.442198  1.000000"
      ]
     },
     "metadata": {},
     "output_type": "display_data"
    }
   ],
   "source": [
    "# Pearson Coefficient \n",
    "corr = MergedData[list].corr(method='pearson')\n",
    "\n",
    "# display the correlation matrix\n",
    "display(corr)"
   ]
  },
  {
   "cell_type": "code",
   "execution_count": 136,
   "id": "1019ccc0",
   "metadata": {},
   "outputs": [
    {
     "data": {
      "text/plain": [
       "<seaborn.axisgrid.PairGrid at 0x1fdd2a008c8>"
      ]
     },
     "execution_count": 136,
     "metadata": {},
     "output_type": "execute_result"
    },
    {
     "data": {
      "image/png": "[encoded data removed]",
      "text/plain": [
       "<Figure size 540x540 with 12 Axes>"
      ]
     },
     "metadata": {
      "needs_background": "light"
     },
     "output_type": "display_data"
    }
   ],
   "source": [
    "# Scatter plot for each variable in our dataset against another variable\n",
    "sns.pairplot(MergedData[list])"
   ]
  },
  {
   "cell_type": "code",
   "execution_count": 137,
   "id": "7919b743",
   "metadata": {},
   "outputs": [],
   "source": [
    "# Getting column names\n",
    "X_columns = [\"3BDA\", \"NDCI\"]\n",
    "Y = MergedData[\"Chl-a\"]"
   ]
  },
  {
   "cell_type": "code",
   "execution_count": 138,
   "id": "5170fcdf",
   "metadata": {},
   "outputs": [
    {
     "data": {
      "text/html": [
       "<div>\n",
       "<style scoped>\n",
       "    .dataframe tbody tr th:only-of-type {\n",
       "        vertical-align: middle;\n",
       "    }\n",
       "\n",
       "    .dataframe tbody tr th {\n",
       "        vertical-align: top;\n",
       "    }\n",
       "\n",
       "    .dataframe thead th {\n",
       "        text-align: right;\n",
       "    }\n",
       "</style>\n",
       "<table border=\"1\" class=\"dataframe\">\n",
       "  <thead>\n",
       "    <tr style=\"text-align: right;\">\n",
       "      <th></th>\n",
       "      <th>VIF Factor</th>\n",
       "      <th>features</th>\n",
       "    </tr>\n",
       "  </thead>\n",
       "  <tbody>\n",
       "    <tr>\n",
       "      <th>0</th>\n",
       "      <td>5.0</td>\n",
       "      <td>3BDA</td>\n",
       "    </tr>\n",
       "    <tr>\n",
       "      <th>1</th>\n",
       "      <td>5.0</td>\n",
       "      <td>NDCI</td>\n",
       "    </tr>\n",
       "  </tbody>\n",
       "</table>\n",
       "</div>"
      ],
      "text/plain": [
       "   VIF Factor features\n",
       "0         5.0     3BDA\n",
       "1         5.0     NDCI"
      ]
     },
     "execution_count": 138,
     "metadata": {},
     "output_type": "execute_result"
    }
   ],
   "source": [
    "#Calculate VIFs on our dataset\n",
    "vif = pd.DataFrame()\n",
    "vif[\"VIF Factor\"] = [variance_inflation_factor(MergedData[X_columns[0:2]].values, i) for i in range(MergedData[X_columns[0:2]].shape[1])]\n",
    "vif[\"features\"] = MergedData[X_columns[0:2]].columns\n",
    "\n",
    "# display VIF\n",
    "vif.round()"
   ]
  },
  {
   "cell_type": "code",
   "execution_count": 139,
   "id": "62f9cc80",
   "metadata": {},
   "outputs": [
    {
     "name": "stdout",
     "output_type": "stream",
     "text": [
      "                                 OLS Regression Results                                \n",
      "=======================================================================================\n",
      "Dep. Variable:                  Chl-a   R-squared (uncentered):                   0.121\n",
      "Model:                            OLS   Adj. R-squared (uncentered):              0.119\n",
      "Method:                 Least Squares   F-statistic:                              71.22\n",
      "Date:                Thu, 24 Feb 2022   Prob (F-statistic):                    1.03e-29\n",
      "Time:                        17:01:45   Log-Likelihood:                         -4585.7\n",
      "No. Observations:                1040   AIC:                                      9175.\n",
      "Df Residuals:                    1038   BIC:                                      9185.\n",
      "Df Model:                           2                                                  \n",
      "Covariance Type:            nonrobust                                                  \n",
      "==============================================================================\n",
      "                 coef    std err          t      P>|t|      [0.025      0.975]\n",
      "------------------------------------------------------------------------------\n",
      "3BDA          -5.9737      6.874     -0.869      0.385     -19.463       7.515\n",
      "NDCI         151.7878     25.246      6.012      0.000     102.249     201.326\n",
      "==============================================================================\n",
      "Omnibus:                      698.148   Durbin-Watson:                   1.313\n",
      "Prob(Omnibus):                  0.000   Jarque-Bera (JB):             9834.267\n",
      "Skew:                           2.926   Prob(JB):                         0.00\n",
      "Kurtosis:                      16.882   Cond. No.                         8.86\n",
      "==============================================================================\n",
      "\n",
      "Notes:\n",
      "[1] R² is computed without centering (uncentered) since the model does not contain a constant.\n",
      "[2] Standard Errors assume that the covariance matrix of the errors is correctly specified.\n"
     ]
    }
   ],
   "source": [
    "# Extract independent variables (X) & dependent variable (Y)\n",
    "X = MergedData[X_columns]\n",
    "Y = MergedData['Chl-a']\n",
    "\n",
    "# Split X and Y into train and test \n",
    "X_train, X_test, Y_train, Y_test = train_test_split(X, Y, test_size=0.30, random_state=1)\n",
    "\n",
    "# Create a Linear Regression model object\n",
    "regression_model = OLS(Y_train,X_train)\n",
    "result = OLS(Y_train,X_train).fit()\n",
    "print(result.summary())"
   ]
  },
  {
   "cell_type": "code",
   "execution_count": 140,
   "id": "9013833f",
   "metadata": {},
   "outputs": [
    {
     "name": "stdout",
     "output_type": "stream",
     "text": [
      "predicted Y: 91      -7.990123\n",
      "1102   -14.222758\n",
      "1237    -4.895628\n",
      "683     -1.187578\n",
      "561     -3.132856\n",
      "          ...    \n",
      "154     13.304123\n",
      "639      6.667200\n",
      "768     -2.749988\n",
      "821     -7.393218\n",
      "1006    15.913329\n",
      "Length: 447, dtype: float64\n"
     ]
    }
   ],
   "source": [
    "# Get predictions\n",
    "Y_predict = result.predict(X_test)\n",
    "print('predicted Y:', Y_predict)\n"
   ]
  },
  {
   "cell_type": "code",
   "execution_count": 141,
   "id": "82ed2dfa",
   "metadata": {},
   "outputs": [
    {
     "data": {
      "image/png": "[encoded data removed]",
      "text/plain": [
       "<Figure size 432x288 with 1 Axes>"
      ]
     },
     "metadata": {
      "needs_background": "light"
     },
     "output_type": "display_data"
    },
    {
     "name": "stdout",
     "output_type": "stream",
     "text": [
      "The mean of the residuals is 11.26\n"
     ]
    }
   ],
   "source": [
    "import pylab\n",
    "\n",
    "# check for the normality of the residuals\n",
    "sm.qqplot(result.resid, line='s')\n",
    "pylab.show()\n",
    "\n",
    "# also check that the mean of the residuals is approx. 0.\n",
    "mean_residuals = sum(result.resid)/ len(result.resid)\n",
    "print(\"The mean of the residuals is {:.4}\".format(mean_residuals))"
   ]
  },
  {
   "cell_type": "code",
   "execution_count": 142,
   "id": "5c8ad20b",
   "metadata": {},
   "outputs": [
    {
     "name": "stdout",
     "output_type": "stream",
     "text": [
      "MSE 3.89e+02\n",
      "MAE 13.0\n",
      "RMSE 19.7\n"
     ]
    }
   ],
   "source": [
    "import math\n",
    "\n",
    "# Calculate the mean squared error\n",
    "model_mse = mean_squared_error(Y_test, Y_predict)\n",
    "\n",
    "# Calculate the mean absolute error\n",
    "model_mae = mean_absolute_error(Y_test, Y_predict)\n",
    "\n",
    "# Calulcate the root mean squared error\n",
    "model_rmse =  math.sqrt(model_mse)\n",
    "\n",
    "# Display the output\n",
    "print(\"MSE {:.3}\".format(model_mse))\n",
    "print(\"MAE {:.3}\".format(model_mae))\n",
    "print(\"RMSE {:.3}\".format(model_rmse))"
   ]
  },
  {
   "cell_type": "code",
   "execution_count": 143,
   "id": "48e53641",
   "metadata": {},
   "outputs": [
    {
     "data": {
      "text/plain": [
       "(1082, 24)"
      ]
     },
     "execution_count": 143,
     "metadata": {},
     "output_type": "execute_result"
    }
   ],
   "source": [
    "# MergedData: Threshold  Chl-a < 2\n",
    "MergedData1 = MergedData.loc[(MergedData[\"Chl-a\"] > 2)]\n",
    "MergedData1.shape"
   ]
  },
  {
   "cell_type": "code",
   "execution_count": 146,
   "id": "2312673a",
   "metadata": {},
   "outputs": [
    {
     "data": {
      "text/html": [
       "<div>\n",
       "<style scoped>\n",
       "    .dataframe tbody tr th:only-of-type {\n",
       "        vertical-align: middle;\n",
       "    }\n",
       "\n",
       "    .dataframe tbody tr th {\n",
       "        vertical-align: top;\n",
       "    }\n",
       "\n",
       "    .dataframe thead th {\n",
       "        text-align: right;\n",
       "    }\n",
       "</style>\n",
       "<table border=\"1\" class=\"dataframe\">\n",
       "  <thead>\n",
       "    <tr style=\"text-align: right;\">\n",
       "      <th></th>\n",
       "      <th>3BDA</th>\n",
       "      <th>NDCI</th>\n",
       "      <th>Chl-a</th>\n",
       "    </tr>\n",
       "  </thead>\n",
       "  <tbody>\n",
       "    <tr>\n",
       "      <th>count</th>\n",
       "      <td>1082.000000</td>\n",
       "      <td>1082.000000</td>\n",
       "      <td>1082.000000</td>\n",
       "    </tr>\n",
       "    <tr>\n",
       "      <th>mean</th>\n",
       "      <td>0.021406</td>\n",
       "      <td>-0.001436</td>\n",
       "      <td>14.006122</td>\n",
       "    </tr>\n",
       "    <tr>\n",
       "      <th>std</th>\n",
       "      <td>0.188871</td>\n",
       "      <td>0.056143</td>\n",
       "      <td>20.339084</td>\n",
       "    </tr>\n",
       "    <tr>\n",
       "      <th>min</th>\n",
       "      <td>-0.181705</td>\n",
       "      <td>-0.113502</td>\n",
       "      <td>2.008000</td>\n",
       "    </tr>\n",
       "    <tr>\n",
       "      <th>25%</th>\n",
       "      <td>-0.088717</td>\n",
       "      <td>-0.040431</td>\n",
       "      <td>3.400000</td>\n",
       "    </tr>\n",
       "    <tr>\n",
       "      <th>50%</th>\n",
       "      <td>-0.026701</td>\n",
       "      <td>-0.012293</td>\n",
       "      <td>6.200000</td>\n",
       "    </tr>\n",
       "    <tr>\n",
       "      <th>75%</th>\n",
       "      <td>0.075093</td>\n",
       "      <td>0.028449</td>\n",
       "      <td>14.215500</td>\n",
       "    </tr>\n",
       "    <tr>\n",
       "      <th>max</th>\n",
       "      <td>2.150818</td>\n",
       "      <td>0.368135</td>\n",
       "      <td>166.300000</td>\n",
       "    </tr>\n",
       "    <tr>\n",
       "      <th>+3_std</th>\n",
       "      <td>0.588020</td>\n",
       "      <td>0.166993</td>\n",
       "      <td>75.023375</td>\n",
       "    </tr>\n",
       "    <tr>\n",
       "      <th>-3_std</th>\n",
       "      <td>-0.545207</td>\n",
       "      <td>-0.169864</td>\n",
       "      <td>-47.011131</td>\n",
       "    </tr>\n",
       "  </tbody>\n",
       "</table>\n",
       "</div>"
      ],
      "text/plain": [
       "               3BDA         NDCI        Chl-a\n",
       "count   1082.000000  1082.000000  1082.000000\n",
       "mean       0.021406    -0.001436    14.006122\n",
       "std        0.188871     0.056143    20.339084\n",
       "min       -0.181705    -0.113502     2.008000\n",
       "25%       -0.088717    -0.040431     3.400000\n",
       "50%       -0.026701    -0.012293     6.200000\n",
       "75%        0.075093     0.028449    14.215500\n",
       "max        2.150818     0.368135   166.300000\n",
       "+3_std     0.588020     0.166993    75.023375\n",
       "-3_std    -0.545207    -0.169864   -47.011131"
      ]
     },
     "execution_count": 146,
     "metadata": {},
     "output_type": "execute_result"
    }
   ],
   "source": [
    "# get the summary\n",
    "desc_mergeddata1 = MergedData1 [list].describe()\n",
    "\n",
    "# add the standard deviation metric\n",
    "desc_mergeddata1.loc['+3_std'] = desc_mergeddata1.loc['mean'] + (desc_mergeddata1.loc['std'] * 3)\n",
    "desc_mergeddata1.loc['-3_std'] = desc_mergeddata1.loc['mean'] - (desc_mergeddata1.loc['std'] * 3)\n",
    "\n",
    "# display it\n",
    "desc_mergeddata1"
   ]
  },
  {
   "cell_type": "code",
   "execution_count": 147,
   "id": "bc256804",
   "metadata": {},
   "outputs": [
    {
     "data": {
      "text/html": [
       "<div>\n",
       "<style scoped>\n",
       "    .dataframe tbody tr th:only-of-type {\n",
       "        vertical-align: middle;\n",
       "    }\n",
       "\n",
       "    .dataframe tbody tr th {\n",
       "        vertical-align: top;\n",
       "    }\n",
       "\n",
       "    .dataframe thead th {\n",
       "        text-align: right;\n",
       "    }\n",
       "</style>\n",
       "<table border=\"1\" class=\"dataframe\">\n",
       "  <thead>\n",
       "    <tr style=\"text-align: right;\">\n",
       "      <th></th>\n",
       "      <th>3BDA</th>\n",
       "      <th>NDCI</th>\n",
       "      <th>Chl-a</th>\n",
       "    </tr>\n",
       "  </thead>\n",
       "  <tbody>\n",
       "    <tr>\n",
       "      <th>3BDA</th>\n",
       "      <td>1.000000</td>\n",
       "      <td>0.910533</td>\n",
       "      <td>0.343008</td>\n",
       "    </tr>\n",
       "    <tr>\n",
       "      <th>NDCI</th>\n",
       "      <td>0.910533</td>\n",
       "      <td>1.000000</td>\n",
       "      <td>0.492922</td>\n",
       "    </tr>\n",
       "    <tr>\n",
       "      <th>Chl-a</th>\n",
       "      <td>0.343008</td>\n",
       "      <td>0.492922</td>\n",
       "      <td>1.000000</td>\n",
       "    </tr>\n",
       "  </tbody>\n",
       "</table>\n",
       "</div>"
      ],
      "text/plain": [
       "           3BDA      NDCI     Chl-a\n",
       "3BDA   1.000000  0.910533  0.343008\n",
       "NDCI   0.910533  1.000000  0.492922\n",
       "Chl-a  0.343008  0.492922  1.000000"
      ]
     },
     "metadata": {},
     "output_type": "display_data"
    }
   ],
   "source": [
    "# Pearson Coefficient \n",
    "corr1 = MergedData1[list].corr(method='pearson')\n",
    "\n",
    "# display the correlation matrix\n",
    "display(corr1)"
   ]
  },
  {
   "cell_type": "code",
   "execution_count": 148,
   "id": "33e44dbd",
   "metadata": {},
   "outputs": [
    {
     "data": {
      "text/plain": [
       "<seaborn.axisgrid.PairGrid at 0x1fdd351ab88>"
      ]
     },
     "execution_count": 148,
     "metadata": {},
     "output_type": "execute_result"
    },
    {
     "data": {
      "image/png": "[encoded data removed]",
      "text/plain": [
       "<Figure size 540x540 with 12 Axes>"
      ]
     },
     "metadata": {
      "needs_background": "light"
     },
     "output_type": "display_data"
    }
   ],
   "source": [
    "# Scatter plot for each variable in our dataset against another variable\n",
    "sns.pairplot(MergedData1[list])"
   ]
  },
  {
   "cell_type": "code",
   "execution_count": 149,
   "id": "f5626824",
   "metadata": {},
   "outputs": [
    {
     "name": "stdout",
     "output_type": "stream",
     "text": [
      "                                 OLS Regression Results                                \n",
      "=======================================================================================\n",
      "Dep. Variable:                  Chl-a   R-squared (uncentered):                   0.179\n",
      "Model:                            OLS   Adj. R-squared (uncentered):              0.177\n",
      "Method:                 Least Squares   F-statistic:                              82.42\n",
      "Date:                Thu, 24 Feb 2022   Prob (F-statistic):                    4.19e-33\n",
      "Time:                        17:02:46   Log-Likelihood:                         -3443.4\n",
      "No. Observations:                 757   AIC:                                      6891.\n",
      "Df Residuals:                     755   BIC:                                      6900.\n",
      "Df Model:                           2                                                  \n",
      "Covariance Type:            nonrobust                                                  \n",
      "==============================================================================\n",
      "                 coef    std err          t      P>|t|      [0.025      0.975]\n",
      "------------------------------------------------------------------------------\n",
      "3BDA         -12.1503      9.429     -1.289      0.198     -30.660       6.359\n",
      "NDCI         223.3454     33.250      6.717      0.000     158.073     288.618\n",
      "==============================================================================\n",
      "Omnibus:                      404.701   Durbin-Watson:                   1.219\n",
      "Prob(Omnibus):                  0.000   Jarque-Bera (JB):             3549.665\n",
      "Skew:                           2.261   Prob(JB):                         0.00\n",
      "Kurtosis:                      12.597   Cond. No.                         8.64\n",
      "==============================================================================\n",
      "\n",
      "Notes:\n",
      "[1] R² is computed without centering (uncentered) since the model does not contain a constant.\n",
      "[2] Standard Errors assume that the covariance matrix of the errors is correctly specified.\n"
     ]
    }
   ],
   "source": [
    "# Extract independent variables (X) & dependent variable (Y)\n",
    "X = MergedData1[X_columns]\n",
    "Y = MergedData1['Chl-a']\n",
    "\n",
    "# Split X and Y into train and test \n",
    "X_train, X_test, Y_train, Y_test = train_test_split(X, Y, test_size=0.30, random_state=1)\n",
    "\n",
    "# Create a Linear Regression model object\n",
    "regression_model = OLS(Y_train,X_train)\n",
    "result = OLS(Y_train,X_train).fit()\n",
    "print(result.summary())"
   ]
  },
  {
   "cell_type": "code",
   "execution_count": 150,
   "id": "1aeff3bb",
   "metadata": {},
   "outputs": [
    {
     "name": "stdout",
     "output_type": "stream",
     "text": [
      "predicted Y: 1083    -9.998183\n",
      "956     11.042350\n",
      "978     -6.101114\n",
      "1130    -4.111408\n",
      "220     -1.934896\n",
      "          ...    \n",
      "180     -3.445890\n",
      "1226    10.323234\n",
      "748    -23.361674\n",
      "446     -5.679729\n",
      "372     16.426327\n",
      "Length: 325, dtype: float64\n"
     ]
    }
   ],
   "source": [
    "# Get predictions\n",
    "Y_predict = result.predict(X_test)\n",
    "print('predicted Y:', Y_predict)"
   ]
  },
  {
   "cell_type": "code",
   "execution_count": 151,
   "id": "ca3d568c",
   "metadata": {},
   "outputs": [
    {
     "name": "stdout",
     "output_type": "stream",
     "text": [
      "MSE 5.03e+02\n",
      "MAE 16.6\n",
      "RMSE 22.4\n"
     ]
    }
   ],
   "source": [
    "import math\n",
    "\n",
    "# Calculate the mean squared error\n",
    "model_mse = mean_squared_error(Y_test, Y_predict)\n",
    "\n",
    "# Calculate the mean absolute error\n",
    "model_mae = mean_absolute_error(Y_test, Y_predict)\n",
    "\n",
    "# Calulcate the root mean squared error\n",
    "model_rmse =  math.sqrt(model_mse)\n",
    "\n",
    "# Display the output\n",
    "print(\"MSE {:.3}\".format(model_mse))\n",
    "print(\"MAE {:.3}\".format(model_mae))\n",
    "print(\"RMSE {:.3}\".format(model_rmse))"
   ]
  },
  {
   "cell_type": "code",
   "execution_count": 152,
   "id": "a43e788d",
   "metadata": {},
   "outputs": [
    {
     "data": {
      "text/plain": [
       "(441, 24)"
      ]
     },
     "execution_count": 152,
     "metadata": {},
     "output_type": "execute_result"
    }
   ],
   "source": [
    "# MergedData: Threshold  Chl-a < 8\n",
    "MergedData2 = MergedData.loc[(MergedData[\"Chl-a\"] > 8)]\n",
    "MergedData2.shape"
   ]
  },
  {
   "cell_type": "code",
   "execution_count": 153,
   "id": "dcb577f5",
   "metadata": {},
   "outputs": [
    {
     "data": {
      "text/html": [
       "<div>\n",
       "<style scoped>\n",
       "    .dataframe tbody tr th:only-of-type {\n",
       "        vertical-align: middle;\n",
       "    }\n",
       "\n",
       "    .dataframe tbody tr th {\n",
       "        vertical-align: top;\n",
       "    }\n",
       "\n",
       "    .dataframe thead th {\n",
       "        text-align: right;\n",
       "    }\n",
       "</style>\n",
       "<table border=\"1\" class=\"dataframe\">\n",
       "  <thead>\n",
       "    <tr style=\"text-align: right;\">\n",
       "      <th></th>\n",
       "      <th>3BDA</th>\n",
       "      <th>NDCI</th>\n",
       "      <th>Chl-a</th>\n",
       "    </tr>\n",
       "  </thead>\n",
       "  <tbody>\n",
       "    <tr>\n",
       "      <th>count</th>\n",
       "      <td>441.000000</td>\n",
       "      <td>441.000000</td>\n",
       "      <td>441.000000</td>\n",
       "    </tr>\n",
       "    <tr>\n",
       "      <th>mean</th>\n",
       "      <td>0.067900</td>\n",
       "      <td>0.018056</td>\n",
       "      <td>28.307474</td>\n",
       "    </tr>\n",
       "    <tr>\n",
       "      <th>std</th>\n",
       "      <td>0.216030</td>\n",
       "      <td>0.062199</td>\n",
       "      <td>25.814390</td>\n",
       "    </tr>\n",
       "    <tr>\n",
       "      <th>min</th>\n",
       "      <td>-0.141255</td>\n",
       "      <td>-0.084683</td>\n",
       "      <td>8.068000</td>\n",
       "    </tr>\n",
       "    <tr>\n",
       "      <th>25%</th>\n",
       "      <td>-0.046473</td>\n",
       "      <td>-0.022685</td>\n",
       "      <td>11.556000</td>\n",
       "    </tr>\n",
       "    <tr>\n",
       "      <th>50%</th>\n",
       "      <td>0.019506</td>\n",
       "      <td>0.006901</td>\n",
       "      <td>18.546000</td>\n",
       "    </tr>\n",
       "    <tr>\n",
       "      <th>75%</th>\n",
       "      <td>0.113746</td>\n",
       "      <td>0.042312</td>\n",
       "      <td>35.140000</td>\n",
       "    </tr>\n",
       "    <tr>\n",
       "      <th>max</th>\n",
       "      <td>2.150818</td>\n",
       "      <td>0.368135</td>\n",
       "      <td>166.300000</td>\n",
       "    </tr>\n",
       "    <tr>\n",
       "      <th>+3_std</th>\n",
       "      <td>0.715991</td>\n",
       "      <td>0.204652</td>\n",
       "      <td>105.750643</td>\n",
       "    </tr>\n",
       "    <tr>\n",
       "      <th>-3_std</th>\n",
       "      <td>-0.580191</td>\n",
       "      <td>-0.168541</td>\n",
       "      <td>-49.135695</td>\n",
       "    </tr>\n",
       "  </tbody>\n",
       "</table>\n",
       "</div>"
      ],
      "text/plain": [
       "              3BDA        NDCI       Chl-a\n",
       "count   441.000000  441.000000  441.000000\n",
       "mean      0.067900    0.018056   28.307474\n",
       "std       0.216030    0.062199   25.814390\n",
       "min      -0.141255   -0.084683    8.068000\n",
       "25%      -0.046473   -0.022685   11.556000\n",
       "50%       0.019506    0.006901   18.546000\n",
       "75%       0.113746    0.042312   35.140000\n",
       "max       2.150818    0.368135  166.300000\n",
       "+3_std    0.715991    0.204652  105.750643\n",
       "-3_std   -0.580191   -0.168541  -49.135695"
      ]
     },
     "execution_count": 153,
     "metadata": {},
     "output_type": "execute_result"
    }
   ],
   "source": [
    "# get the summary\n",
    "desc_mergeddata2 = MergedData2 [list].describe()\n",
    "\n",
    "# add the standard deviation metric\n",
    "desc_mergeddata2.loc['+3_std'] = desc_mergeddata2.loc['mean'] + (desc_mergeddata2.loc['std'] * 3)\n",
    "desc_mergeddata2.loc['-3_std'] = desc_mergeddata2.loc['mean'] - (desc_mergeddata2.loc['std'] * 3)\n",
    "\n",
    "# display it\n",
    "desc_mergeddata2"
   ]
  },
  {
   "cell_type": "code",
   "execution_count": 154,
   "id": "777b5bbb",
   "metadata": {},
   "outputs": [
    {
     "data": {
      "text/html": [
       "<div>\n",
       "<style scoped>\n",
       "    .dataframe tbody tr th:only-of-type {\n",
       "        vertical-align: middle;\n",
       "    }\n",
       "\n",
       "    .dataframe tbody tr th {\n",
       "        vertical-align: top;\n",
       "    }\n",
       "\n",
       "    .dataframe thead th {\n",
       "        text-align: right;\n",
       "    }\n",
       "</style>\n",
       "<table border=\"1\" class=\"dataframe\">\n",
       "  <thead>\n",
       "    <tr style=\"text-align: right;\">\n",
       "      <th></th>\n",
       "      <th>3BDA</th>\n",
       "      <th>NDCI</th>\n",
       "      <th>Chl-a</th>\n",
       "    </tr>\n",
       "  </thead>\n",
       "  <tbody>\n",
       "    <tr>\n",
       "      <th>3BDA</th>\n",
       "      <td>1.000000</td>\n",
       "      <td>0.886099</td>\n",
       "      <td>0.381051</td>\n",
       "    </tr>\n",
       "    <tr>\n",
       "      <th>NDCI</th>\n",
       "      <td>0.886099</td>\n",
       "      <td>1.000000</td>\n",
       "      <td>0.572530</td>\n",
       "    </tr>\n",
       "    <tr>\n",
       "      <th>Chl-a</th>\n",
       "      <td>0.381051</td>\n",
       "      <td>0.572530</td>\n",
       "      <td>1.000000</td>\n",
       "    </tr>\n",
       "  </tbody>\n",
       "</table>\n",
       "</div>"
      ],
      "text/plain": [
       "           3BDA      NDCI     Chl-a\n",
       "3BDA   1.000000  0.886099  0.381051\n",
       "NDCI   0.886099  1.000000  0.572530\n",
       "Chl-a  0.381051  0.572530  1.000000"
      ]
     },
     "metadata": {},
     "output_type": "display_data"
    }
   ],
   "source": [
    "# Pearson Coefficient \n",
    "corr2 = MergedData2[list].corr(method='pearson')\n",
    "\n",
    "# display the correlation matrix\n",
    "display(corr2)"
   ]
  },
  {
   "cell_type": "code",
   "execution_count": 155,
   "id": "cbbe7692",
   "metadata": {},
   "outputs": [
    {
     "data": {
      "text/plain": [
       "<seaborn.axisgrid.PairGrid at 0x1fdd3bb77c8>"
      ]
     },
     "execution_count": 155,
     "metadata": {},
     "output_type": "execute_result"
    },
    {
     "data": {
      "image/png": "[encoded data removed]",
      "text/plain": [
       "<Figure size 540x540 with 12 Axes>"
      ]
     },
     "metadata": {
      "needs_background": "light"
     },
     "output_type": "display_data"
    }
   ],
   "source": [
    "# Scatter plot for each variable in our dataset against another variable\n",
    "sns.pairplot(MergedData2[list])"
   ]
  },
  {
   "cell_type": "code",
   "execution_count": 156,
   "id": "997aed50",
   "metadata": {},
   "outputs": [
    {
     "name": "stdout",
     "output_type": "stream",
     "text": [
      "                                 OLS Regression Results                                \n",
      "=======================================================================================\n",
      "Dep. Variable:                  Chl-a   R-squared (uncentered):                   0.353\n",
      "Model:                            OLS   Adj. R-squared (uncentered):              0.349\n",
      "Method:                 Least Squares   F-statistic:                              83.65\n",
      "Date:                Thu, 24 Feb 2022   Prob (F-statistic):                    1.04e-29\n",
      "Time:                        17:03:16   Log-Likelihood:                         -1494.2\n",
      "No. Observations:                 308   AIC:                                      2992.\n",
      "Df Residuals:                     306   BIC:                                      3000.\n",
      "Df Model:                           2                                                  \n",
      "Covariance Type:            nonrobust                                                  \n",
      "==============================================================================\n",
      "                 coef    std err          t      P>|t|      [0.025      0.975]\n",
      "------------------------------------------------------------------------------\n",
      "3BDA         -31.8711     21.080     -1.512      0.132     -73.351       9.609\n",
      "NDCI         456.9975     66.422      6.880      0.000     326.295     587.700\n",
      "==============================================================================\n",
      "Omnibus:                       21.420   Durbin-Watson:                   0.883\n",
      "Prob(Omnibus):                  0.000   Jarque-Bera (JB):               61.859\n",
      "Skew:                           0.203   Prob(JB):                     3.69e-14\n",
      "Kurtosis:                       5.158   Cond. No.                         7.95\n",
      "==============================================================================\n",
      "\n",
      "Notes:\n",
      "[1] R² is computed without centering (uncentered) since the model does not contain a constant.\n",
      "[2] Standard Errors assume that the covariance matrix of the errors is correctly specified.\n"
     ]
    }
   ],
   "source": [
    "# Extract independent variables (X) & dependent variable (Y)\n",
    "X = MergedData2[X_columns]\n",
    "Y = MergedData2['Chl-a']\n",
    "\n",
    "# Split X and Y into train and test \n",
    "X_train, X_test, Y_train, Y_test = train_test_split(X, Y, test_size=0.30, random_state=1)\n",
    "\n",
    "# Create a Linear Regression model object\n",
    "regression_model = OLS(Y_train,X_train)\n",
    "result = OLS(Y_train,X_train).fit()\n",
    "print(result.summary())"
   ]
  },
  {
   "cell_type": "code",
   "execution_count": 157,
   "id": "fca4c273",
   "metadata": {},
   "outputs": [
    {
     "name": "stdout",
     "output_type": "stream",
     "text": [
      "predicted Y: 837     -7.668700\n",
      "904    -14.362469\n",
      "647    -15.183938\n",
      "1474    17.074102\n",
      "1190    -2.879663\n",
      "          ...    \n",
      "151     15.806010\n",
      "1195    -3.271396\n",
      "936    -15.813354\n",
      "338     11.607456\n",
      "918    -19.337826\n",
      "Length: 133, dtype: float64\n"
     ]
    }
   ],
   "source": [
    "# Get predictions\n",
    "Y_predict = result.predict(X_test)\n",
    "print('predicted Y:', Y_predict)"
   ]
  },
  {
   "cell_type": "code",
   "execution_count": 158,
   "id": "fd47327f",
   "metadata": {},
   "outputs": [
    {
     "name": "stdout",
     "output_type": "stream",
     "text": [
      "MSE 9.74e+02\n",
      "MAE 26.4\n",
      "RMSE 31.2\n"
     ]
    }
   ],
   "source": [
    "import math\n",
    "\n",
    "# Calculate the mean squared error\n",
    "model_mse = mean_squared_error(Y_test, Y_predict)\n",
    "\n",
    "# Calculate the mean absolute error\n",
    "model_mae = mean_absolute_error(Y_test, Y_predict)\n",
    "\n",
    "# Calulcate the root mean squared error\n",
    "model_rmse =  math.sqrt(model_mse)\n",
    "\n",
    "# Display the output\n",
    "print(\"MSE {:.3}\".format(model_mse))\n",
    "print(\"MAE {:.3}\".format(model_mae))\n",
    "print(\"RMSE {:.3}\".format(model_rmse))"
   ]
  },
  {
   "cell_type": "code",
   "execution_count": null,
   "id": "e6ef32e7",
   "metadata": {},
   "outputs": [],
   "source": []
  }
 ],
 "metadata": {
  "kernelspec": {
   "display_name": "Python 3 (ipykernel)",
   "language": "python",
   "name": "python3"
  },
  "language_info": {
   "codemirror_mode": {
    "name": "ipython",
    "version": 3
   },
   "file_extension": ".py",
   "mimetype": "text/x-python",
   "name": "python",
   "nbconvert_exporter": "python",
   "pygments_lexer": "ipython3",
   "version": "3.7.11"
  }
 },
 "nbformat": 4,
 "nbformat_minor": 5
}
