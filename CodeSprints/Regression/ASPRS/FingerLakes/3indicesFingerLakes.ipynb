{
 "cells": [
  {
   "cell_type": "code",
   "execution_count": 1,
   "id": "3cecfed9",
   "metadata": {},
   "outputs": [],
   "source": [
    "import pandas as pd\n",
    "import numpy as np\n",
    "import matplotlib.pyplot as plt\n",
    "import statsmodels.api as sm\n",
    "import seaborn as sns\n",
    "\n",
    "from statsmodels.stats.outliers_influence import variance_inflation_factor\n",
    "from statsmodels.api import OLS\n",
    "from statsmodels.api import add_constant\n",
    "\n",
    "from sklearn.linear_model import LinearRegression\n",
    "from sklearn.model_selection import train_test_split\n",
    "from sklearn.metrics import mean_squared_error, r2_score, mean_absolute_error"
   ]
  },
  {
   "cell_type": "code",
   "execution_count": 2,
   "id": "61c99100",
   "metadata": {},
   "outputs": [
    {
     "data": {
      "text/plain": [
       "'C:\\\\Users\\\\SarShel\\\\DEC\\\\CodeSprints\\\\Regression\\\\ASPRS\\\\FingerLakes'"
      ]
     },
     "execution_count": 2,
     "metadata": {},
     "output_type": "execute_result"
    }
   ],
   "source": [
    "import os\n",
    "os.getcwd()"
   ]
  },
  {
   "cell_type": "code",
   "execution_count": 3,
   "id": "b94d0b17",
   "metadata": {},
   "outputs": [
    {
     "data": {
      "text/plain": [
       "'C:\\\\Users\\\\SarShel\\\\DEC\\\\Regression'"
      ]
     },
     "execution_count": 3,
     "metadata": {},
     "output_type": "execute_result"
    }
   ],
   "source": [
    "os.chdir('C:\\\\Users\\\\SarShel\\\\DEC\\\\Regression')\n",
    "os.getcwd()"
   ]
  },
  {
   "cell_type": "code",
   "execution_count": 4,
   "id": "4bc9ce19",
   "metadata": {},
   "outputs": [
    {
     "name": "stdout",
     "output_type": "stream",
     "text": [
      "     Unnamed: 0  Year  Month  Day      2BDA      3BDA      NDCI        B1  \\\n",
      "0           200  2017      7    3  0.912575 -0.084196 -0.049463  0.160814   \n",
      "1           201  2017      7    3  0.919797 -0.077209 -0.041808  0.180428   \n",
      "2           282  2017      8   19  0.865965 -0.134743 -0.071927  0.158669   \n",
      "3           388  2018      7    3  0.876471 -0.133994 -0.066039  0.107397   \n",
      "4           389  2018      7    5  0.806616  0.016263  0.006623  0.230924   \n",
      "..          ...   ...    ...  ...       ...       ...       ...       ...   \n",
      "112        1450  2020      9   20  0.940167 -0.059841 -0.034770  0.117000   \n",
      "113        1451  2020      9   20  0.937430 -0.060636 -0.035975  0.117417   \n",
      "114        1455  2020      9   20  0.860895 -0.138232 -0.074871  0.107421   \n",
      "115        1456  2020      9   20  0.865806 -0.129911 -0.072058  0.110141   \n",
      "116        1483  2020      9   27  0.985506 -0.017302 -0.007349  0.160810   \n",
      "\n",
      "          B10       B11  ...        B6        B7        B8       B8A  \\\n",
      "0    0.002848  0.103259  ...  0.103159  0.097314  0.149414  0.084431   \n",
      "1    0.000800  0.069831  ...  0.093952  0.098010  0.082476  0.094162   \n",
      "2    0.000800  0.010607  ...  0.047628  0.049969  0.039976  0.039831   \n",
      "3    0.001528  0.005979  ...  0.023338  0.021755  0.019121  0.019234   \n",
      "4    0.002952  0.248697  ...  0.255410  0.285969  0.274210  0.289559   \n",
      "..        ...       ...  ...       ...       ...       ...       ...   \n",
      "112  0.001045  0.006734  ...  0.032159  0.032672  0.026955  0.026000   \n",
      "113  0.001062  0.006948  ...  0.032372  0.032666  0.027272  0.026638   \n",
      "114  0.000803  0.002986  ...  0.021979  0.019752  0.015641  0.015017   \n",
      "115  0.001076  0.005597  ...  0.024286  0.023214  0.019917  0.018972   \n",
      "116  0.001697  0.012845  ...  0.073683  0.073900  0.063172  0.064207   \n",
      "\n",
      "           B9          X          Y         Lake Name       Date  Chl-a  \n",
      "0    0.037797 -76.897686  42.585357       Seneca Lake   7/3/2017  2.300  \n",
      "1    0.026562 -76.415406  42.918062  Skaneateles Lake   7/3/2017  1.000  \n",
      "2    0.011269 -76.516000  42.844500       Owasco Lake  8/19/2017  3.600  \n",
      "3    0.007607 -76.415406  42.918062  Skaneateles Lake   7/3/2018  0.700  \n",
      "4    0.087976 -76.296330  42.874500       Otisco Lake   7/5/2018  7.900  \n",
      "..        ...        ...        ...               ...        ...    ...  \n",
      "112  0.010217 -77.276333  42.821167  Canandaigua Lake  9/20/2020  2.152  \n",
      "113  0.010159 -77.276333  42.821167  Canandaigua Lake  9/20/2020  2.152  \n",
      "114  0.007224 -76.897686  42.585357       Seneca Lake  9/20/2020  2.972  \n",
      "115  0.008117 -76.597500  42.555167       Cayuga Lake  9/20/2020  2.798  \n",
      "116  0.019121 -76.515000  42.470000       Cayuga Lake  9/27/2020  2.856  \n",
      "\n",
      "[117 rows x 25 columns]\n"
     ]
    }
   ],
   "source": [
    "# Read Field dataset \n",
    "Data0 = pd.read_csv('data_raw/Indices/FingerLakes.csv')\n",
    "\n",
    "# Remove none values\n",
    "Data = Data0.dropna()\n",
    "\n",
    "# Display the first few rows of our DataFrame\n",
    "#FieldData.head()\n",
    "print(Data)"
   ]
  },
  {
   "cell_type": "code",
   "execution_count": 5,
   "id": "f68dfb6b",
   "metadata": {},
   "outputs": [
    {
     "data": {
      "text/html": [
       "<div>\n",
       "<style scoped>\n",
       "    .dataframe tbody tr th:only-of-type {\n",
       "        vertical-align: middle;\n",
       "    }\n",
       "\n",
       "    .dataframe tbody tr th {\n",
       "        vertical-align: top;\n",
       "    }\n",
       "\n",
       "    .dataframe thead th {\n",
       "        text-align: right;\n",
       "    }\n",
       "</style>\n",
       "<table border=\"1\" class=\"dataframe\">\n",
       "  <thead>\n",
       "    <tr style=\"text-align: right;\">\n",
       "      <th></th>\n",
       "      <th>2BDA</th>\n",
       "      <th>3BDA</th>\n",
       "      <th>NDCI</th>\n",
       "      <th>Chl-a</th>\n",
       "    </tr>\n",
       "  </thead>\n",
       "  <tbody>\n",
       "    <tr>\n",
       "      <th>count</th>\n",
       "      <td>117.000000</td>\n",
       "      <td>117.000000</td>\n",
       "      <td>117.000000</td>\n",
       "      <td>117.000000</td>\n",
       "    </tr>\n",
       "    <tr>\n",
       "      <th>mean</th>\n",
       "      <td>0.926077</td>\n",
       "      <td>-0.071347</td>\n",
       "      <td>-0.039133</td>\n",
       "      <td>5.229865</td>\n",
       "    </tr>\n",
       "    <tr>\n",
       "      <th>std</th>\n",
       "      <td>0.069430</td>\n",
       "      <td>0.074212</td>\n",
       "      <td>0.036356</td>\n",
       "      <td>4.332009</td>\n",
       "    </tr>\n",
       "    <tr>\n",
       "      <th>min</th>\n",
       "      <td>0.796202</td>\n",
       "      <td>-0.173236</td>\n",
       "      <td>-0.113502</td>\n",
       "      <td>0.229200</td>\n",
       "    </tr>\n",
       "    <tr>\n",
       "      <th>25%</th>\n",
       "      <td>0.874731</td>\n",
       "      <td>-0.131772</td>\n",
       "      <td>-0.066979</td>\n",
       "      <td>2.290000</td>\n",
       "    </tr>\n",
       "    <tr>\n",
       "      <th>50%</th>\n",
       "      <td>0.910392</td>\n",
       "      <td>-0.092735</td>\n",
       "      <td>-0.046959</td>\n",
       "      <td>3.962000</td>\n",
       "    </tr>\n",
       "    <tr>\n",
       "      <th>75%</th>\n",
       "      <td>0.964004</td>\n",
       "      <td>-0.033550</td>\n",
       "      <td>-0.018529</td>\n",
       "      <td>7.060000</td>\n",
       "    </tr>\n",
       "    <tr>\n",
       "      <th>max</th>\n",
       "      <td>1.082229</td>\n",
       "      <td>0.110278</td>\n",
       "      <td>0.037450</td>\n",
       "      <td>24.760000</td>\n",
       "    </tr>\n",
       "    <tr>\n",
       "      <th>+3_std</th>\n",
       "      <td>1.134367</td>\n",
       "      <td>0.151288</td>\n",
       "      <td>0.069934</td>\n",
       "      <td>18.225893</td>\n",
       "    </tr>\n",
       "    <tr>\n",
       "      <th>-3_std</th>\n",
       "      <td>0.717788</td>\n",
       "      <td>-0.293982</td>\n",
       "      <td>-0.148200</td>\n",
       "      <td>-7.766163</td>\n",
       "    </tr>\n",
       "  </tbody>\n",
       "</table>\n",
       "</div>"
      ],
      "text/plain": [
       "              2BDA        3BDA        NDCI       Chl-a\n",
       "count   117.000000  117.000000  117.000000  117.000000\n",
       "mean      0.926077   -0.071347   -0.039133    5.229865\n",
       "std       0.069430    0.074212    0.036356    4.332009\n",
       "min       0.796202   -0.173236   -0.113502    0.229200\n",
       "25%       0.874731   -0.131772   -0.066979    2.290000\n",
       "50%       0.910392   -0.092735   -0.046959    3.962000\n",
       "75%       0.964004   -0.033550   -0.018529    7.060000\n",
       "max       1.082229    0.110278    0.037450   24.760000\n",
       "+3_std    1.134367    0.151288    0.069934   18.225893\n",
       "-3_std    0.717788   -0.293982   -0.148200   -7.766163"
      ]
     },
     "execution_count": 5,
     "metadata": {},
     "output_type": "execute_result"
    }
   ],
   "source": [
    "# Descriptive statistics of all variables\n",
    "list = ['2BDA', '3BDA', 'NDCI', 'Chl-a']\n",
    "\n",
    "# get the summary\n",
    "desc_data = Data [list].describe()\n",
    "\n",
    "# add the standard deviation metric\n",
    "desc_data.loc['+3_std'] = desc_data.loc['mean'] + (desc_data.loc['std'] * 3)\n",
    "desc_data.loc['-3_std'] = desc_data.loc['mean'] - (desc_data.loc['std'] * 3)\n",
    "\n",
    "# display it\n",
    "desc_data"
   ]
  },
  {
   "cell_type": "code",
   "execution_count": 6,
   "id": "ba28fba8",
   "metadata": {},
   "outputs": [
    {
     "data": {
      "text/html": [
       "<div>\n",
       "<style scoped>\n",
       "    .dataframe tbody tr th:only-of-type {\n",
       "        vertical-align: middle;\n",
       "    }\n",
       "\n",
       "    .dataframe tbody tr th {\n",
       "        vertical-align: top;\n",
       "    }\n",
       "\n",
       "    .dataframe thead th {\n",
       "        text-align: right;\n",
       "    }\n",
       "</style>\n",
       "<table border=\"1\" class=\"dataframe\">\n",
       "  <thead>\n",
       "    <tr style=\"text-align: right;\">\n",
       "      <th></th>\n",
       "      <th>2BDA</th>\n",
       "      <th>3BDA</th>\n",
       "      <th>NDCI</th>\n",
       "      <th>Chl-a</th>\n",
       "    </tr>\n",
       "  </thead>\n",
       "  <tbody>\n",
       "    <tr>\n",
       "      <th>2BDA</th>\n",
       "      <td>1.000000</td>\n",
       "      <td>0.951575</td>\n",
       "      <td>0.960599</td>\n",
       "      <td>0.130727</td>\n",
       "    </tr>\n",
       "    <tr>\n",
       "      <th>3BDA</th>\n",
       "      <td>0.951575</td>\n",
       "      <td>1.000000</td>\n",
       "      <td>0.983393</td>\n",
       "      <td>0.203516</td>\n",
       "    </tr>\n",
       "    <tr>\n",
       "      <th>NDCI</th>\n",
       "      <td>0.960599</td>\n",
       "      <td>0.983393</td>\n",
       "      <td>1.000000</td>\n",
       "      <td>0.144573</td>\n",
       "    </tr>\n",
       "    <tr>\n",
       "      <th>Chl-a</th>\n",
       "      <td>0.130727</td>\n",
       "      <td>0.203516</td>\n",
       "      <td>0.144573</td>\n",
       "      <td>1.000000</td>\n",
       "    </tr>\n",
       "  </tbody>\n",
       "</table>\n",
       "</div>"
      ],
      "text/plain": [
       "           2BDA      3BDA      NDCI     Chl-a\n",
       "2BDA   1.000000  0.951575  0.960599  0.130727\n",
       "3BDA   0.951575  1.000000  0.983393  0.203516\n",
       "NDCI   0.960599  0.983393  1.000000  0.144573\n",
       "Chl-a  0.130727  0.203516  0.144573  1.000000"
      ]
     },
     "metadata": {},
     "output_type": "display_data"
    }
   ],
   "source": [
    "# Pearson Coefficient \n",
    "corr = Data[list].corr(method='pearson')\n",
    "\n",
    "# display the correlation matrix\n",
    "display(corr)"
   ]
  },
  {
   "cell_type": "code",
   "execution_count": 7,
   "id": "9957fdaf",
   "metadata": {},
   "outputs": [
    {
     "data": {
      "text/plain": [
       "<seaborn.axisgrid.PairGrid at 0x22b2ad5bc88>"
      ]
     },
     "execution_count": 7,
     "metadata": {},
     "output_type": "execute_result"
    },
    {
     "data": {
      "image/png": "[encoded data removed]",
      "text/plain": [
       "<Figure size 720x720 with 20 Axes>"
      ]
     },
     "metadata": {
      "needs_background": "light"
     },
     "output_type": "display_data"
    }
   ],
   "source": [
    "# Scatter plot for each variable in our dataset against another variable\n",
    "sns.pairplot(Data[list])"
   ]
  },
  {
   "cell_type": "code",
   "execution_count": 8,
   "id": "b101947f",
   "metadata": {},
   "outputs": [],
   "source": [
    "# Getting column names\n",
    "X_columns = [\"2BDA\", \"3BDA\", \"NDCI\"]\n",
    "Y = Data[\"Chl-a\"]"
   ]
  },
  {
   "cell_type": "code",
   "execution_count": 9,
   "id": "f26d07d9",
   "metadata": {},
   "outputs": [
    {
     "data": {
      "text/html": [
       "<div>\n",
       "<style scoped>\n",
       "    .dataframe tbody tr th:only-of-type {\n",
       "        vertical-align: middle;\n",
       "    }\n",
       "\n",
       "    .dataframe tbody tr th {\n",
       "        vertical-align: top;\n",
       "    }\n",
       "\n",
       "    .dataframe thead th {\n",
       "        text-align: right;\n",
       "    }\n",
       "</style>\n",
       "<table border=\"1\" class=\"dataframe\">\n",
       "  <thead>\n",
       "    <tr style=\"text-align: right;\">\n",
       "      <th></th>\n",
       "      <th>VIF Factor</th>\n",
       "      <th>features</th>\n",
       "    </tr>\n",
       "  </thead>\n",
       "  <tbody>\n",
       "    <tr>\n",
       "      <th>0</th>\n",
       "      <td>2.0</td>\n",
       "      <td>2BDA</td>\n",
       "    </tr>\n",
       "    <tr>\n",
       "      <th>1</th>\n",
       "      <td>59.0</td>\n",
       "      <td>3BDA</td>\n",
       "    </tr>\n",
       "    <tr>\n",
       "      <th>2</th>\n",
       "      <td>65.0</td>\n",
       "      <td>NDCI</td>\n",
       "    </tr>\n",
       "  </tbody>\n",
       "</table>\n",
       "</div>"
      ],
      "text/plain": [
       "   VIF Factor features\n",
       "0         2.0     2BDA\n",
       "1        59.0     3BDA\n",
       "2        65.0     NDCI"
      ]
     },
     "execution_count": 9,
     "metadata": {},
     "output_type": "execute_result"
    }
   ],
   "source": [
    "#Calculate VIFs on our dataset\n",
    "vif = pd.DataFrame()\n",
    "vif[\"VIF Factor\"] = [variance_inflation_factor(Data[X_columns[0:3]].values, i) for i in range(Data[X_columns[0:3]].shape[1])]\n",
    "vif[\"features\"] = Data[X_columns[0:3]].columns\n",
    "\n",
    "# display VIF\n",
    "vif.round()"
   ]
  },
  {
   "cell_type": "code",
   "execution_count": 19,
   "id": "3dd70ce5",
   "metadata": {},
   "outputs": [
    {
     "name": "stdout",
     "output_type": "stream",
     "text": [
      "                            OLS Regression Results                            \n",
      "==============================================================================\n",
      "Dep. Variable:                  Chl-a   R-squared:                       0.138\n",
      "Model:                            OLS   Adj. R-squared:                  0.105\n",
      "Method:                 Least Squares   F-statistic:                     4.119\n",
      "Date:                Wed, 02 Mar 2022   Prob (F-statistic):            0.00917\n",
      "Time:                        15:54:05   Log-Likelihood:                -222.27\n",
      "No. Observations:                  81   AIC:                             452.5\n",
      "Df Residuals:                      77   BIC:                             462.1\n",
      "Df Model:                           3                                         \n",
      "Covariance Type:            nonrobust                                         \n",
      "==============================================================================\n",
      "                 coef    std err          t      P>|t|      [0.025      0.975]\n",
      "------------------------------------------------------------------------------\n",
      "const         26.8756     18.791      1.430      0.157     -10.541      64.293\n",
      "2BDA         -22.9624     18.887     -1.216      0.228     -60.572      14.647\n",
      "3BDA         116.1077     34.404      3.375      0.001      47.601     184.615\n",
      "NDCI        -196.3938     73.918     -2.657      0.010    -343.584     -49.203\n",
      "==============================================================================\n",
      "Omnibus:                       55.204   Durbin-Watson:                   1.801\n",
      "Prob(Omnibus):                  0.000   Jarque-Bera (JB):              254.076\n",
      "Skew:                           2.104   Prob(JB):                     6.73e-56\n",
      "Kurtosis:                      10.588   Cond. No.                         256.\n",
      "==============================================================================\n",
      "\n",
      "Notes:\n",
      "[1] Standard Errors assume that the covariance matrix of the errors is correctly specified.\n"
     ]
    }
   ],
   "source": [
    "# Extract independent variables (X) & dependent variable (Y)\n",
    "X = Data[X_columns]\n",
    "X=add_constant(X)\n",
    "Y = Data['Chl-a']\n",
    "\n",
    "# Split X and Y into train and test \n",
    "X_train, X_test, Y_train, Y_test = train_test_split(X, Y, test_size=0.30, random_state=1)\n",
    "\n",
    "# Create a Linear Regression model object\n",
    "regression_model = OLS(Y_train,X_train)\n",
    "result = OLS(Y_train,X_train).fit()\n",
    "print(result.summary())"
   ]
  },
  {
   "cell_type": "code",
   "execution_count": 20,
   "id": "0390256f",
   "metadata": {},
   "outputs": [
    {
     "name": "stdout",
     "output_type": "stream",
     "text": [
      "predicted Y: 69      4.215092\n",
      "46      2.442662\n",
      "58      6.558987\n",
      "114     5.761847\n",
      "73      5.640723\n",
      "98      4.763815\n",
      "31     11.401737\n",
      "53      3.980806\n",
      "65      3.934339\n",
      "96      4.021640\n",
      "95      6.821457\n",
      "97      5.949494\n",
      "2       5.472277\n",
      "62      4.379379\n",
      "110     5.329493\n",
      "55      3.575290\n",
      "103     3.032190\n",
      "100     5.520617\n",
      "66      5.067750\n",
      "44      6.064657\n",
      "77      6.766818\n",
      "17      4.338013\n",
      "81      4.694501\n",
      "74      2.574476\n",
      "56      3.603322\n",
      "94      8.096717\n",
      "35      7.055192\n",
      "38      4.632817\n",
      "93      4.568861\n",
      "48      2.675929\n",
      "33      4.880709\n",
      "59      6.281226\n",
      "92      3.059835\n",
      "42      4.485869\n",
      "10      5.670768\n",
      "85      4.112389\n",
      "dtype: float64\n"
     ]
    }
   ],
   "source": [
    "# Get predictions\n",
    "Y_predict = result.predict(X_test)\n",
    "print('predicted Y:', Y_predict)\n"
   ]
  },
  {
   "cell_type": "code",
   "execution_count": 21,
   "id": "e60ef424",
   "metadata": {},
   "outputs": [
    {
     "data": {
      "image/png": "[encoded data removed]",
      "text/plain": [
       "<Figure size 432x288 with 1 Axes>"
      ]
     },
     "metadata": {
      "needs_background": "light"
     },
     "output_type": "display_data"
    },
    {
     "name": "stdout",
     "output_type": "stream",
     "text": [
      "The mean of the residuals is 2.023e-15\n"
     ]
    }
   ],
   "source": [
    "import pylab\n",
    "\n",
    "# check for the normality of the residuals\n",
    "sm.qqplot(result.resid, line='s')\n",
    "pylab.show()\n",
    "\n",
    "# also check that the mean of the residuals is approx. 0.\n",
    "mean_residuals = sum(result.resid)/ len(result.resid)\n",
    "print(\"The mean of the residuals is {:.4}\".format(mean_residuals))"
   ]
  },
  {
   "cell_type": "code",
   "execution_count": 22,
   "id": "1b5a544d",
   "metadata": {},
   "outputs": [
    {
     "name": "stdout",
     "output_type": "stream",
     "text": [
      "MSE 22.5\n",
      "MAE 3.59\n",
      "RMSE 4.74\n"
     ]
    }
   ],
   "source": [
    "import math\n",
    "\n",
    "# Calculate the mean squared error\n",
    "model_mse = mean_squared_error(Y_test, Y_predict)\n",
    "\n",
    "# Calculate the mean absolute error\n",
    "model_mae = mean_absolute_error(Y_test, Y_predict)\n",
    "\n",
    "# Calulcate the root mean squared error\n",
    "model_rmse =  math.sqrt(model_mse)\n",
    "\n",
    "# Display the output\n",
    "print(\"MSE {:.3}\".format(model_mse))\n",
    "print(\"MAE {:.3}\".format(model_mae))\n",
    "print(\"RMSE {:.3}\".format(model_rmse))"
   ]
  },
  {
   "cell_type": "code",
   "execution_count": 23,
   "id": "a177e806",
   "metadata": {},
   "outputs": [
    {
     "data": {
      "text/plain": [
       "(96, 25)"
      ]
     },
     "execution_count": 23,
     "metadata": {},
     "output_type": "execute_result"
    }
   ],
   "source": [
    "# MergedData: Threshold  Chl-a < 2\n",
    "Data1 = Data.loc[(Data[\"Chl-a\"] > 2)]\n",
    "Data1.shape"
   ]
  },
  {
   "cell_type": "code",
   "execution_count": 24,
   "id": "5bdbfed2",
   "metadata": {},
   "outputs": [
    {
     "data": {
      "text/html": [
       "<div>\n",
       "<style scoped>\n",
       "    .dataframe tbody tr th:only-of-type {\n",
       "        vertical-align: middle;\n",
       "    }\n",
       "\n",
       "    .dataframe tbody tr th {\n",
       "        vertical-align: top;\n",
       "    }\n",
       "\n",
       "    .dataframe thead th {\n",
       "        text-align: right;\n",
       "    }\n",
       "</style>\n",
       "<table border=\"1\" class=\"dataframe\">\n",
       "  <thead>\n",
       "    <tr style=\"text-align: right;\">\n",
       "      <th></th>\n",
       "      <th>2BDA</th>\n",
       "      <th>3BDA</th>\n",
       "      <th>NDCI</th>\n",
       "      <th>Chl-a</th>\n",
       "    </tr>\n",
       "  </thead>\n",
       "  <tbody>\n",
       "    <tr>\n",
       "      <th>count</th>\n",
       "      <td>96.000000</td>\n",
       "      <td>96.000000</td>\n",
       "      <td>96.000000</td>\n",
       "      <td>96.000000</td>\n",
       "    </tr>\n",
       "    <tr>\n",
       "      <th>mean</th>\n",
       "      <td>0.922930</td>\n",
       "      <td>-0.073282</td>\n",
       "      <td>-0.040637</td>\n",
       "      <td>6.146367</td>\n",
       "    </tr>\n",
       "    <tr>\n",
       "      <th>std</th>\n",
       "      <td>0.070653</td>\n",
       "      <td>0.075521</td>\n",
       "      <td>0.036988</td>\n",
       "      <td>4.258724</td>\n",
       "    </tr>\n",
       "    <tr>\n",
       "      <th>min</th>\n",
       "      <td>0.796202</td>\n",
       "      <td>-0.167801</td>\n",
       "      <td>-0.113502</td>\n",
       "      <td>2.022000</td>\n",
       "    </tr>\n",
       "    <tr>\n",
       "      <th>25%</th>\n",
       "      <td>0.868419</td>\n",
       "      <td>-0.132168</td>\n",
       "      <td>-0.069905</td>\n",
       "      <td>3.175000</td>\n",
       "    </tr>\n",
       "    <tr>\n",
       "      <th>50%</th>\n",
       "      <td>0.905896</td>\n",
       "      <td>-0.100478</td>\n",
       "      <td>-0.049448</td>\n",
       "      <td>4.745000</td>\n",
       "    </tr>\n",
       "    <tr>\n",
       "      <th>75%</th>\n",
       "      <td>0.957728</td>\n",
       "      <td>-0.040492</td>\n",
       "      <td>-0.021756</td>\n",
       "      <td>7.909000</td>\n",
       "    </tr>\n",
       "    <tr>\n",
       "      <th>max</th>\n",
       "      <td>1.082229</td>\n",
       "      <td>0.110278</td>\n",
       "      <td>0.037450</td>\n",
       "      <td>24.760000</td>\n",
       "    </tr>\n",
       "    <tr>\n",
       "      <th>+3_std</th>\n",
       "      <td>1.134888</td>\n",
       "      <td>0.153281</td>\n",
       "      <td>0.070326</td>\n",
       "      <td>18.922538</td>\n",
       "    </tr>\n",
       "    <tr>\n",
       "      <th>-3_std</th>\n",
       "      <td>0.710971</td>\n",
       "      <td>-0.299845</td>\n",
       "      <td>-0.151601</td>\n",
       "      <td>-6.629804</td>\n",
       "    </tr>\n",
       "  </tbody>\n",
       "</table>\n",
       "</div>"
      ],
      "text/plain": [
       "             2BDA       3BDA       NDCI      Chl-a\n",
       "count   96.000000  96.000000  96.000000  96.000000\n",
       "mean     0.922930  -0.073282  -0.040637   6.146367\n",
       "std      0.070653   0.075521   0.036988   4.258724\n",
       "min      0.796202  -0.167801  -0.113502   2.022000\n",
       "25%      0.868419  -0.132168  -0.069905   3.175000\n",
       "50%      0.905896  -0.100478  -0.049448   4.745000\n",
       "75%      0.957728  -0.040492  -0.021756   7.909000\n",
       "max      1.082229   0.110278   0.037450  24.760000\n",
       "+3_std   1.134888   0.153281   0.070326  18.922538\n",
       "-3_std   0.710971  -0.299845  -0.151601  -6.629804"
      ]
     },
     "execution_count": 24,
     "metadata": {},
     "output_type": "execute_result"
    }
   ],
   "source": [
    "# get the summary\n",
    "desc_data1 = Data1 [list].describe()\n",
    "\n",
    "# add the standard deviation metric\n",
    "desc_data1.loc['+3_std'] = desc_data1.loc['mean'] + (desc_data1.loc['std'] * 3)\n",
    "desc_data1.loc['-3_std'] = desc_data1.loc['mean'] - (desc_data1.loc['std'] * 3)\n",
    "\n",
    "# display it\n",
    "desc_data1"
   ]
  },
  {
   "cell_type": "code",
   "execution_count": 25,
   "id": "4118bad4",
   "metadata": {},
   "outputs": [
    {
     "data": {
      "text/html": [
       "<div>\n",
       "<style scoped>\n",
       "    .dataframe tbody tr th:only-of-type {\n",
       "        vertical-align: middle;\n",
       "    }\n",
       "\n",
       "    .dataframe tbody tr th {\n",
       "        vertical-align: top;\n",
       "    }\n",
       "\n",
       "    .dataframe thead th {\n",
       "        text-align: right;\n",
       "    }\n",
       "</style>\n",
       "<table border=\"1\" class=\"dataframe\">\n",
       "  <thead>\n",
       "    <tr style=\"text-align: right;\">\n",
       "      <th></th>\n",
       "      <th>2BDA</th>\n",
       "      <th>3BDA</th>\n",
       "      <th>NDCI</th>\n",
       "      <th>Chl-a</th>\n",
       "    </tr>\n",
       "  </thead>\n",
       "  <tbody>\n",
       "    <tr>\n",
       "      <th>2BDA</th>\n",
       "      <td>1.000000</td>\n",
       "      <td>0.945179</td>\n",
       "      <td>0.953792</td>\n",
       "      <td>0.207248</td>\n",
       "    </tr>\n",
       "    <tr>\n",
       "      <th>3BDA</th>\n",
       "      <td>0.945179</td>\n",
       "      <td>1.000000</td>\n",
       "      <td>0.983052</td>\n",
       "      <td>0.273258</td>\n",
       "    </tr>\n",
       "    <tr>\n",
       "      <th>NDCI</th>\n",
       "      <td>0.953792</td>\n",
       "      <td>0.983052</td>\n",
       "      <td>1.000000</td>\n",
       "      <td>0.219329</td>\n",
       "    </tr>\n",
       "    <tr>\n",
       "      <th>Chl-a</th>\n",
       "      <td>0.207248</td>\n",
       "      <td>0.273258</td>\n",
       "      <td>0.219329</td>\n",
       "      <td>1.000000</td>\n",
       "    </tr>\n",
       "  </tbody>\n",
       "</table>\n",
       "</div>"
      ],
      "text/plain": [
       "           2BDA      3BDA      NDCI     Chl-a\n",
       "2BDA   1.000000  0.945179  0.953792  0.207248\n",
       "3BDA   0.945179  1.000000  0.983052  0.273258\n",
       "NDCI   0.953792  0.983052  1.000000  0.219329\n",
       "Chl-a  0.207248  0.273258  0.219329  1.000000"
      ]
     },
     "metadata": {},
     "output_type": "display_data"
    }
   ],
   "source": [
    "# Pearson Coefficient \n",
    "corr1 = Data1[list].corr(method='pearson')\n",
    "\n",
    "# display the correlation matrix\n",
    "display(corr1)"
   ]
  },
  {
   "cell_type": "code",
   "execution_count": 26,
   "id": "ba1128fc",
   "metadata": {},
   "outputs": [
    {
     "data": {
      "text/plain": [
       "<seaborn.axisgrid.PairGrid at 0x22b2e254d08>"
      ]
     },
     "execution_count": 26,
     "metadata": {},
     "output_type": "execute_result"
    },
    {
     "data": {
      "image/png": "[encoded data removed]",
      "text/plain": [
       "<Figure size 720x720 with 20 Axes>"
      ]
     },
     "metadata": {
      "needs_background": "light"
     },
     "output_type": "display_data"
    }
   ],
   "source": [
    "# Scatter plot for each variable in our dataset against another variable\n",
    "sns.pairplot(Data1[list])"
   ]
  },
  {
   "cell_type": "code",
   "execution_count": 27,
   "id": "465097b2",
   "metadata": {},
   "outputs": [
    {
     "name": "stdout",
     "output_type": "stream",
     "text": [
      "                            OLS Regression Results                            \n",
      "==============================================================================\n",
      "Dep. Variable:                  Chl-a   R-squared:                       0.253\n",
      "Model:                            OLS   Adj. R-squared:                  0.217\n",
      "Method:                 Least Squares   F-statistic:                     7.103\n",
      "Date:                Wed, 02 Mar 2022   Prob (F-statistic):           0.000347\n",
      "Time:                        15:54:21   Log-Likelihood:                -187.04\n",
      "No. Observations:                  67   AIC:                             382.1\n",
      "Df Residuals:                      63   BIC:                             390.9\n",
      "Df Model:                           3                                         \n",
      "Covariance Type:            nonrobust                                         \n",
      "==============================================================================\n",
      "                 coef    std err          t      P>|t|      [0.025      0.975]\n",
      "------------------------------------------------------------------------------\n",
      "const        851.3044    284.548      2.992      0.004     282.680    1419.928\n",
      "2BDA        -843.5674    284.312     -2.967      0.004   -1411.719    -275.416\n",
      "3BDA         219.0205     57.106      3.835      0.000     104.904     333.137\n",
      "NDCI        1200.8285    455.506      2.636      0.011     290.573    2111.084\n",
      "==============================================================================\n",
      "Omnibus:                       26.086   Durbin-Watson:                   2.058\n",
      "Prob(Omnibus):                  0.000   Jarque-Bera (JB):               44.628\n",
      "Skew:                           1.406   Prob(JB):                     2.04e-10\n",
      "Kurtosis:                       5.842   Cond. No.                     1.66e+03\n",
      "==============================================================================\n",
      "\n",
      "Notes:\n",
      "[1] Standard Errors assume that the covariance matrix of the errors is correctly specified.\n",
      "[2] The condition number is large, 1.66e+03. This might indicate that there are\n",
      "strong multicollinearity or other numerical problems.\n"
     ]
    }
   ],
   "source": [
    "# Extract independent variables (X) & dependent variable (Y)\n",
    "X = Data1[X_columns]\n",
    "X = add_constant(X)\n",
    "Y = Data1['Chl-a']\n",
    "\n",
    "# Split X and Y into train and test \n",
    "X_train, X_test, Y_train, Y_test = train_test_split(X, Y, test_size=0.30, random_state=1)\n",
    "\n",
    "# Create a Linear Regression model object\n",
    "regression_model = OLS(Y_train,X_train)\n",
    "result = OLS(Y_train,X_train).fit()\n",
    "print(result.summary())"
   ]
  },
  {
   "cell_type": "code",
   "execution_count": 28,
   "id": "4daa683f",
   "metadata": {},
   "outputs": [
    {
     "name": "stdout",
     "output_type": "stream",
     "text": [
      "predicted Y: 46       4.426856\n",
      "35      10.121409\n",
      "52       6.350768\n",
      "69       3.423904\n",
      "95      10.580695\n",
      "89       8.199784\n",
      "76       6.012319\n",
      "50       3.261791\n",
      "98       3.838054\n",
      "105     11.143124\n",
      "72       4.612012\n",
      "30       7.762813\n",
      "112      3.350905\n",
      "92       4.227004\n",
      "36       9.792088\n",
      "64       3.702704\n",
      "45       8.109769\n",
      "12       5.422020\n",
      "4      182.384029\n",
      "44       7.924442\n",
      "62       3.089580\n",
      "67       6.243483\n",
      "21       2.715925\n",
      "110      9.026171\n",
      "116      7.349512\n",
      "39       8.286732\n",
      "37       7.046466\n",
      "56       3.780854\n",
      "104     11.056690\n",
      "dtype: float64\n"
     ]
    }
   ],
   "source": [
    "# Get predictions\n",
    "Y_predict = result.predict(X_test)\n",
    "print('predicted Y:', Y_predict)"
   ]
  },
  {
   "cell_type": "code",
   "execution_count": 29,
   "id": "4db08a53",
   "metadata": {},
   "outputs": [
    {
     "name": "stdout",
     "output_type": "stream",
     "text": [
      "MSE 1.06e+03\n",
      "MAE 8.62\n",
      "RMSE 32.6\n"
     ]
    }
   ],
   "source": [
    "import math\n",
    "\n",
    "# Calculate the mean squared error\n",
    "model_mse = mean_squared_error(Y_test, Y_predict)\n",
    "\n",
    "# Calculate the mean absolute error\n",
    "model_mae = mean_absolute_error(Y_test, Y_predict)\n",
    "\n",
    "# Calulcate the root mean squared error\n",
    "model_rmse =  math.sqrt(model_mse)\n",
    "\n",
    "# Display the output\n",
    "print(\"MSE {:.3}\".format(model_mse))\n",
    "print(\"MAE {:.3}\".format(model_mae))\n",
    "print(\"RMSE {:.3}\".format(model_rmse))"
   ]
  },
  {
   "cell_type": "code",
   "execution_count": 30,
   "id": "73212e38",
   "metadata": {},
   "outputs": [
    {
     "data": {
      "text/plain": [
       "(23, 25)"
      ]
     },
     "execution_count": 30,
     "metadata": {},
     "output_type": "execute_result"
    }
   ],
   "source": [
    "# MergedData: Threshold  Chl-a < 8\n",
    "Data2 = Data.loc[(Data[\"Chl-a\"] > 8)]\n",
    "Data2.shape"
   ]
  },
  {
   "cell_type": "code",
   "execution_count": 31,
   "id": "8fb9b066",
   "metadata": {},
   "outputs": [
    {
     "data": {
      "text/html": [
       "<div>\n",
       "<style scoped>\n",
       "    .dataframe tbody tr th:only-of-type {\n",
       "        vertical-align: middle;\n",
       "    }\n",
       "\n",
       "    .dataframe tbody tr th {\n",
       "        vertical-align: top;\n",
       "    }\n",
       "\n",
       "    .dataframe thead th {\n",
       "        text-align: right;\n",
       "    }\n",
       "</style>\n",
       "<table border=\"1\" class=\"dataframe\">\n",
       "  <thead>\n",
       "    <tr style=\"text-align: right;\">\n",
       "      <th></th>\n",
       "      <th>2BDA</th>\n",
       "      <th>3BDA</th>\n",
       "      <th>NDCI</th>\n",
       "      <th>Chl-a</th>\n",
       "    </tr>\n",
       "  </thead>\n",
       "  <tbody>\n",
       "    <tr>\n",
       "      <th>count</th>\n",
       "      <td>23.000000</td>\n",
       "      <td>23.000000</td>\n",
       "      <td>23.000000</td>\n",
       "      <td>23.000000</td>\n",
       "    </tr>\n",
       "    <tr>\n",
       "      <th>mean</th>\n",
       "      <td>0.964529</td>\n",
       "      <td>-0.025062</td>\n",
       "      <td>-0.020131</td>\n",
       "      <td>12.324000</td>\n",
       "    </tr>\n",
       "    <tr>\n",
       "      <th>std</th>\n",
       "      <td>0.084977</td>\n",
       "      <td>0.093199</td>\n",
       "      <td>0.043871</td>\n",
       "      <td>4.054804</td>\n",
       "    </tr>\n",
       "    <tr>\n",
       "      <th>min</th>\n",
       "      <td>0.843901</td>\n",
       "      <td>-0.135495</td>\n",
       "      <td>-0.084683</td>\n",
       "      <td>8.864000</td>\n",
       "    </tr>\n",
       "    <tr>\n",
       "      <th>25%</th>\n",
       "      <td>0.889503</td>\n",
       "      <td>-0.104556</td>\n",
       "      <td>-0.058632</td>\n",
       "      <td>10.091000</td>\n",
       "    </tr>\n",
       "    <tr>\n",
       "      <th>50%</th>\n",
       "      <td>0.927337</td>\n",
       "      <td>-0.065664</td>\n",
       "      <td>-0.037805</td>\n",
       "      <td>10.568000</td>\n",
       "    </tr>\n",
       "    <tr>\n",
       "      <th>75%</th>\n",
       "      <td>1.053191</td>\n",
       "      <td>0.068992</td>\n",
       "      <td>0.025676</td>\n",
       "      <td>12.665000</td>\n",
       "    </tr>\n",
       "    <tr>\n",
       "      <th>max</th>\n",
       "      <td>1.070283</td>\n",
       "      <td>0.100207</td>\n",
       "      <td>0.033933</td>\n",
       "      <td>24.760000</td>\n",
       "    </tr>\n",
       "    <tr>\n",
       "      <th>+3_std</th>\n",
       "      <td>1.219460</td>\n",
       "      <td>0.254534</td>\n",
       "      <td>0.111481</td>\n",
       "      <td>24.488413</td>\n",
       "    </tr>\n",
       "    <tr>\n",
       "      <th>-3_std</th>\n",
       "      <td>0.709598</td>\n",
       "      <td>-0.304658</td>\n",
       "      <td>-0.151743</td>\n",
       "      <td>0.159587</td>\n",
       "    </tr>\n",
       "  </tbody>\n",
       "</table>\n",
       "</div>"
      ],
      "text/plain": [
       "             2BDA       3BDA       NDCI      Chl-a\n",
       "count   23.000000  23.000000  23.000000  23.000000\n",
       "mean     0.964529  -0.025062  -0.020131  12.324000\n",
       "std      0.084977   0.093199   0.043871   4.054804\n",
       "min      0.843901  -0.135495  -0.084683   8.864000\n",
       "25%      0.889503  -0.104556  -0.058632  10.091000\n",
       "50%      0.927337  -0.065664  -0.037805  10.568000\n",
       "75%      1.053191   0.068992   0.025676  12.665000\n",
       "max      1.070283   0.100207   0.033933  24.760000\n",
       "+3_std   1.219460   0.254534   0.111481  24.488413\n",
       "-3_std   0.709598  -0.304658  -0.151743   0.159587"
      ]
     },
     "execution_count": 31,
     "metadata": {},
     "output_type": "execute_result"
    }
   ],
   "source": [
    "# get the summary\n",
    "desc_data2 = Data2 [list].describe()\n",
    "\n",
    "# add the standard deviation metric\n",
    "desc_data2.loc['+3_std'] = desc_data2.loc['mean'] + (desc_data2.loc['std'] * 3)\n",
    "desc_data2.loc['-3_std'] = desc_data2.loc['mean'] - (desc_data2.loc['std'] * 3)\n",
    "\n",
    "# display it\n",
    "desc_data2"
   ]
  },
  {
   "cell_type": "code",
   "execution_count": 32,
   "id": "343d062b",
   "metadata": {},
   "outputs": [
    {
     "data": {
      "text/html": [
       "<div>\n",
       "<style scoped>\n",
       "    .dataframe tbody tr th:only-of-type {\n",
       "        vertical-align: middle;\n",
       "    }\n",
       "\n",
       "    .dataframe tbody tr th {\n",
       "        vertical-align: top;\n",
       "    }\n",
       "\n",
       "    .dataframe thead th {\n",
       "        text-align: right;\n",
       "    }\n",
       "</style>\n",
       "<table border=\"1\" class=\"dataframe\">\n",
       "  <thead>\n",
       "    <tr style=\"text-align: right;\">\n",
       "      <th></th>\n",
       "      <th>2BDA</th>\n",
       "      <th>3BDA</th>\n",
       "      <th>NDCI</th>\n",
       "      <th>Chl-a</th>\n",
       "    </tr>\n",
       "  </thead>\n",
       "  <tbody>\n",
       "    <tr>\n",
       "      <th>2BDA</th>\n",
       "      <td>1.000000</td>\n",
       "      <td>0.994939</td>\n",
       "      <td>0.999805</td>\n",
       "      <td>-0.002778</td>\n",
       "    </tr>\n",
       "    <tr>\n",
       "      <th>3BDA</th>\n",
       "      <td>0.994939</td>\n",
       "      <td>1.000000</td>\n",
       "      <td>0.993735</td>\n",
       "      <td>0.021173</td>\n",
       "    </tr>\n",
       "    <tr>\n",
       "      <th>NDCI</th>\n",
       "      <td>0.999805</td>\n",
       "      <td>0.993735</td>\n",
       "      <td>1.000000</td>\n",
       "      <td>0.002390</td>\n",
       "    </tr>\n",
       "    <tr>\n",
       "      <th>Chl-a</th>\n",
       "      <td>-0.002778</td>\n",
       "      <td>0.021173</td>\n",
       "      <td>0.002390</td>\n",
       "      <td>1.000000</td>\n",
       "    </tr>\n",
       "  </tbody>\n",
       "</table>\n",
       "</div>"
      ],
      "text/plain": [
       "           2BDA      3BDA      NDCI     Chl-a\n",
       "2BDA   1.000000  0.994939  0.999805 -0.002778\n",
       "3BDA   0.994939  1.000000  0.993735  0.021173\n",
       "NDCI   0.999805  0.993735  1.000000  0.002390\n",
       "Chl-a -0.002778  0.021173  0.002390  1.000000"
      ]
     },
     "metadata": {},
     "output_type": "display_data"
    }
   ],
   "source": [
    "# Pearson Coefficient \n",
    "corr2 = Data2[list].corr(method='pearson')\n",
    "\n",
    "# display the correlation matrix\n",
    "display(corr2)"
   ]
  },
  {
   "cell_type": "code",
   "execution_count": 33,
   "id": "c2bd25e0",
   "metadata": {},
   "outputs": [
    {
     "data": {
      "text/plain": [
       "<seaborn.axisgrid.PairGrid at 0x22b2eb7c408>"
      ]
     },
     "execution_count": 33,
     "metadata": {},
     "output_type": "execute_result"
    },
    {
     "data": {
      "image/png": "[encoded data removed]",
      "text/plain": [
       "<Figure size 720x720 with 20 Axes>"
      ]
     },
     "metadata": {
      "needs_background": "light"
     },
     "output_type": "display_data"
    }
   ],
   "source": [
    "# Scatter plot for each variable in our dataset against another variable\n",
    "sns.pairplot(Data2[list])"
   ]
  },
  {
   "cell_type": "code",
   "execution_count": 34,
   "id": "5c778788",
   "metadata": {},
   "outputs": [
    {
     "name": "stdout",
     "output_type": "stream",
     "text": [
      "                            OLS Regression Results                            \n",
      "==============================================================================\n",
      "Dep. Variable:                  Chl-a   R-squared:                       0.474\n",
      "Model:                            OLS   Adj. R-squared:                  0.342\n",
      "Method:                 Least Squares   F-statistic:                     3.598\n",
      "Date:                Wed, 02 Mar 2022   Prob (F-statistic):             0.0462\n",
      "Time:                        15:54:51   Log-Likelihood:                -39.858\n",
      "No. Observations:                  16   AIC:                             87.72\n",
      "Df Residuals:                      12   BIC:                             90.81\n",
      "Df Model:                           3                                         \n",
      "Covariance Type:            nonrobust                                         \n",
      "==============================================================================\n",
      "                 coef    std err          t      P>|t|      [0.025      0.975]\n",
      "------------------------------------------------------------------------------\n",
      "const       3245.0844   1048.639      3.095      0.009     960.297    5529.871\n",
      "2BDA       -3229.2697   1047.019     -3.084      0.009   -5510.529    -948.011\n",
      "3BDA         373.1394    142.677      2.615      0.023      62.273     684.006\n",
      "NDCI        5462.1519   1833.821      2.979      0.012    1466.600    9457.704\n",
      "==============================================================================\n",
      "Omnibus:                        1.339   Durbin-Watson:                   1.987\n",
      "Prob(Omnibus):                  0.512   Jarque-Bera (JB):                0.997\n",
      "Skew:                           0.359   Prob(JB):                        0.607\n",
      "Kurtosis:                       2.010   Cond. No.                     3.89e+03\n",
      "==============================================================================\n",
      "\n",
      "Notes:\n",
      "[1] Standard Errors assume that the covariance matrix of the errors is correctly specified.\n",
      "[2] The condition number is large, 3.89e+03. This might indicate that there are\n",
      "strong multicollinearity or other numerical problems.\n"
     ]
    },
    {
     "name": "stderr",
     "output_type": "stream",
     "text": [
      "C:\\Users\\SarShel\\anaconda3\\envs\\geostats_env\\lib\\site-packages\\scipy\\stats\\stats.py:1604: UserWarning: kurtosistest only valid for n>=20 ... continuing anyway, n=16\n",
      "  \"anyway, n=%i\" % int(n))\n"
     ]
    }
   ],
   "source": [
    "# Extract independent variables (X) & dependent variable (Y)\n",
    "X = Data2[X_columns]\n",
    "X = add_constant(X)\n",
    "Y = Data2['Chl-a']\n",
    "\n",
    "# Split X and Y into train and test \n",
    "X_train, X_test, Y_train, Y_test = train_test_split(X, Y, test_size=0.30, random_state=1)\n",
    "\n",
    "# Create a Linear Regression model object\n",
    "regression_model = OLS(Y_train,X_train)\n",
    "result = OLS(Y_train,X_train).fit()\n",
    "print(result.summary())"
   ]
  },
  {
   "cell_type": "code",
   "execution_count": 35,
   "id": "8d55e6ee",
   "metadata": {},
   "outputs": [
    {
     "name": "stdout",
     "output_type": "stream",
     "text": [
      "predicted Y: 101    14.221912\n",
      "89      7.042398\n",
      "33     14.312578\n",
      "69      4.395985\n",
      "98     -0.828655\n",
      "87      7.413934\n",
      "58      9.201582\n",
      "dtype: float64\n"
     ]
    }
   ],
   "source": [
    "# Get predictions\n",
    "Y_predict = result.predict(X_test)\n",
    "print('predicted Y:', Y_predict)"
   ]
  },
  {
   "cell_type": "code",
   "execution_count": 36,
   "id": "03c274a9",
   "metadata": {},
   "outputs": [
    {
     "name": "stdout",
     "output_type": "stream",
     "text": [
      "MSE 40.5\n",
      "MAE 5.14\n",
      "RMSE 6.37\n"
     ]
    }
   ],
   "source": [
    "import math\n",
    "\n",
    "# Calculate the mean squared error\n",
    "model_mse = mean_squared_error(Y_test, Y_predict)\n",
    "\n",
    "# Calculate the mean absolute error\n",
    "model_mae = mean_absolute_error(Y_test, Y_predict)\n",
    "\n",
    "# Calulcate the root mean squared error\n",
    "model_rmse =  math.sqrt(model_mse)\n",
    "\n",
    "# Display the output\n",
    "print(\"MSE {:.3}\".format(model_mse))\n",
    "print(\"MAE {:.3}\".format(model_mae))\n",
    "print(\"RMSE {:.3}\".format(model_rmse))"
   ]
  },
  {
   "cell_type": "code",
   "execution_count": null,
   "id": "ba8a9ffa",
   "metadata": {},
   "outputs": [],
   "source": []
  },
  {
   "cell_type": "code",
   "execution_count": null,
   "id": "4b1324c7",
   "metadata": {},
   "outputs": [],
   "source": []
  }
 ],
 "metadata": {
  "kernelspec": {
   "display_name": "Python 3",
   "language": "python",
   "name": "python3"
  },
  "language_info": {
   "codemirror_mode": {
    "name": "ipython",
    "version": 3
   },
   "file_extension": ".py",
   "mimetype": "text/x-python",
   "name": "python",
   "nbconvert_exporter": "python",
   "pygments_lexer": "ipython3",
   "version": "3.8.8"
  }
 },
 "nbformat": 4,
 "nbformat_minor": 5
}
