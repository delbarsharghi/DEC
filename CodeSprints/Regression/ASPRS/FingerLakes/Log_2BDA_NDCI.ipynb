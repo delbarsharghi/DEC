{
 "cells": [
  {
   "cell_type": "code",
   "execution_count": 1,
   "id": "3cecfed9",
   "metadata": {},
   "outputs": [],
   "source": [
    "import pandas as pd\n",
    "import numpy as np\n",
    "import matplotlib.pyplot as plt\n",
    "import statsmodels.api as sm\n",
    "import seaborn as sns\n",
    "\n",
    "from statsmodels.stats.outliers_influence import variance_inflation_factor\n",
    "from statsmodels.api import OLS\n",
    "from statsmodels.api import add_constant\n",
    "\n",
    "from sklearn.linear_model import LinearRegression\n",
    "from sklearn.model_selection import train_test_split\n",
    "from sklearn.metrics import mean_squared_error, r2_score, mean_absolute_error"
   ]
  },
  {
   "cell_type": "code",
   "execution_count": 2,
   "id": "61c99100",
   "metadata": {},
   "outputs": [
    {
     "data": {
      "text/plain": [
       "'C:\\\\Users\\\\SarShel\\\\DEC\\\\CodeSprints\\\\Regression\\\\ASPRS\\\\FingerLakes'"
      ]
     },
     "execution_count": 2,
     "metadata": {},
     "output_type": "execute_result"
    }
   ],
   "source": [
    "import os\n",
    "os.getcwd()"
   ]
  },
  {
   "cell_type": "code",
   "execution_count": 3,
   "id": "b94d0b17",
   "metadata": {},
   "outputs": [
    {
     "data": {
      "text/plain": [
       "'C:\\\\Users\\\\SarShel\\\\DEC\\\\Regression'"
      ]
     },
     "execution_count": 3,
     "metadata": {},
     "output_type": "execute_result"
    }
   ],
   "source": [
    "os.chdir('C:\\\\Users\\\\SarShel\\\\DEC\\\\Regression')\n",
    "os.getcwd()"
   ]
  },
  {
   "cell_type": "code",
   "execution_count": 4,
   "id": "fed793c1",
   "metadata": {},
   "outputs": [
    {
     "name": "stdout",
     "output_type": "stream",
     "text": [
      "     Unnamed: 0  Year  Month  Day      2BDA      3BDA      NDCI        B1  \\\n",
      "0           200  2017      7    3  0.912575 -0.084196 -0.049463  0.160814   \n",
      "1           201  2017      7    3  0.919797 -0.077209 -0.041808  0.180428   \n",
      "2           282  2017      8   19  0.865965 -0.134743 -0.071927  0.158669   \n",
      "3           388  2018      7    3  0.876471 -0.133994 -0.066039  0.107397   \n",
      "4           389  2018      7    5  0.806616  0.016263  0.006623  0.230924   \n",
      "..          ...   ...    ...  ...       ...       ...       ...       ...   \n",
      "112        1450  2020      9   20  0.940167 -0.059841 -0.034770  0.117000   \n",
      "113        1451  2020      9   20  0.937430 -0.060636 -0.035975  0.117417   \n",
      "114        1455  2020      9   20  0.860895 -0.138232 -0.074871  0.107421   \n",
      "115        1456  2020      9   20  0.865806 -0.129911 -0.072058  0.110141   \n",
      "116        1483  2020      9   27  0.985506 -0.017302 -0.007349  0.160810   \n",
      "\n",
      "          B10       B11  ...        B6        B7        B8       B8A  \\\n",
      "0    0.002848  0.103259  ...  0.103159  0.097314  0.149414  0.084431   \n",
      "1    0.000800  0.069831  ...  0.093952  0.098010  0.082476  0.094162   \n",
      "2    0.000800  0.010607  ...  0.047628  0.049969  0.039976  0.039831   \n",
      "3    0.001528  0.005979  ...  0.023338  0.021755  0.019121  0.019234   \n",
      "4    0.002952  0.248697  ...  0.255410  0.285969  0.274210  0.289559   \n",
      "..        ...       ...  ...       ...       ...       ...       ...   \n",
      "112  0.001045  0.006734  ...  0.032159  0.032672  0.026955  0.026000   \n",
      "113  0.001062  0.006948  ...  0.032372  0.032666  0.027272  0.026638   \n",
      "114  0.000803  0.002986  ...  0.021979  0.019752  0.015641  0.015017   \n",
      "115  0.001076  0.005597  ...  0.024286  0.023214  0.019917  0.018972   \n",
      "116  0.001697  0.012845  ...  0.073683  0.073900  0.063172  0.064207   \n",
      "\n",
      "           B9          X          Y         Lake Name       Date  Chl-a  \n",
      "0    0.037797 -76.897686  42.585357       Seneca Lake   7/3/2017  2.300  \n",
      "1    0.026562 -76.415406  42.918062  Skaneateles Lake   7/3/2017  1.000  \n",
      "2    0.011269 -76.516000  42.844500       Owasco Lake  8/19/2017  3.600  \n",
      "3    0.007607 -76.415406  42.918062  Skaneateles Lake   7/3/2018  0.700  \n",
      "4    0.087976 -76.296330  42.874500       Otisco Lake   7/5/2018  7.900  \n",
      "..        ...        ...        ...               ...        ...    ...  \n",
      "112  0.010217 -77.276333  42.821167  Canandaigua Lake  9/20/2020  2.152  \n",
      "113  0.010159 -77.276333  42.821167  Canandaigua Lake  9/20/2020  2.152  \n",
      "114  0.007224 -76.897686  42.585357       Seneca Lake  9/20/2020  2.972  \n",
      "115  0.008117 -76.597500  42.555167       Cayuga Lake  9/20/2020  2.798  \n",
      "116  0.019121 -76.515000  42.470000       Cayuga Lake  9/27/2020  2.856  \n",
      "\n",
      "[117 rows x 25 columns]\n"
     ]
    }
   ],
   "source": [
    "# Read Field dataset \n",
    "Data0 = pd.read_csv('data_raw/Indices/FingerLakes.csv')\n",
    "\n",
    "# Remove none values\n",
    "Data = Data0.dropna()\n",
    "\n",
    "# Display the first few rows of our DataFrame\n",
    "#FieldData.head()\n",
    "print(Data)"
   ]
  },
  {
   "cell_type": "code",
   "execution_count": 5,
   "id": "6ad2e6c9",
   "metadata": {},
   "outputs": [
    {
     "name": "stdout",
     "output_type": "stream",
     "text": [
      "     Unnamed: 0  Year  Month  Day      2BDA      3BDA      NDCI        B1  \\\n",
      "0           200  2017      7    3  0.912575 -0.084196 -0.049463  0.160814   \n",
      "1           201  2017      7    3  0.919797 -0.077209 -0.041808  0.180428   \n",
      "2           282  2017      8   19  0.865965 -0.134743 -0.071927  0.158669   \n",
      "3           388  2018      7    3  0.876471 -0.133994 -0.066039  0.107397   \n",
      "4           389  2018      7    5  0.806616  0.016263  0.006623  0.230924   \n",
      "..          ...   ...    ...  ...       ...       ...       ...       ...   \n",
      "112        1450  2020      9   20  0.940167 -0.059841 -0.034770  0.117000   \n",
      "113        1451  2020      9   20  0.937430 -0.060636 -0.035975  0.117417   \n",
      "114        1455  2020      9   20  0.860895 -0.138232 -0.074871  0.107421   \n",
      "115        1456  2020      9   20  0.865806 -0.129911 -0.072058  0.110141   \n",
      "116        1483  2020      9   27  0.985506 -0.017302 -0.007349  0.160810   \n",
      "\n",
      "          B10       B11  ...        B7        B8       B8A        B9  \\\n",
      "0    0.002848  0.103259  ...  0.097314  0.149414  0.084431  0.037797   \n",
      "1    0.000800  0.069831  ...  0.098010  0.082476  0.094162  0.026562   \n",
      "2    0.000800  0.010607  ...  0.049969  0.039976  0.039831  0.011269   \n",
      "3    0.001528  0.005979  ...  0.021755  0.019121  0.019234  0.007607   \n",
      "4    0.002952  0.248697  ...  0.285969  0.274210  0.289559  0.087976   \n",
      "..        ...       ...  ...       ...       ...       ...       ...   \n",
      "112  0.001045  0.006734  ...  0.032672  0.026955  0.026000  0.010217   \n",
      "113  0.001062  0.006948  ...  0.032666  0.027272  0.026638  0.010159   \n",
      "114  0.000803  0.002986  ...  0.019752  0.015641  0.015017  0.007224   \n",
      "115  0.001076  0.005597  ...  0.023214  0.019917  0.018972  0.008117   \n",
      "116  0.001697  0.012845  ...  0.073900  0.063172  0.064207  0.019121   \n",
      "\n",
      "             X          Y         Lake Name       Date  Chl-a   LnChl-a  \n",
      "0   -76.897686  42.585357       Seneca Lake   7/3/2017  2.300  0.832909  \n",
      "1   -76.415406  42.918062  Skaneateles Lake   7/3/2017  1.000  0.000000  \n",
      "2   -76.516000  42.844500       Owasco Lake  8/19/2017  3.600  1.280934  \n",
      "3   -76.415406  42.918062  Skaneateles Lake   7/3/2018  0.700 -0.356675  \n",
      "4   -76.296330  42.874500       Otisco Lake   7/5/2018  7.900  2.066863  \n",
      "..         ...        ...               ...        ...    ...       ...  \n",
      "112 -77.276333  42.821167  Canandaigua Lake  9/20/2020  2.152  0.766398  \n",
      "113 -77.276333  42.821167  Canandaigua Lake  9/20/2020  2.152  0.766398  \n",
      "114 -76.897686  42.585357       Seneca Lake  9/20/2020  2.972  1.089235  \n",
      "115 -76.597500  42.555167       Cayuga Lake  9/20/2020  2.798  1.028905  \n",
      "116 -76.515000  42.470000       Cayuga Lake  9/27/2020  2.856  1.049422  \n",
      "\n",
      "[117 rows x 26 columns]\n"
     ]
    }
   ],
   "source": [
    "# Return the natural logarithm of Chl-a (Y)\n",
    "Data['LnChl-a']=np.log(Data['Chl-a'])\n",
    "print(Data)"
   ]
  },
  {
   "cell_type": "code",
   "execution_count": 6,
   "id": "f68dfb6b",
   "metadata": {},
   "outputs": [
    {
     "data": {
      "text/html": [
       "<div>\n",
       "<style scoped>\n",
       "    .dataframe tbody tr th:only-of-type {\n",
       "        vertical-align: middle;\n",
       "    }\n",
       "\n",
       "    .dataframe tbody tr th {\n",
       "        vertical-align: top;\n",
       "    }\n",
       "\n",
       "    .dataframe thead th {\n",
       "        text-align: right;\n",
       "    }\n",
       "</style>\n",
       "<table border=\"1\" class=\"dataframe\">\n",
       "  <thead>\n",
       "    <tr style=\"text-align: right;\">\n",
       "      <th></th>\n",
       "      <th>2BDA</th>\n",
       "      <th>NDCI</th>\n",
       "      <th>LnChl-a</th>\n",
       "    </tr>\n",
       "  </thead>\n",
       "  <tbody>\n",
       "    <tr>\n",
       "      <th>count</th>\n",
       "      <td>117.000000</td>\n",
       "      <td>117.000000</td>\n",
       "      <td>117.000000</td>\n",
       "    </tr>\n",
       "    <tr>\n",
       "      <th>mean</th>\n",
       "      <td>0.926077</td>\n",
       "      <td>-0.039133</td>\n",
       "      <td>1.318743</td>\n",
       "    </tr>\n",
       "    <tr>\n",
       "      <th>std</th>\n",
       "      <td>0.069430</td>\n",
       "      <td>0.036356</td>\n",
       "      <td>0.880799</td>\n",
       "    </tr>\n",
       "    <tr>\n",
       "      <th>min</th>\n",
       "      <td>0.796202</td>\n",
       "      <td>-0.113502</td>\n",
       "      <td>-1.473160</td>\n",
       "    </tr>\n",
       "    <tr>\n",
       "      <th>25%</th>\n",
       "      <td>0.874731</td>\n",
       "      <td>-0.066979</td>\n",
       "      <td>0.828552</td>\n",
       "    </tr>\n",
       "    <tr>\n",
       "      <th>50%</th>\n",
       "      <td>0.910392</td>\n",
       "      <td>-0.046959</td>\n",
       "      <td>1.376749</td>\n",
       "    </tr>\n",
       "    <tr>\n",
       "      <th>75%</th>\n",
       "      <td>0.964004</td>\n",
       "      <td>-0.018529</td>\n",
       "      <td>1.954445</td>\n",
       "    </tr>\n",
       "    <tr>\n",
       "      <th>max</th>\n",
       "      <td>1.082229</td>\n",
       "      <td>0.037450</td>\n",
       "      <td>3.209229</td>\n",
       "    </tr>\n",
       "    <tr>\n",
       "      <th>+3_std</th>\n",
       "      <td>1.134367</td>\n",
       "      <td>0.069934</td>\n",
       "      <td>3.961140</td>\n",
       "    </tr>\n",
       "    <tr>\n",
       "      <th>-3_std</th>\n",
       "      <td>0.717788</td>\n",
       "      <td>-0.148200</td>\n",
       "      <td>-1.323654</td>\n",
       "    </tr>\n",
       "  </tbody>\n",
       "</table>\n",
       "</div>"
      ],
      "text/plain": [
       "              2BDA        NDCI     LnChl-a\n",
       "count   117.000000  117.000000  117.000000\n",
       "mean      0.926077   -0.039133    1.318743\n",
       "std       0.069430    0.036356    0.880799\n",
       "min       0.796202   -0.113502   -1.473160\n",
       "25%       0.874731   -0.066979    0.828552\n",
       "50%       0.910392   -0.046959    1.376749\n",
       "75%       0.964004   -0.018529    1.954445\n",
       "max       1.082229    0.037450    3.209229\n",
       "+3_std    1.134367    0.069934    3.961140\n",
       "-3_std    0.717788   -0.148200   -1.323654"
      ]
     },
     "execution_count": 6,
     "metadata": {},
     "output_type": "execute_result"
    }
   ],
   "source": [
    "# Descriptive statistics of all variables\n",
    "list = ['2BDA', 'NDCI', 'LnChl-a']\n",
    "\n",
    "# get the summary\n",
    "desc_data = Data [list].describe()\n",
    "\n",
    "# add the standard deviation metric\n",
    "desc_data.loc['+3_std'] = desc_data.loc['mean'] + (desc_data.loc['std'] * 3)\n",
    "desc_data.loc['-3_std'] = desc_data.loc['mean'] - (desc_data.loc['std'] * 3)\n",
    "\n",
    "# display it\n",
    "desc_data"
   ]
  },
  {
   "cell_type": "code",
   "execution_count": 7,
   "id": "ba28fba8",
   "metadata": {},
   "outputs": [
    {
     "data": {
      "text/html": [
       "<div>\n",
       "<style scoped>\n",
       "    .dataframe tbody tr th:only-of-type {\n",
       "        vertical-align: middle;\n",
       "    }\n",
       "\n",
       "    .dataframe tbody tr th {\n",
       "        vertical-align: top;\n",
       "    }\n",
       "\n",
       "    .dataframe thead th {\n",
       "        text-align: right;\n",
       "    }\n",
       "</style>\n",
       "<table border=\"1\" class=\"dataframe\">\n",
       "  <thead>\n",
       "    <tr style=\"text-align: right;\">\n",
       "      <th></th>\n",
       "      <th>2BDA</th>\n",
       "      <th>NDCI</th>\n",
       "      <th>LnChl-a</th>\n",
       "    </tr>\n",
       "  </thead>\n",
       "  <tbody>\n",
       "    <tr>\n",
       "      <th>2BDA</th>\n",
       "      <td>1.000000</td>\n",
       "      <td>0.960599</td>\n",
       "      <td>0.051453</td>\n",
       "    </tr>\n",
       "    <tr>\n",
       "      <th>NDCI</th>\n",
       "      <td>0.960599</td>\n",
       "      <td>1.000000</td>\n",
       "      <td>0.070628</td>\n",
       "    </tr>\n",
       "    <tr>\n",
       "      <th>LnChl-a</th>\n",
       "      <td>0.051453</td>\n",
       "      <td>0.070628</td>\n",
       "      <td>1.000000</td>\n",
       "    </tr>\n",
       "  </tbody>\n",
       "</table>\n",
       "</div>"
      ],
      "text/plain": [
       "             2BDA      NDCI   LnChl-a\n",
       "2BDA     1.000000  0.960599  0.051453\n",
       "NDCI     0.960599  1.000000  0.070628\n",
       "LnChl-a  0.051453  0.070628  1.000000"
      ]
     },
     "metadata": {},
     "output_type": "display_data"
    }
   ],
   "source": [
    "# Pearson Coefficient \n",
    "corr = Data[list].corr(method='pearson')\n",
    "\n",
    "# display the correlation matrix\n",
    "display(corr)"
   ]
  },
  {
   "cell_type": "code",
   "execution_count": 8,
   "id": "9957fdaf",
   "metadata": {},
   "outputs": [
    {
     "data": {
      "text/plain": [
       "<seaborn.axisgrid.PairGrid at 0x1c710d5da88>"
      ]
     },
     "execution_count": 8,
     "metadata": {},
     "output_type": "execute_result"
    },
    {
     "data": {
      "image/png": "[encoded data removed]",
      "text/plain": [
       "<Figure size 540x540 with 12 Axes>"
      ]
     },
     "metadata": {
      "needs_background": "light"
     },
     "output_type": "display_data"
    }
   ],
   "source": [
    "# Scatter plot for each variable in our dataset against another variable\n",
    "sns.pairplot(Data[list])"
   ]
  },
  {
   "cell_type": "code",
   "execution_count": 9,
   "id": "b101947f",
   "metadata": {},
   "outputs": [],
   "source": [
    "# Getting column names\n",
    "X_columns = [\"2BDA\", \"NDCI\"]\n",
    "Y = Data[\"LnChl-a\"]"
   ]
  },
  {
   "cell_type": "code",
   "execution_count": 10,
   "id": "f26d07d9",
   "metadata": {},
   "outputs": [
    {
     "data": {
      "text/html": [
       "<div>\n",
       "<style scoped>\n",
       "    .dataframe tbody tr th:only-of-type {\n",
       "        vertical-align: middle;\n",
       "    }\n",
       "\n",
       "    .dataframe tbody tr th {\n",
       "        vertical-align: top;\n",
       "    }\n",
       "\n",
       "    .dataframe thead th {\n",
       "        text-align: right;\n",
       "    }\n",
       "</style>\n",
       "<table border=\"1\" class=\"dataframe\">\n",
       "  <thead>\n",
       "    <tr style=\"text-align: right;\">\n",
       "      <th></th>\n",
       "      <th>VIF Factor</th>\n",
       "      <th>features</th>\n",
       "    </tr>\n",
       "  </thead>\n",
       "  <tbody>\n",
       "    <tr>\n",
       "      <th>0</th>\n",
       "      <td>2.0</td>\n",
       "      <td>2BDA</td>\n",
       "    </tr>\n",
       "    <tr>\n",
       "      <th>1</th>\n",
       "      <td>2.0</td>\n",
       "      <td>NDCI</td>\n",
       "    </tr>\n",
       "  </tbody>\n",
       "</table>\n",
       "</div>"
      ],
      "text/plain": [
       "   VIF Factor features\n",
       "0         2.0     2BDA\n",
       "1         2.0     NDCI"
      ]
     },
     "execution_count": 10,
     "metadata": {},
     "output_type": "execute_result"
    }
   ],
   "source": [
    "#Calculate VIFs on our dataset\n",
    "vif = pd.DataFrame()\n",
    "vif[\"VIF Factor\"] = [variance_inflation_factor(Data[X_columns[0:2]].values, i) for i in range(Data[X_columns[0:2]].shape[1])]\n",
    "vif[\"features\"] = Data[X_columns[0:2]].columns\n",
    "\n",
    "# display VIF\n",
    "vif.round()"
   ]
  },
  {
   "cell_type": "code",
   "execution_count": 11,
   "id": "3dd70ce5",
   "metadata": {},
   "outputs": [
    {
     "name": "stdout",
     "output_type": "stream",
     "text": [
      "                            OLS Regression Results                            \n",
      "==============================================================================\n",
      "Dep. Variable:                LnChl-a   R-squared:                       0.031\n",
      "Model:                            OLS   Adj. R-squared:                  0.006\n",
      "Method:                 Least Squares   F-statistic:                     1.256\n",
      "Date:                Wed, 02 Mar 2022   Prob (F-statistic):              0.291\n",
      "Time:                        18:00:40   Log-Likelihood:                -96.035\n",
      "No. Observations:                  81   AIC:                             198.1\n",
      "Df Residuals:                      78   BIC:                             205.3\n",
      "Df Model:                           2                                         \n",
      "Covariance Type:            nonrobust                                         \n",
      "==============================================================================\n",
      "                 coef    std err          t      P>|t|      [0.025      0.975]\n",
      "------------------------------------------------------------------------------\n",
      "const          5.4520      3.908      1.395      0.167      -2.329      13.233\n",
      "2BDA          -4.2734      3.923     -1.089      0.279     -12.084       3.537\n",
      "NDCI           4.7035      7.515      0.626      0.533     -10.258      19.665\n",
      "==============================================================================\n",
      "Omnibus:                        0.522   Durbin-Watson:                   2.045\n",
      "Prob(Omnibus):                  0.770   Jarque-Bera (JB):                0.423\n",
      "Skew:                          -0.174   Prob(JB):                        0.809\n",
      "Kurtosis:                       2.939   Cond. No.                         140.\n",
      "==============================================================================\n",
      "\n",
      "Notes:\n",
      "[1] Standard Errors assume that the covariance matrix of the errors is correctly specified.\n"
     ]
    }
   ],
   "source": [
    "# Extract independent variables (X) & dependent variable (Y)\n",
    "X = Data[X_columns]\n",
    "X = add_constant(X)\n",
    "Y = Data['LnChl-a']\n",
    "\n",
    "# Split X and Y into train and test \n",
    "X_train, X_test, Y_train, Y_test = train_test_split(X, Y, test_size=0.30, random_state=1)\n",
    "\n",
    "# Create a Linear Regression model object\n",
    "regression_model = OLS(Y_train,X_train)\n",
    "result = OLS(Y_train,X_train).fit()\n",
    "print(result.summary())"
   ]
  },
  {
   "cell_type": "code",
   "execution_count": 12,
   "id": "0390256f",
   "metadata": {},
   "outputs": [
    {
     "name": "stdout",
     "output_type": "stream",
     "text": [
      "Natural logarithm of predicted Y: 69     1.399522\n",
      "46     1.262534\n",
      "58     1.038306\n",
      "114    1.420915\n",
      "73     1.368117\n",
      "98     1.232852\n",
      "31     1.473823\n",
      "53     1.319361\n",
      "65     1.306032\n",
      "96     1.367700\n",
      "95     1.048347\n",
      "97     1.419955\n",
      "2      1.413097\n",
      "62     1.408765\n",
      "110    1.092876\n",
      "55     1.360325\n",
      "103    1.354411\n",
      "100    1.454479\n",
      "66     1.155930\n",
      "44     1.381857\n",
      "77     1.468493\n",
      "17     1.253357\n",
      "81     1.397707\n",
      "74     1.336107\n",
      "56     1.373358\n",
      "94     1.489275\n",
      "35     1.040050\n",
      "38     1.114945\n",
      "93     1.417212\n",
      "48     1.348259\n",
      "33     1.125419\n",
      "59     1.046451\n",
      "92     1.322313\n",
      "42     1.326041\n",
      "10     1.458384\n",
      "85     1.313457\n",
      "dtype: float64\n"
     ]
    }
   ],
   "source": [
    "# Get predictions\n",
    "LnY_predict = result.predict(X_test)\n",
    "print('Natural logarithm of predicted Y:', LnY_predict)"
   ]
  },
  {
   "cell_type": "code",
   "execution_count": 13,
   "id": "1b5a544d",
   "metadata": {},
   "outputs": [
    {
     "name": "stdout",
     "output_type": "stream",
     "text": [
      "MSE 7.4\n",
      "MAE 2.41\n",
      "RMSE 2.72\n"
     ]
    }
   ],
   "source": [
    "import math\n",
    "\n",
    "Y_predict = np.exp(LnY_predict)\n",
    "\n",
    "# Calculate the mean squared error\n",
    "model_mse = mean_squared_error(Y_test, Y_predict)\n",
    "\n",
    "# Calculate the mean absolute error\n",
    "model_mae = mean_absolute_error(Y_test, Y_predict)\n",
    "\n",
    "# Calulcate the root mean squared error\n",
    "model_rmse =  math.sqrt(model_mse)\n",
    "\n",
    "# Display the output\n",
    "print(\"MSE {:.3}\".format(model_mse))\n",
    "print(\"MAE {:.3}\".format(model_mae))\n",
    "print(\"RMSE {:.3}\".format(model_rmse))"
   ]
  },
  {
   "cell_type": "code",
   "execution_count": 14,
   "id": "09febd2e",
   "metadata": {},
   "outputs": [
    {
     "data": {
      "image/png": "[encoded data removed]",
      "text/plain": [
       "<Figure size 432x288 with 1 Axes>"
      ]
     },
     "metadata": {
      "needs_background": "light"
     },
     "output_type": "display_data"
    },
    {
     "name": "stdout",
     "output_type": "stream",
     "text": [
      "The mean of the residuals is -2.821e-15\n"
     ]
    }
   ],
   "source": [
    "import pylab\n",
    "\n",
    "# check for the normality of the residuals\n",
    "sm.qqplot(result.resid, line='s')\n",
    "pylab.show()\n",
    "\n",
    "# also check that the mean of the residuals is approx. 0.\n",
    "mean_residuals = sum(result.resid)/ len(result.resid)\n",
    "print(\"The mean of the residuals is {:.4}\".format(mean_residuals))"
   ]
  },
  {
   "cell_type": "code",
   "execution_count": 15,
   "id": "a177e806",
   "metadata": {},
   "outputs": [
    {
     "data": {
      "text/plain": [
       "(96, 26)"
      ]
     },
     "execution_count": 15,
     "metadata": {},
     "output_type": "execute_result"
    }
   ],
   "source": [
    "# MergedData: Threshold  Chl-a < 2\n",
    "Data1 = Data.loc[(Data[\"LnChl-a\"] > 0.6931)]\n",
    "Data1.shape"
   ]
  },
  {
   "cell_type": "code",
   "execution_count": 16,
   "id": "5bdbfed2",
   "metadata": {},
   "outputs": [
    {
     "data": {
      "text/html": [
       "<div>\n",
       "<style scoped>\n",
       "    .dataframe tbody tr th:only-of-type {\n",
       "        vertical-align: middle;\n",
       "    }\n",
       "\n",
       "    .dataframe tbody tr th {\n",
       "        vertical-align: top;\n",
       "    }\n",
       "\n",
       "    .dataframe thead th {\n",
       "        text-align: right;\n",
       "    }\n",
       "</style>\n",
       "<table border=\"1\" class=\"dataframe\">\n",
       "  <thead>\n",
       "    <tr style=\"text-align: right;\">\n",
       "      <th></th>\n",
       "      <th>2BDA</th>\n",
       "      <th>NDCI</th>\n",
       "      <th>LnChl-a</th>\n",
       "    </tr>\n",
       "  </thead>\n",
       "  <tbody>\n",
       "    <tr>\n",
       "      <th>count</th>\n",
       "      <td>96.000000</td>\n",
       "      <td>96.000000</td>\n",
       "      <td>96.000000</td>\n",
       "    </tr>\n",
       "    <tr>\n",
       "      <th>mean</th>\n",
       "      <td>0.922930</td>\n",
       "      <td>-0.040637</td>\n",
       "      <td>1.624022</td>\n",
       "    </tr>\n",
       "    <tr>\n",
       "      <th>std</th>\n",
       "      <td>0.070653</td>\n",
       "      <td>0.036988</td>\n",
       "      <td>0.604424</td>\n",
       "    </tr>\n",
       "    <tr>\n",
       "      <th>min</th>\n",
       "      <td>0.796202</td>\n",
       "      <td>-0.113502</td>\n",
       "      <td>0.704087</td>\n",
       "    </tr>\n",
       "    <tr>\n",
       "      <th>25%</th>\n",
       "      <td>0.868419</td>\n",
       "      <td>-0.069905</td>\n",
       "      <td>1.155214</td>\n",
       "    </tr>\n",
       "    <tr>\n",
       "      <th>50%</th>\n",
       "      <td>0.905896</td>\n",
       "      <td>-0.049448</td>\n",
       "      <td>1.557091</td>\n",
       "    </tr>\n",
       "    <tr>\n",
       "      <th>75%</th>\n",
       "      <td>0.957728</td>\n",
       "      <td>-0.021756</td>\n",
       "      <td>2.067999</td>\n",
       "    </tr>\n",
       "    <tr>\n",
       "      <th>max</th>\n",
       "      <td>1.082229</td>\n",
       "      <td>0.037450</td>\n",
       "      <td>3.209229</td>\n",
       "    </tr>\n",
       "    <tr>\n",
       "      <th>+3_std</th>\n",
       "      <td>1.134888</td>\n",
       "      <td>0.070326</td>\n",
       "      <td>3.437294</td>\n",
       "    </tr>\n",
       "    <tr>\n",
       "      <th>-3_std</th>\n",
       "      <td>0.710971</td>\n",
       "      <td>-0.151601</td>\n",
       "      <td>-0.189250</td>\n",
       "    </tr>\n",
       "  </tbody>\n",
       "</table>\n",
       "</div>"
      ],
      "text/plain": [
       "             2BDA       NDCI    LnChl-a\n",
       "count   96.000000  96.000000  96.000000\n",
       "mean     0.922930  -0.040637   1.624022\n",
       "std      0.070653   0.036988   0.604424\n",
       "min      0.796202  -0.113502   0.704087\n",
       "25%      0.868419  -0.069905   1.155214\n",
       "50%      0.905896  -0.049448   1.557091\n",
       "75%      0.957728  -0.021756   2.067999\n",
       "max      1.082229   0.037450   3.209229\n",
       "+3_std   1.134888   0.070326   3.437294\n",
       "-3_std   0.710971  -0.151601  -0.189250"
      ]
     },
     "execution_count": 16,
     "metadata": {},
     "output_type": "execute_result"
    }
   ],
   "source": [
    "# get the summary\n",
    "desc_data1 = Data1 [list].describe()\n",
    "\n",
    "# add the standard deviation metric\n",
    "desc_data1.loc['+3_std'] = desc_data1.loc['mean'] + (desc_data1.loc['std'] * 3)\n",
    "desc_data1.loc['-3_std'] = desc_data1.loc['mean'] - (desc_data1.loc['std'] * 3)\n",
    "\n",
    "# display it\n",
    "desc_data1"
   ]
  },
  {
   "cell_type": "code",
   "execution_count": 17,
   "id": "4118bad4",
   "metadata": {},
   "outputs": [
    {
     "data": {
      "text/html": [
       "<div>\n",
       "<style scoped>\n",
       "    .dataframe tbody tr th:only-of-type {\n",
       "        vertical-align: middle;\n",
       "    }\n",
       "\n",
       "    .dataframe tbody tr th {\n",
       "        vertical-align: top;\n",
       "    }\n",
       "\n",
       "    .dataframe thead th {\n",
       "        text-align: right;\n",
       "    }\n",
       "</style>\n",
       "<table border=\"1\" class=\"dataframe\">\n",
       "  <thead>\n",
       "    <tr style=\"text-align: right;\">\n",
       "      <th></th>\n",
       "      <th>2BDA</th>\n",
       "      <th>NDCI</th>\n",
       "      <th>LnChl-a</th>\n",
       "    </tr>\n",
       "  </thead>\n",
       "  <tbody>\n",
       "    <tr>\n",
       "      <th>2BDA</th>\n",
       "      <td>1.000000</td>\n",
       "      <td>0.953792</td>\n",
       "      <td>0.169320</td>\n",
       "    </tr>\n",
       "    <tr>\n",
       "      <th>NDCI</th>\n",
       "      <td>0.953792</td>\n",
       "      <td>1.000000</td>\n",
       "      <td>0.191357</td>\n",
       "    </tr>\n",
       "    <tr>\n",
       "      <th>LnChl-a</th>\n",
       "      <td>0.169320</td>\n",
       "      <td>0.191357</td>\n",
       "      <td>1.000000</td>\n",
       "    </tr>\n",
       "  </tbody>\n",
       "</table>\n",
       "</div>"
      ],
      "text/plain": [
       "             2BDA      NDCI   LnChl-a\n",
       "2BDA     1.000000  0.953792  0.169320\n",
       "NDCI     0.953792  1.000000  0.191357\n",
       "LnChl-a  0.169320  0.191357  1.000000"
      ]
     },
     "metadata": {},
     "output_type": "display_data"
    }
   ],
   "source": [
    "# Pearson Coefficient \n",
    "corr1 = Data1[list].corr(method='pearson')\n",
    "\n",
    "# display the correlation matrix\n",
    "display(corr1)"
   ]
  },
  {
   "cell_type": "code",
   "execution_count": 18,
   "id": "ba1128fc",
   "metadata": {},
   "outputs": [
    {
     "data": {
      "text/plain": [
       "<seaborn.axisgrid.PairGrid at 0x1c711c04988>"
      ]
     },
     "execution_count": 18,
     "metadata": {},
     "output_type": "execute_result"
    },
    {
     "data": {
      "image/png": "[encoded data removed]",
      "text/plain": [
       "<Figure size 540x540 with 12 Axes>"
      ]
     },
     "metadata": {
      "needs_background": "light"
     },
     "output_type": "display_data"
    }
   ],
   "source": [
    "# Scatter plot for each variable in our dataset against another variable\n",
    "sns.pairplot(Data1[list])"
   ]
  },
  {
   "cell_type": "code",
   "execution_count": 19,
   "id": "465097b2",
   "metadata": {},
   "outputs": [
    {
     "name": "stdout",
     "output_type": "stream",
     "text": [
      "                            OLS Regression Results                            \n",
      "==============================================================================\n",
      "Dep. Variable:                LnChl-a   R-squared:                       0.061\n",
      "Model:                            OLS   Adj. R-squared:                  0.032\n",
      "Method:                 Least Squares   F-statistic:                     2.090\n",
      "Date:                Wed, 02 Mar 2022   Prob (F-statistic):              0.132\n",
      "Time:                        18:01:11   Log-Likelihood:                -59.838\n",
      "No. Observations:                  67   AIC:                             125.7\n",
      "Df Residuals:                      64   BIC:                             132.3\n",
      "Df Model:                           2                                         \n",
      "Covariance Type:            nonrobust                                         \n",
      "==============================================================================\n",
      "                 coef    std err          t      P>|t|      [0.025      0.975]\n",
      "------------------------------------------------------------------------------\n",
      "const          7.5204     26.574      0.283      0.778     -45.567      60.608\n",
      "2BDA          -5.7541     26.528     -0.217      0.829     -58.750      47.242\n",
      "NDCI          15.0972     50.112      0.301      0.764     -85.012     115.207\n",
      "==============================================================================\n",
      "Omnibus:                        3.457   Durbin-Watson:                   1.809\n",
      "Prob(Omnibus):                  0.178   Jarque-Bera (JB):                3.235\n",
      "Skew:                           0.534   Prob(JB):                        0.198\n",
      "Kurtosis:                       2.866   Cond. No.                     1.15e+03\n",
      "==============================================================================\n",
      "\n",
      "Notes:\n",
      "[1] Standard Errors assume that the covariance matrix of the errors is correctly specified.\n",
      "[2] The condition number is large, 1.15e+03. This might indicate that there are\n",
      "strong multicollinearity or other numerical problems.\n"
     ]
    }
   ],
   "source": [
    "# Extract independent variables (X) & dependent variable (Y)\n",
    "X = Data1[X_columns]\n",
    "X = add_constant(X)\n",
    "Y = Data1['LnChl-a']\n",
    "\n",
    "# Split X and Y into train and test \n",
    "X_train, X_test, Y_train, Y_test = train_test_split(X, Y, test_size=0.30, random_state=1)\n",
    "\n",
    "# Create a Linear Regression model object\n",
    "regression_model = OLS(Y_train,X_train)\n",
    "result = OLS(Y_train,X_train).fit()\n",
    "print(result.summary())"
   ]
  },
  {
   "cell_type": "code",
   "execution_count": 20,
   "id": "4daa683f",
   "metadata": {},
   "outputs": [
    {
     "name": "stdout",
     "output_type": "stream",
     "text": [
      "Natural logarithm of predicted Y: 46     1.673123\n",
      "35     1.864195\n",
      "52     1.571536\n",
      "69     1.476818\n",
      "95     1.867072\n",
      "89     1.386102\n",
      "76     1.608484\n",
      "50     1.557306\n",
      "98     1.640659\n",
      "105    1.874261\n",
      "72     1.437747\n",
      "30     1.511057\n",
      "112    1.585737\n",
      "92     1.594220\n",
      "36     1.830504\n",
      "64     1.420126\n",
      "45     1.463228\n",
      "12     1.587581\n",
      "4      2.979111\n",
      "44     1.507858\n",
      "62     1.459119\n",
      "67     1.542857\n",
      "21     1.510437\n",
      "110    1.837183\n",
      "116    1.738838\n",
      "39     1.800973\n",
      "37     1.723626\n",
      "56     1.522953\n",
      "104    1.859292\n",
      "dtype: float64\n"
     ]
    }
   ],
   "source": [
    "# Get predictions\n",
    "LnY_predict = result.predict(X_test)\n",
    "print('Natural logarithm of predicted Y:', LnY_predict)"
   ]
  },
  {
   "cell_type": "code",
   "execution_count": 21,
   "id": "4db08a53",
   "metadata": {},
   "outputs": [
    {
     "name": "stdout",
     "output_type": "stream",
     "text": [
      "MSE 22.7\n",
      "MAE 3.87\n",
      "RMSE 4.76\n"
     ]
    }
   ],
   "source": [
    "import math\n",
    "\n",
    "Y_predict = np.exp(LnY_predict)\n",
    "\n",
    "# Calculate the mean squared error\n",
    "model_mse = mean_squared_error(Y_test, Y_predict)\n",
    "\n",
    "# Calculate the mean absolute error\n",
    "model_mae = mean_absolute_error(Y_test, Y_predict)\n",
    "\n",
    "# Calulcate the root mean squared error\n",
    "model_rmse =  math.sqrt(model_mse)\n",
    "\n",
    "# Display the output\n",
    "print(\"MSE {:.3}\".format(model_mse))\n",
    "print(\"MAE {:.3}\".format(model_mae))\n",
    "print(\"RMSE {:.3}\".format(model_rmse))"
   ]
  },
  {
   "cell_type": "code",
   "execution_count": 22,
   "id": "0c922d3b",
   "metadata": {},
   "outputs": [
    {
     "data": {
      "image/png": "[encoded data removed]",
      "text/plain": [
       "<Figure size 432x288 with 1 Axes>"
      ]
     },
     "metadata": {
      "needs_background": "light"
     },
     "output_type": "display_data"
    },
    {
     "name": "stdout",
     "output_type": "stream",
     "text": [
      "The mean of the residuals is -6.615e-15\n"
     ]
    }
   ],
   "source": [
    "import pylab\n",
    "\n",
    "# check for the normality of the residuals\n",
    "sm.qqplot(result.resid, line='s')\n",
    "pylab.show()\n",
    "\n",
    "# also check that the mean of the residuals is approx. 0.\n",
    "mean_residuals = sum(result.resid)/ len(result.resid)\n",
    "print(\"The mean of the residuals is {:.4}\".format(mean_residuals))"
   ]
  },
  {
   "cell_type": "code",
   "execution_count": 23,
   "id": "73212e38",
   "metadata": {},
   "outputs": [
    {
     "data": {
      "text/plain": [
       "(23, 26)"
      ]
     },
     "execution_count": 23,
     "metadata": {},
     "output_type": "execute_result"
    }
   ],
   "source": [
    "# MergedData: Threshold  Chl-a > 8\n",
    "Data2 = Data.loc[(Data[\"LnChl-a\"] > 2.0794)]\n",
    "Data2.shape"
   ]
  },
  {
   "cell_type": "code",
   "execution_count": 24,
   "id": "8fb9b066",
   "metadata": {},
   "outputs": [
    {
     "data": {
      "text/html": [
       "<div>\n",
       "<style scoped>\n",
       "    .dataframe tbody tr th:only-of-type {\n",
       "        vertical-align: middle;\n",
       "    }\n",
       "\n",
       "    .dataframe tbody tr th {\n",
       "        vertical-align: top;\n",
       "    }\n",
       "\n",
       "    .dataframe thead th {\n",
       "        text-align: right;\n",
       "    }\n",
       "</style>\n",
       "<table border=\"1\" class=\"dataframe\">\n",
       "  <thead>\n",
       "    <tr style=\"text-align: right;\">\n",
       "      <th></th>\n",
       "      <th>2BDA</th>\n",
       "      <th>NDCI</th>\n",
       "      <th>LnChl-a</th>\n",
       "    </tr>\n",
       "  </thead>\n",
       "  <tbody>\n",
       "    <tr>\n",
       "      <th>count</th>\n",
       "      <td>23.000000</td>\n",
       "      <td>23.000000</td>\n",
       "      <td>23.000000</td>\n",
       "    </tr>\n",
       "    <tr>\n",
       "      <th>mean</th>\n",
       "      <td>0.964529</td>\n",
       "      <td>-0.020131</td>\n",
       "      <td>2.471272</td>\n",
       "    </tr>\n",
       "    <tr>\n",
       "      <th>std</th>\n",
       "      <td>0.084977</td>\n",
       "      <td>0.043871</td>\n",
       "      <td>0.273217</td>\n",
       "    </tr>\n",
       "    <tr>\n",
       "      <th>min</th>\n",
       "      <td>0.843901</td>\n",
       "      <td>-0.084683</td>\n",
       "      <td>2.181998</td>\n",
       "    </tr>\n",
       "    <tr>\n",
       "      <th>25%</th>\n",
       "      <td>0.889503</td>\n",
       "      <td>-0.058632</td>\n",
       "      <td>2.311643</td>\n",
       "    </tr>\n",
       "    <tr>\n",
       "      <th>50%</th>\n",
       "      <td>0.927337</td>\n",
       "      <td>-0.037805</td>\n",
       "      <td>2.357831</td>\n",
       "    </tr>\n",
       "    <tr>\n",
       "      <th>75%</th>\n",
       "      <td>1.053191</td>\n",
       "      <td>0.025676</td>\n",
       "      <td>2.535809</td>\n",
       "    </tr>\n",
       "    <tr>\n",
       "      <th>max</th>\n",
       "      <td>1.070283</td>\n",
       "      <td>0.033933</td>\n",
       "      <td>3.209229</td>\n",
       "    </tr>\n",
       "    <tr>\n",
       "      <th>+3_std</th>\n",
       "      <td>1.219460</td>\n",
       "      <td>0.111481</td>\n",
       "      <td>3.290924</td>\n",
       "    </tr>\n",
       "    <tr>\n",
       "      <th>-3_std</th>\n",
       "      <td>0.709598</td>\n",
       "      <td>-0.151743</td>\n",
       "      <td>1.651620</td>\n",
       "    </tr>\n",
       "  </tbody>\n",
       "</table>\n",
       "</div>"
      ],
      "text/plain": [
       "             2BDA       NDCI    LnChl-a\n",
       "count   23.000000  23.000000  23.000000\n",
       "mean     0.964529  -0.020131   2.471272\n",
       "std      0.084977   0.043871   0.273217\n",
       "min      0.843901  -0.084683   2.181998\n",
       "25%      0.889503  -0.058632   2.311643\n",
       "50%      0.927337  -0.037805   2.357831\n",
       "75%      1.053191   0.025676   2.535809\n",
       "max      1.070283   0.033933   3.209229\n",
       "+3_std   1.219460   0.111481   3.290924\n",
       "-3_std   0.709598  -0.151743   1.651620"
      ]
     },
     "execution_count": 24,
     "metadata": {},
     "output_type": "execute_result"
    }
   ],
   "source": [
    "# Descriptive statistics of all variables\n",
    "list = ['2BDA', 'NDCI', 'LnChl-a']\n",
    "\n",
    "# get the summary\n",
    "desc_data2 = Data2 [list].describe()\n",
    "\n",
    "# add the standard deviation metric\n",
    "desc_data2.loc['+3_std'] = desc_data2.loc['mean'] + (desc_data2.loc['std'] * 3)\n",
    "desc_data2.loc['-3_std'] = desc_data2.loc['mean'] - (desc_data2.loc['std'] * 3)\n",
    "\n",
    "# display it\n",
    "desc_data2"
   ]
  },
  {
   "cell_type": "code",
   "execution_count": 25,
   "id": "343d062b",
   "metadata": {},
   "outputs": [
    {
     "data": {
      "text/html": [
       "<div>\n",
       "<style scoped>\n",
       "    .dataframe tbody tr th:only-of-type {\n",
       "        vertical-align: middle;\n",
       "    }\n",
       "\n",
       "    .dataframe tbody tr th {\n",
       "        vertical-align: top;\n",
       "    }\n",
       "\n",
       "    .dataframe thead th {\n",
       "        text-align: right;\n",
       "    }\n",
       "</style>\n",
       "<table border=\"1\" class=\"dataframe\">\n",
       "  <thead>\n",
       "    <tr style=\"text-align: right;\">\n",
       "      <th></th>\n",
       "      <th>2BDA</th>\n",
       "      <th>NDCI</th>\n",
       "      <th>LnChl-a</th>\n",
       "    </tr>\n",
       "  </thead>\n",
       "  <tbody>\n",
       "    <tr>\n",
       "      <th>2BDA</th>\n",
       "      <td>1.000000</td>\n",
       "      <td>0.999805</td>\n",
       "      <td>0.008813</td>\n",
       "    </tr>\n",
       "    <tr>\n",
       "      <th>NDCI</th>\n",
       "      <td>0.999805</td>\n",
       "      <td>1.000000</td>\n",
       "      <td>0.013647</td>\n",
       "    </tr>\n",
       "    <tr>\n",
       "      <th>LnChl-a</th>\n",
       "      <td>0.008813</td>\n",
       "      <td>0.013647</td>\n",
       "      <td>1.000000</td>\n",
       "    </tr>\n",
       "  </tbody>\n",
       "</table>\n",
       "</div>"
      ],
      "text/plain": [
       "             2BDA      NDCI   LnChl-a\n",
       "2BDA     1.000000  0.999805  0.008813\n",
       "NDCI     0.999805  1.000000  0.013647\n",
       "LnChl-a  0.008813  0.013647  1.000000"
      ]
     },
     "metadata": {},
     "output_type": "display_data"
    }
   ],
   "source": [
    "# Pearson Coefficient \n",
    "corr2 = Data2[list].corr(method='pearson')\n",
    "\n",
    "# display the correlation matrix\n",
    "display(corr2)"
   ]
  },
  {
   "cell_type": "code",
   "execution_count": 26,
   "id": "c2bd25e0",
   "metadata": {},
   "outputs": [
    {
     "data": {
      "text/plain": [
       "<seaborn.axisgrid.PairGrid at 0x1c712851e08>"
      ]
     },
     "execution_count": 26,
     "metadata": {},
     "output_type": "execute_result"
    },
    {
     "data": {
      "image/png": "[encoded data removed]",
      "text/plain": [
       "<Figure size 540x540 with 12 Axes>"
      ]
     },
     "metadata": {
      "needs_background": "light"
     },
     "output_type": "display_data"
    }
   ],
   "source": [
    "# Scatter plot for each variable in our dataset against another variable\n",
    "sns.pairplot(Data2[list])"
   ]
  },
  {
   "cell_type": "code",
   "execution_count": 27,
   "id": "5c778788",
   "metadata": {},
   "outputs": [
    {
     "name": "stdout",
     "output_type": "stream",
     "text": [
      "                            OLS Regression Results                            \n",
      "==============================================================================\n",
      "Dep. Variable:                LnChl-a   R-squared:                       0.126\n",
      "Model:                            OLS   Adj. R-squared:                 -0.009\n",
      "Method:                 Least Squares   F-statistic:                    0.9345\n",
      "Date:                Wed, 02 Mar 2022   Prob (F-statistic):              0.418\n",
      "Time:                        18:01:38   Log-Likelihood:               -0.29998\n",
      "No. Observations:                  16   AIC:                             6.600\n",
      "Df Residuals:                      13   BIC:                             8.918\n",
      "Df Model:                           2                                         \n",
      "Covariance Type:            nonrobust                                         \n",
      "==============================================================================\n",
      "                 coef    std err          t      P>|t|      [0.025      0.975]\n",
      "------------------------------------------------------------------------------\n",
      "const         73.6391     60.298      1.221      0.244     -56.627     203.905\n",
      "2BDA         -70.9410     60.093     -1.181      0.259    -200.765      58.883\n",
      "NDCI         137.0069    117.001      1.171      0.263    -115.758     389.772\n",
      "==============================================================================\n",
      "Omnibus:                        2.673   Durbin-Watson:                   2.475\n",
      "Prob(Omnibus):                  0.263   Jarque-Bera (JB):                1.884\n",
      "Skew:                           0.820   Prob(JB):                        0.390\n",
      "Kurtosis:                       2.631   Cond. No.                     2.94e+03\n",
      "==============================================================================\n",
      "\n",
      "Notes:\n",
      "[1] Standard Errors assume that the covariance matrix of the errors is correctly specified.\n",
      "[2] The condition number is large, 2.94e+03. This might indicate that there are\n",
      "strong multicollinearity or other numerical problems.\n"
     ]
    },
    {
     "name": "stderr",
     "output_type": "stream",
     "text": [
      "C:\\Users\\SarShel\\anaconda3\\envs\\geostats_env\\lib\\site-packages\\scipy\\stats\\stats.py:1604: UserWarning: kurtosistest only valid for n>=20 ... continuing anyway, n=16\n",
      "  \"anyway, n=%i\" % int(n))\n"
     ]
    }
   ],
   "source": [
    "# Extract independent variables (X) & dependent variable (Y)\n",
    "X = Data2[X_columns]\n",
    "X = add_constant(X)\n",
    "Y = Data2['LnChl-a']\n",
    "\n",
    "# Split X and Y into train and test \n",
    "X_train, X_test, Y_train, Y_test = train_test_split(X, Y, test_size=0.30, random_state=1)\n",
    "\n",
    "# Create a Linear Regression model object\n",
    "regression_model = OLS(Y_train,X_train)\n",
    "result = OLS(Y_train,X_train).fit()\n",
    "print(result.summary())"
   ]
  },
  {
   "cell_type": "code",
   "execution_count": 28,
   "id": "8d55e6ee",
   "metadata": {},
   "outputs": [
    {
     "name": "stdout",
     "output_type": "stream",
     "text": [
      "Natural logarithm of predicted Y: 101    2.597397\n",
      "89     2.169660\n",
      "33     2.594622\n",
      "69     2.418335\n",
      "98     2.262022\n",
      "87     2.450959\n",
      "58     2.358828\n",
      "dtype: float64\n"
     ]
    }
   ],
   "source": [
    "# Get predictions\n",
    "LnY_predict = result.predict(X_test)\n",
    "print('Natural logarithm of predicted Y:', LnY_predict)"
   ]
  },
  {
   "cell_type": "code",
   "execution_count": 29,
   "id": "03c274a9",
   "metadata": {},
   "outputs": [
    {
     "name": "stdout",
     "output_type": "stream",
     "text": [
      "MSE 79.6\n",
      "MAE 8.77\n",
      "RMSE 8.92\n"
     ]
    }
   ],
   "source": [
    "import math\n",
    "\n",
    "Y_predict = np.exp(LnY_predict)\n",
    "\n",
    "# Calculate the mean squared error\n",
    "model_mse = mean_squared_error(Y_test, Y_predict)\n",
    "\n",
    "# Calculate the mean absolute error\n",
    "model_mae = mean_absolute_error(Y_test, Y_predict)\n",
    "\n",
    "# Calulcate the root mean squared error\n",
    "model_rmse =  math.sqrt(model_mse)\n",
    "\n",
    "# Display the output\n",
    "print(\"MSE {:.3}\".format(model_mse))\n",
    "print(\"MAE {:.3}\".format(model_mae))\n",
    "print(\"RMSE {:.3}\".format(model_rmse))"
   ]
  },
  {
   "cell_type": "code",
   "execution_count": 31,
   "id": "ba8a9ffa",
   "metadata": {},
   "outputs": [
    {
     "data": {
      "image/png": "[encoded data removed]",
      "text/plain": [
       "<Figure size 432x288 with 1 Axes>"
      ]
     },
     "metadata": {
      "needs_background": "light"
     },
     "output_type": "display_data"
    },
    {
     "name": "stdout",
     "output_type": "stream",
     "text": [
      "The mean of the residuals is -9.603e-15\n"
     ]
    }
   ],
   "source": [
    "import pylab\n",
    "\n",
    "# check for the normality of the residuals\n",
    "sm.qqplot(result.resid, line='s')\n",
    "pylab.show()\n",
    "\n",
    "# also check that the mean of the residuals is approx. 0.\n",
    "mean_residuals = sum(result.resid)/ len(result.resid)\n",
    "print(\"The mean of the residuals is {:.4}\".format(mean_residuals))"
   ]
  },
  {
   "cell_type": "code",
   "execution_count": null,
   "id": "5071f3eb",
   "metadata": {},
   "outputs": [],
   "source": []
  },
  {
   "cell_type": "code",
   "execution_count": null,
   "id": "8a0511fd",
   "metadata": {},
   "outputs": [],
   "source": []
  }
 ],
 "metadata": {
  "kernelspec": {
   "display_name": "Python 3",
   "language": "python",
   "name": "python3"
  },
  "language_info": {
   "codemirror_mode": {
    "name": "ipython",
    "version": 3
   },
   "file_extension": ".py",
   "mimetype": "text/x-python",
   "name": "python",
   "nbconvert_exporter": "python",
   "pygments_lexer": "ipython3",
   "version": "3.8.8"
  }
 },
 "nbformat": 4,
 "nbformat_minor": 5
}
