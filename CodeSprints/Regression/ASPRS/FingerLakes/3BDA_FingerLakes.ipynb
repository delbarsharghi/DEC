{
 "cells": [
  {
   "cell_type": "code",
   "execution_count": 1,
   "id": "3cecfed9",
   "metadata": {},
   "outputs": [],
   "source": [
    "import pandas as pd\n",
    "import numpy as np\n",
    "import matplotlib.pyplot as plt\n",
    "import statsmodels.api as sm\n",
    "import seaborn as sns\n",
    "\n",
    "from statsmodels.stats.outliers_influence import variance_inflation_factor\n",
    "from statsmodels.api import OLS\n",
    "from statsmodels.api import add_constant\n",
    "\n",
    "from sklearn.linear_model import LinearRegression\n",
    "from sklearn.model_selection import train_test_split\n",
    "from sklearn.metrics import mean_squared_error, r2_score, mean_absolute_error"
   ]
  },
  {
   "cell_type": "code",
   "execution_count": 2,
   "id": "61c99100",
   "metadata": {},
   "outputs": [
    {
     "data": {
      "text/plain": [
       "'C:\\\\Users\\\\SarShel\\\\DEC\\\\CodeSprints\\\\Regression\\\\ASPRS\\\\FingerLakes'"
      ]
     },
     "execution_count": 2,
     "metadata": {},
     "output_type": "execute_result"
    }
   ],
   "source": [
    "import os\n",
    "os.getcwd()"
   ]
  },
  {
   "cell_type": "code",
   "execution_count": 3,
   "id": "b94d0b17",
   "metadata": {},
   "outputs": [
    {
     "data": {
      "text/plain": [
       "'C:\\\\Users\\\\SarShel\\\\DEC\\\\Regression'"
      ]
     },
     "execution_count": 3,
     "metadata": {},
     "output_type": "execute_result"
    }
   ],
   "source": [
    "os.chdir('C:\\\\Users\\\\SarShel\\\\DEC\\\\Regression')\n",
    "os.getcwd()"
   ]
  },
  {
   "cell_type": "code",
   "execution_count": 4,
   "id": "4bc9ce19",
   "metadata": {},
   "outputs": [
    {
     "name": "stdout",
     "output_type": "stream",
     "text": [
      "     Unnamed: 0  Year  Month  Day      2BDA      3BDA      NDCI        B1  \\\n",
      "0           200  2017      7    3  0.912575 -0.084196 -0.049463  0.160814   \n",
      "1           201  2017      7    3  0.919797 -0.077209 -0.041808  0.180428   \n",
      "2           282  2017      8   19  0.865965 -0.134743 -0.071927  0.158669   \n",
      "3           388  2018      7    3  0.876471 -0.133994 -0.066039  0.107397   \n",
      "4           389  2018      7    5  0.806616  0.016263  0.006623  0.230924   \n",
      "..          ...   ...    ...  ...       ...       ...       ...       ...   \n",
      "112        1450  2020      9   20  0.940167 -0.059841 -0.034770  0.117000   \n",
      "113        1451  2020      9   20  0.937430 -0.060636 -0.035975  0.117417   \n",
      "114        1455  2020      9   20  0.860895 -0.138232 -0.074871  0.107421   \n",
      "115        1456  2020      9   20  0.865806 -0.129911 -0.072058  0.110141   \n",
      "116        1483  2020      9   27  0.985506 -0.017302 -0.007349  0.160810   \n",
      "\n",
      "          B10       B11  ...        B6        B7        B8       B8A  \\\n",
      "0    0.002848  0.103259  ...  0.103159  0.097314  0.149414  0.084431   \n",
      "1    0.000800  0.069831  ...  0.093952  0.098010  0.082476  0.094162   \n",
      "2    0.000800  0.010607  ...  0.047628  0.049969  0.039976  0.039831   \n",
      "3    0.001528  0.005979  ...  0.023338  0.021755  0.019121  0.019234   \n",
      "4    0.002952  0.248697  ...  0.255410  0.285969  0.274210  0.289559   \n",
      "..        ...       ...  ...       ...       ...       ...       ...   \n",
      "112  0.001045  0.006734  ...  0.032159  0.032672  0.026955  0.026000   \n",
      "113  0.001062  0.006948  ...  0.032372  0.032666  0.027272  0.026638   \n",
      "114  0.000803  0.002986  ...  0.021979  0.019752  0.015641  0.015017   \n",
      "115  0.001076  0.005597  ...  0.024286  0.023214  0.019917  0.018972   \n",
      "116  0.001697  0.012845  ...  0.073683  0.073900  0.063172  0.064207   \n",
      "\n",
      "           B9          X          Y         Lake Name       Date  Chl-a  \n",
      "0    0.037797 -76.897686  42.585357       Seneca Lake   7/3/2017  2.300  \n",
      "1    0.026562 -76.415406  42.918062  Skaneateles Lake   7/3/2017  1.000  \n",
      "2    0.011269 -76.516000  42.844500       Owasco Lake  8/19/2017  3.600  \n",
      "3    0.007607 -76.415406  42.918062  Skaneateles Lake   7/3/2018  0.700  \n",
      "4    0.087976 -76.296330  42.874500       Otisco Lake   7/5/2018  7.900  \n",
      "..        ...        ...        ...               ...        ...    ...  \n",
      "112  0.010217 -77.276333  42.821167  Canandaigua Lake  9/20/2020  2.152  \n",
      "113  0.010159 -77.276333  42.821167  Canandaigua Lake  9/20/2020  2.152  \n",
      "114  0.007224 -76.897686  42.585357       Seneca Lake  9/20/2020  2.972  \n",
      "115  0.008117 -76.597500  42.555167       Cayuga Lake  9/20/2020  2.798  \n",
      "116  0.019121 -76.515000  42.470000       Cayuga Lake  9/27/2020  2.856  \n",
      "\n",
      "[117 rows x 25 columns]\n"
     ]
    }
   ],
   "source": [
    "# Read Field dataset \n",
    "Data0 = pd.read_csv('data_raw/Indices/FingerLakes.csv')\n",
    "\n",
    "# Remove none values\n",
    "Data = Data0.dropna()\n",
    "\n",
    "# Display the first few rows of our DataFrame\n",
    "#FieldData.head()\n",
    "print(Data)"
   ]
  },
  {
   "cell_type": "code",
   "execution_count": 5,
   "id": "f68dfb6b",
   "metadata": {},
   "outputs": [
    {
     "data": {
      "text/html": [
       "<div>\n",
       "<style scoped>\n",
       "    .dataframe tbody tr th:only-of-type {\n",
       "        vertical-align: middle;\n",
       "    }\n",
       "\n",
       "    .dataframe tbody tr th {\n",
       "        vertical-align: top;\n",
       "    }\n",
       "\n",
       "    .dataframe thead th {\n",
       "        text-align: right;\n",
       "    }\n",
       "</style>\n",
       "<table border=\"1\" class=\"dataframe\">\n",
       "  <thead>\n",
       "    <tr style=\"text-align: right;\">\n",
       "      <th></th>\n",
       "      <th>3BDA</th>\n",
       "      <th>Chl-a</th>\n",
       "    </tr>\n",
       "  </thead>\n",
       "  <tbody>\n",
       "    <tr>\n",
       "      <th>count</th>\n",
       "      <td>117.000000</td>\n",
       "      <td>117.000000</td>\n",
       "    </tr>\n",
       "    <tr>\n",
       "      <th>mean</th>\n",
       "      <td>-0.071347</td>\n",
       "      <td>5.229865</td>\n",
       "    </tr>\n",
       "    <tr>\n",
       "      <th>std</th>\n",
       "      <td>0.074212</td>\n",
       "      <td>4.332009</td>\n",
       "    </tr>\n",
       "    <tr>\n",
       "      <th>min</th>\n",
       "      <td>-0.173236</td>\n",
       "      <td>0.229200</td>\n",
       "    </tr>\n",
       "    <tr>\n",
       "      <th>25%</th>\n",
       "      <td>-0.131772</td>\n",
       "      <td>2.290000</td>\n",
       "    </tr>\n",
       "    <tr>\n",
       "      <th>50%</th>\n",
       "      <td>-0.092735</td>\n",
       "      <td>3.962000</td>\n",
       "    </tr>\n",
       "    <tr>\n",
       "      <th>75%</th>\n",
       "      <td>-0.033550</td>\n",
       "      <td>7.060000</td>\n",
       "    </tr>\n",
       "    <tr>\n",
       "      <th>max</th>\n",
       "      <td>0.110278</td>\n",
       "      <td>24.760000</td>\n",
       "    </tr>\n",
       "    <tr>\n",
       "      <th>+3_std</th>\n",
       "      <td>0.151288</td>\n",
       "      <td>18.225893</td>\n",
       "    </tr>\n",
       "    <tr>\n",
       "      <th>-3_std</th>\n",
       "      <td>-0.293982</td>\n",
       "      <td>-7.766163</td>\n",
       "    </tr>\n",
       "  </tbody>\n",
       "</table>\n",
       "</div>"
      ],
      "text/plain": [
       "              3BDA       Chl-a\n",
       "count   117.000000  117.000000\n",
       "mean     -0.071347    5.229865\n",
       "std       0.074212    4.332009\n",
       "min      -0.173236    0.229200\n",
       "25%      -0.131772    2.290000\n",
       "50%      -0.092735    3.962000\n",
       "75%      -0.033550    7.060000\n",
       "max       0.110278   24.760000\n",
       "+3_std    0.151288   18.225893\n",
       "-3_std   -0.293982   -7.766163"
      ]
     },
     "execution_count": 5,
     "metadata": {},
     "output_type": "execute_result"
    }
   ],
   "source": [
    "# Descriptive statistics of all variables\n",
    "list = ['3BDA', 'Chl-a']\n",
    "\n",
    "# get the summary\n",
    "desc_data = Data [list].describe()\n",
    "\n",
    "# add the standard deviation metric\n",
    "desc_data.loc['+3_std'] = desc_data.loc['mean'] + (desc_data.loc['std'] * 3)\n",
    "desc_data.loc['-3_std'] = desc_data.loc['mean'] - (desc_data.loc['std'] * 3)\n",
    "\n",
    "# display it\n",
    "desc_data"
   ]
  },
  {
   "cell_type": "code",
   "execution_count": 6,
   "id": "ba28fba8",
   "metadata": {},
   "outputs": [
    {
     "data": {
      "text/html": [
       "<div>\n",
       "<style scoped>\n",
       "    .dataframe tbody tr th:only-of-type {\n",
       "        vertical-align: middle;\n",
       "    }\n",
       "\n",
       "    .dataframe tbody tr th {\n",
       "        vertical-align: top;\n",
       "    }\n",
       "\n",
       "    .dataframe thead th {\n",
       "        text-align: right;\n",
       "    }\n",
       "</style>\n",
       "<table border=\"1\" class=\"dataframe\">\n",
       "  <thead>\n",
       "    <tr style=\"text-align: right;\">\n",
       "      <th></th>\n",
       "      <th>3BDA</th>\n",
       "      <th>Chl-a</th>\n",
       "    </tr>\n",
       "  </thead>\n",
       "  <tbody>\n",
       "    <tr>\n",
       "      <th>3BDA</th>\n",
       "      <td>1.000000</td>\n",
       "      <td>0.203516</td>\n",
       "    </tr>\n",
       "    <tr>\n",
       "      <th>Chl-a</th>\n",
       "      <td>0.203516</td>\n",
       "      <td>1.000000</td>\n",
       "    </tr>\n",
       "  </tbody>\n",
       "</table>\n",
       "</div>"
      ],
      "text/plain": [
       "           3BDA     Chl-a\n",
       "3BDA   1.000000  0.203516\n",
       "Chl-a  0.203516  1.000000"
      ]
     },
     "metadata": {},
     "output_type": "display_data"
    }
   ],
   "source": [
    "# Pearson Coefficient \n",
    "corr = Data[list].corr(method='pearson')\n",
    "\n",
    "# display the correlation matrix\n",
    "display(corr)"
   ]
  },
  {
   "cell_type": "code",
   "execution_count": 7,
   "id": "9957fdaf",
   "metadata": {},
   "outputs": [
    {
     "data": {
      "text/plain": [
       "<seaborn.axisgrid.PairGrid at 0x23fb3bc6a08>"
      ]
     },
     "execution_count": 7,
     "metadata": {},
     "output_type": "execute_result"
    },
    {
     "data": {
      "image/png": "[encoded data removed]",
      "text/plain": [
       "<Figure size 360x360 with 6 Axes>"
      ]
     },
     "metadata": {
      "needs_background": "light"
     },
     "output_type": "display_data"
    }
   ],
   "source": [
    "# Scatter plot for each variable in our dataset against another variable\n",
    "sns.pairplot(Data[list])"
   ]
  },
  {
   "cell_type": "code",
   "execution_count": 10,
   "id": "3dd70ce5",
   "metadata": {},
   "outputs": [
    {
     "name": "stdout",
     "output_type": "stream",
     "text": [
      "                            OLS Regression Results                            \n",
      "==============================================================================\n",
      "Dep. Variable:                  Chl-a   R-squared:                       0.000\n",
      "Model:                            OLS   Adj. R-squared:                 -0.013\n",
      "Method:                 Least Squares   F-statistic:                  0.004115\n",
      "Date:                Wed, 02 Mar 2022   Prob (F-statistic):              0.949\n",
      "Time:                        16:00:28   Log-Likelihood:                -228.29\n",
      "No. Observations:                  81   AIC:                             460.6\n",
      "Df Residuals:                      79   BIC:                             465.4\n",
      "Df Model:                           1                                         \n",
      "Covariance Type:            nonrobust                                         \n",
      "==============================================================================\n",
      "                 coef    std err          t      P>|t|      [0.025      0.975]\n",
      "------------------------------------------------------------------------------\n",
      "const          5.0289      0.643      7.823      0.000       3.749       6.309\n",
      "3BDA           0.4174      6.507      0.064      0.949     -12.534      13.368\n",
      "==============================================================================\n",
      "Omnibus:                       51.647   Durbin-Watson:                   1.767\n",
      "Prob(Omnibus):                  0.000   Jarque-Bera (JB):              189.747\n",
      "Skew:                           2.061   Prob(JB):                     6.27e-42\n",
      "Kurtosis:                       9.263   Cond. No.                         14.3\n",
      "==============================================================================\n",
      "\n",
      "Notes:\n",
      "[1] Standard Errors assume that the covariance matrix of the errors is correctly specified.\n"
     ]
    }
   ],
   "source": [
    "# Extract independent variables (X) & dependent variable (Y)\n",
    "X = Data[X_columns]\n",
    "X=add_constant(X)\n",
    "Y = Data['Chl-a']\n",
    "\n",
    "# Split X and Y into train and test \n",
    "X_train, X_test, Y_train, Y_test = train_test_split(X, Y, test_size=0.30, random_state=1)\n",
    "\n",
    "# Create a Linear Regression model object\n",
    "regression_model = OLS(Y_train,X_train)\n",
    "result = OLS(Y_train,X_train).fit()\n",
    "print(result.summary())"
   ]
  },
  {
   "cell_type": "code",
   "execution_count": 11,
   "id": "0390256f",
   "metadata": {},
   "outputs": [
    {
     "name": "stdout",
     "output_type": "stream",
     "text": [
      "predicted Y: 69     4.972373\n",
      "46     5.003268\n",
      "58     5.068064\n",
      "114    4.971231\n",
      "73     4.986851\n",
      "98     5.012868\n",
      "31     4.973791\n",
      "53     4.994212\n",
      "65     4.997673\n",
      "96     4.980901\n",
      "95     5.067005\n",
      "97     4.972344\n",
      "2      4.972687\n",
      "62     4.970044\n",
      "110    5.052612\n",
      "55     4.981680\n",
      "103    4.981344\n",
      "100    4.959645\n",
      "66     5.031096\n",
      "44     4.984349\n",
      "77     4.959369\n",
      "17     5.012027\n",
      "81     4.973927\n",
      "74     4.984889\n",
      "56     4.978078\n",
      "94     4.956620\n",
      "35     5.068760\n",
      "38     5.045356\n",
      "93     4.968300\n",
      "48     4.981812\n",
      "33     5.043980\n",
      "59     5.065258\n",
      "92     4.989839\n",
      "42     4.994460\n",
      "10     4.958889\n",
      "85     4.996180\n",
      "dtype: float64\n"
     ]
    }
   ],
   "source": [
    "# Get predictions\n",
    "Y_predict = result.predict(X_test)\n",
    "print('predicted Y:', Y_predict)\n"
   ]
  },
  {
   "cell_type": "code",
   "execution_count": 12,
   "id": "e60ef424",
   "metadata": {},
   "outputs": [
    {
     "data": {
      "image/png": "[encoded data removed]",
      "text/plain": [
       "<Figure size 432x288 with 1 Axes>"
      ]
     },
     "metadata": {
      "needs_background": "light"
     },
     "output_type": "display_data"
    },
    {
     "name": "stdout",
     "output_type": "stream",
     "text": [
      "The mean of the residuals is -1.875e-15\n"
     ]
    }
   ],
   "source": [
    "import pylab\n",
    "\n",
    "# check for the normality of the residuals\n",
    "sm.qqplot(result.resid, line='s')\n",
    "pylab.show()\n",
    "\n",
    "# also check that the mean of the residuals is approx. 0.\n",
    "mean_residuals = sum(result.resid)/ len(result.resid)\n",
    "print(\"The mean of the residuals is {:.4}\".format(mean_residuals))"
   ]
  },
  {
   "cell_type": "code",
   "execution_count": 13,
   "id": "1b5a544d",
   "metadata": {},
   "outputs": [
    {
     "name": "stdout",
     "output_type": "stream",
     "text": [
      "MSE 23.5\n",
      "MAE 3.6\n",
      "RMSE 4.85\n"
     ]
    }
   ],
   "source": [
    "import math\n",
    "\n",
    "# Calculate the mean squared error\n",
    "model_mse = mean_squared_error(Y_test, Y_predict)\n",
    "\n",
    "# Calculate the mean absolute error\n",
    "model_mae = mean_absolute_error(Y_test, Y_predict)\n",
    "\n",
    "# Calulcate the root mean squared error\n",
    "model_rmse =  math.sqrt(model_mse)\n",
    "\n",
    "# Display the output\n",
    "print(\"MSE {:.3}\".format(model_mse))\n",
    "print(\"MAE {:.3}\".format(model_mae))\n",
    "print(\"RMSE {:.3}\".format(model_rmse))"
   ]
  },
  {
   "cell_type": "code",
   "execution_count": 14,
   "id": "a177e806",
   "metadata": {},
   "outputs": [
    {
     "data": {
      "text/plain": [
       "(96, 25)"
      ]
     },
     "execution_count": 14,
     "metadata": {},
     "output_type": "execute_result"
    }
   ],
   "source": [
    "# MergedData: Threshold  Chl-a < 2\n",
    "Data1 = Data.loc[(Data[\"Chl-a\"] > 2)]\n",
    "Data1.shape"
   ]
  },
  {
   "cell_type": "code",
   "execution_count": 15,
   "id": "5bdbfed2",
   "metadata": {},
   "outputs": [
    {
     "data": {
      "text/html": [
       "<div>\n",
       "<style scoped>\n",
       "    .dataframe tbody tr th:only-of-type {\n",
       "        vertical-align: middle;\n",
       "    }\n",
       "\n",
       "    .dataframe tbody tr th {\n",
       "        vertical-align: top;\n",
       "    }\n",
       "\n",
       "    .dataframe thead th {\n",
       "        text-align: right;\n",
       "    }\n",
       "</style>\n",
       "<table border=\"1\" class=\"dataframe\">\n",
       "  <thead>\n",
       "    <tr style=\"text-align: right;\">\n",
       "      <th></th>\n",
       "      <th>3BDA</th>\n",
       "      <th>Chl-a</th>\n",
       "    </tr>\n",
       "  </thead>\n",
       "  <tbody>\n",
       "    <tr>\n",
       "      <th>count</th>\n",
       "      <td>96.000000</td>\n",
       "      <td>96.000000</td>\n",
       "    </tr>\n",
       "    <tr>\n",
       "      <th>mean</th>\n",
       "      <td>-0.073282</td>\n",
       "      <td>6.146367</td>\n",
       "    </tr>\n",
       "    <tr>\n",
       "      <th>std</th>\n",
       "      <td>0.075521</td>\n",
       "      <td>4.258724</td>\n",
       "    </tr>\n",
       "    <tr>\n",
       "      <th>min</th>\n",
       "      <td>-0.167801</td>\n",
       "      <td>2.022000</td>\n",
       "    </tr>\n",
       "    <tr>\n",
       "      <th>25%</th>\n",
       "      <td>-0.132168</td>\n",
       "      <td>3.175000</td>\n",
       "    </tr>\n",
       "    <tr>\n",
       "      <th>50%</th>\n",
       "      <td>-0.100478</td>\n",
       "      <td>4.745000</td>\n",
       "    </tr>\n",
       "    <tr>\n",
       "      <th>75%</th>\n",
       "      <td>-0.040492</td>\n",
       "      <td>7.909000</td>\n",
       "    </tr>\n",
       "    <tr>\n",
       "      <th>max</th>\n",
       "      <td>0.110278</td>\n",
       "      <td>24.760000</td>\n",
       "    </tr>\n",
       "    <tr>\n",
       "      <th>+3_std</th>\n",
       "      <td>0.153281</td>\n",
       "      <td>18.922538</td>\n",
       "    </tr>\n",
       "    <tr>\n",
       "      <th>-3_std</th>\n",
       "      <td>-0.299845</td>\n",
       "      <td>-6.629804</td>\n",
       "    </tr>\n",
       "  </tbody>\n",
       "</table>\n",
       "</div>"
      ],
      "text/plain": [
       "             3BDA      Chl-a\n",
       "count   96.000000  96.000000\n",
       "mean    -0.073282   6.146367\n",
       "std      0.075521   4.258724\n",
       "min     -0.167801   2.022000\n",
       "25%     -0.132168   3.175000\n",
       "50%     -0.100478   4.745000\n",
       "75%     -0.040492   7.909000\n",
       "max      0.110278  24.760000\n",
       "+3_std   0.153281  18.922538\n",
       "-3_std  -0.299845  -6.629804"
      ]
     },
     "execution_count": 15,
     "metadata": {},
     "output_type": "execute_result"
    }
   ],
   "source": [
    "# get the summary\n",
    "desc_data1 = Data1 [list].describe()\n",
    "\n",
    "# add the standard deviation metric\n",
    "desc_data1.loc['+3_std'] = desc_data1.loc['mean'] + (desc_data1.loc['std'] * 3)\n",
    "desc_data1.loc['-3_std'] = desc_data1.loc['mean'] - (desc_data1.loc['std'] * 3)\n",
    "\n",
    "# display it\n",
    "desc_data1"
   ]
  },
  {
   "cell_type": "code",
   "execution_count": 16,
   "id": "4118bad4",
   "metadata": {},
   "outputs": [
    {
     "data": {
      "text/html": [
       "<div>\n",
       "<style scoped>\n",
       "    .dataframe tbody tr th:only-of-type {\n",
       "        vertical-align: middle;\n",
       "    }\n",
       "\n",
       "    .dataframe tbody tr th {\n",
       "        vertical-align: top;\n",
       "    }\n",
       "\n",
       "    .dataframe thead th {\n",
       "        text-align: right;\n",
       "    }\n",
       "</style>\n",
       "<table border=\"1\" class=\"dataframe\">\n",
       "  <thead>\n",
       "    <tr style=\"text-align: right;\">\n",
       "      <th></th>\n",
       "      <th>3BDA</th>\n",
       "      <th>Chl-a</th>\n",
       "    </tr>\n",
       "  </thead>\n",
       "  <tbody>\n",
       "    <tr>\n",
       "      <th>3BDA</th>\n",
       "      <td>1.000000</td>\n",
       "      <td>0.273258</td>\n",
       "    </tr>\n",
       "    <tr>\n",
       "      <th>Chl-a</th>\n",
       "      <td>0.273258</td>\n",
       "      <td>1.000000</td>\n",
       "    </tr>\n",
       "  </tbody>\n",
       "</table>\n",
       "</div>"
      ],
      "text/plain": [
       "           3BDA     Chl-a\n",
       "3BDA   1.000000  0.273258\n",
       "Chl-a  0.273258  1.000000"
      ]
     },
     "metadata": {},
     "output_type": "display_data"
    }
   ],
   "source": [
    "# Pearson Coefficient \n",
    "corr1 = Data1[list].corr(method='pearson')\n",
    "\n",
    "# display the correlation matrix\n",
    "display(corr1)"
   ]
  },
  {
   "cell_type": "code",
   "execution_count": 17,
   "id": "ba1128fc",
   "metadata": {},
   "outputs": [
    {
     "data": {
      "text/plain": [
       "<seaborn.axisgrid.PairGrid at 0x23fb4bfa748>"
      ]
     },
     "execution_count": 17,
     "metadata": {},
     "output_type": "execute_result"
    },
    {
     "data": {
      "image/png": "[encoded data removed]",
      "text/plain": [
       "<Figure size 360x360 with 6 Axes>"
      ]
     },
     "metadata": {
      "needs_background": "light"
     },
     "output_type": "display_data"
    }
   ],
   "source": [
    "# Scatter plot for each variable in our dataset against another variable\n",
    "sns.pairplot(Data1[list])"
   ]
  },
  {
   "cell_type": "code",
   "execution_count": 18,
   "id": "465097b2",
   "metadata": {},
   "outputs": [
    {
     "name": "stdout",
     "output_type": "stream",
     "text": [
      "                            OLS Regression Results                            \n",
      "==============================================================================\n",
      "Dep. Variable:                  Chl-a   R-squared:                       0.107\n",
      "Model:                            OLS   Adj. R-squared:                  0.093\n",
      "Method:                 Least Squares   F-statistic:                     7.748\n",
      "Date:                Wed, 02 Mar 2022   Prob (F-statistic):            0.00703\n",
      "Time:                        16:00:58   Log-Likelihood:                -193.03\n",
      "No. Observations:                  67   AIC:                             390.1\n",
      "Df Residuals:                      65   BIC:                             394.5\n",
      "Df Model:                           1                                         \n",
      "Covariance Type:            nonrobust                                         \n",
      "==============================================================================\n",
      "                 coef    std err          t      P>|t|      [0.025      0.975]\n",
      "------------------------------------------------------------------------------\n",
      "const          7.6491      0.825      9.271      0.000       6.001       9.297\n",
      "3BDA          21.1183      7.587      2.784      0.007       5.966      36.270\n",
      "==============================================================================\n",
      "Omnibus:                       40.955   Durbin-Watson:                   1.892\n",
      "Prob(Omnibus):                  0.000   Jarque-Bera (JB):              112.480\n",
      "Skew:                           1.949   Prob(JB):                     3.76e-25\n",
      "Kurtosis:                       8.010   Cond. No.                         14.3\n",
      "==============================================================================\n",
      "\n",
      "Notes:\n",
      "[1] Standard Errors assume that the covariance matrix of the errors is correctly specified.\n"
     ]
    }
   ],
   "source": [
    "# Extract independent variables (X) & dependent variable (Y)\n",
    "X = Data1[X_columns]\n",
    "X = add_constant(X)\n",
    "Y = Data1['Chl-a']\n",
    "\n",
    "# Split X and Y into train and test \n",
    "X_train, X_test, Y_train, Y_test = train_test_split(X, Y, test_size=0.30, random_state=1)\n",
    "\n",
    "# Create a Linear Regression model object\n",
    "regression_model = OLS(Y_train,X_train)\n",
    "result = OLS(Y_train,X_train).fit()\n",
    "print(result.summary())"
   ]
  },
  {
   "cell_type": "code",
   "execution_count": 19,
   "id": "4daa683f",
   "metadata": {},
   "outputs": [
    {
     "name": "stdout",
     "output_type": "stream",
     "text": [
      "predicted Y: 46     6.350789\n",
      "35     9.664326\n",
      "52     5.690676\n",
      "69     4.787658\n",
      "95     9.575551\n",
      "89     4.802049\n",
      "76     6.085198\n",
      "50     5.273928\n",
      "98     6.836494\n",
      "105    9.765294\n",
      "72     4.728302\n",
      "30     5.445322\n",
      "112    6.385347\n",
      "92     5.671341\n",
      "36     8.824702\n",
      "64     4.518917\n",
      "45     5.162626\n",
      "12     5.853208\n",
      "4      7.992521\n",
      "44     5.393547\n",
      "62     4.669830\n",
      "67     5.455429\n",
      "21     5.422674\n",
      "110    8.847332\n",
      "116    7.283689\n",
      "39     8.215401\n",
      "37     7.118563\n",
      "56     5.076265\n",
      "104    9.456772\n",
      "dtype: float64\n"
     ]
    }
   ],
   "source": [
    "# Get predictions\n",
    "Y_predict = result.predict(X_test)\n",
    "print('predicted Y:', Y_predict)"
   ]
  },
  {
   "cell_type": "code",
   "execution_count": 20,
   "id": "4db08a53",
   "metadata": {},
   "outputs": [
    {
     "name": "stdout",
     "output_type": "stream",
     "text": [
      "MSE 12.6\n",
      "MAE 3.08\n",
      "RMSE 3.55\n"
     ]
    }
   ],
   "source": [
    "import math\n",
    "\n",
    "# Calculate the mean squared error\n",
    "model_mse = mean_squared_error(Y_test, Y_predict)\n",
    "\n",
    "# Calculate the mean absolute error\n",
    "model_mae = mean_absolute_error(Y_test, Y_predict)\n",
    "\n",
    "# Calulcate the root mean squared error\n",
    "model_rmse =  math.sqrt(model_mse)\n",
    "\n",
    "# Display the output\n",
    "print(\"MSE {:.3}\".format(model_mse))\n",
    "print(\"MAE {:.3}\".format(model_mae))\n",
    "print(\"RMSE {:.3}\".format(model_rmse))"
   ]
  },
  {
   "cell_type": "code",
   "execution_count": 21,
   "id": "73212e38",
   "metadata": {},
   "outputs": [
    {
     "data": {
      "text/plain": [
       "(23, 25)"
      ]
     },
     "execution_count": 21,
     "metadata": {},
     "output_type": "execute_result"
    }
   ],
   "source": [
    "# MergedData: Threshold  Chl-a < 8\n",
    "Data2 = Data.loc[(Data[\"Chl-a\"] > 8)]\n",
    "Data2.shape"
   ]
  },
  {
   "cell_type": "code",
   "execution_count": 22,
   "id": "8fb9b066",
   "metadata": {},
   "outputs": [
    {
     "data": {
      "text/html": [
       "<div>\n",
       "<style scoped>\n",
       "    .dataframe tbody tr th:only-of-type {\n",
       "        vertical-align: middle;\n",
       "    }\n",
       "\n",
       "    .dataframe tbody tr th {\n",
       "        vertical-align: top;\n",
       "    }\n",
       "\n",
       "    .dataframe thead th {\n",
       "        text-align: right;\n",
       "    }\n",
       "</style>\n",
       "<table border=\"1\" class=\"dataframe\">\n",
       "  <thead>\n",
       "    <tr style=\"text-align: right;\">\n",
       "      <th></th>\n",
       "      <th>3BDA</th>\n",
       "      <th>Chl-a</th>\n",
       "    </tr>\n",
       "  </thead>\n",
       "  <tbody>\n",
       "    <tr>\n",
       "      <th>count</th>\n",
       "      <td>23.000000</td>\n",
       "      <td>23.000000</td>\n",
       "    </tr>\n",
       "    <tr>\n",
       "      <th>mean</th>\n",
       "      <td>-0.025062</td>\n",
       "      <td>12.324000</td>\n",
       "    </tr>\n",
       "    <tr>\n",
       "      <th>std</th>\n",
       "      <td>0.093199</td>\n",
       "      <td>4.054804</td>\n",
       "    </tr>\n",
       "    <tr>\n",
       "      <th>min</th>\n",
       "      <td>-0.135495</td>\n",
       "      <td>8.864000</td>\n",
       "    </tr>\n",
       "    <tr>\n",
       "      <th>25%</th>\n",
       "      <td>-0.104556</td>\n",
       "      <td>10.091000</td>\n",
       "    </tr>\n",
       "    <tr>\n",
       "      <th>50%</th>\n",
       "      <td>-0.065664</td>\n",
       "      <td>10.568000</td>\n",
       "    </tr>\n",
       "    <tr>\n",
       "      <th>75%</th>\n",
       "      <td>0.068992</td>\n",
       "      <td>12.665000</td>\n",
       "    </tr>\n",
       "    <tr>\n",
       "      <th>max</th>\n",
       "      <td>0.100207</td>\n",
       "      <td>24.760000</td>\n",
       "    </tr>\n",
       "    <tr>\n",
       "      <th>+3_std</th>\n",
       "      <td>0.254534</td>\n",
       "      <td>24.488413</td>\n",
       "    </tr>\n",
       "    <tr>\n",
       "      <th>-3_std</th>\n",
       "      <td>-0.304658</td>\n",
       "      <td>0.159587</td>\n",
       "    </tr>\n",
       "  </tbody>\n",
       "</table>\n",
       "</div>"
      ],
      "text/plain": [
       "             3BDA      Chl-a\n",
       "count   23.000000  23.000000\n",
       "mean    -0.025062  12.324000\n",
       "std      0.093199   4.054804\n",
       "min     -0.135495   8.864000\n",
       "25%     -0.104556  10.091000\n",
       "50%     -0.065664  10.568000\n",
       "75%      0.068992  12.665000\n",
       "max      0.100207  24.760000\n",
       "+3_std   0.254534  24.488413\n",
       "-3_std  -0.304658   0.159587"
      ]
     },
     "execution_count": 22,
     "metadata": {},
     "output_type": "execute_result"
    }
   ],
   "source": [
    "# get the summary\n",
    "desc_data2 = Data2 [list].describe()\n",
    "\n",
    "# add the standard deviation metric\n",
    "desc_data2.loc['+3_std'] = desc_data2.loc['mean'] + (desc_data2.loc['std'] * 3)\n",
    "desc_data2.loc['-3_std'] = desc_data2.loc['mean'] - (desc_data2.loc['std'] * 3)\n",
    "\n",
    "# display it\n",
    "desc_data2"
   ]
  },
  {
   "cell_type": "code",
   "execution_count": 23,
   "id": "343d062b",
   "metadata": {},
   "outputs": [
    {
     "data": {
      "text/html": [
       "<div>\n",
       "<style scoped>\n",
       "    .dataframe tbody tr th:only-of-type {\n",
       "        vertical-align: middle;\n",
       "    }\n",
       "\n",
       "    .dataframe tbody tr th {\n",
       "        vertical-align: top;\n",
       "    }\n",
       "\n",
       "    .dataframe thead th {\n",
       "        text-align: right;\n",
       "    }\n",
       "</style>\n",
       "<table border=\"1\" class=\"dataframe\">\n",
       "  <thead>\n",
       "    <tr style=\"text-align: right;\">\n",
       "      <th></th>\n",
       "      <th>3BDA</th>\n",
       "      <th>Chl-a</th>\n",
       "    </tr>\n",
       "  </thead>\n",
       "  <tbody>\n",
       "    <tr>\n",
       "      <th>3BDA</th>\n",
       "      <td>1.000000</td>\n",
       "      <td>0.021173</td>\n",
       "    </tr>\n",
       "    <tr>\n",
       "      <th>Chl-a</th>\n",
       "      <td>0.021173</td>\n",
       "      <td>1.000000</td>\n",
       "    </tr>\n",
       "  </tbody>\n",
       "</table>\n",
       "</div>"
      ],
      "text/plain": [
       "           3BDA     Chl-a\n",
       "3BDA   1.000000  0.021173\n",
       "Chl-a  0.021173  1.000000"
      ]
     },
     "metadata": {},
     "output_type": "display_data"
    }
   ],
   "source": [
    "# Pearson Coefficient \n",
    "corr2 = Data2[list].corr(method='pearson')\n",
    "\n",
    "# display the correlation matrix\n",
    "display(corr2)"
   ]
  },
  {
   "cell_type": "code",
   "execution_count": 24,
   "id": "c2bd25e0",
   "metadata": {},
   "outputs": [
    {
     "data": {
      "text/plain": [
       "<seaborn.axisgrid.PairGrid at 0x23fb4f1a248>"
      ]
     },
     "execution_count": 24,
     "metadata": {},
     "output_type": "execute_result"
    },
    {
     "data": {
      "image/png": "[encoded data removed]",
      "text/plain": [
       "<Figure size 360x360 with 6 Axes>"
      ]
     },
     "metadata": {
      "needs_background": "light"
     },
     "output_type": "display_data"
    }
   ],
   "source": [
    "# Scatter plot for each variable in our dataset against another variable\n",
    "sns.pairplot(Data2[list])"
   ]
  },
  {
   "cell_type": "code",
   "execution_count": 25,
   "id": "5c778788",
   "metadata": {},
   "outputs": [
    {
     "name": "stdout",
     "output_type": "stream",
     "text": [
      "                            OLS Regression Results                            \n",
      "==============================================================================\n",
      "Dep. Variable:                  Chl-a   R-squared:                       0.035\n",
      "Model:                            OLS   Adj. R-squared:                 -0.034\n",
      "Method:                 Least Squares   F-statistic:                    0.5028\n",
      "Date:                Wed, 02 Mar 2022   Prob (F-statistic):              0.490\n",
      "Time:                        16:01:08   Log-Likelihood:                -44.708\n",
      "No. Observations:                  16   AIC:                             93.42\n",
      "Df Residuals:                      14   BIC:                             94.96\n",
      "Df Model:                           1                                         \n",
      "Covariance Type:            nonrobust                                         \n",
      "==============================================================================\n",
      "                 coef    std err          t      P>|t|      [0.025      0.975]\n",
      "------------------------------------------------------------------------------\n",
      "const         12.2152      1.088     11.223      0.000       9.881      14.550\n",
      "3BDA          -8.0762     11.390     -0.709      0.490     -32.505      16.352\n",
      "==============================================================================\n",
      "Omnibus:                       16.079   Durbin-Watson:                   2.320\n",
      "Prob(Omnibus):                  0.000   Jarque-Bera (JB):               13.500\n",
      "Skew:                           1.792   Prob(JB):                      0.00117\n",
      "Kurtosis:                       5.721   Cond. No.                         10.8\n",
      "==============================================================================\n",
      "\n",
      "Notes:\n",
      "[1] Standard Errors assume that the covariance matrix of the errors is correctly specified.\n"
     ]
    },
    {
     "name": "stderr",
     "output_type": "stream",
     "text": [
      "C:\\Users\\SarShel\\anaconda3\\envs\\geostats_env\\lib\\site-packages\\scipy\\stats\\stats.py:1604: UserWarning: kurtosistest only valid for n>=20 ... continuing anyway, n=16\n",
      "  \"anyway, n=%i\" % int(n))\n"
     ]
    }
   ],
   "source": [
    "# Extract independent variables (X) & dependent variable (Y)\n",
    "X = Data2[X_columns]\n",
    "X = add_constant(X)\n",
    "Y = Data2['Chl-a']\n",
    "\n",
    "# Split X and Y into train and test \n",
    "X_train, X_test, Y_train, Y_test = train_test_split(X, Y, test_size=0.30, random_state=1)\n",
    "\n",
    "# Create a Linear Regression model object\n",
    "regression_model = OLS(Y_train,X_train)\n",
    "result = OLS(Y_train,X_train).fit()\n",
    "print(result.summary())"
   ]
  },
  {
   "cell_type": "code",
   "execution_count": 26,
   "id": "8d55e6ee",
   "metadata": {},
   "outputs": [
    {
     "name": "stdout",
     "output_type": "stream",
     "text": [
      "predicted Y: 101    12.947050\n",
      "89     13.303989\n",
      "33     11.923981\n",
      "69     13.309493\n",
      "98     12.525959\n",
      "87     11.764567\n",
      "58     11.457985\n",
      "dtype: float64\n"
     ]
    }
   ],
   "source": [
    "# Get predictions\n",
    "Y_predict = result.predict(X_test)\n",
    "print('predicted Y:', Y_predict)"
   ]
  },
  {
   "cell_type": "code",
   "execution_count": 27,
   "id": "03c274a9",
   "metadata": {},
   "outputs": [
    {
     "name": "stdout",
     "output_type": "stream",
     "text": [
      "MSE 18.1\n",
      "MAE 3.43\n",
      "RMSE 4.26\n"
     ]
    }
   ],
   "source": [
    "import math\n",
    "\n",
    "# Calculate the mean squared error\n",
    "model_mse = mean_squared_error(Y_test, Y_predict)\n",
    "\n",
    "# Calculate the mean absolute error\n",
    "model_mae = mean_absolute_error(Y_test, Y_predict)\n",
    "\n",
    "# Calulcate the root mean squared error\n",
    "model_rmse =  math.sqrt(model_mse)\n",
    "\n",
    "# Display the output\n",
    "print(\"MSE {:.3}\".format(model_mse))\n",
    "print(\"MAE {:.3}\".format(model_mae))\n",
    "print(\"RMSE {:.3}\".format(model_rmse))"
   ]
  },
  {
   "cell_type": "code",
   "execution_count": null,
   "id": "ba8a9ffa",
   "metadata": {},
   "outputs": [],
   "source": []
  },
  {
   "cell_type": "code",
   "execution_count": null,
   "id": "497fe440",
   "metadata": {},
   "outputs": [],
   "source": []
  }
 ],
 "metadata": {
  "kernelspec": {
   "display_name": "Python 3 (ipykernel)",
   "language": "python",
   "name": "python3"
  },
  "language_info": {
   "codemirror_mode": {
    "name": "ipython",
    "version": 3
   },
   "file_extension": ".py",
   "mimetype": "text/x-python",
   "name": "python",
   "nbconvert_exporter": "python",
   "pygments_lexer": "ipython3",
   "version": "3.7.11"
  }
 },
 "nbformat": 4,
 "nbformat_minor": 5
}
