{
 "cells": [
  {
   "cell_type": "code",
   "execution_count": 14,
   "id": "3cecfed9",
   "metadata": {},
   "outputs": [],
   "source": [
    "import pandas as pd\n",
    "import numpy as np\n",
    "import matplotlib.pyplot as plt\n",
    "import statsmodels.api as sm\n",
    "import seaborn as sns\n",
    "\n",
    "from statsmodels.stats.outliers_influence import variance_inflation_factor\n",
    "from statsmodels.api import OLS\n",
    "from statsmodels.api import add_constant\n",
    "\n",
    "from sklearn.linear_model import LinearRegression\n",
    "from sklearn.model_selection import train_test_split\n",
    "from sklearn.metrics import mean_squared_error, r2_score, mean_absolute_error"
   ]
  },
  {
   "cell_type": "code",
   "execution_count": 15,
   "id": "61c99100",
   "metadata": {},
   "outputs": [
    {
     "data": {
      "text/plain": [
       "'C:\\\\Users\\\\SarShel\\\\DEC\\\\Regression'"
      ]
     },
     "execution_count": 15,
     "metadata": {},
     "output_type": "execute_result"
    }
   ],
   "source": [
    "import os\n",
    "os.getcwd()"
   ]
  },
  {
   "cell_type": "code",
   "execution_count": 16,
   "id": "b94d0b17",
   "metadata": {},
   "outputs": [
    {
     "data": {
      "text/plain": [
       "'C:\\\\Users\\\\SarShel\\\\DEC\\\\Regression'"
      ]
     },
     "execution_count": 16,
     "metadata": {},
     "output_type": "execute_result"
    }
   ],
   "source": [
    "os.chdir('C:\\\\Users\\\\SarShel\\\\DEC\\\\Regression')\n",
    "os.getcwd()"
   ]
  },
  {
   "cell_type": "code",
   "execution_count": 17,
   "id": "fed793c1",
   "metadata": {},
   "outputs": [
    {
     "name": "stdout",
     "output_type": "stream",
     "text": [
      "      Year  Month  Day      2BDA      3BDA        B1       B10       B11  \\\n",
      "0     2020      5    2  0.942550 -0.052425  0.107790  0.000966  0.012200   \n",
      "1     2020      5    2  0.880468 -0.070505  0.123317  0.001900  0.009190   \n",
      "2     2020      5    2  0.912888 -0.084626  0.114103  0.002566  0.014697   \n",
      "3     2020      5    2  1.185505  0.197659  0.120355  0.005414  0.075069   \n",
      "4     2020      5    2  0.856363 -0.130301  0.108486  0.000866  0.005728   \n",
      "...    ...    ...  ...       ...       ...       ...       ...       ...   \n",
      "9318  2020     10   30  0.853926 -0.129055  0.152807  0.001676  0.008662   \n",
      "9319  2020     10   30  1.077396  0.061427  0.126659  0.001469  0.014217   \n",
      "9320  2020     10   30  0.945077 -0.051659  0.134852  0.007321  0.018221   \n",
      "9321  2020     10   30  0.961857 -0.039219  0.132445  0.007393  0.022983   \n",
      "9322  2020     10   30  0.959639 -0.039047  0.126638  0.006003  0.016324   \n",
      "\n",
      "           B12        B2  ...        B4        B5        B6        B7  \\\n",
      "0     0.007134  0.075748  ...  0.029531  0.027834  0.025400  0.025445   \n",
      "1     0.006355  0.101234  ...  0.069293  0.061010  0.035986  0.034386   \n",
      "2     0.009721  0.082466  ...  0.035745  0.032631  0.031700  0.030803   \n",
      "3     0.049510  0.086728  ...  0.053052  0.062893  0.067014  0.074007   \n",
      "4     0.003328  0.074348  ...  0.027800  0.023807  0.021597  0.020300   \n",
      "...        ...       ...  ...       ...       ...       ...       ...   \n",
      "9318  0.005803  0.109424  ...  0.044710  0.038179  0.033731  0.030021   \n",
      "9319  0.008186  0.093034  ...  0.040410  0.043538  0.034555  0.034010   \n",
      "9320  0.015945  0.101314  ...  0.047528  0.044917  0.042248  0.041645   \n",
      "9321  0.016369  0.099703  ...  0.047010  0.045217  0.046493  0.044748   \n",
      "9322  0.011272  0.097452  ...  0.040838  0.039190  0.037914  0.036766   \n",
      "\n",
      "            B8       B8A        B9      NDCI          X          Y  \n",
      "0     0.021476  0.021528  0.010483 -0.029574 -73.837601  41.959801  \n",
      "1     0.028121  0.024859  0.010310 -0.063565 -73.806900  42.294399  \n",
      "2     0.026797  0.026255  0.012666 -0.045539 -74.112602  42.749100  \n",
      "3     0.069841  0.078455  0.047369  0.084880 -74.111900  42.833698  \n",
      "4     0.017248  0.016000  0.007648 -0.077375 -74.074501  43.030701  \n",
      "...        ...       ...       ...       ...        ...        ...  \n",
      "9318  0.027724  0.024259  0.012969 -0.078792 -76.958078  43.248531  \n",
      "9319  0.027786  0.029086  0.020831  0.037256 -76.222702  43.235401  \n",
      "9320  0.041476  0.038621  0.031514 -0.028237 -75.775200  44.316502  \n",
      "9321  0.044814  0.042314  0.030562 -0.019442 -75.775002  44.279800  \n",
      "9322  0.037372  0.033231  0.022614 -0.020596 -75.767502  44.292198  \n",
      "\n",
      "[9323 rows x 21 columns]\n"
     ]
    }
   ],
   "source": [
    "# Read S2 dataset \n",
    "Data1 = pd.read_csv('data_raw/2020/S2Data2020.csv')\n",
    "\n",
    "# Remove none values\n",
    "S2Data = Data1.dropna()\n",
    "\n",
    "# Display the first few rows of our DataFrame\n",
    "S2Data.head()\n",
    "print(S2Data)"
   ]
  },
  {
   "cell_type": "code",
   "execution_count": 18,
   "id": "4bc9ce19",
   "metadata": {},
   "outputs": [
    {
     "name": "stdout",
     "output_type": "stream",
     "text": [
      "      Lake Name          Y          X       Date  Year  Month  Day    Chl-a\n",
      "0     Java Lake  42.631302 -78.343903   6/7/2020  2020      6    7   3.2100\n",
      "1     Java Lake  42.631302 -78.343903  6/25/2020  2020      6   25   0.2798\n",
      "2     Java Lake  42.631302 -78.343903  7/13/2020  2020      7   13  31.0800\n",
      "3     Java Lake  42.631302 -78.343903  7/26/2020  2020      7   26  65.6000\n",
      "4     Java Lake  42.631302 -78.343903  8/10/2020  2020      8   10  31.7400\n",
      "...         ...        ...        ...        ...   ...    ...  ...      ...\n",
      "1222  Long Pond  40.975102 -72.290802  7/26/2020  2020      7   26   8.1680\n",
      "1223  Long Pond  40.975102 -72.290802   8/9/2020  2020      8    9   9.0480\n",
      "1224  Long Pond  40.975102 -72.290802  8/23/2020  2020      8   23  13.0880\n",
      "1225  Long Pond  40.975102 -72.290802   9/7/2020  2020      9    7   7.7780\n",
      "1226  Long Pond  40.975102 -72.290802  9/20/2020  2020      9   20  11.0760\n",
      "\n",
      "[1216 rows x 8 columns]\n"
     ]
    }
   ],
   "source": [
    "# Read Field dataset \n",
    "Data2 = pd.read_csv('data_raw/2020/FieldData2020.csv')\n",
    "\n",
    "# Remove none values\n",
    "FieldData = Data2.dropna()\n",
    "\n",
    "# Display the first few rows of our DataFrame\n",
    "#FieldData.head()\n",
    "print(FieldData)"
   ]
  },
  {
   "cell_type": "code",
   "execution_count": 19,
   "id": "6d951956",
   "metadata": {},
   "outputs": [
    {
     "name": "stdout",
     "output_type": "stream",
     "text": [
      "     Year  Month  Day      2BDA      3BDA        B1       B10       B11  \\\n",
      "0    2020      6    6  0.939841 -0.068468  0.124055  0.000838  0.020286   \n",
      "1    2020      6    6  0.951670 -0.056738  0.117724  0.000945  0.015366   \n",
      "2    2020      6    6  0.929507 -0.087916  0.117879  0.000976  0.014355   \n",
      "3    2020      6    7  0.894041 -0.101839  0.125655  0.001593  0.016838   \n",
      "4    2020      6    7  1.081297  0.101859  0.312979  0.010021  0.354248   \n",
      "..    ...    ...  ...       ...       ...       ...       ...       ...   \n",
      "504  2020      9   24  1.006106  0.007548  0.136534  0.007655  0.020848   \n",
      "505  2020      9   27  0.985421 -0.017262  0.160810  0.001697  0.012845   \n",
      "506  2020      9   27  0.948157 -0.054538  0.270976  0.003162  0.039348   \n",
      "507  2020      9   30  0.906228 -0.089218  0.135859  0.001359  0.013124   \n",
      "508  2020      9   30  1.049958  0.056706  0.190724  0.001834  0.167897   \n",
      "\n",
      "          B12        B2  ...        B7        B8       B8A        B9  \\\n",
      "0    0.011210  0.092307  ...  0.054445  0.042997  0.048000  0.011221   \n",
      "1    0.006783  0.085721  ...  0.051369  0.041569  0.044610  0.010621   \n",
      "2    0.007238  0.084207  ...  0.045072  0.037372  0.040107  0.010331   \n",
      "3    0.012752  0.093666  ...  0.037110  0.031793  0.031686  0.011610   \n",
      "4    0.303010  0.305390  ...  0.417000  0.420034  0.434607  0.198217   \n",
      "..        ...       ...  ...       ...       ...       ...       ...   \n",
      "504  0.013324  0.101479  ...  0.062021  0.057755  0.060052  0.020524   \n",
      "505  0.005197  0.125869  ...  0.073900  0.063172  0.064207  0.019121   \n",
      "506  0.017483  0.241517  ...  0.164455  0.149934  0.143662  0.043379   \n",
      "507  0.009559  0.100066  ...  0.037245  0.031593  0.031531  0.012603   \n",
      "508  0.131503  0.196455  ...  0.176121  0.210217  0.179107  0.065355   \n",
      "\n",
      "         NDCI          X          Y            Lake Name       Date    Chl-a  \n",
      "0   -0.031012 -73.584099  41.297699        Lake Waccabuc   6/6/2020  11.2860  \n",
      "1   -0.024764 -73.562798  41.300098        Lake Rippowam   6/6/2020  14.0760  \n",
      "2   -0.036534 -73.561401  41.296501        Lake Oscaleta   6/6/2020   2.0080  \n",
      "3   -0.055943 -79.363881  42.123269      Chautauqua Lake   6/7/2020   3.5420  \n",
      "4    0.039061 -78.479202  42.427399            Lime Lake   6/7/2020   1.3762  \n",
      "..        ...        ...        ...                  ...        ...      ...  \n",
      "504  0.003044 -73.755524  43.830651         Schroon Lake  9/24/2020   0.2898  \n",
      "505 -0.007343 -76.515000  42.470000          Cayuga Lake  9/27/2020   2.8560  \n",
      "506 -0.026611 -75.522201  42.850201         Lake Moraine  9/27/2020   7.3620  \n",
      "507 -0.049193 -77.566902  42.492599            Loon Lake  9/30/2020   3.4640  \n",
      "508  0.024370 -75.888603  42.810699  De Ruyter Reservoir  9/30/2020   3.2140  \n",
      "\n",
      "[509 rows x 24 columns]\n"
     ]
    }
   ],
   "source": [
    "# Using merge function by setting how='inner'\n",
    "MergedData = pd.merge(S2Data, FieldData, on=['Y', 'X', 'Year', 'Month', 'Day'], how='inner')\n",
    "MergedData.to_csv('data_output/2020/MergedData.csv')\n",
    "  \n",
    "# displaying result\n",
    "print(MergedData)"
   ]
  },
  {
   "cell_type": "code",
   "execution_count": 20,
   "id": "f68dfb6b",
   "metadata": {},
   "outputs": [
    {
     "data": {
      "text/html": [
       "<div>\n",
       "<style scoped>\n",
       "    .dataframe tbody tr th:only-of-type {\n",
       "        vertical-align: middle;\n",
       "    }\n",
       "\n",
       "    .dataframe tbody tr th {\n",
       "        vertical-align: top;\n",
       "    }\n",
       "\n",
       "    .dataframe thead th {\n",
       "        text-align: right;\n",
       "    }\n",
       "</style>\n",
       "<table border=\"1\" class=\"dataframe\">\n",
       "  <thead>\n",
       "    <tr style=\"text-align: right;\">\n",
       "      <th></th>\n",
       "      <th>2BDA</th>\n",
       "      <th>3BDA</th>\n",
       "      <th>NDCI</th>\n",
       "      <th>Chl-a</th>\n",
       "    </tr>\n",
       "  </thead>\n",
       "  <tbody>\n",
       "    <tr>\n",
       "      <th>count</th>\n",
       "      <td>509.000000</td>\n",
       "      <td>509.000000</td>\n",
       "      <td>509.000000</td>\n",
       "      <td>509.000000</td>\n",
       "    </tr>\n",
       "    <tr>\n",
       "      <th>mean</th>\n",
       "      <td>1.001356</td>\n",
       "      <td>0.019475</td>\n",
       "      <td>-0.003006</td>\n",
       "      <td>9.290794</td>\n",
       "    </tr>\n",
       "    <tr>\n",
       "      <th>std</th>\n",
       "      <td>0.128070</td>\n",
       "      <td>0.200407</td>\n",
       "      <td>0.057979</td>\n",
       "      <td>16.925715</td>\n",
       "    </tr>\n",
       "    <tr>\n",
       "      <th>min</th>\n",
       "      <td>0.806335</td>\n",
       "      <td>-0.181678</td>\n",
       "      <td>-0.107215</td>\n",
       "      <td>0.168200</td>\n",
       "    </tr>\n",
       "    <tr>\n",
       "      <th>25%</th>\n",
       "      <td>0.918461</td>\n",
       "      <td>-0.096748</td>\n",
       "      <td>-0.042502</td>\n",
       "      <td>1.882600</td>\n",
       "    </tr>\n",
       "    <tr>\n",
       "      <th>50%</th>\n",
       "      <td>0.961619</td>\n",
       "      <td>-0.046470</td>\n",
       "      <td>-0.019566</td>\n",
       "      <td>3.380000</td>\n",
       "    </tr>\n",
       "    <tr>\n",
       "      <th>75%</th>\n",
       "      <td>1.061222</td>\n",
       "      <td>0.084813</td>\n",
       "      <td>0.029702</td>\n",
       "      <td>8.400000</td>\n",
       "    </tr>\n",
       "    <tr>\n",
       "      <th>max</th>\n",
       "      <td>1.742914</td>\n",
       "      <td>1.446834</td>\n",
       "      <td>0.270848</td>\n",
       "      <td>166.300000</td>\n",
       "    </tr>\n",
       "    <tr>\n",
       "      <th>+3_std</th>\n",
       "      <td>1.385567</td>\n",
       "      <td>0.620696</td>\n",
       "      <td>0.170932</td>\n",
       "      <td>60.067939</td>\n",
       "    </tr>\n",
       "    <tr>\n",
       "      <th>-3_std</th>\n",
       "      <td>0.617146</td>\n",
       "      <td>-0.581747</td>\n",
       "      <td>-0.176943</td>\n",
       "      <td>-41.486351</td>\n",
       "    </tr>\n",
       "  </tbody>\n",
       "</table>\n",
       "</div>"
      ],
      "text/plain": [
       "              2BDA        3BDA        NDCI       Chl-a\n",
       "count   509.000000  509.000000  509.000000  509.000000\n",
       "mean      1.001356    0.019475   -0.003006    9.290794\n",
       "std       0.128070    0.200407    0.057979   16.925715\n",
       "min       0.806335   -0.181678   -0.107215    0.168200\n",
       "25%       0.918461   -0.096748   -0.042502    1.882600\n",
       "50%       0.961619   -0.046470   -0.019566    3.380000\n",
       "75%       1.061222    0.084813    0.029702    8.400000\n",
       "max       1.742914    1.446834    0.270848  166.300000\n",
       "+3_std    1.385567    0.620696    0.170932   60.067939\n",
       "-3_std    0.617146   -0.581747   -0.176943  -41.486351"
      ]
     },
     "execution_count": 20,
     "metadata": {},
     "output_type": "execute_result"
    }
   ],
   "source": [
    "# Descriptive statistics of all variables\n",
    "list = ['2BDA', '3BDA', 'NDCI', 'Chl-a']\n",
    "\n",
    "# get the summary\n",
    "desc_mergeddata = MergedData [list].describe()\n",
    "\n",
    "# add the standard deviation metric\n",
    "desc_mergeddata.loc['+3_std'] = desc_mergeddata.loc['mean'] + (desc_mergeddata.loc['std'] * 3)\n",
    "desc_mergeddata.loc['-3_std'] = desc_mergeddata.loc['mean'] - (desc_mergeddata.loc['std'] * 3)\n",
    "\n",
    "# display it\n",
    "desc_mergeddata"
   ]
  },
  {
   "cell_type": "code",
   "execution_count": 21,
   "id": "ba28fba8",
   "metadata": {},
   "outputs": [
    {
     "data": {
      "text/html": [
       "<div>\n",
       "<style scoped>\n",
       "    .dataframe tbody tr th:only-of-type {\n",
       "        vertical-align: middle;\n",
       "    }\n",
       "\n",
       "    .dataframe tbody tr th {\n",
       "        vertical-align: top;\n",
       "    }\n",
       "\n",
       "    .dataframe thead th {\n",
       "        text-align: right;\n",
       "    }\n",
       "</style>\n",
       "<table border=\"1\" class=\"dataframe\">\n",
       "  <thead>\n",
       "    <tr style=\"text-align: right;\">\n",
       "      <th></th>\n",
       "      <th>2BDA</th>\n",
       "      <th>3BDA</th>\n",
       "      <th>NDCI</th>\n",
       "      <th>Chl-a</th>\n",
       "    </tr>\n",
       "  </thead>\n",
       "  <tbody>\n",
       "    <tr>\n",
       "      <th>2BDA</th>\n",
       "      <td>1.000000</td>\n",
       "      <td>0.961206</td>\n",
       "      <td>0.994760</td>\n",
       "      <td>0.395364</td>\n",
       "    </tr>\n",
       "    <tr>\n",
       "      <th>3BDA</th>\n",
       "      <td>0.961206</td>\n",
       "      <td>1.000000</td>\n",
       "      <td>0.939214</td>\n",
       "      <td>0.269872</td>\n",
       "    </tr>\n",
       "    <tr>\n",
       "      <th>NDCI</th>\n",
       "      <td>0.994760</td>\n",
       "      <td>0.939214</td>\n",
       "      <td>1.000000</td>\n",
       "      <td>0.395685</td>\n",
       "    </tr>\n",
       "    <tr>\n",
       "      <th>Chl-a</th>\n",
       "      <td>0.395364</td>\n",
       "      <td>0.269872</td>\n",
       "      <td>0.395685</td>\n",
       "      <td>1.000000</td>\n",
       "    </tr>\n",
       "  </tbody>\n",
       "</table>\n",
       "</div>"
      ],
      "text/plain": [
       "           2BDA      3BDA      NDCI     Chl-a\n",
       "2BDA   1.000000  0.961206  0.994760  0.395364\n",
       "3BDA   0.961206  1.000000  0.939214  0.269872\n",
       "NDCI   0.994760  0.939214  1.000000  0.395685\n",
       "Chl-a  0.395364  0.269872  0.395685  1.000000"
      ]
     },
     "metadata": {},
     "output_type": "display_data"
    }
   ],
   "source": [
    "# Pearson Coefficient \n",
    "corr = MergedData[list].corr(method='pearson')\n",
    "\n",
    "# display the correlation matrix\n",
    "display(corr)"
   ]
  },
  {
   "cell_type": "code",
   "execution_count": 22,
   "id": "9957fdaf",
   "metadata": {},
   "outputs": [
    {
     "data": {
      "text/plain": [
       "<seaborn.axisgrid.PairGrid at 0x160c21c7160>"
      ]
     },
     "execution_count": 22,
     "metadata": {},
     "output_type": "execute_result"
    },
    {
     "data": {
      "image/png": "[encoded data removed]",
      "text/plain": [
       "<Figure size 720x720 with 20 Axes>"
      ]
     },
     "metadata": {
      "needs_background": "light"
     },
     "output_type": "display_data"
    }
   ],
   "source": [
    "# Scatter plot for each variable in our dataset against another variable\n",
    "sns.pairplot(MergedData[list])"
   ]
  },
  {
   "cell_type": "code",
   "execution_count": 23,
   "id": "b101947f",
   "metadata": {},
   "outputs": [],
   "source": [
    "# Getting column names\n",
    "X_columns = [\"2BDA\", \"3BDA\", \"NDCI\"]\n",
    "Y = MergedData[\"Chl-a\"]"
   ]
  },
  {
   "cell_type": "code",
   "execution_count": 24,
   "id": "f26d07d9",
   "metadata": {},
   "outputs": [
    {
     "data": {
      "text/html": [
       "<div>\n",
       "<style scoped>\n",
       "    .dataframe tbody tr th:only-of-type {\n",
       "        vertical-align: middle;\n",
       "    }\n",
       "\n",
       "    .dataframe tbody tr th {\n",
       "        vertical-align: top;\n",
       "    }\n",
       "\n",
       "    .dataframe thead th {\n",
       "        text-align: right;\n",
       "    }\n",
       "</style>\n",
       "<table border=\"1\" class=\"dataframe\">\n",
       "  <thead>\n",
       "    <tr style=\"text-align: right;\">\n",
       "      <th></th>\n",
       "      <th>VIF Factor</th>\n",
       "      <th>features</th>\n",
       "    </tr>\n",
       "  </thead>\n",
       "  <tbody>\n",
       "    <tr>\n",
       "      <th>0</th>\n",
       "      <td>1.0</td>\n",
       "      <td>2BDA</td>\n",
       "    </tr>\n",
       "    <tr>\n",
       "      <th>1</th>\n",
       "      <td>9.0</td>\n",
       "      <td>3BDA</td>\n",
       "    </tr>\n",
       "    <tr>\n",
       "      <th>2</th>\n",
       "      <td>8.0</td>\n",
       "      <td>NDCI</td>\n",
       "    </tr>\n",
       "  </tbody>\n",
       "</table>\n",
       "</div>"
      ],
      "text/plain": [
       "   VIF Factor features\n",
       "0         1.0     2BDA\n",
       "1         9.0     3BDA\n",
       "2         8.0     NDCI"
      ]
     },
     "execution_count": 24,
     "metadata": {},
     "output_type": "execute_result"
    }
   ],
   "source": [
    "#Calculate VIFs on our dataset\n",
    "vif = pd.DataFrame()\n",
    "vif[\"VIF Factor\"] = [variance_inflation_factor(MergedData[X_columns[0:3]].values, i) for i in range(MergedData[X_columns[0:3]].shape[1])]\n",
    "vif[\"features\"] = MergedData[X_columns[0:3]].columns\n",
    "\n",
    "# display VIF\n",
    "vif.round()"
   ]
  },
  {
   "cell_type": "code",
   "execution_count": 25,
   "id": "3dd70ce5",
   "metadata": {},
   "outputs": [
    {
     "name": "stdout",
     "output_type": "stream",
     "text": [
      "                            OLS Regression Results                            \n",
      "==============================================================================\n",
      "Dep. Variable:                  Chl-a   R-squared:                       0.309\n",
      "Model:                            OLS   Adj. R-squared:                  0.303\n",
      "Method:                 Least Squares   F-statistic:                     52.40\n",
      "Date:                Fri, 04 Mar 2022   Prob (F-statistic):           5.07e-28\n",
      "Time:                        16:38:44   Log-Likelihood:                -1427.8\n",
      "No. Observations:                 356   AIC:                             2864.\n",
      "Df Residuals:                     352   BIC:                             2879.\n",
      "Df Model:                           3                                         \n",
      "Covariance Type:            nonrobust                                         \n",
      "==============================================================================\n",
      "                 coef    std err          t      P>|t|      [0.025      0.975]\n",
      "------------------------------------------------------------------------------\n",
      "const       -557.6307     86.499     -6.447      0.000    -727.750    -387.511\n",
      "2BDA         567.3476     86.195      6.582      0.000     397.825     736.870\n",
      "3BDA        -145.8232     16.671     -8.747      0.000    -178.611    -113.035\n",
      "NDCI        -656.9747    150.104     -4.377      0.000    -952.189    -361.761\n",
      "==============================================================================\n",
      "Omnibus:                      241.530   Durbin-Watson:                   2.019\n",
      "Prob(Omnibus):                  0.000   Jarque-Bera (JB):             3546.425\n",
      "Skew:                           2.629   Prob(JB):                         0.00\n",
      "Kurtosis:                      17.541   Cond. No.                         383.\n",
      "==============================================================================\n",
      "\n",
      "Notes:\n",
      "[1] Standard Errors assume that the covariance matrix of the errors is correctly specified.\n"
     ]
    }
   ],
   "source": [
    "# Extract independent variables (X) & dependent variable (Y)\n",
    "X = MergedData[X_columns]\n",
    "X = add_constant(X)\n",
    "Y = MergedData['Chl-a']\n",
    "\n",
    "# Split X and Y into train and test \n",
    "X_train, X_test, Y_train, Y_test = train_test_split(X, Y, test_size=0.30, random_state=1)\n",
    "\n",
    "# Create a Linear Regression model object\n",
    "regression_model = OLS(Y_train,X_train)\n",
    "result = OLS(Y_train,X_train).fit()\n",
    "print(result.summary())"
   ]
  },
  {
   "cell_type": "code",
   "execution_count": 26,
   "id": "0390256f",
   "metadata": {},
   "outputs": [
    {
     "name": "stdout",
     "output_type": "stream",
     "text": [
      "predicted Y: 444    14.613104\n",
      "344    12.484821\n",
      "47      8.721402\n",
      "67      7.328821\n",
      "363    88.404432\n",
      "         ...    \n",
      "95      8.251115\n",
      "122     9.861308\n",
      "260     6.975035\n",
      "23      9.613530\n",
      "13     16.776059\n",
      "Length: 153, dtype: float64\n"
     ]
    }
   ],
   "source": [
    "# Get predictions\n",
    "Y_predict = result.predict(X_test)\n",
    "print('predicted Y:', Y_predict)\n"
   ]
  },
  {
   "cell_type": "code",
   "execution_count": 27,
   "id": "e60ef424",
   "metadata": {},
   "outputs": [
    {
     "data": {
      "image/png": "[encoded data removed]",
      "text/plain": [
       "<Figure size 432x288 with 1 Axes>"
      ]
     },
     "metadata": {
      "needs_background": "light"
     },
     "output_type": "display_data"
    },
    {
     "name": "stdout",
     "output_type": "stream",
     "text": [
      "The mean of the residuals is 3.104e-15\n"
     ]
    }
   ],
   "source": [
    "import pylab\n",
    "\n",
    "# check for the normality of the residuals\n",
    "sm.qqplot(result.resid, line='s')\n",
    "pylab.show()\n",
    "\n",
    "# also check that the mean of the residuals is approx. 0.\n",
    "mean_residuals = sum(result.resid)/ len(result.resid)\n",
    "print(\"The mean of the residuals is {:.4}\".format(mean_residuals))"
   ]
  },
  {
   "cell_type": "code",
   "execution_count": 28,
   "id": "1b5a544d",
   "metadata": {},
   "outputs": [
    {
     "name": "stdout",
     "output_type": "stream",
     "text": [
      "MSE 1.77e+02\n",
      "MAE 8.89\n",
      "RMSE 13.3\n"
     ]
    }
   ],
   "source": [
    "import math\n",
    "\n",
    "# Calculate the mean squared error\n",
    "model_mse = mean_squared_error(Y_test, Y_predict)\n",
    "\n",
    "# Calculate the mean absolute error\n",
    "model_mae = mean_absolute_error(Y_test, Y_predict)\n",
    "\n",
    "# Calulcate the root mean squared error\n",
    "model_rmse =  math.sqrt(model_mse)\n",
    "\n",
    "# Display the output\n",
    "print(\"MSE {:.3}\".format(model_mse))\n",
    "print(\"MAE {:.3}\".format(model_mae))\n",
    "print(\"RMSE {:.3}\".format(model_rmse))"
   ]
  },
  {
   "cell_type": "code",
   "execution_count": 29,
   "id": "a177e806",
   "metadata": {},
   "outputs": [
    {
     "data": {
      "text/plain": [
       "(363, 24)"
      ]
     },
     "execution_count": 29,
     "metadata": {},
     "output_type": "execute_result"
    }
   ],
   "source": [
    "# MergedData: Threshold  Chl-a < 2\n",
    "MergedData1 = MergedData.loc[(MergedData[\"Chl-a\"] > 2)]\n",
    "MergedData1.shape"
   ]
  },
  {
   "cell_type": "code",
   "execution_count": 30,
   "id": "5bdbfed2",
   "metadata": {},
   "outputs": [
    {
     "data": {
      "text/html": [
       "<div>\n",
       "<style scoped>\n",
       "    .dataframe tbody tr th:only-of-type {\n",
       "        vertical-align: middle;\n",
       "    }\n",
       "\n",
       "    .dataframe tbody tr th {\n",
       "        vertical-align: top;\n",
       "    }\n",
       "\n",
       "    .dataframe thead th {\n",
       "        text-align: right;\n",
       "    }\n",
       "</style>\n",
       "<table border=\"1\" class=\"dataframe\">\n",
       "  <thead>\n",
       "    <tr style=\"text-align: right;\">\n",
       "      <th></th>\n",
       "      <th>2BDA</th>\n",
       "      <th>3BDA</th>\n",
       "      <th>NDCI</th>\n",
       "      <th>Chl-a</th>\n",
       "    </tr>\n",
       "  </thead>\n",
       "  <tbody>\n",
       "    <tr>\n",
       "      <th>count</th>\n",
       "      <td>363.000000</td>\n",
       "      <td>363.000000</td>\n",
       "      <td>363.000000</td>\n",
       "      <td>363.000000</td>\n",
       "    </tr>\n",
       "    <tr>\n",
       "      <th>mean</th>\n",
       "      <td>1.006677</td>\n",
       "      <td>0.022531</td>\n",
       "      <td>-0.000360</td>\n",
       "      <td>12.527344</td>\n",
       "    </tr>\n",
       "    <tr>\n",
       "      <th>std</th>\n",
       "      <td>0.128808</td>\n",
       "      <td>0.193788</td>\n",
       "      <td>0.057941</td>\n",
       "      <td>19.112940</td>\n",
       "    </tr>\n",
       "    <tr>\n",
       "      <th>min</th>\n",
       "      <td>0.806335</td>\n",
       "      <td>-0.181678</td>\n",
       "      <td>-0.107215</td>\n",
       "      <td>2.008000</td>\n",
       "    </tr>\n",
       "    <tr>\n",
       "      <th>25%</th>\n",
       "      <td>0.921134</td>\n",
       "      <td>-0.091993</td>\n",
       "      <td>-0.041052</td>\n",
       "      <td>3.148000</td>\n",
       "    </tr>\n",
       "    <tr>\n",
       "      <th>50%</th>\n",
       "      <td>0.966796</td>\n",
       "      <td>-0.038767</td>\n",
       "      <td>-0.016882</td>\n",
       "      <td>5.366000</td>\n",
       "    </tr>\n",
       "    <tr>\n",
       "      <th>75%</th>\n",
       "      <td>1.066228</td>\n",
       "      <td>0.088910</td>\n",
       "      <td>0.032053</td>\n",
       "      <td>12.668000</td>\n",
       "    </tr>\n",
       "    <tr>\n",
       "      <th>max</th>\n",
       "      <td>1.742914</td>\n",
       "      <td>1.446834</td>\n",
       "      <td>0.270848</td>\n",
       "      <td>166.300000</td>\n",
       "    </tr>\n",
       "    <tr>\n",
       "      <th>+3_std</th>\n",
       "      <td>1.393102</td>\n",
       "      <td>0.603897</td>\n",
       "      <td>0.173463</td>\n",
       "      <td>69.866165</td>\n",
       "    </tr>\n",
       "    <tr>\n",
       "      <th>-3_std</th>\n",
       "      <td>0.620252</td>\n",
       "      <td>-0.558834</td>\n",
       "      <td>-0.174183</td>\n",
       "      <td>-44.811476</td>\n",
       "    </tr>\n",
       "  </tbody>\n",
       "</table>\n",
       "</div>"
      ],
      "text/plain": [
       "              2BDA        3BDA        NDCI       Chl-a\n",
       "count   363.000000  363.000000  363.000000  363.000000\n",
       "mean      1.006677    0.022531   -0.000360   12.527344\n",
       "std       0.128808    0.193788    0.057941   19.112940\n",
       "min       0.806335   -0.181678   -0.107215    2.008000\n",
       "25%       0.921134   -0.091993   -0.041052    3.148000\n",
       "50%       0.966796   -0.038767   -0.016882    5.366000\n",
       "75%       1.066228    0.088910    0.032053   12.668000\n",
       "max       1.742914    1.446834    0.270848  166.300000\n",
       "+3_std    1.393102    0.603897    0.173463   69.866165\n",
       "-3_std    0.620252   -0.558834   -0.174183  -44.811476"
      ]
     },
     "execution_count": 30,
     "metadata": {},
     "output_type": "execute_result"
    }
   ],
   "source": [
    "# get the summary\n",
    "desc_mergeddata1 = MergedData1 [list].describe()\n",
    "\n",
    "# add the standard deviation metric\n",
    "desc_mergeddata1.loc['+3_std'] = desc_mergeddata1.loc['mean'] + (desc_mergeddata1.loc['std'] * 3)\n",
    "desc_mergeddata1.loc['-3_std'] = desc_mergeddata1.loc['mean'] - (desc_mergeddata1.loc['std'] * 3)\n",
    "\n",
    "# display it\n",
    "desc_mergeddata1"
   ]
  },
  {
   "cell_type": "code",
   "execution_count": 31,
   "id": "4118bad4",
   "metadata": {},
   "outputs": [
    {
     "data": {
      "text/html": [
       "<div>\n",
       "<style scoped>\n",
       "    .dataframe tbody tr th:only-of-type {\n",
       "        vertical-align: middle;\n",
       "    }\n",
       "\n",
       "    .dataframe tbody tr th {\n",
       "        vertical-align: top;\n",
       "    }\n",
       "\n",
       "    .dataframe thead th {\n",
       "        text-align: right;\n",
       "    }\n",
       "</style>\n",
       "<table border=\"1\" class=\"dataframe\">\n",
       "  <thead>\n",
       "    <tr style=\"text-align: right;\">\n",
       "      <th></th>\n",
       "      <th>2BDA</th>\n",
       "      <th>3BDA</th>\n",
       "      <th>NDCI</th>\n",
       "      <th>Chl-a</th>\n",
       "    </tr>\n",
       "  </thead>\n",
       "  <tbody>\n",
       "    <tr>\n",
       "      <th>2BDA</th>\n",
       "      <td>1.000000</td>\n",
       "      <td>0.956154</td>\n",
       "      <td>0.994067</td>\n",
       "      <td>0.465035</td>\n",
       "    </tr>\n",
       "    <tr>\n",
       "      <th>3BDA</th>\n",
       "      <td>0.956154</td>\n",
       "      <td>1.000000</td>\n",
       "      <td>0.931578</td>\n",
       "      <td>0.339121</td>\n",
       "    </tr>\n",
       "    <tr>\n",
       "      <th>NDCI</th>\n",
       "      <td>0.994067</td>\n",
       "      <td>0.931578</td>\n",
       "      <td>1.000000</td>\n",
       "      <td>0.465846</td>\n",
       "    </tr>\n",
       "    <tr>\n",
       "      <th>Chl-a</th>\n",
       "      <td>0.465035</td>\n",
       "      <td>0.339121</td>\n",
       "      <td>0.465846</td>\n",
       "      <td>1.000000</td>\n",
       "    </tr>\n",
       "  </tbody>\n",
       "</table>\n",
       "</div>"
      ],
      "text/plain": [
       "           2BDA      3BDA      NDCI     Chl-a\n",
       "2BDA   1.000000  0.956154  0.994067  0.465035\n",
       "3BDA   0.956154  1.000000  0.931578  0.339121\n",
       "NDCI   0.994067  0.931578  1.000000  0.465846\n",
       "Chl-a  0.465035  0.339121  0.465846  1.000000"
      ]
     },
     "metadata": {},
     "output_type": "display_data"
    }
   ],
   "source": [
    "# Pearson Coefficient \n",
    "corr1 = MergedData1[list].corr(method='pearson')\n",
    "\n",
    "# display the correlation matrix\n",
    "display(corr1)"
   ]
  },
  {
   "cell_type": "code",
   "execution_count": 32,
   "id": "ba1128fc",
   "metadata": {},
   "outputs": [
    {
     "data": {
      "text/plain": [
       "<seaborn.axisgrid.PairGrid at 0x160c2e269a0>"
      ]
     },
     "execution_count": 32,
     "metadata": {},
     "output_type": "execute_result"
    },
    {
     "data": {
      "image/png": "[encoded data removed]",
      "text/plain": [
       "<Figure size 720x720 with 20 Axes>"
      ]
     },
     "metadata": {
      "needs_background": "light"
     },
     "output_type": "display_data"
    }
   ],
   "source": [
    "# Scatter plot for each variable in our dataset against another variable\n",
    "sns.pairplot(MergedData1[list])"
   ]
  },
  {
   "cell_type": "code",
   "execution_count": 33,
   "id": "465097b2",
   "metadata": {},
   "outputs": [
    {
     "name": "stdout",
     "output_type": "stream",
     "text": [
      "                            OLS Regression Results                            \n",
      "==============================================================================\n",
      "Dep. Variable:                  Chl-a   R-squared:                       0.388\n",
      "Model:                            OLS   Adj. R-squared:                  0.381\n",
      "Method:                 Least Squares   F-statistic:                     52.94\n",
      "Date:                Fri, 04 Mar 2022   Prob (F-statistic):           1.59e-26\n",
      "Time:                        16:39:28   Log-Likelihood:                -1053.2\n",
      "No. Observations:                 254   AIC:                             2114.\n",
      "Df Residuals:                     250   BIC:                             2128.\n",
      "Df Model:                           3                                         \n",
      "Covariance Type:            nonrobust                                         \n",
      "==============================================================================\n",
      "                 coef    std err          t      P>|t|      [0.025      0.975]\n",
      "------------------------------------------------------------------------------\n",
      "const       -652.4407     97.955     -6.661      0.000    -845.363    -459.519\n",
      "2BDA         663.8356     97.561      6.804      0.000     471.690     855.981\n",
      "3BDA        -159.5207     19.967     -7.989      0.000    -198.846    -120.195\n",
      "NDCI        -818.0492    177.146     -4.618      0.000   -1166.938    -469.160\n",
      "==============================================================================\n",
      "Omnibus:                      119.744   Durbin-Watson:                   1.946\n",
      "Prob(Omnibus):                  0.000   Jarque-Bera (JB):             1038.945\n",
      "Skew:                           1.653   Prob(JB):                    2.49e-226\n",
      "Kurtosis:                      12.340   Cond. No.                         328.\n",
      "==============================================================================\n",
      "\n",
      "Notes:\n",
      "[1] Standard Errors assume that the covariance matrix of the errors is correctly specified.\n"
     ]
    }
   ],
   "source": [
    "# Extract independent variables (X) & dependent variable (Y)\n",
    "X = MergedData1[X_columns]\n",
    "X = add_constant(X)\n",
    "Y = MergedData1['Chl-a']\n",
    "\n",
    "# Split X and Y into train and test \n",
    "X_train, X_test, Y_train, Y_test = train_test_split(X, Y, test_size=0.30, random_state=1)\n",
    "\n",
    "# Create a Linear Regression model object\n",
    "regression_model = OLS(Y_train,X_train)\n",
    "result = OLS(Y_train,X_train).fit()\n",
    "print(result.summary())"
   ]
  },
  {
   "cell_type": "code",
   "execution_count": 34,
   "id": "4daa683f",
   "metadata": {},
   "outputs": [
    {
     "name": "stdout",
     "output_type": "stream",
     "text": [
      "predicted Y: 413     6.251907\n",
      "443    16.356520\n",
      "161     6.844870\n",
      "217    10.830764\n",
      "277     4.974753\n",
      "         ...    \n",
      "289     8.871238\n",
      "410    17.276884\n",
      "378     6.603313\n",
      "19     11.560144\n",
      "34     12.895887\n",
      "Length: 109, dtype: float64\n"
     ]
    }
   ],
   "source": [
    "# Get predictions\n",
    "Y_predict = result.predict(X_test)\n",
    "print('predicted Y:', Y_predict)"
   ]
  },
  {
   "cell_type": "code",
   "execution_count": 35,
   "id": "4db08a53",
   "metadata": {},
   "outputs": [
    {
     "name": "stdout",
     "output_type": "stream",
     "text": [
      "MSE 1.9e+02\n",
      "MAE 9.14\n",
      "RMSE 13.8\n"
     ]
    }
   ],
   "source": [
    "import math\n",
    "\n",
    "# Calculate the mean squared error\n",
    "model_mse = mean_squared_error(Y_test, Y_predict)\n",
    "\n",
    "# Calculate the mean absolute error\n",
    "model_mae = mean_absolute_error(Y_test, Y_predict)\n",
    "\n",
    "# Calulcate the root mean squared error\n",
    "model_rmse =  math.sqrt(model_mse)\n",
    "\n",
    "# Display the output\n",
    "print(\"MSE {:.3}\".format(model_mse))\n",
    "print(\"MAE {:.3}\".format(model_mae))\n",
    "print(\"RMSE {:.3}\".format(model_rmse))"
   ]
  },
  {
   "cell_type": "code",
   "execution_count": 36,
   "id": "73212e38",
   "metadata": {},
   "outputs": [
    {
     "data": {
      "text/plain": [
       "(134, 24)"
      ]
     },
     "execution_count": 36,
     "metadata": {},
     "output_type": "execute_result"
    }
   ],
   "source": [
    "# MergedData: Threshold  Chl-a < 8\n",
    "MergedData2 = MergedData.loc[(MergedData[\"Chl-a\"] > 8)]\n",
    "MergedData2.shape"
   ]
  },
  {
   "cell_type": "code",
   "execution_count": 37,
   "id": "8fb9b066",
   "metadata": {},
   "outputs": [
    {
     "data": {
      "text/html": [
       "<div>\n",
       "<style scoped>\n",
       "    .dataframe tbody tr th:only-of-type {\n",
       "        vertical-align: middle;\n",
       "    }\n",
       "\n",
       "    .dataframe tbody tr th {\n",
       "        vertical-align: top;\n",
       "    }\n",
       "\n",
       "    .dataframe thead th {\n",
       "        text-align: right;\n",
       "    }\n",
       "</style>\n",
       "<table border=\"1\" class=\"dataframe\">\n",
       "  <thead>\n",
       "    <tr style=\"text-align: right;\">\n",
       "      <th></th>\n",
       "      <th>2BDA</th>\n",
       "      <th>3BDA</th>\n",
       "      <th>NDCI</th>\n",
       "      <th>Chl-a</th>\n",
       "    </tr>\n",
       "  </thead>\n",
       "  <tbody>\n",
       "    <tr>\n",
       "      <th>count</th>\n",
       "      <td>134.000000</td>\n",
       "      <td>134.000000</td>\n",
       "      <td>134.000000</td>\n",
       "      <td>134.000000</td>\n",
       "    </tr>\n",
       "    <tr>\n",
       "      <th>mean</th>\n",
       "      <td>1.060351</td>\n",
       "      <td>0.091041</td>\n",
       "      <td>0.024592</td>\n",
       "      <td>27.135851</td>\n",
       "    </tr>\n",
       "    <tr>\n",
       "      <th>std</th>\n",
       "      <td>0.151542</td>\n",
       "      <td>0.237992</td>\n",
       "      <td>0.064764</td>\n",
       "      <td>25.482840</td>\n",
       "    </tr>\n",
       "    <tr>\n",
       "      <th>min</th>\n",
       "      <td>0.843826</td>\n",
       "      <td>-0.141562</td>\n",
       "      <td>-0.084701</td>\n",
       "      <td>8.168000</td>\n",
       "    </tr>\n",
       "    <tr>\n",
       "      <th>25%</th>\n",
       "      <td>0.951720</td>\n",
       "      <td>-0.053310</td>\n",
       "      <td>-0.024737</td>\n",
       "      <td>11.436500</td>\n",
       "    </tr>\n",
       "    <tr>\n",
       "      <th>50%</th>\n",
       "      <td>1.034095</td>\n",
       "      <td>0.037884</td>\n",
       "      <td>0.016762</td>\n",
       "      <td>16.383000</td>\n",
       "    </tr>\n",
       "    <tr>\n",
       "      <th>75%</th>\n",
       "      <td>1.107018</td>\n",
       "      <td>0.136467</td>\n",
       "      <td>0.050791</td>\n",
       "      <td>31.460000</td>\n",
       "    </tr>\n",
       "    <tr>\n",
       "      <th>max</th>\n",
       "      <td>1.742914</td>\n",
       "      <td>1.446834</td>\n",
       "      <td>0.270848</td>\n",
       "      <td>166.300000</td>\n",
       "    </tr>\n",
       "    <tr>\n",
       "      <th>+3_std</th>\n",
       "      <td>1.514976</td>\n",
       "      <td>0.805016</td>\n",
       "      <td>0.218883</td>\n",
       "      <td>103.584370</td>\n",
       "    </tr>\n",
       "    <tr>\n",
       "      <th>-3_std</th>\n",
       "      <td>0.605727</td>\n",
       "      <td>-0.622934</td>\n",
       "      <td>-0.169699</td>\n",
       "      <td>-49.312668</td>\n",
       "    </tr>\n",
       "  </tbody>\n",
       "</table>\n",
       "</div>"
      ],
      "text/plain": [
       "              2BDA        3BDA        NDCI       Chl-a\n",
       "count   134.000000  134.000000  134.000000  134.000000\n",
       "mean      1.060351    0.091041    0.024592   27.135851\n",
       "std       0.151542    0.237992    0.064764   25.482840\n",
       "min       0.843826   -0.141562   -0.084701    8.168000\n",
       "25%       0.951720   -0.053310   -0.024737   11.436500\n",
       "50%       1.034095    0.037884    0.016762   16.383000\n",
       "75%       1.107018    0.136467    0.050791   31.460000\n",
       "max       1.742914    1.446834    0.270848  166.300000\n",
       "+3_std    1.514976    0.805016    0.218883  103.584370\n",
       "-3_std    0.605727   -0.622934   -0.169699  -49.312668"
      ]
     },
     "execution_count": 37,
     "metadata": {},
     "output_type": "execute_result"
    }
   ],
   "source": [
    "# get the summary\n",
    "desc_mergeddata2 = MergedData2 [list].describe()\n",
    "\n",
    "# add the standard deviation metric\n",
    "desc_mergeddata2.loc['+3_std'] = desc_mergeddata2.loc['mean'] + (desc_mergeddata2.loc['std'] * 3)\n",
    "desc_mergeddata2.loc['-3_std'] = desc_mergeddata2.loc['mean'] - (desc_mergeddata2.loc['std'] * 3)\n",
    "\n",
    "# display it\n",
    "desc_mergeddata2"
   ]
  },
  {
   "cell_type": "code",
   "execution_count": 38,
   "id": "343d062b",
   "metadata": {},
   "outputs": [
    {
     "data": {
      "text/html": [
       "<div>\n",
       "<style scoped>\n",
       "    .dataframe tbody tr th:only-of-type {\n",
       "        vertical-align: middle;\n",
       "    }\n",
       "\n",
       "    .dataframe tbody tr th {\n",
       "        vertical-align: top;\n",
       "    }\n",
       "\n",
       "    .dataframe thead th {\n",
       "        text-align: right;\n",
       "    }\n",
       "</style>\n",
       "<table border=\"1\" class=\"dataframe\">\n",
       "  <thead>\n",
       "    <tr style=\"text-align: right;\">\n",
       "      <th></th>\n",
       "      <th>2BDA</th>\n",
       "      <th>3BDA</th>\n",
       "      <th>NDCI</th>\n",
       "      <th>Chl-a</th>\n",
       "    </tr>\n",
       "  </thead>\n",
       "  <tbody>\n",
       "    <tr>\n",
       "      <th>2BDA</th>\n",
       "      <td>1.000000</td>\n",
       "      <td>0.940820</td>\n",
       "      <td>0.993972</td>\n",
       "      <td>0.487004</td>\n",
       "    </tr>\n",
       "    <tr>\n",
       "      <th>3BDA</th>\n",
       "      <td>0.940820</td>\n",
       "      <td>1.000000</td>\n",
       "      <td>0.914741</td>\n",
       "      <td>0.305198</td>\n",
       "    </tr>\n",
       "    <tr>\n",
       "      <th>NDCI</th>\n",
       "      <td>0.993972</td>\n",
       "      <td>0.914741</td>\n",
       "      <td>1.000000</td>\n",
       "      <td>0.502570</td>\n",
       "    </tr>\n",
       "    <tr>\n",
       "      <th>Chl-a</th>\n",
       "      <td>0.487004</td>\n",
       "      <td>0.305198</td>\n",
       "      <td>0.502570</td>\n",
       "      <td>1.000000</td>\n",
       "    </tr>\n",
       "  </tbody>\n",
       "</table>\n",
       "</div>"
      ],
      "text/plain": [
       "           2BDA      3BDA      NDCI     Chl-a\n",
       "2BDA   1.000000  0.940820  0.993972  0.487004\n",
       "3BDA   0.940820  1.000000  0.914741  0.305198\n",
       "NDCI   0.993972  0.914741  1.000000  0.502570\n",
       "Chl-a  0.487004  0.305198  0.502570  1.000000"
      ]
     },
     "metadata": {},
     "output_type": "display_data"
    }
   ],
   "source": [
    "# Pearson Coefficient \n",
    "corr2 = MergedData2[list].corr(method='pearson')\n",
    "\n",
    "# display the correlation matrix\n",
    "display(corr2)"
   ]
  },
  {
   "cell_type": "code",
   "execution_count": 39,
   "id": "c2bd25e0",
   "metadata": {},
   "outputs": [
    {
     "data": {
      "text/plain": [
       "<seaborn.axisgrid.PairGrid at 0x160c3bdcf70>"
      ]
     },
     "execution_count": 39,
     "metadata": {},
     "output_type": "execute_result"
    },
    {
     "data": {
      "image/png": "[encoded data removed]",
      "text/plain": [
       "<Figure size 720x720 with 20 Axes>"
      ]
     },
     "metadata": {
      "needs_background": "light"
     },
     "output_type": "display_data"
    }
   ],
   "source": [
    "# Scatter plot for each variable in our dataset against another variable\n",
    "sns.pairplot(MergedData2[list])"
   ]
  },
  {
   "cell_type": "code",
   "execution_count": 40,
   "id": "5c778788",
   "metadata": {},
   "outputs": [
    {
     "name": "stdout",
     "output_type": "stream",
     "text": [
      "                            OLS Regression Results                            \n",
      "==============================================================================\n",
      "Dep. Variable:                  Chl-a   R-squared:                       0.456\n",
      "Model:                            OLS   Adj. R-squared:                  0.438\n",
      "Method:                 Least Squares   F-statistic:                     24.86\n",
      "Date:                Fri, 04 Mar 2022   Prob (F-statistic):           8.94e-12\n",
      "Time:                        16:39:58   Log-Likelihood:                -409.70\n",
      "No. Observations:                  93   AIC:                             827.4\n",
      "Df Residuals:                      89   BIC:                             837.5\n",
      "Df Model:                           3                                         \n",
      "Covariance Type:            nonrobust                                         \n",
      "==============================================================================\n",
      "                 coef    std err          t      P>|t|      [0.025      0.975]\n",
      "------------------------------------------------------------------------------\n",
      "const       -347.8264    166.287     -2.092      0.039    -678.235     -17.417\n",
      "2BDA         371.0916    165.944      2.236      0.028      41.364     700.819\n",
      "3BDA        -140.0714     29.031     -4.825      0.000    -197.755     -82.388\n",
      "NDCI        -188.9721    331.542     -0.570      0.570    -847.739     469.795\n",
      "==============================================================================\n",
      "Omnibus:                       21.675   Durbin-Watson:                   2.048\n",
      "Prob(Omnibus):                  0.000   Jarque-Bera (JB):               65.689\n",
      "Skew:                           0.681   Prob(JB):                     5.44e-15\n",
      "Kurtosis:                       6.885   Cond. No.                         283.\n",
      "==============================================================================\n",
      "\n",
      "Notes:\n",
      "[1] Standard Errors assume that the covariance matrix of the errors is correctly specified.\n"
     ]
    }
   ],
   "source": [
    "# Extract independent variables (X) & dependent variable (Y)\n",
    "X = MergedData2[X_columns]\n",
    "X = add_constant(X)\n",
    "Y = MergedData2['Chl-a']\n",
    "\n",
    "# Split X and Y into train and test \n",
    "X_train, X_test, Y_train, Y_test = train_test_split(X, Y, test_size=0.30, random_state=1)\n",
    "\n",
    "# Create a Linear Regression model object\n",
    "regression_model = OLS(Y_train,X_train)\n",
    "result = OLS(Y_train,X_train).fit()\n",
    "print(result.summary())"
   ]
  },
  {
   "cell_type": "code",
   "execution_count": 41,
   "id": "8d55e6ee",
   "metadata": {},
   "outputs": [
    {
     "name": "stdout",
     "output_type": "stream",
     "text": [
      "predicted Y: 216    16.425680\n",
      "198    37.659492\n",
      "404    29.533752\n",
      "31     27.537969\n",
      "300    14.296064\n",
      "449    30.121740\n",
      "266    30.446669\n",
      "110    18.298703\n",
      "256    35.695685\n",
      "469    43.290700\n",
      "313    19.206796\n",
      "468    20.136580\n",
      "220    17.755273\n",
      "294    69.736330\n",
      "400    25.244566\n",
      "463    29.561358\n",
      "192    21.775756\n",
      "342    32.800913\n",
      "486     3.275938\n",
      "105    11.745078\n",
      "246    21.837539\n",
      "403    33.014651\n",
      "236     6.866173\n",
      "175    32.349612\n",
      "24     21.098151\n",
      "488    15.130586\n",
      "467    20.404646\n",
      "197    37.644540\n",
      "265    31.470424\n",
      "439    14.392241\n",
      "213    33.515344\n",
      "498    33.595929\n",
      "476    21.960248\n",
      "297    19.462584\n",
      "301    13.854742\n",
      "60     22.751873\n",
      "11     27.535166\n",
      "212    21.392479\n",
      "455    27.723955\n",
      "32     27.730208\n",
      "372    49.547510\n",
      "dtype: float64\n"
     ]
    }
   ],
   "source": [
    "# Get predictions\n",
    "Y_predict = result.predict(X_test)\n",
    "print('predicted Y:', Y_predict)"
   ]
  },
  {
   "cell_type": "code",
   "execution_count": 42,
   "id": "03c274a9",
   "metadata": {},
   "outputs": [
    {
     "name": "stdout",
     "output_type": "stream",
     "text": [
      "MSE 2.81e+02\n",
      "MAE 12.3\n",
      "RMSE 16.8\n"
     ]
    }
   ],
   "source": [
    "import math\n",
    "\n",
    "# Calculate the mean squared error\n",
    "model_mse = mean_squared_error(Y_test, Y_predict)\n",
    "\n",
    "# Calculate the mean absolute error\n",
    "model_mae = mean_absolute_error(Y_test, Y_predict)\n",
    "\n",
    "# Calulcate the root mean squared error\n",
    "model_rmse =  math.sqrt(model_mse)\n",
    "\n",
    "# Display the output\n",
    "print(\"MSE {:.3}\".format(model_mse))\n",
    "print(\"MAE {:.3}\".format(model_mae))\n",
    "print(\"RMSE {:.3}\".format(model_rmse))"
   ]
  },
  {
   "cell_type": "code",
   "execution_count": null,
   "id": "ba8a9ffa",
   "metadata": {},
   "outputs": [],
   "source": []
  }
 ],
 "metadata": {
  "kernelspec": {
   "display_name": "Python 3",
   "language": "python",
   "name": "python3"
  },
  "language_info": {
   "codemirror_mode": {
    "name": "ipython",
    "version": 3
   },
   "file_extension": ".py",
   "mimetype": "text/x-python",
   "name": "python",
   "nbconvert_exporter": "python",
   "pygments_lexer": "ipython3",
   "version": "3.8.8"
  }
 },
 "nbformat": 4,
 "nbformat_minor": 5
}
