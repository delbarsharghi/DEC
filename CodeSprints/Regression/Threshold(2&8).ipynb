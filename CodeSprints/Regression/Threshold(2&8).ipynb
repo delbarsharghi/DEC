{
 "cells": [
  {
   "cell_type": "code",
   "execution_count": 99,
   "id": "c2f02e92",
   "metadata": {},
   "outputs": [],
   "source": [
    "import pandas as pd\n",
    "import numpy as np\n",
    "import matplotlib.pyplot as plt\n",
    "import statsmodels.api as sm\n",
    "import seaborn as sns\n",
    "from statsmodels.stats.outliers_influence import variance_inflation_factor\n",
    "from sklearn.model_selection import cross_val_score\n",
    "import sklearn.metrics as metrics\n",
    "from numpy import mean\n",
    "from numpy import std\n",
    "from numpy import absolute\n",
    "from libpysal.weights.contiguity import Queen\n",
    "import libpysal\n",
    "from statsmodels.api import OLS\n",
    "sns.set_style('white')"
   ]
  },
  {
   "cell_type": "code",
   "execution_count": 100,
   "id": "ed385746",
   "metadata": {},
   "outputs": [
    {
     "data": {
      "text/plain": [
       "'C:\\\\Users\\\\SarShel\\\\DEC\\\\Regression'"
      ]
     },
     "execution_count": 100,
     "metadata": {},
     "output_type": "execute_result"
    }
   ],
   "source": [
    "import os\n",
    "os.getcwd()"
   ]
  },
  {
   "cell_type": "code",
   "execution_count": 101,
   "id": "ed603740",
   "metadata": {},
   "outputs": [
    {
     "data": {
      "text/plain": [
       "'C:\\\\Users\\\\SarShel\\\\DEC\\\\Regression'"
      ]
     },
     "execution_count": 101,
     "metadata": {},
     "output_type": "execute_result"
    }
   ],
   "source": [
    "os.chdir('C:\\\\Users\\\\SarShel\\\\DEC\\\\Regression')\n",
    "os.getcwd()"
   ]
  },
  {
   "cell_type": "code",
   "execution_count": 102,
   "id": "ab10eeb2",
   "metadata": {},
   "outputs": [
    {
     "name": "stdout",
     "output_type": "stream",
     "text": [
      "       Year  Month  Day      2BDA      3BDA      NDCI        B1       B10  \\\n",
      "0      2016      5    7  0.956879 -0.044137 -0.022070  0.117900  0.002955   \n",
      "1      2016      5    7  0.956959 -0.043948 -0.022029  0.117907  0.002955   \n",
      "2      2016      5    7  1.015101  0.016830  0.007469  0.147959  0.008728   \n",
      "3      2016      5    7  0.991688 -0.008969 -0.004225  0.142645  0.007528   \n",
      "4      2016      5    7  0.881265 -0.110070 -0.063161  0.116655  0.002038   \n",
      "...     ...    ...  ...       ...       ...       ...       ...       ...   \n",
      "35028  2020     10   30  0.854190 -0.129064 -0.078726  0.152807  0.001676   \n",
      "35029  2020     10   30  1.077379  0.065607  0.035775  0.126659  0.001469   \n",
      "35030  2020     10   30  0.946243 -0.050380 -0.027911  0.134852  0.007321   \n",
      "35031  2020     10   30  0.962221 -0.039201 -0.019493  0.132445  0.007393   \n",
      "35032  2020     10   30  0.960195 -0.038782 -0.020508  0.126638  0.006003   \n",
      "\n",
      "            B11       B12  ...        B3        B4        B5        B6  \\\n",
      "0      0.016390  0.011321  ...  0.066817  0.042403  0.040572  0.041431   \n",
      "1      0.016390  0.011321  ...  0.066817  0.042400  0.040572  0.041331   \n",
      "2      0.053441  0.041969  ...  0.098893  0.080366  0.081576  0.091038   \n",
      "3      0.047441  0.035914  ...  0.095421  0.073648  0.073031  0.078548   \n",
      "4      0.007586  0.005145  ...  0.066907  0.038455  0.033886  0.031386   \n",
      "...         ...       ...  ...       ...       ...       ...       ...   \n",
      "35028  0.008662  0.005803  ...  0.070890  0.044710  0.038179  0.033731   \n",
      "35029  0.014217  0.008186  ...  0.071028  0.040410  0.043538  0.034555   \n",
      "35030  0.018221  0.015945  ...  0.070283  0.047528  0.044917  0.042248   \n",
      "35031  0.022983  0.016369  ...  0.067686  0.047010  0.045217  0.046493   \n",
      "35032  0.016324  0.011272  ...  0.062962  0.040838  0.039190  0.037914   \n",
      "\n",
      "             B7        B8       B8A        B9          X          Y  \n",
      "0      0.040707  0.035441  0.036210  0.016803 -79.726196  42.101898  \n",
      "1      0.040714  0.035441  0.036172  0.016969 -79.726196  42.101898  \n",
      "2      0.094266  0.090610  0.094869  0.046917 -79.455423  42.219885  \n",
      "3      0.079997  0.077869  0.077197  0.034931 -79.430702  42.180951  \n",
      "4      0.030362  0.024534  0.025524  0.011448 -79.363881  42.123269  \n",
      "...         ...       ...       ...       ...        ...        ...  \n",
      "35028  0.030021  0.027724  0.024259  0.012969 -76.958078  43.248531  \n",
      "35029  0.034010  0.027786  0.029086  0.020831 -76.222702  43.235401  \n",
      "35030  0.041645  0.041476  0.038621  0.031514 -75.775200  44.316502  \n",
      "35031  0.044748  0.044814  0.042314  0.030562 -75.775002  44.279800  \n",
      "35032  0.036766  0.037372  0.033231  0.022614 -75.767502  44.292198  \n",
      "\n",
      "[35033 rows x 21 columns]\n"
     ]
    }
   ],
   "source": [
    "# Read S2 dataset \n",
    "Data1 = pd.read_csv('data_raw/Indices/S2Data.csv')\n",
    "\n",
    "# Remove none values\n",
    "S2Data = Data1.dropna()\n",
    "\n",
    "# Display the first few rows of our DataFrame\n",
    "S2Data.head()\n",
    "print(S2Data)"
   ]
  },
  {
   "cell_type": "code",
   "execution_count": 103,
   "id": "d80ab313",
   "metadata": {},
   "outputs": [
    {
     "name": "stdout",
     "output_type": "stream",
     "text": [
      "             Lake Name          Y          X       Date  Year  Month  Day  \\\n",
      "0     Little Long Pond  40.977600 -72.296204   6/4/2016  2016      6    4   \n",
      "1       Cossayuna Lake  43.200600 -73.423401   6/3/2016  2016      6    3   \n",
      "2           Hatch Lake  42.834598 -75.677803   6/5/2016  2016      6    5   \n",
      "3      Montgomery Lake  41.525299 -74.917297   6/4/2016  2016      6    4   \n",
      "4        Lake Devenoge  41.521000 -74.839401   6/4/2016  2016      6    4   \n",
      "...                ...        ...        ...        ...   ...    ...  ...   \n",
      "6070         Long Pond  40.975102 -72.290802  7/26/2020  2020      7   26   \n",
      "6071         Long Pond  40.975102 -72.290802   8/9/2020  2020      8    9   \n",
      "6072         Long Pond  40.975102 -72.290802  8/23/2020  2020      8   23   \n",
      "6073         Long Pond  40.975102 -72.290802   9/7/2020  2020      9    7   \n",
      "6074         Long Pond  40.975102 -72.290802  9/20/2020  2020      9   20   \n",
      "\n",
      "       Chl-a  \n",
      "0      1.200  \n",
      "1      0.600  \n",
      "2      2.900  \n",
      "3      2.900  \n",
      "4      1.300  \n",
      "...      ...  \n",
      "6070   8.168  \n",
      "6071   9.048  \n",
      "6072  13.088  \n",
      "6073   7.778  \n",
      "6074  11.076  \n",
      "\n",
      "[6037 rows x 8 columns]\n"
     ]
    }
   ],
   "source": [
    "# Read Field dataset \n",
    "Data2 = pd.read_csv('data_raw/Indices/FieldData.csv')\n",
    "\n",
    "# Remove none values\n",
    "FieldData = Data2.dropna()\n",
    "\n",
    "# Display the first few rows of our DataFrame\n",
    "#FieldData.head()\n",
    "print(FieldData)"
   ]
  },
  {
   "cell_type": "code",
   "execution_count": 104,
   "id": "e6de0fcb",
   "metadata": {},
   "outputs": [
    {
     "name": "stdout",
     "output_type": "stream",
     "text": [
      "      Year  Month  Day      2BDA      3BDA      NDCI        B1       B10  \\\n",
      "0     2016      6    7  0.951738 -0.048882 -0.024856  0.119966  0.000776   \n",
      "1     2016      6    7  0.951738 -0.048882 -0.024856  0.119966  0.000776   \n",
      "2     2016      6    7  0.954945 -0.070901 -0.023265  0.111821  0.001138   \n",
      "3     2016      6    7  0.954945 -0.070901 -0.023265  0.111821  0.001138   \n",
      "4     2016      6   10  0.975644 -0.026771 -0.012388  0.116193  0.001103   \n",
      "...    ...    ...  ...       ...       ...       ...       ...       ...   \n",
      "1482  2020      9   24  1.006182  0.007508  0.003046  0.136534  0.007655   \n",
      "1483  2020      9   27  0.985506 -0.017302 -0.007349  0.160810  0.001697   \n",
      "1484  2020      9   27  0.948135 -0.054520 -0.026673  0.270976  0.003162   \n",
      "1485  2020      9   30  0.906324 -0.089171 -0.049167  0.135859  0.001359   \n",
      "1486  2020      9   30  1.060907  0.070528  0.027154  0.190724  0.001834   \n",
      "\n",
      "           B11       B12  ...        B6        B7        B8       B8A  \\\n",
      "0     0.012669  0.008090  ...  0.038324  0.040445  0.033017  0.032786   \n",
      "1     0.012669  0.008090  ...  0.038324  0.040445  0.033017  0.032786   \n",
      "2     0.016321  0.007734  ...  0.042097  0.045834  0.039707  0.042538   \n",
      "3     0.016321  0.007734  ...  0.042097  0.045834  0.039707  0.042538   \n",
      "4     0.033817  0.025400  ...  0.054503  0.055210  0.050200  0.051345   \n",
      "...        ...       ...  ...       ...       ...       ...       ...   \n",
      "1482  0.020848  0.013324  ...  0.058293  0.062021  0.057755  0.060052   \n",
      "1483  0.012845  0.005197  ...  0.073683  0.073900  0.063172  0.064207   \n",
      "1484  0.039348  0.017483  ...  0.167121  0.164455  0.149934  0.143662   \n",
      "1485  0.013124  0.009559  ...  0.037286  0.037245  0.031593  0.031531   \n",
      "1486  0.167897  0.131503  ...  0.169790  0.176121  0.210217  0.179107   \n",
      "\n",
      "            B9          X          Y            Lake Name       Date   Chl-a  \n",
      "0     0.010493 -74.115898  41.442001     Beaver Dam Lake    6/7/2016  8.1000  \n",
      "1     0.010493 -74.115898  41.442001     Beaver Dam Lake    6/7/2016  8.1000  \n",
      "2     0.012207 -73.887703  41.373100          Indian Lake   6/7/2016  0.7000  \n",
      "3     0.012207 -73.887703  41.373100          Indian Lake   6/7/2016  0.7000  \n",
      "4     0.022500 -75.774803  42.517300     Geneganslet Lake  6/10/2016  4.0000  \n",
      "...        ...        ...        ...                  ...        ...     ...  \n",
      "1482  0.020524 -73.755524  43.830651         Schroon Lake  9/24/2020  0.2898  \n",
      "1483  0.019121 -76.515000  42.470000          Cayuga Lake  9/27/2020  2.8560  \n",
      "1484  0.043379 -75.522201  42.850201         Lake Moraine  9/27/2020  7.3620  \n",
      "1485  0.012603 -77.566902  42.492599            Loon Lake  9/30/2020  3.4640  \n",
      "1486  0.065355 -75.888603  42.810699  De Ruyter Reservoir  9/30/2020  3.2140  \n",
      "\n",
      "[1487 rows x 24 columns]\n"
     ]
    }
   ],
   "source": [
    "# Using merge function by setting how='inner'\n",
    "MergedData = pd.merge(S2Data, FieldData, on=['Y', 'X', 'Year', 'Month', 'Day'], how='inner')\n",
    "MergedData.to_csv('data_output/ThresholdCSLAP/MergedData.csv')\n",
    "  \n",
    "# displaying result\n",
    "print(MergedData)"
   ]
  },
  {
   "cell_type": "code",
   "execution_count": 105,
   "id": "7a84bf9a",
   "metadata": {},
   "outputs": [
    {
     "data": {
      "text/html": [
       "<div>\n",
       "<style scoped>\n",
       "    .dataframe tbody tr th:only-of-type {\n",
       "        vertical-align: middle;\n",
       "    }\n",
       "\n",
       "    .dataframe tbody tr th {\n",
       "        vertical-align: top;\n",
       "    }\n",
       "\n",
       "    .dataframe thead th {\n",
       "        text-align: right;\n",
       "    }\n",
       "</style>\n",
       "<table border=\"1\" class=\"dataframe\">\n",
       "  <thead>\n",
       "    <tr style=\"text-align: right;\">\n",
       "      <th></th>\n",
       "      <th>2BDA</th>\n",
       "      <th>3BDA</th>\n",
       "      <th>NDCI</th>\n",
       "      <th>Chl-a</th>\n",
       "    </tr>\n",
       "  </thead>\n",
       "  <tbody>\n",
       "    <tr>\n",
       "      <th>count</th>\n",
       "      <td>1487.000000</td>\n",
       "      <td>1487.000000</td>\n",
       "      <td>1487.000000</td>\n",
       "      <td>1487.000000</td>\n",
       "    </tr>\n",
       "    <tr>\n",
       "      <th>mean</th>\n",
       "      <td>0.995474</td>\n",
       "      <td>0.015297</td>\n",
       "      <td>-0.005038</td>\n",
       "      <td>10.526351</td>\n",
       "    </tr>\n",
       "    <tr>\n",
       "      <th>std</th>\n",
       "      <td>0.132150</td>\n",
       "      <td>0.191915</td>\n",
       "      <td>0.054806</td>\n",
       "      <td>18.258538</td>\n",
       "    </tr>\n",
       "    <tr>\n",
       "      <th>min</th>\n",
       "      <td>0.406412</td>\n",
       "      <td>-0.183174</td>\n",
       "      <td>-0.113502</td>\n",
       "      <td>0.050000</td>\n",
       "    </tr>\n",
       "    <tr>\n",
       "      <th>25%</th>\n",
       "      <td>0.916918</td>\n",
       "      <td>-0.093031</td>\n",
       "      <td>-0.042380</td>\n",
       "      <td>1.900000</td>\n",
       "    </tr>\n",
       "    <tr>\n",
       "      <th>50%</th>\n",
       "      <td>0.966684</td>\n",
       "      <td>-0.035932</td>\n",
       "      <td>-0.016578</td>\n",
       "      <td>3.900000</td>\n",
       "    </tr>\n",
       "    <tr>\n",
       "      <th>75%</th>\n",
       "      <td>1.048701</td>\n",
       "      <td>0.067505</td>\n",
       "      <td>0.023032</td>\n",
       "      <td>9.992000</td>\n",
       "    </tr>\n",
       "    <tr>\n",
       "      <th>max</th>\n",
       "      <td>2.165665</td>\n",
       "      <td>2.150818</td>\n",
       "      <td>0.368135</td>\n",
       "      <td>166.300000</td>\n",
       "    </tr>\n",
       "  </tbody>\n",
       "</table>\n",
       "</div>"
      ],
      "text/plain": [
       "              2BDA         3BDA         NDCI        Chl-a\n",
       "count  1487.000000  1487.000000  1487.000000  1487.000000\n",
       "mean      0.995474     0.015297    -0.005038    10.526351\n",
       "std       0.132150     0.191915     0.054806    18.258538\n",
       "min       0.406412    -0.183174    -0.113502     0.050000\n",
       "25%       0.916918    -0.093031    -0.042380     1.900000\n",
       "50%       0.966684    -0.035932    -0.016578     3.900000\n",
       "75%       1.048701     0.067505     0.023032     9.992000\n",
       "max       2.165665     2.150818     0.368135   166.300000"
      ]
     },
     "execution_count": 105,
     "metadata": {},
     "output_type": "execute_result"
    }
   ],
   "source": [
    "# Descriptive statistics of all variables\n",
    "list = ['2BDA', '3BDA', 'NDCI', 'Chl-a']\n",
    "MergedData [list].describe()"
   ]
  },
  {
   "cell_type": "code",
   "execution_count": 106,
   "id": "c9ae0769",
   "metadata": {},
   "outputs": [
    {
     "name": "stderr",
     "output_type": "stream",
     "text": [
      "C:\\Users\\SarShel\\anaconda3\\envs\\geostats_env\\lib\\site-packages\\pandas\\plotting\\_matplotlib\\tools.py:331: MatplotlibDeprecationWarning: \n",
      "The is_first_col function was deprecated in Matplotlib 3.4 and will be removed two minor releases later. Use ax.get_subplotspec().is_first_col() instead.\n",
      "  if ax.is_first_col():\n"
     ]
    },
    {
     "data": {
      "image/png": "[encoded data removed]",
      "text/plain": [
       "<Figure size 892.8x288 with 3 Axes>"
      ]
     },
     "metadata": {},
     "output_type": "display_data"
    },
    {
     "name": "stdout",
     "output_type": "stream",
     "text": [
      "0.4000614611071748 0.28917515561718177 0.44219761482571174\n"
     ]
    }
   ],
   "source": [
    "# Scatterplot for Chl-a vs all variables\n",
    "\n",
    "f,ax = plt.subplots(1,3, figsize=(4*3.1,4))\n",
    "MergedData[['2BDA','Chl-a']].plot.scatter('2BDA','Chl-a', ax=ax[0])\n",
    "ax[0].set_xlabel('Two Band Ratio')\n",
    "ax[0].set_ylabel('Chl-a Concentration')\n",
    "r1 = np.corrcoef(MergedData['2BDA'].values, MergedData['Chl-a'].values)[0,1]\n",
    "\n",
    "MergedData[['3BDA','Chl-a']].plot.scatter('3BDA','Chl-a', ax=ax[1])\n",
    "ax[1].set_xlabel('Three Band Ratio')\n",
    "ax[1].set_ylabel('Chl-a Concentration')\n",
    "r2 = np.corrcoef(MergedData['3BDA'].values, MergedData['Chl-a'].values)[0,1]\n",
    "\n",
    "MergedData[['NDCI','Chl-a']].plot.scatter('NDCI','Chl-a', ax=ax[2])\n",
    "ax[2].set_xlabel('NDCI')\n",
    "ax[2].set_ylabel('Chl-a Concentration')\n",
    "r3 = np.corrcoef(MergedData['NDCI'].values, MergedData['Chl-a'].values)[0,1]\n",
    "\n",
    "f.tight_layout()\n",
    "plt.show()\n",
    "print(r1,r2,r3)"
   ]
  },
  {
   "cell_type": "code",
   "execution_count": 107,
   "id": "3e4be35b",
   "metadata": {},
   "outputs": [
    {
     "data": {
      "text/html": [
       "<div>\n",
       "<style scoped>\n",
       "    .dataframe tbody tr th:only-of-type {\n",
       "        vertical-align: middle;\n",
       "    }\n",
       "\n",
       "    .dataframe tbody tr th {\n",
       "        vertical-align: top;\n",
       "    }\n",
       "\n",
       "    .dataframe thead th {\n",
       "        text-align: right;\n",
       "    }\n",
       "</style>\n",
       "<table border=\"1\" class=\"dataframe\">\n",
       "  <thead>\n",
       "    <tr style=\"text-align: right;\">\n",
       "      <th></th>\n",
       "      <th>2BDA</th>\n",
       "      <th>3BDA</th>\n",
       "      <th>NDCI</th>\n",
       "      <th>Chl-a</th>\n",
       "    </tr>\n",
       "  </thead>\n",
       "  <tbody>\n",
       "    <tr>\n",
       "      <th>2BDA</th>\n",
       "      <td>1.000000</td>\n",
       "      <td>0.901674</td>\n",
       "      <td>0.947186</td>\n",
       "      <td>0.400061</td>\n",
       "    </tr>\n",
       "    <tr>\n",
       "      <th>3BDA</th>\n",
       "      <td>0.901674</td>\n",
       "      <td>1.000000</td>\n",
       "      <td>0.912430</td>\n",
       "      <td>0.289175</td>\n",
       "    </tr>\n",
       "    <tr>\n",
       "      <th>NDCI</th>\n",
       "      <td>0.947186</td>\n",
       "      <td>0.912430</td>\n",
       "      <td>1.000000</td>\n",
       "      <td>0.442198</td>\n",
       "    </tr>\n",
       "    <tr>\n",
       "      <th>Chl-a</th>\n",
       "      <td>0.400061</td>\n",
       "      <td>0.289175</td>\n",
       "      <td>0.442198</td>\n",
       "      <td>1.000000</td>\n",
       "    </tr>\n",
       "  </tbody>\n",
       "</table>\n",
       "</div>"
      ],
      "text/plain": [
       "           2BDA      3BDA      NDCI     Chl-a\n",
       "2BDA   1.000000  0.901674  0.947186  0.400061\n",
       "3BDA   0.901674  1.000000  0.912430  0.289175\n",
       "NDCI   0.947186  0.912430  1.000000  0.442198\n",
       "Chl-a  0.400061  0.289175  0.442198  1.000000"
      ]
     },
     "execution_count": 107,
     "metadata": {},
     "output_type": "execute_result"
    }
   ],
   "source": [
    "# Pearson Coefficient \n",
    "MergedData[['2BDA', '3BDA', 'NDCI', 'Chl-a']].corr(method='pearson')"
   ]
  },
  {
   "cell_type": "code",
   "execution_count": 108,
   "id": "6d08eeed",
   "metadata": {},
   "outputs": [
    {
     "data": {
      "text/html": [
       "<div>\n",
       "<style scoped>\n",
       "    .dataframe tbody tr th:only-of-type {\n",
       "        vertical-align: middle;\n",
       "    }\n",
       "\n",
       "    .dataframe tbody tr th {\n",
       "        vertical-align: top;\n",
       "    }\n",
       "\n",
       "    .dataframe thead th {\n",
       "        text-align: right;\n",
       "    }\n",
       "</style>\n",
       "<table border=\"1\" class=\"dataframe\">\n",
       "  <thead>\n",
       "    <tr style=\"text-align: right;\">\n",
       "      <th></th>\n",
       "      <th>2BDA</th>\n",
       "      <th>3BDA</th>\n",
       "      <th>NDCI</th>\n",
       "      <th>Chl-a</th>\n",
       "    </tr>\n",
       "  </thead>\n",
       "  <tbody>\n",
       "    <tr>\n",
       "      <th>2BDA</th>\n",
       "      <td>1.000000</td>\n",
       "      <td>0.970467</td>\n",
       "      <td>0.976571</td>\n",
       "      <td>0.242132</td>\n",
       "    </tr>\n",
       "    <tr>\n",
       "      <th>3BDA</th>\n",
       "      <td>0.970467</td>\n",
       "      <td>1.000000</td>\n",
       "      <td>0.992645</td>\n",
       "      <td>0.254440</td>\n",
       "    </tr>\n",
       "    <tr>\n",
       "      <th>NDCI</th>\n",
       "      <td>0.976571</td>\n",
       "      <td>0.992645</td>\n",
       "      <td>1.000000</td>\n",
       "      <td>0.249792</td>\n",
       "    </tr>\n",
       "    <tr>\n",
       "      <th>Chl-a</th>\n",
       "      <td>0.242132</td>\n",
       "      <td>0.254440</td>\n",
       "      <td>0.249792</td>\n",
       "      <td>1.000000</td>\n",
       "    </tr>\n",
       "  </tbody>\n",
       "</table>\n",
       "</div>"
      ],
      "text/plain": [
       "           2BDA      3BDA      NDCI     Chl-a\n",
       "2BDA   1.000000  0.970467  0.976571  0.242132\n",
       "3BDA   0.970467  1.000000  0.992645  0.254440\n",
       "NDCI   0.976571  0.992645  1.000000  0.249792\n",
       "Chl-a  0.242132  0.254440  0.249792  1.000000"
      ]
     },
     "execution_count": 108,
     "metadata": {},
     "output_type": "execute_result"
    }
   ],
   "source": [
    "# Pearson Coefficient \n",
    "MergedData[['2BDA', '3BDA', 'NDCI', 'Chl-a']].corr(method='spearman')"
   ]
  },
  {
   "cell_type": "code",
   "execution_count": 109,
   "id": "cb551c5f",
   "metadata": {},
   "outputs": [],
   "source": [
    "# Getting column names\n",
    "X_columns = [\"2BDA\", \"3BDA\", \"NDCI\"]\n",
    "Y = MergedData[\"Chl-a\"]"
   ]
  },
  {
   "cell_type": "code",
   "execution_count": 110,
   "id": "97602338",
   "metadata": {},
   "outputs": [
    {
     "data": {
      "text/plain": [
       "<seaborn.axisgrid.PairGrid at 0x178ecdb74c8>"
      ]
     },
     "execution_count": 110,
     "metadata": {},
     "output_type": "execute_result"
    },
    {
     "data": {
      "image/png": "[encoded data removed]",
      "text/plain": [
       "<Figure size 540x540 with 12 Axes>"
      ]
     },
     "metadata": {},
     "output_type": "display_data"
    }
   ],
   "source": [
    "# Use seaborn.pairplot to plot a scatterplot matrix of independent variables (X)\n",
    "sns.pairplot(MergedData[X_columns])"
   ]
  },
  {
   "cell_type": "code",
   "execution_count": 111,
   "id": "5baba13e",
   "metadata": {},
   "outputs": [],
   "source": [
    "?variance_inflation_factor"
   ]
  },
  {
   "cell_type": "code",
   "execution_count": 112,
   "id": "22876dae",
   "metadata": {},
   "outputs": [],
   "source": [
    "#Calculate VIFs on our dataset\n",
    "vif = pd.DataFrame()\n",
    "vif[\"VIF Factor\"] = [variance_inflation_factor(MergedData[X_columns[0:3]].values, i) for i in range(MergedData[X_columns[0:3]].shape[1])]\n",
    "vif[\"features\"] = MergedData[X_columns[0:3]].columns"
   ]
  },
  {
   "cell_type": "code",
   "execution_count": 113,
   "id": "aa31830f",
   "metadata": {},
   "outputs": [
    {
     "data": {
      "text/html": [
       "<div>\n",
       "<style scoped>\n",
       "    .dataframe tbody tr th:only-of-type {\n",
       "        vertical-align: middle;\n",
       "    }\n",
       "\n",
       "    .dataframe tbody tr th {\n",
       "        vertical-align: top;\n",
       "    }\n",
       "\n",
       "    .dataframe thead th {\n",
       "        text-align: right;\n",
       "    }\n",
       "</style>\n",
       "<table border=\"1\" class=\"dataframe\">\n",
       "  <thead>\n",
       "    <tr style=\"text-align: right;\">\n",
       "      <th></th>\n",
       "      <th>VIF Factor</th>\n",
       "      <th>features</th>\n",
       "    </tr>\n",
       "  </thead>\n",
       "  <tbody>\n",
       "    <tr>\n",
       "      <th>0</th>\n",
       "      <td>1.0</td>\n",
       "      <td>2BDA</td>\n",
       "    </tr>\n",
       "    <tr>\n",
       "      <th>1</th>\n",
       "      <td>6.0</td>\n",
       "      <td>3BDA</td>\n",
       "    </tr>\n",
       "    <tr>\n",
       "      <th>2</th>\n",
       "      <td>6.0</td>\n",
       "      <td>NDCI</td>\n",
       "    </tr>\n",
       "  </tbody>\n",
       "</table>\n",
       "</div>"
      ],
      "text/plain": [
       "   VIF Factor features\n",
       "0         1.0     2BDA\n",
       "1         6.0     3BDA\n",
       "2         6.0     NDCI"
      ]
     },
     "execution_count": 113,
     "metadata": {},
     "output_type": "execute_result"
    }
   ],
   "source": [
    "vif.round()"
   ]
  },
  {
   "cell_type": "code",
   "execution_count": 114,
   "id": "1310a0a0",
   "metadata": {},
   "outputs": [
    {
     "name": "stdout",
     "output_type": "stream",
     "text": [
      "                                 OLS Regression Results                                \n",
      "=======================================================================================\n",
      "Dep. Variable:                  Chl-a   R-squared (uncentered):                   0.455\n",
      "Model:                            OLS   Adj. R-squared (uncentered):              0.454\n",
      "Method:                 Least Squares   F-statistic:                              413.3\n",
      "Date:                Mon, 21 Feb 2022   Prob (F-statistic):                   4.14e-195\n",
      "Time:                        16:25:54   Log-Likelihood:                         -6190.6\n",
      "No. Observations:                1487   AIC:                                  1.239e+04\n",
      "Df Residuals:                    1484   BIC:                                  1.240e+04\n",
      "Df Model:                           3                                                  \n",
      "Covariance Type:            nonrobust                                                  \n",
      "==============================================================================\n",
      "                 coef    std err          t      P>|t|      [0.025      0.975]\n",
      "------------------------------------------------------------------------------\n",
      "2BDA          13.2720      0.435     30.508      0.000      12.419      14.125\n",
      "3BDA         -66.9462      5.167    -12.957      0.000     -77.081     -56.812\n",
      "NDCI         330.8958     17.729     18.664      0.000     296.120     365.672\n",
      "==============================================================================\n",
      "Omnibus:                      865.721   Durbin-Watson:                   1.265\n",
      "Prob(Omnibus):                  0.000   Jarque-Bera (JB):             9150.168\n",
      "Skew:                           2.552   Prob(JB):                         0.00\n",
      "Kurtosis:                      14.029   Cond. No.                         45.7\n",
      "==============================================================================\n",
      "\n",
      "Notes:\n",
      "[1] R² is computed without centering (uncentered) since the model does not contain a constant.\n",
      "[2] Standard Errors assume that the covariance matrix of the errors is correctly specified.\n"
     ]
    }
   ],
   "source": [
    "#OLS model based on Three predictors (2BDA,3BDA,NDCI)\n",
    "# Extract independent variables (predictors) \n",
    "X = MergedData[X_columns]\n",
    "\n",
    "# Extract dependent variable (prediction)\n",
    "Y = MergedData['Chl-a']\n",
    "\n",
    "model = OLS(Y,X)\n",
    "results = OLS(Y,X).fit()\n",
    "print(results.summary())"
   ]
  },
  {
   "cell_type": "code",
   "execution_count": 115,
   "id": "c46903e6",
   "metadata": {},
   "outputs": [
    {
     "name": "stdout",
     "output_type": "stream",
     "text": [
      "predicted Y: 0        7.679165\n",
      "1        7.679165\n",
      "2        9.722356\n",
      "3        9.722356\n",
      "4       10.641788\n",
      "          ...    \n",
      "1482    13.859161\n",
      "1483    11.806257\n",
      "1484     7.407628\n",
      "1485     1.729101\n",
      "1486    18.343923\n",
      "Name: Yhat1, Length: 1487, dtype: float64\n",
      "original Y: 0       8.1000\n",
      "1       8.1000\n",
      "2       0.7000\n",
      "3       0.7000\n",
      "4       4.0000\n",
      "         ...  \n",
      "1482    0.2898\n",
      "1483    2.8560\n",
      "1484    7.3620\n",
      "1485    3.4640\n",
      "1486    3.2140\n",
      "Name: Chl-a, Length: 1487, dtype: float64\n"
     ]
    }
   ],
   "source": [
    "X = MergedData[X_columns]\n",
    "Y = MergedData['Chl-a']\n",
    "\n",
    "model = OLS(Y, X)\n",
    "results = OLS(Y, X).fit()\n",
    "\n",
    "# prediction\n",
    "MergedData['Yhat1'] = results.predict(X)\n",
    "print('predicted Y:', MergedData['Yhat1'])\n",
    "print('original Y:', Y)"
   ]
  },
  {
   "cell_type": "code",
   "execution_count": 116,
   "id": "db9ae25b",
   "metadata": {},
   "outputs": [
    {
     "name": "stdout",
     "output_type": "stream",
     "text": [
      "MAE: 10.218305113125215\n"
     ]
    }
   ],
   "source": [
    "mae = metrics.mean_absolute_error(Y, MergedData['Yhat1'])\n",
    "print(\"MAE:\",mae)"
   ]
  },
  {
   "cell_type": "code",
   "execution_count": 117,
   "id": "6f13966b",
   "metadata": {},
   "outputs": [],
   "source": [
    "# Threshold  Chl-a < 2"
   ]
  },
  {
   "cell_type": "code",
   "execution_count": 118,
   "id": "3e8000e6",
   "metadata": {},
   "outputs": [
    {
     "data": {
      "text/plain": [
       "(403, 25)"
      ]
     },
     "execution_count": 118,
     "metadata": {},
     "output_type": "execute_result"
    }
   ],
   "source": [
    "# MergedData: Threshold  Chl-a < 2\n",
    "MergedData2 = MergedData.loc[(MergedData[\"Chl-a\"] < 2)]\n",
    "MergedData2.shape"
   ]
  },
  {
   "cell_type": "code",
   "execution_count": 119,
   "id": "5e7b4b08",
   "metadata": {},
   "outputs": [
    {
     "data": {
      "text/html": [
       "<div>\n",
       "<style scoped>\n",
       "    .dataframe tbody tr th:only-of-type {\n",
       "        vertical-align: middle;\n",
       "    }\n",
       "\n",
       "    .dataframe tbody tr th {\n",
       "        vertical-align: top;\n",
       "    }\n",
       "\n",
       "    .dataframe thead th {\n",
       "        text-align: right;\n",
       "    }\n",
       "</style>\n",
       "<table border=\"1\" class=\"dataframe\">\n",
       "  <thead>\n",
       "    <tr style=\"text-align: right;\">\n",
       "      <th></th>\n",
       "      <th>2BDA</th>\n",
       "      <th>3BDA</th>\n",
       "      <th>NDCI</th>\n",
       "      <th>Chl-a</th>\n",
       "    </tr>\n",
       "  </thead>\n",
       "  <tbody>\n",
       "    <tr>\n",
       "      <th>count</th>\n",
       "      <td>403.000000</td>\n",
       "      <td>403.000000</td>\n",
       "      <td>403.000000</td>\n",
       "      <td>403.000000</td>\n",
       "    </tr>\n",
       "    <tr>\n",
       "      <th>mean</th>\n",
       "      <td>0.974819</td>\n",
       "      <td>-0.001078</td>\n",
       "      <td>-0.014745</td>\n",
       "      <td>1.225956</td>\n",
       "    </tr>\n",
       "    <tr>\n",
       "      <th>std</th>\n",
       "      <td>0.116309</td>\n",
       "      <td>0.199633</td>\n",
       "      <td>0.049975</td>\n",
       "      <td>0.504303</td>\n",
       "    </tr>\n",
       "    <tr>\n",
       "      <th>min</th>\n",
       "      <td>0.622257</td>\n",
       "      <td>-0.183174</td>\n",
       "      <td>-0.102083</td>\n",
       "      <td>0.050000</td>\n",
       "    </tr>\n",
       "    <tr>\n",
       "      <th>25%</th>\n",
       "      <td>0.904698</td>\n",
       "      <td>-0.104207</td>\n",
       "      <td>-0.048472</td>\n",
       "      <td>0.898500</td>\n",
       "    </tr>\n",
       "    <tr>\n",
       "      <th>50%</th>\n",
       "      <td>0.945793</td>\n",
       "      <td>-0.060402</td>\n",
       "      <td>-0.026494</td>\n",
       "      <td>1.300000</td>\n",
       "    </tr>\n",
       "    <tr>\n",
       "      <th>75%</th>\n",
       "      <td>1.005852</td>\n",
       "      <td>0.007959</td>\n",
       "      <td>0.002442</td>\n",
       "      <td>1.630200</td>\n",
       "    </tr>\n",
       "    <tr>\n",
       "      <th>max</th>\n",
       "      <td>1.452650</td>\n",
       "      <td>1.065964</td>\n",
       "      <td>0.166023</td>\n",
       "      <td>1.995200</td>\n",
       "    </tr>\n",
       "  </tbody>\n",
       "</table>\n",
       "</div>"
      ],
      "text/plain": [
       "             2BDA        3BDA        NDCI       Chl-a\n",
       "count  403.000000  403.000000  403.000000  403.000000\n",
       "mean     0.974819   -0.001078   -0.014745    1.225956\n",
       "std      0.116309    0.199633    0.049975    0.504303\n",
       "min      0.622257   -0.183174   -0.102083    0.050000\n",
       "25%      0.904698   -0.104207   -0.048472    0.898500\n",
       "50%      0.945793   -0.060402   -0.026494    1.300000\n",
       "75%      1.005852    0.007959    0.002442    1.630200\n",
       "max      1.452650    1.065964    0.166023    1.995200"
      ]
     },
     "execution_count": 119,
     "metadata": {},
     "output_type": "execute_result"
    }
   ],
   "source": [
    "# Descriptive statistics of all variables: Threshold Chl-a < 2\n",
    "list = ['2BDA', '3BDA', 'NDCI', 'Chl-a']\n",
    "MergedData2 [list].describe()"
   ]
  },
  {
   "cell_type": "code",
   "execution_count": 120,
   "id": "aab1377f",
   "metadata": {},
   "outputs": [
    {
     "name": "stderr",
     "output_type": "stream",
     "text": [
      "C:\\Users\\SarShel\\anaconda3\\envs\\geostats_env\\lib\\site-packages\\pandas\\plotting\\_matplotlib\\tools.py:331: MatplotlibDeprecationWarning: \n",
      "The is_first_col function was deprecated in Matplotlib 3.4 and will be removed two minor releases later. Use ax.get_subplotspec().is_first_col() instead.\n",
      "  if ax.is_first_col():\n"
     ]
    },
    {
     "data": {
      "image/png": "[encoded data removed]",
      "text/plain": [
       "<Figure size 892.8x288 with 3 Axes>"
      ]
     },
     "metadata": {},
     "output_type": "display_data"
    },
    {
     "name": "stdout",
     "output_type": "stream",
     "text": [
      "-0.08019749461829777 -0.07653935774437719 -0.07241483819086186\n"
     ]
    }
   ],
   "source": [
    "# Scatterplot for Chl-a vs all variables:Threshold  Chl-a < 2\n",
    "\n",
    "f,ax = plt.subplots(1,3, figsize=(4*3.1,4))\n",
    "MergedData2[['2BDA','Chl-a']].plot.scatter('2BDA','Chl-a', ax=ax[0])\n",
    "ax[0].set_xlabel('Two Band Ratio')\n",
    "ax[0].set_ylabel('Chl-a Concentration')\n",
    "r1 = np.corrcoef(MergedData2['2BDA'].values, MergedData2['Chl-a'].values)[0,1]\n",
    "\n",
    "MergedData2[['3BDA','Chl-a']].plot.scatter('3BDA','Chl-a', ax=ax[1])\n",
    "ax[1].set_xlabel('Three Band Ratio')\n",
    "ax[1].set_ylabel('Chl-a Concentration')\n",
    "r2 = np.corrcoef(MergedData2['3BDA'].values, MergedData2['Chl-a'].values)[0,1]\n",
    "\n",
    "MergedData2[['NDCI','Chl-a']].plot.scatter('NDCI','Chl-a', ax=ax[2])\n",
    "ax[2].set_xlabel('NDCI')\n",
    "ax[2].set_ylabel('Chl-a Concentration')\n",
    "r3 = np.corrcoef(MergedData2['NDCI'].values, MergedData2['Chl-a'].values)[0,1]\n",
    "\n",
    "f.tight_layout()\n",
    "plt.show()\n",
    "print(r1,r2,r3)"
   ]
  },
  {
   "cell_type": "code",
   "execution_count": 121,
   "id": "d28fb540",
   "metadata": {},
   "outputs": [
    {
     "data": {
      "text/html": [
       "<div>\n",
       "<style scoped>\n",
       "    .dataframe tbody tr th:only-of-type {\n",
       "        vertical-align: middle;\n",
       "    }\n",
       "\n",
       "    .dataframe tbody tr th {\n",
       "        vertical-align: top;\n",
       "    }\n",
       "\n",
       "    .dataframe thead th {\n",
       "        text-align: right;\n",
       "    }\n",
       "</style>\n",
       "<table border=\"1\" class=\"dataframe\">\n",
       "  <thead>\n",
       "    <tr style=\"text-align: right;\">\n",
       "      <th></th>\n",
       "      <th>2BDA</th>\n",
       "      <th>3BDA</th>\n",
       "      <th>NDCI</th>\n",
       "      <th>Chl-a</th>\n",
       "    </tr>\n",
       "  </thead>\n",
       "  <tbody>\n",
       "    <tr>\n",
       "      <th>2BDA</th>\n",
       "      <td>1.000000</td>\n",
       "      <td>0.918737</td>\n",
       "      <td>0.935062</td>\n",
       "      <td>-0.080197</td>\n",
       "    </tr>\n",
       "    <tr>\n",
       "      <th>3BDA</th>\n",
       "      <td>0.918737</td>\n",
       "      <td>1.000000</td>\n",
       "      <td>0.931568</td>\n",
       "      <td>-0.076539</td>\n",
       "    </tr>\n",
       "    <tr>\n",
       "      <th>NDCI</th>\n",
       "      <td>0.935062</td>\n",
       "      <td>0.931568</td>\n",
       "      <td>1.000000</td>\n",
       "      <td>-0.072415</td>\n",
       "    </tr>\n",
       "    <tr>\n",
       "      <th>Chl-a</th>\n",
       "      <td>-0.080197</td>\n",
       "      <td>-0.076539</td>\n",
       "      <td>-0.072415</td>\n",
       "      <td>1.000000</td>\n",
       "    </tr>\n",
       "  </tbody>\n",
       "</table>\n",
       "</div>"
      ],
      "text/plain": [
       "           2BDA      3BDA      NDCI     Chl-a\n",
       "2BDA   1.000000  0.918737  0.935062 -0.080197\n",
       "3BDA   0.918737  1.000000  0.931568 -0.076539\n",
       "NDCI   0.935062  0.931568  1.000000 -0.072415\n",
       "Chl-a -0.080197 -0.076539 -0.072415  1.000000"
      ]
     },
     "execution_count": 121,
     "metadata": {},
     "output_type": "execute_result"
    }
   ],
   "source": [
    "# Pearson Coefficient Threshold  Chl-a < 2\n",
    "MergedData2[['2BDA', '3BDA', 'NDCI', 'Chl-a']].corr(method='pearson')"
   ]
  },
  {
   "cell_type": "code",
   "execution_count": 122,
   "id": "37bbec2d",
   "metadata": {},
   "outputs": [
    {
     "data": {
      "text/html": [
       "<div>\n",
       "<style scoped>\n",
       "    .dataframe tbody tr th:only-of-type {\n",
       "        vertical-align: middle;\n",
       "    }\n",
       "\n",
       "    .dataframe tbody tr th {\n",
       "        vertical-align: top;\n",
       "    }\n",
       "\n",
       "    .dataframe thead th {\n",
       "        text-align: right;\n",
       "    }\n",
       "</style>\n",
       "<table border=\"1\" class=\"dataframe\">\n",
       "  <thead>\n",
       "    <tr style=\"text-align: right;\">\n",
       "      <th></th>\n",
       "      <th>2BDA</th>\n",
       "      <th>3BDA</th>\n",
       "      <th>NDCI</th>\n",
       "      <th>Chl-a</th>\n",
       "    </tr>\n",
       "  </thead>\n",
       "  <tbody>\n",
       "    <tr>\n",
       "      <th>2BDA</th>\n",
       "      <td>1.000000</td>\n",
       "      <td>0.960869</td>\n",
       "      <td>0.965353</td>\n",
       "      <td>-0.054386</td>\n",
       "    </tr>\n",
       "    <tr>\n",
       "      <th>3BDA</th>\n",
       "      <td>0.960869</td>\n",
       "      <td>1.000000</td>\n",
       "      <td>0.992313</td>\n",
       "      <td>-0.060035</td>\n",
       "    </tr>\n",
       "    <tr>\n",
       "      <th>NDCI</th>\n",
       "      <td>0.965353</td>\n",
       "      <td>0.992313</td>\n",
       "      <td>1.000000</td>\n",
       "      <td>-0.048525</td>\n",
       "    </tr>\n",
       "    <tr>\n",
       "      <th>Chl-a</th>\n",
       "      <td>-0.054386</td>\n",
       "      <td>-0.060035</td>\n",
       "      <td>-0.048525</td>\n",
       "      <td>1.000000</td>\n",
       "    </tr>\n",
       "  </tbody>\n",
       "</table>\n",
       "</div>"
      ],
      "text/plain": [
       "           2BDA      3BDA      NDCI     Chl-a\n",
       "2BDA   1.000000  0.960869  0.965353 -0.054386\n",
       "3BDA   0.960869  1.000000  0.992313 -0.060035\n",
       "NDCI   0.965353  0.992313  1.000000 -0.048525\n",
       "Chl-a -0.054386 -0.060035 -0.048525  1.000000"
      ]
     },
     "execution_count": 122,
     "metadata": {},
     "output_type": "execute_result"
    }
   ],
   "source": [
    "# Pearson Coefficient Threshold  Chl-a < 2\n",
    "MergedData2[['2BDA', '3BDA', 'NDCI', 'Chl-a']].corr(method='spearman')"
   ]
  },
  {
   "cell_type": "code",
   "execution_count": 123,
   "id": "2ad0eb2c",
   "metadata": {},
   "outputs": [],
   "source": [
    "# Getting column names\n",
    "X_columns = [\"2BDA\", \"3BDA\", \"NDCI\"]\n",
    "Y = MergedData2[\"Chl-a\"]"
   ]
  },
  {
   "cell_type": "code",
   "execution_count": 124,
   "id": "ee5cf34c",
   "metadata": {},
   "outputs": [
    {
     "data": {
      "text/plain": [
       "<seaborn.axisgrid.PairGrid at 0x178f4088dc8>"
      ]
     },
     "execution_count": 124,
     "metadata": {},
     "output_type": "execute_result"
    },
    {
     "data": {
      "image/png": "[encoded data removed]",
      "text/plain": [
       "<Figure size 540x540 with 12 Axes>"
      ]
     },
     "metadata": {},
     "output_type": "display_data"
    }
   ],
   "source": [
    "# Use seaborn.pairplot to plot a scatterplot matrix of independent variables (X)\n",
    "sns.pairplot(MergedData2[X_columns])"
   ]
  },
  {
   "cell_type": "code",
   "execution_count": 125,
   "id": "dc994113",
   "metadata": {},
   "outputs": [],
   "source": [
    "?variance_inflation_factor"
   ]
  },
  {
   "cell_type": "code",
   "execution_count": 126,
   "id": "62c8e7e7",
   "metadata": {},
   "outputs": [],
   "source": [
    "#Calculate VIFs on our dataset\n",
    "vif = pd.DataFrame()\n",
    "vif[\"VIF Factor\"] = [variance_inflation_factor(MergedData2[X_columns[0:3]].values, i) for i in range(MergedData2[X_columns[0:3]].shape[1])]\n",
    "vif[\"features\"] = MergedData2[X_columns[0:3]].columns"
   ]
  },
  {
   "cell_type": "code",
   "execution_count": 127,
   "id": "22502f61",
   "metadata": {},
   "outputs": [
    {
     "data": {
      "text/html": [
       "<div>\n",
       "<style scoped>\n",
       "    .dataframe tbody tr th:only-of-type {\n",
       "        vertical-align: middle;\n",
       "    }\n",
       "\n",
       "    .dataframe tbody tr th {\n",
       "        vertical-align: top;\n",
       "    }\n",
       "\n",
       "    .dataframe thead th {\n",
       "        text-align: right;\n",
       "    }\n",
       "</style>\n",
       "<table border=\"1\" class=\"dataframe\">\n",
       "  <thead>\n",
       "    <tr style=\"text-align: right;\">\n",
       "      <th></th>\n",
       "      <th>VIF Factor</th>\n",
       "      <th>features</th>\n",
       "    </tr>\n",
       "  </thead>\n",
       "  <tbody>\n",
       "    <tr>\n",
       "      <th>0</th>\n",
       "      <td>2.0</td>\n",
       "      <td>2BDA</td>\n",
       "    </tr>\n",
       "    <tr>\n",
       "      <th>1</th>\n",
       "      <td>8.0</td>\n",
       "      <td>3BDA</td>\n",
       "    </tr>\n",
       "    <tr>\n",
       "      <th>2</th>\n",
       "      <td>8.0</td>\n",
       "      <td>NDCI</td>\n",
       "    </tr>\n",
       "  </tbody>\n",
       "</table>\n",
       "</div>"
      ],
      "text/plain": [
       "   VIF Factor features\n",
       "0         2.0     2BDA\n",
       "1         8.0     3BDA\n",
       "2         8.0     NDCI"
      ]
     },
     "execution_count": 127,
     "metadata": {},
     "output_type": "execute_result"
    }
   ],
   "source": [
    "vif.round()"
   ]
  },
  {
   "cell_type": "code",
   "execution_count": 128,
   "id": "701c5c1e",
   "metadata": {},
   "outputs": [
    {
     "name": "stdout",
     "output_type": "stream",
     "text": [
      "                                 OLS Regression Results                                \n",
      "=======================================================================================\n",
      "Dep. Variable:                  Chl-a   R-squared (uncentered):                   0.854\n",
      "Model:                            OLS   Adj. R-squared (uncentered):              0.853\n",
      "Method:                 Least Squares   F-statistic:                              782.5\n",
      "Date:                Mon, 21 Feb 2022   Prob (F-statistic):                   6.16e-167\n",
      "Time:                        16:27:08   Log-Likelihood:                         -297.06\n",
      "No. Observations:                 403   AIC:                                      600.1\n",
      "Df Residuals:                     400   BIC:                                      612.1\n",
      "Df Model:                           3                                                  \n",
      "Covariance Type:            nonrobust                                                  \n",
      "==============================================================================\n",
      "                 coef    std err          t      P>|t|      [0.025      0.975]\n",
      "------------------------------------------------------------------------------\n",
      "2BDA           1.2261      0.032     37.767      0.000       1.162       1.290\n",
      "3BDA          -0.4071      0.353     -1.154      0.249      -1.100       0.286\n",
      "NDCI          -1.8978      1.365     -1.390      0.165      -4.581       0.786\n",
      "==============================================================================\n",
      "Omnibus:                       24.497   Durbin-Watson:                   1.391\n",
      "Prob(Omnibus):                  0.000   Jarque-Bera (JB):               21.860\n",
      "Skew:                          -0.501   Prob(JB):                     1.79e-05\n",
      "Kurtosis:                       2.455   Cond. No.                         54.5\n",
      "==============================================================================\n",
      "\n",
      "Notes:\n",
      "[1] R² is computed without centering (uncentered) since the model does not contain a constant.\n",
      "[2] Standard Errors assume that the covariance matrix of the errors is correctly specified.\n"
     ]
    }
   ],
   "source": [
    "#OLS model based on Three predictors (2BDA,3BDA,NDCI)/Threshold  Chl-a < 2\n",
    "# Extract independent variables (predictors) \n",
    "X = MergedData2[X_columns]\n",
    "\n",
    "# Extract dependent variable (prediction)\n",
    "Y = MergedData2['Chl-a']\n",
    "\n",
    "model = OLS(Y,X)\n",
    "results = OLS(Y,X).fit()\n",
    "print(results.summary())"
   ]
  },
  {
   "cell_type": "code",
   "execution_count": 129,
   "id": "2508886d",
   "metadata": {},
   "outputs": [
    {
     "name": "stdout",
     "output_type": "stream",
     "text": [
      "predicted Y: 2       1.243839\n",
      "3       1.243839\n",
      "6       1.232329\n",
      "7       1.232329\n",
      "10      1.223362\n",
      "          ...   \n",
      "1452    1.243906\n",
      "1453    1.243719\n",
      "1472    1.205402\n",
      "1481    1.224802\n",
      "1482    1.224807\n",
      "Name: Yhat1, Length: 403, dtype: float64\n",
      "original Y: 2       0.7000\n",
      "3       0.7000\n",
      "6       1.5000\n",
      "7       1.5000\n",
      "10      0.8000\n",
      "         ...  \n",
      "1452    1.9586\n",
      "1453    1.9586\n",
      "1472    1.9862\n",
      "1481    0.2898\n",
      "1482    0.2898\n",
      "Name: Chl-a, Length: 403, dtype: float64\n"
     ]
    },
    {
     "name": "stderr",
     "output_type": "stream",
     "text": [
      "C:\\Users\\SarShel\\anaconda3\\envs\\geostats_env\\lib\\site-packages\\ipykernel_launcher.py:8: SettingWithCopyWarning: \n",
      "A value is trying to be set on a copy of a slice from a DataFrame.\n",
      "Try using .loc[row_indexer,col_indexer] = value instead\n",
      "\n",
      "See the caveats in the documentation: https://pandas.pydata.org/pandas-docs/stable/user_guide/indexing.html#returning-a-view-versus-a-copy\n",
      "  \n"
     ]
    }
   ],
   "source": [
    "X = MergedData2[X_columns]\n",
    "Y = MergedData2['Chl-a']\n",
    "\n",
    "model = OLS(Y, X)\n",
    "results = OLS(Y, X).fit()\n",
    "\n",
    "# prediction\n",
    "MergedData2['Yhat1'] = results.predict(X)\n",
    "print('predicted Y:', MergedData2['Yhat1'])\n",
    "print('original Y:', Y)"
   ]
  },
  {
   "cell_type": "code",
   "execution_count": 130,
   "id": "3dbfefe6",
   "metadata": {},
   "outputs": [
    {
     "name": "stdout",
     "output_type": "stream",
     "text": [
      "MAE: 0.4174080676234203\n"
     ]
    }
   ],
   "source": [
    "mae = metrics.mean_absolute_error(Y, MergedData2['Yhat1'])\n",
    "print(\"MAE:\",mae)"
   ]
  },
  {
   "cell_type": "code",
   "execution_count": 131,
   "id": "32a4bfdb",
   "metadata": {},
   "outputs": [],
   "source": [
    "# Threshold 2 < Chl-a < 8"
   ]
  },
  {
   "cell_type": "code",
   "execution_count": 156,
   "id": "5f15bc13",
   "metadata": {},
   "outputs": [
    {
     "name": "stdout",
     "output_type": "stream",
     "text": [
      "      Year  Month  Day      2BDA      3BDA      NDCI        B1       B10  \\\n",
      "2     2016      6    7  0.954945 -0.070901 -0.023265  0.111821  0.001138   \n",
      "3     2016      6    7  0.954945 -0.070901 -0.023265  0.111821  0.001138   \n",
      "6     2016      6   10  0.971194 -0.033253 -0.014778  0.108666  0.000859   \n",
      "7     2016      6   10  0.971194 -0.033253 -0.014778  0.108666  0.000859   \n",
      "10    2016      6   20  1.018330  0.019627  0.009055  0.125852  0.000662   \n",
      "...    ...    ...  ...       ...       ...       ...       ...       ...   \n",
      "1474  2020      9   22  1.095754  0.117875  0.045582  0.112345  0.001859   \n",
      "1475  2020      9   22  1.095754  0.117899  0.045582  0.112345  0.001859   \n",
      "1476  2020      9   22  1.095754  0.117854  0.045582  0.112345  0.001859   \n",
      "1477  2020      9   22  1.095754  0.117854  0.045582  0.112345  0.001859   \n",
      "1480  2020      9   22  1.085224  0.110450  0.040738  0.115159  0.002100   \n",
      "\n",
      "           B11       B12  ...        B7        B8       B8A        B9  \\\n",
      "2     0.016321  0.007734  ...  0.045834  0.039707  0.042538  0.012207   \n",
      "3     0.016321  0.007734  ...  0.045834  0.039707  0.042538  0.012207   \n",
      "6     0.021738  0.016445  ...  0.044624  0.039376  0.038759  0.018293   \n",
      "7     0.021738  0.016445  ...  0.044624  0.039376  0.038759  0.018293   \n",
      "10    0.010938  0.005514  ...  0.057731  0.046831  0.047752  0.010441   \n",
      "...        ...       ...  ...       ...       ...       ...       ...   \n",
      "1474  0.012172  0.005200  ...  0.053634  0.046852  0.047559  0.023238   \n",
      "1475  0.012224  0.005200  ...  0.053531  0.046821  0.047452  0.023138   \n",
      "1476  0.012210  0.005200  ...  0.053555  0.046866  0.047545  0.023162   \n",
      "1477  0.012210  0.005200  ...  0.053555  0.046866  0.047545  0.023162   \n",
      "1480  0.012128  0.005841  ...  0.056555  0.048279  0.049393  0.026945   \n",
      "\n",
      "              X          Y         Lake Name       Date  Chl-a      Yhat1  \n",
      "2    -73.887703  41.373100       Indian Lake   6/7/2016   0.70   1.243839  \n",
      "3    -73.887703  41.373100       Indian Lake   6/7/2016   0.70   1.243839  \n",
      "6    -75.890790  43.503741       Lorton Lake  6/10/2016   1.50   1.232329  \n",
      "7    -75.890790  43.503741       Lorton Lake  6/10/2016   1.50   1.232329  \n",
      "10   -74.115898  41.442001  Beaver Dam Lake   6/20/2016   0.80   1.223362  \n",
      "...         ...        ...               ...        ...    ...        ...  \n",
      "1474 -73.696602  41.483799     Kentwood Lake  9/22/2020  32.70  36.823014  \n",
      "1475 -73.696602  41.483799     Kentwood Lake  9/22/2020  32.70  36.821226  \n",
      "1476 -73.696602  41.483799     Kentwood Lake  9/22/2020  32.70  36.824532  \n",
      "1477 -73.696602  41.483799     Kentwood Lake  9/22/2020  32.70  36.824532  \n",
      "1480 -73.591197  42.069143         Long Pond  9/22/2020  35.14  35.157650  \n",
      "\n",
      "[844 rows x 25 columns]\n"
     ]
    }
   ],
   "source": [
    "# MergedData: Threshold 2 < Chl-a < 8\n",
    "JoinFrames = [MergedData2, MergedData3]\n",
    "\n",
    "JoinData = pd.concat(JoinFrames)\n",
    "\n",
    "print(JoinData)"
   ]
  },
  {
   "cell_type": "code",
   "execution_count": 157,
   "id": "6e707717",
   "metadata": {},
   "outputs": [
    {
     "ename": "TypeError",
     "evalue": "unsupported operand type(s) for -: 'str' and 'str'",
     "output_type": "error",
     "traceback": [
      "\u001b[1;31m---------------------------------------------------------------------------\u001b[0m",
      "\u001b[1;31mTypeError\u001b[0m                                 Traceback (most recent call last)",
      "\u001b[1;32m~\\anaconda3\\envs\\geostats_env\\lib\\site-packages\\pandas\\core\\ops\\array_ops.py\u001b[0m in \u001b[0;36mna_arithmetic_op\u001b[1;34m(left, right, op, str_rep)\u001b[0m\n\u001b[0;32m    148\u001b[0m     \u001b[1;32mtry\u001b[0m\u001b[1;33m:\u001b[0m\u001b[1;33m\u001b[0m\u001b[1;33m\u001b[0m\u001b[0m\n\u001b[1;32m--> 149\u001b[1;33m         \u001b[0mresult\u001b[0m \u001b[1;33m=\u001b[0m \u001b[0mexpressions\u001b[0m\u001b[1;33m.\u001b[0m\u001b[0mevaluate\u001b[0m\u001b[1;33m(\u001b[0m\u001b[0mop\u001b[0m\u001b[1;33m,\u001b[0m \u001b[0mstr_rep\u001b[0m\u001b[1;33m,\u001b[0m \u001b[0mleft\u001b[0m\u001b[1;33m,\u001b[0m \u001b[0mright\u001b[0m\u001b[1;33m)\u001b[0m\u001b[1;33m\u001b[0m\u001b[1;33m\u001b[0m\u001b[0m\n\u001b[0m\u001b[0;32m    150\u001b[0m     \u001b[1;32mexcept\u001b[0m \u001b[0mTypeError\u001b[0m\u001b[1;33m:\u001b[0m\u001b[1;33m\u001b[0m\u001b[1;33m\u001b[0m\u001b[0m\n",
      "\u001b[1;32m~\\anaconda3\\envs\\geostats_env\\lib\\site-packages\\pandas\\core\\computation\\expressions.py\u001b[0m in \u001b[0;36mevaluate\u001b[1;34m(op, op_str, a, b, use_numexpr)\u001b[0m\n\u001b[0;32m    207\u001b[0m     \u001b[1;32mif\u001b[0m \u001b[0muse_numexpr\u001b[0m\u001b[1;33m:\u001b[0m\u001b[1;33m\u001b[0m\u001b[1;33m\u001b[0m\u001b[0m\n\u001b[1;32m--> 208\u001b[1;33m         \u001b[1;32mreturn\u001b[0m \u001b[0m_evaluate\u001b[0m\u001b[1;33m(\u001b[0m\u001b[0mop\u001b[0m\u001b[1;33m,\u001b[0m \u001b[0mop_str\u001b[0m\u001b[1;33m,\u001b[0m \u001b[0ma\u001b[0m\u001b[1;33m,\u001b[0m \u001b[0mb\u001b[0m\u001b[1;33m)\u001b[0m\u001b[1;33m\u001b[0m\u001b[1;33m\u001b[0m\u001b[0m\n\u001b[0m\u001b[0;32m    209\u001b[0m     \u001b[1;32mreturn\u001b[0m \u001b[0m_evaluate_standard\u001b[0m\u001b[1;33m(\u001b[0m\u001b[0mop\u001b[0m\u001b[1;33m,\u001b[0m \u001b[0mop_str\u001b[0m\u001b[1;33m,\u001b[0m \u001b[0ma\u001b[0m\u001b[1;33m,\u001b[0m \u001b[0mb\u001b[0m\u001b[1;33m)\u001b[0m\u001b[1;33m\u001b[0m\u001b[1;33m\u001b[0m\u001b[0m\n",
      "\u001b[1;32m~\\anaconda3\\envs\\geostats_env\\lib\\site-packages\\pandas\\core\\computation\\expressions.py\u001b[0m in \u001b[0;36m_evaluate_standard\u001b[1;34m(op, op_str, a, b)\u001b[0m\n\u001b[0;32m     69\u001b[0m     \u001b[1;32mwith\u001b[0m \u001b[0mnp\u001b[0m\u001b[1;33m.\u001b[0m\u001b[0merrstate\u001b[0m\u001b[1;33m(\u001b[0m\u001b[0mall\u001b[0m\u001b[1;33m=\u001b[0m\u001b[1;34m\"ignore\"\u001b[0m\u001b[1;33m)\u001b[0m\u001b[1;33m:\u001b[0m\u001b[1;33m\u001b[0m\u001b[1;33m\u001b[0m\u001b[0m\n\u001b[1;32m---> 70\u001b[1;33m         \u001b[1;32mreturn\u001b[0m \u001b[0mop\u001b[0m\u001b[1;33m(\u001b[0m\u001b[0ma\u001b[0m\u001b[1;33m,\u001b[0m \u001b[0mb\u001b[0m\u001b[1;33m)\u001b[0m\u001b[1;33m\u001b[0m\u001b[1;33m\u001b[0m\u001b[0m\n\u001b[0m\u001b[0;32m     71\u001b[0m \u001b[1;33m\u001b[0m\u001b[0m\n",
      "\u001b[1;31mTypeError\u001b[0m: unsupported operand type(s) for -: 'str' and 'str'",
      "\nDuring handling of the above exception, another exception occurred:\n",
      "\u001b[1;31mTypeError\u001b[0m                                 Traceback (most recent call last)",
      "\u001b[1;32m~\\AppData\\Local\\Temp/ipykernel_22372/3050484788.py\u001b[0m in \u001b[0;36m<module>\u001b[1;34m\u001b[0m\n\u001b[1;32m----> 1\u001b[1;33m \u001b[0mMergedData4\u001b[0m \u001b[1;33m=\u001b[0m \u001b[0mMergedData\u001b[0m \u001b[1;33m-\u001b[0m \u001b[0mJoinData\u001b[0m\u001b[1;33m\u001b[0m\u001b[1;33m\u001b[0m\u001b[0m\n\u001b[0m",
      "\u001b[1;32m~\\anaconda3\\envs\\geostats_env\\lib\\site-packages\\pandas\\core\\ops\\__init__.py\u001b[0m in \u001b[0;36mf\u001b[1;34m(self, other, axis, level, fill_value)\u001b[0m\n\u001b[0;32m    765\u001b[0m \u001b[1;33m\u001b[0m\u001b[0m\n\u001b[0;32m    766\u001b[0m             \u001b[0mleft\u001b[0m\u001b[1;33m,\u001b[0m \u001b[0mright\u001b[0m \u001b[1;33m=\u001b[0m \u001b[0mself\u001b[0m\u001b[1;33m.\u001b[0m\u001b[0malign\u001b[0m\u001b[1;33m(\u001b[0m\u001b[0mother\u001b[0m\u001b[1;33m,\u001b[0m \u001b[0mjoin\u001b[0m\u001b[1;33m=\u001b[0m\u001b[1;34m\"outer\"\u001b[0m\u001b[1;33m,\u001b[0m \u001b[0mlevel\u001b[0m\u001b[1;33m=\u001b[0m\u001b[0mlevel\u001b[0m\u001b[1;33m,\u001b[0m \u001b[0mcopy\u001b[0m\u001b[1;33m=\u001b[0m\u001b[1;32mFalse\u001b[0m\u001b[1;33m)\u001b[0m\u001b[1;33m\u001b[0m\u001b[1;33m\u001b[0m\u001b[0m\n\u001b[1;32m--> 767\u001b[1;33m             \u001b[0mnew_data\u001b[0m \u001b[1;33m=\u001b[0m \u001b[0mleft\u001b[0m\u001b[1;33m.\u001b[0m\u001b[0m_combine_frame\u001b[0m\u001b[1;33m(\u001b[0m\u001b[0mright\u001b[0m\u001b[1;33m,\u001b[0m \u001b[0mpass_op\u001b[0m\u001b[1;33m,\u001b[0m \u001b[0mfill_value\u001b[0m\u001b[1;33m)\u001b[0m\u001b[1;33m\u001b[0m\u001b[1;33m\u001b[0m\u001b[0m\n\u001b[0m\u001b[0;32m    768\u001b[0m             \u001b[1;32mreturn\u001b[0m \u001b[0mleft\u001b[0m\u001b[1;33m.\u001b[0m\u001b[0m_construct_result\u001b[0m\u001b[1;33m(\u001b[0m\u001b[0mnew_data\u001b[0m\u001b[1;33m)\u001b[0m\u001b[1;33m\u001b[0m\u001b[1;33m\u001b[0m\u001b[0m\n\u001b[0;32m    769\u001b[0m \u001b[1;33m\u001b[0m\u001b[0m\n",
      "\u001b[1;32m~\\anaconda3\\envs\\geostats_env\\lib\\site-packages\\pandas\\core\\frame.py\u001b[0m in \u001b[0;36m_combine_frame\u001b[1;34m(self, other, func, fill_value, level)\u001b[0m\n\u001b[0;32m   5298\u001b[0m         \u001b[1;32mif\u001b[0m \u001b[0mops\u001b[0m\u001b[1;33m.\u001b[0m\u001b[0mshould_series_dispatch\u001b[0m\u001b[1;33m(\u001b[0m\u001b[0mself\u001b[0m\u001b[1;33m,\u001b[0m \u001b[0mother\u001b[0m\u001b[1;33m,\u001b[0m \u001b[0mfunc\u001b[0m\u001b[1;33m)\u001b[0m\u001b[1;33m:\u001b[0m\u001b[1;33m\u001b[0m\u001b[1;33m\u001b[0m\u001b[0m\n\u001b[0;32m   5299\u001b[0m             \u001b[1;31m# iterate over columns\u001b[0m\u001b[1;33m\u001b[0m\u001b[1;33m\u001b[0m\u001b[1;33m\u001b[0m\u001b[0m\n\u001b[1;32m-> 5300\u001b[1;33m             \u001b[0mnew_data\u001b[0m \u001b[1;33m=\u001b[0m \u001b[0mops\u001b[0m\u001b[1;33m.\u001b[0m\u001b[0mdispatch_to_series\u001b[0m\u001b[1;33m(\u001b[0m\u001b[0mself\u001b[0m\u001b[1;33m,\u001b[0m \u001b[0mother\u001b[0m\u001b[1;33m,\u001b[0m \u001b[0m_arith_op\u001b[0m\u001b[1;33m)\u001b[0m\u001b[1;33m\u001b[0m\u001b[1;33m\u001b[0m\u001b[0m\n\u001b[0m\u001b[0;32m   5301\u001b[0m         \u001b[1;32melse\u001b[0m\u001b[1;33m:\u001b[0m\u001b[1;33m\u001b[0m\u001b[1;33m\u001b[0m\u001b[0m\n\u001b[0;32m   5302\u001b[0m             \u001b[1;32mwith\u001b[0m \u001b[0mnp\u001b[0m\u001b[1;33m.\u001b[0m\u001b[0merrstate\u001b[0m\u001b[1;33m(\u001b[0m\u001b[0mall\u001b[0m\u001b[1;33m=\u001b[0m\u001b[1;34m\"ignore\"\u001b[0m\u001b[1;33m)\u001b[0m\u001b[1;33m:\u001b[0m\u001b[1;33m\u001b[0m\u001b[1;33m\u001b[0m\u001b[0m\n",
      "\u001b[1;32m~\\anaconda3\\envs\\geostats_env\\lib\\site-packages\\pandas\\core\\ops\\__init__.py\u001b[0m in \u001b[0;36mdispatch_to_series\u001b[1;34m(left, right, func, str_rep, axis)\u001b[0m\n\u001b[0;32m    417\u001b[0m         \u001b[1;32mraise\u001b[0m \u001b[0mNotImplementedError\u001b[0m\u001b[1;33m(\u001b[0m\u001b[0mright\u001b[0m\u001b[1;33m)\u001b[0m\u001b[1;33m\u001b[0m\u001b[1;33m\u001b[0m\u001b[0m\n\u001b[0;32m    418\u001b[0m \u001b[1;33m\u001b[0m\u001b[0m\n\u001b[1;32m--> 419\u001b[1;33m     \u001b[0mnew_data\u001b[0m \u001b[1;33m=\u001b[0m \u001b[0mexpressions\u001b[0m\u001b[1;33m.\u001b[0m\u001b[0mevaluate\u001b[0m\u001b[1;33m(\u001b[0m\u001b[0mcolumn_op\u001b[0m\u001b[1;33m,\u001b[0m \u001b[0mstr_rep\u001b[0m\u001b[1;33m,\u001b[0m \u001b[0mleft\u001b[0m\u001b[1;33m,\u001b[0m \u001b[0mright\u001b[0m\u001b[1;33m)\u001b[0m\u001b[1;33m\u001b[0m\u001b[1;33m\u001b[0m\u001b[0m\n\u001b[0m\u001b[0;32m    420\u001b[0m     \u001b[1;32mreturn\u001b[0m \u001b[0mnew_data\u001b[0m\u001b[1;33m\u001b[0m\u001b[1;33m\u001b[0m\u001b[0m\n\u001b[0;32m    421\u001b[0m \u001b[1;33m\u001b[0m\u001b[0m\n",
      "\u001b[1;32m~\\anaconda3\\envs\\geostats_env\\lib\\site-packages\\pandas\\core\\computation\\expressions.py\u001b[0m in \u001b[0;36mevaluate\u001b[1;34m(op, op_str, a, b, use_numexpr)\u001b[0m\n\u001b[0;32m    206\u001b[0m     \u001b[0muse_numexpr\u001b[0m \u001b[1;33m=\u001b[0m \u001b[0muse_numexpr\u001b[0m \u001b[1;32mand\u001b[0m \u001b[0m_bool_arith_check\u001b[0m\u001b[1;33m(\u001b[0m\u001b[0mop_str\u001b[0m\u001b[1;33m,\u001b[0m \u001b[0ma\u001b[0m\u001b[1;33m,\u001b[0m \u001b[0mb\u001b[0m\u001b[1;33m)\u001b[0m\u001b[1;33m\u001b[0m\u001b[1;33m\u001b[0m\u001b[0m\n\u001b[0;32m    207\u001b[0m     \u001b[1;32mif\u001b[0m \u001b[0muse_numexpr\u001b[0m\u001b[1;33m:\u001b[0m\u001b[1;33m\u001b[0m\u001b[1;33m\u001b[0m\u001b[0m\n\u001b[1;32m--> 208\u001b[1;33m         \u001b[1;32mreturn\u001b[0m \u001b[0m_evaluate\u001b[0m\u001b[1;33m(\u001b[0m\u001b[0mop\u001b[0m\u001b[1;33m,\u001b[0m \u001b[0mop_str\u001b[0m\u001b[1;33m,\u001b[0m \u001b[0ma\u001b[0m\u001b[1;33m,\u001b[0m \u001b[0mb\u001b[0m\u001b[1;33m)\u001b[0m\u001b[1;33m\u001b[0m\u001b[1;33m\u001b[0m\u001b[0m\n\u001b[0m\u001b[0;32m    209\u001b[0m     \u001b[1;32mreturn\u001b[0m \u001b[0m_evaluate_standard\u001b[0m\u001b[1;33m(\u001b[0m\u001b[0mop\u001b[0m\u001b[1;33m,\u001b[0m \u001b[0mop_str\u001b[0m\u001b[1;33m,\u001b[0m \u001b[0ma\u001b[0m\u001b[1;33m,\u001b[0m \u001b[0mb\u001b[0m\u001b[1;33m)\u001b[0m\u001b[1;33m\u001b[0m\u001b[1;33m\u001b[0m\u001b[0m\n\u001b[0;32m    210\u001b[0m \u001b[1;33m\u001b[0m\u001b[0m\n",
      "\u001b[1;32m~\\anaconda3\\envs\\geostats_env\\lib\\site-packages\\pandas\\core\\computation\\expressions.py\u001b[0m in \u001b[0;36m_evaluate_standard\u001b[1;34m(op, op_str, a, b)\u001b[0m\n\u001b[0;32m     68\u001b[0m         \u001b[0m_store_test_result\u001b[0m\u001b[1;33m(\u001b[0m\u001b[1;32mFalse\u001b[0m\u001b[1;33m)\u001b[0m\u001b[1;33m\u001b[0m\u001b[1;33m\u001b[0m\u001b[0m\n\u001b[0;32m     69\u001b[0m     \u001b[1;32mwith\u001b[0m \u001b[0mnp\u001b[0m\u001b[1;33m.\u001b[0m\u001b[0merrstate\u001b[0m\u001b[1;33m(\u001b[0m\u001b[0mall\u001b[0m\u001b[1;33m=\u001b[0m\u001b[1;34m\"ignore\"\u001b[0m\u001b[1;33m)\u001b[0m\u001b[1;33m:\u001b[0m\u001b[1;33m\u001b[0m\u001b[1;33m\u001b[0m\u001b[0m\n\u001b[1;32m---> 70\u001b[1;33m         \u001b[1;32mreturn\u001b[0m \u001b[0mop\u001b[0m\u001b[1;33m(\u001b[0m\u001b[0ma\u001b[0m\u001b[1;33m,\u001b[0m \u001b[0mb\u001b[0m\u001b[1;33m)\u001b[0m\u001b[1;33m\u001b[0m\u001b[1;33m\u001b[0m\u001b[0m\n\u001b[0m\u001b[0;32m     71\u001b[0m \u001b[1;33m\u001b[0m\u001b[0m\n\u001b[0;32m     72\u001b[0m \u001b[1;33m\u001b[0m\u001b[0m\n",
      "\u001b[1;32m~\\anaconda3\\envs\\geostats_env\\lib\\site-packages\\pandas\\core\\ops\\__init__.py\u001b[0m in \u001b[0;36mcolumn_op\u001b[1;34m(a, b)\u001b[0m\n\u001b[0;32m    386\u001b[0m \u001b[1;33m\u001b[0m\u001b[0m\n\u001b[0;32m    387\u001b[0m         \u001b[1;32mdef\u001b[0m \u001b[0mcolumn_op\u001b[0m\u001b[1;33m(\u001b[0m\u001b[0ma\u001b[0m\u001b[1;33m,\u001b[0m \u001b[0mb\u001b[0m\u001b[1;33m)\u001b[0m\u001b[1;33m:\u001b[0m\u001b[1;33m\u001b[0m\u001b[1;33m\u001b[0m\u001b[0m\n\u001b[1;32m--> 388\u001b[1;33m             \u001b[1;32mreturn\u001b[0m \u001b[1;33m{\u001b[0m\u001b[0mi\u001b[0m\u001b[1;33m:\u001b[0m \u001b[0mfunc\u001b[0m\u001b[1;33m(\u001b[0m\u001b[0ma\u001b[0m\u001b[1;33m.\u001b[0m\u001b[0miloc\u001b[0m\u001b[1;33m[\u001b[0m\u001b[1;33m:\u001b[0m\u001b[1;33m,\u001b[0m \u001b[0mi\u001b[0m\u001b[1;33m]\u001b[0m\u001b[1;33m,\u001b[0m \u001b[0mb\u001b[0m\u001b[1;33m.\u001b[0m\u001b[0miloc\u001b[0m\u001b[1;33m[\u001b[0m\u001b[1;33m:\u001b[0m\u001b[1;33m,\u001b[0m \u001b[0mi\u001b[0m\u001b[1;33m]\u001b[0m\u001b[1;33m)\u001b[0m \u001b[1;32mfor\u001b[0m \u001b[0mi\u001b[0m \u001b[1;32min\u001b[0m \u001b[0mrange\u001b[0m\u001b[1;33m(\u001b[0m\u001b[0mlen\u001b[0m\u001b[1;33m(\u001b[0m\u001b[0ma\u001b[0m\u001b[1;33m.\u001b[0m\u001b[0mcolumns\u001b[0m\u001b[1;33m)\u001b[0m\u001b[1;33m)\u001b[0m\u001b[1;33m}\u001b[0m\u001b[1;33m\u001b[0m\u001b[1;33m\u001b[0m\u001b[0m\n\u001b[0m\u001b[0;32m    389\u001b[0m \u001b[1;33m\u001b[0m\u001b[0m\n\u001b[0;32m    390\u001b[0m     \u001b[1;32melif\u001b[0m \u001b[0misinstance\u001b[0m\u001b[1;33m(\u001b[0m\u001b[0mright\u001b[0m\u001b[1;33m,\u001b[0m \u001b[0mABCSeries\u001b[0m\u001b[1;33m)\u001b[0m \u001b[1;32mand\u001b[0m \u001b[0maxis\u001b[0m \u001b[1;33m==\u001b[0m \u001b[1;34m\"columns\"\u001b[0m\u001b[1;33m:\u001b[0m\u001b[1;33m\u001b[0m\u001b[1;33m\u001b[0m\u001b[0m\n",
      "\u001b[1;32m~\\anaconda3\\envs\\geostats_env\\lib\\site-packages\\pandas\\core\\ops\\__init__.py\u001b[0m in \u001b[0;36m<dictcomp>\u001b[1;34m(.0)\u001b[0m\n\u001b[0;32m    386\u001b[0m \u001b[1;33m\u001b[0m\u001b[0m\n\u001b[0;32m    387\u001b[0m         \u001b[1;32mdef\u001b[0m \u001b[0mcolumn_op\u001b[0m\u001b[1;33m(\u001b[0m\u001b[0ma\u001b[0m\u001b[1;33m,\u001b[0m \u001b[0mb\u001b[0m\u001b[1;33m)\u001b[0m\u001b[1;33m:\u001b[0m\u001b[1;33m\u001b[0m\u001b[1;33m\u001b[0m\u001b[0m\n\u001b[1;32m--> 388\u001b[1;33m             \u001b[1;32mreturn\u001b[0m \u001b[1;33m{\u001b[0m\u001b[0mi\u001b[0m\u001b[1;33m:\u001b[0m \u001b[0mfunc\u001b[0m\u001b[1;33m(\u001b[0m\u001b[0ma\u001b[0m\u001b[1;33m.\u001b[0m\u001b[0miloc\u001b[0m\u001b[1;33m[\u001b[0m\u001b[1;33m:\u001b[0m\u001b[1;33m,\u001b[0m \u001b[0mi\u001b[0m\u001b[1;33m]\u001b[0m\u001b[1;33m,\u001b[0m \u001b[0mb\u001b[0m\u001b[1;33m.\u001b[0m\u001b[0miloc\u001b[0m\u001b[1;33m[\u001b[0m\u001b[1;33m:\u001b[0m\u001b[1;33m,\u001b[0m \u001b[0mi\u001b[0m\u001b[1;33m]\u001b[0m\u001b[1;33m)\u001b[0m \u001b[1;32mfor\u001b[0m \u001b[0mi\u001b[0m \u001b[1;32min\u001b[0m \u001b[0mrange\u001b[0m\u001b[1;33m(\u001b[0m\u001b[0mlen\u001b[0m\u001b[1;33m(\u001b[0m\u001b[0ma\u001b[0m\u001b[1;33m.\u001b[0m\u001b[0mcolumns\u001b[0m\u001b[1;33m)\u001b[0m\u001b[1;33m)\u001b[0m\u001b[1;33m}\u001b[0m\u001b[1;33m\u001b[0m\u001b[1;33m\u001b[0m\u001b[0m\n\u001b[0m\u001b[0;32m    389\u001b[0m \u001b[1;33m\u001b[0m\u001b[0m\n\u001b[0;32m    390\u001b[0m     \u001b[1;32melif\u001b[0m \u001b[0misinstance\u001b[0m\u001b[1;33m(\u001b[0m\u001b[0mright\u001b[0m\u001b[1;33m,\u001b[0m \u001b[0mABCSeries\u001b[0m\u001b[1;33m)\u001b[0m \u001b[1;32mand\u001b[0m \u001b[0maxis\u001b[0m \u001b[1;33m==\u001b[0m \u001b[1;34m\"columns\"\u001b[0m\u001b[1;33m:\u001b[0m\u001b[1;33m\u001b[0m\u001b[1;33m\u001b[0m\u001b[0m\n",
      "\u001b[1;32m~\\anaconda3\\envs\\geostats_env\\lib\\site-packages\\pandas\\core\\ops\\common.py\u001b[0m in \u001b[0;36mnew_method\u001b[1;34m(self, other)\u001b[0m\n\u001b[0;32m     62\u001b[0m         \u001b[0mother\u001b[0m \u001b[1;33m=\u001b[0m \u001b[0mitem_from_zerodim\u001b[0m\u001b[1;33m(\u001b[0m\u001b[0mother\u001b[0m\u001b[1;33m)\u001b[0m\u001b[1;33m\u001b[0m\u001b[1;33m\u001b[0m\u001b[0m\n\u001b[0;32m     63\u001b[0m \u001b[1;33m\u001b[0m\u001b[0m\n\u001b[1;32m---> 64\u001b[1;33m         \u001b[1;32mreturn\u001b[0m \u001b[0mmethod\u001b[0m\u001b[1;33m(\u001b[0m\u001b[0mself\u001b[0m\u001b[1;33m,\u001b[0m \u001b[0mother\u001b[0m\u001b[1;33m)\u001b[0m\u001b[1;33m\u001b[0m\u001b[1;33m\u001b[0m\u001b[0m\n\u001b[0m\u001b[0;32m     65\u001b[0m \u001b[1;33m\u001b[0m\u001b[0m\n\u001b[0;32m     66\u001b[0m     \u001b[1;32mreturn\u001b[0m \u001b[0mnew_method\u001b[0m\u001b[1;33m\u001b[0m\u001b[1;33m\u001b[0m\u001b[0m\n",
      "\u001b[1;32m~\\anaconda3\\envs\\geostats_env\\lib\\site-packages\\pandas\\core\\ops\\__init__.py\u001b[0m in \u001b[0;36mwrapper\u001b[1;34m(left, right)\u001b[0m\n\u001b[0;32m    501\u001b[0m         \u001b[0mlvalues\u001b[0m \u001b[1;33m=\u001b[0m \u001b[0mextract_array\u001b[0m\u001b[1;33m(\u001b[0m\u001b[0mleft\u001b[0m\u001b[1;33m,\u001b[0m \u001b[0mextract_numpy\u001b[0m\u001b[1;33m=\u001b[0m\u001b[1;32mTrue\u001b[0m\u001b[1;33m)\u001b[0m\u001b[1;33m\u001b[0m\u001b[1;33m\u001b[0m\u001b[0m\n\u001b[0;32m    502\u001b[0m         \u001b[0mrvalues\u001b[0m \u001b[1;33m=\u001b[0m \u001b[0mextract_array\u001b[0m\u001b[1;33m(\u001b[0m\u001b[0mright\u001b[0m\u001b[1;33m,\u001b[0m \u001b[0mextract_numpy\u001b[0m\u001b[1;33m=\u001b[0m\u001b[1;32mTrue\u001b[0m\u001b[1;33m)\u001b[0m\u001b[1;33m\u001b[0m\u001b[1;33m\u001b[0m\u001b[0m\n\u001b[1;32m--> 503\u001b[1;33m         \u001b[0mresult\u001b[0m \u001b[1;33m=\u001b[0m \u001b[0marithmetic_op\u001b[0m\u001b[1;33m(\u001b[0m\u001b[0mlvalues\u001b[0m\u001b[1;33m,\u001b[0m \u001b[0mrvalues\u001b[0m\u001b[1;33m,\u001b[0m \u001b[0mop\u001b[0m\u001b[1;33m,\u001b[0m \u001b[0mstr_rep\u001b[0m\u001b[1;33m)\u001b[0m\u001b[1;33m\u001b[0m\u001b[1;33m\u001b[0m\u001b[0m\n\u001b[0m\u001b[0;32m    504\u001b[0m \u001b[1;33m\u001b[0m\u001b[0m\n\u001b[0;32m    505\u001b[0m         \u001b[1;32mreturn\u001b[0m \u001b[0m_construct_result\u001b[0m\u001b[1;33m(\u001b[0m\u001b[0mleft\u001b[0m\u001b[1;33m,\u001b[0m \u001b[0mresult\u001b[0m\u001b[1;33m,\u001b[0m \u001b[0mindex\u001b[0m\u001b[1;33m=\u001b[0m\u001b[0mleft\u001b[0m\u001b[1;33m.\u001b[0m\u001b[0mindex\u001b[0m\u001b[1;33m,\u001b[0m \u001b[0mname\u001b[0m\u001b[1;33m=\u001b[0m\u001b[0mres_name\u001b[0m\u001b[1;33m)\u001b[0m\u001b[1;33m\u001b[0m\u001b[1;33m\u001b[0m\u001b[0m\n",
      "\u001b[1;32m~\\anaconda3\\envs\\geostats_env\\lib\\site-packages\\pandas\\core\\ops\\array_ops.py\u001b[0m in \u001b[0;36marithmetic_op\u001b[1;34m(left, right, op, str_rep)\u001b[0m\n\u001b[0;32m    195\u001b[0m     \u001b[1;32melse\u001b[0m\u001b[1;33m:\u001b[0m\u001b[1;33m\u001b[0m\u001b[1;33m\u001b[0m\u001b[0m\n\u001b[0;32m    196\u001b[0m         \u001b[1;32mwith\u001b[0m \u001b[0mnp\u001b[0m\u001b[1;33m.\u001b[0m\u001b[0merrstate\u001b[0m\u001b[1;33m(\u001b[0m\u001b[0mall\u001b[0m\u001b[1;33m=\u001b[0m\u001b[1;34m\"ignore\"\u001b[0m\u001b[1;33m)\u001b[0m\u001b[1;33m:\u001b[0m\u001b[1;33m\u001b[0m\u001b[1;33m\u001b[0m\u001b[0m\n\u001b[1;32m--> 197\u001b[1;33m             \u001b[0mres_values\u001b[0m \u001b[1;33m=\u001b[0m \u001b[0mna_arithmetic_op\u001b[0m\u001b[1;33m(\u001b[0m\u001b[0mlvalues\u001b[0m\u001b[1;33m,\u001b[0m \u001b[0mrvalues\u001b[0m\u001b[1;33m,\u001b[0m \u001b[0mop\u001b[0m\u001b[1;33m,\u001b[0m \u001b[0mstr_rep\u001b[0m\u001b[1;33m)\u001b[0m\u001b[1;33m\u001b[0m\u001b[1;33m\u001b[0m\u001b[0m\n\u001b[0m\u001b[0;32m    198\u001b[0m \u001b[1;33m\u001b[0m\u001b[0m\n\u001b[0;32m    199\u001b[0m     \u001b[1;32mreturn\u001b[0m \u001b[0mres_values\u001b[0m\u001b[1;33m\u001b[0m\u001b[1;33m\u001b[0m\u001b[0m\n",
      "\u001b[1;32m~\\anaconda3\\envs\\geostats_env\\lib\\site-packages\\pandas\\core\\ops\\array_ops.py\u001b[0m in \u001b[0;36mna_arithmetic_op\u001b[1;34m(left, right, op, str_rep)\u001b[0m\n\u001b[0;32m    149\u001b[0m         \u001b[0mresult\u001b[0m \u001b[1;33m=\u001b[0m \u001b[0mexpressions\u001b[0m\u001b[1;33m.\u001b[0m\u001b[0mevaluate\u001b[0m\u001b[1;33m(\u001b[0m\u001b[0mop\u001b[0m\u001b[1;33m,\u001b[0m \u001b[0mstr_rep\u001b[0m\u001b[1;33m,\u001b[0m \u001b[0mleft\u001b[0m\u001b[1;33m,\u001b[0m \u001b[0mright\u001b[0m\u001b[1;33m)\u001b[0m\u001b[1;33m\u001b[0m\u001b[1;33m\u001b[0m\u001b[0m\n\u001b[0;32m    150\u001b[0m     \u001b[1;32mexcept\u001b[0m \u001b[0mTypeError\u001b[0m\u001b[1;33m:\u001b[0m\u001b[1;33m\u001b[0m\u001b[1;33m\u001b[0m\u001b[0m\n\u001b[1;32m--> 151\u001b[1;33m         \u001b[0mresult\u001b[0m \u001b[1;33m=\u001b[0m \u001b[0mmasked_arith_op\u001b[0m\u001b[1;33m(\u001b[0m\u001b[0mleft\u001b[0m\u001b[1;33m,\u001b[0m \u001b[0mright\u001b[0m\u001b[1;33m,\u001b[0m \u001b[0mop\u001b[0m\u001b[1;33m)\u001b[0m\u001b[1;33m\u001b[0m\u001b[1;33m\u001b[0m\u001b[0m\n\u001b[0m\u001b[0;32m    152\u001b[0m \u001b[1;33m\u001b[0m\u001b[0m\n\u001b[0;32m    153\u001b[0m     \u001b[1;32mreturn\u001b[0m \u001b[0mmissing\u001b[0m\u001b[1;33m.\u001b[0m\u001b[0mdispatch_fill_zeros\u001b[0m\u001b[1;33m(\u001b[0m\u001b[0mop\u001b[0m\u001b[1;33m,\u001b[0m \u001b[0mleft\u001b[0m\u001b[1;33m,\u001b[0m \u001b[0mright\u001b[0m\u001b[1;33m,\u001b[0m \u001b[0mresult\u001b[0m\u001b[1;33m)\u001b[0m\u001b[1;33m\u001b[0m\u001b[1;33m\u001b[0m\u001b[0m\n",
      "\u001b[1;32m~\\anaconda3\\envs\\geostats_env\\lib\\site-packages\\pandas\\core\\ops\\array_ops.py\u001b[0m in \u001b[0;36mmasked_arith_op\u001b[1;34m(x, y, op)\u001b[0m\n\u001b[0;32m     92\u001b[0m         \u001b[1;32mif\u001b[0m \u001b[0mmask\u001b[0m\u001b[1;33m.\u001b[0m\u001b[0many\u001b[0m\u001b[1;33m(\u001b[0m\u001b[1;33m)\u001b[0m\u001b[1;33m:\u001b[0m\u001b[1;33m\u001b[0m\u001b[1;33m\u001b[0m\u001b[0m\n\u001b[0;32m     93\u001b[0m             \u001b[1;32mwith\u001b[0m \u001b[0mnp\u001b[0m\u001b[1;33m.\u001b[0m\u001b[0merrstate\u001b[0m\u001b[1;33m(\u001b[0m\u001b[0mall\u001b[0m\u001b[1;33m=\u001b[0m\u001b[1;34m\"ignore\"\u001b[0m\u001b[1;33m)\u001b[0m\u001b[1;33m:\u001b[0m\u001b[1;33m\u001b[0m\u001b[1;33m\u001b[0m\u001b[0m\n\u001b[1;32m---> 94\u001b[1;33m                 \u001b[0mresult\u001b[0m\u001b[1;33m[\u001b[0m\u001b[0mmask\u001b[0m\u001b[1;33m]\u001b[0m \u001b[1;33m=\u001b[0m \u001b[0mop\u001b[0m\u001b[1;33m(\u001b[0m\u001b[0mxrav\u001b[0m\u001b[1;33m[\u001b[0m\u001b[0mmask\u001b[0m\u001b[1;33m]\u001b[0m\u001b[1;33m,\u001b[0m \u001b[0myrav\u001b[0m\u001b[1;33m[\u001b[0m\u001b[0mmask\u001b[0m\u001b[1;33m]\u001b[0m\u001b[1;33m)\u001b[0m\u001b[1;33m\u001b[0m\u001b[1;33m\u001b[0m\u001b[0m\n\u001b[0m\u001b[0;32m     95\u001b[0m \u001b[1;33m\u001b[0m\u001b[0m\n\u001b[0;32m     96\u001b[0m     \u001b[1;32melse\u001b[0m\u001b[1;33m:\u001b[0m\u001b[1;33m\u001b[0m\u001b[1;33m\u001b[0m\u001b[0m\n",
      "\u001b[1;31mTypeError\u001b[0m: unsupported operand type(s) for -: 'str' and 'str'"
     ]
    }
   ],
   "source": [
    "MergedData4 = MergedData - JoinData"
   ]
  },
  {
   "cell_type": "code",
   "execution_count": 134,
   "id": "6b8fb1b9",
   "metadata": {},
   "outputs": [
    {
     "ename": "ValueError",
     "evalue": "The truth value of a Series is ambiguous. Use a.empty, a.bool(), a.item(), a.any() or a.all().",
     "output_type": "error",
     "traceback": [
      "\u001b[1;31m---------------------------------------------------------------------------\u001b[0m",
      "\u001b[1;31mValueError\u001b[0m                                Traceback (most recent call last)",
      "\u001b[1;32m~\\AppData\\Local\\Temp/ipykernel_22372/2770318886.py\u001b[0m in \u001b[0;36m<module>\u001b[1;34m\u001b[0m\n\u001b[0;32m      1\u001b[0m \u001b[1;31m# MergedData: Threshold 2 < Chl-a < 8\u001b[0m\u001b[1;33m\u001b[0m\u001b[1;33m\u001b[0m\u001b[1;33m\u001b[0m\u001b[0m\n\u001b[1;32m----> 2\u001b[1;33m \u001b[0mMergedData3\u001b[0m \u001b[1;33m=\u001b[0m \u001b[0mMergedData\u001b[0m\u001b[1;33m.\u001b[0m\u001b[0mloc\u001b[0m\u001b[1;33m[\u001b[0m\u001b[1;33m(\u001b[0m\u001b[1;36m2\u001b[0m \u001b[1;33m<\u001b[0m \u001b[0mMergedData\u001b[0m\u001b[1;33m[\u001b[0m\u001b[1;34m\"Chl-a\"\u001b[0m\u001b[1;33m]\u001b[0m \u001b[1;33m<\u001b[0m \u001b[1;36m8\u001b[0m\u001b[1;33m)\u001b[0m\u001b[1;33m]\u001b[0m\u001b[1;33m\u001b[0m\u001b[1;33m\u001b[0m\u001b[0m\n\u001b[0m\u001b[0;32m      3\u001b[0m \u001b[0mMergedData3\u001b[0m\u001b[1;33m.\u001b[0m\u001b[0mshape\u001b[0m\u001b[1;33m\u001b[0m\u001b[1;33m\u001b[0m\u001b[0m\n",
      "\u001b[1;32m~\\anaconda3\\envs\\geostats_env\\lib\\site-packages\\pandas\\core\\generic.py\u001b[0m in \u001b[0;36m__nonzero__\u001b[1;34m(self)\u001b[0m\n\u001b[0;32m   1477\u001b[0m     \u001b[1;32mdef\u001b[0m \u001b[0m__nonzero__\u001b[0m\u001b[1;33m(\u001b[0m\u001b[0mself\u001b[0m\u001b[1;33m)\u001b[0m\u001b[1;33m:\u001b[0m\u001b[1;33m\u001b[0m\u001b[1;33m\u001b[0m\u001b[0m\n\u001b[0;32m   1478\u001b[0m         raise ValueError(\n\u001b[1;32m-> 1479\u001b[1;33m             \u001b[1;34mf\"The truth value of a {type(self).__name__} is ambiguous. \"\u001b[0m\u001b[1;33m\u001b[0m\u001b[1;33m\u001b[0m\u001b[0m\n\u001b[0m\u001b[0;32m   1480\u001b[0m             \u001b[1;34m\"Use a.empty, a.bool(), a.item(), a.any() or a.all().\"\u001b[0m\u001b[1;33m\u001b[0m\u001b[1;33m\u001b[0m\u001b[0m\n\u001b[0;32m   1481\u001b[0m         )\n",
      "\u001b[1;31mValueError\u001b[0m: The truth value of a Series is ambiguous. Use a.empty, a.bool(), a.item(), a.any() or a.all()."
     ]
    }
   ],
   "source": [
    "# MergedData: Threshold 2 < Chl-a < 8\n",
    "MergedData = pd.merge(S2Data, FieldData, on=['Y', 'X', 'Year', 'Month', 'Day'], how='inner')\n",
    "MergedData.to_csv('data_output/ThresholdCSLAP/MergedData.csv')\n",
    "  \n",
    "# displaying result\n",
    "print(MergedData)\n",
    "\n",
    "Threshold_Merged = pd.merge(MergedData2, MergedData3, on=['Y', 'X', 'Year', 'Month', 'Day'], how='outer')\n",
    "MergedData4 = MergedData - \n",
    "MergedData4.shape"
   ]
  },
  {
   "cell_type": "code",
   "execution_count": 74,
   "id": "edbc585c",
   "metadata": {},
   "outputs": [
    {
     "data": {
      "text/html": [
       "<div>\n",
       "<style scoped>\n",
       "    .dataframe tbody tr th:only-of-type {\n",
       "        vertical-align: middle;\n",
       "    }\n",
       "\n",
       "    .dataframe tbody tr th {\n",
       "        vertical-align: top;\n",
       "    }\n",
       "\n",
       "    .dataframe thead th {\n",
       "        text-align: right;\n",
       "    }\n",
       "</style>\n",
       "<table border=\"1\" class=\"dataframe\">\n",
       "  <thead>\n",
       "    <tr style=\"text-align: right;\">\n",
       "      <th></th>\n",
       "      <th>2BDA</th>\n",
       "      <th>3BDA</th>\n",
       "      <th>NDCI</th>\n",
       "      <th>Chl-a</th>\n",
       "    </tr>\n",
       "  </thead>\n",
       "  <tbody>\n",
       "    <tr>\n",
       "      <th>count</th>\n",
       "      <td>1082.000000</td>\n",
       "      <td>1082.000000</td>\n",
       "      <td>1082.000000</td>\n",
       "      <td>1082.000000</td>\n",
       "    </tr>\n",
       "    <tr>\n",
       "      <th>mean</th>\n",
       "      <td>1.003148</td>\n",
       "      <td>0.021406</td>\n",
       "      <td>-0.001436</td>\n",
       "      <td>14.006122</td>\n",
       "    </tr>\n",
       "    <tr>\n",
       "      <th>std</th>\n",
       "      <td>0.136958</td>\n",
       "      <td>0.188871</td>\n",
       "      <td>0.056143</td>\n",
       "      <td>20.339084</td>\n",
       "    </tr>\n",
       "    <tr>\n",
       "      <th>min</th>\n",
       "      <td>0.406412</td>\n",
       "      <td>-0.181705</td>\n",
       "      <td>-0.113502</td>\n",
       "      <td>2.008000</td>\n",
       "    </tr>\n",
       "    <tr>\n",
       "      <th>25%</th>\n",
       "      <td>0.921132</td>\n",
       "      <td>-0.088717</td>\n",
       "      <td>-0.040431</td>\n",
       "      <td>3.400000</td>\n",
       "    </tr>\n",
       "    <tr>\n",
       "      <th>50%</th>\n",
       "      <td>0.975644</td>\n",
       "      <td>-0.026701</td>\n",
       "      <td>-0.012293</td>\n",
       "      <td>6.200000</td>\n",
       "    </tr>\n",
       "    <tr>\n",
       "      <th>75%</th>\n",
       "      <td>1.059886</td>\n",
       "      <td>0.075093</td>\n",
       "      <td>0.028449</td>\n",
       "      <td>14.215500</td>\n",
       "    </tr>\n",
       "    <tr>\n",
       "      <th>max</th>\n",
       "      <td>2.165665</td>\n",
       "      <td>2.150818</td>\n",
       "      <td>0.368135</td>\n",
       "      <td>166.300000</td>\n",
       "    </tr>\n",
       "  </tbody>\n",
       "</table>\n",
       "</div>"
      ],
      "text/plain": [
       "              2BDA         3BDA         NDCI        Chl-a\n",
       "count  1082.000000  1082.000000  1082.000000  1082.000000\n",
       "mean      1.003148     0.021406    -0.001436    14.006122\n",
       "std       0.136958     0.188871     0.056143    20.339084\n",
       "min       0.406412    -0.181705    -0.113502     2.008000\n",
       "25%       0.921132    -0.088717    -0.040431     3.400000\n",
       "50%       0.975644    -0.026701    -0.012293     6.200000\n",
       "75%       1.059886     0.075093     0.028449    14.215500\n",
       "max       2.165665     2.150818     0.368135   166.300000"
      ]
     },
     "execution_count": 74,
     "metadata": {},
     "output_type": "execute_result"
    }
   ],
   "source": [
    "# Descriptive statistics of all variables: Threshold 2 < Chl-a < 8\n",
    "list = ['2BDA', '3BDA', 'NDCI', 'Chl-a']\n",
    "MergedData3 [list].describe()"
   ]
  },
  {
   "cell_type": "code",
   "execution_count": 75,
   "id": "98cee054",
   "metadata": {},
   "outputs": [
    {
     "name": "stderr",
     "output_type": "stream",
     "text": [
      "C:\\Users\\SarShel\\anaconda3\\envs\\geostats_env\\lib\\site-packages\\pandas\\plotting\\_matplotlib\\tools.py:331: MatplotlibDeprecationWarning: \n",
      "The is_first_col function was deprecated in Matplotlib 3.4 and will be removed two minor releases later. Use ax.get_subplotspec().is_first_col() instead.\n",
      "  if ax.is_first_col():\n"
     ]
    },
    {
     "data": {
      "image/png": "[encoded data removed]",
      "text/plain": [
       "<Figure size 892.8x288 with 3 Axes>"
      ]
     },
     "metadata": {},
     "output_type": "display_data"
    },
    {
     "name": "stdout",
     "output_type": "stream",
     "text": [
      "0.44174220767305167 0.343008159986595 0.4929219293631562\n"
     ]
    }
   ],
   "source": [
    "# Scatterplot for Chl-a vs all variables:Threshold 2 < Chl-a < 8\n",
    "\n",
    "f,ax = plt.subplots(1,3, figsize=(4*3.1,4))\n",
    "MergedData3[['2BDA','Chl-a']].plot.scatter('2BDA','Chl-a', ax=ax[0])\n",
    "ax[0].set_xlabel('Two Band Ratio')\n",
    "ax[0].set_ylabel('Chl-a Concentration')\n",
    "r1 = np.corrcoef(MergedData3['2BDA'].values, MergedData3['Chl-a'].values)[0,1]\n",
    "\n",
    "MergedData3[['3BDA','Chl-a']].plot.scatter('3BDA','Chl-a', ax=ax[1])\n",
    "ax[1].set_xlabel('Three Band Ratio')\n",
    "ax[1].set_ylabel('Chl-a Concentration')\n",
    "r2 = np.corrcoef(MergedData3['3BDA'].values, MergedData3['Chl-a'].values)[0,1]\n",
    "\n",
    "MergedData3[['NDCI','Chl-a']].plot.scatter('NDCI','Chl-a', ax=ax[2])\n",
    "ax[2].set_xlabel('NDCI')\n",
    "ax[2].set_ylabel('Chl-a Concentration')\n",
    "r3 = np.corrcoef(MergedData3['NDCI'].values, MergedData3['Chl-a'].values)[0,1]\n",
    "\n",
    "f.tight_layout()\n",
    "plt.show()\n",
    "print(r1,r2,r3)"
   ]
  },
  {
   "cell_type": "code",
   "execution_count": null,
   "id": "e67f46d4",
   "metadata": {},
   "outputs": [],
   "source": [
    "# Pearson Coefficient Threshold  2 < Chl-a < 8\n",
    "MergedData2[['2BDA', '3BDA', 'NDCI', 'Chl-a']].corr(method='pearson')"
   ]
  },
  {
   "cell_type": "code",
   "execution_count": null,
   "id": "d42bdeb8",
   "metadata": {},
   "outputs": [],
   "source": [
    "# Pearson Coefficient Threshold  2 < Chl-a < 8\n",
    "MergedData4[['2BDA', '3BDA', 'NDCI', 'Chl-a']].corr(method='spearman')"
   ]
  },
  {
   "cell_type": "code",
   "execution_count": null,
   "id": "dc998e5f",
   "metadata": {},
   "outputs": [],
   "source": [
    "# Getting column names\n",
    "X_columns = [\"2BDA\", \"3BDA\", \"NDCI\"]\n",
    "Y = MergedData4[\"Chl-a\"]"
   ]
  },
  {
   "cell_type": "code",
   "execution_count": null,
   "id": "0ee864bd",
   "metadata": {},
   "outputs": [],
   "source": [
    "# Use seaborn.pairplot to plot a scatterplot matrix of independent variables (X)\n",
    "sns.pairplot(MergedData4[X_columns])"
   ]
  },
  {
   "cell_type": "code",
   "execution_count": null,
   "id": "8d07eb62",
   "metadata": {},
   "outputs": [],
   "source": [
    "?variance_inflation_factor"
   ]
  },
  {
   "cell_type": "code",
   "execution_count": null,
   "id": "a5f284cb",
   "metadata": {},
   "outputs": [],
   "source": [
    "#Calculate VIFs on our dataset\n",
    "vif = pd.DataFrame()\n",
    "vif[\"VIF Factor\"] = [variance_inflation_factor(MergedData4[X_columns[0:3]].values, i) for i in range(MergedData4[X_columns[0:3]].shape[1])]\n",
    "vif[\"features\"] = MergedData4[X_columns[0:3]].columns"
   ]
  },
  {
   "cell_type": "code",
   "execution_count": null,
   "id": "1aa40c01",
   "metadata": {},
   "outputs": [],
   "source": [
    "vif.round()"
   ]
  },
  {
   "cell_type": "code",
   "execution_count": null,
   "id": "795f05e4",
   "metadata": {},
   "outputs": [],
   "source": [
    "#OLS model based on Three predictors (2BDA,3BDA,NDCI)/Threshold  2 < Chl-a < 8\n",
    "# Extract independent variables (predictors) \n",
    "X = MergedData4[X_columns]\n",
    "\n",
    "# Extract dependent variable (prediction)\n",
    "Y = MergedData4['Chl-a']\n",
    "\n",
    "model = OLS(Y,X)\n",
    "results = OLS(Y,X).fit()\n",
    "print(results.summary())"
   ]
  },
  {
   "cell_type": "code",
   "execution_count": null,
   "id": "1c3b803b",
   "metadata": {},
   "outputs": [],
   "source": [
    "X = MergedData4[X_columns]\n",
    "Y = MergedData4['Chl-a']\n",
    "\n",
    "model = OLS(Y, X)\n",
    "results = OLS(Y, X).fit()\n",
    "\n",
    "# prediction\n",
    "MergedData4['Yhat1'] = results.predict(X)\n",
    "print('predicted Y:', MergedData4['Yhat1'])\n",
    "print('original Y:', Y)"
   ]
  },
  {
   "cell_type": "code",
   "execution_count": null,
   "id": "1a26d9dd",
   "metadata": {},
   "outputs": [],
   "source": [
    "mae = metrics.mean_absolute_error(Y, MergedData3['Yhat1'])\n",
    "print(\"MAE:\",mae)"
   ]
  },
  {
   "cell_type": "code",
   "execution_count": null,
   "id": "57a9007b",
   "metadata": {},
   "outputs": [],
   "source": [
    "#Threshold Chl-a > 8"
   ]
  },
  {
   "cell_type": "code",
   "execution_count": 138,
   "id": "3fb6c6a5",
   "metadata": {},
   "outputs": [
    {
     "data": {
      "text/plain": [
       "(441, 25)"
      ]
     },
     "execution_count": 138,
     "metadata": {},
     "output_type": "execute_result"
    }
   ],
   "source": [
    "# MergedData: Threshold Chl-a > 8\n",
    "MergedData3 = MergedData.loc[(MergedData[\"Chl-a\"] > 8)]\n",
    "MergedData3.shape"
   ]
  },
  {
   "cell_type": "code",
   "execution_count": 139,
   "id": "2b4b2986",
   "metadata": {},
   "outputs": [
    {
     "data": {
      "text/html": [
       "<div>\n",
       "<style scoped>\n",
       "    .dataframe tbody tr th:only-of-type {\n",
       "        vertical-align: middle;\n",
       "    }\n",
       "\n",
       "    .dataframe tbody tr th {\n",
       "        vertical-align: top;\n",
       "    }\n",
       "\n",
       "    .dataframe thead th {\n",
       "        text-align: right;\n",
       "    }\n",
       "</style>\n",
       "<table border=\"1\" class=\"dataframe\">\n",
       "  <thead>\n",
       "    <tr style=\"text-align: right;\">\n",
       "      <th></th>\n",
       "      <th>2BDA</th>\n",
       "      <th>3BDA</th>\n",
       "      <th>NDCI</th>\n",
       "      <th>Chl-a</th>\n",
       "    </tr>\n",
       "  </thead>\n",
       "  <tbody>\n",
       "    <tr>\n",
       "      <th>count</th>\n",
       "      <td>441.000000</td>\n",
       "      <td>441.000000</td>\n",
       "      <td>441.000000</td>\n",
       "      <td>441.000000</td>\n",
       "    </tr>\n",
       "    <tr>\n",
       "      <th>mean</th>\n",
       "      <td>1.043218</td>\n",
       "      <td>0.067900</td>\n",
       "      <td>0.018056</td>\n",
       "      <td>28.307474</td>\n",
       "    </tr>\n",
       "    <tr>\n",
       "      <th>std</th>\n",
       "      <td>0.164171</td>\n",
       "      <td>0.216030</td>\n",
       "      <td>0.062199</td>\n",
       "      <td>25.814390</td>\n",
       "    </tr>\n",
       "    <tr>\n",
       "      <th>min</th>\n",
       "      <td>0.406412</td>\n",
       "      <td>-0.141255</td>\n",
       "      <td>-0.084683</td>\n",
       "      <td>8.068000</td>\n",
       "    </tr>\n",
       "    <tr>\n",
       "      <th>25%</th>\n",
       "      <td>0.953789</td>\n",
       "      <td>-0.046473</td>\n",
       "      <td>-0.022685</td>\n",
       "      <td>11.556000</td>\n",
       "    </tr>\n",
       "    <tr>\n",
       "      <th>50%</th>\n",
       "      <td>1.012558</td>\n",
       "      <td>0.019506</td>\n",
       "      <td>0.006901</td>\n",
       "      <td>18.546000</td>\n",
       "    </tr>\n",
       "    <tr>\n",
       "      <th>75%</th>\n",
       "      <td>1.090054</td>\n",
       "      <td>0.113746</td>\n",
       "      <td>0.042312</td>\n",
       "      <td>35.140000</td>\n",
       "    </tr>\n",
       "    <tr>\n",
       "      <th>max</th>\n",
       "      <td>2.165665</td>\n",
       "      <td>2.150818</td>\n",
       "      <td>0.368135</td>\n",
       "      <td>166.300000</td>\n",
       "    </tr>\n",
       "  </tbody>\n",
       "</table>\n",
       "</div>"
      ],
      "text/plain": [
       "             2BDA        3BDA        NDCI       Chl-a\n",
       "count  441.000000  441.000000  441.000000  441.000000\n",
       "mean     1.043218    0.067900    0.018056   28.307474\n",
       "std      0.164171    0.216030    0.062199   25.814390\n",
       "min      0.406412   -0.141255   -0.084683    8.068000\n",
       "25%      0.953789   -0.046473   -0.022685   11.556000\n",
       "50%      1.012558    0.019506    0.006901   18.546000\n",
       "75%      1.090054    0.113746    0.042312   35.140000\n",
       "max      2.165665    2.150818    0.368135  166.300000"
      ]
     },
     "execution_count": 139,
     "metadata": {},
     "output_type": "execute_result"
    }
   ],
   "source": [
    "# Descriptive statistics of all variables: Threshold Chl-a > 8\n",
    "list = ['2BDA', '3BDA', 'NDCI', 'Chl-a']\n",
    "MergedData3 [list].describe()"
   ]
  },
  {
   "cell_type": "code",
   "execution_count": 140,
   "id": "21e59fc5",
   "metadata": {},
   "outputs": [
    {
     "name": "stderr",
     "output_type": "stream",
     "text": [
      "C:\\Users\\SarShel\\anaconda3\\envs\\geostats_env\\lib\\site-packages\\pandas\\plotting\\_matplotlib\\tools.py:331: MatplotlibDeprecationWarning: \n",
      "The is_first_col function was deprecated in Matplotlib 3.4 and will be removed two minor releases later. Use ax.get_subplotspec().is_first_col() instead.\n",
      "  if ax.is_first_col():\n"
     ]
    },
    {
     "data": {
      "image/png": "[encoded data removed]",
      "text/plain": [
       "<Figure size 892.8x288 with 3 Axes>"
      ]
     },
     "metadata": {},
     "output_type": "display_data"
    },
    {
     "name": "stdout",
     "output_type": "stream",
     "text": [
      "0.4883782086851146 0.3810507231008048 0.5725302658433965\n"
     ]
    }
   ],
   "source": [
    "# Scatterplot for Chl-a vs all variables:Threshold Chl-a > 8\n",
    "\n",
    "f,ax = plt.subplots(1,3, figsize=(4*3.1,4))\n",
    "MergedData3[['2BDA','Chl-a']].plot.scatter('2BDA','Chl-a', ax=ax[0])\n",
    "ax[0].set_xlabel('Two Band Ratio')\n",
    "ax[0].set_ylabel('Chl-a Concentration')\n",
    "r1 = np.corrcoef(MergedData3['2BDA'].values, MergedData3['Chl-a'].values)[0,1]\n",
    "\n",
    "MergedData3[['3BDA','Chl-a']].plot.scatter('3BDA','Chl-a', ax=ax[1])\n",
    "ax[1].set_xlabel('Three Band Ratio')\n",
    "ax[1].set_ylabel('Chl-a Concentration')\n",
    "r2 = np.corrcoef(MergedData3['3BDA'].values, MergedData3['Chl-a'].values)[0,1]\n",
    "\n",
    "MergedData3[['NDCI','Chl-a']].plot.scatter('NDCI','Chl-a', ax=ax[2])\n",
    "ax[2].set_xlabel('NDCI')\n",
    "ax[2].set_ylabel('Chl-a Concentration')\n",
    "r3 = np.corrcoef(MergedData3['NDCI'].values, MergedData3['Chl-a'].values)[0,1]\n",
    "\n",
    "f.tight_layout()\n",
    "plt.show()\n",
    "print(r1,r2,r3)"
   ]
  },
  {
   "cell_type": "code",
   "execution_count": 141,
   "id": "65d8f4e0",
   "metadata": {},
   "outputs": [
    {
     "data": {
      "text/html": [
       "<div>\n",
       "<style scoped>\n",
       "    .dataframe tbody tr th:only-of-type {\n",
       "        vertical-align: middle;\n",
       "    }\n",
       "\n",
       "    .dataframe tbody tr th {\n",
       "        vertical-align: top;\n",
       "    }\n",
       "\n",
       "    .dataframe thead th {\n",
       "        text-align: right;\n",
       "    }\n",
       "</style>\n",
       "<table border=\"1\" class=\"dataframe\">\n",
       "  <thead>\n",
       "    <tr style=\"text-align: right;\">\n",
       "      <th></th>\n",
       "      <th>2BDA</th>\n",
       "      <th>3BDA</th>\n",
       "      <th>NDCI</th>\n",
       "      <th>Chl-a</th>\n",
       "    </tr>\n",
       "  </thead>\n",
       "  <tbody>\n",
       "    <tr>\n",
       "      <th>2BDA</th>\n",
       "      <td>1.000000</td>\n",
       "      <td>0.866738</td>\n",
       "      <td>0.939276</td>\n",
       "      <td>0.488378</td>\n",
       "    </tr>\n",
       "    <tr>\n",
       "      <th>3BDA</th>\n",
       "      <td>0.866738</td>\n",
       "      <td>1.000000</td>\n",
       "      <td>0.886099</td>\n",
       "      <td>0.381051</td>\n",
       "    </tr>\n",
       "    <tr>\n",
       "      <th>NDCI</th>\n",
       "      <td>0.939276</td>\n",
       "      <td>0.886099</td>\n",
       "      <td>1.000000</td>\n",
       "      <td>0.572530</td>\n",
       "    </tr>\n",
       "    <tr>\n",
       "      <th>Chl-a</th>\n",
       "      <td>0.488378</td>\n",
       "      <td>0.381051</td>\n",
       "      <td>0.572530</td>\n",
       "      <td>1.000000</td>\n",
       "    </tr>\n",
       "  </tbody>\n",
       "</table>\n",
       "</div>"
      ],
      "text/plain": [
       "           2BDA      3BDA      NDCI     Chl-a\n",
       "2BDA   1.000000  0.866738  0.939276  0.488378\n",
       "3BDA   0.866738  1.000000  0.886099  0.381051\n",
       "NDCI   0.939276  0.886099  1.000000  0.572530\n",
       "Chl-a  0.488378  0.381051  0.572530  1.000000"
      ]
     },
     "execution_count": 141,
     "metadata": {},
     "output_type": "execute_result"
    }
   ],
   "source": [
    "# Pearson Coefficient Threshold Chl-a > 8\n",
    "MergedData3[['2BDA', '3BDA', 'NDCI', 'Chl-a']].corr(method='pearson')"
   ]
  },
  {
   "cell_type": "code",
   "execution_count": 142,
   "id": "abe0031d",
   "metadata": {},
   "outputs": [
    {
     "data": {
      "text/html": [
       "<div>\n",
       "<style scoped>\n",
       "    .dataframe tbody tr th:only-of-type {\n",
       "        vertical-align: middle;\n",
       "    }\n",
       "\n",
       "    .dataframe tbody tr th {\n",
       "        vertical-align: top;\n",
       "    }\n",
       "\n",
       "    .dataframe thead th {\n",
       "        text-align: right;\n",
       "    }\n",
       "</style>\n",
       "<table border=\"1\" class=\"dataframe\">\n",
       "  <thead>\n",
       "    <tr style=\"text-align: right;\">\n",
       "      <th></th>\n",
       "      <th>2BDA</th>\n",
       "      <th>3BDA</th>\n",
       "      <th>NDCI</th>\n",
       "      <th>Chl-a</th>\n",
       "    </tr>\n",
       "  </thead>\n",
       "  <tbody>\n",
       "    <tr>\n",
       "      <th>2BDA</th>\n",
       "      <td>1.000000</td>\n",
       "      <td>0.969737</td>\n",
       "      <td>0.980139</td>\n",
       "      <td>0.423369</td>\n",
       "    </tr>\n",
       "    <tr>\n",
       "      <th>3BDA</th>\n",
       "      <td>0.969737</td>\n",
       "      <td>1.000000</td>\n",
       "      <td>0.989658</td>\n",
       "      <td>0.392447</td>\n",
       "    </tr>\n",
       "    <tr>\n",
       "      <th>NDCI</th>\n",
       "      <td>0.980139</td>\n",
       "      <td>0.989658</td>\n",
       "      <td>1.000000</td>\n",
       "      <td>0.433491</td>\n",
       "    </tr>\n",
       "    <tr>\n",
       "      <th>Chl-a</th>\n",
       "      <td>0.423369</td>\n",
       "      <td>0.392447</td>\n",
       "      <td>0.433491</td>\n",
       "      <td>1.000000</td>\n",
       "    </tr>\n",
       "  </tbody>\n",
       "</table>\n",
       "</div>"
      ],
      "text/plain": [
       "           2BDA      3BDA      NDCI     Chl-a\n",
       "2BDA   1.000000  0.969737  0.980139  0.423369\n",
       "3BDA   0.969737  1.000000  0.989658  0.392447\n",
       "NDCI   0.980139  0.989658  1.000000  0.433491\n",
       "Chl-a  0.423369  0.392447  0.433491  1.000000"
      ]
     },
     "execution_count": 142,
     "metadata": {},
     "output_type": "execute_result"
    }
   ],
   "source": [
    "# Pearson Coefficient Threshold Chl-a > 8\n",
    "MergedData3[['2BDA', '3BDA', 'NDCI', 'Chl-a']].corr(method='spearman')"
   ]
  },
  {
   "cell_type": "code",
   "execution_count": 143,
   "id": "fc7438d8",
   "metadata": {},
   "outputs": [],
   "source": [
    "# Getting column names\n",
    "X_columns = [\"2BDA\", \"3BDA\", \"NDCI\"]\n",
    "Y = MergedData3[\"Chl-a\"]"
   ]
  },
  {
   "cell_type": "code",
   "execution_count": 144,
   "id": "cc7910a8",
   "metadata": {},
   "outputs": [
    {
     "data": {
      "text/plain": [
       "<seaborn.axisgrid.PairGrid at 0x178f4b5e208>"
      ]
     },
     "execution_count": 144,
     "metadata": {},
     "output_type": "execute_result"
    },
    {
     "data": {
      "image/png": "[encoded data removed]",
      "text/plain": [
       "<Figure size 540x540 with 12 Axes>"
      ]
     },
     "metadata": {},
     "output_type": "display_data"
    }
   ],
   "source": [
    "# Use seaborn.pairplot to plot a scatterplot matrix of independent variables (X)\n",
    "sns.pairplot(MergedData3[X_columns])"
   ]
  },
  {
   "cell_type": "code",
   "execution_count": 145,
   "id": "c665cfca",
   "metadata": {},
   "outputs": [],
   "source": [
    "?variance_inflation_factor"
   ]
  },
  {
   "cell_type": "code",
   "execution_count": 146,
   "id": "bf133fc3",
   "metadata": {},
   "outputs": [],
   "source": [
    "#Calculate VIFs on our dataset\n",
    "vif = pd.DataFrame()\n",
    "vif[\"VIF Factor\"] = [variance_inflation_factor(MergedData3[X_columns[0:3]].values, i) for i in range(MergedData3[X_columns[0:3]].shape[1])]\n",
    "vif[\"features\"] = MergedData3[X_columns[0:3]].columns"
   ]
  },
  {
   "cell_type": "code",
   "execution_count": 147,
   "id": "59b33ace",
   "metadata": {},
   "outputs": [
    {
     "data": {
      "text/html": [
       "<div>\n",
       "<style scoped>\n",
       "    .dataframe tbody tr th:only-of-type {\n",
       "        vertical-align: middle;\n",
       "    }\n",
       "\n",
       "    .dataframe tbody tr th {\n",
       "        vertical-align: top;\n",
       "    }\n",
       "\n",
       "    .dataframe thead th {\n",
       "        text-align: right;\n",
       "    }\n",
       "</style>\n",
       "<table border=\"1\" class=\"dataframe\">\n",
       "  <thead>\n",
       "    <tr style=\"text-align: right;\">\n",
       "      <th></th>\n",
       "      <th>VIF Factor</th>\n",
       "      <th>features</th>\n",
       "    </tr>\n",
       "  </thead>\n",
       "  <tbody>\n",
       "    <tr>\n",
       "      <th>0</th>\n",
       "      <td>1.0</td>\n",
       "      <td>2BDA</td>\n",
       "    </tr>\n",
       "    <tr>\n",
       "      <th>1</th>\n",
       "      <td>5.0</td>\n",
       "      <td>3BDA</td>\n",
       "    </tr>\n",
       "    <tr>\n",
       "      <th>2</th>\n",
       "      <td>5.0</td>\n",
       "      <td>NDCI</td>\n",
       "    </tr>\n",
       "  </tbody>\n",
       "</table>\n",
       "</div>"
      ],
      "text/plain": [
       "   VIF Factor features\n",
       "0         1.0     2BDA\n",
       "1         5.0     3BDA\n",
       "2         5.0     NDCI"
      ]
     },
     "execution_count": 147,
     "metadata": {},
     "output_type": "execute_result"
    }
   ],
   "source": [
    "vif.round()"
   ]
  },
  {
   "cell_type": "code",
   "execution_count": 148,
   "id": "40bd14c2",
   "metadata": {},
   "outputs": [
    {
     "name": "stdout",
     "output_type": "stream",
     "text": [
      "                                 OLS Regression Results                                \n",
      "=======================================================================================\n",
      "Dep. Variable:                  Chl-a   R-squared (uncentered):                   0.723\n",
      "Model:                            OLS   Adj. R-squared (uncentered):              0.721\n",
      "Method:                 Least Squares   F-statistic:                              381.8\n",
      "Date:                Mon, 21 Feb 2022   Prob (F-statistic):                   8.43e-122\n",
      "Time:                        16:33:10   Log-Likelihood:                         -1949.9\n",
      "No. Observations:                 441   AIC:                                      3906.\n",
      "Df Residuals:                     438   BIC:                                      3918.\n",
      "Df Model:                           3                                                  \n",
      "Covariance Type:            nonrobust                                                  \n",
      "==============================================================================\n",
      "                 coef    std err          t      P>|t|      [0.025      0.975]\n",
      "------------------------------------------------------------------------------\n",
      "2BDA          24.7404      1.010     24.484      0.000      22.754      26.726\n",
      "3BDA         -73.0040      9.636     -7.576      0.000     -91.943     -54.065\n",
      "NDCI         401.8878     33.536     11.984      0.000     335.977     467.798\n",
      "==============================================================================\n",
      "Omnibus:                      112.211   Durbin-Watson:                   1.279\n",
      "Prob(Omnibus):                  0.000   Jarque-Bera (JB):              300.071\n",
      "Skew:                           1.228   Prob(JB):                     6.93e-66\n",
      "Kurtosis:                       6.209   Cond. No.                         38.1\n",
      "==============================================================================\n",
      "\n",
      "Notes:\n",
      "[1] R² is computed without centering (uncentered) since the model does not contain a constant.\n",
      "[2] Standard Errors assume that the covariance matrix of the errors is correctly specified.\n"
     ]
    }
   ],
   "source": [
    "#OLS model based on Three predictors (2BDA,3BDA,NDCI)\n",
    "# Extract independent variables (predictors) \n",
    "X = MergedData3[X_columns]\n",
    "\n",
    "# Extract dependent variable (prediction)\n",
    "Y = MergedData3['Chl-a']\n",
    "\n",
    "model = OLS(Y,X)\n",
    "results = OLS(Y,X).fit()\n",
    "print(results.summary())"
   ]
  },
  {
   "cell_type": "code",
   "execution_count": 149,
   "id": "360d4f96",
   "metadata": {},
   "outputs": [
    {
     "name": "stdout",
     "output_type": "stream",
     "text": [
      "predicted Y: 0       17.125671\n",
      "1       17.125671\n",
      "16      29.913146\n",
      "17      29.913146\n",
      "28      16.250184\n",
      "          ...    \n",
      "1474    36.823014\n",
      "1475    36.821226\n",
      "1476    36.824532\n",
      "1477    36.824532\n",
      "1480    35.157650\n",
      "Name: Yhat1, Length: 441, dtype: float64\n",
      "original Y: 0        8.10\n",
      "1        8.10\n",
      "16      19.50\n",
      "17      19.50\n",
      "28      12.80\n",
      "        ...  \n",
      "1474    32.70\n",
      "1475    32.70\n",
      "1476    32.70\n",
      "1477    32.70\n",
      "1480    35.14\n",
      "Name: Chl-a, Length: 441, dtype: float64\n"
     ]
    },
    {
     "name": "stderr",
     "output_type": "stream",
     "text": [
      "C:\\Users\\SarShel\\anaconda3\\envs\\geostats_env\\lib\\site-packages\\ipykernel_launcher.py:8: SettingWithCopyWarning: \n",
      "A value is trying to be set on a copy of a slice from a DataFrame.\n",
      "Try using .loc[row_indexer,col_indexer] = value instead\n",
      "\n",
      "See the caveats in the documentation: https://pandas.pydata.org/pandas-docs/stable/user_guide/indexing.html#returning-a-view-versus-a-copy\n",
      "  \n"
     ]
    }
   ],
   "source": [
    "X = MergedData3[X_columns]\n",
    "Y = MergedData3['Chl-a']\n",
    "\n",
    "model = OLS(Y, X)\n",
    "results = OLS(Y, X).fit()\n",
    "\n",
    "# prediction\n",
    "MergedData3['Yhat1'] = results.predict(X)\n",
    "print('predicted Y:', MergedData3['Yhat1'])\n",
    "print('original Y:', Y)"
   ]
  },
  {
   "cell_type": "code",
   "execution_count": 150,
   "id": "8612c994",
   "metadata": {},
   "outputs": [
    {
     "name": "stdout",
     "output_type": "stream",
     "text": [
      "MAE: 14.053856581974578\n"
     ]
    }
   ],
   "source": [
    "mae = metrics.mean_absolute_error(Y, MergedData3['Yhat1'])\n",
    "print(\"MAE:\",mae)"
   ]
  },
  {
   "cell_type": "code",
   "execution_count": 41,
   "id": "b748651e",
   "metadata": {},
   "outputs": [],
   "source": []
  },
  {
   "cell_type": "code",
   "execution_count": null,
   "id": "9b95f78e",
   "metadata": {},
   "outputs": [],
   "source": []
  }
 ],
 "metadata": {
  "kernelspec": {
   "display_name": "Python 3 (ipykernel)",
   "language": "python",
   "name": "python3"
  },
  "language_info": {
   "codemirror_mode": {
    "name": "ipython",
    "version": 3
   },
   "file_extension": ".py",
   "mimetype": "text/x-python",
   "name": "python",
   "nbconvert_exporter": "python",
   "pygments_lexer": "ipython3",
   "version": "3.7.11"
  }
 },
 "nbformat": 4,
 "nbformat_minor": 5
}
