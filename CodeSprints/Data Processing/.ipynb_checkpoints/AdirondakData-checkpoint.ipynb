{
 "cells": [
  {
   "cell_type": "code",
   "execution_count": 1,
   "id": "852c05a7",
   "metadata": {},
   "outputs": [],
   "source": [
    "import pandas as pd\n",
    "import numpy as np"
   ]
  },
  {
   "cell_type": "code",
   "execution_count": 2,
   "id": "1af32d37",
   "metadata": {},
   "outputs": [
    {
     "data": {
      "text/plain": [
       "'C:\\\\Users\\\\SarShel\\\\DEC\\\\CodeSprints\\\\Data Processing'"
      ]
     },
     "execution_count": 2,
     "metadata": {},
     "output_type": "execute_result"
    }
   ],
   "source": [
    "import os\n",
    "os.getcwd()"
   ]
  },
  {
   "cell_type": "code",
   "execution_count": 3,
   "id": "80660799",
   "metadata": {},
   "outputs": [
    {
     "data": {
      "text/plain": [
       "'C:\\\\Users\\\\SarShel\\\\DEC\\\\Data Processing\\\\Adirondak'"
      ]
     },
     "execution_count": 3,
     "metadata": {},
     "output_type": "execute_result"
    }
   ],
   "source": [
    "os.chdir('C:/Users/SarShel/DEC/Data Processing/Adirondak')\n",
    "os.getcwd()"
   ]
  },
  {
   "cell_type": "code",
   "execution_count": 6,
   "id": "4029305e",
   "metadata": {},
   "outputs": [
    {
     "name": "stdout",
     "output_type": "stream",
     "text": [
      "      Year           Waterbody   Location Strata Sampel Date Secchi (m)  \\\n",
      "0     2015          Otter Pond  Deep Hole    Epi   8/21/2015        1.5   \n",
      "1     2015          Otter Pond  Deep Hole    Epi    7/9/2015          1   \n",
      "2     2015      Twitchell Lake  Deep Hole    Epi   7/25/2015        2.9   \n",
      "3     2015      Twitchell Lake  Deep Hole    Epi   6/27/2015       2.35   \n",
      "4     2015           Lens Lake  Deep Hole    Epi   5/25/2015        VOB   \n",
      "...    ...                 ...        ...    ...         ...        ...   \n",
      "1492  2020           Lens Lake  Deep Hole    Epi   7/23/2020       1.23   \n",
      "1493  2020         Austin Pond  Deep Hole    Epi   6/27/2020        1.9   \n",
      "1494  2020          Lake Titus  Deep Hole    Epi   7/25/2020        4.6   \n",
      "1495  2020  Mountain View Lake  Deep Hole    Epi   6/27/2020        2.4   \n",
      "1496  2020            Eli Pond  Deep Hole    Epi   6/26/2020       3.66   \n",
      "\n",
      "      Lab pH  Lab Spec Cond (uS/cm)  Apparent Color (pt-Co) Chl-a (ug/L)  \\\n",
      "0       7.20                   6.74                   32.02         2.08   \n",
      "1       7.49                   6.61                   53.85          NaN   \n",
      "2       6.86                   7.31                   32.02         5.21   \n",
      "3       7.03                   8.79                   35.14         3.87   \n",
      "4       7.14                   9.86                   44.50         5.95   \n",
      "...      ...                    ...                     ...          ...   \n",
      "1492    6.43                  14.31                   66.46         6.98   \n",
      "1493    7.60                 139.50                   40.72         0.87   \n",
      "1494    6.93                  33.30                   34.29         1.53   \n",
      "1495    7.84                  75.50                   88.98         13.8   \n",
      "1496    7.22                  43.60                   27.85         3.76   \n",
      "\n",
      "      Alkalinity (mg/L) Nitrate -N (ug/L) Chloride (mg/L) TP (ug/L)  \\\n",
      "0                  1.35                14            0.62      5.61   \n",
      "1                  1.56              1.05            0.67       8.8   \n",
      "2                  0.97               BDL            0.41      12.4   \n",
      "3                  1.05              60.8            0.37      5.27   \n",
      "4                  1.84               BDL            0.76      10.7   \n",
      "...                 ...               ...             ...       ...   \n",
      "1492                NaN               NaN             NaN      32.7   \n",
      "1493                NaN               NaN             NaN      33.3   \n",
      "1494                NaN               NaN             NaN      36.9   \n",
      "1495                NaN               NaN             NaN      39.7   \n",
      "1496                NaN               NaN             NaN        46   \n",
      "\n",
      "      Na (mg/L)  Ca (mg/L) Source  \n",
      "0          0.33       0.81   ALAP  \n",
      "1          0.33       0.82   ALAP  \n",
      "2          0.41       0.90   ALAP  \n",
      "3          0.54       1.00   ALAP  \n",
      "4          0.74       1.03   ALAP  \n",
      "...         ...        ...    ...  \n",
      "1492        NaN        NaN   ALAP  \n",
      "1493        NaN        NaN   ALAP  \n",
      "1494        NaN        NaN   ALAP  \n",
      "1495        NaN        NaN   ALAP  \n",
      "1496        NaN        NaN   ALAP  \n",
      "\n",
      "[1497 rows x 17 columns]\n"
     ]
    }
   ],
   "source": [
    "# Read S2 dataset \n",
    "Data = pd.read_csv('Data.csv')\n",
    "\n",
    "# Remove none values\n",
    "#S2Data = Data1.dropna()\n",
    "\n",
    "# Display the first few rows of our DataFrame\n",
    "Data.head()\n",
    "print(Data)"
   ]
  },
  {
   "cell_type": "code",
   "execution_count": 8,
   "id": "70ececf2",
   "metadata": {},
   "outputs": [
    {
     "name": "stdout",
     "output_type": "stream",
     "text": [
      "         Waterbody Name   Latitude  Longitude        County          Town  \\\n",
      "0            Amber Lake  44.400339 -74.617543  St. Lawrence     Hopkinton   \n",
      "1          Arbutus Lake  43.987874 -74.241701         Essex       Newcomb   \n",
      "2            Augur Lake  44.460665 -73.492557         Essex  Chesterfield   \n",
      "3           Austin Pond  43.676423 -73.964335        Warren     Johnsburg   \n",
      "4        Big Moose Lake  43.834914 -74.835959      Herkimer          Webb   \n",
      "..                  ...        ...        ...           ...           ...   \n",
      "86  Upper St Regis Lake  44.408394 -74.285134      Franklin      Brighton   \n",
      "87     West Caroga Lake  43.137154 -74.495462        Fulton        Caroga   \n",
      "88           White Lake  43.543891 -75.152214        Oneida    Forestport   \n",
      "89        Windover Lake  43.632604 -74.012938        Warren     Johnsburg   \n",
      "90            Wolf Lake  44.020581 -74.219673         Essex       Newcomb   \n",
      "\n",
      "   Waterbody Type   Location  Waterbody_Index  Elevation  Surface Area (ha)  \\\n",
      "0            Lake  Deep Hole              NaN        NaN               43.9   \n",
      "1            Lake  Deep Hole              NaN        NaN               49.0   \n",
      "2            Lake  Deep Hole              NaN        NaN              152.7   \n",
      "3            Lake  Deep Hole              NaN        NaN               12.1   \n",
      "4            Lake  Deep Hole              NaN        NaN              500.0   \n",
      "..            ...        ...              ...        ...                ...   \n",
      "86           Lake  Deep Hole              NaN        NaN              291.5   \n",
      "87           Lake  Deep Hole              NaN        NaN              128.9   \n",
      "88           Lake  Deep Hole              NaN        NaN               99.1   \n",
      "89           Lake  Deep Hole              NaN        NaN               35.1   \n",
      "90           Lake  Deep Hole              NaN        NaN               57.3   \n",
      "\n",
      "    Shoreline Length (km)  Watershed Area (ha)  Depth Max (m)  \n",
      "0                     4.1                301.1            2.1  \n",
      "1                     5.2                349.9            8.4  \n",
      "2                    11.7               3141.4            6.4  \n",
      "3                     2.7                133.6            NaN  \n",
      "4                    30.7               9638.8           21.3  \n",
      "..                    ...                  ...            ...  \n",
      "86                   19.9               1800.5           20.1  \n",
      "87                    5.0               1481.7           21.3  \n",
      "88                    9.8                346.5           22.9  \n",
      "89                    4.3               2021.0            3.1  \n",
      "90                    6.7                650.3            NaN  \n",
      "\n",
      "[91 rows x 13 columns]\n"
     ]
    }
   ],
   "source": [
    "# Read Field dataset \n",
    "Metadata = pd.read_csv('Metadata.csv')\n",
    "\n",
    "# Remove none values\n",
    "#FieldData = Data2.dropna()\n",
    "\n",
    "# Display the first few rows of our DataFrame\n",
    "Metadata.head()\n",
    "print(Metadata)"
   ]
  },
  {
   "cell_type": "code",
   "execution_count": 10,
   "id": "a9ccad90",
   "metadata": {},
   "outputs": [
    {
     "ename": "KeyError",
     "evalue": "'Waterbody'",
     "output_type": "error",
     "traceback": [
      "\u001b[1;31m---------------------------------------------------------------------------\u001b[0m",
      "\u001b[1;31mKeyError\u001b[0m                                  Traceback (most recent call last)",
      "\u001b[1;32m~\\AppData\\Local\\Temp/ipykernel_6312/2734304653.py\u001b[0m in \u001b[0;36m<module>\u001b[1;34m\u001b[0m\n\u001b[0;32m      1\u001b[0m \u001b[1;31m# Using merge function by setting how='inner'\u001b[0m\u001b[1;33m\u001b[0m\u001b[1;33m\u001b[0m\u001b[1;33m\u001b[0m\u001b[0m\n\u001b[1;32m----> 2\u001b[1;33m \u001b[0mFieldData\u001b[0m \u001b[1;33m=\u001b[0m \u001b[0mpd\u001b[0m\u001b[1;33m.\u001b[0m\u001b[0mmerge\u001b[0m\u001b[1;33m(\u001b[0m\u001b[0mData\u001b[0m\u001b[1;33m,\u001b[0m \u001b[0mMetadata\u001b[0m\u001b[1;33m,\u001b[0m \u001b[0mon\u001b[0m\u001b[1;33m=\u001b[0m\u001b[1;33m[\u001b[0m\u001b[1;34m'Waterbody'\u001b[0m\u001b[1;33m,\u001b[0m \u001b[1;34m'Location'\u001b[0m\u001b[1;33m]\u001b[0m\u001b[1;33m,\u001b[0m \u001b[0mhow\u001b[0m\u001b[1;33m=\u001b[0m\u001b[1;34m'inner'\u001b[0m\u001b[1;33m)\u001b[0m\u001b[1;33m\u001b[0m\u001b[1;33m\u001b[0m\u001b[0m\n\u001b[0m\u001b[0;32m      3\u001b[0m \u001b[0mMergedData\u001b[0m\u001b[1;33m.\u001b[0m\u001b[0mto_csv\u001b[0m\u001b[1;33m(\u001b[0m\u001b[1;34m'FieldData.csv'\u001b[0m\u001b[1;33m)\u001b[0m\u001b[1;33m\u001b[0m\u001b[1;33m\u001b[0m\u001b[0m\n\u001b[0;32m      4\u001b[0m \u001b[1;33m\u001b[0m\u001b[0m\n\u001b[0;32m      5\u001b[0m \u001b[1;31m# displaying result\u001b[0m\u001b[1;33m\u001b[0m\u001b[1;33m\u001b[0m\u001b[1;33m\u001b[0m\u001b[0m\n",
      "\u001b[1;32m~\\anaconda3\\envs\\geostats_env\\lib\\site-packages\\pandas\\core\\reshape\\merge.py\u001b[0m in \u001b[0;36mmerge\u001b[1;34m(left, right, how, on, left_on, right_on, left_index, right_index, sort, suffixes, copy, indicator, validate)\u001b[0m\n\u001b[0;32m     84\u001b[0m         \u001b[0mcopy\u001b[0m\u001b[1;33m=\u001b[0m\u001b[0mcopy\u001b[0m\u001b[1;33m,\u001b[0m\u001b[1;33m\u001b[0m\u001b[1;33m\u001b[0m\u001b[0m\n\u001b[0;32m     85\u001b[0m         \u001b[0mindicator\u001b[0m\u001b[1;33m=\u001b[0m\u001b[0mindicator\u001b[0m\u001b[1;33m,\u001b[0m\u001b[1;33m\u001b[0m\u001b[1;33m\u001b[0m\u001b[0m\n\u001b[1;32m---> 86\u001b[1;33m         \u001b[0mvalidate\u001b[0m\u001b[1;33m=\u001b[0m\u001b[0mvalidate\u001b[0m\u001b[1;33m,\u001b[0m\u001b[1;33m\u001b[0m\u001b[1;33m\u001b[0m\u001b[0m\n\u001b[0m\u001b[0;32m     87\u001b[0m     )\n\u001b[0;32m     88\u001b[0m     \u001b[1;32mreturn\u001b[0m \u001b[0mop\u001b[0m\u001b[1;33m.\u001b[0m\u001b[0mget_result\u001b[0m\u001b[1;33m(\u001b[0m\u001b[1;33m)\u001b[0m\u001b[1;33m\u001b[0m\u001b[1;33m\u001b[0m\u001b[0m\n",
      "\u001b[1;32m~\\anaconda3\\envs\\geostats_env\\lib\\site-packages\\pandas\\core\\reshape\\merge.py\u001b[0m in \u001b[0;36m__init__\u001b[1;34m(self, left, right, how, on, left_on, right_on, axis, left_index, right_index, sort, suffixes, copy, indicator, validate)\u001b[0m\n\u001b[0;32m    625\u001b[0m             \u001b[0mself\u001b[0m\u001b[1;33m.\u001b[0m\u001b[0mright_join_keys\u001b[0m\u001b[1;33m,\u001b[0m\u001b[1;33m\u001b[0m\u001b[1;33m\u001b[0m\u001b[0m\n\u001b[0;32m    626\u001b[0m             \u001b[0mself\u001b[0m\u001b[1;33m.\u001b[0m\u001b[0mjoin_names\u001b[0m\u001b[1;33m,\u001b[0m\u001b[1;33m\u001b[0m\u001b[1;33m\u001b[0m\u001b[0m\n\u001b[1;32m--> 627\u001b[1;33m         ) = self._get_merge_keys()\n\u001b[0m\u001b[0;32m    628\u001b[0m \u001b[1;33m\u001b[0m\u001b[0m\n\u001b[0;32m    629\u001b[0m         \u001b[1;31m# validate the merge keys dtypes. We may need to coerce\u001b[0m\u001b[1;33m\u001b[0m\u001b[1;33m\u001b[0m\u001b[1;33m\u001b[0m\u001b[0m\n",
      "\u001b[1;32m~\\anaconda3\\envs\\geostats_env\\lib\\site-packages\\pandas\\core\\reshape\\merge.py\u001b[0m in \u001b[0;36m_get_merge_keys\u001b[1;34m(self)\u001b[0m\n\u001b[0;32m    981\u001b[0m                     \u001b[1;32mif\u001b[0m \u001b[1;32mnot\u001b[0m \u001b[0mis_rkey\u001b[0m\u001b[1;33m(\u001b[0m\u001b[0mrk\u001b[0m\u001b[1;33m)\u001b[0m\u001b[1;33m:\u001b[0m\u001b[1;33m\u001b[0m\u001b[1;33m\u001b[0m\u001b[0m\n\u001b[0;32m    982\u001b[0m                         \u001b[1;32mif\u001b[0m \u001b[0mrk\u001b[0m \u001b[1;32mis\u001b[0m \u001b[1;32mnot\u001b[0m \u001b[1;32mNone\u001b[0m\u001b[1;33m:\u001b[0m\u001b[1;33m\u001b[0m\u001b[1;33m\u001b[0m\u001b[0m\n\u001b[1;32m--> 983\u001b[1;33m                             \u001b[0mright_keys\u001b[0m\u001b[1;33m.\u001b[0m\u001b[0mappend\u001b[0m\u001b[1;33m(\u001b[0m\u001b[0mright\u001b[0m\u001b[1;33m.\u001b[0m\u001b[0m_get_label_or_level_values\u001b[0m\u001b[1;33m(\u001b[0m\u001b[0mrk\u001b[0m\u001b[1;33m)\u001b[0m\u001b[1;33m)\u001b[0m\u001b[1;33m\u001b[0m\u001b[1;33m\u001b[0m\u001b[0m\n\u001b[0m\u001b[0;32m    984\u001b[0m                         \u001b[1;32melse\u001b[0m\u001b[1;33m:\u001b[0m\u001b[1;33m\u001b[0m\u001b[1;33m\u001b[0m\u001b[0m\n\u001b[0;32m    985\u001b[0m                             \u001b[1;31m# work-around for merge_asof(right_index=True)\u001b[0m\u001b[1;33m\u001b[0m\u001b[1;33m\u001b[0m\u001b[1;33m\u001b[0m\u001b[0m\n",
      "\u001b[1;32m~\\anaconda3\\envs\\geostats_env\\lib\\site-packages\\pandas\\core\\generic.py\u001b[0m in \u001b[0;36m_get_label_or_level_values\u001b[1;34m(self, key, axis)\u001b[0m\n\u001b[0;32m   1690\u001b[0m             \u001b[0mvalues\u001b[0m \u001b[1;33m=\u001b[0m \u001b[0mself\u001b[0m\u001b[1;33m.\u001b[0m\u001b[0maxes\u001b[0m\u001b[1;33m[\u001b[0m\u001b[0maxis\u001b[0m\u001b[1;33m]\u001b[0m\u001b[1;33m.\u001b[0m\u001b[0mget_level_values\u001b[0m\u001b[1;33m(\u001b[0m\u001b[0mkey\u001b[0m\u001b[1;33m)\u001b[0m\u001b[1;33m.\u001b[0m\u001b[0m_values\u001b[0m\u001b[1;33m\u001b[0m\u001b[1;33m\u001b[0m\u001b[0m\n\u001b[0;32m   1691\u001b[0m         \u001b[1;32melse\u001b[0m\u001b[1;33m:\u001b[0m\u001b[1;33m\u001b[0m\u001b[1;33m\u001b[0m\u001b[0m\n\u001b[1;32m-> 1692\u001b[1;33m             \u001b[1;32mraise\u001b[0m \u001b[0mKeyError\u001b[0m\u001b[1;33m(\u001b[0m\u001b[0mkey\u001b[0m\u001b[1;33m)\u001b[0m\u001b[1;33m\u001b[0m\u001b[1;33m\u001b[0m\u001b[0m\n\u001b[0m\u001b[0;32m   1693\u001b[0m \u001b[1;33m\u001b[0m\u001b[0m\n\u001b[0;32m   1694\u001b[0m         \u001b[1;31m# Check for duplicates\u001b[0m\u001b[1;33m\u001b[0m\u001b[1;33m\u001b[0m\u001b[1;33m\u001b[0m\u001b[0m\n",
      "\u001b[1;31mKeyError\u001b[0m: 'Waterbody'"
     ]
    }
   ],
   "source": [
    "# Using merge function by setting how='inner'\n",
    "FieldData = pd.merge(Data, Metadata, on=['Waterbody', 'Location'], how='inner')\n",
    "MergedData.to_csv('FieldData.csv')\n",
    "  \n",
    "# displaying result\n",
    "print(MergedData)"
   ]
  },
  {
   "cell_type": "code",
   "execution_count": null,
   "id": "4b25ba86",
   "metadata": {},
   "outputs": [],
   "source": []
  }
 ],
 "metadata": {
  "kernelspec": {
   "display_name": "Python 3 (ipykernel)",
   "language": "python",
   "name": "python3"
  },
  "language_info": {
   "codemirror_mode": {
    "name": "ipython",
    "version": 3
   },
   "file_extension": ".py",
   "mimetype": "text/x-python",
   "name": "python",
   "nbconvert_exporter": "python",
   "pygments_lexer": "ipython3",
   "version": "3.7.11"
  }
 },
 "nbformat": 4,
 "nbformat_minor": 5
}
